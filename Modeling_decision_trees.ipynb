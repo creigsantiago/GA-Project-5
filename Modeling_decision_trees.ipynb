{
 "cells": [
  {
   "cell_type": "markdown",
   "id": "77b5fac9",
   "metadata": {},
   "source": [
    "# Project- 5"
   ]
  },
  {
   "cell_type": "markdown",
   "id": "e858afbc",
   "metadata": {},
   "source": [
    "### Import Libraries"
   ]
  },
  {
   "cell_type": "code",
   "execution_count": 273,
   "id": "a3ba0003",
   "metadata": {},
   "outputs": [],
   "source": [
    "import pandas as pd\n",
    "import numpy as np\n",
    "from sklearn.ensemble import RandomForestClassifier, ExtraTreesClassifier\n",
    "from sklearn.model_selection import cross_val_score, train_test_split, GridSearchCV\n",
    "from sklearn.preprocessing import OneHotEncoder"
   ]
  },
  {
   "cell_type": "markdown",
   "id": "9a1baf65",
   "metadata": {},
   "source": [
    "### Load Data"
   ]
  },
  {
   "cell_type": "code",
   "execution_count": 274,
   "id": "80b2bdf3",
   "metadata": {},
   "outputs": [
    {
     "data": {
      "text/html": [
       "<div>\n",
       "<style scoped>\n",
       "    .dataframe tbody tr th:only-of-type {\n",
       "        vertical-align: middle;\n",
       "    }\n",
       "\n",
       "    .dataframe tbody tr th {\n",
       "        vertical-align: top;\n",
       "    }\n",
       "\n",
       "    .dataframe thead th {\n",
       "        text-align: right;\n",
       "    }\n",
       "</style>\n",
       "<table border=\"1\" class=\"dataframe\">\n",
       "  <thead>\n",
       "    <tr style=\"text-align: right;\">\n",
       "      <th></th>\n",
       "      <th>Unnamed: 0</th>\n",
       "      <th>dist</th>\n",
       "      <th>cong</th>\n",
       "      <th>gender</th>\n",
       "      <th>birthyr</th>\n",
       "      <th>age</th>\n",
       "      <th>educ</th>\n",
       "      <th>race</th>\n",
       "      <th>faminc</th>\n",
       "      <th>marstat</th>\n",
       "      <th>newsint</th>\n",
       "      <th>approval_gov</th>\n",
       "      <th>ideo5</th>\n",
       "      <th>voted_gov</th>\n",
       "    </tr>\n",
       "  </thead>\n",
       "  <tbody>\n",
       "    <tr>\n",
       "      <th>0</th>\n",
       "      <td>392782</td>\n",
       "      <td>19</td>\n",
       "      <td>115</td>\n",
       "      <td>Female</td>\n",
       "      <td>1964</td>\n",
       "      <td>54</td>\n",
       "      <td>4-Year</td>\n",
       "      <td>White</td>\n",
       "      <td>50k - 60k</td>\n",
       "      <td>Single / Never Married</td>\n",
       "      <td>Most of the time</td>\n",
       "      <td>Strongly Approve</td>\n",
       "      <td>Liberal</td>\n",
       "      <td>[Democrat / Candidate 1]</td>\n",
       "    </tr>\n",
       "    <tr>\n",
       "      <th>1</th>\n",
       "      <td>392786</td>\n",
       "      <td>52</td>\n",
       "      <td>115</td>\n",
       "      <td>Female</td>\n",
       "      <td>1990</td>\n",
       "      <td>28</td>\n",
       "      <td>Some College</td>\n",
       "      <td>White</td>\n",
       "      <td>20k - 30k</td>\n",
       "      <td>Single / Never Married</td>\n",
       "      <td>Most of the time</td>\n",
       "      <td>Strongly Approve</td>\n",
       "      <td>Liberal</td>\n",
       "      <td>[Democrat / Candidate 1]</td>\n",
       "    </tr>\n",
       "    <tr>\n",
       "      <th>2</th>\n",
       "      <td>392800</td>\n",
       "      <td>49</td>\n",
       "      <td>115</td>\n",
       "      <td>Male</td>\n",
       "      <td>1932</td>\n",
       "      <td>86</td>\n",
       "      <td>Post-Grad</td>\n",
       "      <td>White</td>\n",
       "      <td>120k - 150k</td>\n",
       "      <td>Widowed</td>\n",
       "      <td>Most of the time</td>\n",
       "      <td>Strongly Disapprove</td>\n",
       "      <td>Very Conservative</td>\n",
       "      <td>[Republican / Candidate 2]</td>\n",
       "    </tr>\n",
       "    <tr>\n",
       "      <th>3</th>\n",
       "      <td>392832</td>\n",
       "      <td>36</td>\n",
       "      <td>115</td>\n",
       "      <td>Male</td>\n",
       "      <td>1938</td>\n",
       "      <td>80</td>\n",
       "      <td>Some College</td>\n",
       "      <td>White</td>\n",
       "      <td>20k - 30k</td>\n",
       "      <td>Widowed</td>\n",
       "      <td>Most of the time</td>\n",
       "      <td>Strongly Disapprove</td>\n",
       "      <td>Conservative</td>\n",
       "      <td>[Republican / Candidate 2]</td>\n",
       "    </tr>\n",
       "    <tr>\n",
       "      <th>4</th>\n",
       "      <td>392860</td>\n",
       "      <td>36</td>\n",
       "      <td>115</td>\n",
       "      <td>Male</td>\n",
       "      <td>1935</td>\n",
       "      <td>83</td>\n",
       "      <td>4-Year</td>\n",
       "      <td>White</td>\n",
       "      <td>Prefer not to say</td>\n",
       "      <td>Married</td>\n",
       "      <td>Most of the time</td>\n",
       "      <td>Strongly Disapprove</td>\n",
       "      <td>Conservative</td>\n",
       "      <td>[Republican / Candidate 2]</td>\n",
       "    </tr>\n",
       "  </tbody>\n",
       "</table>\n",
       "</div>"
      ],
      "text/plain": [
       "   Unnamed: 0  dist  cong  gender  birthyr  age          educ   race  \\\n",
       "0      392782    19   115  Female     1964   54        4-Year  White   \n",
       "1      392786    52   115  Female     1990   28  Some College  White   \n",
       "2      392800    49   115    Male     1932   86     Post-Grad  White   \n",
       "3      392832    36   115    Male     1938   80  Some College  White   \n",
       "4      392860    36   115    Male     1935   83        4-Year  White   \n",
       "\n",
       "              faminc                 marstat           newsint  \\\n",
       "0          50k - 60k  Single / Never Married  Most of the time   \n",
       "1          20k - 30k  Single / Never Married  Most of the time   \n",
       "2        120k - 150k                 Widowed  Most of the time   \n",
       "3          20k - 30k                 Widowed  Most of the time   \n",
       "4  Prefer not to say                 Married  Most of the time   \n",
       "\n",
       "          approval_gov              ideo5                   voted_gov  \n",
       "0     Strongly Approve            Liberal    [Democrat / Candidate 1]  \n",
       "1     Strongly Approve            Liberal    [Democrat / Candidate 1]  \n",
       "2  Strongly Disapprove  Very Conservative  [Republican / Candidate 2]  \n",
       "3  Strongly Disapprove       Conservative  [Republican / Candidate 2]  \n",
       "4  Strongly Disapprove       Conservative  [Republican / Candidate 2]  "
      ]
     },
     "execution_count": 274,
     "metadata": {},
     "output_type": "execute_result"
    }
   ],
   "source": [
    "# read data\n",
    "df=pd.read_csv('./data/2018_gov.csv')\n",
    "df.head()"
   ]
  },
  {
   "cell_type": "code",
   "execution_count": 275,
   "id": "9928672d",
   "metadata": {},
   "outputs": [
    {
     "data": {
      "text/plain": [
       "(3752, 14)"
      ]
     },
     "execution_count": 275,
     "metadata": {},
     "output_type": "execute_result"
    }
   ],
   "source": [
    "df.shape"
   ]
  },
  {
   "cell_type": "code",
   "execution_count": 276,
   "id": "61c376f7",
   "metadata": {},
   "outputs": [],
   "source": [
    "# drop unnamed: 0, birthyr and cong columns \n",
    "# (age column and birthyr show the same information, cong has one category so can't be used as a variable)\n",
    "df=df.drop(columns=['Unnamed: 0', 'birthyr', 'cong'])"
   ]
  },
  {
   "cell_type": "code",
   "execution_count": 277,
   "id": "dbe133c8",
   "metadata": {},
   "outputs": [
    {
     "name": "stdout",
     "output_type": "stream",
     "text": [
      "<class 'pandas.core.frame.DataFrame'>\n",
      "RangeIndex: 3752 entries, 0 to 3751\n",
      "Data columns (total 11 columns):\n",
      " #   Column        Non-Null Count  Dtype \n",
      "---  ------        --------------  ----- \n",
      " 0   dist          3752 non-null   int64 \n",
      " 1   gender        3752 non-null   object\n",
      " 2   age           3752 non-null   int64 \n",
      " 3   educ          3752 non-null   object\n",
      " 4   race          3752 non-null   object\n",
      " 5   faminc        3752 non-null   object\n",
      " 6   marstat       3752 non-null   object\n",
      " 7   newsint       3752 non-null   object\n",
      " 8   approval_gov  3752 non-null   object\n",
      " 9   ideo5         3752 non-null   object\n",
      " 10  voted_gov     3752 non-null   object\n",
      "dtypes: int64(2), object(9)\n",
      "memory usage: 322.6+ KB\n"
     ]
    }
   ],
   "source": [
    "df.info()"
   ]
  },
  {
   "cell_type": "code",
   "execution_count": 278,
   "id": "e4fdfc20",
   "metadata": {},
   "outputs": [
    {
     "data": {
      "text/plain": [
       "[Democrat / Candidate 1]       0.612207\n",
       "[Republican / Candidate 2]     0.367537\n",
       "I Did Not Vote In This Race    0.009861\n",
       "Not Sure                       0.006663\n",
       "Other                          0.003731\n",
       "Name: voted_gov, dtype: float64"
      ]
     },
     "execution_count": 278,
     "metadata": {},
     "output_type": "execute_result"
    }
   ],
   "source": [
    "# baseline accuracy\n",
    "df['voted_gov'].value_counts(normalize=True)"
   ]
  },
  {
   "cell_type": "markdown",
   "id": "a2ec3282",
   "metadata": {},
   "source": [
    "Baseline accuracy is 61.2%. We have unimbalanced data."
   ]
  },
  {
   "cell_type": "markdown",
   "id": "da78a489",
   "metadata": {},
   "source": [
    "## Pre-processing"
   ]
  },
  {
   "cell_type": "code",
   "execution_count": 279,
   "id": "ea8d3e67",
   "metadata": {},
   "outputs": [
    {
     "data": {
      "text/html": [
       "<div>\n",
       "<style scoped>\n",
       "    .dataframe tbody tr th:only-of-type {\n",
       "        vertical-align: middle;\n",
       "    }\n",
       "\n",
       "    .dataframe tbody tr th {\n",
       "        vertical-align: top;\n",
       "    }\n",
       "\n",
       "    .dataframe thead th {\n",
       "        text-align: right;\n",
       "    }\n",
       "</style>\n",
       "<table border=\"1\" class=\"dataframe\">\n",
       "  <thead>\n",
       "    <tr style=\"text-align: right;\">\n",
       "      <th></th>\n",
       "      <th>dist</th>\n",
       "      <th>gender</th>\n",
       "      <th>age</th>\n",
       "      <th>educ</th>\n",
       "      <th>race</th>\n",
       "      <th>faminc</th>\n",
       "      <th>marstat</th>\n",
       "      <th>newsint</th>\n",
       "      <th>approval_gov</th>\n",
       "      <th>ideo5</th>\n",
       "      <th>voted_gov</th>\n",
       "      <th>voted_gov_num</th>\n",
       "    </tr>\n",
       "  </thead>\n",
       "  <tbody>\n",
       "    <tr>\n",
       "      <th>0</th>\n",
       "      <td>19</td>\n",
       "      <td>Female</td>\n",
       "      <td>54</td>\n",
       "      <td>4-Year</td>\n",
       "      <td>White</td>\n",
       "      <td>50k - 60k</td>\n",
       "      <td>Single / Never Married</td>\n",
       "      <td>Most of the time</td>\n",
       "      <td>Strongly Approve</td>\n",
       "      <td>Liberal</td>\n",
       "      <td>[Democrat / Candidate 1]</td>\n",
       "      <td>0</td>\n",
       "    </tr>\n",
       "    <tr>\n",
       "      <th>1</th>\n",
       "      <td>52</td>\n",
       "      <td>Female</td>\n",
       "      <td>28</td>\n",
       "      <td>Some College</td>\n",
       "      <td>White</td>\n",
       "      <td>20k - 30k</td>\n",
       "      <td>Single / Never Married</td>\n",
       "      <td>Most of the time</td>\n",
       "      <td>Strongly Approve</td>\n",
       "      <td>Liberal</td>\n",
       "      <td>[Democrat / Candidate 1]</td>\n",
       "      <td>0</td>\n",
       "    </tr>\n",
       "    <tr>\n",
       "      <th>2</th>\n",
       "      <td>49</td>\n",
       "      <td>Male</td>\n",
       "      <td>86</td>\n",
       "      <td>Post-Grad</td>\n",
       "      <td>White</td>\n",
       "      <td>120k - 150k</td>\n",
       "      <td>Widowed</td>\n",
       "      <td>Most of the time</td>\n",
       "      <td>Strongly Disapprove</td>\n",
       "      <td>Very Conservative</td>\n",
       "      <td>[Republican / Candidate 2]</td>\n",
       "      <td>1</td>\n",
       "    </tr>\n",
       "    <tr>\n",
       "      <th>3</th>\n",
       "      <td>36</td>\n",
       "      <td>Male</td>\n",
       "      <td>80</td>\n",
       "      <td>Some College</td>\n",
       "      <td>White</td>\n",
       "      <td>20k - 30k</td>\n",
       "      <td>Widowed</td>\n",
       "      <td>Most of the time</td>\n",
       "      <td>Strongly Disapprove</td>\n",
       "      <td>Conservative</td>\n",
       "      <td>[Republican / Candidate 2]</td>\n",
       "      <td>1</td>\n",
       "    </tr>\n",
       "    <tr>\n",
       "      <th>4</th>\n",
       "      <td>36</td>\n",
       "      <td>Male</td>\n",
       "      <td>83</td>\n",
       "      <td>4-Year</td>\n",
       "      <td>White</td>\n",
       "      <td>Prefer not to say</td>\n",
       "      <td>Married</td>\n",
       "      <td>Most of the time</td>\n",
       "      <td>Strongly Disapprove</td>\n",
       "      <td>Conservative</td>\n",
       "      <td>[Republican / Candidate 2]</td>\n",
       "      <td>1</td>\n",
       "    </tr>\n",
       "  </tbody>\n",
       "</table>\n",
       "</div>"
      ],
      "text/plain": [
       "   dist  gender  age          educ   race             faminc  \\\n",
       "0    19  Female   54        4-Year  White          50k - 60k   \n",
       "1    52  Female   28  Some College  White          20k - 30k   \n",
       "2    49    Male   86     Post-Grad  White        120k - 150k   \n",
       "3    36    Male   80  Some College  White          20k - 30k   \n",
       "4    36    Male   83        4-Year  White  Prefer not to say   \n",
       "\n",
       "                  marstat           newsint         approval_gov  \\\n",
       "0  Single / Never Married  Most of the time     Strongly Approve   \n",
       "1  Single / Never Married  Most of the time     Strongly Approve   \n",
       "2                 Widowed  Most of the time  Strongly Disapprove   \n",
       "3                 Widowed  Most of the time  Strongly Disapprove   \n",
       "4                 Married  Most of the time  Strongly Disapprove   \n",
       "\n",
       "               ideo5                   voted_gov  voted_gov_num  \n",
       "0            Liberal    [Democrat / Candidate 1]              0  \n",
       "1            Liberal    [Democrat / Candidate 1]              0  \n",
       "2  Very Conservative  [Republican / Candidate 2]              1  \n",
       "3       Conservative  [Republican / Candidate 2]              1  \n",
       "4       Conservative  [Republican / Candidate 2]              1  "
      ]
     },
     "execution_count": 279,
     "metadata": {},
     "output_type": "execute_result"
    }
   ],
   "source": [
    "# transform voted_gov column to categorical dtype and save it to a new column\n",
    "df['voted_gov_num'] = pd.Categorical(\n",
    "    df['voted_gov'], \n",
    "    categories= ['[Democrat / Candidate 1]', \n",
    "                 '[Republican / Candidate 2]', \n",
    "                 'I Did Not Vote In This Race', \n",
    "                 'Not Sure', \n",
    "                 'Other']\n",
    ")\n",
    "codes, uniques = pd.factorize(df['voted_gov_num'])\n",
    "df['voted_gov_num']=codes\n",
    "df.head()"
   ]
  },
  {
   "cell_type": "code",
   "execution_count": 280,
   "id": "a436b585",
   "metadata": {},
   "outputs": [],
   "source": [
    "# set up X and y\n",
    "X = df.drop(columns =['voted_gov', 'voted_gov_num'])\n",
    "y = df['voted_gov_num']"
   ]
  },
  {
   "cell_type": "code",
   "execution_count": 281,
   "id": "c5800bff",
   "metadata": {},
   "outputs": [],
   "source": [
    "X= pd.get_dummies(X, drop_first=True)"
   ]
  },
  {
   "cell_type": "code",
   "execution_count": 282,
   "id": "26613620",
   "metadata": {},
   "outputs": [],
   "source": [
    "X_train, X_val, y_train, y_val = train_test_split(X, y, random_state=42, stratify=y)"
   ]
  },
  {
   "cell_type": "markdown",
   "id": "ea147c92",
   "metadata": {},
   "source": [
    "## Modeling"
   ]
  },
  {
   "cell_type": "markdown",
   "id": "2673f2e9",
   "metadata": {},
   "source": [
    "#### RandomForest"
   ]
  },
  {
   "cell_type": "code",
   "execution_count": 283,
   "id": "c9e85fce",
   "metadata": {},
   "outputs": [],
   "source": [
    "rf = RandomForestClassifier()"
   ]
  },
  {
   "cell_type": "code",
   "execution_count": 284,
   "id": "4373ee6e",
   "metadata": {},
   "outputs": [],
   "source": [
    "et = ExtraTreesClassifier()"
   ]
  },
  {
   "cell_type": "code",
   "execution_count": 285,
   "id": "e7e2a08c",
   "metadata": {},
   "outputs": [
    {
     "data": {
      "text/plain": [
       "0.8901891873099752"
      ]
     },
     "execution_count": 285,
     "metadata": {},
     "output_type": "execute_result"
    }
   ],
   "source": [
    "cross_val_score(rf, X_train, y_train, cv=5).mean()"
   ]
  },
  {
   "cell_type": "code",
   "execution_count": 286,
   "id": "e9fa2be1",
   "metadata": {},
   "outputs": [
    {
     "data": {
      "text/plain": [
       "0.8862802854560281"
      ]
     },
     "execution_count": 286,
     "metadata": {},
     "output_type": "execute_result"
    }
   ],
   "source": [
    "cross_val_score(et, X_train, y_train, cv=5).mean()"
   ]
  },
  {
   "cell_type": "markdown",
   "id": "de7858e4",
   "metadata": {},
   "source": [
    "Random forest and extremely randomized trees performed pretty much the same, random forest is slightly better."
   ]
  },
  {
   "cell_type": "code",
   "execution_count": 175,
   "id": "7fe0b480",
   "metadata": {},
   "outputs": [
    {
     "data": {
      "text/plain": [
       "dict_keys(['bootstrap', 'ccp_alpha', 'class_weight', 'criterion', 'max_depth', 'max_features', 'max_leaf_nodes', 'max_samples', 'min_impurity_decrease', 'min_impurity_split', 'min_samples_leaf', 'min_samples_split', 'min_weight_fraction_leaf', 'n_estimators', 'n_jobs', 'oob_score', 'random_state', 'verbose', 'warm_start'])"
      ]
     },
     "execution_count": 175,
     "metadata": {},
     "output_type": "execute_result"
    }
   ],
   "source": [
    "rf.get_params().keys()"
   ]
  },
  {
   "cell_type": "code",
   "execution_count": 267,
   "id": "a2241571",
   "metadata": {},
   "outputs": [
    {
     "name": "stdout",
     "output_type": "stream",
     "text": [
      "Fitting 5 folds for each of 72 candidates, totalling 360 fits\n",
      "0.8951657048222852\n"
     ]
    },
    {
     "data": {
      "text/plain": [
       "{'bootstrap': True,\n",
       " 'max_depth': None,\n",
       " 'max_features': 0.5,\n",
       " 'n_estimators': 100,\n",
       " 'random_state': 42}"
      ]
     },
     "execution_count": 267,
     "metadata": {},
     "output_type": "execute_result"
    }
   ],
   "source": [
    "# gridsearch \n",
    "rf_params = {\n",
    "    'n_estimators': [100, 150, 200],\n",
    "    'max_depth': [None, 1, 2, 3, 4, 5],\n",
    "    'max_features': ['sqrt', .5],\n",
    "    'bootstrap': [True, False],\n",
    "    'random_state': [42]\n",
    "}\n",
    "\n",
    "gs_rf = GridSearchCV(rf, rf_params, cv=5, n_jobs=-1, verbose=1)\n",
    "gs_rf.fit(X_train, y_train)\n",
    "print(gs.best_score_)\n",
    "gs_rf.best_params_"
   ]
  },
  {
   "cell_type": "code",
   "execution_count": 291,
   "id": "88bfb299",
   "metadata": {},
   "outputs": [
    {
     "name": "stdout",
     "output_type": "stream",
     "text": [
      "best score: 0.8948104650354292\n",
      "best parameters: {'bootstrap': True, 'max_depth': None, 'max_features': 0.5, 'n_estimators': 100, 'random_state': 42}\n",
      "accuracy on train data: 0.9996446339729922\n",
      "accuracy on test data: 0.8901918976545842\n"
     ]
    }
   ],
   "source": [
    "# gridsearch optimization\n",
    "print('best score:', gs_rf.best_score_)\n",
    "print('best parameters:', gs_rf.best_params_)\n",
    "print('accuracy on train data:', gs_rf.score(X_train, y_train))\n",
    "print('accuracy on test data:', gs_rf.score(X_val, y_val))"
   ]
  },
  {
   "cell_type": "markdown",
   "id": "62466888",
   "metadata": {},
   "source": [
    "It is overfit."
   ]
  },
  {
   "cell_type": "code",
   "execution_count": 288,
   "id": "a0acd939",
   "metadata": {},
   "outputs": [
    {
     "data": {
      "text/plain": [
       "approval_gov_Strongly Disapprove                 0.451253\n",
       "age                                              0.064271\n",
       "dist                                             0.059220\n",
       "approval_gov_Strongly Approve                    0.046886\n",
       "ideo5_Liberal                                    0.043347\n",
       "ideo5_Very Conservative                          0.035639\n",
       "ideo5_Very Liberal                               0.030772\n",
       "approval_gov_Disapprove / Somewhat Disapprove    0.029810\n",
       "ideo5_Moderate                                   0.018984\n",
       "race_White                                       0.013969\n",
       "gender_Male                                      0.012325\n",
       "ideo5_Not Sure                                   0.010158\n",
       "race_Black                                       0.010144\n",
       "educ_4-Year                                      0.009864\n",
       "marstat_Single / Never Married                   0.009439\n",
       "marstat_Married                                  0.008832\n",
       "newsint_Most of the time                         0.008799\n",
       "race_Hispanic                                    0.008350\n",
       "newsint_Only now and then                        0.008292\n",
       "educ_Post-Grad                                   0.007732\n",
       "newsint_Some of the time                         0.007710\n",
       "faminc_80k - 100k                                0.007133\n",
       "educ_Some College                                0.006805\n",
       "educ_High School Graduate                        0.006532\n",
       "faminc_150k+                                     0.006091\n",
       "faminc_60k - 70k                                 0.006011\n",
       "faminc_70k - 80k                                 0.005847\n",
       "faminc_30k - 40k                                 0.005519\n",
       "faminc_40k - 50k                                 0.005489\n",
       "faminc_20k - 30k                                 0.005353\n",
       "approval_gov_Never Heard / Not Sure              0.004924\n",
       "faminc_10k - 20k                                 0.004765\n",
       "faminc_Prefer not to say                         0.004740\n",
       "newsint_Hardly at all                            0.004675\n",
       "marstat_Domestic Partnership                     0.004423\n",
       "faminc_50k - 60k                                 0.004175\n",
       "faminc_120k - 150k                               0.003820\n",
       "race_Mixed                                       0.003598\n",
       "faminc_Less than 10k                             0.003466\n",
       "educ_No HS                                       0.002955\n",
       "race_Other                                       0.002341\n",
       "marstat_Widowed                                  0.002208\n",
       "race_Middle Eastern                              0.001274\n",
       "race_Native American                             0.001032\n",
       "marstat_Separated                                0.001027\n",
       "dtype: float64"
      ]
     },
     "execution_count": 288,
     "metadata": {},
     "output_type": "execute_result"
    }
   ],
   "source": [
    "# get feature importances\n",
    "pd.Series(gs_rf.best_estimator_.feature_importances_, X.columns).sort_values(ascending=False)"
   ]
  },
  {
   "cell_type": "markdown",
   "id": "4f9d37fb",
   "metadata": {},
   "source": [
    "-  For a classfication random forest model, feature_importances_ is based on the average decrease in Gini impurity over the decision trees. \n",
    "- Strongly disapprove category of approval_gov feature has a 45.1% importance in the random forest model. For this variable, individuals were asked \"Do you approve of the way each is doing their job\". \n",
    "- approval_gov_Strongly Approve has a 4.7% importance.\n",
    "- Age has 6.4% and dist has 5.9%. (dist is Congressional district number in current Congress)"
   ]
  },
  {
   "cell_type": "code",
   "execution_count": 289,
   "id": "202ff197",
   "metadata": {},
   "outputs": [
    {
     "data": {
      "text/plain": [
       "Strongly Disapprove                 1197\n",
       "Approve / Somewhat Approve          1128\n",
       "Strongly Approve                     895\n",
       "Disapprove / Somewhat Disapprove     385\n",
       "Never Heard / Not Sure               147\n",
       "Name: approval_gov, dtype: int64"
      ]
     },
     "execution_count": 289,
     "metadata": {},
     "output_type": "execute_result"
    }
   ],
   "source": [
    "# approval_gov column categories\n",
    "df['approval_gov'].value_counts()"
   ]
  },
  {
   "cell_type": "markdown",
   "id": "eb841f73",
   "metadata": {},
   "source": []
  }
 ],
 "metadata": {
  "kernelspec": {
   "display_name": "Python 3",
   "language": "python",
   "name": "python3"
  },
  "language_info": {
   "codemirror_mode": {
    "name": "ipython",
    "version": 3
   },
   "file_extension": ".py",
   "mimetype": "text/x-python",
   "name": "python",
   "nbconvert_exporter": "python",
   "pygments_lexer": "ipython3",
   "version": "3.8.8"
  }
 },
 "nbformat": 4,
 "nbformat_minor": 5
}
