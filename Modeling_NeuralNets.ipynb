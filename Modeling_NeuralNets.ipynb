{
 "cells": [
  {
   "cell_type": "markdown",
   "id": "0b3a5112",
   "metadata": {},
   "source": [
    "## Project 5: WAM News Prediction of  California's Gubernatorial 2021 Election"
   ]
  },
  {
   "cell_type": "markdown",
   "id": "ac1c7295",
   "metadata": {},
   "source": [
    "## Import Libraries"
   ]
  },
  {
   "cell_type": "code",
   "execution_count": 37,
   "id": "c893ed0b",
   "metadata": {},
   "outputs": [],
   "source": [
    "# import libraries\n",
    "import pandas as pd\n",
    "import numpy as np\n",
    "import matplotlib.pyplot as plt\n",
    "import tensorflow as tf\n",
    "%matplotlib inline\n",
    "# sklearn\n",
    "from sklearn.model_selection import train_test_split, GridSearchCV, cross_val_score\n",
    "from sklearn.preprocessing import StandardScaler\n",
    "from sklearn.ensemble import RandomForestClassifier, ExtraTreesClassifier\n",
    "from sklearn.model_selection import cross_val_score, train_test_split, GridSearchCV\n",
    "from sklearn.metrics import confusion_matrix, plot_confusion_matrix, classification_report\n",
    "from sklearn.naive_bayes import MultinomialNB\n",
    "from sklearn.pipeline import Pipeline\n",
    "from sklearn import metrics\n",
    "# keras\n",
    "from tensorflow.keras.models import Sequential\n",
    "from tensorflow.keras.layers import Dense, Dropout\n",
    "from tensorflow.keras.utils import to_categorical\n",
    "from tensorflow.keras.metrics import Recall\n",
    "from tensorflow.keras.callbacks import EarlyStopping\n",
    "from tensorflow.keras.wrappers.scikit_learn import KerasClassifier\n",
    "# set random seed\n",
    "import random\n",
    "random.seed=42"
   ]
  },
  {
   "cell_type": "markdown",
   "id": "8bacc424",
   "metadata": {},
   "source": [
    "## Load Data"
   ]
  },
  {
   "cell_type": "code",
   "execution_count": 38,
   "id": "f29119ab",
   "metadata": {},
   "outputs": [
    {
     "data": {
      "text/html": [
       "<div>\n",
       "<style scoped>\n",
       "    .dataframe tbody tr th:only-of-type {\n",
       "        vertical-align: middle;\n",
       "    }\n",
       "\n",
       "    .dataframe tbody tr th {\n",
       "        vertical-align: top;\n",
       "    }\n",
       "\n",
       "    .dataframe thead th {\n",
       "        text-align: right;\n",
       "    }\n",
       "</style>\n",
       "<table border=\"1\" class=\"dataframe\">\n",
       "  <thead>\n",
       "    <tr style=\"text-align: right;\">\n",
       "      <th></th>\n",
       "      <th>dist</th>\n",
       "      <th>ownhome</th>\n",
       "      <th>pid3</th>\n",
       "      <th>gender</th>\n",
       "      <th>age</th>\n",
       "      <th>educ</th>\n",
       "      <th>race</th>\n",
       "      <th>faminc</th>\n",
       "      <th>marstat</th>\n",
       "      <th>newsint</th>\n",
       "      <th>approval_gov</th>\n",
       "      <th>ideo5</th>\n",
       "      <th>voted_gov</th>\n",
       "    </tr>\n",
       "  </thead>\n",
       "  <tbody>\n",
       "    <tr>\n",
       "      <th>392782</th>\n",
       "      <td>19</td>\n",
       "      <td>Other</td>\n",
       "      <td>Democrat</td>\n",
       "      <td>Female</td>\n",
       "      <td>54</td>\n",
       "      <td>4-Year</td>\n",
       "      <td>White</td>\n",
       "      <td>50k - 60k</td>\n",
       "      <td>Single / Never Married</td>\n",
       "      <td>Most of the time</td>\n",
       "      <td>Strongly Approve</td>\n",
       "      <td>Liberal</td>\n",
       "      <td>1</td>\n",
       "    </tr>\n",
       "    <tr>\n",
       "      <th>392786</th>\n",
       "      <td>52</td>\n",
       "      <td>Rent</td>\n",
       "      <td>Democrat</td>\n",
       "      <td>Female</td>\n",
       "      <td>28</td>\n",
       "      <td>Some College</td>\n",
       "      <td>White</td>\n",
       "      <td>20k - 30k</td>\n",
       "      <td>Single / Never Married</td>\n",
       "      <td>Most of the time</td>\n",
       "      <td>Strongly Approve</td>\n",
       "      <td>Liberal</td>\n",
       "      <td>1</td>\n",
       "    </tr>\n",
       "    <tr>\n",
       "      <th>392800</th>\n",
       "      <td>49</td>\n",
       "      <td>Own</td>\n",
       "      <td>Other</td>\n",
       "      <td>Male</td>\n",
       "      <td>86</td>\n",
       "      <td>Post-Grad</td>\n",
       "      <td>White</td>\n",
       "      <td>120k - 150k</td>\n",
       "      <td>Widowed</td>\n",
       "      <td>Most of the time</td>\n",
       "      <td>Strongly Disapprove</td>\n",
       "      <td>Very Conservative</td>\n",
       "      <td>0</td>\n",
       "    </tr>\n",
       "    <tr>\n",
       "      <th>392832</th>\n",
       "      <td>36</td>\n",
       "      <td>Own</td>\n",
       "      <td>Republican</td>\n",
       "      <td>Male</td>\n",
       "      <td>80</td>\n",
       "      <td>Some College</td>\n",
       "      <td>White</td>\n",
       "      <td>20k - 30k</td>\n",
       "      <td>Widowed</td>\n",
       "      <td>Most of the time</td>\n",
       "      <td>Strongly Disapprove</td>\n",
       "      <td>Conservative</td>\n",
       "      <td>0</td>\n",
       "    </tr>\n",
       "    <tr>\n",
       "      <th>392860</th>\n",
       "      <td>36</td>\n",
       "      <td>Own</td>\n",
       "      <td>Independent</td>\n",
       "      <td>Male</td>\n",
       "      <td>83</td>\n",
       "      <td>4-Year</td>\n",
       "      <td>White</td>\n",
       "      <td>Prefer not to say</td>\n",
       "      <td>Married</td>\n",
       "      <td>Most of the time</td>\n",
       "      <td>Strongly Disapprove</td>\n",
       "      <td>Conservative</td>\n",
       "      <td>0</td>\n",
       "    </tr>\n",
       "  </tbody>\n",
       "</table>\n",
       "</div>"
      ],
      "text/plain": [
       "        dist ownhome         pid3  gender  age          educ   race  \\\n",
       "392782    19   Other     Democrat  Female   54        4-Year  White   \n",
       "392786    52    Rent     Democrat  Female   28  Some College  White   \n",
       "392800    49     Own        Other    Male   86     Post-Grad  White   \n",
       "392832    36     Own   Republican    Male   80  Some College  White   \n",
       "392860    36     Own  Independent    Male   83        4-Year  White   \n",
       "\n",
       "                   faminc                 marstat           newsint  \\\n",
       "392782          50k - 60k  Single / Never Married  Most of the time   \n",
       "392786          20k - 30k  Single / Never Married  Most of the time   \n",
       "392800        120k - 150k                 Widowed  Most of the time   \n",
       "392832          20k - 30k                 Widowed  Most of the time   \n",
       "392860  Prefer not to say                 Married  Most of the time   \n",
       "\n",
       "               approval_gov              ideo5  voted_gov  \n",
       "392782     Strongly Approve            Liberal          1  \n",
       "392786     Strongly Approve            Liberal          1  \n",
       "392800  Strongly Disapprove  Very Conservative          0  \n",
       "392832  Strongly Disapprove       Conservative          0  \n",
       "392860  Strongly Disapprove       Conservative          0  "
      ]
     },
     "execution_count": 38,
     "metadata": {},
     "output_type": "execute_result"
    }
   ],
   "source": [
    "# read data\n",
    "df=pd.read_csv('./data/2018_gov_clean1.csv', index_col=0)\n",
    "df.head()"
   ]
  },
  {
   "cell_type": "code",
   "execution_count": 39,
   "id": "f216a597",
   "metadata": {},
   "outputs": [
    {
     "name": "stdout",
     "output_type": "stream",
     "text": [
      "<class 'pandas.core.frame.DataFrame'>\n",
      "Int64Index: 3663 entries, 392782 to 452724\n",
      "Data columns (total 13 columns):\n",
      " #   Column        Non-Null Count  Dtype \n",
      "---  ------        --------------  ----- \n",
      " 0   dist          3663 non-null   int64 \n",
      " 1   ownhome       3663 non-null   object\n",
      " 2   pid3          3663 non-null   object\n",
      " 3   gender        3663 non-null   object\n",
      " 4   age           3663 non-null   int64 \n",
      " 5   educ          3663 non-null   object\n",
      " 6   race          3663 non-null   object\n",
      " 7   faminc        3663 non-null   object\n",
      " 8   marstat       3663 non-null   object\n",
      " 9   newsint       3663 non-null   object\n",
      " 10  approval_gov  3663 non-null   object\n",
      " 11  ideo5         3663 non-null   object\n",
      " 12  voted_gov     3663 non-null   int64 \n",
      "dtypes: int64(3), object(10)\n",
      "memory usage: 400.6+ KB\n"
     ]
    }
   ],
   "source": [
    "# check for null values\n",
    "df.info()"
   ]
  },
  {
   "cell_type": "code",
   "execution_count": 40,
   "id": "99c3df6f",
   "metadata": {},
   "outputs": [
    {
     "data": {
      "text/plain": [
       "1    0.624352\n",
       "0    0.375648\n",
       "Name: voted_gov, dtype: float64"
      ]
     },
     "execution_count": 40,
     "metadata": {},
     "output_type": "execute_result"
    }
   ],
   "source": [
    "# baseline accuracy\n",
    "df.voted_gov.value_counts(normalize=True)"
   ]
  },
  {
   "cell_type": "markdown",
   "id": "a4c4a07e",
   "metadata": {},
   "source": [
    "# Modeling"
   ]
  },
  {
   "cell_type": "code",
   "execution_count": 57,
   "id": "e147bcf4",
   "metadata": {},
   "outputs": [],
   "source": [
    "# set up X and y\n",
    "X = df.drop(columns =['voted_gov'])\n",
    "y = df['voted_gov']"
   ]
  },
  {
   "cell_type": "code",
   "execution_count": 58,
   "id": "afc6deaa",
   "metadata": {},
   "outputs": [],
   "source": [
    "# dummify X variable\n",
    "X = pd.get_dummies(X, drop_first=True)"
   ]
  },
  {
   "cell_type": "code",
   "execution_count": 59,
   "id": "741c48da",
   "metadata": {},
   "outputs": [
    {
     "data": {
      "text/plain": [
       "(3663, 51)"
      ]
     },
     "execution_count": 59,
     "metadata": {},
     "output_type": "execute_result"
    }
   ],
   "source": [
    "# checkout X shape\n",
    "X.shape"
   ]
  },
  {
   "cell_type": "code",
   "execution_count": 60,
   "id": "ab145807",
   "metadata": {},
   "outputs": [],
   "source": [
    "# check if shape of X = y\n",
    "assert X.shape[0]==y.shape[0]"
   ]
  },
  {
   "cell_type": "code",
   "execution_count": 61,
   "id": "ad5b0c17",
   "metadata": {},
   "outputs": [],
   "source": [
    "# split the data\n",
    "X_train, X_test, y_train, y_test = train_test_split(X, y, random_state=42, stratify=y)"
   ]
  },
  {
   "cell_type": "markdown",
   "id": "7149c4cb",
   "metadata": {},
   "source": [
    "### 2. Neural Nets GridSearch"
   ]
  },
  {
   "cell_type": "code",
   "execution_count": 62,
   "id": "8f8d54ea",
   "metadata": {},
   "outputs": [],
   "source": [
    "# scale data\n",
    "sc = StandardScaler()\n",
    "X_train_sc = sc.fit_transform(X_train)\n",
    "X_test_sc = sc.transform(X_test)"
   ]
  },
  {
   "cell_type": "code",
   "execution_count": 63,
   "id": "8f74b592",
   "metadata": {},
   "outputs": [
    {
     "name": "stdout",
     "output_type": "stream",
     "text": [
      "Epoch 00015: early stopping\n",
      "{'batch_size': 100, 'epochs': 50}\n"
     ]
    },
    {
     "data": {
      "text/plain": [
       "0.9257367451985677"
      ]
     },
     "execution_count": 63,
     "metadata": {},
     "output_type": "execute_result"
    }
   ],
   "source": [
    "# Function to create model, required for KerasClassifier\n",
    "def create_model():\n",
    "    # create model\n",
    "    model = Sequential()\n",
    "    model.add(Dense(32, input_shape=(51,), activation='relu'))\n",
    "    model.add(Dense(32, activation='relu'))\n",
    "    model.add(Dense(1, activation='sigmoid')) \n",
    "    # Compile model\n",
    "    model.compile(loss='binary_crossentropy', optimizer='adam', metrics=['accuracy'])\n",
    "    return model\n",
    "\n",
    "# fix random seed for reproducibility\n",
    "seed = 7\n",
    "np.random.seed(seed)\n",
    "# early stopping\n",
    "early_stop = EarlyStopping(monitor='val_loss', patience=5, verbose=1)\n",
    "# create model\n",
    "model = KerasClassifier(build_fn=create_model, verbose=0)\n",
    "\n",
    "# define the grid search parameters\n",
    "params_grid = {\n",
    "    'batch_size': [10, 20, 40, 60, 80, 100],\n",
    "    'epochs': [10, 50, 100],\n",
    "}\n",
    "\n",
    "gs_deep = GridSearchCV(model, param_grid=params_grid, cv=3, n_jobs=-1)\n",
    "gs_deep.fit(\n",
    "    X_train_sc, \n",
    "    y_train, \n",
    "    callbacks=early_stop, \n",
    "    validation_data=(X_test_sc, y_test))\n",
    "print(gs_deep.best_params_)\n",
    "gs_deep.best_score_"
   ]
  },
  {
   "cell_type": "code",
   "execution_count": 67,
   "id": "5dbe95ce",
   "metadata": {},
   "outputs": [],
   "source": [
    "# Make predictions \n",
    "preds_deep = gs_deep.predict(X_test_sc)"
   ]
  },
  {
   "cell_type": "code",
   "execution_count": 66,
   "id": "8e25e706",
   "metadata": {},
   "outputs": [
    {
     "name": "stdout",
     "output_type": "stream",
     "text": [
      "              precision    recall  f1-score   support\n",
      "\n",
      "           0       0.92      0.87      0.90       344\n",
      "           1       0.93      0.96      0.94       572\n",
      "\n",
      "    accuracy                           0.92       916\n",
      "   macro avg       0.92      0.91      0.92       916\n",
      "weighted avg       0.92      0.92      0.92       916\n",
      "\n"
     ]
    }
   ],
   "source": [
    "## classification report\n",
    "print(classification_report(y_test, preds_deep))"
   ]
  },
  {
   "cell_type": "code",
   "execution_count": 70,
   "id": "adff3182",
   "metadata": {},
   "outputs": [],
   "source": [
    "\n",
    "\n",
    "# save confusion matrix values\n",
    "tn, fp, fn, tp = confusion_matrix(y_test, preds_deep).ravel()"
   ]
  },
  {
   "cell_type": "code",
   "execution_count": 71,
   "id": "0d70ccbf",
   "metadata": {},
   "outputs": [
    {
     "name": "stdout",
     "output_type": "stream",
     "text": [
      "Accuracy: 0.9246724890829694\n",
      "Recall: 0.9562937062937062\n",
      "Precision: 0.9255499153976311\n",
      "Specificity: 0.872093023255814\n"
     ]
    }
   ],
   "source": [
    "# metrics\n",
    "accu = (tp+tn) / (tp+tn+fp+fn)\n",
    "recall = tp/(tp+fn)\n",
    "prec = tp/ (tp+fp)\n",
    "spec= tn/(tn+fp)\n",
    "\n",
    "print('Accuracy:', accu)\n",
    "print('Recall:', recall)\n",
    "print('Precision:', prec)\n",
    "print('Specificity:', spec)"
   ]
  },
  {
   "cell_type": "markdown",
   "id": "5002b628",
   "metadata": {},
   "source": [
    "### 2. Neural Net Classification - Early stopping"
   ]
  },
  {
   "cell_type": "code",
   "execution_count": null,
   "id": "4bfa3a98",
   "metadata": {},
   "outputs": [],
   "source": [
    "# set a random seed\n",
    "tf.random.set_seed(1234)"
   ]
  },
  {
   "cell_type": "code",
   "execution_count": null,
   "id": "a65d07cc",
   "metadata": {},
   "outputs": [],
   "source": [
    "# split data\n",
    "X_train, X_test, y_train, y_test = train_test_split(X, y, stratify=y, random_state=42)"
   ]
  },
  {
   "cell_type": "code",
   "execution_count": null,
   "id": "88321e9e",
   "metadata": {},
   "outputs": [],
   "source": [
    "# scale data\n",
    "sc = StandardScaler()\n",
    "X_train_sc = sc.fit_transform(X_train)\n",
    "X_test_sc = sc.transform(X_test)"
   ]
  },
  {
   "cell_type": "code",
   "execution_count": null,
   "id": "322798e4",
   "metadata": {},
   "outputs": [],
   "source": [
    "# create model with one hidden layer\n",
    "model_nn1 = Sequential()\n",
    "model_nn1.add(Dense(32, input_shape=(X_train_sc.shape[1],), activation='relu'))\n",
    "model_nn1.add(Dense(1, activation='sigmoid'))"
   ]
  },
  {
   "cell_type": "code",
   "execution_count": null,
   "id": "936d8e01",
   "metadata": {
    "scrolled": true
   },
   "outputs": [],
   "source": [
    "model_nn1.summary()"
   ]
  },
  {
   "cell_type": "code",
   "execution_count": null,
   "id": "c5b9e1df",
   "metadata": {},
   "outputs": [],
   "source": [
    "# Compile it\n",
    "model_nn1.compile(loss='bce', optimizer='adam', metrics=['Accuracy', 'Recall', 'Precision'])"
   ]
  },
  {
   "cell_type": "code",
   "execution_count": null,
   "id": "fa8a2180",
   "metadata": {},
   "outputs": [],
   "source": [
    "# set early stopping\n",
    "early_stop = EarlyStopping(monitor='val_loss', patience=5, verbose=1)"
   ]
  },
  {
   "cell_type": "code",
   "execution_count": null,
   "id": "56afff43",
   "metadata": {},
   "outputs": [],
   "source": [
    "# fit model\n",
    "history = model_nn1.fit(\n",
    "    X_train_sc, y_train, \n",
    "    validation_data=(X_test_sc, y_test), \n",
    "    epochs=100, \n",
    "    callbacks=[early_stop], \n",
    "    verbose=2,\n",
    "    batch_size=32\n",
    ")"
   ]
  },
  {
   "cell_type": "code",
   "execution_count": null,
   "id": "a6ad831d",
   "metadata": {},
   "outputs": [],
   "source": [
    "# save history into a df\n",
    "history_df = pd.DataFrame(history.history)\n",
    "history_df.head()"
   ]
  },
  {
   "cell_type": "code",
   "execution_count": null,
   "id": "8ae523a2",
   "metadata": {},
   "outputs": [],
   "source": [
    "# subplots of accuracy, precision and recall\n",
    "fig, (ax1, ax2, ax3) = plt.subplots(nrows = 1, ncols=3, figsize = (20, 7))\n",
    "fig.suptitle('Accuracy, Precision and Recall Plot of Neural Net Model')\n",
    "\n",
    "# axis 1\n",
    "ax1.plot(history_df['val_Accuracy'], label='Validation Accuracy', color='green')\n",
    "ax1.plot(history_df['Accuracy'], label='Training Accuracy', color='orange')\n",
    "ax1.legend(loc=\"upper left\")\n",
    "# axis 2\n",
    "ax2.plot(history_df['val_precision'], label='Validation Precision', color='green')\n",
    "ax2.plot(history_df['precision'], label='Training Precision', color='orange')\n",
    "ax2.legend(loc=\"upper left\")\n",
    "#axis3\n",
    "ax3.plot(history_df['val_recall'], label='Validation Recall', color='green')\n",
    "ax3.plot(history_df['recall'], label='Training Recall', color='orange')\n",
    "ax3.legend(loc=\"upper right\")\n",
    "\n",
    "plt.legend();"
   ]
  },
  {
   "cell_type": "markdown",
   "id": "7b152b19",
   "metadata": {},
   "source": [
    "The plots show that this model with one hidden layer and early stopping is slightly overfit. "
   ]
  },
  {
   "cell_type": "code",
   "execution_count": null,
   "id": "ab0afb64",
   "metadata": {},
   "outputs": [],
   "source": [
    "# evaluate model\n",
    "model_nn1.evaluate(X_test_sc, y_test, verbose=2)"
   ]
  },
  {
   "cell_type": "code",
   "execution_count": null,
   "id": "051528a7",
   "metadata": {},
   "outputs": [],
   "source": [
    "# make predictions\n",
    "y_pred_nn1=model_nn1.predict(X_test_sc)\n",
    "y_pred_nn1[:10]"
   ]
  },
  {
   "cell_type": "code",
   "execution_count": null,
   "id": "f3b00a26",
   "metadata": {},
   "outputs": [],
   "source": [
    "# round predicted values\n",
    "y_pred_nn1 =y_pred_nn1.round()\n",
    "y_pred_nn1[:10]"
   ]
  },
  {
   "cell_type": "code",
   "execution_count": null,
   "id": "89dbc1f3",
   "metadata": {},
   "outputs": [],
   "source": [
    "# confusion matrix using Tensorflow\n",
    "tf.math.confusion_matrix(\n",
    "    y_test, y_pred_nn1\n",
    ")"
   ]
  },
  {
   "cell_type": "code",
   "execution_count": null,
   "id": "c2e2d9e7",
   "metadata": {
    "scrolled": true
   },
   "outputs": [],
   "source": [
    "# classification report\n",
    "print(classification_report(y_test, y_pred_nn1))"
   ]
  },
  {
   "cell_type": "markdown",
   "id": "b0a11c7a",
   "metadata": {},
   "source": [
    "On test data: \n",
    "- accuracy: 0.9108 \n",
    "- recall: 0.8667 \n",
    "- precision: 0.8925\n",
    "\n",
    "On train data:\n",
    "- accuracy: 0.9373 \n",
    "- recall: 0.8888 \n",
    "- precision: 0.9406\n",
    "\n",
    "This model has an accuracy of 91% which improved the null model accuracy of 38%.  "
   ]
  },
  {
   "cell_type": "markdown",
   "id": "c022dfdb",
   "metadata": {},
   "source": [
    "### 3. Neural Net Classification - 2 hidden layers & dropout"
   ]
  },
  {
   "cell_type": "code",
   "execution_count": 72,
   "id": "c370b0af",
   "metadata": {},
   "outputs": [],
   "source": [
    "X_train, X_test, y_train, y_test = train_test_split(X, y, stratify=y, random_state=42)"
   ]
  },
  {
   "cell_type": "code",
   "execution_count": 73,
   "id": "84a603a3",
   "metadata": {},
   "outputs": [],
   "source": [
    "# scale data\n",
    "sc = StandardScaler()\n",
    "X_train_sc = sc.fit_transform(X_train)\n",
    "X_test_sc = sc.transform(X_test)"
   ]
  },
  {
   "cell_type": "code",
   "execution_count": 74,
   "id": "496637e6",
   "metadata": {},
   "outputs": [],
   "source": [
    "model_nn2 = Sequential()"
   ]
  },
  {
   "cell_type": "code",
   "execution_count": 75,
   "id": "c31f42b7",
   "metadata": {},
   "outputs": [],
   "source": [
    "# create model\n",
    "model_nn2.add(Dense(32, input_shape=(X_train_sc.shape[1],), activation='relu'))\n",
    "model_nn2.add(Dropout(0.2))\n",
    "model_nn2.add(Dense(10, activation='relu'))\n",
    "model_nn2.add(Dropout(0.2))\n",
    "model_nn2.add(Dense(1, activation='sigmoid'))"
   ]
  },
  {
   "cell_type": "code",
   "execution_count": 76,
   "id": "28b2737c",
   "metadata": {},
   "outputs": [],
   "source": [
    "# compile model\n",
    "model_nn2.compile(loss='bce', optimizer ='adam', metrics = ['Accuracy', 'Recall', 'Precision'])"
   ]
  },
  {
   "cell_type": "code",
   "execution_count": 77,
   "id": "40907c9a",
   "metadata": {},
   "outputs": [],
   "source": [
    "# fit model\n",
    "history_2 = model_nn2.fit(\n",
    "    X_train_sc,\n",
    "    y_train,\n",
    "    validation_data=(X_test_sc, y_test),\n",
    "    epochs=100,\n",
    "    verbose=0\n",
    ")"
   ]
  },
  {
   "cell_type": "code",
   "execution_count": 78,
   "id": "e9195847",
   "metadata": {
    "scrolled": false
   },
   "outputs": [
    {
     "data": {
      "text/html": [
       "<div>\n",
       "<style scoped>\n",
       "    .dataframe tbody tr th:only-of-type {\n",
       "        vertical-align: middle;\n",
       "    }\n",
       "\n",
       "    .dataframe tbody tr th {\n",
       "        vertical-align: top;\n",
       "    }\n",
       "\n",
       "    .dataframe thead th {\n",
       "        text-align: right;\n",
       "    }\n",
       "</style>\n",
       "<table border=\"1\" class=\"dataframe\">\n",
       "  <thead>\n",
       "    <tr style=\"text-align: right;\">\n",
       "      <th></th>\n",
       "      <th>loss</th>\n",
       "      <th>Accuracy</th>\n",
       "      <th>recall</th>\n",
       "      <th>precision</th>\n",
       "      <th>val_loss</th>\n",
       "      <th>val_Accuracy</th>\n",
       "      <th>val_recall</th>\n",
       "      <th>val_precision</th>\n",
       "    </tr>\n",
       "  </thead>\n",
       "  <tbody>\n",
       "    <tr>\n",
       "      <th>0</th>\n",
       "      <td>0.699123</td>\n",
       "      <td>0.593739</td>\n",
       "      <td>0.742857</td>\n",
       "      <td>0.653669</td>\n",
       "      <td>0.593318</td>\n",
       "      <td>0.733624</td>\n",
       "      <td>0.926573</td>\n",
       "      <td>0.724044</td>\n",
       "    </tr>\n",
       "    <tr>\n",
       "      <th>1</th>\n",
       "      <td>0.515705</td>\n",
       "      <td>0.773935</td>\n",
       "      <td>0.910204</td>\n",
       "      <td>0.769724</td>\n",
       "      <td>0.408474</td>\n",
       "      <td>0.862445</td>\n",
       "      <td>0.952797</td>\n",
       "      <td>0.846273</td>\n",
       "    </tr>\n",
       "    <tr>\n",
       "      <th>2</th>\n",
       "      <td>0.345632</td>\n",
       "      <td>0.863487</td>\n",
       "      <td>0.927114</td>\n",
       "      <td>0.864130</td>\n",
       "      <td>0.277278</td>\n",
       "      <td>0.895196</td>\n",
       "      <td>0.952797</td>\n",
       "      <td>0.887622</td>\n",
       "    </tr>\n",
       "    <tr>\n",
       "      <th>3</th>\n",
       "      <td>0.268932</td>\n",
       "      <td>0.895522</td>\n",
       "      <td>0.941108</td>\n",
       "      <td>0.896667</td>\n",
       "      <td>0.235286</td>\n",
       "      <td>0.907205</td>\n",
       "      <td>0.944056</td>\n",
       "      <td>0.910624</td>\n",
       "    </tr>\n",
       "    <tr>\n",
       "      <th>4</th>\n",
       "      <td>0.237636</td>\n",
       "      <td>0.911904</td>\n",
       "      <td>0.942274</td>\n",
       "      <td>0.918704</td>\n",
       "      <td>0.227249</td>\n",
       "      <td>0.912664</td>\n",
       "      <td>0.961538</td>\n",
       "      <td>0.904605</td>\n",
       "    </tr>\n",
       "  </tbody>\n",
       "</table>\n",
       "</div>"
      ],
      "text/plain": [
       "       loss  Accuracy    recall  precision  val_loss  val_Accuracy  \\\n",
       "0  0.699123  0.593739  0.742857   0.653669  0.593318      0.733624   \n",
       "1  0.515705  0.773935  0.910204   0.769724  0.408474      0.862445   \n",
       "2  0.345632  0.863487  0.927114   0.864130  0.277278      0.895196   \n",
       "3  0.268932  0.895522  0.941108   0.896667  0.235286      0.907205   \n",
       "4  0.237636  0.911904  0.942274   0.918704  0.227249      0.912664   \n",
       "\n",
       "   val_recall  val_precision  \n",
       "0    0.926573       0.724044  \n",
       "1    0.952797       0.846273  \n",
       "2    0.952797       0.887622  \n",
       "3    0.944056       0.910624  \n",
       "4    0.961538       0.904605  "
      ]
     },
     "execution_count": 78,
     "metadata": {},
     "output_type": "execute_result"
    }
   ],
   "source": [
    "# save history into a df\n",
    "history_2_df = pd.DataFrame(history_2.history)\n",
    "history_2_df.head()"
   ]
  },
  {
   "cell_type": "code",
   "execution_count": 79,
   "id": "a281e3f4",
   "metadata": {
    "scrolled": true
   },
   "outputs": [
    {
     "data": {
      "text/plain": [
       "5     0.921397\n",
       "6     0.914847\n",
       "7     0.919214\n",
       "8     0.919214\n",
       "9     0.921397\n",
       "        ...   \n",
       "95    0.923581\n",
       "96    0.925764\n",
       "97    0.924672\n",
       "98    0.923581\n",
       "99    0.924672\n",
       "Name: val_Accuracy, Length: 95, dtype: float64"
      ]
     },
     "execution_count": 79,
     "metadata": {},
     "output_type": "execute_result"
    }
   ],
   "source": [
    "history_2_df['val_Accuracy'][5:]"
   ]
  },
  {
   "cell_type": "code",
   "execution_count": 80,
   "id": "b9676a17",
   "metadata": {},
   "outputs": [
    {
     "data": {
      "image/png": "[encoded data removed]",
      "text/plain": [
       "<Figure size 1440x504 with 3 Axes>"
      ]
     },
     "metadata": {
      "needs_background": "light"
     },
     "output_type": "display_data"
    }
   ],
   "source": [
    "# subplots of accuracy, precision and recall\n",
    "fig, (ax1, ax2, ax3) = plt.subplots(nrows = 1, ncols=3, figsize = (20, 7))\n",
    "fig.suptitle('Accuracy, Precision and Recall Plot of Neural Net Model')\n",
    "\n",
    "# axis 1 - accuracy\n",
    "ax1.plot(history_2_df[\"val_Accuracy\"], label='Validation Accuracy', color='green')\n",
    "ax1.plot(history_2_df[\"Accuracy\"], label='Training Accuracy', color='orange')\n",
    "ax1.legend(loc=\"upper left\")\n",
    "# axis 2 - precision\n",
    "ax2.plot(history_2_df['val_precision'], label='Validation Precision', color='green')\n",
    "ax2.plot(history_2_df['precision'], label='Training Precision', color='orange')\n",
    "ax2.legend(loc=\"upper left\")\n",
    "# axis3 - recall\n",
    "ax3.plot(history_2_df['val_recall'], label='Validation Recall', color='green')\n",
    "ax3.plot(history_2_df['recall'], label='Training Recall', color='orange')\n",
    "ax3.legend(loc=\"upper right\")\n",
    "\n",
    "plt.legend();"
   ]
  },
  {
   "cell_type": "code",
   "execution_count": 81,
   "id": "021d4b33",
   "metadata": {
    "scrolled": true
   },
   "outputs": [
    {
     "name": "stdout",
     "output_type": "stream",
     "text": [
      "29/29 - 0s - loss: 0.4469 - Accuracy: 0.9247 - recall: 0.9493 - precision: 0.9314\n"
     ]
    },
    {
     "data": {
      "text/plain": [
       "[0.4469311833381653,\n",
       " 0.9246724843978882,\n",
       " 0.9493007063865662,\n",
       " 0.9313893914222717]"
      ]
     },
     "execution_count": 81,
     "metadata": {},
     "output_type": "execute_result"
    }
   ],
   "source": [
    "# evaluate model\n",
    "model_nn2.evaluate(X_test_sc, y_test, verbose=2)"
   ]
  },
  {
   "cell_type": "code",
   "execution_count": 82,
   "id": "021dab1b",
   "metadata": {},
   "outputs": [
    {
     "data": {
      "text/plain": [
       "array([[9.5918524e-01],\n",
       "       [8.7207192e-01],\n",
       "       [3.0676232e-11],\n",
       "       [9.9988604e-01],\n",
       "       [4.5425224e-01],\n",
       "       [9.9928343e-01],\n",
       "       [1.0000000e+00],\n",
       "       [1.0000000e+00],\n",
       "       [1.7285312e-07],\n",
       "       [1.0000000e+00]], dtype=float32)"
      ]
     },
     "execution_count": 82,
     "metadata": {},
     "output_type": "execute_result"
    }
   ],
   "source": [
    "# make predictions\n",
    "y_pred_nn2=model_nn2.predict(X_test_sc)\n",
    "y_pred_nn2[:10]"
   ]
  },
  {
   "cell_type": "code",
   "execution_count": 83,
   "id": "b80abc64",
   "metadata": {},
   "outputs": [
    {
     "data": {
      "text/plain": [
       "array([[1.],\n",
       "       [1.],\n",
       "       [0.],\n",
       "       [1.],\n",
       "       [0.],\n",
       "       [1.],\n",
       "       [1.],\n",
       "       [1.],\n",
       "       [0.],\n",
       "       [1.]], dtype=float32)"
      ]
     },
     "execution_count": 83,
     "metadata": {},
     "output_type": "execute_result"
    }
   ],
   "source": [
    "# round predicted values\n",
    "y_pred_nn2 =y_pred_nn2.round()\n",
    "y_pred_nn2[:10]"
   ]
  },
  {
   "cell_type": "code",
   "execution_count": 84,
   "id": "7453d3e2",
   "metadata": {},
   "outputs": [
    {
     "data": {
      "text/plain": [
       "<tf.Tensor: shape=(2, 2), dtype=int32, numpy=\n",
       "array([[304,  40],\n",
       "       [ 29, 543]], dtype=int32)>"
      ]
     },
     "execution_count": 84,
     "metadata": {},
     "output_type": "execute_result"
    }
   ],
   "source": [
    "# confusion matrix using Tensorflow\n",
    "tf.math.confusion_matrix(\n",
    "    y_test, y_pred_nn2\n",
    ")"
   ]
  },
  {
   "cell_type": "code",
   "execution_count": 85,
   "id": "a8aa384c",
   "metadata": {
    "scrolled": true
   },
   "outputs": [
    {
     "name": "stdout",
     "output_type": "stream",
     "text": [
      "              precision    recall  f1-score   support\n",
      "\n",
      "           0       0.91      0.88      0.90       344\n",
      "           1       0.93      0.95      0.94       572\n",
      "\n",
      "    accuracy                           0.92       916\n",
      "   macro avg       0.92      0.92      0.92       916\n",
      "weighted avg       0.92      0.92      0.92       916\n",
      "\n"
     ]
    }
   ],
   "source": [
    "# classification report\n",
    "print(classification_report(y_test, y_pred_nn2))"
   ]
  },
  {
   "cell_type": "markdown",
   "id": "8c6bb09c",
   "metadata": {},
   "source": [
    "### 4. Neural Net Classification - Early stopping & dropout"
   ]
  },
  {
   "cell_type": "code",
   "execution_count": 86,
   "id": "cdf727d7",
   "metadata": {},
   "outputs": [],
   "source": [
    "X_train, X_test, y_train, y_test = train_test_split(X, y, stratify=y, random_state=42)"
   ]
  },
  {
   "cell_type": "code",
   "execution_count": 87,
   "id": "7590e665",
   "metadata": {},
   "outputs": [],
   "source": [
    "# scale data\n",
    "sc = StandardScaler()\n",
    "X_train_sc = sc.fit_transform(X_train)\n",
    "X_test_sc = sc.transform(X_test)"
   ]
  },
  {
   "cell_type": "code",
   "execution_count": 88,
   "id": "8d38af4f",
   "metadata": {},
   "outputs": [],
   "source": [
    "model_nn3 = Sequential()"
   ]
  },
  {
   "cell_type": "code",
   "execution_count": 89,
   "id": "0818abc7",
   "metadata": {},
   "outputs": [],
   "source": [
    "# create model\n",
    "model_nn3.add(Dense(32, input_shape=(X_train_sc.shape[1],), activation='relu'))\n",
    "model_nn3.add(Dropout(0.1))\n",
    "model_nn3.add(Dense(32, activation='relu'))\n",
    "\n",
    "# model_nn3.add(Dropout(0.1))\n",
    "# model_nn3.add(Dense(32, activation='relu'))\n",
    "\n",
    "model_nn3.add(Dense(1, activation='sigmoid'))\n",
    "\n",
    "# 'dropout': 0.1, 'epochs': 10, 'hidden_layers': 2, 'hidden_neurons': 32"
   ]
  },
  {
   "cell_type": "code",
   "execution_count": 90,
   "id": "b44c5697",
   "metadata": {},
   "outputs": [],
   "source": [
    "early_stop = EarlyStopping(monitor='val_loss', patience=5, verbose=1)"
   ]
  },
  {
   "cell_type": "code",
   "execution_count": 91,
   "id": "cb258575",
   "metadata": {},
   "outputs": [],
   "source": [
    "# compile model\n",
    "model_nn3.compile(loss='bce', optimizer ='adam', metrics = ['Accuracy', 'Recall', 'Precision'])"
   ]
  },
  {
   "cell_type": "code",
   "execution_count": 92,
   "id": "59378eb0",
   "metadata": {},
   "outputs": [
    {
     "name": "stdout",
     "output_type": "stream",
     "text": [
      "Epoch 00012: early stopping\n"
     ]
    }
   ],
   "source": [
    "# fit model\n",
    "history_3 = model_nn3.fit(\n",
    "    X_train_sc,\n",
    "    y_train,\n",
    "    validation_data=(X_test_sc, y_test),\n",
    "    epochs=100,\n",
    "    callbacks=early_stop,\n",
    "    verbose=0\n",
    ")"
   ]
  },
  {
   "cell_type": "code",
   "execution_count": 93,
   "id": "3a6886e3",
   "metadata": {
    "scrolled": false
   },
   "outputs": [
    {
     "data": {
      "text/html": [
       "<div>\n",
       "<style scoped>\n",
       "    .dataframe tbody tr th:only-of-type {\n",
       "        vertical-align: middle;\n",
       "    }\n",
       "\n",
       "    .dataframe tbody tr th {\n",
       "        vertical-align: top;\n",
       "    }\n",
       "\n",
       "    .dataframe thead th {\n",
       "        text-align: right;\n",
       "    }\n",
       "</style>\n",
       "<table border=\"1\" class=\"dataframe\">\n",
       "  <thead>\n",
       "    <tr style=\"text-align: right;\">\n",
       "      <th></th>\n",
       "      <th>loss</th>\n",
       "      <th>Accuracy</th>\n",
       "      <th>recall</th>\n",
       "      <th>precision</th>\n",
       "      <th>val_loss</th>\n",
       "      <th>val_Accuracy</th>\n",
       "      <th>val_recall</th>\n",
       "      <th>val_precision</th>\n",
       "    </tr>\n",
       "  </thead>\n",
       "  <tbody>\n",
       "    <tr>\n",
       "      <th>0</th>\n",
       "      <td>0.508999</td>\n",
       "      <td>0.768111</td>\n",
       "      <td>0.918950</td>\n",
       "      <td>0.759884</td>\n",
       "      <td>0.376984</td>\n",
       "      <td>0.863537</td>\n",
       "      <td>0.931818</td>\n",
       "      <td>0.861066</td>\n",
       "    </tr>\n",
       "    <tr>\n",
       "      <th>1</th>\n",
       "      <td>0.284523</td>\n",
       "      <td>0.894066</td>\n",
       "      <td>0.939942</td>\n",
       "      <td>0.895556</td>\n",
       "      <td>0.248198</td>\n",
       "      <td>0.915939</td>\n",
       "      <td>0.949301</td>\n",
       "      <td>0.918782</td>\n",
       "    </tr>\n",
       "    <tr>\n",
       "      <th>2</th>\n",
       "      <td>0.210164</td>\n",
       "      <td>0.919913</td>\n",
       "      <td>0.943440</td>\n",
       "      <td>0.929351</td>\n",
       "      <td>0.222165</td>\n",
       "      <td>0.922489</td>\n",
       "      <td>0.954545</td>\n",
       "      <td>0.923858</td>\n",
       "    </tr>\n",
       "    <tr>\n",
       "      <th>3</th>\n",
       "      <td>0.188891</td>\n",
       "      <td>0.927921</td>\n",
       "      <td>0.950437</td>\n",
       "      <td>0.935169</td>\n",
       "      <td>0.216461</td>\n",
       "      <td>0.923581</td>\n",
       "      <td>0.959790</td>\n",
       "      <td>0.921141</td>\n",
       "    </tr>\n",
       "    <tr>\n",
       "      <th>4</th>\n",
       "      <td>0.180943</td>\n",
       "      <td>0.933018</td>\n",
       "      <td>0.957434</td>\n",
       "      <td>0.936680</td>\n",
       "      <td>0.207155</td>\n",
       "      <td>0.924672</td>\n",
       "      <td>0.954545</td>\n",
       "      <td>0.926995</td>\n",
       "    </tr>\n",
       "  </tbody>\n",
       "</table>\n",
       "</div>"
      ],
      "text/plain": [
       "       loss  Accuracy    recall  precision  val_loss  val_Accuracy  \\\n",
       "0  0.508999  0.768111  0.918950   0.759884  0.376984      0.863537   \n",
       "1  0.284523  0.894066  0.939942   0.895556  0.248198      0.915939   \n",
       "2  0.210164  0.919913  0.943440   0.929351  0.222165      0.922489   \n",
       "3  0.188891  0.927921  0.950437   0.935169  0.216461      0.923581   \n",
       "4  0.180943  0.933018  0.957434   0.936680  0.207155      0.924672   \n",
       "\n",
       "   val_recall  val_precision  \n",
       "0    0.931818       0.861066  \n",
       "1    0.949301       0.918782  \n",
       "2    0.954545       0.923858  \n",
       "3    0.959790       0.921141  \n",
       "4    0.954545       0.926995  "
      ]
     },
     "execution_count": 93,
     "metadata": {},
     "output_type": "execute_result"
    }
   ],
   "source": [
    "# save history into a df\n",
    "history_3_df = pd.DataFrame(history_3.history)\n",
    "history_3_df.head()"
   ]
  },
  {
   "cell_type": "code",
   "execution_count": 94,
   "id": "ea75c8b9",
   "metadata": {
    "scrolled": false
   },
   "outputs": [
    {
     "data": {
      "text/plain": [
       "5     0.924672\n",
       "6     0.923581\n",
       "7     0.926856\n",
       "8     0.926856\n",
       "9     0.925764\n",
       "10    0.923581\n",
       "11    0.923581\n",
       "Name: val_Accuracy, dtype: float64"
      ]
     },
     "execution_count": 94,
     "metadata": {},
     "output_type": "execute_result"
    }
   ],
   "source": [
    "history_3_df['val_Accuracy'][5:]"
   ]
  },
  {
   "cell_type": "code",
   "execution_count": 95,
   "id": "75730dab",
   "metadata": {},
   "outputs": [
    {
     "data": {
      "image/png": "[encoded data removed]",
      "text/plain": [
       "<Figure size 1440x504 with 3 Axes>"
      ]
     },
     "metadata": {
      "needs_background": "light"
     },
     "output_type": "display_data"
    }
   ],
   "source": [
    "# subplots of accuracy, precision and recall\n",
    "fig, (ax1, ax2, ax3) = plt.subplots(nrows = 1, ncols=3, figsize = (20, 7))\n",
    "fig.suptitle('Accuracy, Precision, Recall')\n",
    "\n",
    "# axis 1 - accuracy\n",
    "ax1.plot(history_3_df[\"val_Accuracy\"], label='Validation Accuracy', color='green')\n",
    "ax1.plot(history_3_df[\"Accuracy\"], label='Training Accuracy', color='orange')\n",
    "ax1.legend(loc=\"upper left\")\n",
    "# axis 2 - precision\n",
    "ax2.plot(history_3_df['val_precision'], label='Validation Precision', color='green')\n",
    "ax2.plot(history_3_df['precision'], label='Training Precision', color='orange')\n",
    "ax2.legend(loc=\"upper left\")\n",
    "# axis3 - recall\n",
    "ax3.plot(history_3_df['val_recall'], label='Validation Recall', color='green')\n",
    "ax3.plot(history_3_df['recall'], label='Training Recall', color='orange')\n",
    "ax3.legend(loc=\"upper left\")\n",
    "\n",
    "plt.legend();"
   ]
  },
  {
   "cell_type": "code",
   "execution_count": 96,
   "id": "eefd2bb6",
   "metadata": {
    "scrolled": true
   },
   "outputs": [
    {
     "name": "stdout",
     "output_type": "stream",
     "text": [
      "29/29 - 0s - loss: 0.2178 - Accuracy: 0.9236 - recall: 0.9493 - precision: 0.9298\n"
     ]
    },
    {
     "data": {
      "text/plain": [
       "[0.21783724427223206,\n",
       " 0.9235807657241821,\n",
       " 0.9493007063865662,\n",
       " 0.9297945499420166]"
      ]
     },
     "execution_count": 96,
     "metadata": {},
     "output_type": "execute_result"
    }
   ],
   "source": [
    "# evaluate model\n",
    "model_nn3.evaluate(X_test_sc, y_test, verbose=2)"
   ]
  },
  {
   "cell_type": "code",
   "execution_count": 97,
   "id": "b702fcfa",
   "metadata": {},
   "outputs": [
    {
     "data": {
      "text/plain": [
       "array([[0.61657333],\n",
       "       [0.7422529 ],\n",
       "       [0.00528851],\n",
       "       [0.99462825],\n",
       "       [0.82629144],\n",
       "       [0.9712145 ],\n",
       "       [0.99892044],\n",
       "       [0.99999714],\n",
       "       [0.01248455],\n",
       "       [0.9990944 ]], dtype=float32)"
      ]
     },
     "execution_count": 97,
     "metadata": {},
     "output_type": "execute_result"
    }
   ],
   "source": [
    "# make predictions\n",
    "y_pred_nn3=model_nn3.predict(X_test_sc)\n",
    "y_pred_nn3[:10]"
   ]
  },
  {
   "cell_type": "code",
   "execution_count": 98,
   "id": "100acc32",
   "metadata": {},
   "outputs": [
    {
     "data": {
      "text/plain": [
       "array([[1.],\n",
       "       [1.],\n",
       "       [0.],\n",
       "       [1.],\n",
       "       [1.],\n",
       "       [1.],\n",
       "       [1.],\n",
       "       [1.],\n",
       "       [0.],\n",
       "       [1.]], dtype=float32)"
      ]
     },
     "execution_count": 98,
     "metadata": {},
     "output_type": "execute_result"
    }
   ],
   "source": [
    "# round predicted values\n",
    "y_pred_nn3 =y_pred_nn3.round()\n",
    "y_pred_nn3[:10]"
   ]
  },
  {
   "cell_type": "code",
   "execution_count": 99,
   "id": "91b67a49",
   "metadata": {},
   "outputs": [
    {
     "data": {
      "text/plain": [
       "<tf.Tensor: shape=(2, 2), dtype=int32, numpy=\n",
       "array([[303,  41],\n",
       "       [ 29, 543]], dtype=int32)>"
      ]
     },
     "execution_count": 99,
     "metadata": {},
     "output_type": "execute_result"
    }
   ],
   "source": [
    "# confusion matrix using Tensorflow\n",
    "tf.math.confusion_matrix(\n",
    "    y_test, y_pred_nn3\n",
    ")"
   ]
  },
  {
   "cell_type": "code",
   "execution_count": 100,
   "id": "db511c9a",
   "metadata": {
    "scrolled": false
   },
   "outputs": [
    {
     "name": "stdout",
     "output_type": "stream",
     "text": [
      "              precision    recall  f1-score   support\n",
      "\n",
      "           0       0.91      0.88      0.90       344\n",
      "           1       0.93      0.95      0.94       572\n",
      "\n",
      "    accuracy                           0.92       916\n",
      "   macro avg       0.92      0.92      0.92       916\n",
      "weighted avg       0.92      0.92      0.92       916\n",
      "\n"
     ]
    }
   ],
   "source": [
    "# classification report\n",
    "print(classification_report(y_test, y_pred_nn3))"
   ]
  },
  {
   "cell_type": "markdown",
   "id": "a6270685",
   "metadata": {},
   "source": [
    "5. Neural net"
   ]
  },
  {
   "cell_type": "code",
   "execution_count": 111,
   "id": "cb48b017",
   "metadata": {},
   "outputs": [],
   "source": [
    "X_train, X_test, y_train, y_test = train_test_split(X, y, stratify=y, random_state=42)"
   ]
  },
  {
   "cell_type": "code",
   "execution_count": 112,
   "id": "4294a5d1",
   "metadata": {},
   "outputs": [],
   "source": [
    "# scale data\n",
    "sc = StandardScaler()\n",
    "X_train_sc = sc.fit_transform(X_train)\n",
    "X_test_sc = sc.transform(X_test)"
   ]
  },
  {
   "cell_type": "code",
   "execution_count": 113,
   "id": "14f3f18b",
   "metadata": {},
   "outputs": [],
   "source": [
    "model_nn5 = Sequential()"
   ]
  },
  {
   "cell_type": "code",
   "execution_count": 129,
   "id": "3e040be9",
   "metadata": {},
   "outputs": [],
   "source": [
    "# create model\n",
    "model_nn5.add(Dense(32, input_shape=(51,), activation='relu'))\n",
    "model_nn5.add(Dense(32, activation='relu'))\n",
    "\n",
    "# model_nn3.add(Dropout(0.1))\n",
    "# model_nn3.add(Dense(32, activation='relu'))\n",
    "\n",
    "model_nn5.add(Dense(1, activation='sigmoid'))\n",
    "\n",
    "# 'dropout': 0.1, 'epochs': 10, 'hidden_layers': 2, 'hidden_neurons': 32"
   ]
  },
  {
   "cell_type": "code",
   "execution_count": 118,
   "id": "22be6e8d",
   "metadata": {},
   "outputs": [],
   "source": [
    "# compile model\n",
    "model_nn5.compile(loss='bce', optimizer ='adam', metrics = ['Accuracy', 'Recall', 'Precision'])"
   ]
  },
  {
   "cell_type": "code",
   "execution_count": 130,
   "id": "1ee5fdea",
   "metadata": {},
   "outputs": [],
   "source": [
    "# fit model\n",
    "history_5 = model_nn5.fit(\n",
    "    X_train_sc,\n",
    "    y_train,\n",
    "    validation_data=(X_test_sc, y_test),\n",
    "    epochs=200,\n",
    "    verbose=0\n",
    ")"
   ]
  },
  {
   "cell_type": "code",
   "execution_count": 131,
   "id": "6cb3ebea",
   "metadata": {
    "scrolled": false
   },
   "outputs": [
    {
     "data": {
      "text/html": [
       "<div>\n",
       "<style scoped>\n",
       "    .dataframe tbody tr th:only-of-type {\n",
       "        vertical-align: middle;\n",
       "    }\n",
       "\n",
       "    .dataframe tbody tr th {\n",
       "        vertical-align: top;\n",
       "    }\n",
       "\n",
       "    .dataframe thead th {\n",
       "        text-align: right;\n",
       "    }\n",
       "</style>\n",
       "<table border=\"1\" class=\"dataframe\">\n",
       "  <thead>\n",
       "    <tr style=\"text-align: right;\">\n",
       "      <th></th>\n",
       "      <th>loss</th>\n",
       "      <th>Accuracy</th>\n",
       "      <th>recall</th>\n",
       "      <th>precision</th>\n",
       "      <th>val_loss</th>\n",
       "      <th>val_Accuracy</th>\n",
       "      <th>val_recall</th>\n",
       "      <th>val_precision</th>\n",
       "    </tr>\n",
       "  </thead>\n",
       "  <tbody>\n",
       "    <tr>\n",
       "      <th>0</th>\n",
       "      <td>0.000008</td>\n",
       "      <td>1.0</td>\n",
       "      <td>1.0</td>\n",
       "      <td>1.0</td>\n",
       "      <td>1.412883</td>\n",
       "      <td>0.903930</td>\n",
       "      <td>0.935315</td>\n",
       "      <td>0.912969</td>\n",
       "    </tr>\n",
       "    <tr>\n",
       "      <th>1</th>\n",
       "      <td>0.000008</td>\n",
       "      <td>1.0</td>\n",
       "      <td>1.0</td>\n",
       "      <td>1.0</td>\n",
       "      <td>1.418397</td>\n",
       "      <td>0.902838</td>\n",
       "      <td>0.933566</td>\n",
       "      <td>0.912821</td>\n",
       "    </tr>\n",
       "    <tr>\n",
       "      <th>2</th>\n",
       "      <td>0.000008</td>\n",
       "      <td>1.0</td>\n",
       "      <td>1.0</td>\n",
       "      <td>1.0</td>\n",
       "      <td>1.426890</td>\n",
       "      <td>0.903930</td>\n",
       "      <td>0.935315</td>\n",
       "      <td>0.912969</td>\n",
       "    </tr>\n",
       "    <tr>\n",
       "      <th>3</th>\n",
       "      <td>0.000007</td>\n",
       "      <td>1.0</td>\n",
       "      <td>1.0</td>\n",
       "      <td>1.0</td>\n",
       "      <td>1.433264</td>\n",
       "      <td>0.902838</td>\n",
       "      <td>0.933566</td>\n",
       "      <td>0.912821</td>\n",
       "    </tr>\n",
       "    <tr>\n",
       "      <th>4</th>\n",
       "      <td>0.000007</td>\n",
       "      <td>1.0</td>\n",
       "      <td>1.0</td>\n",
       "      <td>1.0</td>\n",
       "      <td>1.445002</td>\n",
       "      <td>0.905022</td>\n",
       "      <td>0.937063</td>\n",
       "      <td>0.913118</td>\n",
       "    </tr>\n",
       "  </tbody>\n",
       "</table>\n",
       "</div>"
      ],
      "text/plain": [
       "       loss  Accuracy  recall  precision  val_loss  val_Accuracy  val_recall  \\\n",
       "0  0.000008       1.0     1.0        1.0  1.412883      0.903930    0.935315   \n",
       "1  0.000008       1.0     1.0        1.0  1.418397      0.902838    0.933566   \n",
       "2  0.000008       1.0     1.0        1.0  1.426890      0.903930    0.935315   \n",
       "3  0.000007       1.0     1.0        1.0  1.433264      0.902838    0.933566   \n",
       "4  0.000007       1.0     1.0        1.0  1.445002      0.905022    0.937063   \n",
       "\n",
       "   val_precision  \n",
       "0       0.912969  \n",
       "1       0.912821  \n",
       "2       0.912969  \n",
       "3       0.912821  \n",
       "4       0.913118  "
      ]
     },
     "execution_count": 131,
     "metadata": {},
     "output_type": "execute_result"
    }
   ],
   "source": [
    "# save history into a df\n",
    "history_5_df = pd.DataFrame(history_5.history)\n",
    "history_5_df.head()"
   ]
  },
  {
   "cell_type": "code",
   "execution_count": 132,
   "id": "51eae0a7",
   "metadata": {
    "scrolled": false
   },
   "outputs": [
    {
     "data": {
      "text/plain": [
       "5      0.903930\n",
       "6      0.903930\n",
       "7      0.901747\n",
       "8      0.903930\n",
       "9      0.902838\n",
       "         ...   \n",
       "195    0.906114\n",
       "196    0.906114\n",
       "197    0.906114\n",
       "198    0.906114\n",
       "199    0.906114\n",
       "Name: val_Accuracy, Length: 195, dtype: float64"
      ]
     },
     "execution_count": 132,
     "metadata": {},
     "output_type": "execute_result"
    }
   ],
   "source": [
    "history_5_df['val_Accuracy'][5:]"
   ]
  },
  {
   "cell_type": "code",
   "execution_count": 137,
   "id": "a835b3a1",
   "metadata": {},
   "outputs": [
    {
     "data": {
      "image/png": "[encoded data removed]",
      "text/plain": [
       "<Figure size 1440x504 with 3 Axes>"
      ]
     },
     "metadata": {
      "needs_background": "light"
     },
     "output_type": "display_data"
    }
   ],
   "source": [
    "# subplots of accuracy, precision and recall\n",
    "fig, (ax1, ax2, ax3) = plt.subplots(nrows = 1, ncols=3, figsize = (20, 7))\n",
    "fig.suptitle('Accuracy, Precision, Recall')\n",
    "\n",
    "# axis 1 - accuracy\n",
    "ax1.plot(history_3_df[\"val_Accuracy\"], label='Validation Accuracy', color='green')\n",
    "ax1.plot(history_3_df[\"Accuracy\"], label='Training Accuracy', color='orange')\n",
    "ax1.legend(loc=\"upper left\")\n",
    "# axis 2 - precision\n",
    "ax2.plot(history_3_df['val_precision'], label='Validation Precision', color='green')\n",
    "ax2.plot(history_3_df['precision'], label='Training Precision', color='orange')\n",
    "ax2.legend(loc=\"upper left\")\n",
    "# axis3 - recall\n",
    "ax3.plot(history_3_df['val_recall'], label='Validation Recall', color='green')\n",
    "ax3.plot(history_3_df['recall'], label='Training Recall', color='orange')\n",
    "ax3.legend(loc=\"upper left\")\n",
    "\n",
    "plt.legend();"
   ]
  },
  {
   "cell_type": "code",
   "execution_count": 134,
   "id": "23630dd8",
   "metadata": {
    "scrolled": true
   },
   "outputs": [
    {
     "name": "stdout",
     "output_type": "stream",
     "text": [
      "29/29 - 0s - loss: 1.4750 - Accuracy: 0.9061 - recall: 0.9301 - precision: 0.9204\n"
     ]
    },
    {
     "data": {
      "text/plain": [
       "[1.4749722480773926,\n",
       " 0.9061135649681091,\n",
       " 0.9300699234008789,\n",
       " 0.9204152226448059]"
      ]
     },
     "execution_count": 134,
     "metadata": {},
     "output_type": "execute_result"
    }
   ],
   "source": [
    "# evaluate model\n",
    "model_nn5.evaluate(X_test_sc, y_test, verbose=2)"
   ]
  },
  {
   "cell_type": "code",
   "execution_count": 135,
   "id": "fb3049f2",
   "metadata": {},
   "outputs": [
    {
     "data": {
      "text/plain": [
       "array([[9.9999809e-01],\n",
       "       [9.9999958e-01],\n",
       "       [6.4340488e-35],\n",
       "       [1.0000000e+00],\n",
       "       [1.6942015e-01],\n",
       "       [1.0000000e+00],\n",
       "       [1.0000000e+00],\n",
       "       [1.0000000e+00],\n",
       "       [1.0125409e-22],\n",
       "       [1.0000000e+00]], dtype=float32)"
      ]
     },
     "execution_count": 135,
     "metadata": {},
     "output_type": "execute_result"
    }
   ],
   "source": [
    "# make predictions\n",
    "y_pred_nn5=model_nn5.predict(X_test_sc)\n",
    "y_pred_nn5[:10]"
   ]
  },
  {
   "cell_type": "code",
   "execution_count": 136,
   "id": "8c6acd78",
   "metadata": {},
   "outputs": [
    {
     "data": {
      "text/plain": [
       "array([[1.],\n",
       "       [1.],\n",
       "       [0.],\n",
       "       [1.],\n",
       "       [0.],\n",
       "       [1.],\n",
       "       [1.],\n",
       "       [1.],\n",
       "       [0.],\n",
       "       [1.]], dtype=float32)"
      ]
     },
     "execution_count": 136,
     "metadata": {},
     "output_type": "execute_result"
    }
   ],
   "source": [
    "# round predicted values\n",
    "y_pred_nn5 =y_pred_nn5.round()\n",
    "y_pred_nn5[:10]"
   ]
  },
  {
   "cell_type": "code",
   "execution_count": 99,
   "id": "10ee6d51",
   "metadata": {},
   "outputs": [
    {
     "data": {
      "text/plain": [
       "<tf.Tensor: shape=(2, 2), dtype=int32, numpy=\n",
       "array([[303,  41],\n",
       "       [ 29, 543]], dtype=int32)>"
      ]
     },
     "execution_count": 99,
     "metadata": {},
     "output_type": "execute_result"
    }
   ],
   "source": [
    "# confusion matrix using Tensorflow\n",
    "tf.math.confusion_matrix(\n",
    "    y_test, y_pred_nn3\n",
    ")"
   ]
  },
  {
   "cell_type": "code",
   "execution_count": 138,
   "id": "06dda82e",
   "metadata": {
    "scrolled": false
   },
   "outputs": [
    {
     "name": "stdout",
     "output_type": "stream",
     "text": [
      "              precision    recall  f1-score   support\n",
      "\n",
      "           0       0.88      0.87      0.87       344\n",
      "           1       0.92      0.93      0.93       572\n",
      "\n",
      "    accuracy                           0.91       916\n",
      "   macro avg       0.90      0.90      0.90       916\n",
      "weighted avg       0.91      0.91      0.91       916\n",
      "\n"
     ]
    }
   ],
   "source": [
    "# classification report\n",
    "print(classification_report(y_test, y_pred_nn5))"
   ]
  },
  {
   "cell_type": "markdown",
   "id": "4fae5cbb",
   "metadata": {},
   "source": [
    "### GridSearch with nn"
   ]
  },
  {
   "cell_type": "code",
   "execution_count": null,
   "id": "0fbdc13c",
   "metadata": {},
   "outputs": [],
   "source": [
    "# X_train, X_test, y_train, y_test = train_test_split(X, y, random_state=42)"
   ]
  },
  {
   "cell_type": "code",
   "execution_count": null,
   "id": "cfa5d0e7",
   "metadata": {},
   "outputs": [],
   "source": [
    "# X_train.shape"
   ]
  },
  {
   "cell_type": "code",
   "execution_count": null,
   "id": "56ca9078",
   "metadata": {},
   "outputs": [],
   "source": [
    "# ss = StandardScaler()\n",
    "# X_train_sc = ss.fit_transform(X_train)\n",
    "# X_test_sc = ss.transform(X_test)"
   ]
  },
  {
   "cell_type": "code",
   "execution_count": null,
   "id": "ead9cbbb",
   "metadata": {},
   "outputs": [],
   "source": [
    "# # Add an arugment of number of layers to the function (and loop through it) \n",
    "# def model_fn_deep(hidden_neurons, hidden_layers, dropout):\n",
    "#   model = Sequential()\n",
    "#   for layer in range(hidden_layers):\n",
    "#     if layer == 0:\n",
    "#       model.add(Dense(hidden_neurons, input_shape=(51,), activation='relu'))\n",
    "#       model.add(Dropout(dropout))\n",
    "#     else:\n",
    "#       model.add(Dense(hidden_neurons, activation='relu'))\n",
    "#       model.add(Dropout(dropout))\n",
    "\n",
    "#   model.add(Dense(1, activation='sigmoid'))\n",
    "\n",
    "#   model.compile(loss='bce', optimizer='adam', metrics =['Accuracy','Recall', 'Precision'])\n",
    "\n",
    "#   return model\n",
    "\n",
    "# nn_deep = KerasClassifier(build_fn=model_fn_deep, verbose=2)"
   ]
  },
  {
   "cell_type": "code",
   "execution_count": null,
   "id": "3e529fec",
   "metadata": {},
   "outputs": [],
   "source": [
    "# nn_params_deep = {\n",
    "#     'hidden_neurons': [32, 64, 128],\n",
    "#     'hidden_layers': [2, 3],\n",
    "#     'dropout': [0.1, 0.2, 0.5],\n",
    "#     'epochs': [10, 20, 30]\n",
    "# }\n",
    "\n",
    "# gs_deep = GridSearchCV(nn_deep, param_grid=nn_params_deep, cv=3, n_jobs=-1)\n",
    "# gs_deep.fit(X_train_sc, y_train)\n",
    "# print(gs_deep.best_params_)\n",
    "# gs_deep.best_score_"
   ]
  },
  {
   "cell_type": "code",
   "execution_count": null,
   "id": "7e69a548",
   "metadata": {},
   "outputs": [],
   "source": [
    "# # Make predictions \n",
    "# preds_deep = gs_deep.predict(X_test_sc)"
   ]
  },
  {
   "cell_type": "code",
   "execution_count": null,
   "id": "60b9fe56",
   "metadata": {},
   "outputs": [],
   "source": [
    "# # confusion matrix using Tensorflow\n",
    "# tf.math.confusion_matrix(\n",
    "#     y_test, preds_deep\n",
    "# )"
   ]
  },
  {
   "cell_type": "code",
   "execution_count": null,
   "id": "6d57e330",
   "metadata": {},
   "outputs": [],
   "source": [
    "# # classification report\n",
    "# print(classification_report(y_test, preds_deep))"
   ]
  }
 ],
 "metadata": {
  "kernelspec": {
   "display_name": "Python [conda env:dsi]",
   "language": "python",
   "name": "conda-env-dsi-py"
  },
  "language_info": {
   "codemirror_mode": {
    "name": "ipython",
    "version": 3
   },
   "file_extension": ".py",
   "mimetype": "text/x-python",
   "name": "python",
   "nbconvert_exporter": "python",
   "pygments_lexer": "ipython3",
   "version": "3.8.8"
  }
 },
 "nbformat": 4,
 "nbformat_minor": 5
}
