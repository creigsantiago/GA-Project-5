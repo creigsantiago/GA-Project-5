{
 "cells": [
  {
   "cell_type": "markdown",
   "id": "0b3a5112",
   "metadata": {},
   "source": [
    "## Project 5: WAM News Prediction of  California's Gubernatorial 2021 Election\n",
    "\n",
    "### Modeling - Neural Net"
   ]
  },
  {
   "cell_type": "markdown",
   "id": "ac1c7295",
   "metadata": {},
   "source": [
    "## Import Libraries"
   ]
  },
  {
   "cell_type": "code",
   "execution_count": 1,
   "id": "c893ed0b",
   "metadata": {},
   "outputs": [],
   "source": [
    "# import libraries\n",
    "import pandas as pd\n",
    "import numpy as np\n",
    "import matplotlib.pyplot as plt\n",
    "import tensorflow as tf\n",
    "%matplotlib inline\n",
    "# sklearn\n",
    "from sklearn.model_selection import train_test_split, GridSearchCV, cross_val_score\n",
    "from sklearn.preprocessing import StandardScaler\n",
    "from sklearn.ensemble import RandomForestClassifier, ExtraTreesClassifier\n",
    "from sklearn.model_selection import cross_val_score, train_test_split, GridSearchCV\n",
    "from sklearn.metrics import confusion_matrix, plot_confusion_matrix, classification_report\n",
    "from sklearn.naive_bayes import MultinomialNB\n",
    "from sklearn.pipeline import Pipeline\n",
    "from sklearn import metrics\n",
    "# keras\n",
    "from tensorflow.keras.models import Sequential\n",
    "from tensorflow.keras.layers import Dense, Dropout\n",
    "from tensorflow.keras.utils import to_categorical\n",
    "from tensorflow.keras.metrics import Recall\n",
    "from tensorflow.keras.callbacks import EarlyStopping\n",
    "from tensorflow.keras.wrappers.scikit_learn import KerasClassifier\n",
    "# set random seed\n",
    "import random\n",
    "random.seed=42"
   ]
  },
  {
   "cell_type": "markdown",
   "id": "8bacc424",
   "metadata": {},
   "source": [
    "## Load Data"
   ]
  },
  {
   "cell_type": "code",
   "execution_count": 2,
   "id": "96f4cef9",
   "metadata": {},
   "outputs": [],
   "source": [
    "tf.random.set_seed(\n",
    "    1234\n",
    ")"
   ]
  },
  {
   "cell_type": "code",
   "execution_count": 3,
   "id": "f29119ab",
   "metadata": {},
   "outputs": [
    {
     "data": {
      "text/html": [
       "<div>\n",
       "<style scoped>\n",
       "    .dataframe tbody tr th:only-of-type {\n",
       "        vertical-align: middle;\n",
       "    }\n",
       "\n",
       "    .dataframe tbody tr th {\n",
       "        vertical-align: top;\n",
       "    }\n",
       "\n",
       "    .dataframe thead th {\n",
       "        text-align: right;\n",
       "    }\n",
       "</style>\n",
       "<table border=\"1\" class=\"dataframe\">\n",
       "  <thead>\n",
       "    <tr style=\"text-align: right;\">\n",
       "      <th></th>\n",
       "      <th>dist</th>\n",
       "      <th>ownhome</th>\n",
       "      <th>pid3</th>\n",
       "      <th>gender</th>\n",
       "      <th>age</th>\n",
       "      <th>educ</th>\n",
       "      <th>race</th>\n",
       "      <th>faminc</th>\n",
       "      <th>marstat</th>\n",
       "      <th>newsint</th>\n",
       "      <th>approval_gov</th>\n",
       "      <th>ideo5</th>\n",
       "      <th>voted_gov</th>\n",
       "    </tr>\n",
       "  </thead>\n",
       "  <tbody>\n",
       "    <tr>\n",
       "      <th>392782</th>\n",
       "      <td>19</td>\n",
       "      <td>Other</td>\n",
       "      <td>Democrat</td>\n",
       "      <td>Female</td>\n",
       "      <td>54</td>\n",
       "      <td>4-Year</td>\n",
       "      <td>White</td>\n",
       "      <td>50k - 60k</td>\n",
       "      <td>Single / Never Married</td>\n",
       "      <td>Most of the time</td>\n",
       "      <td>Strongly Approve</td>\n",
       "      <td>Liberal</td>\n",
       "      <td>1</td>\n",
       "    </tr>\n",
       "    <tr>\n",
       "      <th>392786</th>\n",
       "      <td>52</td>\n",
       "      <td>Rent</td>\n",
       "      <td>Democrat</td>\n",
       "      <td>Female</td>\n",
       "      <td>28</td>\n",
       "      <td>Some College</td>\n",
       "      <td>White</td>\n",
       "      <td>20k - 30k</td>\n",
       "      <td>Single / Never Married</td>\n",
       "      <td>Most of the time</td>\n",
       "      <td>Strongly Approve</td>\n",
       "      <td>Liberal</td>\n",
       "      <td>1</td>\n",
       "    </tr>\n",
       "    <tr>\n",
       "      <th>392800</th>\n",
       "      <td>49</td>\n",
       "      <td>Own</td>\n",
       "      <td>Other</td>\n",
       "      <td>Male</td>\n",
       "      <td>86</td>\n",
       "      <td>Post-Grad</td>\n",
       "      <td>White</td>\n",
       "      <td>120k - 150k</td>\n",
       "      <td>Widowed</td>\n",
       "      <td>Most of the time</td>\n",
       "      <td>Strongly Disapprove</td>\n",
       "      <td>Very Conservative</td>\n",
       "      <td>0</td>\n",
       "    </tr>\n",
       "    <tr>\n",
       "      <th>392832</th>\n",
       "      <td>36</td>\n",
       "      <td>Own</td>\n",
       "      <td>Republican</td>\n",
       "      <td>Male</td>\n",
       "      <td>80</td>\n",
       "      <td>Some College</td>\n",
       "      <td>White</td>\n",
       "      <td>20k - 30k</td>\n",
       "      <td>Widowed</td>\n",
       "      <td>Most of the time</td>\n",
       "      <td>Strongly Disapprove</td>\n",
       "      <td>Conservative</td>\n",
       "      <td>0</td>\n",
       "    </tr>\n",
       "    <tr>\n",
       "      <th>392860</th>\n",
       "      <td>36</td>\n",
       "      <td>Own</td>\n",
       "      <td>Independent</td>\n",
       "      <td>Male</td>\n",
       "      <td>83</td>\n",
       "      <td>4-Year</td>\n",
       "      <td>White</td>\n",
       "      <td>Prefer not to say</td>\n",
       "      <td>Married</td>\n",
       "      <td>Most of the time</td>\n",
       "      <td>Strongly Disapprove</td>\n",
       "      <td>Conservative</td>\n",
       "      <td>0</td>\n",
       "    </tr>\n",
       "  </tbody>\n",
       "</table>\n",
       "</div>"
      ],
      "text/plain": [
       "        dist ownhome         pid3  gender  age          educ   race  \\\n",
       "392782    19   Other     Democrat  Female   54        4-Year  White   \n",
       "392786    52    Rent     Democrat  Female   28  Some College  White   \n",
       "392800    49     Own        Other    Male   86     Post-Grad  White   \n",
       "392832    36     Own   Republican    Male   80  Some College  White   \n",
       "392860    36     Own  Independent    Male   83        4-Year  White   \n",
       "\n",
       "                   faminc                 marstat           newsint  \\\n",
       "392782          50k - 60k  Single / Never Married  Most of the time   \n",
       "392786          20k - 30k  Single / Never Married  Most of the time   \n",
       "392800        120k - 150k                 Widowed  Most of the time   \n",
       "392832          20k - 30k                 Widowed  Most of the time   \n",
       "392860  Prefer not to say                 Married  Most of the time   \n",
       "\n",
       "               approval_gov              ideo5  voted_gov  \n",
       "392782     Strongly Approve            Liberal          1  \n",
       "392786     Strongly Approve            Liberal          1  \n",
       "392800  Strongly Disapprove  Very Conservative          0  \n",
       "392832  Strongly Disapprove       Conservative          0  \n",
       "392860  Strongly Disapprove       Conservative          0  "
      ]
     },
     "execution_count": 3,
     "metadata": {},
     "output_type": "execute_result"
    }
   ],
   "source": [
    "# read data\n",
    "df=pd.read_csv('../data/2018_gov_clean.csv', index_col=0)\n",
    "df.head()"
   ]
  },
  {
   "cell_type": "code",
   "execution_count": 4,
   "id": "f216a597",
   "metadata": {},
   "outputs": [
    {
     "name": "stdout",
     "output_type": "stream",
     "text": [
      "<class 'pandas.core.frame.DataFrame'>\n",
      "Int64Index: 3663 entries, 392782 to 452724\n",
      "Data columns (total 13 columns):\n",
      " #   Column        Non-Null Count  Dtype \n",
      "---  ------        --------------  ----- \n",
      " 0   dist          3663 non-null   int64 \n",
      " 1   ownhome       3663 non-null   object\n",
      " 2   pid3          3663 non-null   object\n",
      " 3   gender        3663 non-null   object\n",
      " 4   age           3663 non-null   int64 \n",
      " 5   educ          3663 non-null   object\n",
      " 6   race          3663 non-null   object\n",
      " 7   faminc        3663 non-null   object\n",
      " 8   marstat       3663 non-null   object\n",
      " 9   newsint       3663 non-null   object\n",
      " 10  approval_gov  3663 non-null   object\n",
      " 11  ideo5         3663 non-null   object\n",
      " 12  voted_gov     3663 non-null   int64 \n",
      "dtypes: int64(3), object(10)\n",
      "memory usage: 400.6+ KB\n"
     ]
    }
   ],
   "source": [
    "# check for null values\n",
    "df.info()"
   ]
  },
  {
   "cell_type": "code",
   "execution_count": 5,
   "id": "99c3df6f",
   "metadata": {},
   "outputs": [
    {
     "data": {
      "text/plain": [
       "1    0.624352\n",
       "0    0.375648\n",
       "Name: voted_gov, dtype: float64"
      ]
     },
     "execution_count": 5,
     "metadata": {},
     "output_type": "execute_result"
    }
   ],
   "source": [
    "# baseline accuracy\n",
    "df.voted_gov.value_counts(normalize=True)"
   ]
  },
  {
   "cell_type": "markdown",
   "id": "a4c4a07e",
   "metadata": {},
   "source": [
    "# Modeling"
   ]
  },
  {
   "cell_type": "code",
   "execution_count": 6,
   "id": "e147bcf4",
   "metadata": {},
   "outputs": [],
   "source": [
    "# set up X and y\n",
    "X = df.drop(columns =['voted_gov'])\n",
    "y = df['voted_gov']"
   ]
  },
  {
   "cell_type": "code",
   "execution_count": 7,
   "id": "afc6deaa",
   "metadata": {},
   "outputs": [],
   "source": [
    "# dummify X variable\n",
    "X = pd.get_dummies(X, drop_first=True)"
   ]
  },
  {
   "cell_type": "code",
   "execution_count": 8,
   "id": "741c48da",
   "metadata": {},
   "outputs": [
    {
     "data": {
      "text/plain": [
       "(3663, 51)"
      ]
     },
     "execution_count": 8,
     "metadata": {},
     "output_type": "execute_result"
    }
   ],
   "source": [
    "# checkout X shape\n",
    "X.shape"
   ]
  },
  {
   "cell_type": "code",
   "execution_count": 9,
   "id": "ab145807",
   "metadata": {},
   "outputs": [],
   "source": [
    "# check if shape of X = y\n",
    "assert X.shape[0]==y.shape[0]"
   ]
  },
  {
   "cell_type": "markdown",
   "id": "5002b628",
   "metadata": {},
   "source": [
    "### 1. Neural Net Classification - Early stopping"
   ]
  },
  {
   "cell_type": "code",
   "execution_count": 78,
   "id": "a65d07cc",
   "metadata": {},
   "outputs": [],
   "source": [
    "# split data\n",
    "X_train, X_test, y_train, y_test = train_test_split(X, y, stratify=y, random_state=42)"
   ]
  },
  {
   "cell_type": "code",
   "execution_count": 79,
   "id": "88321e9e",
   "metadata": {},
   "outputs": [],
   "source": [
    "# scale data\n",
    "sc = StandardScaler()\n",
    "X_train_sc = sc.fit_transform(X_train)\n",
    "X_test_sc = sc.transform(X_test)"
   ]
  },
  {
   "cell_type": "code",
   "execution_count": 80,
   "id": "322798e4",
   "metadata": {},
   "outputs": [],
   "source": [
    "# create model with one hidden layer\n",
    "model_nn1 = Sequential()\n",
    "model_nn1.add(Dense(32, input_shape=(X_train_sc.shape[1],), activation='relu'))\n",
    "model_nn1.add(Dense(1, activation='sigmoid'))"
   ]
  },
  {
   "cell_type": "code",
   "execution_count": 81,
   "id": "936d8e01",
   "metadata": {
    "scrolled": true
   },
   "outputs": [
    {
     "name": "stdout",
     "output_type": "stream",
     "text": [
      "Model: \"sequential_4\"\n",
      "_________________________________________________________________\n",
      "Layer (type)                 Output Shape              Param #   \n",
      "=================================================================\n",
      "dense_11 (Dense)             (None, 32)                1664      \n",
      "_________________________________________________________________\n",
      "dense_12 (Dense)             (None, 1)                 33        \n",
      "=================================================================\n",
      "Total params: 1,697\n",
      "Trainable params: 1,697\n",
      "Non-trainable params: 0\n",
      "_________________________________________________________________\n"
     ]
    }
   ],
   "source": [
    "# model summary\n",
    "model_nn1.summary()"
   ]
  },
  {
   "cell_type": "code",
   "execution_count": 82,
   "id": "c5b9e1df",
   "metadata": {},
   "outputs": [],
   "source": [
    "# Compile it\n",
    "model_nn1.compile(loss='bce', optimizer='adam', metrics=['Accuracy', 'Recall'])"
   ]
  },
  {
   "cell_type": "code",
   "execution_count": 83,
   "id": "fa8a2180",
   "metadata": {},
   "outputs": [],
   "source": [
    "# set early stopping\n",
    "early_stop = EarlyStopping(monitor='val_loss', patience=5, verbose=1)"
   ]
  },
  {
   "cell_type": "code",
   "execution_count": 84,
   "id": "56afff43",
   "metadata": {},
   "outputs": [
    {
     "name": "stdout",
     "output_type": "stream",
     "text": [
      "Epoch 00015: early stopping\n"
     ]
    }
   ],
   "source": [
    "# fit model\n",
    "history = model_nn1.fit(\n",
    "    X_train_sc, y_train, \n",
    "    validation_data=(X_test_sc, y_test), \n",
    "    epochs=100, \n",
    "    callbacks=[early_stop], \n",
    "    verbose=0,\n",
    "    batch_size=32\n",
    ")"
   ]
  },
  {
   "cell_type": "code",
   "execution_count": 85,
   "id": "a6ad831d",
   "metadata": {},
   "outputs": [],
   "source": [
    "# save history into a df and checkout the last 5 epochs\n",
    "history_df = pd.DataFrame(history.history)"
   ]
  },
  {
   "cell_type": "code",
   "execution_count": 94,
   "id": "a27572a2",
   "metadata": {},
   "outputs": [
    {
     "data": {
      "text/html": [
       "<div>\n",
       "<style scoped>\n",
       "    .dataframe tbody tr th:only-of-type {\n",
       "        vertical-align: middle;\n",
       "    }\n",
       "\n",
       "    .dataframe tbody tr th {\n",
       "        vertical-align: top;\n",
       "    }\n",
       "\n",
       "    .dataframe thead th {\n",
       "        text-align: right;\n",
       "    }\n",
       "</style>\n",
       "<table border=\"1\" class=\"dataframe\">\n",
       "  <thead>\n",
       "    <tr style=\"text-align: right;\">\n",
       "      <th></th>\n",
       "      <th>loss</th>\n",
       "      <th>Accuracy</th>\n",
       "      <th>recall</th>\n",
       "      <th>val_loss</th>\n",
       "      <th>val_Accuracy</th>\n",
       "      <th>val_recall</th>\n",
       "    </tr>\n",
       "  </thead>\n",
       "  <tbody>\n",
       "    <tr>\n",
       "      <th>10</th>\n",
       "      <td>0.145074</td>\n",
       "      <td>0.943575</td>\n",
       "      <td>0.962682</td>\n",
       "      <td>0.196749</td>\n",
       "      <td>0.930131</td>\n",
       "      <td>0.956294</td>\n",
       "    </tr>\n",
       "    <tr>\n",
       "      <th>11</th>\n",
       "      <td>0.141404</td>\n",
       "      <td>0.945395</td>\n",
       "      <td>0.963848</td>\n",
       "      <td>0.197880</td>\n",
       "      <td>0.929039</td>\n",
       "      <td>0.958042</td>\n",
       "    </tr>\n",
       "    <tr>\n",
       "      <th>12</th>\n",
       "      <td>0.137701</td>\n",
       "      <td>0.945759</td>\n",
       "      <td>0.966764</td>\n",
       "      <td>0.198103</td>\n",
       "      <td>0.929039</td>\n",
       "      <td>0.952797</td>\n",
       "    </tr>\n",
       "    <tr>\n",
       "      <th>13</th>\n",
       "      <td>0.134162</td>\n",
       "      <td>0.947943</td>\n",
       "      <td>0.966764</td>\n",
       "      <td>0.199274</td>\n",
       "      <td>0.926856</td>\n",
       "      <td>0.951049</td>\n",
       "    </tr>\n",
       "    <tr>\n",
       "      <th>14</th>\n",
       "      <td>0.131740</td>\n",
       "      <td>0.946851</td>\n",
       "      <td>0.965015</td>\n",
       "      <td>0.199590</td>\n",
       "      <td>0.925764</td>\n",
       "      <td>0.949301</td>\n",
       "    </tr>\n",
       "  </tbody>\n",
       "</table>\n",
       "</div>"
      ],
      "text/plain": [
       "        loss  Accuracy    recall  val_loss  val_Accuracy  val_recall\n",
       "10  0.145074  0.943575  0.962682  0.196749      0.930131    0.956294\n",
       "11  0.141404  0.945395  0.963848  0.197880      0.929039    0.958042\n",
       "12  0.137701  0.945759  0.966764  0.198103      0.929039    0.952797\n",
       "13  0.134162  0.947943  0.966764  0.199274      0.926856    0.951049\n",
       "14  0.131740  0.946851  0.965015  0.199590      0.925764    0.949301"
      ]
     },
     "execution_count": 94,
     "metadata": {},
     "output_type": "execute_result"
    }
   ],
   "source": [
    "history_df.tail()"
   ]
  },
  {
   "cell_type": "code",
   "execution_count": 87,
   "id": "8ae523a2",
   "metadata": {
    "scrolled": true
   },
   "outputs": [
    {
     "data": {
      "image/png": "[encoded data removed]",
      "text/plain": [
       "<Figure size 1080x504 with 2 Axes>"
      ]
     },
     "metadata": {
      "needs_background": "light"
     },
     "output_type": "display_data"
    }
   ],
   "source": [
    "# subplots of accuracy, and recall\n",
    "fig, (ax1, ax2) = plt.subplots(nrows = 1, ncols=2, figsize = (15, 7))\n",
    "fig.suptitle('Accuracy and Recall Plot of a Neural Net Model')\n",
    "\n",
    "# axis 1\n",
    "ax1.plot(history_df['val_Accuracy'], label='Validation Accuracy', color='green')\n",
    "ax1.plot(history_df['Accuracy'], label='Training Accuracy', color='orange')\n",
    "ax1.legend(loc=\"upper left\")\n",
    "ax1.title.set_text('Accuracy')\n",
    "\n",
    "#axis3\n",
    "ax2.plot(history_df['val_recall'], label='Validation Recall', color='green')\n",
    "ax2.plot(history_df['recall'], label='Training Recall', color='orange')\n",
    "ax2.legend(loc=\"upper left\")\n",
    "ax2.title.set_text('Recall')\n",
    "\n",
    "plt.legend();"
   ]
  },
  {
   "cell_type": "markdown",
   "id": "7b152b19",
   "metadata": {},
   "source": [
    "The plots show that this model with one hidden layer and early stopping is slightly overfit. "
   ]
  },
  {
   "cell_type": "code",
   "execution_count": 88,
   "id": "ab0afb64",
   "metadata": {},
   "outputs": [
    {
     "name": "stdout",
     "output_type": "stream",
     "text": [
      "29/29 - 0s - loss: 0.1996 - Accuracy: 0.9258 - recall: 0.9493\n"
     ]
    },
    {
     "data": {
      "text/plain": [
       "[0.19959016144275665, 0.9257642030715942, 0.9493007063865662]"
      ]
     },
     "execution_count": 88,
     "metadata": {},
     "output_type": "execute_result"
    }
   ],
   "source": [
    "# evaluate model\n",
    "model_nn1.evaluate(X_test_sc, y_test, verbose=2)"
   ]
  },
  {
   "cell_type": "code",
   "execution_count": 89,
   "id": "051528a7",
   "metadata": {},
   "outputs": [
    {
     "data": {
      "text/plain": [
       "array([[0.83798224],\n",
       "       [0.868325  ],\n",
       "       [0.0025495 ],\n",
       "       [0.9971823 ],\n",
       "       [0.8383674 ],\n",
       "       [0.98559064],\n",
       "       [0.9985644 ],\n",
       "       [0.99987674],\n",
       "       [0.01134747],\n",
       "       [0.99600875]], dtype=float32)"
      ]
     },
     "execution_count": 89,
     "metadata": {},
     "output_type": "execute_result"
    }
   ],
   "source": [
    "# make predictions\n",
    "y_pred_nn1=model_nn1.predict(X_test_sc)\n",
    "y_pred_nn1[:10]"
   ]
  },
  {
   "cell_type": "code",
   "execution_count": 90,
   "id": "f3b00a26",
   "metadata": {},
   "outputs": [
    {
     "data": {
      "text/plain": [
       "array([[1.],\n",
       "       [1.],\n",
       "       [0.],\n",
       "       [1.],\n",
       "       [1.],\n",
       "       [1.],\n",
       "       [1.],\n",
       "       [1.],\n",
       "       [0.],\n",
       "       [1.]], dtype=float32)"
      ]
     },
     "execution_count": 90,
     "metadata": {},
     "output_type": "execute_result"
    }
   ],
   "source": [
    "# round predicted values\n",
    "y_pred_nn1 =y_pred_nn1.round()\n",
    "y_pred_nn1[:10]"
   ]
  },
  {
   "cell_type": "code",
   "execution_count": 91,
   "id": "89dbc1f3",
   "metadata": {},
   "outputs": [
    {
     "data": {
      "text/plain": [
       "<tf.Tensor: shape=(2, 2), dtype=int32, numpy=\n",
       "array([[305,  39],\n",
       "       [ 29, 543]], dtype=int32)>"
      ]
     },
     "execution_count": 91,
     "metadata": {},
     "output_type": "execute_result"
    }
   ],
   "source": [
    "# confusion matrix using Tensorflow\n",
    "tf.math.confusion_matrix(\n",
    "    y_test, y_pred_nn1\n",
    ")"
   ]
  },
  {
   "cell_type": "code",
   "execution_count": 92,
   "id": "c2e2d9e7",
   "metadata": {
    "scrolled": true
   },
   "outputs": [
    {
     "name": "stdout",
     "output_type": "stream",
     "text": [
      "              precision    recall  f1-score   support\n",
      "\n",
      "           0       0.91      0.89      0.90       344\n",
      "           1       0.93      0.95      0.94       572\n",
      "\n",
      "    accuracy                           0.93       916\n",
      "   macro avg       0.92      0.92      0.92       916\n",
      "weighted avg       0.93      0.93      0.93       916\n",
      "\n"
     ]
    }
   ],
   "source": [
    "# classification report\n",
    "print(classification_report(y_test, y_pred_nn1))"
   ]
  },
  {
   "cell_type": "code",
   "execution_count": 148,
   "id": "6c404ef0",
   "metadata": {},
   "outputs": [
    {
     "name": "stdout",
     "output_type": "stream",
     "text": [
      "Accuracy: 0.925764192139738\n",
      "Recall: 0.9493006993006993\n",
      "Specificity: 0.8866279069767442\n"
     ]
    }
   ],
   "source": [
    "# save confusion matrix values\n",
    "tn, fp, fn, tp = confusion_matrix(y_test, y_pred_nn1).ravel()\n",
    "# metrics\n",
    "accu = (tp+tn) / (tp+tn+fp+fn)\n",
    "recall = tp/(tp+fn)\n",
    "prec = tp/ (tp+fp)\n",
    "spec= tn/(tn+fp)\n",
    "\n",
    "print('Accuracy:', accu)\n",
    "print('Recall:', recall)\n",
    "print('Specificity:', spec)"
   ]
  },
  {
   "cell_type": "markdown",
   "id": "b933b817",
   "metadata": {},
   "source": [
    "This model is slightly overfit with 92.5% accuracy on test and 0.95% accuracy on train."
   ]
  },
  {
   "cell_type": "markdown",
   "id": "c022dfdb",
   "metadata": {},
   "source": [
    "### 2. Neural Net Classification - dropout"
   ]
  },
  {
   "cell_type": "code",
   "execution_count": 95,
   "id": "c370b0af",
   "metadata": {},
   "outputs": [],
   "source": [
    "# split data into train and test\n",
    "X_train, X_test, y_train, y_test = train_test_split(X, y, stratify=y, random_state=42)"
   ]
  },
  {
   "cell_type": "code",
   "execution_count": 96,
   "id": "84a603a3",
   "metadata": {},
   "outputs": [],
   "source": [
    "# scale data\n",
    "sc = StandardScaler()\n",
    "X_train_sc = sc.fit_transform(X_train)\n",
    "X_test_sc = sc.transform(X_test)"
   ]
  },
  {
   "cell_type": "code",
   "execution_count": 97,
   "id": "496637e6",
   "metadata": {},
   "outputs": [],
   "source": [
    "# instantiate model\n",
    "model_nn2 = Sequential()"
   ]
  },
  {
   "cell_type": "code",
   "execution_count": 98,
   "id": "c31f42b7",
   "metadata": {},
   "outputs": [],
   "source": [
    "# create model\n",
    "model_nn2.add(Dense(32, input_shape=(X_train_sc.shape[1],), activation='relu'))\n",
    "model_nn2.add(Dropout(0.2))\n",
    "model_nn2.add(Dense(10, activation='relu'))\n",
    "model_nn2.add(Dropout(0.2))\n",
    "model_nn2.add(Dense(1, activation='sigmoid'))"
   ]
  },
  {
   "cell_type": "code",
   "execution_count": 99,
   "id": "28b2737c",
   "metadata": {},
   "outputs": [],
   "source": [
    "# compile model\n",
    "model_nn2.compile(loss='bce', optimizer ='adam', metrics = ['Accuracy', 'Recall'])"
   ]
  },
  {
   "cell_type": "code",
   "execution_count": 100,
   "id": "40907c9a",
   "metadata": {},
   "outputs": [],
   "source": [
    "# fit model\n",
    "history_2 = model_nn2.fit(\n",
    "    X_train_sc,\n",
    "    y_train,\n",
    "    validation_data=(X_test_sc, y_test),\n",
    "    epochs=100,\n",
    "    verbose=0\n",
    ")"
   ]
  },
  {
   "cell_type": "code",
   "execution_count": 101,
   "id": "e9195847",
   "metadata": {
    "scrolled": false
   },
   "outputs": [],
   "source": [
    "# save history into a df\n",
    "history_2_df = pd.DataFrame(history_2.history)"
   ]
  },
  {
   "cell_type": "code",
   "execution_count": 102,
   "id": "a281e3f4",
   "metadata": {
    "scrolled": true
   },
   "outputs": [
    {
     "data": {
      "text/html": [
       "<div>\n",
       "<style scoped>\n",
       "    .dataframe tbody tr th:only-of-type {\n",
       "        vertical-align: middle;\n",
       "    }\n",
       "\n",
       "    .dataframe tbody tr th {\n",
       "        vertical-align: top;\n",
       "    }\n",
       "\n",
       "    .dataframe thead th {\n",
       "        text-align: right;\n",
       "    }\n",
       "</style>\n",
       "<table border=\"1\" class=\"dataframe\">\n",
       "  <thead>\n",
       "    <tr style=\"text-align: right;\">\n",
       "      <th></th>\n",
       "      <th>loss</th>\n",
       "      <th>Accuracy</th>\n",
       "      <th>recall</th>\n",
       "      <th>val_loss</th>\n",
       "      <th>val_Accuracy</th>\n",
       "      <th>val_recall</th>\n",
       "    </tr>\n",
       "  </thead>\n",
       "  <tbody>\n",
       "    <tr>\n",
       "      <th>95</th>\n",
       "      <td>0.074002</td>\n",
       "      <td>0.973790</td>\n",
       "      <td>0.983090</td>\n",
       "      <td>0.379315</td>\n",
       "      <td>0.911572</td>\n",
       "      <td>0.952797</td>\n",
       "    </tr>\n",
       "    <tr>\n",
       "      <th>96</th>\n",
       "      <td>0.065272</td>\n",
       "      <td>0.977430</td>\n",
       "      <td>0.989504</td>\n",
       "      <td>0.389331</td>\n",
       "      <td>0.914847</td>\n",
       "      <td>0.954545</td>\n",
       "    </tr>\n",
       "    <tr>\n",
       "      <th>97</th>\n",
       "      <td>0.068293</td>\n",
       "      <td>0.974518</td>\n",
       "      <td>0.987172</td>\n",
       "      <td>0.387689</td>\n",
       "      <td>0.918122</td>\n",
       "      <td>0.952797</td>\n",
       "    </tr>\n",
       "    <tr>\n",
       "      <th>98</th>\n",
       "      <td>0.066992</td>\n",
       "      <td>0.975610</td>\n",
       "      <td>0.987172</td>\n",
       "      <td>0.392319</td>\n",
       "      <td>0.918122</td>\n",
       "      <td>0.952797</td>\n",
       "    </tr>\n",
       "    <tr>\n",
       "      <th>99</th>\n",
       "      <td>0.083596</td>\n",
       "      <td>0.970149</td>\n",
       "      <td>0.983090</td>\n",
       "      <td>0.371817</td>\n",
       "      <td>0.915939</td>\n",
       "      <td>0.949301</td>\n",
       "    </tr>\n",
       "  </tbody>\n",
       "</table>\n",
       "</div>"
      ],
      "text/plain": [
       "        loss  Accuracy    recall  val_loss  val_Accuracy  val_recall\n",
       "95  0.074002  0.973790  0.983090  0.379315      0.911572    0.952797\n",
       "96  0.065272  0.977430  0.989504  0.389331      0.914847    0.954545\n",
       "97  0.068293  0.974518  0.987172  0.387689      0.918122    0.952797\n",
       "98  0.066992  0.975610  0.987172  0.392319      0.918122    0.952797\n",
       "99  0.083596  0.970149  0.983090  0.371817      0.915939    0.949301"
      ]
     },
     "execution_count": 102,
     "metadata": {},
     "output_type": "execute_result"
    }
   ],
   "source": [
    "history_2_df.tail()"
   ]
  },
  {
   "cell_type": "code",
   "execution_count": 145,
   "id": "b9676a17",
   "metadata": {},
   "outputs": [
    {
     "data": {
      "image/png": "[encoded data removed]",
      "text/plain": [
       "<Figure size 1080x504 with 2 Axes>"
      ]
     },
     "metadata": {
      "needs_background": "light"
     },
     "output_type": "display_data"
    }
   ],
   "source": [
    "# subplots of accuracy, and recall\n",
    "fig, (ax1, ax2) = plt.subplots(nrows = 1, ncols=2, figsize = (15, 7))\n",
    "fig.suptitle('Accuracy, and Recall Plot of Neural Net Model')\n",
    "\n",
    "# axis 1 - accuracy\n",
    "ax1.plot(history_2_df[\"val_Accuracy\"], label='Validation Accuracy', color='green')\n",
    "ax1.plot(history_2_df[\"Accuracy\"], label='Training Accuracy', color='orange')\n",
    "ax1.legend(loc=\"upper left\")\n",
    "ax1.title.set_text('Accuracy')\n",
    "# axis2 - recall\n",
    "ax2.plot(history_2_df['val_recall'], label='Validation Recall', color='green')\n",
    "ax2.plot(history_2_df['recall'], label='Training Recall', color='orange')\n",
    "ax2.legend(loc=\"upper right\")\n",
    "ax2.title.set_text('Recall')\n",
    "plt.legend();"
   ]
  },
  {
   "cell_type": "code",
   "execution_count": 104,
   "id": "021d4b33",
   "metadata": {
    "scrolled": true
   },
   "outputs": [
    {
     "name": "stdout",
     "output_type": "stream",
     "text": [
      "29/29 - 0s - loss: 0.3718 - Accuracy: 0.9159 - recall: 0.9493\n"
     ]
    },
    {
     "data": {
      "text/plain": [
       "[0.3718169629573822, 0.9159388542175293, 0.9493007063865662]"
      ]
     },
     "execution_count": 104,
     "metadata": {},
     "output_type": "execute_result"
    }
   ],
   "source": [
    "# evaluate model\n",
    "model_nn2.evaluate(X_test_sc, y_test, verbose=2)"
   ]
  },
  {
   "cell_type": "code",
   "execution_count": 105,
   "id": "021dab1b",
   "metadata": {},
   "outputs": [
    {
     "data": {
      "text/plain": [
       "array([[9.5945501e-01],\n",
       "       [9.4353050e-01],\n",
       "       [3.0948185e-13],\n",
       "       [9.9920011e-01],\n",
       "       [2.8730336e-01],\n",
       "       [9.9872732e-01],\n",
       "       [9.9999869e-01],\n",
       "       [1.0000000e+00],\n",
       "       [6.0598040e-08],\n",
       "       [9.9999970e-01]], dtype=float32)"
      ]
     },
     "execution_count": 105,
     "metadata": {},
     "output_type": "execute_result"
    }
   ],
   "source": [
    "# make predictions\n",
    "y_pred_nn2=model_nn2.predict(X_test_sc)\n",
    "y_pred_nn2[:10]"
   ]
  },
  {
   "cell_type": "code",
   "execution_count": 106,
   "id": "b80abc64",
   "metadata": {},
   "outputs": [
    {
     "data": {
      "text/plain": [
       "array([[1.],\n",
       "       [1.],\n",
       "       [0.],\n",
       "       [1.],\n",
       "       [0.],\n",
       "       [1.],\n",
       "       [1.],\n",
       "       [1.],\n",
       "       [0.],\n",
       "       [1.]], dtype=float32)"
      ]
     },
     "execution_count": 106,
     "metadata": {},
     "output_type": "execute_result"
    }
   ],
   "source": [
    "# round predicted values\n",
    "y_pred_nn2 =y_pred_nn2.round()\n",
    "y_pred_nn2[:10]"
   ]
  },
  {
   "cell_type": "code",
   "execution_count": 107,
   "id": "7453d3e2",
   "metadata": {},
   "outputs": [
    {
     "data": {
      "text/plain": [
       "<tf.Tensor: shape=(2, 2), dtype=int32, numpy=\n",
       "array([[296,  48],\n",
       "       [ 29, 543]], dtype=int32)>"
      ]
     },
     "execution_count": 107,
     "metadata": {},
     "output_type": "execute_result"
    }
   ],
   "source": [
    "# confusion matrix using Tensorflow\n",
    "tf.math.confusion_matrix(\n",
    "    y_test, y_pred_nn2\n",
    ")"
   ]
  },
  {
   "cell_type": "code",
   "execution_count": 108,
   "id": "a8aa384c",
   "metadata": {
    "scrolled": true
   },
   "outputs": [
    {
     "name": "stdout",
     "output_type": "stream",
     "text": [
      "              precision    recall  f1-score   support\n",
      "\n",
      "           0       0.91      0.86      0.88       344\n",
      "           1       0.92      0.95      0.93       572\n",
      "\n",
      "    accuracy                           0.92       916\n",
      "   macro avg       0.91      0.90      0.91       916\n",
      "weighted avg       0.92      0.92      0.92       916\n",
      "\n"
     ]
    }
   ],
   "source": [
    "# classification report\n",
    "print(classification_report(y_test, y_pred_nn2))"
   ]
  },
  {
   "cell_type": "code",
   "execution_count": 149,
   "id": "f172cb6d",
   "metadata": {},
   "outputs": [
    {
     "name": "stdout",
     "output_type": "stream",
     "text": [
      "Accuracy: 0.915938864628821\n",
      "Recall: 0.9493006993006993\n",
      "Specificity: 0.8604651162790697\n"
     ]
    }
   ],
   "source": [
    "# save confusion matrix values\n",
    "tn, fp, fn, tp = confusion_matrix(y_test, y_pred_nn2).ravel()\n",
    "# metrics\n",
    "accu = (tp+tn) / (tp+tn+fp+fn)\n",
    "recall = tp/(tp+fn)\n",
    "prec = tp/ (tp+fp)\n",
    "spec= tn/(tn+fp)\n",
    "\n",
    "print('Accuracy:', accu)\n",
    "print('Recall:', recall)\n",
    "print('Specificity:', spec)"
   ]
  },
  {
   "cell_type": "markdown",
   "id": "ccef4e9d",
   "metadata": {},
   "source": [
    "This model has a 97% accuracy on train and 92% accuracy on test; it is overfit."
   ]
  },
  {
   "cell_type": "markdown",
   "id": "8c6bb09c",
   "metadata": {},
   "source": [
    "### 3. Neural Net Classification - Early stopping & dropout"
   ]
  },
  {
   "cell_type": "code",
   "execution_count": 122,
   "id": "cdf727d7",
   "metadata": {},
   "outputs": [],
   "source": [
    "# split data into train and test\n",
    "X_train, X_test, y_train, y_test = train_test_split(X, y, stratify=y, random_state=42)"
   ]
  },
  {
   "cell_type": "code",
   "execution_count": 123,
   "id": "7590e665",
   "metadata": {},
   "outputs": [],
   "source": [
    "# scale data\n",
    "sc = StandardScaler()\n",
    "X_train_sc = sc.fit_transform(X_train)\n",
    "X_test_sc = sc.transform(X_test)"
   ]
  },
  {
   "cell_type": "code",
   "execution_count": 124,
   "id": "8d38af4f",
   "metadata": {},
   "outputs": [],
   "source": [
    "# instantiate model\n",
    "model_nn3 = Sequential()"
   ]
  },
  {
   "cell_type": "code",
   "execution_count": 125,
   "id": "0818abc7",
   "metadata": {},
   "outputs": [],
   "source": [
    "# create model\n",
    "model_nn3.add(Dense(32, input_shape=(X_train_sc.shape[1],), activation='relu'))\n",
    "model_nn3.add(Dropout(0.1))\n",
    "model_nn3.add(Dense(32, activation='relu'))\n",
    "\n",
    "model_nn3.add(Dense(1, activation='sigmoid'))"
   ]
  },
  {
   "cell_type": "code",
   "execution_count": 126,
   "id": "b44c5697",
   "metadata": {},
   "outputs": [],
   "source": [
    "early_stop = EarlyStopping(monitor='val_loss', patience=5, verbose=1)"
   ]
  },
  {
   "cell_type": "code",
   "execution_count": 127,
   "id": "cb258575",
   "metadata": {},
   "outputs": [],
   "source": [
    "# compile model\n",
    "model_nn3.compile(loss='bce', optimizer ='adam', metrics = ['Accuracy', 'Recall'])"
   ]
  },
  {
   "cell_type": "code",
   "execution_count": 128,
   "id": "59378eb0",
   "metadata": {},
   "outputs": [
    {
     "name": "stdout",
     "output_type": "stream",
     "text": [
      "Epoch 00014: early stopping\n"
     ]
    }
   ],
   "source": [
    "# fit model\n",
    "history_3 = model_nn3.fit(\n",
    "    X_train_sc,\n",
    "    y_train,\n",
    "    validation_data=(X_test_sc, y_test),\n",
    "    epochs=100,\n",
    "    callbacks=early_stop,\n",
    "    verbose=0\n",
    ")"
   ]
  },
  {
   "cell_type": "code",
   "execution_count": 129,
   "id": "3a6886e3",
   "metadata": {
    "scrolled": false
   },
   "outputs": [],
   "source": [
    "# save history into a df\n",
    "history_3_df = pd.DataFrame(history_3.history)"
   ]
  },
  {
   "cell_type": "code",
   "execution_count": 130,
   "id": "ea75c8b9",
   "metadata": {
    "scrolled": false
   },
   "outputs": [
    {
     "data": {
      "text/html": [
       "<div>\n",
       "<style scoped>\n",
       "    .dataframe tbody tr th:only-of-type {\n",
       "        vertical-align: middle;\n",
       "    }\n",
       "\n",
       "    .dataframe tbody tr th {\n",
       "        vertical-align: top;\n",
       "    }\n",
       "\n",
       "    .dataframe thead th {\n",
       "        text-align: right;\n",
       "    }\n",
       "</style>\n",
       "<table border=\"1\" class=\"dataframe\">\n",
       "  <thead>\n",
       "    <tr style=\"text-align: right;\">\n",
       "      <th></th>\n",
       "      <th>loss</th>\n",
       "      <th>Accuracy</th>\n",
       "      <th>recall</th>\n",
       "      <th>val_loss</th>\n",
       "      <th>val_Accuracy</th>\n",
       "      <th>val_recall</th>\n",
       "    </tr>\n",
       "  </thead>\n",
       "  <tbody>\n",
       "    <tr>\n",
       "      <th>9</th>\n",
       "      <td>0.146139</td>\n",
       "      <td>0.940663</td>\n",
       "      <td>0.963265</td>\n",
       "      <td>0.211536</td>\n",
       "      <td>0.930131</td>\n",
       "      <td>0.952797</td>\n",
       "    </tr>\n",
       "    <tr>\n",
       "      <th>10</th>\n",
       "      <td>0.141099</td>\n",
       "      <td>0.943939</td>\n",
       "      <td>0.963265</td>\n",
       "      <td>0.217221</td>\n",
       "      <td>0.932314</td>\n",
       "      <td>0.959790</td>\n",
       "    </tr>\n",
       "    <tr>\n",
       "      <th>11</th>\n",
       "      <td>0.134579</td>\n",
       "      <td>0.940298</td>\n",
       "      <td>0.960350</td>\n",
       "      <td>0.219374</td>\n",
       "      <td>0.933406</td>\n",
       "      <td>0.965035</td>\n",
       "    </tr>\n",
       "    <tr>\n",
       "      <th>12</th>\n",
       "      <td>0.127534</td>\n",
       "      <td>0.949035</td>\n",
       "      <td>0.970262</td>\n",
       "      <td>0.220959</td>\n",
       "      <td>0.931223</td>\n",
       "      <td>0.956294</td>\n",
       "    </tr>\n",
       "    <tr>\n",
       "      <th>13</th>\n",
       "      <td>0.126370</td>\n",
       "      <td>0.951584</td>\n",
       "      <td>0.974927</td>\n",
       "      <td>0.224927</td>\n",
       "      <td>0.930131</td>\n",
       "      <td>0.956294</td>\n",
       "    </tr>\n",
       "  </tbody>\n",
       "</table>\n",
       "</div>"
      ],
      "text/plain": [
       "        loss  Accuracy    recall  val_loss  val_Accuracy  val_recall\n",
       "9   0.146139  0.940663  0.963265  0.211536      0.930131    0.952797\n",
       "10  0.141099  0.943939  0.963265  0.217221      0.932314    0.959790\n",
       "11  0.134579  0.940298  0.960350  0.219374      0.933406    0.965035\n",
       "12  0.127534  0.949035  0.970262  0.220959      0.931223    0.956294\n",
       "13  0.126370  0.951584  0.974927  0.224927      0.930131    0.956294"
      ]
     },
     "execution_count": 130,
     "metadata": {},
     "output_type": "execute_result"
    }
   ],
   "source": [
    "# checkout the last 5 epochs\n",
    "history_3_df.tail()"
   ]
  },
  {
   "cell_type": "code",
   "execution_count": 146,
   "id": "75730dab",
   "metadata": {},
   "outputs": [
    {
     "data": {
      "image/png": "[encoded data removed]",
      "text/plain": [
       "<Figure size 1080x504 with 2 Axes>"
      ]
     },
     "metadata": {
      "needs_background": "light"
     },
     "output_type": "display_data"
    }
   ],
   "source": [
    "# subplots of accuracy, and recall\n",
    "fig, (ax1, ax2) = plt.subplots(nrows = 1, ncols=2, figsize = (15, 7))\n",
    "fig.suptitle('A Plot of Accuracy and Recall')\n",
    "\n",
    "# axis 1 - accuracy\n",
    "ax1.plot(history_3_df[\"val_Accuracy\"], label='Validation Accuracy', color='green')\n",
    "ax1.plot(history_3_df[\"Accuracy\"], label='Training Accuracy', color='orange')\n",
    "ax1.legend(loc=\"upper left\")\n",
    "ax1.title.set_text('Accuracy')\n",
    "# axis2 - recall\n",
    "ax2.plot(history_3_df['val_recall'], label='Validation Recall', color='green')\n",
    "ax2.plot(history_3_df['recall'], label='Training Recall', color='orange')\n",
    "ax2.legend(loc=\"upper left\")\n",
    "ax2.title.set_text('Recall')\n",
    "\n",
    "plt.legend();"
   ]
  },
  {
   "cell_type": "code",
   "execution_count": 132,
   "id": "eefd2bb6",
   "metadata": {
    "scrolled": true
   },
   "outputs": [
    {
     "name": "stdout",
     "output_type": "stream",
     "text": [
      "29/29 - 0s - loss: 0.2249 - Accuracy: 0.9301 - recall: 0.9563\n"
     ]
    },
    {
     "data": {
      "text/plain": [
       "[0.22492675483226776, 0.9301310181617737, 0.9562937021255493]"
      ]
     },
     "execution_count": 132,
     "metadata": {},
     "output_type": "execute_result"
    }
   ],
   "source": [
    "# evaluate model\n",
    "model_nn3.evaluate(X_test_sc, y_test, verbose=2)"
   ]
  },
  {
   "cell_type": "code",
   "execution_count": 133,
   "id": "b702fcfa",
   "metadata": {},
   "outputs": [
    {
     "data": {
      "text/plain": [
       "array([[0.8294997 ],\n",
       "       [0.8533538 ],\n",
       "       [0.0020695 ],\n",
       "       [0.9980995 ],\n",
       "       [0.8369012 ],\n",
       "       [0.9645968 ],\n",
       "       [0.9996438 ],\n",
       "       [0.999998  ],\n",
       "       [0.00558698],\n",
       "       [0.9982581 ]], dtype=float32)"
      ]
     },
     "execution_count": 133,
     "metadata": {},
     "output_type": "execute_result"
    }
   ],
   "source": [
    "# make predictions\n",
    "y_pred_nn3=model_nn3.predict(X_test_sc)\n",
    "y_pred_nn3[:10]"
   ]
  },
  {
   "cell_type": "code",
   "execution_count": 134,
   "id": "100acc32",
   "metadata": {},
   "outputs": [
    {
     "data": {
      "text/plain": [
       "array([[1.],\n",
       "       [1.],\n",
       "       [0.],\n",
       "       [1.],\n",
       "       [1.],\n",
       "       [1.],\n",
       "       [1.],\n",
       "       [1.],\n",
       "       [0.],\n",
       "       [1.]], dtype=float32)"
      ]
     },
     "execution_count": 134,
     "metadata": {},
     "output_type": "execute_result"
    }
   ],
   "source": [
    "# round predicted values\n",
    "y_pred_nn3 =y_pred_nn3.round()\n",
    "y_pred_nn3[:10]"
   ]
  },
  {
   "cell_type": "code",
   "execution_count": 135,
   "id": "91b67a49",
   "metadata": {},
   "outputs": [
    {
     "data": {
      "text/plain": [
       "<tf.Tensor: shape=(2, 2), dtype=int32, numpy=\n",
       "array([[305,  39],\n",
       "       [ 25, 547]], dtype=int32)>"
      ]
     },
     "execution_count": 135,
     "metadata": {},
     "output_type": "execute_result"
    }
   ],
   "source": [
    "# confusion matrix using Tensorflow\n",
    "tf.math.confusion_matrix(\n",
    "    y_test, y_pred_nn3\n",
    ")"
   ]
  },
  {
   "cell_type": "code",
   "execution_count": 136,
   "id": "db511c9a",
   "metadata": {
    "scrolled": false
   },
   "outputs": [
    {
     "name": "stdout",
     "output_type": "stream",
     "text": [
      "              precision    recall  f1-score   support\n",
      "\n",
      "           0       0.92      0.89      0.91       344\n",
      "           1       0.93      0.96      0.94       572\n",
      "\n",
      "    accuracy                           0.93       916\n",
      "   macro avg       0.93      0.92      0.92       916\n",
      "weighted avg       0.93      0.93      0.93       916\n",
      "\n"
     ]
    }
   ],
   "source": [
    "# classification report\n",
    "print(classification_report(y_test, y_pred_nn3))"
   ]
  },
  {
   "cell_type": "code",
   "execution_count": 147,
   "id": "5bb44a1d",
   "metadata": {
    "scrolled": true
   },
   "outputs": [
    {
     "name": "stdout",
     "output_type": "stream",
     "text": [
      "Accuracy: 0.9301310043668122\n",
      "Recall: 0.9562937062937062\n",
      "Specificity: 0.8866279069767442\n"
     ]
    }
   ],
   "source": [
    "# save confusion matrix values\n",
    "tn, fp, fn, tp = confusion_matrix(y_test, y_pred_nn3).ravel()\n",
    "# metrics\n",
    "accu = (tp+tn) / (tp+tn+fp+fn)\n",
    "recall = tp/(tp+fn)\n",
    "prec = tp/ (tp+fp)\n",
    "spec= tn/(tn+fp)\n",
    "\n",
    "print('Accuracy:', accu)\n",
    "print('Recall:', recall)\n",
    "print('Specificity:', spec)"
   ]
  },
  {
   "cell_type": "markdown",
   "id": "19c02385",
   "metadata": {},
   "source": [
    "This model is slightly overfit with train accuracy of 95% and test accuracy of 93%. "
   ]
  },
  {
   "cell_type": "markdown",
   "id": "2eb50c1f",
   "metadata": {},
   "source": [
    "## Conclusion"
   ]
  },
  {
   "cell_type": "markdown",
   "id": "af8f5380",
   "metadata": {},
   "source": [
    "- Neural Net models performed as well as Random forest interms of accuracy but they are overfit. \n",
    "- Our best model is a random forest model with accuracy of 93% both on train and test data. The most important metrics we looked at to pick our model is accuracy. For models with the same accuracy, we also looked at recall and specificity. \n",
    "- Our goal is to make accurate predictions of voter preferences for 2021 gubernatorial election in California. We also optimized for least number of misclassifications of both classes, republican and democrat. "
   ]
  }
 ],
 "metadata": {
  "kernelspec": {
   "display_name": "Python [conda env:dsi]",
   "language": "python",
   "name": "conda-env-dsi-py"
  },
  "language_info": {
   "codemirror_mode": {
    "name": "ipython",
    "version": 3
   },
   "file_extension": ".py",
   "mimetype": "text/x-python",
   "name": "python",
   "nbconvert_exporter": "python",
   "pygments_lexer": "ipython3",
   "version": "3.8.8"
  }
 },
 "nbformat": 4,
 "nbformat_minor": 5
}
