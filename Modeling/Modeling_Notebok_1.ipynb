{
 "cells": [
  {
   "cell_type": "markdown",
   "id": "8e8065e2-1b69-4e10-8692-7c5a3c4395be",
   "metadata": {},
   "source": [
    "## Project 5: WAM News Prediction of California's Gubernatorial 2021 Election"
   ]
  },
  {
   "cell_type": "markdown",
   "id": "b1a93a0a-3ac5-4429-80dd-25ecdcdcc1fc",
   "metadata": {
    "tags": []
   },
   "source": [
    "## Imports\n",
    "---"
   ]
  },
  {
   "cell_type": "code",
   "execution_count": 1,
   "id": "a5cd02dc-ce68-458d-937f-a84d5654cecc",
   "metadata": {
    "tags": []
   },
   "outputs": [],
   "source": [
    "import pandas as pd\n",
    "import numpy as np\n",
    "import matplotlib.pyplot as plt\n",
    "import seaborn as sns\n",
    "\n",
    "from sklearn.model_selection import train_test_split, GridSearchCV\n",
    "from sklearn.linear_model import LogisticRegression\n",
    "from sklearn.naive_bayes import MultinomialNB\n",
    "from sklearn.metrics import confusion_matrix, plot_confusion_matrix, recall_score, precision_score, classification_report\n",
    "from sklearn.preprocessing import StandardScaler\n",
    "from sklearn.pipeline import Pipeline\n",
    "\n",
    "from sklearn.neighbors import KNeighborsClassifier\n",
    "from sklearn.ensemble import VotingClassifier\n",
    "\n",
    "import random\n",
    "random.seed(42)\n",
    "\n",
    "import warnings\n",
    "warnings.filterwarnings(\"ignore\")"
   ]
  },
  {
   "cell_type": "markdown",
   "id": "e080081e-cea3-454a-8605-4ea7272e09ed",
   "metadata": {},
   "source": [
    "### Functions\n",
    "---"
   ]
  },
  {
   "cell_type": "code",
   "execution_count": 2,
   "id": "e63f7adc-08c0-4692-901f-6145a6644985",
   "metadata": {},
   "outputs": [],
   "source": [
    "def class_metrics(X_train, y_train, X_test, y_test, model):\n",
    "    \"\"\"\n",
    "    This Function takes in X, and y train \n",
    "    test data and prints out three metrics\n",
    "    that we want to optimize for.\n",
    "    \"\"\"\n",
    "    #Training metrics\n",
    "    y_preds_train = model.predict(X_train)\n",
    "    sens_tr = recall_score(y_train, y_preds_train, pos_label=1)\n",
    "    spec_tr = recall_score(y_train, y_preds_train, pos_label=0)\n",
    "    prec_tr = precision_score(y_train, y_preds_train)\n",
    "    train_acc = model.score(X_train, y_train)\n",
    "    \n",
    "    #Test metrics\n",
    "    y_preds_test = model.predict(X_test)\n",
    "    sens_tst = recall_score(y_test, y_preds_test, pos_label=1)\n",
    "    spec_tst = recall_score(y_test, y_preds_test, pos_label=0)\n",
    "    prec_tst = precision_score(y_test, y_preds_test)\n",
    "    test_acc = model.score(X_test , y_test)\n",
    "    \n",
    "    print('Train Accuracy - Correctly Classified:', round(train_acc,8))\n",
    "    print('Test Accuracy - Correctly Classified:', round(test_acc,8))\n",
    "    \n",
    "    print('\\nTrain Sensitivity - True Positvive Rate:', round(sens_tr,8))\n",
    "    print('Test Sensitivity - True Positvive Rate:', round(sens_tst,8))\n",
    "    \n",
    "    print('\\nTrain Specificity - True Negative Rate:', round(spec_tr,8))\n",
    "    print('Test Specificity - True Negative Rate:', round(spec_tst,8))\n",
    "    \n",
    "    print('\\nTrain Precision:', round(prec_tr,8))\n",
    "    print('Test Precision:', round(prec_tst,8))\n",
    "    \n",
    "    print('\\nConfusion Matrix of Test Data')\n",
    "    plot_confusion_matrix(model, X_test, y_test, cmap='BuPu', values_format='d')"
   ]
  },
  {
   "cell_type": "markdown",
   "id": "ba027154-0cbd-4cc5-9275-586427c9cf7f",
   "metadata": {},
   "source": [
    "### Modeling\n",
    "---"
   ]
  },
  {
   "cell_type": "code",
   "execution_count": 3,
   "id": "dc514baa-cd33-44b1-80a0-e03c34558262",
   "metadata": {},
   "outputs": [
    {
     "data": {
      "text/html": [
       "<div>\n",
       "<style scoped>\n",
       "    .dataframe tbody tr th:only-of-type {\n",
       "        vertical-align: middle;\n",
       "    }\n",
       "\n",
       "    .dataframe tbody tr th {\n",
       "        vertical-align: top;\n",
       "    }\n",
       "\n",
       "    .dataframe thead th {\n",
       "        text-align: right;\n",
       "    }\n",
       "</style>\n",
       "<table border=\"1\" class=\"dataframe\">\n",
       "  <thead>\n",
       "    <tr style=\"text-align: right;\">\n",
       "      <th></th>\n",
       "      <th>dist</th>\n",
       "      <th>gender</th>\n",
       "      <th>age</th>\n",
       "      <th>educ</th>\n",
       "      <th>race</th>\n",
       "      <th>faminc</th>\n",
       "      <th>marstat</th>\n",
       "      <th>newsint</th>\n",
       "      <th>approval_gov</th>\n",
       "      <th>ideo5</th>\n",
       "      <th>voted_gov</th>\n",
       "    </tr>\n",
       "  </thead>\n",
       "  <tbody>\n",
       "    <tr>\n",
       "      <th>392782</th>\n",
       "      <td>19</td>\n",
       "      <td>Female</td>\n",
       "      <td>54</td>\n",
       "      <td>4-Year</td>\n",
       "      <td>White</td>\n",
       "      <td>50k - 60k</td>\n",
       "      <td>Single / Never Married</td>\n",
       "      <td>Most of the time</td>\n",
       "      <td>Strongly Approve</td>\n",
       "      <td>Liberal</td>\n",
       "      <td>[Democrat / Candidate 1]</td>\n",
       "    </tr>\n",
       "    <tr>\n",
       "      <th>392786</th>\n",
       "      <td>52</td>\n",
       "      <td>Female</td>\n",
       "      <td>28</td>\n",
       "      <td>Some College</td>\n",
       "      <td>White</td>\n",
       "      <td>20k - 30k</td>\n",
       "      <td>Single / Never Married</td>\n",
       "      <td>Most of the time</td>\n",
       "      <td>Strongly Approve</td>\n",
       "      <td>Liberal</td>\n",
       "      <td>[Democrat / Candidate 1]</td>\n",
       "    </tr>\n",
       "    <tr>\n",
       "      <th>392800</th>\n",
       "      <td>49</td>\n",
       "      <td>Male</td>\n",
       "      <td>86</td>\n",
       "      <td>Post-Grad</td>\n",
       "      <td>White</td>\n",
       "      <td>120k - 150k</td>\n",
       "      <td>Widowed</td>\n",
       "      <td>Most of the time</td>\n",
       "      <td>Strongly Disapprove</td>\n",
       "      <td>Very Conservative</td>\n",
       "      <td>[Republican / Candidate 2]</td>\n",
       "    </tr>\n",
       "    <tr>\n",
       "      <th>392832</th>\n",
       "      <td>36</td>\n",
       "      <td>Male</td>\n",
       "      <td>80</td>\n",
       "      <td>Some College</td>\n",
       "      <td>White</td>\n",
       "      <td>20k - 30k</td>\n",
       "      <td>Widowed</td>\n",
       "      <td>Most of the time</td>\n",
       "      <td>Strongly Disapprove</td>\n",
       "      <td>Conservative</td>\n",
       "      <td>[Republican / Candidate 2]</td>\n",
       "    </tr>\n",
       "    <tr>\n",
       "      <th>392860</th>\n",
       "      <td>36</td>\n",
       "      <td>Male</td>\n",
       "      <td>83</td>\n",
       "      <td>4-Year</td>\n",
       "      <td>White</td>\n",
       "      <td>Prefer not to say</td>\n",
       "      <td>Married</td>\n",
       "      <td>Most of the time</td>\n",
       "      <td>Strongly Disapprove</td>\n",
       "      <td>Conservative</td>\n",
       "      <td>[Republican / Candidate 2]</td>\n",
       "    </tr>\n",
       "  </tbody>\n",
       "</table>\n",
       "</div>"
      ],
      "text/plain": [
       "        dist  gender  age          educ   race             faminc  \\\n",
       "392782    19  Female   54        4-Year  White          50k - 60k   \n",
       "392786    52  Female   28  Some College  White          20k - 30k   \n",
       "392800    49    Male   86     Post-Grad  White        120k - 150k   \n",
       "392832    36    Male   80  Some College  White          20k - 30k   \n",
       "392860    36    Male   83        4-Year  White  Prefer not to say   \n",
       "\n",
       "                       marstat           newsint         approval_gov  \\\n",
       "392782  Single / Never Married  Most of the time     Strongly Approve   \n",
       "392786  Single / Never Married  Most of the time     Strongly Approve   \n",
       "392800                 Widowed  Most of the time  Strongly Disapprove   \n",
       "392832                 Widowed  Most of the time  Strongly Disapprove   \n",
       "392860                 Married  Most of the time  Strongly Disapprove   \n",
       "\n",
       "                    ideo5                   voted_gov  \n",
       "392782            Liberal    [Democrat / Candidate 1]  \n",
       "392786            Liberal    [Democrat / Candidate 1]  \n",
       "392800  Very Conservative  [Republican / Candidate 2]  \n",
       "392832       Conservative  [Republican / Candidate 2]  \n",
       "392860       Conservative  [Republican / Candidate 2]  "
      ]
     },
     "execution_count": 3,
     "metadata": {},
     "output_type": "execute_result"
    }
   ],
   "source": [
    "#Read in csv of feature selected from EDA notbook.\n",
    "df = pd.read_csv('../Data/2018_gov_features.csv', index_col='Unnamed: 0')\n",
    "\n",
    "#Dropping two features which we will include in our further iterations.\n",
    "df.drop(columns=['ownhome', 'pid3'], inplace=True)\n",
    "df.head()"
   ]
  },
  {
   "cell_type": "markdown",
   "id": "bcbaa5f0-113d-47cb-bdc9-2ed030dfc173",
   "metadata": {},
   "source": [
    "#### Feature Engineer The Target Column."
   ]
  },
  {
   "cell_type": "markdown",
   "id": "53b7ae54-5889-4d32-a372-de2f6c7e9f79",
   "metadata": {},
   "source": [
    "Well define our target to be the 'voted_gov' column. well have to engineer this feature for modeling."
   ]
  },
  {
   "cell_type": "code",
   "execution_count": 4,
   "id": "3056dca4-ff4f-4f7a-a23f-dfa2711ce4f6",
   "metadata": {},
   "outputs": [
    {
     "data": {
      "text/plain": [
       "[Democrat / Candidate 1]       2287\n",
       "[Republican / Candidate 2]     1376\n",
       "I Did Not Vote In This Race      37\n",
       "Not Sure                         25\n",
       "Other                            14\n",
       "Name: voted_gov, dtype: int64"
      ]
     },
     "execution_count": 4,
     "metadata": {},
     "output_type": "execute_result"
    }
   ],
   "source": [
    "# Value counts funtion shows we have more then 2 options for our target.\n",
    "df['voted_gov'].value_counts()"
   ]
  },
  {
   "cell_type": "code",
   "execution_count": 5,
   "id": "5bd8290a-f91a-4716-87c9-5640386adc54",
   "metadata": {},
   "outputs": [],
   "source": [
    "# Drop the other, not sure, and I did not vote classes in this race.\n",
    "df = df[(df['voted_gov'] == '[Democrat / Candidate 1]') | (df['voted_gov'] == '[Republican / Candidate 2]')]"
   ]
  },
  {
   "cell_type": "markdown",
   "id": "c44dd2a1-6981-4ac3-8638-c403b82fd7d1",
   "metadata": {},
   "source": [
    "After some debate whether to encode the non Republican or Democrat catagroies and include in our target, we decided to drop them. The reasoning for this is that these categories represent around 3% of our target data, we feel that this is a heavily underrepresented class and our classification models wouldn't be able to classify them with any accuracy. Also, the purpose of this project is to accurately predict whether a Republican or Democrat would win the election we don't see these votes having an effect on our classification."
   ]
  },
  {
   "cell_type": "code",
   "execution_count": 6,
   "id": "02a5a944-ea09-4296-9a69-554d9b24b1d6",
   "metadata": {},
   "outputs": [],
   "source": [
    "# Catagorize our Target column to have the voted for democrat to be our positive class.\n",
    "df['voted_gov'] = df['voted_gov'].map({'[Democrat / Candidate 1]': 1, '[Republican / Candidate 2]': 0})\n",
    "\n",
    "# Relabling our target colum to signify the positive class is voting republican.\n",
    "df.rename(columns={'voted_gov': 'voted_democrat'}, inplace=True)"
   ]
  },
  {
   "cell_type": "markdown",
   "id": "d935386d-c98f-411e-9249-5e70681b86da",
   "metadata": {},
   "source": [
    "#### Dummify Catagorical Columns"
   ]
  },
  {
   "cell_type": "code",
   "execution_count": 7,
   "id": "7dd92ba1-e94f-448f-9b57-49ef2295e707",
   "metadata": {
    "tags": []
   },
   "outputs": [],
   "source": [
    "# Use pd.get_dummies to dummify the catagoricalcolums.\n",
    "df = pd.get_dummies(df, columns=['gender', 'educ', 'race', 'faminc', 'marstat', 'newsint', 'approval_gov','ideo5'], drop_first=True)"
   ]
  },
  {
   "cell_type": "code",
   "execution_count": 8,
   "id": "e4a55d63-fd6a-4038-83b6-5ab6d4552db2",
   "metadata": {},
   "outputs": [],
   "source": [
    "# Create X and y variables\n",
    "X = df.drop(columns=['voted_democrat'])\n",
    "y = df['voted_democrat']\n",
    "\n",
    "# Create a train test split with a 30% test size.\n",
    "X_train, X_test, y_train, y_test = train_test_split(X, y, random_state=42, stratify=y)"
   ]
  },
  {
   "cell_type": "markdown",
   "id": "b4fecc7f-324c-464e-838c-2dee073265dc",
   "metadata": {},
   "source": [
    "### Null Model\n",
    "---\n",
    ">For classification problems, we build our null model based on the most frequent value in the train data. We would use the shape of X_test to create array which will be predictions from the null model."
   ]
  },
  {
   "cell_type": "code",
   "execution_count": 9,
   "id": "c5848607-2007-48ad-a4b1-df7da1b97cf1",
   "metadata": {},
   "outputs": [
    {
     "data": {
      "text/plain": [
       "1    0.624317\n",
       "0    0.375683\n",
       "Name: voted_democrat, dtype: float64"
      ]
     },
     "execution_count": 9,
     "metadata": {},
     "output_type": "execute_result"
    }
   ],
   "source": [
    "# which one is the most frequent value?\n",
    "y_train.value_counts(normalize=True)"
   ]
  },
  {
   "cell_type": "code",
   "execution_count": 10,
   "id": "42b75476-d440-4bed-a290-d2441bc0ec19",
   "metadata": {},
   "outputs": [
    {
     "data": {
      "text/plain": [
       "(916, 45)"
      ]
     },
     "execution_count": 10,
     "metadata": {},
     "output_type": "execute_result"
    }
   ],
   "source": [
    "# checkout X_test shape\n",
    "X_test.shape"
   ]
  },
  {
   "cell_type": "code",
   "execution_count": 11,
   "id": "39e842f3-9a42-471f-b580-98e372dad0ac",
   "metadata": {},
   "outputs": [
    {
     "data": {
      "text/plain": [
       "array([1., 1., 1., 1., 1.])"
      ]
     },
     "execution_count": 11,
     "metadata": {},
     "output_type": "execute_result"
    }
   ],
   "source": [
    "# create an array of the most frequent value with number of rows equal to test data\n",
    "# (this will be our null model predictions)\n",
    "y_hat = np.ones(916)\n",
    "y_hat[:5]"
   ]
  },
  {
   "cell_type": "code",
   "execution_count": 12,
   "id": "e429bd97-0876-4364-a6e3-be81e571d5c1",
   "metadata": {},
   "outputs": [
    {
     "name": "stdout",
     "output_type": "stream",
     "text": [
      "              precision    recall  f1-score   support\n",
      "\n",
      "           0       0.00      0.00      0.00       344\n",
      "           1       0.62      1.00      0.77       572\n",
      "\n",
      "    accuracy                           0.62       916\n",
      "   macro avg       0.31      0.50      0.38       916\n",
      "weighted avg       0.39      0.62      0.48       916\n",
      "\n"
     ]
    }
   ],
   "source": [
    "# classification report for the null model\n",
    "print(classification_report(y_test, y_hat))"
   ]
  },
  {
   "cell_type": "markdown",
   "id": "01e2e109-7f5b-4995-b07a-58d0f933e33c",
   "metadata": {},
   "source": [
    "Our Null model has an accuracy of 62% this will be the model that our models will have to beat."
   ]
  },
  {
   "cell_type": "markdown",
   "id": "d194614d-09cf-4343-b09f-7cf1e79b102b",
   "metadata": {},
   "source": [
    "### Grid Search: Logistic Regression / Knn / Niave Bayes\n",
    "---"
   ]
  },
  {
   "cell_type": "markdown",
   "id": "02cac3e6-49ad-4163-9b8d-bc0e08a46d3e",
   "metadata": {},
   "source": [
    "Performed Gridsearches on three diifferent models, (Logistic Regression, KNN Classifer, and Naive Bayes). We will do some hpyer parameter turning and find the best hyperparameters to improve our metrics. We took those hyperparameters added them to our final voting classifer,to create an ensemble learning model. Perhapes, if the models where interpretable more value could be gained from their interpretation."
   ]
  },
  {
   "cell_type": "code",
   "execution_count": 13,
   "id": "98b88985-02ce-401e-945b-fd88762ddf9a",
   "metadata": {},
   "outputs": [
    {
     "name": "stdout",
     "output_type": "stream",
     "text": [
      "Fitting 5 folds for each of 12 candidates, totalling 60 fits\n",
      "{'lr__C': 0.1, 'lr__penalty': 'l2'}\n",
      "Pipeline(steps=[('ss', StandardScaler()), ('lr', LogisticRegression(C=0.1))])\n"
     ]
    }
   ],
   "source": [
    "# Scale our data for a logistic regression model\n",
    "lr_pipe = Pipeline([\n",
    "    ('ss', StandardScaler()),\n",
    "    ('lr', LogisticRegression()),\n",
    "])\n",
    "\n",
    "# Find the optimal hyperparameters.\n",
    "pipe_params ={\n",
    "    'lr__C' : [1.0, 0.1, 0.01, 0.001],\n",
    "    'lr__penalty': ['l1','l2','none'],\n",
    "\n",
    "}\n",
    "\n",
    "# Gridsearch using the specified hyper parameters.\n",
    "grid_model = GridSearchCV(\n",
    "    lr_pipe,\n",
    "    pipe_params,\n",
    "    cv = 5,\n",
    "    n_jobs = -1,\n",
    "    verbose = 2\n",
    ")\n",
    "\n",
    "# Fit our training data to the Grisearch.\n",
    "grid_model.fit(X_train, y_train)\n",
    "print(grid_model.best_params_)\n",
    "print(grid_model.best_estimator_)"
   ]
  },
  {
   "cell_type": "code",
   "execution_count": 14,
   "id": "77ff1001-35a8-43d1-9b84-d7b1b6e00172",
   "metadata": {},
   "outputs": [
    {
     "name": "stdout",
     "output_type": "stream",
     "text": [
      "Train Accuracy - Correctly Classified: 0.92428103\n",
      "Test Accuracy - Correctly Classified: 0.90502183\n",
      "\n",
      "Train Sensitivity - True Positvive Rate: 0.9516035\n",
      "Test Sensitivity - True Positvive Rate: 0.9458042\n",
      "\n",
      "Train Specificity - True Negative Rate: 0.87887597\n",
      "Test Specificity - True Negative Rate: 0.8372093\n",
      "\n",
      "Train Precision: 0.928856\n",
      "Test Precision: 0.90619765\n",
      "\n",
      "Confusion Matrix of Test Data\n"
     ]
    },
    {
     "data": {
      "image/png": "[encoded data removed]",
      "text/plain": [
       "<Figure size 432x288 with 2 Axes>"
      ]
     },
     "metadata": {
      "needs_background": "light"
     },
     "output_type": "display_data"
    }
   ],
   "source": [
    "class_metrics(X_train, y_train, X_test,y_test, grid_model)"
   ]
  },
  {
   "cell_type": "markdown",
   "id": "2954fc3e-37c0-454a-ab5a-5a0e80712807",
   "metadata": {},
   "source": [
    "These results seem very good starting out, not very overfit, due to regularization, as well as very good sinsitivity 95%. lets try KNN and see the results imporve the goal is to have a voting classifer using three interpretable models."
   ]
  },
  {
   "cell_type": "code",
   "execution_count": 15,
   "id": "45ba715d-c83c-494b-bdce-0a398d4d1678",
   "metadata": {},
   "outputs": [
    {
     "name": "stdout",
     "output_type": "stream",
     "text": [
      "Fitting 5 folds for each of 7 candidates, totalling 35 fits\n",
      "{'knn__n_neighbors': 7}\n",
      "Pipeline(steps=[('ss', StandardScaler()),\n",
      "                ('knn', KNeighborsClassifier(n_neighbors=7))])\n"
     ]
    }
   ],
   "source": [
    "# Create a pipleline to scale our data fro KNN Classification.\n",
    "lr_pipe = Pipeline([\n",
    "    ('ss', StandardScaler()),\n",
    "    ('knn', KNeighborsClassifier()),\n",
    "])\n",
    "\n",
    "\n",
    "# find the optimal hyperparameters.\n",
    "pipe_params ={\n",
    "    'knn__n_neighbors' : [1 ,2, 3, 4, 5, 6, 7],\n",
    "}\n",
    "\n",
    "# Create a gridsearch model to find our Hyperparameters\n",
    "grid_model = GridSearchCV(\n",
    "    lr_pipe,\n",
    "    pipe_params,\n",
    "    cv = 5,\n",
    "    n_jobs = -1,\n",
    "    verbose = 2\n",
    ")\n",
    "\n",
    "\n",
    "# Fit our training data to the Grisearch.\n",
    "grid_model.fit(X_train, y_train)\n",
    "print(grid_model.best_params_)\n",
    "print(grid_model.best_estimator_)"
   ]
  },
  {
   "cell_type": "code",
   "execution_count": 16,
   "id": "f32b64b8-9a14-4c6a-a568-aa933381ef7c",
   "metadata": {},
   "outputs": [
    {
     "name": "stdout",
     "output_type": "stream",
     "text": [
      "Train Accuracy - Correctly Classified: 0.89807062\n",
      "Test Accuracy - Correctly Classified: 0.84934498\n",
      "\n",
      "Train Sensitivity - True Positvive Rate: 0.93411079\n",
      "Test Sensitivity - True Positvive Rate: 0.90559441\n",
      "\n",
      "Train Specificity - True Negative Rate: 0.83817829\n",
      "Test Specificity - True Negative Rate: 0.75581395\n",
      "\n",
      "Train Precision: 0.90559638\n",
      "Test Precision: 0.86046512\n",
      "\n",
      "Confusion Matrix of Test Data\n"
     ]
    },
    {
     "data": {
      "image/png": "[encoded data removed]",
      "text/plain": [
       "<Figure size 432x288 with 2 Axes>"
      ]
     },
     "metadata": {
      "needs_background": "light"
     },
     "output_type": "display_data"
    }
   ],
   "source": [
    "class_metrics(X_train, y_train, X_test,y_test, grid_model)"
   ]
  },
  {
   "cell_type": "markdown",
   "id": "361abe25-dd8c-4b2e-afe2-0901b5ef7dee",
   "metadata": {},
   "source": [
    "In the above KNN model. The Train-Test accuracy spread of 90% and 85% seem to show some overfitting and a lot of misclassification in predicting the negative class. we will now run a Naive Bayes model and evaluate the results."
   ]
  },
  {
   "cell_type": "code",
   "execution_count": 17,
   "id": "b4f661f8-17e3-480a-b880-eabeb8295e39",
   "metadata": {},
   "outputs": [
    {
     "name": "stdout",
     "output_type": "stream",
     "text": [
      "Fitting 5 folds for each of 10 candidates, totalling 50 fits\n",
      "{'alpha': 0.25, 'fit_prior': True}\n",
      "MultinomialNB(alpha=0.25)\n"
     ]
    }
   ],
   "source": [
    "# find the optimal hyperparameters.\n",
    "grid_params ={\n",
    "    'alpha': list(np.linspace(0.0, 1.0, num=5)),\n",
    "    'fit_prior': [True, False]\n",
    "}\n",
    "\n",
    "# Fit our training data to the Grisearch.\n",
    "grid_model = GridSearchCV(\n",
    "    MultinomialNB(),\n",
    "    grid_params,\n",
    "    cv = 5,\n",
    "    n_jobs = -1,\n",
    "    verbose = 2\n",
    ")\n",
    "\n",
    "# Fit our training data to the Grisearch.\n",
    "grid_model.fit(X_train, y_train)\n",
    "print(grid_model.best_params_)\n",
    "print(grid_model.best_estimator_)"
   ]
  },
  {
   "cell_type": "code",
   "execution_count": 18,
   "id": "3ef3e969-16e9-478a-9a93-9ed826ff25d6",
   "metadata": {},
   "outputs": [
    {
     "name": "stdout",
     "output_type": "stream",
     "text": [
      "Train Accuracy - Correctly Classified: 0.86712778\n",
      "Test Accuracy - Correctly Classified: 0.87882096\n",
      "\n",
      "Train Sensitivity - True Positvive Rate: 0.89271137\n",
      "Test Sensitivity - True Positvive Rate: 0.91608392\n",
      "\n",
      "Train Specificity - True Negative Rate: 0.8246124\n",
      "Test Specificity - True Negative Rate: 0.81686047\n",
      "\n",
      "Train Precision: 0.8942757\n",
      "Test Precision: 0.89267462\n",
      "\n",
      "Confusion Matrix of Test Data\n"
     ]
    },
    {
     "data": {
      "image/png": "[encoded data removed]",
      "text/plain": [
       "<Figure size 432x288 with 2 Axes>"
      ]
     },
     "metadata": {
      "needs_background": "light"
     },
     "output_type": "display_data"
    }
   ],
   "source": [
    "class_metrics(X_train, y_train, X_test,y_test, grid_model)"
   ]
  },
  {
   "cell_type": "markdown",
   "id": "4b568555-9cd1-4665-95a3-243ef39b4121",
   "metadata": {},
   "source": [
    "The Naive Bayes model shows an improvemnt in all metrics over the KNN model but still doesnt reach the 92/91% accuracy of the Logistic regression model"
   ]
  },
  {
   "cell_type": "markdown",
   "id": "145a8d41-391d-4baa-b7e0-4a6a78788833",
   "metadata": {},
   "source": [
    "### Voting Classifer: Knn, Logistic Regression, MN Naive Bayes\n",
    "___"
   ]
  },
  {
   "cell_type": "code",
   "execution_count": 19,
   "id": "4c90d7f1-6353-44b4-b2de-10296803ae5e",
   "metadata": {},
   "outputs": [
    {
     "data": {
      "text/plain": [
       "VotingClassifier(estimators=[('knn_pipe',\n",
       "                              Pipeline(steps=[('ss', StandardScaler()),\n",
       "                                              ('knn',\n",
       "                                               KNeighborsClassifier(n_neighbors=7))])),\n",
       "                             ('lr_pipe',\n",
       "                              Pipeline(steps=[('ss', StandardScaler()),\n",
       "                                              ('lr',\n",
       "                                               LogisticRegression(C=0.1))])),\n",
       "                             ('nb', MultinomialNB(alpha=0))])"
      ]
     },
     "execution_count": 19,
     "metadata": {},
     "output_type": "execute_result"
    }
   ],
   "source": [
    "#Knn scaled pipeline\n",
    "knn_pipe = Pipeline([\n",
    "    ('ss', StandardScaler()),\n",
    "    ('knn', KNeighborsClassifier(n_neighbors=7))\n",
    "])\n",
    "\n",
    "\n",
    "#logistic regression scaled pipeline.\n",
    "lr_pipe = Pipeline([\n",
    "    ('ss', StandardScaler()),\n",
    "    ('lr', LogisticRegression(C=0.1, penalty='l2'))\n",
    "])\n",
    "\n",
    "#Create our voting classifer with knn\n",
    "# logisitic regression, and MN Naive Bayes models.\n",
    "vote = VotingClassifier([\n",
    "    ('knn_pipe', knn_pipe),\n",
    "    ('lr_pipe', lr_pipe),\n",
    "    ('nb', MultinomialNB(alpha=0, fit_prior=True))\n",
    "])\n",
    "\n",
    "# Fit our training data to our Voting classifer.\n",
    "vote.fit(X_train, y_train)"
   ]
  },
  {
   "cell_type": "code",
   "execution_count": 20,
   "id": "69ed8c12-99f9-4fea-98a2-651a63eae9de",
   "metadata": {},
   "outputs": [
    {
     "name": "stdout",
     "output_type": "stream",
     "text": [
      "Train Accuracy - Correctly Classified: 0.91700036\n",
      "Test Accuracy - Correctly Classified: 0.89737991\n",
      "\n",
      "Train Sensitivity - True Positvive Rate: 0.95102041\n",
      "Test Sensitivity - True Positvive Rate: 0.94055944\n",
      "\n",
      "Train Specificity - True Negative Rate: 0.86046512\n",
      "Test Specificity - True Negative Rate: 0.8255814\n",
      "\n",
      "Train Precision: 0.91887324\n",
      "Test Precision: 0.89966555\n",
      "\n",
      "Confusion Matrix of Test Data\n"
     ]
    },
    {
     "data": {
      "image/png": "[encoded data removed]",
      "text/plain": [
       "<Figure size 432x288 with 2 Axes>"
      ]
     },
     "metadata": {
      "needs_background": "light"
     },
     "output_type": "display_data"
    }
   ],
   "source": [
    "class_metrics(X_train, y_train, X_test,y_test, vote)"
   ]
  },
  {
   "cell_type": "markdown",
   "id": "a9e1048b-a77f-45ec-ba2d-b534a216ad0e",
   "metadata": {},
   "source": [
    "The Above voting classifer has improved all three of our metrics. Throughout this initial process we have had trouble imporving our sensitivity since our target class is unevenly balanced. We should note that our negative class those that vote democrat is 62% of our target, and our positive class vote republican, has 37% of our target data this value reflects the split of regestered democrats to republucan in the state of california. Lets see if adding more relivant features help our model better predict who will vote for each gubernatorial candidate."
   ]
  },
  {
   "cell_type": "markdown",
   "id": "3966d774-acf8-4872-9b04-16373d80f22a",
   "metadata": {},
   "source": [
    "### Lets include more relevant features to our model to improve performance."
   ]
  },
  {
   "cell_type": "markdown",
   "id": "773fb2b8-cbdc-4b1b-868f-a6aaa6dd8b99",
   "metadata": {},
   "source": [
    "To imporove our model we decided to incoorporate, home ownership, and party indentifier into our model to see it these would imporve our classification metrics."
   ]
  },
  {
   "cell_type": "code",
   "execution_count": 21,
   "id": "7d383d4a-74ef-4ecd-bf0e-d919656dcca3",
   "metadata": {},
   "outputs": [
    {
     "data": {
      "text/html": [
       "<div>\n",
       "<style scoped>\n",
       "    .dataframe tbody tr th:only-of-type {\n",
       "        vertical-align: middle;\n",
       "    }\n",
       "\n",
       "    .dataframe tbody tr th {\n",
       "        vertical-align: top;\n",
       "    }\n",
       "\n",
       "    .dataframe thead th {\n",
       "        text-align: right;\n",
       "    }\n",
       "</style>\n",
       "<table border=\"1\" class=\"dataframe\">\n",
       "  <thead>\n",
       "    <tr style=\"text-align: right;\">\n",
       "      <th></th>\n",
       "      <th>dist</th>\n",
       "      <th>ownhome</th>\n",
       "      <th>pid3</th>\n",
       "      <th>gender</th>\n",
       "      <th>age</th>\n",
       "      <th>educ</th>\n",
       "      <th>race</th>\n",
       "      <th>faminc</th>\n",
       "      <th>marstat</th>\n",
       "      <th>newsint</th>\n",
       "      <th>approval_gov</th>\n",
       "      <th>ideo5</th>\n",
       "      <th>voted_gov</th>\n",
       "    </tr>\n",
       "  </thead>\n",
       "  <tbody>\n",
       "    <tr>\n",
       "      <th>392782</th>\n",
       "      <td>19</td>\n",
       "      <td>Other</td>\n",
       "      <td>Democrat</td>\n",
       "      <td>Female</td>\n",
       "      <td>54</td>\n",
       "      <td>4-Year</td>\n",
       "      <td>White</td>\n",
       "      <td>50k - 60k</td>\n",
       "      <td>Single / Never Married</td>\n",
       "      <td>Most of the time</td>\n",
       "      <td>Strongly Approve</td>\n",
       "      <td>Liberal</td>\n",
       "      <td>[Democrat / Candidate 1]</td>\n",
       "    </tr>\n",
       "    <tr>\n",
       "      <th>392786</th>\n",
       "      <td>52</td>\n",
       "      <td>Rent</td>\n",
       "      <td>Democrat</td>\n",
       "      <td>Female</td>\n",
       "      <td>28</td>\n",
       "      <td>Some College</td>\n",
       "      <td>White</td>\n",
       "      <td>20k - 30k</td>\n",
       "      <td>Single / Never Married</td>\n",
       "      <td>Most of the time</td>\n",
       "      <td>Strongly Approve</td>\n",
       "      <td>Liberal</td>\n",
       "      <td>[Democrat / Candidate 1]</td>\n",
       "    </tr>\n",
       "    <tr>\n",
       "      <th>392800</th>\n",
       "      <td>49</td>\n",
       "      <td>Own</td>\n",
       "      <td>Other</td>\n",
       "      <td>Male</td>\n",
       "      <td>86</td>\n",
       "      <td>Post-Grad</td>\n",
       "      <td>White</td>\n",
       "      <td>120k - 150k</td>\n",
       "      <td>Widowed</td>\n",
       "      <td>Most of the time</td>\n",
       "      <td>Strongly Disapprove</td>\n",
       "      <td>Very Conservative</td>\n",
       "      <td>[Republican / Candidate 2]</td>\n",
       "    </tr>\n",
       "    <tr>\n",
       "      <th>392832</th>\n",
       "      <td>36</td>\n",
       "      <td>Own</td>\n",
       "      <td>Republican</td>\n",
       "      <td>Male</td>\n",
       "      <td>80</td>\n",
       "      <td>Some College</td>\n",
       "      <td>White</td>\n",
       "      <td>20k - 30k</td>\n",
       "      <td>Widowed</td>\n",
       "      <td>Most of the time</td>\n",
       "      <td>Strongly Disapprove</td>\n",
       "      <td>Conservative</td>\n",
       "      <td>[Republican / Candidate 2]</td>\n",
       "    </tr>\n",
       "    <tr>\n",
       "      <th>392860</th>\n",
       "      <td>36</td>\n",
       "      <td>Own</td>\n",
       "      <td>Independent</td>\n",
       "      <td>Male</td>\n",
       "      <td>83</td>\n",
       "      <td>4-Year</td>\n",
       "      <td>White</td>\n",
       "      <td>Prefer not to say</td>\n",
       "      <td>Married</td>\n",
       "      <td>Most of the time</td>\n",
       "      <td>Strongly Disapprove</td>\n",
       "      <td>Conservative</td>\n",
       "      <td>[Republican / Candidate 2]</td>\n",
       "    </tr>\n",
       "  </tbody>\n",
       "</table>\n",
       "</div>"
      ],
      "text/plain": [
       "        dist ownhome         pid3  gender  age          educ   race  \\\n",
       "392782    19   Other     Democrat  Female   54        4-Year  White   \n",
       "392786    52    Rent     Democrat  Female   28  Some College  White   \n",
       "392800    49     Own        Other    Male   86     Post-Grad  White   \n",
       "392832    36     Own   Republican    Male   80  Some College  White   \n",
       "392860    36     Own  Independent    Male   83        4-Year  White   \n",
       "\n",
       "                   faminc                 marstat           newsint  \\\n",
       "392782          50k - 60k  Single / Never Married  Most of the time   \n",
       "392786          20k - 30k  Single / Never Married  Most of the time   \n",
       "392800        120k - 150k                 Widowed  Most of the time   \n",
       "392832          20k - 30k                 Widowed  Most of the time   \n",
       "392860  Prefer not to say                 Married  Most of the time   \n",
       "\n",
       "               approval_gov              ideo5                   voted_gov  \n",
       "392782     Strongly Approve            Liberal    [Democrat / Candidate 1]  \n",
       "392786     Strongly Approve            Liberal    [Democrat / Candidate 1]  \n",
       "392800  Strongly Disapprove  Very Conservative  [Republican / Candidate 2]  \n",
       "392832  Strongly Disapprove       Conservative  [Republican / Candidate 2]  \n",
       "392860  Strongly Disapprove       Conservative  [Republican / Candidate 2]  "
      ]
     },
     "execution_count": 21,
     "metadata": {},
     "output_type": "execute_result"
    }
   ],
   "source": [
    "# Including new feature dataframe, index is voter ID\n",
    "df_2 = pd.read_csv('../Data/2018_gov_features.csv', index_col='Unnamed: 0')\n",
    "df_2.head()"
   ]
  },
  {
   "cell_type": "code",
   "execution_count": 22,
   "id": "38dea133-b532-4f83-aeb3-0a1e82c9c3a1",
   "metadata": {},
   "outputs": [],
   "source": [
    "# Only include those who voted for democrat or republican candadate.\n",
    "df_2 = df_2[(df_2['voted_gov'] == '[Democrat / Candidate 1]') | (df_2['voted_gov'] == '[Republican / Candidate 2]')]\n",
    "\n",
    "# Copy of clean dataframe for future interpretaion\n",
    "# with a logistic regression model.\n",
    "df_3 = df_2.copy()"
   ]
  },
  {
   "cell_type": "code",
   "execution_count": 23,
   "id": "673b2dc1-6faa-492c-9bcf-543469dd5f91",
   "metadata": {},
   "outputs": [],
   "source": [
    "# List of columns that will be dummified\n",
    "cata_columns = ['dist', 'ownhome', 'pid3', 'gender', 'educ', 'race', \n",
    "                'faminc', 'marstat', 'newsint', 'approval_gov','ideo5']\n",
    "\n",
    "\n",
    "# Dummify catagorical columns\n",
    "df_2 = pd.get_dummies(df_2, columns=cata_columns, drop_first=True)"
   ]
  },
  {
   "cell_type": "code",
   "execution_count": 24,
   "id": "3b70d4a7-b853-4df8-9eed-daf0a0fa8bf6",
   "metadata": {},
   "outputs": [],
   "source": [
    "# Change the catagorical values in the target feature to \"1\" or \"0\" denoting a positive or negative class\n",
    "df_2['voted_gov'] = df_2['voted_gov'].map({'[Democrat / Candidate 1]': 1, '[Republican / Candidate 2]': 0})\n",
    "\n",
    "#Changing our target column to better indicate target: \"voted_democrat\"\n",
    "df_2.rename(columns={'voted_gov': 'voted_democrat'}, inplace=True)"
   ]
  },
  {
   "cell_type": "code",
   "execution_count": 25,
   "id": "32207372-55b4-4551-8454-f377e0f17771",
   "metadata": {},
   "outputs": [],
   "source": [
    "# Create X and y variables\n",
    "X = df_2.drop(columns=['voted_democrat'])\n",
    "y = df_2['voted_democrat']\n",
    "\n",
    "# Train Test split our X and y Variables.\n",
    "X_train, X_test, y_train, y_test = train_test_split(X, y, random_state=42, stratify=y)"
   ]
  },
  {
   "cell_type": "code",
   "execution_count": 26,
   "id": "62fee465-0659-451e-99ed-65c58cd6bc4d",
   "metadata": {},
   "outputs": [
    {
     "name": "stdout",
     "output_type": "stream",
     "text": [
      "Fitting 5 folds for each of 12 candidates, totalling 60 fits\n",
      "{'lr__C': 0.1, 'lr__penalty': 'l2'}\n",
      "Pipeline(steps=[('ss', StandardScaler()), ('lr', LogisticRegression(C=0.1))])\n"
     ]
    }
   ],
   "source": [
    "# scale our data for a logistic regression model\n",
    "lr_pipe = Pipeline([\n",
    "    ('ss', StandardScaler()),\n",
    "    ('lr', LogisticRegression()),\n",
    "])\n",
    "\n",
    "# find the optimal hyperparameters.\n",
    "pipe_params ={\n",
    "    'lr__C' : [1.0, 0.1, 0.01, 0.001],\n",
    "    'lr__penalty': ['l1','l2','none'],\n",
    "\n",
    "}\n",
    "\n",
    "# Gridsearch using the specified hyper parameters.\n",
    "grid_model = GridSearchCV(\n",
    "    lr_pipe,\n",
    "    pipe_params,\n",
    "    cv = 5,\n",
    "    n_jobs = -1,\n",
    "    verbose = 2\n",
    ")\n",
    "\n",
    "# Fit our training data to the Grisearch.\n",
    "grid_model.fit(X_train, y_train)\n",
    "print(grid_model.best_params_)\n",
    "print(grid_model.best_estimator_)"
   ]
  },
  {
   "cell_type": "code",
   "execution_count": 27,
   "id": "a2fb678c-3659-4046-bd3b-b9b4471a32b6",
   "metadata": {},
   "outputs": [
    {
     "name": "stdout",
     "output_type": "stream",
     "text": [
      "Train Accuracy - Correctly Classified: 0.93847834\n",
      "Test Accuracy - Correctly Classified: 0.92248908\n",
      "\n",
      "Train Sensitivity - True Positvive Rate: 0.95918367\n",
      "Test Sensitivity - True Positvive Rate: 0.95104895\n",
      "\n",
      "Train Specificity - True Negative Rate: 0.90406977\n",
      "Test Specificity - True Negative Rate: 0.875\n",
      "\n",
      "Train Precision: 0.94323394\n",
      "Test Precision: 0.92674617\n",
      "\n",
      "Confusion Matrix of Test Data\n"
     ]
    },
    {
     "data": {
      "image/png": "[encoded data removed]",
      "text/plain": [
       "<Figure size 432x288 with 2 Axes>"
      ]
     },
     "metadata": {
      "needs_background": "light"
     },
     "output_type": "display_data"
    }
   ],
   "source": [
    "class_metrics(X_train, y_train, X_test,y_test, grid_model)"
   ]
  },
  {
   "cell_type": "markdown",
   "id": "e47401f4-0800-4ade-9238-92c5c2c9b36f",
   "metadata": {},
   "source": [
    "We can see above that compaired with our previous logistic Regression model, that adding our extra features caused our training data to be slighly more overfit, However this model classified the negative classes better. an imporvment of 3% points in specificity. "
   ]
  },
  {
   "cell_type": "code",
   "execution_count": 28,
   "id": "737e1fbd-96e3-4335-9438-02e2eda998dd",
   "metadata": {},
   "outputs": [
    {
     "name": "stdout",
     "output_type": "stream",
     "text": [
      "Fitting 5 folds for each of 7 candidates, totalling 35 fits\n",
      "{'knn__n_neighbors': 7}\n",
      "Pipeline(steps=[('ss', StandardScaler()),\n",
      "                ('knn', KNeighborsClassifier(n_neighbors=7))])\n"
     ]
    }
   ],
   "source": [
    "# Create a pipleline to scale our data fro KNN Classification.\n",
    "lr_pipe = Pipeline([\n",
    "    ('ss', StandardScaler()),\n",
    "    ('knn', KNeighborsClassifier()),\n",
    "])\n",
    "\n",
    "\n",
    "# find the optimal hyperparameters.\n",
    "pipe_params ={\n",
    "    'knn__n_neighbors' : [1 ,2, 3, 4, 5, 6, 7],\n",
    "}\n",
    "\n",
    "# Create a gridsearch model to find our Hyperparameters\n",
    "grid_model = GridSearchCV(\n",
    "    lr_pipe,\n",
    "    pipe_params,\n",
    "    cv = 5,\n",
    "    n_jobs = -1,\n",
    "    verbose = 2\n",
    ")\n",
    "\n",
    "\n",
    "# Fit our training data to the Grisearch.\n",
    "grid_model.fit(X_train, y_train)\n",
    "print(grid_model.best_params_)\n",
    "print(grid_model.best_estimator_)"
   ]
  },
  {
   "cell_type": "code",
   "execution_count": 29,
   "id": "f6d32a55-1b93-43a9-a5bb-c0dad41692f1",
   "metadata": {},
   "outputs": [
    {
     "name": "stdout",
     "output_type": "stream",
     "text": [
      "Train Accuracy - Correctly Classified: 0.86530761\n",
      "Test Accuracy - Correctly Classified: 0.81113537\n",
      "\n",
      "Train Sensitivity - True Positvive Rate: 0.9271137\n",
      "Test Sensitivity - True Positvive Rate: 0.90384615\n",
      "\n",
      "Train Specificity - True Negative Rate: 0.7625969\n",
      "Test Specificity - True Negative Rate: 0.65697674\n",
      "\n",
      "Train Precision: 0.86648501\n",
      "Test Precision: 0.81417323\n",
      "\n",
      "Confusion Matrix of Test Data\n"
     ]
    },
    {
     "data": {
      "image/png": "[encoded data removed]",
      "text/plain": [
       "<Figure size 432x288 with 2 Axes>"
      ]
     },
     "metadata": {
      "needs_background": "light"
     },
     "output_type": "display_data"
    }
   ],
   "source": [
    "class_metrics(X_train, y_train, X_test,y_test, grid_model)"
   ]
  },
  {
   "cell_type": "markdown",
   "id": "9f0b6893-922f-4d03-8535-6d9a83f017cd",
   "metadata": {},
   "source": [
    "Adding the extra two features decreased our accuracy from 85% to 81% in our test set, with a slight imporovment to specificity. 66% to 75% in our test set."
   ]
  },
  {
   "cell_type": "code",
   "execution_count": 30,
   "id": "e16d0ddc-2aca-4d96-ac6a-ef5ed116e42f",
   "metadata": {},
   "outputs": [
    {
     "name": "stdout",
     "output_type": "stream",
     "text": [
      "Fitting 5 folds for each of 10 candidates, totalling 50 fits\n",
      "{'alpha': 0.5, 'fit_prior': True}\n",
      "MultinomialNB(alpha=0.5)\n"
     ]
    }
   ],
   "source": [
    "# Listing our Naive Bayes hyperparameters.\n",
    "grid_params ={\n",
    "    'alpha': list(np.linspace(0.0, 1.0, num=5)),\n",
    "    'fit_prior': [True, False]\n",
    "}\n",
    "\n",
    "# Fit our training data to the Grisearch.\n",
    "grid_model = GridSearchCV(\n",
    "    MultinomialNB(),\n",
    "    grid_params,\n",
    "    cv = 5,\n",
    "    n_jobs = -1,\n",
    "    verbose = 2\n",
    ")\n",
    "\n",
    "# Fit our training data to the Grisearch.\n",
    "grid_model.fit(X_train, y_train)\n",
    "print(grid_model.best_params_)\n",
    "print(grid_model.best_estimator_)"
   ]
  },
  {
   "cell_type": "code",
   "execution_count": 31,
   "id": "9cd1be45-580e-4527-9c13-6a94248e8bb9",
   "metadata": {},
   "outputs": [
    {
     "name": "stdout",
     "output_type": "stream",
     "text": [
      "Train Accuracy - Correctly Classified: 0.9119039\n",
      "Test Accuracy - Correctly Classified: 0.92358079\n",
      "\n",
      "Train Sensitivity - True Positvive Rate: 0.92886297\n",
      "Test Sensitivity - True Positvive Rate: 0.94405594\n",
      "\n",
      "Train Specificity - True Negative Rate: 0.88372093\n",
      "Test Specificity - True Negative Rate: 0.88953488\n",
      "\n",
      "Train Precision: 0.92994746\n",
      "Test Precision: 0.93425606\n",
      "\n",
      "Confusion Matrix of Test Data\n"
     ]
    },
    {
     "data": {
      "image/png": "[encoded data removed]",
      "text/plain": [
       "<Figure size 432x288 with 2 Axes>"
      ]
     },
     "metadata": {
      "needs_background": "light"
     },
     "output_type": "display_data"
    }
   ],
   "source": [
    "class_metrics(X_train, y_train, X_test,y_test, grid_model)"
   ]
  },
  {
   "cell_type": "markdown",
   "id": "4cd616ec-2ffd-47b7-bed6-693f65a6c9c3",
   "metadata": {},
   "source": [
    "Adding the two new features increases our accuracy from 87% to ~91% of all the previous models adding these new features has increased our Naive Bayes model the most. Let us know put all of these models in a voting classifer and see how we cause each of these models in ensemble learning."
   ]
  },
  {
   "cell_type": "markdown",
   "id": "77fc6cf3-269a-43ce-91ce-89baf0e52f92",
   "metadata": {},
   "source": [
    "### Voting Classifer with Added Features."
   ]
  },
  {
   "cell_type": "code",
   "execution_count": 32,
   "id": "30121a9b-ca8d-47da-8249-b37d618b0a08",
   "metadata": {},
   "outputs": [
    {
     "data": {
      "text/plain": [
       "VotingClassifier(estimators=[('knn_pipe',\n",
       "                              Pipeline(steps=[('ss', StandardScaler()),\n",
       "                                              ('knn',\n",
       "                                               KNeighborsClassifier())])),\n",
       "                             ('lr_pipe',\n",
       "                              Pipeline(steps=[('ss', StandardScaler()),\n",
       "                                              ('lr',\n",
       "                                               LogisticRegression(C=0.01))])),\n",
       "                             ('nb', MultinomialNB(alpha=1))])"
      ]
     },
     "execution_count": 32,
     "metadata": {},
     "output_type": "execute_result"
    }
   ],
   "source": [
    "#Knn scaled pipeline\n",
    "knn_pipe = Pipeline([\n",
    "    ('ss', StandardScaler()),\n",
    "    ('knn', KNeighborsClassifier(n_neighbors=5))\n",
    "])\n",
    "\n",
    "\n",
    "#logistic regression scaled pipeline.\n",
    "lr_pipe = Pipeline([\n",
    "    ('ss', StandardScaler()),\n",
    "    ('lr', LogisticRegression(C=0.01, penalty='l2'))\n",
    "])\n",
    "\n",
    "#instantiate a voting classifer with KNN, LR, and MN Naive Bayes.\n",
    "vote = VotingClassifier([\n",
    "    ('knn_pipe', knn_pipe),\n",
    "    ('lr_pipe', lr_pipe),\n",
    "    ('nb', MultinomialNB(alpha=1, fit_prior=True))\n",
    "    \n",
    "])\n",
    "\n",
    "#Fit Voting Classifer.\n",
    "vote.fit(X_train, y_train)"
   ]
  },
  {
   "cell_type": "code",
   "execution_count": 33,
   "id": "f07d082c-685a-4432-8f36-9489e620753e",
   "metadata": {},
   "outputs": [
    {
     "name": "stdout",
     "output_type": "stream",
     "text": [
      "Train Accuracy - Correctly Classified: 0.9293775\n",
      "Test Accuracy - Correctly Classified: 0.9290393\n",
      "\n",
      "Train Sensitivity - True Positvive Rate: 0.95393586\n",
      "Test Sensitivity - True Positvive Rate: 0.95979021\n",
      "\n",
      "Train Specificity - True Negative Rate: 0.88856589\n",
      "Test Specificity - True Negative Rate: 0.87790698\n",
      "\n",
      "Train Precision: 0.93432324\n",
      "Test Precision: 0.92893401\n",
      "\n",
      "Confusion Matrix of Test Data\n"
     ]
    },
    {
     "data": {
      "image/png": "[encoded data removed]",
      "text/plain": [
       "<Figure size 432x288 with 2 Axes>"
      ]
     },
     "metadata": {
      "needs_background": "light"
     },
     "output_type": "display_data"
    }
   ],
   "source": [
    "class_metrics(X_train, y_train, X_test,y_test, vote);"
   ]
  },
  {
   "cell_type": "markdown",
   "id": "48a76deb-8f67-4783-9ba6-77bf3903585a",
   "metadata": {},
   "source": [
    "This is by far our best model ensemble learning has correctly classifed 1 more false positive, and 5 more false negatives than our logistic regression model which shows to me that our logistic regression model is doing the heavy lifing here. Since the logistic regressior is performing pretty well we have a good model that we can interpret. "
   ]
  },
  {
   "cell_type": "markdown",
   "id": "7e1f57b8-4b72-4f40-bbe6-8f2ada7323ee",
   "metadata": {},
   "source": [
    "#### Lets look at coefficients.\n",
    "Lets take a look into the coefficients of our model and see what determines a voter to vote democrat or republican, also lets look into what factors make up a moderate voter."
   ]
  },
  {
   "cell_type": "code",
   "execution_count": 34,
   "id": "f5d0aed0-9a31-406b-bfbf-40cf0fd1e6ad",
   "metadata": {},
   "outputs": [],
   "source": [
    "# Fit a Logistic Regression model with hyperparameters from voting classifer.\n",
    "lr = LogisticRegression(max_iter=10_000, C=0.01, penalty='l2')\n",
    "lr.fit(X_train, y_train);"
   ]
  },
  {
   "cell_type": "code",
   "execution_count": 35,
   "id": "0bcccc40-8a6e-46d9-a2fd-d1ef336f0dfd",
   "metadata": {},
   "outputs": [
    {
     "data": {
      "text/html": [
       "<div>\n",
       "<style scoped>\n",
       "    .dataframe tbody tr th:only-of-type {\n",
       "        vertical-align: middle;\n",
       "    }\n",
       "\n",
       "    .dataframe tbody tr th {\n",
       "        vertical-align: top;\n",
       "    }\n",
       "\n",
       "    .dataframe thead th {\n",
       "        text-align: right;\n",
       "    }\n",
       "</style>\n",
       "<table border=\"1\" class=\"dataframe\">\n",
       "  <thead>\n",
       "    <tr style=\"text-align: right;\">\n",
       "      <th></th>\n",
       "      <th>coefficients</th>\n",
       "      <th>percent_odd</th>\n",
       "    </tr>\n",
       "  </thead>\n",
       "  <tbody>\n",
       "    <tr>\n",
       "      <th>ideo5_Liberal</th>\n",
       "      <td>0.664243</td>\n",
       "      <td>0.943019</td>\n",
       "    </tr>\n",
       "    <tr>\n",
       "      <th>approval_gov_Strongly Approve</th>\n",
       "      <td>0.617504</td>\n",
       "      <td>0.854294</td>\n",
       "    </tr>\n",
       "    <tr>\n",
       "      <th>ideo5_Very Liberal</th>\n",
       "      <td>0.565472</td>\n",
       "      <td>0.760278</td>\n",
       "    </tr>\n",
       "    <tr>\n",
       "      <th>race_Black</th>\n",
       "      <td>0.179883</td>\n",
       "      <td>0.197078</td>\n",
       "    </tr>\n",
       "    <tr>\n",
       "      <th>ownhome_Rent</th>\n",
       "      <td>0.137918</td>\n",
       "      <td>0.147882</td>\n",
       "    </tr>\n",
       "    <tr>\n",
       "      <th>ideo5_Not Sure</th>\n",
       "      <td>0.078473</td>\n",
       "      <td>0.081634</td>\n",
       "    </tr>\n",
       "    <tr>\n",
       "      <th>ideo5_Moderate</th>\n",
       "      <td>0.077715</td>\n",
       "      <td>0.080815</td>\n",
       "    </tr>\n",
       "    <tr>\n",
       "      <th>faminc_10k - 20k</th>\n",
       "      <td>0.069134</td>\n",
       "      <td>0.071580</td>\n",
       "    </tr>\n",
       "    <tr>\n",
       "      <th>educ_Some College</th>\n",
       "      <td>0.056625</td>\n",
       "      <td>0.058259</td>\n",
       "    </tr>\n",
       "    <tr>\n",
       "      <th>approval_gov_Never Heard / Not Sure</th>\n",
       "      <td>0.051226</td>\n",
       "      <td>0.052561</td>\n",
       "    </tr>\n",
       "  </tbody>\n",
       "</table>\n",
       "</div>"
      ],
      "text/plain": [
       "                                     coefficients  percent_odd\n",
       "ideo5_Liberal                            0.664243     0.943019\n",
       "approval_gov_Strongly Approve            0.617504     0.854294\n",
       "ideo5_Very Liberal                       0.565472     0.760278\n",
       "race_Black                               0.179883     0.197078\n",
       "ownhome_Rent                             0.137918     0.147882\n",
       "ideo5_Not Sure                           0.078473     0.081634\n",
       "ideo5_Moderate                           0.077715     0.080815\n",
       "faminc_10k - 20k                         0.069134     0.071580\n",
       "educ_Some College                        0.056625     0.058259\n",
       "approval_gov_Never Heard / Not Sure      0.051226     0.052561"
      ]
     },
     "execution_count": 35,
     "metadata": {},
     "output_type": "execute_result"
    }
   ],
   "source": [
    "# Create a dataframe that houses the Coefficients of the logistic model.\n",
    "coeffs = pd.DataFrame(lr.coef_[0], index=X.columns, columns=['coeffs']).rename({'coeffs':'Coefficients'})\n",
    "\n",
    "#Rename Title from Coeffs, to Coefficients.\n",
    "coeffs.rename(columns={\"coeffs\": \"coefficients\"}, inplace=True)\n",
    "\n",
    "#convert cofficeints to log odds.\n",
    "coeffs['percent_odd'] = coeffs['coefficients'].map(lambda x : np.exp(x) - 1)\n",
    "\n",
    "# Sort coefficients, by feature importances.\n",
    "coeffs.sort_values(by= 'coefficients', ascending=False, inplace=True)\n",
    "\n",
    "coeffs.iloc[:10]"
   ]
  },
  {
   "cell_type": "markdown",
   "id": "b774f8dd-3cde-4557-8a64-0044e6069e4b",
   "metadata": {},
   "source": [
    "Here you can see the main factors that determine if someone will vote for the positive class democrat. These values are in log odds, we created another column to percent increase or decrease off odds. You can see from the above dataframe the top ten factors that increase the odds of the voter to vote for the democratic candidate. We see the usual suspects if the voter considers themselves liberal, and the predicessors aproval rating, the predicissior in this case is Jerry Brown, Gavin Neusem is his susccessor of the same party. Take note if the person consideres themselves black as opposed to asian, their odds of voting for the democratic cadidate increases by 20%. We also found that if you were a renter, as opposed the 'other' catagory your odds of voting for the democrat increase by 14%."
   ]
  },
  {
   "cell_type": "code",
   "execution_count": 53,
   "id": "6acef1d4-572a-49fd-af05-39fdc7a9b9bd",
   "metadata": {},
   "outputs": [
    {
     "data": {
      "text/html": [
       "<div>\n",
       "<style scoped>\n",
       "    .dataframe tbody tr th:only-of-type {\n",
       "        vertical-align: middle;\n",
       "    }\n",
       "\n",
       "    .dataframe tbody tr th {\n",
       "        vertical-align: top;\n",
       "    }\n",
       "\n",
       "    .dataframe thead th {\n",
       "        text-align: right;\n",
       "    }\n",
       "</style>\n",
       "<table border=\"1\" class=\"dataframe\">\n",
       "  <thead>\n",
       "    <tr style=\"text-align: right;\">\n",
       "      <th></th>\n",
       "      <th>coefficients</th>\n",
       "      <th>percent_odd</th>\n",
       "    </tr>\n",
       "  </thead>\n",
       "  <tbody>\n",
       "    <tr>\n",
       "      <th>approval_gov_Strongly Disapprove</th>\n",
       "      <td>-1.396247</td>\n",
       "      <td>-0.752476</td>\n",
       "    </tr>\n",
       "    <tr>\n",
       "      <th>pid3_Republican</th>\n",
       "      <td>-1.117950</td>\n",
       "      <td>-0.673051</td>\n",
       "    </tr>\n",
       "    <tr>\n",
       "      <th>ideo5_Very Conservative</th>\n",
       "      <td>-0.399013</td>\n",
       "      <td>-0.329018</td>\n",
       "    </tr>\n",
       "    <tr>\n",
       "      <th>pid3_Independent</th>\n",
       "      <td>-0.291938</td>\n",
       "      <td>-0.253185</td>\n",
       "    </tr>\n",
       "    <tr>\n",
       "      <th>approval_gov_Disapprove / Somewhat Disapprove</th>\n",
       "      <td>-0.244209</td>\n",
       "      <td>-0.216676</td>\n",
       "    </tr>\n",
       "    <tr>\n",
       "      <th>race_White</th>\n",
       "      <td>-0.179640</td>\n",
       "      <td>-0.164429</td>\n",
       "    </tr>\n",
       "    <tr>\n",
       "      <th>ownhome_Own</th>\n",
       "      <td>-0.151742</td>\n",
       "      <td>-0.140790</td>\n",
       "    </tr>\n",
       "    <tr>\n",
       "      <th>marstat_Married</th>\n",
       "      <td>-0.125181</td>\n",
       "      <td>-0.117662</td>\n",
       "    </tr>\n",
       "    <tr>\n",
       "      <th>pid3_Other</th>\n",
       "      <td>-0.112037</td>\n",
       "      <td>-0.105989</td>\n",
       "    </tr>\n",
       "    <tr>\n",
       "      <th>gender_Male</th>\n",
       "      <td>-0.095727</td>\n",
       "      <td>-0.091288</td>\n",
       "    </tr>\n",
       "  </tbody>\n",
       "</table>\n",
       "</div>"
      ],
      "text/plain": [
       "                                               coefficients  percent_odd\n",
       "approval_gov_Strongly Disapprove                  -1.396247    -0.752476\n",
       "pid3_Republican                                   -1.117950    -0.673051\n",
       "ideo5_Very Conservative                           -0.399013    -0.329018\n",
       "pid3_Independent                                  -0.291938    -0.253185\n",
       "approval_gov_Disapprove / Somewhat Disapprove     -0.244209    -0.216676\n",
       "race_White                                        -0.179640    -0.164429\n",
       "ownhome_Own                                       -0.151742    -0.140790\n",
       "marstat_Married                                   -0.125181    -0.117662\n",
       "pid3_Other                                        -0.112037    -0.105989\n",
       "gender_Male                                       -0.095727    -0.091288"
      ]
     },
     "execution_count": 53,
     "metadata": {},
     "output_type": "execute_result"
    }
   ],
   "source": [
    "coeffs_con=coeffs.iloc[-10:]\n",
    "coeffs_con.sort_values(by='coefficients', ascending=True)"
   ]
  },
  {
   "cell_type": "markdown",
   "id": "e46537d7-bc91-46d9-a5bb-c04c1b25861a",
   "metadata": {},
   "source": [
    "Looking at the chart above of our top 10 coeffients that predict the negative class \"voting republican. Notice here that party affiliation has a stronger impact than ideology when voting Republican, which makes since because Republicans do vote acording party line, as oppose to those who vote Democrat who tend to be more ideological, and refraim for backing a party. We alos found that stong disapproval of the govenor, home ownership, and race being white aslo play an important role if the person will vote for the republican candidate."
   ]
  },
  {
   "cell_type": "markdown",
   "id": "37eb5ed7-9e53-467b-90dc-d7c2669f3f88",
   "metadata": {},
   "source": [
    "#### Lets take a look at the moderates.\n",
    "To determine who is a moderate we will use all the predictions from the logistic regression model where the predict probability was less than 60% for both positive and negative classes."
   ]
  },
  {
   "cell_type": "code",
   "execution_count": 37,
   "id": "05c4550b-d6c3-4b51-8c99-df197d83d6ce",
   "metadata": {},
   "outputs": [],
   "source": [
    "probas = pd.DataFrame(lr.predict_proba(X), index=X.index)\n",
    "mod_index = probas[(probas[1] < .60) & (probas[0] < .60)]\n",
    "\n",
    "# create a moderate dataframe from our original dataframe with\n",
    "# just indexes from those with probability of either class\n",
    "# under 65%\n",
    "moderate_df = df_3.loc[mod_index.index]"
   ]
  },
  {
   "cell_type": "markdown",
   "id": "20d4e969-19b7-4469-9e41-1d607cf952c4",
   "metadata": {},
   "source": [
    "These are the selct 301 that the model had lower than 60% probabality to classify, lets take a look into them and see their metrics."
   ]
  },
  {
   "cell_type": "code",
   "execution_count": 38,
   "id": "b3affe66-0fb0-429f-9033-3214db42a5f4",
   "metadata": {},
   "outputs": [
    {
     "data": {
      "text/plain": [
       "[Republican / Candidate 2]    0.644518\n",
       "[Democrat / Candidate 1]      0.355482\n",
       "Name: voted_gov, dtype: float64"
      ]
     },
     "execution_count": 38,
     "metadata": {},
     "output_type": "execute_result"
    }
   ],
   "source": [
    "moderate_df['voted_gov'].value_counts(normalize=True)"
   ]
  },
  {
   "cell_type": "code",
   "execution_count": 39,
   "id": "3a800f70-0b7d-4c14-b301-45ce6b23552b",
   "metadata": {},
   "outputs": [
    {
     "data": {
      "text/plain": [
       "Moderate             0.488372\n",
       "Conservative         0.338870\n",
       "Very Conservative    0.059801\n",
       "Liberal              0.039867\n",
       "Not Sure             0.039867\n",
       "Very Liberal         0.033223\n",
       "Name: ideo5, dtype: float64"
      ]
     },
     "execution_count": 39,
     "metadata": {},
     "output_type": "execute_result"
    }
   ],
   "source": [
    "moderate_df['ideo5'].value_counts(normalize=True)"
   ]
  },
  {
   "cell_type": "code",
   "execution_count": 40,
   "id": "3c64c908-5fec-4b34-af2c-22bf145dce4f",
   "metadata": {},
   "outputs": [
    {
     "data": {
      "text/plain": [
       "Index(['dist', 'ownhome', 'pid3', 'gender', 'age', 'educ', 'race', 'faminc',\n",
       "       'marstat', 'newsint', 'approval_gov', 'ideo5', 'voted_gov'],\n",
       "      dtype='object')"
      ]
     },
     "execution_count": 40,
     "metadata": {},
     "output_type": "execute_result"
    }
   ],
   "source": [
    "moderate_df.columns"
   ]
  },
  {
   "cell_type": "code",
   "execution_count": 41,
   "id": "57b95f34-faed-4e70-b373-90927b8a936a",
   "metadata": {},
   "outputs": [
    {
     "data": {
      "image/png": "[encoded data removed]",
      "text/plain": [
       "<Figure size 720x432 with 2 Axes>"
      ]
     },
     "metadata": {
      "needs_background": "light"
     },
     "output_type": "display_data"
    }
   ],
   "source": [
    "fig, ax = plt.subplots(\n",
    "    1,\n",
    "    2,\n",
    "    figsize=(10,6),\n",
    "    tight_layout=True,)\n",
    "\n",
    "sns.histplot(data=moderate_df, x=\"age\", ax=ax[0], bins=10, kde=True)\n",
    "sns.histplot(data=df_3, x=\"age\", ax=ax[1], bins=10, kde=True)\n",
    "\n",
    "ax[0].set_xlabel('Age', fontsize=12)\n",
    "ax[1].set_xlabel('Age', fontsize=12)\n",
    "\n",
    "ax[0].set_ylabel('Count', fontsize=12)\n",
    "ax[1].set_ylabel('Count', fontsize=12)\n",
    "\n",
    "ax[0].set_title('Moderate Ages', fontsize=16)\n",
    "ax[1].set_title('Total Ages', fontsize=16)\n",
    "fig.suptitle('Age Distribution of Moderates', fontsize=20);"
   ]
  },
  {
   "cell_type": "code",
   "execution_count": 42,
   "id": "6d9e4f06-8f7b-4210-bcb1-517dd07f5678",
   "metadata": {},
   "outputs": [
    {
     "name": "stdout",
     "output_type": "stream",
     "text": [
      "Mean Age of Voter sample 52.38\n",
      "Mean Age of Moderates 47.98\n"
     ]
    }
   ],
   "source": [
    "print('Mean Age of Voter sample', round(df_3['age'].mean(),2))\n",
    "print('Mean Age of Moderates', round(moderate_df['age'].mean(),2))"
   ]
  },
  {
   "cell_type": "markdown",
   "id": "aed313d6-6411-4fcb-829e-7dfacf5ff50b",
   "metadata": {},
   "source": [
    "The mean Age of our \"Moderates\" is boardering close to our mean age of total sample"
   ]
  },
  {
   "cell_type": "code",
   "execution_count": 43,
   "id": "d2398567-c21e-42fa-bfbc-b7b1c5bc12ef",
   "metadata": {
    "tags": []
   },
   "outputs": [
    {
     "data": {
      "image/png": "[encoded data removed]",
      "text/plain": [
       "<Figure size 720x432 with 2 Axes>"
      ]
     },
     "metadata": {
      "needs_background": "light"
     },
     "output_type": "display_data"
    }
   ],
   "source": [
    "fig, ax = plt.subplots(\n",
    "    1,\n",
    "    2,\n",
    "    figsize=(10,6),\n",
    "    tight_layout=True,)\n",
    "\n",
    "sns.histplot(data=moderate_df, y=\"educ\", ax=ax[0])\n",
    "sns.histplot(data=df_3, y=\"educ\", ax=ax[1])\n",
    "\n",
    "ax[0].set_xlabel('Count', fontsize=12)\n",
    "ax[1].set_xlabel('Count', fontsize=12)\n",
    "\n",
    "ax[0].set_ylabel('Educ', fontsize=12)\n",
    "ax[1].set_ylabel('Educ', fontsize=12)\n",
    "\n",
    "ax[0].set_title('Moderate Education', fontsize=16)\n",
    "ax[1].set_title('Total Sample Education', fontsize=16)\n",
    "\n",
    "ax[0].tick_params(axis='y', labelrotation = 70)\n",
    "ax[1].tick_params(axis='y', labelrotation = 70)\n",
    "\n",
    "fig.suptitle('Education Comparison', fontsize=20);"
   ]
  },
  {
   "cell_type": "code",
   "execution_count": 44,
   "id": "20d78a1c-9387-4944-b88c-2ef02b813b8c",
   "metadata": {},
   "outputs": [
    {
     "name": "stdout",
     "output_type": "stream",
     "text": [
      "The most occouring catagory Total sample: 4-Year\n",
      "The most occouring catagory of moderates: 4-Year\n"
     ]
    }
   ],
   "source": [
    "print('The most occouring catagory Total sample:', df_3.educ.mode()[0])\n",
    "print('The most occouring catagory of moderates:', moderate_df.educ.mode()[0])"
   ]
  },
  {
   "cell_type": "markdown",
   "id": "f7ff030b-b73c-4c76-a90f-d74cfc8f84fe",
   "metadata": {},
   "source": [
    "Again we can see that most of the moderates are again representing the most occouring class in this case. It looks to us that the voters that our model found difficult to classify are the ones whos basically sitting on top of the bellcurve they do not have many distingushing charataristics to separate them from the mean, causing our algorythem to have issues classifying the voter.\n",
    "\n",
    "We will now dive into exploring the Random Forest classifer, in Modeling Notebook_2."
   ]
  }
 ],
 "metadata": {
  "kernelspec": {
   "display_name": "Python 3",
   "language": "python",
   "name": "python3"
  },
  "language_info": {
   "codemirror_mode": {
    "name": "ipython",
    "version": 3
   },
   "file_extension": ".py",
   "mimetype": "text/x-python",
   "name": "python",
   "nbconvert_exporter": "python",
   "pygments_lexer": "ipython3",
   "version": "3.8.8"
  }
 },
 "nbformat": 4,
 "nbformat_minor": 5
}
