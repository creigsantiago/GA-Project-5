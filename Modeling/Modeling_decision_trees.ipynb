{
 "cells": [
  {
   "cell_type": "markdown",
   "id": "77b5fac9",
   "metadata": {},
   "source": [
    "# Project- 5"
   ]
  },
  {
   "cell_type": "markdown",
   "id": "e858afbc",
   "metadata": {},
   "source": [
    "### Import Libraries"
   ]
  },
  {
   "cell_type": "code",
   "execution_count": 1,
   "id": "a3ba0003",
   "metadata": {},
   "outputs": [],
   "source": [
    "import pandas as pd\n",
    "import numpy as np\n",
    "from sklearn.ensemble import RandomForestClassifier, ExtraTreesClassifier\n",
    "from sklearn.model_selection import cross_val_score, train_test_split, GridSearchCV\n",
    "from sklearn.metrics import confusion_matrix, plot_confusion_matrix"
   ]
  },
  {
   "cell_type": "markdown",
   "id": "9a1baf65",
   "metadata": {},
   "source": [
    "### Load Data"
   ]
  },
  {
   "cell_type": "code",
   "execution_count": 2,
   "id": "80b2bdf3",
   "metadata": {},
   "outputs": [
    {
     "data": {
      "text/html": [
       "<div>\n",
       "<style scoped>\n",
       "    .dataframe tbody tr th:only-of-type {\n",
       "        vertical-align: middle;\n",
       "    }\n",
       "\n",
       "    .dataframe tbody tr th {\n",
       "        vertical-align: top;\n",
       "    }\n",
       "\n",
       "    .dataframe thead th {\n",
       "        text-align: right;\n",
       "    }\n",
       "</style>\n",
       "<table border=\"1\" class=\"dataframe\">\n",
       "  <thead>\n",
       "    <tr style=\"text-align: right;\">\n",
       "      <th></th>\n",
       "      <th>dist</th>\n",
       "      <th>ownhome</th>\n",
       "      <th>pid3</th>\n",
       "      <th>gender</th>\n",
       "      <th>age</th>\n",
       "      <th>educ</th>\n",
       "      <th>race</th>\n",
       "      <th>faminc</th>\n",
       "      <th>marstat</th>\n",
       "      <th>newsint</th>\n",
       "      <th>approval_gov</th>\n",
       "      <th>ideo5</th>\n",
       "      <th>voted_gov</th>\n",
       "    </tr>\n",
       "  </thead>\n",
       "  <tbody>\n",
       "    <tr>\n",
       "      <th>392782</th>\n",
       "      <td>19</td>\n",
       "      <td>Other</td>\n",
       "      <td>Democrat</td>\n",
       "      <td>Female</td>\n",
       "      <td>54</td>\n",
       "      <td>4-Year</td>\n",
       "      <td>White</td>\n",
       "      <td>50k - 60k</td>\n",
       "      <td>Single / Never Married</td>\n",
       "      <td>Most of the time</td>\n",
       "      <td>Strongly Approve</td>\n",
       "      <td>Liberal</td>\n",
       "      <td>[Democrat / Candidate 1]</td>\n",
       "    </tr>\n",
       "    <tr>\n",
       "      <th>392786</th>\n",
       "      <td>52</td>\n",
       "      <td>Rent</td>\n",
       "      <td>Democrat</td>\n",
       "      <td>Female</td>\n",
       "      <td>28</td>\n",
       "      <td>Some College</td>\n",
       "      <td>White</td>\n",
       "      <td>20k - 30k</td>\n",
       "      <td>Single / Never Married</td>\n",
       "      <td>Most of the time</td>\n",
       "      <td>Strongly Approve</td>\n",
       "      <td>Liberal</td>\n",
       "      <td>[Democrat / Candidate 1]</td>\n",
       "    </tr>\n",
       "    <tr>\n",
       "      <th>392800</th>\n",
       "      <td>49</td>\n",
       "      <td>Own</td>\n",
       "      <td>Other</td>\n",
       "      <td>Male</td>\n",
       "      <td>86</td>\n",
       "      <td>Post-Grad</td>\n",
       "      <td>White</td>\n",
       "      <td>120k - 150k</td>\n",
       "      <td>Widowed</td>\n",
       "      <td>Most of the time</td>\n",
       "      <td>Strongly Disapprove</td>\n",
       "      <td>Very Conservative</td>\n",
       "      <td>[Republican / Candidate 2]</td>\n",
       "    </tr>\n",
       "    <tr>\n",
       "      <th>392832</th>\n",
       "      <td>36</td>\n",
       "      <td>Own</td>\n",
       "      <td>Republican</td>\n",
       "      <td>Male</td>\n",
       "      <td>80</td>\n",
       "      <td>Some College</td>\n",
       "      <td>White</td>\n",
       "      <td>20k - 30k</td>\n",
       "      <td>Widowed</td>\n",
       "      <td>Most of the time</td>\n",
       "      <td>Strongly Disapprove</td>\n",
       "      <td>Conservative</td>\n",
       "      <td>[Republican / Candidate 2]</td>\n",
       "    </tr>\n",
       "    <tr>\n",
       "      <th>392860</th>\n",
       "      <td>36</td>\n",
       "      <td>Own</td>\n",
       "      <td>Independent</td>\n",
       "      <td>Male</td>\n",
       "      <td>83</td>\n",
       "      <td>4-Year</td>\n",
       "      <td>White</td>\n",
       "      <td>Prefer not to say</td>\n",
       "      <td>Married</td>\n",
       "      <td>Most of the time</td>\n",
       "      <td>Strongly Disapprove</td>\n",
       "      <td>Conservative</td>\n",
       "      <td>[Republican / Candidate 2]</td>\n",
       "    </tr>\n",
       "  </tbody>\n",
       "</table>\n",
       "</div>"
      ],
      "text/plain": [
       "        dist ownhome         pid3  gender  age          educ   race  \\\n",
       "392782    19   Other     Democrat  Female   54        4-Year  White   \n",
       "392786    52    Rent     Democrat  Female   28  Some College  White   \n",
       "392800    49     Own        Other    Male   86     Post-Grad  White   \n",
       "392832    36     Own   Republican    Male   80  Some College  White   \n",
       "392860    36     Own  Independent    Male   83        4-Year  White   \n",
       "\n",
       "                   faminc                 marstat           newsint  \\\n",
       "392782          50k - 60k  Single / Never Married  Most of the time   \n",
       "392786          20k - 30k  Single / Never Married  Most of the time   \n",
       "392800        120k - 150k                 Widowed  Most of the time   \n",
       "392832          20k - 30k                 Widowed  Most of the time   \n",
       "392860  Prefer not to say                 Married  Most of the time   \n",
       "\n",
       "               approval_gov              ideo5                   voted_gov  \n",
       "392782     Strongly Approve            Liberal    [Democrat / Candidate 1]  \n",
       "392786     Strongly Approve            Liberal    [Democrat / Candidate 1]  \n",
       "392800  Strongly Disapprove  Very Conservative  [Republican / Candidate 2]  \n",
       "392832  Strongly Disapprove       Conservative  [Republican / Candidate 2]  \n",
       "392860  Strongly Disapprove       Conservative  [Republican / Candidate 2]  "
      ]
     },
     "execution_count": 2,
     "metadata": {},
     "output_type": "execute_result"
    }
   ],
   "source": [
    "# read data\n",
    "df=pd.read_csv('../data/2018_gov_features.csv', index_col=0)\n",
    "df.head()"
   ]
  },
  {
   "cell_type": "code",
   "execution_count": 3,
   "id": "9928672d",
   "metadata": {},
   "outputs": [
    {
     "data": {
      "text/plain": [
       "(3739, 13)"
      ]
     },
     "execution_count": 3,
     "metadata": {},
     "output_type": "execute_result"
    }
   ],
   "source": [
    "df.shape"
   ]
  },
  {
   "cell_type": "code",
   "execution_count": 4,
   "id": "dbe133c8",
   "metadata": {},
   "outputs": [
    {
     "name": "stdout",
     "output_type": "stream",
     "text": [
      "<class 'pandas.core.frame.DataFrame'>\n",
      "Int64Index: 3739 entries, 392782 to 452724\n",
      "Data columns (total 13 columns):\n",
      " #   Column        Non-Null Count  Dtype \n",
      "---  ------        --------------  ----- \n",
      " 0   dist          3739 non-null   int64 \n",
      " 1   ownhome       3739 non-null   object\n",
      " 2   pid3          3739 non-null   object\n",
      " 3   gender        3739 non-null   object\n",
      " 4   age           3739 non-null   int64 \n",
      " 5   educ          3739 non-null   object\n",
      " 6   race          3739 non-null   object\n",
      " 7   faminc        3739 non-null   object\n",
      " 8   marstat       3739 non-null   object\n",
      " 9   newsint       3739 non-null   object\n",
      " 10  approval_gov  3739 non-null   object\n",
      " 11  ideo5         3739 non-null   object\n",
      " 12  voted_gov     3739 non-null   object\n",
      "dtypes: int64(2), object(11)\n",
      "memory usage: 409.0+ KB\n"
     ]
    }
   ],
   "source": [
    "df.info()"
   ]
  },
  {
   "cell_type": "code",
   "execution_count": 5,
   "id": "e4fdfc20",
   "metadata": {},
   "outputs": [
    {
     "data": {
      "text/plain": [
       "[Democrat / Candidate 1]       0.611661\n",
       "[Republican / Candidate 2]     0.368013\n",
       "I Did Not Vote In This Race    0.009896\n",
       "Not Sure                       0.006686\n",
       "Other                          0.003744\n",
       "Name: voted_gov, dtype: float64"
      ]
     },
     "execution_count": 5,
     "metadata": {},
     "output_type": "execute_result"
    }
   ],
   "source": [
    "# baseline accuracy\n",
    "df['voted_gov'].value_counts(normalize=True)"
   ]
  },
  {
   "cell_type": "markdown",
   "id": "a2ec3282",
   "metadata": {},
   "source": [
    "Baseline accuracy is 61.2%. We have unimbalanced data."
   ]
  },
  {
   "cell_type": "code",
   "execution_count": 6,
   "id": "6cf4113d",
   "metadata": {},
   "outputs": [
    {
     "data": {
      "text/plain": [
       "[Democrat / Candidate 1]      0.624352\n",
       "[Republican / Candidate 2]    0.375648\n",
       "Name: voted_gov, dtype: float64"
      ]
     },
     "execution_count": 6,
     "metadata": {},
     "output_type": "execute_result"
    }
   ],
   "source": [
    "# drop other categories, make it a binary classification\n",
    "df = df[(df.voted_gov != 'I Did Not Vote In This Race') & (df.voted_gov != 'Not Sure') & (df.voted_gov != 'Other')]\n",
    "df['voted_gov'].value_counts(normalize=True)"
   ]
  },
  {
   "cell_type": "code",
   "execution_count": 7,
   "id": "b9dc6e17",
   "metadata": {},
   "outputs": [
    {
     "data": {
      "text/html": [
       "<div>\n",
       "<style scoped>\n",
       "    .dataframe tbody tr th:only-of-type {\n",
       "        vertical-align: middle;\n",
       "    }\n",
       "\n",
       "    .dataframe tbody tr th {\n",
       "        vertical-align: top;\n",
       "    }\n",
       "\n",
       "    .dataframe thead th {\n",
       "        text-align: right;\n",
       "    }\n",
       "</style>\n",
       "<table border=\"1\" class=\"dataframe\">\n",
       "  <thead>\n",
       "    <tr style=\"text-align: right;\">\n",
       "      <th></th>\n",
       "      <th>dist</th>\n",
       "      <th>ownhome</th>\n",
       "      <th>pid3</th>\n",
       "      <th>gender</th>\n",
       "      <th>age</th>\n",
       "      <th>educ</th>\n",
       "      <th>race</th>\n",
       "      <th>faminc</th>\n",
       "      <th>marstat</th>\n",
       "      <th>newsint</th>\n",
       "      <th>approval_gov</th>\n",
       "      <th>ideo5</th>\n",
       "      <th>voted_gov</th>\n",
       "    </tr>\n",
       "  </thead>\n",
       "  <tbody>\n",
       "    <tr>\n",
       "      <th>392782</th>\n",
       "      <td>19</td>\n",
       "      <td>Other</td>\n",
       "      <td>Democrat</td>\n",
       "      <td>Female</td>\n",
       "      <td>54</td>\n",
       "      <td>4-Year</td>\n",
       "      <td>White</td>\n",
       "      <td>50k - 60k</td>\n",
       "      <td>Single / Never Married</td>\n",
       "      <td>Most of the time</td>\n",
       "      <td>Strongly Approve</td>\n",
       "      <td>Liberal</td>\n",
       "      <td>1</td>\n",
       "    </tr>\n",
       "    <tr>\n",
       "      <th>392786</th>\n",
       "      <td>52</td>\n",
       "      <td>Rent</td>\n",
       "      <td>Democrat</td>\n",
       "      <td>Female</td>\n",
       "      <td>28</td>\n",
       "      <td>Some College</td>\n",
       "      <td>White</td>\n",
       "      <td>20k - 30k</td>\n",
       "      <td>Single / Never Married</td>\n",
       "      <td>Most of the time</td>\n",
       "      <td>Strongly Approve</td>\n",
       "      <td>Liberal</td>\n",
       "      <td>1</td>\n",
       "    </tr>\n",
       "    <tr>\n",
       "      <th>392800</th>\n",
       "      <td>49</td>\n",
       "      <td>Own</td>\n",
       "      <td>Other</td>\n",
       "      <td>Male</td>\n",
       "      <td>86</td>\n",
       "      <td>Post-Grad</td>\n",
       "      <td>White</td>\n",
       "      <td>120k - 150k</td>\n",
       "      <td>Widowed</td>\n",
       "      <td>Most of the time</td>\n",
       "      <td>Strongly Disapprove</td>\n",
       "      <td>Very Conservative</td>\n",
       "      <td>0</td>\n",
       "    </tr>\n",
       "    <tr>\n",
       "      <th>392832</th>\n",
       "      <td>36</td>\n",
       "      <td>Own</td>\n",
       "      <td>Republican</td>\n",
       "      <td>Male</td>\n",
       "      <td>80</td>\n",
       "      <td>Some College</td>\n",
       "      <td>White</td>\n",
       "      <td>20k - 30k</td>\n",
       "      <td>Widowed</td>\n",
       "      <td>Most of the time</td>\n",
       "      <td>Strongly Disapprove</td>\n",
       "      <td>Conservative</td>\n",
       "      <td>0</td>\n",
       "    </tr>\n",
       "    <tr>\n",
       "      <th>392860</th>\n",
       "      <td>36</td>\n",
       "      <td>Own</td>\n",
       "      <td>Independent</td>\n",
       "      <td>Male</td>\n",
       "      <td>83</td>\n",
       "      <td>4-Year</td>\n",
       "      <td>White</td>\n",
       "      <td>Prefer not to say</td>\n",
       "      <td>Married</td>\n",
       "      <td>Most of the time</td>\n",
       "      <td>Strongly Disapprove</td>\n",
       "      <td>Conservative</td>\n",
       "      <td>0</td>\n",
       "    </tr>\n",
       "  </tbody>\n",
       "</table>\n",
       "</div>"
      ],
      "text/plain": [
       "        dist ownhome         pid3  gender  age          educ   race  \\\n",
       "392782    19   Other     Democrat  Female   54        4-Year  White   \n",
       "392786    52    Rent     Democrat  Female   28  Some College  White   \n",
       "392800    49     Own        Other    Male   86     Post-Grad  White   \n",
       "392832    36     Own   Republican    Male   80  Some College  White   \n",
       "392860    36     Own  Independent    Male   83        4-Year  White   \n",
       "\n",
       "                   faminc                 marstat           newsint  \\\n",
       "392782          50k - 60k  Single / Never Married  Most of the time   \n",
       "392786          20k - 30k  Single / Never Married  Most of the time   \n",
       "392800        120k - 150k                 Widowed  Most of the time   \n",
       "392832          20k - 30k                 Widowed  Most of the time   \n",
       "392860  Prefer not to say                 Married  Most of the time   \n",
       "\n",
       "               approval_gov              ideo5  voted_gov  \n",
       "392782     Strongly Approve            Liberal          1  \n",
       "392786     Strongly Approve            Liberal          1  \n",
       "392800  Strongly Disapprove  Very Conservative          0  \n",
       "392832  Strongly Disapprove       Conservative          0  \n",
       "392860  Strongly Disapprove       Conservative          0  "
      ]
     },
     "execution_count": 7,
     "metadata": {},
     "output_type": "execute_result"
    }
   ],
   "source": [
    "# map voted_gov column to 0 and 1\n",
    "df['voted_gov'] = df['voted_gov'].map({'[Democrat / Candidate 1]': 1, '[Republican / Candidate 2]': 0})\n",
    "df.head()"
   ]
  },
  {
   "cell_type": "code",
   "execution_count": 8,
   "id": "f028585a",
   "metadata": {},
   "outputs": [],
   "source": [
    "df.to_csv('../data/2018_gov_clean1.csv')"
   ]
  },
  {
   "cell_type": "markdown",
   "id": "da78a489",
   "metadata": {},
   "source": [
    "## Pre-processing"
   ]
  },
  {
   "cell_type": "code",
   "execution_count": 9,
   "id": "a436b585",
   "metadata": {},
   "outputs": [],
   "source": [
    "# set up X and y\n",
    "X = df.drop(columns =['voted_gov'])\n",
    "y = df['voted_gov']"
   ]
  },
  {
   "cell_type": "code",
   "execution_count": 10,
   "id": "c5800bff",
   "metadata": {},
   "outputs": [],
   "source": [
    "X= pd.get_dummies(X, drop_first=True)"
   ]
  },
  {
   "cell_type": "code",
   "execution_count": 11,
   "id": "26613620",
   "metadata": {},
   "outputs": [],
   "source": [
    "X_train, X_val, y_train, y_val = train_test_split(X, y, random_state=42, stratify=y)"
   ]
  },
  {
   "cell_type": "markdown",
   "id": "ea147c92",
   "metadata": {},
   "source": [
    "## Modeling"
   ]
  },
  {
   "cell_type": "markdown",
   "id": "2673f2e9",
   "metadata": {},
   "source": [
    "### 1. RandomForest"
   ]
  },
  {
   "cell_type": "code",
   "execution_count": 12,
   "id": "c9e85fce",
   "metadata": {},
   "outputs": [],
   "source": [
    "rf = RandomForestClassifier()"
   ]
  },
  {
   "cell_type": "code",
   "execution_count": 13,
   "id": "4373ee6e",
   "metadata": {},
   "outputs": [],
   "source": [
    "et = ExtraTreesClassifier()"
   ]
  },
  {
   "cell_type": "code",
   "execution_count": 14,
   "id": "e7e2a08c",
   "metadata": {
    "scrolled": true
   },
   "outputs": [
    {
     "data": {
      "text/plain": [
       "0.9239138930286472"
      ]
     },
     "execution_count": 14,
     "metadata": {},
     "output_type": "execute_result"
    }
   ],
   "source": [
    "cross_val_score(rf, X_train, y_train, cv=5).mean()"
   ]
  },
  {
   "cell_type": "code",
   "execution_count": 15,
   "id": "e9fa2be1",
   "metadata": {},
   "outputs": [
    {
     "data": {
      "text/plain": [
       "0.9206418281172379"
      ]
     },
     "execution_count": 15,
     "metadata": {},
     "output_type": "execute_result"
    }
   ],
   "source": [
    "cross_val_score(et, X_train, y_train, cv=5).mean()"
   ]
  },
  {
   "cell_type": "markdown",
   "id": "de7858e4",
   "metadata": {},
   "source": [
    "Random forest and extremely randomized trees performed pretty much the same, random forest is slightly better."
   ]
  },
  {
   "cell_type": "code",
   "execution_count": 16,
   "id": "7fe0b480",
   "metadata": {
    "tags": []
   },
   "outputs": [
    {
     "data": {
      "text/plain": [
       "dict_keys(['bootstrap', 'ccp_alpha', 'class_weight', 'criterion', 'max_depth', 'max_features', 'max_leaf_nodes', 'max_samples', 'min_impurity_decrease', 'min_impurity_split', 'min_samples_leaf', 'min_samples_split', 'min_weight_fraction_leaf', 'n_estimators', 'n_jobs', 'oob_score', 'random_state', 'verbose', 'warm_start'])"
      ]
     },
     "execution_count": 16,
     "metadata": {},
     "output_type": "execute_result"
    }
   ],
   "source": [
    "rf.get_params().keys()"
   ]
  },
  {
   "cell_type": "code",
   "execution_count": 17,
   "id": "a2241571",
   "metadata": {},
   "outputs": [
    {
     "name": "stdout",
     "output_type": "stream",
     "text": [
      "Fitting 5 folds for each of 72 candidates, totalling 360 fits\n",
      "0.9264639841033284\n"
     ]
    },
    {
     "data": {
      "text/plain": [
       "{'bootstrap': True,\n",
       " 'max_depth': None,\n",
       " 'max_features': 'sqrt',\n",
       " 'n_estimators': 200,\n",
       " 'random_state': 42}"
      ]
     },
     "execution_count": 17,
     "metadata": {},
     "output_type": "execute_result"
    }
   ],
   "source": [
    "# gridsearch \n",
    "rf_params = {\n",
    "    'n_estimators': [100, 150, 200],\n",
    "    'max_depth': [None, 1, 2, 3, 4, 5],\n",
    "    'max_features': ['sqrt', .5],\n",
    "    'bootstrap': [True, False],\n",
    "    'random_state': [42]\n",
    "}\n",
    "\n",
    "gs_rf = GridSearchCV(rf, rf_params, cv=5, n_jobs=-1, verbose=1)\n",
    "gs_rf.fit(X_train, y_train)\n",
    "print(gs_rf.best_score_)\n",
    "gs_rf.best_params_"
   ]
  },
  {
   "cell_type": "code",
   "execution_count": 18,
   "id": "88bfb299",
   "metadata": {},
   "outputs": [
    {
     "name": "stdout",
     "output_type": "stream",
     "text": [
      "best score: 0.9264639841033284\n",
      "best parameters: {'bootstrap': True, 'max_depth': None, 'max_features': 'sqrt', 'n_estimators': 200, 'random_state': 42}\n",
      "accuracy on train data: 1.0\n",
      "accuracy on test data: 0.9344978165938864\n"
     ]
    }
   ],
   "source": [
    "# gridsearch optimization\n",
    "print('best score:', gs_rf.best_score_)\n",
    "print('best parameters:', gs_rf.best_params_)\n",
    "print('accuracy on train data:', gs_rf.score(X_train, y_train))\n",
    "print('accuracy on test data:', gs_rf.score(X_val, y_val))"
   ]
  },
  {
   "cell_type": "code",
   "execution_count": 19,
   "id": "98ce57a3",
   "metadata": {},
   "outputs": [],
   "source": [
    "# make predictions \n",
    "y_pred = gs_rf.predict(X_val)\n",
    "\n",
    "# save confusion matrix values\n",
    "tn, fp, fn, tp = confusion_matrix(y_val, y_pred).ravel()"
   ]
  },
  {
   "cell_type": "code",
   "execution_count": 20,
   "id": "9ac072d1",
   "metadata": {},
   "outputs": [
    {
     "data": {
      "image/png": "[encoded data removed]",
      "text/plain": [
       "<Figure size 432x288 with 2 Axes>"
      ]
     },
     "metadata": {
      "needs_background": "light"
     },
     "output_type": "display_data"
    }
   ],
   "source": [
    "# plot a confusion matrix\n",
    "plot_confusion_matrix(gs_rf, X_val, y_val, cmap='BuPu', values_format='d');"
   ]
  },
  {
   "cell_type": "code",
   "execution_count": 21,
   "id": "a11ee1f0",
   "metadata": {},
   "outputs": [
    {
     "name": "stdout",
     "output_type": "stream",
     "text": [
      "Accuracy: 0.9344978165938864\n",
      "Recall: 0.9702797202797203\n",
      "Precision: 0.9280936454849499\n"
     ]
    }
   ],
   "source": [
    "# sensitivity and accuracy\n",
    "accu = (tp+tn) / (tp+tn+fp+fn)\n",
    "recall = tp/(tp+fn)\n",
    "prec = tp/ (tp+fp)\n",
    "\n",
    "print('Accuracy:', accu)\n",
    "print('Recall:', recall)\n",
    "print('Precision:', prec)"
   ]
  },
  {
   "cell_type": "markdown",
   "id": "62466888",
   "metadata": {},
   "source": [
    "It is overfit."
   ]
  },
  {
   "cell_type": "code",
   "execution_count": 22,
   "id": "a0acd939",
   "metadata": {},
   "outputs": [
    {
     "data": {
      "text/plain": [
       "approval_gov_Strongly Disapprove                 0.276065\n",
       "pid3_Republican                                  0.179077\n",
       "ideo5_Liberal                                    0.062807\n",
       "approval_gov_Strongly Approve                    0.051030\n",
       "age                                              0.047006\n",
       "ideo5_Very Liberal                               0.044914\n",
       "dist                                             0.037558\n",
       "ideo5_Very Conservative                          0.036985\n",
       "pid3_Independent                                 0.023902\n",
       "approval_gov_Disapprove / Somewhat Disapprove    0.020884\n",
       "ideo5_Moderate                                   0.015640\n",
       "race_White                                       0.012629\n",
       "ownhome_Own                                      0.012001\n",
       "gender_Male                                      0.010228\n",
       "ownhome_Rent                                     0.009197\n",
       "marstat_Single / Never Married                   0.009001\n",
       "newsint_Most of the time                         0.008666\n",
       "educ_4-Year                                      0.007891\n",
       "marstat_Married                                  0.007798\n",
       "race_Black                                       0.007119\n",
       "pid3_Other                                       0.006919\n",
       "newsint_Only now and then                        0.006671\n",
       "educ_Some College                                0.006648\n",
       "newsint_Some of the time                         0.006627\n",
       "race_Hispanic                                    0.006022\n",
       "educ_Post-Grad                                   0.005908\n",
       "faminc_50k - 60k                                 0.005226\n",
       "educ_High School Graduate                        0.005146\n",
       "faminc_80k - 100k                                0.004990\n",
       "faminc_150k+                                     0.004886\n",
       "faminc_40k - 50k                                 0.004489\n",
       "faminc_30k - 40k                                 0.004373\n",
       "ideo5_Not Sure                                   0.004181\n",
       "faminc_70k - 80k                                 0.004100\n",
       "faminc_60k - 70k                                 0.004027\n",
       "faminc_10k - 20k                                 0.003853\n",
       "faminc_120k - 150k                               0.003779\n",
       "faminc_20k - 30k                                 0.003683\n",
       "marstat_Domestic Partnership                     0.003502\n",
       "approval_gov_Never Heard / Not Sure              0.003303\n",
       "faminc_Prefer not to say                         0.002962\n",
       "newsint_Hardly at all                            0.002907\n",
       "race_Mixed                                       0.002658\n",
       "marstat_Widowed                                  0.002498\n",
       "faminc_Less than 10k                             0.002437\n",
       "pid3_Not Sure                                    0.002366\n",
       "educ_No HS                                       0.001656\n",
       "race_Other                                       0.001127\n",
       "marstat_Separated                                0.001059\n",
       "race_Middle Eastern                              0.000826\n",
       "race_Native American                             0.000772\n",
       "dtype: float64"
      ]
     },
     "execution_count": 22,
     "metadata": {},
     "output_type": "execute_result"
    }
   ],
   "source": [
    "# get feature importances\n",
    "pd.Series(gs_rf.best_estimator_.feature_importances_, X.columns).sort_values(ascending=False)"
   ]
  },
  {
   "cell_type": "markdown",
   "id": "4f9d37fb",
   "metadata": {},
   "source": [
    "-  For a classfication random forest model, feature_importances_ is based on the average decrease in Gini impurity over the decision trees. \n",
    "- Strongly disapprove category of approval_gov feature has a 45.1% importance in the random forest model. For this variable, individuals were asked \"Do you approve of the way each is doing their job\". \n",
    "- approval_gov_Strongly Approve has a 4.7% importance.\n",
    "- Age has 6.4% and dist has 5.9%. (dist is Congressional district number in current Congress)"
   ]
  },
  {
   "cell_type": "code",
   "execution_count": 23,
   "id": "202ff197",
   "metadata": {},
   "outputs": [
    {
     "data": {
      "text/plain": [
       "Strongly Disapprove                 1176\n",
       "Approve / Somewhat Approve          1109\n",
       "Strongly Approve                     882\n",
       "Disapprove / Somewhat Disapprove     365\n",
       "Never Heard / Not Sure               131\n",
       "Name: approval_gov, dtype: int64"
      ]
     },
     "execution_count": 23,
     "metadata": {},
     "output_type": "execute_result"
    }
   ],
   "source": [
    "# approval_gov column categories\n",
    "df['approval_gov'].value_counts()"
   ]
  },
  {
   "cell_type": "code",
   "execution_count": 24,
   "id": "a8cbaefd",
   "metadata": {
    "scrolled": true
   },
   "outputs": [
    {
     "data": {
      "text/plain": [
       "array([0, 1, 0, 1, 1, 1, 1, 1, 0, 1])"
      ]
     },
     "execution_count": 24,
     "metadata": {},
     "output_type": "execute_result"
    }
   ],
   "source": [
    "gs_rf.predict(X_val)[:10]"
   ]
  },
  {
   "cell_type": "code",
   "execution_count": 25,
   "id": "17978d6e",
   "metadata": {},
   "outputs": [
    {
     "data": {
      "text/plain": [
       "array([[0.56 , 0.44 ],\n",
       "       [0.185, 0.815],\n",
       "       [0.96 , 0.04 ],\n",
       "       [0.005, 0.995],\n",
       "       [0.225, 0.775],\n",
       "       [0.08 , 0.92 ],\n",
       "       [0.   , 1.   ],\n",
       "       [0.01 , 0.99 ],\n",
       "       [0.965, 0.035],\n",
       "       [0.03 , 0.97 ]])"
      ]
     },
     "execution_count": 25,
     "metadata": {},
     "output_type": "execute_result"
    }
   ],
   "source": [
    "pred = gs_rf.predict_proba(X_val)\n",
    "pred[:10]"
   ]
  },
  {
   "cell_type": "markdown",
   "id": "73cdcbb5",
   "metadata": {},
   "source": [
    "- The first array, [0, 1], corresponds to the first testing observation. - This first testing observation is predicted to have a 0% chance that  𝑌=0 and a 100% chance that  𝑌=1. The `.predict()` value for this observation is 1. This is because  𝑃(𝑌=1)>𝑃(𝑌=0).\n",
    "- The fourth array, [0.795, 0.205], corresponds to the fourth testing observation. - This fourth testing observation is predicted to have a 79.5% chance that  𝑌=0 and a 20.5% chance that  𝑌=1. The `.predict()` value for this observation is 0. This is because  𝑃(𝑌=0)>𝑃(𝑌=1)."
   ]
  },
  {
   "cell_type": "markdown",
   "id": "555ad34c",
   "metadata": {},
   "source": [
    "This model is overfit with 100% accuracy on train and 91% accuracy on test. It could be due to the grid search choosing maximum depth of 'None'. Let's try another model without max_depth of 'None'."
   ]
  },
  {
   "cell_type": "markdown",
   "id": "084431c3",
   "metadata": {},
   "source": [
    "### 2. RandomForest "
   ]
  },
  {
   "cell_type": "code",
   "execution_count": 26,
   "id": "b5c5d3b8",
   "metadata": {},
   "outputs": [],
   "source": [
    "rf_2 = RandomForestClassifier()"
   ]
  },
  {
   "cell_type": "code",
   "execution_count": 27,
   "id": "0d427e6f",
   "metadata": {
    "scrolled": true
   },
   "outputs": [
    {
     "data": {
      "text/plain": [
       "0.9260970359331016"
      ]
     },
     "execution_count": 27,
     "metadata": {},
     "output_type": "execute_result"
    }
   ],
   "source": [
    "cross_val_score(rf_2, X_train, y_train, cv=5).mean()"
   ]
  },
  {
   "cell_type": "code",
   "execution_count": 28,
   "id": "91e540d8",
   "metadata": {},
   "outputs": [
    {
     "name": "stdout",
     "output_type": "stream",
     "text": [
      "Fitting 5 folds for each of 72 candidates, totalling 360 fits\n",
      "0.9257333995694651\n"
     ]
    },
    {
     "data": {
      "text/plain": [
       "{'bootstrap': True,\n",
       " 'max_depth': 6,\n",
       " 'max_features': 0.5,\n",
       " 'n_estimators': 100,\n",
       " 'random_state': 42}"
      ]
     },
     "execution_count": 28,
     "metadata": {},
     "output_type": "execute_result"
    }
   ],
   "source": [
    "# gridsearch \n",
    "rf_params = {\n",
    "    'n_estimators': [100, 150, 200],\n",
    "    'max_depth': [1, 2, 3, 4, 5, 6],\n",
    "    'max_features': ['sqrt', .5],\n",
    "    'bootstrap': [True, False],\n",
    "    'random_state': [42]\n",
    "}\n",
    "\n",
    "gs_rf = GridSearchCV(rf_2, rf_params, cv=5, n_jobs=-1, verbose=1)\n",
    "gs_rf.fit(X_train, y_train)\n",
    "print(gs_rf.best_score_)\n",
    "gs_rf.best_params_"
   ]
  },
  {
   "cell_type": "code",
   "execution_count": 29,
   "id": "a3f22632",
   "metadata": {},
   "outputs": [
    {
     "name": "stdout",
     "output_type": "stream",
     "text": [
      "best score: 0.9257333995694651\n",
      "best parameters: {'bootstrap': True, 'max_depth': 6, 'max_features': 0.5, 'n_estimators': 100, 'random_state': 42}\n",
      "accuracy on train data: 0.9421186749180924\n",
      "accuracy on test data: 0.9334061135371179\n"
     ]
    }
   ],
   "source": [
    "# gridsearch optimization\n",
    "print('best score:', gs_rf.best_score_)\n",
    "print('best parameters:', gs_rf.best_params_)\n",
    "print('accuracy on train data:', gs_rf.score(X_train, y_train))\n",
    "print('accuracy on test data:', gs_rf.score(X_val, y_val))"
   ]
  },
  {
   "cell_type": "code",
   "execution_count": 30,
   "id": "eedcbb84",
   "metadata": {},
   "outputs": [],
   "source": [
    "# make predictions \n",
    "y_pred = gs_rf.predict(X_val)\n",
    "\n",
    "# save confusion matrix values\n",
    "tn, fp, fn, tp = confusion_matrix(y_val, y_pred).ravel()"
   ]
  },
  {
   "cell_type": "code",
   "execution_count": 31,
   "id": "93700e6c",
   "metadata": {},
   "outputs": [
    {
     "data": {
      "image/png": "[encoded data removed]",
      "text/plain": [
       "<Figure size 432x288 with 2 Axes>"
      ]
     },
     "metadata": {
      "needs_background": "light"
     },
     "output_type": "display_data"
    }
   ],
   "source": [
    "# plot a confusion matrix\n",
    "plot_confusion_matrix(gs_rf, X_val, y_val, cmap='BuPu', values_format='d');"
   ]
  },
  {
   "cell_type": "code",
   "execution_count": 32,
   "id": "c79a3022",
   "metadata": {},
   "outputs": [
    {
     "name": "stdout",
     "output_type": "stream",
     "text": [
      "Accuracy: 0.9334061135371179\n",
      "Recall: 0.9615384615384616\n",
      "Precision: 0.933786078098472\n"
     ]
    }
   ],
   "source": [
    "# sensitivity and accuracy\n",
    "accu = (tp+tn) / (tp+tn+fp+fn)\n",
    "recall = tp/(tp+fn)\n",
    "prec = tp/ (tp+fp)\n",
    "\n",
    "print('Accuracy:', accu)\n",
    "print('Recall:', recall)\n",
    "print('Precision:', prec)"
   ]
  },
  {
   "cell_type": "markdown",
   "id": "56783257",
   "metadata": {},
   "source": [
    "This model is slightly overfit but much better than the other random forest model we tried. It has an accuracy of 93% on train and 91% on test."
   ]
  },
  {
   "cell_type": "code",
   "execution_count": 33,
   "id": "ac6c47eb",
   "metadata": {},
   "outputs": [
    {
     "data": {
      "text/plain": [
       "approval_gov_Strongly Disapprove                 0.528053\n",
       "pid3_Republican                                  0.221600\n",
       "ideo5_Liberal                                    0.044088\n",
       "approval_gov_Strongly Approve                    0.034273\n",
       "approval_gov_Disapprove / Somewhat Disapprove    0.029435\n",
       "ideo5_Very Liberal                               0.024676\n",
       "pid3_Independent                                 0.020621\n",
       "age                                              0.016314\n",
       "ideo5_Very Conservative                          0.015841\n",
       "dist                                             0.008754\n",
       "ideo5_Moderate                                   0.006872\n",
       "newsint_Only now and then                        0.004372\n",
       "pid3_Other                                       0.004242\n",
       "race_Black                                       0.003797\n",
       "race_White                                       0.003558\n",
       "newsint_Most of the time                         0.003336\n",
       "ownhome_Own                                      0.002944\n",
       "ideo5_Not Sure                                   0.002793\n",
       "race_Hispanic                                    0.001550\n",
       "ownhome_Rent                                     0.001262\n",
       "marstat_Single / Never Married                   0.001197\n",
       "faminc_80k - 100k                                0.001193\n",
       "gender_Male                                      0.001190\n",
       "newsint_Some of the time                         0.001183\n",
       "faminc_50k - 60k                                 0.001151\n",
       "faminc_40k - 50k                                 0.001119\n",
       "educ_High School Graduate                        0.001021\n",
       "educ_Post-Grad                                   0.001018\n",
       "educ_4-Year                                      0.001006\n",
       "pid3_Not Sure                                    0.000990\n",
       "educ_Some College                                0.000947\n",
       "newsint_Hardly at all                            0.000931\n",
       "faminc_60k - 70k                                 0.000899\n",
       "faminc_70k - 80k                                 0.000823\n",
       "faminc_120k - 150k                               0.000747\n",
       "faminc_10k - 20k                                 0.000743\n",
       "marstat_Married                                  0.000719\n",
       "faminc_30k - 40k                                 0.000650\n",
       "faminc_Less than 10k                             0.000628\n",
       "faminc_150k+                                     0.000567\n",
       "marstat_Domestic Partnership                     0.000530\n",
       "marstat_Separated                                0.000464\n",
       "approval_gov_Never Heard / Not Sure              0.000397\n",
       "faminc_20k - 30k                                 0.000346\n",
       "faminc_Prefer not to say                         0.000268\n",
       "marstat_Widowed                                  0.000238\n",
       "race_Native American                             0.000177\n",
       "race_Mixed                                       0.000172\n",
       "race_Other                                       0.000110\n",
       "educ_No HS                                       0.000103\n",
       "race_Middle Eastern                              0.000091\n",
       "dtype: float64"
      ]
     },
     "execution_count": 33,
     "metadata": {},
     "output_type": "execute_result"
    }
   ],
   "source": [
    "# get feature importances\n",
    "pd.Series(gs_rf.best_estimator_.feature_importances_, X.columns).sort_values(ascending=False)"
   ]
  },
  {
   "cell_type": "markdown",
   "id": "7321d7c1",
   "metadata": {},
   "source": [
    "- Strongly disapprove category of approval_gov feature has a 65% importance in the random forest model. \n",
    "- approval_gov_Strongly Approve has a 7% importance."
   ]
  },
  {
   "cell_type": "code",
   "execution_count": 34,
   "id": "9bc80153",
   "metadata": {
    "scrolled": true
   },
   "outputs": [
    {
     "data": {
      "text/plain": [
       "array([0, 1, 0, 1, 1, 1, 1, 1, 0, 1])"
      ]
     },
     "execution_count": 34,
     "metadata": {},
     "output_type": "execute_result"
    }
   ],
   "source": [
    "gs_rf.predict(X_val)[:10]"
   ]
  },
  {
   "cell_type": "code",
   "execution_count": 35,
   "id": "f96eae52",
   "metadata": {},
   "outputs": [
    {
     "data": {
      "text/plain": [
       "array([[0.68496479, 0.31503521],\n",
       "       [0.22947542, 0.77052458],\n",
       "       [0.9960908 , 0.0039092 ],\n",
       "       [0.00470917, 0.99529083],\n",
       "       [0.10559815, 0.89440185],\n",
       "       [0.08081701, 0.91918299],\n",
       "       [0.00401949, 0.99598051],\n",
       "       [0.00536662, 0.99463338],\n",
       "       [0.99586114, 0.00413886],\n",
       "       [0.02391078, 0.97608922]])"
      ]
     },
     "execution_count": 35,
     "metadata": {},
     "output_type": "execute_result"
    }
   ],
   "source": [
    "pred = gs_rf.predict_proba(X_val)\n",
    "pred[:10]"
   ]
  }
 ],
 "metadata": {
  "kernelspec": {
   "display_name": "Python 3",
   "language": "python",
   "name": "python3"
  },
  "language_info": {
   "codemirror_mode": {
    "name": "ipython",
    "version": 3
   },
   "file_extension": ".py",
   "mimetype": "text/x-python",
   "name": "python",
   "nbconvert_exporter": "python",
   "pygments_lexer": "ipython3",
   "version": "3.8.8"
  }
 },
 "nbformat": 4,
 "nbformat_minor": 5
}
