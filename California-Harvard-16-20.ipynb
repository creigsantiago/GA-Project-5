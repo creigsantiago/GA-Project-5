{
 "cells": [
  {
   "cell_type": "code",
   "execution_count": 59,
   "metadata": {},
   "outputs": [],
   "source": [
    "import pandas as pd\n",
    "import numpy as np\n",
    "import seaborn as sns"
   ]
  },
  {
   "cell_type": "code",
   "execution_count": 60,
   "metadata": {},
   "outputs": [],
   "source": [
    "df2 = pd.read_stata('Harvard-2006-2020.dta')"
   ]
  },
  {
   "cell_type": "code",
   "execution_count": 61,
   "metadata": {},
   "outputs": [
    {
     "data": {
      "text/html": [
       "<div>\n",
       "<style scoped>\n",
       "    .dataframe tbody tr th:only-of-type {\n",
       "        vertical-align: middle;\n",
       "    }\n",
       "\n",
       "    .dataframe tbody tr th {\n",
       "        vertical-align: top;\n",
       "    }\n",
       "\n",
       "    .dataframe thead th {\n",
       "        text-align: right;\n",
       "    }\n",
       "</style>\n",
       "<table border=\"1\" class=\"dataframe\">\n",
       "  <thead>\n",
       "    <tr style=\"text-align: right;\">\n",
       "      <th></th>\n",
       "      <th>year</th>\n",
       "      <th>case_id</th>\n",
       "      <th>weight</th>\n",
       "      <th>weight_cumulative</th>\n",
       "      <th>state</th>\n",
       "      <th>st</th>\n",
       "      <th>cong</th>\n",
       "      <th>cong_up</th>\n",
       "      <th>state_post</th>\n",
       "      <th>st_post</th>\n",
       "      <th>...</th>\n",
       "      <th>voted_rep_chosen</th>\n",
       "      <th>voted_sen_chosen</th>\n",
       "      <th>voted_gov_chosen</th>\n",
       "      <th>rep_current</th>\n",
       "      <th>rep_icpsr</th>\n",
       "      <th>sen1_current</th>\n",
       "      <th>sen1_icpsr</th>\n",
       "      <th>sen2_current</th>\n",
       "      <th>sen2_icpsr</th>\n",
       "      <th>gov_current</th>\n",
       "    </tr>\n",
       "  </thead>\n",
       "  <tbody>\n",
       "    <tr>\n",
       "      <th>0</th>\n",
       "      <td>2006</td>\n",
       "      <td>439219</td>\n",
       "      <td>1.851676</td>\n",
       "      <td>1.667581</td>\n",
       "      <td>North Carolina</td>\n",
       "      <td>NC</td>\n",
       "      <td>109</td>\n",
       "      <td>110</td>\n",
       "      <td>North Carolina</td>\n",
       "      <td>NC</td>\n",
       "      <td>...</td>\n",
       "      <td>Richard C. Carsner (D)</td>\n",
       "      <td></td>\n",
       "      <td></td>\n",
       "      <td>Patrick T. McHenry (R)</td>\n",
       "      <td>20522</td>\n",
       "      <td>Elizabeth Dole (R)</td>\n",
       "      <td>40303</td>\n",
       "      <td>Richard Burr (R)</td>\n",
       "      <td>29548</td>\n",
       "      <td>Michael Easley (D)</td>\n",
       "    </tr>\n",
       "  </tbody>\n",
       "</table>\n",
       "<p>1 rows × 93 columns</p>\n",
       "</div>"
      ],
      "text/plain": [
       "   year case_id    weight  weight_cumulative           state  st cong cong_up  \\\n",
       "0  2006  439219  1.851676           1.667581  North Carolina  NC  109     110   \n",
       "\n",
       "       state_post st_post  ...        voted_rep_chosen  voted_sen_chosen  \\\n",
       "0  North Carolina      NC  ...  Richard C. Carsner (D)                     \n",
       "\n",
       "  voted_gov_chosen             rep_current  rep_icpsr        sen1_current  \\\n",
       "0                   Patrick T. McHenry (R)      20522  Elizabeth Dole (R)   \n",
       "\n",
       "  sen1_icpsr      sen2_current sen2_icpsr         gov_current  \n",
       "0      40303  Richard Burr (R)      29548  Michael Easley (D)  \n",
       "\n",
       "[1 rows x 93 columns]"
      ]
     },
     "execution_count": 61,
     "metadata": {},
     "output_type": "execute_result"
    }
   ],
   "source": [
    "df2.head(1)"
   ]
  },
  {
   "cell_type": "code",
   "execution_count": 62,
   "metadata": {},
   "outputs": [],
   "source": [
    "df2.drop(df2[df2.year < 2016].index, inplace=True)"
   ]
  },
  {
   "cell_type": "code",
   "execution_count": 63,
   "metadata": {},
   "outputs": [
    {
     "data": {
      "text/plain": [
       "(221800, 93)"
      ]
     },
     "execution_count": 63,
     "metadata": {},
     "output_type": "execute_result"
    }
   ],
   "source": [
    "df2.shape"
   ]
  },
  {
   "cell_type": "code",
   "execution_count": 64,
   "metadata": {},
   "outputs": [],
   "source": [
    "cali = df2.copy()"
   ]
  },
  {
   "cell_type": "code",
   "execution_count": 65,
   "metadata": {},
   "outputs": [
    {
     "data": {
      "text/html": [
       "<div>\n",
       "<style scoped>\n",
       "    .dataframe tbody tr th:only-of-type {\n",
       "        vertical-align: middle;\n",
       "    }\n",
       "\n",
       "    .dataframe tbody tr th {\n",
       "        vertical-align: top;\n",
       "    }\n",
       "\n",
       "    .dataframe thead th {\n",
       "        text-align: right;\n",
       "    }\n",
       "</style>\n",
       "<table border=\"1\" class=\"dataframe\">\n",
       "  <thead>\n",
       "    <tr style=\"text-align: right;\">\n",
       "      <th></th>\n",
       "      <th>year</th>\n",
       "      <th>case_id</th>\n",
       "      <th>weight</th>\n",
       "      <th>weight_cumulative</th>\n",
       "      <th>state</th>\n",
       "      <th>st</th>\n",
       "      <th>cong</th>\n",
       "      <th>cong_up</th>\n",
       "      <th>state_post</th>\n",
       "      <th>st_post</th>\n",
       "      <th>...</th>\n",
       "      <th>voted_rep_chosen</th>\n",
       "      <th>voted_sen_chosen</th>\n",
       "      <th>voted_gov_chosen</th>\n",
       "      <th>rep_current</th>\n",
       "      <th>rep_icpsr</th>\n",
       "      <th>sen1_current</th>\n",
       "      <th>sen1_icpsr</th>\n",
       "      <th>sen2_current</th>\n",
       "      <th>sen2_icpsr</th>\n",
       "      <th>gov_current</th>\n",
       "    </tr>\n",
       "  </thead>\n",
       "  <tbody>\n",
       "    <tr>\n",
       "      <th>309955</th>\n",
       "      <td>2016</td>\n",
       "      <td>222168628</td>\n",
       "      <td>1.344214</td>\n",
       "      <td>0.682511</td>\n",
       "      <td>New Hampshire</td>\n",
       "      <td>NH</td>\n",
       "      <td>114</td>\n",
       "      <td>115</td>\n",
       "      <td>New Hampshire</td>\n",
       "      <td>NH</td>\n",
       "      <td>...</td>\n",
       "      <td>Jim Lawrence (R)</td>\n",
       "      <td>Kelly Ayotte (R)</td>\n",
       "      <td>Chris Sununu (R)</td>\n",
       "      <td>Ann McLane Kuster (D)</td>\n",
       "      <td>21340</td>\n",
       "      <td>Jeanne Shaheen (D)</td>\n",
       "      <td>40906</td>\n",
       "      <td>Kelly Ayotte (R)</td>\n",
       "      <td>41106</td>\n",
       "      <td>Maggie Hassan (D)</td>\n",
       "    </tr>\n",
       "    <tr>\n",
       "      <th>309956</th>\n",
       "      <td>2016</td>\n",
       "      <td>273691199</td>\n",
       "      <td>1.182352</td>\n",
       "      <td>0.600327</td>\n",
       "      <td>Louisiana</td>\n",
       "      <td>LA</td>\n",
       "      <td>114</td>\n",
       "      <td>115</td>\n",
       "      <td>Louisiana</td>\n",
       "      <td>LA</td>\n",
       "      <td>...</td>\n",
       "      <td>Kip Holden (D)</td>\n",
       "      <td>John Fleming (R)</td>\n",
       "      <td></td>\n",
       "      <td>Cedric Richmond (D)</td>\n",
       "      <td>21137</td>\n",
       "      <td>David Vitter (R)</td>\n",
       "      <td>29918</td>\n",
       "      <td>Bill Cassidy (R)</td>\n",
       "      <td>20919</td>\n",
       "      <td>John Edwards (D)</td>\n",
       "    </tr>\n",
       "    <tr>\n",
       "      <th>309957</th>\n",
       "      <td>2016</td>\n",
       "      <td>284214415</td>\n",
       "      <td>0.217396</td>\n",
       "      <td>0.110381</td>\n",
       "      <td>Missouri</td>\n",
       "      <td>MO</td>\n",
       "      <td>114</td>\n",
       "      <td>115</td>\n",
       "      <td>NaN</td>\n",
       "      <td>NaN</td>\n",
       "      <td>...</td>\n",
       "      <td></td>\n",
       "      <td></td>\n",
       "      <td></td>\n",
       "      <td>Jason T. Smith (R)</td>\n",
       "      <td>21373</td>\n",
       "      <td>Claire McCaskill (D)</td>\n",
       "      <td>40701</td>\n",
       "      <td>Roy Blunt (R)</td>\n",
       "      <td>29735</td>\n",
       "      <td>Jay Nixon (D)</td>\n",
       "    </tr>\n",
       "    <tr>\n",
       "      <th>309958</th>\n",
       "      <td>2016</td>\n",
       "      <td>287557695</td>\n",
       "      <td>0.532320</td>\n",
       "      <td>0.270280</td>\n",
       "      <td>Alabama</td>\n",
       "      <td>AL</td>\n",
       "      <td>114</td>\n",
       "      <td>115</td>\n",
       "      <td>NaN</td>\n",
       "      <td>NaN</td>\n",
       "      <td>...</td>\n",
       "      <td></td>\n",
       "      <td></td>\n",
       "      <td></td>\n",
       "      <td>Terri Sewell (D)</td>\n",
       "      <td>21102</td>\n",
       "      <td>Richard Shelby (R)</td>\n",
       "      <td>94659</td>\n",
       "      <td>Jeff Sessions (R)</td>\n",
       "      <td>49700</td>\n",
       "      <td>Robert J. Bentley (R)</td>\n",
       "    </tr>\n",
       "    <tr>\n",
       "      <th>309959</th>\n",
       "      <td>2016</td>\n",
       "      <td>290387662</td>\n",
       "      <td>1.261106</td>\n",
       "      <td>0.640314</td>\n",
       "      <td>Colorado</td>\n",
       "      <td>CO</td>\n",
       "      <td>114</td>\n",
       "      <td>115</td>\n",
       "      <td>Colorado</td>\n",
       "      <td>CO</td>\n",
       "      <td>...</td>\n",
       "      <td>Jared Polis (D)</td>\n",
       "      <td>Michael Bennet (D)</td>\n",
       "      <td></td>\n",
       "      <td>Jared Polis (D)</td>\n",
       "      <td>20904</td>\n",
       "      <td>Michael Bennet (D)</td>\n",
       "      <td>40910</td>\n",
       "      <td>Cory Gardner (R)</td>\n",
       "      <td>21112</td>\n",
       "      <td>John Hickenlooper (D)</td>\n",
       "    </tr>\n",
       "  </tbody>\n",
       "</table>\n",
       "<p>5 rows × 93 columns</p>\n",
       "</div>"
      ],
      "text/plain": [
       "        year    case_id    weight  weight_cumulative          state  st cong  \\\n",
       "309955  2016  222168628  1.344214           0.682511  New Hampshire  NH  114   \n",
       "309956  2016  273691199  1.182352           0.600327      Louisiana  LA  114   \n",
       "309957  2016  284214415  0.217396           0.110381       Missouri  MO  114   \n",
       "309958  2016  287557695  0.532320           0.270280        Alabama  AL  114   \n",
       "309959  2016  290387662  1.261106           0.640314       Colorado  CO  114   \n",
       "\n",
       "       cong_up     state_post st_post  ...  voted_rep_chosen  \\\n",
       "309955     115  New Hampshire      NH  ...  Jim Lawrence (R)   \n",
       "309956     115      Louisiana      LA  ...    Kip Holden (D)   \n",
       "309957     115            NaN     NaN  ...                     \n",
       "309958     115            NaN     NaN  ...                     \n",
       "309959     115       Colorado      CO  ...   Jared Polis (D)   \n",
       "\n",
       "          voted_sen_chosen  voted_gov_chosen            rep_current  \\\n",
       "309955    Kelly Ayotte (R)  Chris Sununu (R)  Ann McLane Kuster (D)   \n",
       "309956    John Fleming (R)                      Cedric Richmond (D)   \n",
       "309957                                           Jason T. Smith (R)   \n",
       "309958                                             Terri Sewell (D)   \n",
       "309959  Michael Bennet (D)                          Jared Polis (D)   \n",
       "\n",
       "        rep_icpsr          sen1_current sen1_icpsr       sen2_current  \\\n",
       "309955      21340    Jeanne Shaheen (D)      40906   Kelly Ayotte (R)   \n",
       "309956      21137      David Vitter (R)      29918   Bill Cassidy (R)   \n",
       "309957      21373  Claire McCaskill (D)      40701      Roy Blunt (R)   \n",
       "309958      21102    Richard Shelby (R)      94659  Jeff Sessions (R)   \n",
       "309959      20904    Michael Bennet (D)      40910   Cory Gardner (R)   \n",
       "\n",
       "       sen2_icpsr            gov_current  \n",
       "309955      41106      Maggie Hassan (D)  \n",
       "309956      20919       John Edwards (D)  \n",
       "309957      29735          Jay Nixon (D)  \n",
       "309958      49700  Robert J. Bentley (R)  \n",
       "309959      21112  John Hickenlooper (D)  \n",
       "\n",
       "[5 rows x 93 columns]"
      ]
     },
     "execution_count": 65,
     "metadata": {},
     "output_type": "execute_result"
    }
   ],
   "source": [
    "cali.head()"
   ]
  },
  {
   "cell_type": "code",
   "execution_count": 66,
   "metadata": {},
   "outputs": [],
   "source": [
    "# Limit dataframe to California\n",
    "# code is a little weird, but at this point, cali = df2, so it works\n",
    "\n",
    "cali.drop(df2[df2.state != 'California'].index, inplace=True)"
   ]
  },
  {
   "cell_type": "code",
   "execution_count": 67,
   "metadata": {},
   "outputs": [
    {
     "data": {
      "text/plain": [
       "(19799, 93)"
      ]
     },
     "execution_count": 67,
     "metadata": {},
     "output_type": "execute_result"
    }
   ],
   "source": [
    "cali.shape"
   ]
  },
  {
   "cell_type": "code",
   "execution_count": 68,
   "metadata": {
    "scrolled": true
   },
   "outputs": [
    {
     "data": {
      "text/html": [
       "<div>\n",
       "<style scoped>\n",
       "    .dataframe tbody tr th:only-of-type {\n",
       "        vertical-align: middle;\n",
       "    }\n",
       "\n",
       "    .dataframe tbody tr th {\n",
       "        vertical-align: top;\n",
       "    }\n",
       "\n",
       "    .dataframe thead th {\n",
       "        text-align: right;\n",
       "    }\n",
       "</style>\n",
       "<table border=\"1\" class=\"dataframe\">\n",
       "  <thead>\n",
       "    <tr style=\"text-align: right;\">\n",
       "      <th></th>\n",
       "      <th>year</th>\n",
       "      <th>case_id</th>\n",
       "      <th>weight</th>\n",
       "      <th>weight_cumulative</th>\n",
       "      <th>state</th>\n",
       "      <th>st</th>\n",
       "      <th>cong</th>\n",
       "      <th>cong_up</th>\n",
       "      <th>state_post</th>\n",
       "      <th>st_post</th>\n",
       "      <th>...</th>\n",
       "      <th>voted_rep_chosen</th>\n",
       "      <th>voted_sen_chosen</th>\n",
       "      <th>voted_gov_chosen</th>\n",
       "      <th>rep_current</th>\n",
       "      <th>rep_icpsr</th>\n",
       "      <th>sen1_current</th>\n",
       "      <th>sen1_icpsr</th>\n",
       "      <th>sen2_current</th>\n",
       "      <th>sen2_icpsr</th>\n",
       "      <th>gov_current</th>\n",
       "    </tr>\n",
       "  </thead>\n",
       "  <tbody>\n",
       "    <tr>\n",
       "      <th>309976</th>\n",
       "      <td>2016</td>\n",
       "      <td>299793268</td>\n",
       "      <td>2.464577</td>\n",
       "      <td>1.251364</td>\n",
       "      <td>California</td>\n",
       "      <td>CA</td>\n",
       "      <td>114</td>\n",
       "      <td>115</td>\n",
       "      <td>California</td>\n",
       "      <td>CA</td>\n",
       "      <td>...</td>\n",
       "      <td></td>\n",
       "      <td></td>\n",
       "      <td></td>\n",
       "      <td>Jerry McNerney (D)</td>\n",
       "      <td>20702</td>\n",
       "      <td>Dianne Feinstein (D)</td>\n",
       "      <td>49300</td>\n",
       "      <td>Barbara Boxer (D)</td>\n",
       "      <td>15011</td>\n",
       "      <td>Jerry Brown (D)</td>\n",
       "    </tr>\n",
       "    <tr>\n",
       "      <th>309979</th>\n",
       "      <td>2016</td>\n",
       "      <td>299929287</td>\n",
       "      <td>2.049700</td>\n",
       "      <td>1.040715</td>\n",
       "      <td>California</td>\n",
       "      <td>CA</td>\n",
       "      <td>114</td>\n",
       "      <td>115</td>\n",
       "      <td>NaN</td>\n",
       "      <td>NaN</td>\n",
       "      <td>...</td>\n",
       "      <td></td>\n",
       "      <td></td>\n",
       "      <td></td>\n",
       "      <td>Brad Sherman (D)</td>\n",
       "      <td>29707</td>\n",
       "      <td>Dianne Feinstein (D)</td>\n",
       "      <td>49300</td>\n",
       "      <td>Barbara Boxer (D)</td>\n",
       "      <td>15011</td>\n",
       "      <td>Jerry Brown (D)</td>\n",
       "    </tr>\n",
       "    <tr>\n",
       "      <th>309994</th>\n",
       "      <td>2016</td>\n",
       "      <td>300678759</td>\n",
       "      <td>0.278606</td>\n",
       "      <td>0.141459</td>\n",
       "      <td>California</td>\n",
       "      <td>CA</td>\n",
       "      <td>114</td>\n",
       "      <td>115</td>\n",
       "      <td>California</td>\n",
       "      <td>CA</td>\n",
       "      <td>...</td>\n",
       "      <td>Ted Lieu (D)</td>\n",
       "      <td>Kamala D. Harris (D)</td>\n",
       "      <td></td>\n",
       "      <td>Ted Lieu (D)</td>\n",
       "      <td>21507</td>\n",
       "      <td>Dianne Feinstein (D)</td>\n",
       "      <td>49300</td>\n",
       "      <td>Barbara Boxer (D)</td>\n",
       "      <td>15011</td>\n",
       "      <td>Jerry Brown (D)</td>\n",
       "    </tr>\n",
       "    <tr>\n",
       "      <th>309995</th>\n",
       "      <td>2016</td>\n",
       "      <td>300756130</td>\n",
       "      <td>0.064245</td>\n",
       "      <td>0.032620</td>\n",
       "      <td>California</td>\n",
       "      <td>CA</td>\n",
       "      <td>114</td>\n",
       "      <td>115</td>\n",
       "      <td>California</td>\n",
       "      <td>CA</td>\n",
       "      <td>...</td>\n",
       "      <td></td>\n",
       "      <td></td>\n",
       "      <td></td>\n",
       "      <td>Kevin McCarthy (R)</td>\n",
       "      <td>20703</td>\n",
       "      <td>Dianne Feinstein (D)</td>\n",
       "      <td>49300</td>\n",
       "      <td>Barbara Boxer (D)</td>\n",
       "      <td>15011</td>\n",
       "      <td>Jerry Brown (D)</td>\n",
       "    </tr>\n",
       "    <tr>\n",
       "      <th>310003</th>\n",
       "      <td>2016</td>\n",
       "      <td>300894516</td>\n",
       "      <td>0.209963</td>\n",
       "      <td>0.106606</td>\n",
       "      <td>California</td>\n",
       "      <td>CA</td>\n",
       "      <td>114</td>\n",
       "      <td>115</td>\n",
       "      <td>California</td>\n",
       "      <td>CA</td>\n",
       "      <td>...</td>\n",
       "      <td>Brett Murdock (D)</td>\n",
       "      <td>Kamala D. Harris (D)</td>\n",
       "      <td></td>\n",
       "      <td>Ed Royce (R)</td>\n",
       "      <td>29321</td>\n",
       "      <td>Dianne Feinstein (D)</td>\n",
       "      <td>49300</td>\n",
       "      <td>Barbara Boxer (D)</td>\n",
       "      <td>15011</td>\n",
       "      <td>Jerry Brown (D)</td>\n",
       "    </tr>\n",
       "    <tr>\n",
       "      <th>310008</th>\n",
       "      <td>2016</td>\n",
       "      <td>300931090</td>\n",
       "      <td>1.537359</td>\n",
       "      <td>0.780579</td>\n",
       "      <td>California</td>\n",
       "      <td>CA</td>\n",
       "      <td>114</td>\n",
       "      <td>115</td>\n",
       "      <td>California</td>\n",
       "      <td>CA</td>\n",
       "      <td>...</td>\n",
       "      <td>Brad Sherman (D)</td>\n",
       "      <td>Kamala D. Harris (D)</td>\n",
       "      <td></td>\n",
       "      <td>Brad Sherman (D)</td>\n",
       "      <td>29707</td>\n",
       "      <td>Dianne Feinstein (D)</td>\n",
       "      <td>49300</td>\n",
       "      <td>Barbara Boxer (D)</td>\n",
       "      <td>15011</td>\n",
       "      <td>Jerry Brown (D)</td>\n",
       "    </tr>\n",
       "    <tr>\n",
       "      <th>310011</th>\n",
       "      <td>2016</td>\n",
       "      <td>300996404</td>\n",
       "      <td>1.172477</td>\n",
       "      <td>0.595313</td>\n",
       "      <td>California</td>\n",
       "      <td>CA</td>\n",
       "      <td>114</td>\n",
       "      <td>115</td>\n",
       "      <td>California</td>\n",
       "      <td>CA</td>\n",
       "      <td>...</td>\n",
       "      <td>Juan M. Hidalgo, Jr. (R)</td>\n",
       "      <td>Loretta L. Sanchez (D)</td>\n",
       "      <td></td>\n",
       "      <td>Juan Vargas (D)</td>\n",
       "      <td>21314</td>\n",
       "      <td>Dianne Feinstein (D)</td>\n",
       "      <td>49300</td>\n",
       "      <td>Barbara Boxer (D)</td>\n",
       "      <td>15011</td>\n",
       "      <td>Jerry Brown (D)</td>\n",
       "    </tr>\n",
       "    <tr>\n",
       "      <th>310018</th>\n",
       "      <td>2016</td>\n",
       "      <td>301045806</td>\n",
       "      <td>2.929296</td>\n",
       "      <td>1.487321</td>\n",
       "      <td>California</td>\n",
       "      <td>CA</td>\n",
       "      <td>114</td>\n",
       "      <td>115</td>\n",
       "      <td>California</td>\n",
       "      <td>CA</td>\n",
       "      <td>...</td>\n",
       "      <td>Anna Eshoo (D)</td>\n",
       "      <td>Loretta L. Sanchez (D)</td>\n",
       "      <td></td>\n",
       "      <td>Anna Eshoo (D)</td>\n",
       "      <td>29312</td>\n",
       "      <td>Dianne Feinstein (D)</td>\n",
       "      <td>49300</td>\n",
       "      <td>Barbara Boxer (D)</td>\n",
       "      <td>15011</td>\n",
       "      <td>Jerry Brown (D)</td>\n",
       "    </tr>\n",
       "    <tr>\n",
       "      <th>310024</th>\n",
       "      <td>2016</td>\n",
       "      <td>301092237</td>\n",
       "      <td>0.825176</td>\n",
       "      <td>0.418975</td>\n",
       "      <td>California</td>\n",
       "      <td>CA</td>\n",
       "      <td>114</td>\n",
       "      <td>115</td>\n",
       "      <td>California</td>\n",
       "      <td>CA</td>\n",
       "      <td>...</td>\n",
       "      <td>Grace Napolitano (D)</td>\n",
       "      <td>Loretta L. Sanchez (D)</td>\n",
       "      <td></td>\n",
       "      <td>Grace Napolitano (D)</td>\n",
       "      <td>29903</td>\n",
       "      <td>Dianne Feinstein (D)</td>\n",
       "      <td>49300</td>\n",
       "      <td>Barbara Boxer (D)</td>\n",
       "      <td>15011</td>\n",
       "      <td>Jerry Brown (D)</td>\n",
       "    </tr>\n",
       "    <tr>\n",
       "      <th>310041</th>\n",
       "      <td>2016</td>\n",
       "      <td>301124709</td>\n",
       "      <td>0.958000</td>\n",
       "      <td>0.486415</td>\n",
       "      <td>California</td>\n",
       "      <td>CA</td>\n",
       "      <td>114</td>\n",
       "      <td>115</td>\n",
       "      <td>California</td>\n",
       "      <td>CA</td>\n",
       "      <td>...</td>\n",
       "      <td>Jared Huffman (D)</td>\n",
       "      <td>Kamala D. Harris (D)</td>\n",
       "      <td></td>\n",
       "      <td>Jared Huffman (D)</td>\n",
       "      <td>21303</td>\n",
       "      <td>Dianne Feinstein (D)</td>\n",
       "      <td>49300</td>\n",
       "      <td>Barbara Boxer (D)</td>\n",
       "      <td>15011</td>\n",
       "      <td>Jerry Brown (D)</td>\n",
       "    </tr>\n",
       "  </tbody>\n",
       "</table>\n",
       "<p>10 rows × 93 columns</p>\n",
       "</div>"
      ],
      "text/plain": [
       "        year    case_id    weight  weight_cumulative       state  st cong  \\\n",
       "309976  2016  299793268  2.464577           1.251364  California  CA  114   \n",
       "309979  2016  299929287  2.049700           1.040715  California  CA  114   \n",
       "309994  2016  300678759  0.278606           0.141459  California  CA  114   \n",
       "309995  2016  300756130  0.064245           0.032620  California  CA  114   \n",
       "310003  2016  300894516  0.209963           0.106606  California  CA  114   \n",
       "310008  2016  300931090  1.537359           0.780579  California  CA  114   \n",
       "310011  2016  300996404  1.172477           0.595313  California  CA  114   \n",
       "310018  2016  301045806  2.929296           1.487321  California  CA  114   \n",
       "310024  2016  301092237  0.825176           0.418975  California  CA  114   \n",
       "310041  2016  301124709  0.958000           0.486415  California  CA  114   \n",
       "\n",
       "       cong_up  state_post st_post  ...          voted_rep_chosen  \\\n",
       "309976     115  California      CA  ...                             \n",
       "309979     115         NaN     NaN  ...                             \n",
       "309994     115  California      CA  ...              Ted Lieu (D)   \n",
       "309995     115  California      CA  ...                             \n",
       "310003     115  California      CA  ...         Brett Murdock (D)   \n",
       "310008     115  California      CA  ...          Brad Sherman (D)   \n",
       "310011     115  California      CA  ...  Juan M. Hidalgo, Jr. (R)   \n",
       "310018     115  California      CA  ...            Anna Eshoo (D)   \n",
       "310024     115  California      CA  ...      Grace Napolitano (D)   \n",
       "310041     115  California      CA  ...         Jared Huffman (D)   \n",
       "\n",
       "              voted_sen_chosen voted_gov_chosen           rep_current  \\\n",
       "309976                                             Jerry McNerney (D)   \n",
       "309979                                               Brad Sherman (D)   \n",
       "309994    Kamala D. Harris (D)                           Ted Lieu (D)   \n",
       "309995                                             Kevin McCarthy (R)   \n",
       "310003    Kamala D. Harris (D)                           Ed Royce (R)   \n",
       "310008    Kamala D. Harris (D)                       Brad Sherman (D)   \n",
       "310011  Loretta L. Sanchez (D)                        Juan Vargas (D)   \n",
       "310018  Loretta L. Sanchez (D)                         Anna Eshoo (D)   \n",
       "310024  Loretta L. Sanchez (D)                   Grace Napolitano (D)   \n",
       "310041    Kamala D. Harris (D)                      Jared Huffman (D)   \n",
       "\n",
       "        rep_icpsr          sen1_current sen1_icpsr       sen2_current  \\\n",
       "309976      20702  Dianne Feinstein (D)      49300  Barbara Boxer (D)   \n",
       "309979      29707  Dianne Feinstein (D)      49300  Barbara Boxer (D)   \n",
       "309994      21507  Dianne Feinstein (D)      49300  Barbara Boxer (D)   \n",
       "309995      20703  Dianne Feinstein (D)      49300  Barbara Boxer (D)   \n",
       "310003      29321  Dianne Feinstein (D)      49300  Barbara Boxer (D)   \n",
       "310008      29707  Dianne Feinstein (D)      49300  Barbara Boxer (D)   \n",
       "310011      21314  Dianne Feinstein (D)      49300  Barbara Boxer (D)   \n",
       "310018      29312  Dianne Feinstein (D)      49300  Barbara Boxer (D)   \n",
       "310024      29903  Dianne Feinstein (D)      49300  Barbara Boxer (D)   \n",
       "310041      21303  Dianne Feinstein (D)      49300  Barbara Boxer (D)   \n",
       "\n",
       "       sen2_icpsr      gov_current  \n",
       "309976      15011  Jerry Brown (D)  \n",
       "309979      15011  Jerry Brown (D)  \n",
       "309994      15011  Jerry Brown (D)  \n",
       "309995      15011  Jerry Brown (D)  \n",
       "310003      15011  Jerry Brown (D)  \n",
       "310008      15011  Jerry Brown (D)  \n",
       "310011      15011  Jerry Brown (D)  \n",
       "310018      15011  Jerry Brown (D)  \n",
       "310024      15011  Jerry Brown (D)  \n",
       "310041      15011  Jerry Brown (D)  \n",
       "\n",
       "[10 rows x 93 columns]"
      ]
     },
     "execution_count": 68,
     "metadata": {},
     "output_type": "execute_result"
    }
   ],
   "source": [
    "cali.head(10)"
   ]
  },
  {
   "cell_type": "code",
   "execution_count": 69,
   "metadata": {},
   "outputs": [],
   "source": [
    "# drop state column, since it's the same as st column\n",
    "cali.drop('state_post', axis =1, inplace= True)\n"
   ]
  },
  {
   "cell_type": "code",
   "execution_count": 70,
   "metadata": {
    "scrolled": true
   },
   "outputs": [
    {
     "data": {
      "text/html": [
       "<div>\n",
       "<style scoped>\n",
       "    .dataframe tbody tr th:only-of-type {\n",
       "        vertical-align: middle;\n",
       "    }\n",
       "\n",
       "    .dataframe tbody tr th {\n",
       "        vertical-align: top;\n",
       "    }\n",
       "\n",
       "    .dataframe thead th {\n",
       "        text-align: right;\n",
       "    }\n",
       "</style>\n",
       "<table border=\"1\" class=\"dataframe\">\n",
       "  <thead>\n",
       "    <tr style=\"text-align: right;\">\n",
       "      <th></th>\n",
       "      <th>year</th>\n",
       "      <th>case_id</th>\n",
       "      <th>weight</th>\n",
       "      <th>weight_cumulative</th>\n",
       "      <th>state</th>\n",
       "      <th>st</th>\n",
       "      <th>cong</th>\n",
       "      <th>cong_up</th>\n",
       "      <th>st_post</th>\n",
       "      <th>dist</th>\n",
       "      <th>...</th>\n",
       "      <th>voted_rep_chosen</th>\n",
       "      <th>voted_sen_chosen</th>\n",
       "      <th>voted_gov_chosen</th>\n",
       "      <th>rep_current</th>\n",
       "      <th>rep_icpsr</th>\n",
       "      <th>sen1_current</th>\n",
       "      <th>sen1_icpsr</th>\n",
       "      <th>sen2_current</th>\n",
       "      <th>sen2_icpsr</th>\n",
       "      <th>gov_current</th>\n",
       "    </tr>\n",
       "  </thead>\n",
       "  <tbody>\n",
       "    <tr>\n",
       "      <th>309976</th>\n",
       "      <td>2016</td>\n",
       "      <td>299793268</td>\n",
       "      <td>2.464577</td>\n",
       "      <td>1.251364</td>\n",
       "      <td>California</td>\n",
       "      <td>CA</td>\n",
       "      <td>114</td>\n",
       "      <td>115</td>\n",
       "      <td>CA</td>\n",
       "      <td>9</td>\n",
       "      <td>...</td>\n",
       "      <td></td>\n",
       "      <td></td>\n",
       "      <td></td>\n",
       "      <td>Jerry McNerney (D)</td>\n",
       "      <td>20702</td>\n",
       "      <td>Dianne Feinstein (D)</td>\n",
       "      <td>49300</td>\n",
       "      <td>Barbara Boxer (D)</td>\n",
       "      <td>15011</td>\n",
       "      <td>Jerry Brown (D)</td>\n",
       "    </tr>\n",
       "    <tr>\n",
       "      <th>309979</th>\n",
       "      <td>2016</td>\n",
       "      <td>299929287</td>\n",
       "      <td>2.049700</td>\n",
       "      <td>1.040715</td>\n",
       "      <td>California</td>\n",
       "      <td>CA</td>\n",
       "      <td>114</td>\n",
       "      <td>115</td>\n",
       "      <td>NaN</td>\n",
       "      <td>30</td>\n",
       "      <td>...</td>\n",
       "      <td></td>\n",
       "      <td></td>\n",
       "      <td></td>\n",
       "      <td>Brad Sherman (D)</td>\n",
       "      <td>29707</td>\n",
       "      <td>Dianne Feinstein (D)</td>\n",
       "      <td>49300</td>\n",
       "      <td>Barbara Boxer (D)</td>\n",
       "      <td>15011</td>\n",
       "      <td>Jerry Brown (D)</td>\n",
       "    </tr>\n",
       "    <tr>\n",
       "      <th>309994</th>\n",
       "      <td>2016</td>\n",
       "      <td>300678759</td>\n",
       "      <td>0.278606</td>\n",
       "      <td>0.141459</td>\n",
       "      <td>California</td>\n",
       "      <td>CA</td>\n",
       "      <td>114</td>\n",
       "      <td>115</td>\n",
       "      <td>CA</td>\n",
       "      <td>33</td>\n",
       "      <td>...</td>\n",
       "      <td>Ted Lieu (D)</td>\n",
       "      <td>Kamala D. Harris (D)</td>\n",
       "      <td></td>\n",
       "      <td>Ted Lieu (D)</td>\n",
       "      <td>21507</td>\n",
       "      <td>Dianne Feinstein (D)</td>\n",
       "      <td>49300</td>\n",
       "      <td>Barbara Boxer (D)</td>\n",
       "      <td>15011</td>\n",
       "      <td>Jerry Brown (D)</td>\n",
       "    </tr>\n",
       "  </tbody>\n",
       "</table>\n",
       "<p>3 rows × 92 columns</p>\n",
       "</div>"
      ],
      "text/plain": [
       "        year    case_id    weight  weight_cumulative       state  st cong  \\\n",
       "309976  2016  299793268  2.464577           1.251364  California  CA  114   \n",
       "309979  2016  299929287  2.049700           1.040715  California  CA  114   \n",
       "309994  2016  300678759  0.278606           0.141459  California  CA  114   \n",
       "\n",
       "       cong_up st_post  dist  ...  voted_rep_chosen      voted_sen_chosen  \\\n",
       "309976     115      CA     9  ...                                           \n",
       "309979     115     NaN    30  ...                                           \n",
       "309994     115      CA    33  ...      Ted Lieu (D)  Kamala D. Harris (D)   \n",
       "\n",
       "       voted_gov_chosen         rep_current  rep_icpsr          sen1_current  \\\n",
       "309976                   Jerry McNerney (D)      20702  Dianne Feinstein (D)   \n",
       "309979                     Brad Sherman (D)      29707  Dianne Feinstein (D)   \n",
       "309994                         Ted Lieu (D)      21507  Dianne Feinstein (D)   \n",
       "\n",
       "       sen1_icpsr       sen2_current sen2_icpsr      gov_current  \n",
       "309976      49300  Barbara Boxer (D)      15011  Jerry Brown (D)  \n",
       "309979      49300  Barbara Boxer (D)      15011  Jerry Brown (D)  \n",
       "309994      49300  Barbara Boxer (D)      15011  Jerry Brown (D)  \n",
       "\n",
       "[3 rows x 92 columns]"
      ]
     },
     "execution_count": 70,
     "metadata": {},
     "output_type": "execute_result"
    }
   ],
   "source": [
    "cali.head(3)"
   ]
  },
  {
   "cell_type": "markdown",
   "metadata": {},
   "source": [
    "# Create DataFrames By Year, 2016 - 2020"
   ]
  },
  {
   "cell_type": "code",
   "execution_count": 71,
   "metadata": {},
   "outputs": [],
   "source": [
    "cali16 = cali[(cali['year'] == 2016)]"
   ]
  },
  {
   "cell_type": "code",
   "execution_count": 72,
   "metadata": {},
   "outputs": [
    {
     "data": {
      "text/plain": [
       "(6021, 92)"
      ]
     },
     "execution_count": 72,
     "metadata": {},
     "output_type": "execute_result"
    }
   ],
   "source": [
    "cali16.shape"
   ]
  },
  {
   "cell_type": "code",
   "execution_count": 73,
   "metadata": {},
   "outputs": [],
   "source": [
    "cali17 = cali[(cali['year'] == 2017)]"
   ]
  },
  {
   "cell_type": "code",
   "execution_count": 74,
   "metadata": {},
   "outputs": [
    {
     "data": {
      "text/plain": [
       "(1816, 92)"
      ]
     },
     "execution_count": 74,
     "metadata": {},
     "output_type": "execute_result"
    }
   ],
   "source": [
    "cali17.shape"
   ]
  },
  {
   "cell_type": "code",
   "execution_count": 75,
   "metadata": {},
   "outputs": [],
   "source": [
    "cali18 = cali[(cali['year'] == 2018)]"
   ]
  },
  {
   "cell_type": "code",
   "execution_count": 76,
   "metadata": {},
   "outputs": [
    {
     "data": {
      "text/plain": [
       "(5284, 92)"
      ]
     },
     "execution_count": 76,
     "metadata": {},
     "output_type": "execute_result"
    }
   ],
   "source": [
    "cali18.shape"
   ]
  },
  {
   "cell_type": "code",
   "execution_count": 77,
   "metadata": {},
   "outputs": [],
   "source": [
    "cali19 = cali[(cali['year'] == 2019)]"
   ]
  },
  {
   "cell_type": "code",
   "execution_count": 78,
   "metadata": {},
   "outputs": [
    {
     "data": {
      "text/plain": [
       "(1650, 92)"
      ]
     },
     "execution_count": 78,
     "metadata": {},
     "output_type": "execute_result"
    }
   ],
   "source": [
    "cali19.shape"
   ]
  },
  {
   "cell_type": "code",
   "execution_count": 79,
   "metadata": {},
   "outputs": [],
   "source": [
    "cali20 = cali[(cali['year'] == 2020)]"
   ]
  },
  {
   "cell_type": "code",
   "execution_count": 80,
   "metadata": {},
   "outputs": [
    {
     "data": {
      "text/plain": [
       "(5028, 92)"
      ]
     },
     "execution_count": 80,
     "metadata": {},
     "output_type": "execute_result"
    }
   ],
   "source": [
    "cali20.shape"
   ]
  },
  {
   "cell_type": "markdown",
   "metadata": {},
   "source": [
    "# Count Missing Values (all years)"
   ]
  },
  {
   "cell_type": "code",
   "execution_count": 81,
   "metadata": {},
   "outputs": [
    {
     "data": {
      "text/plain": [
       "0"
      ]
     },
     "execution_count": 81,
     "metadata": {},
     "output_type": "execute_result"
    }
   ],
   "source": [
    "cali['gender'].isna().sum()"
   ]
  },
  {
   "cell_type": "code",
   "execution_count": 82,
   "metadata": {},
   "outputs": [
    {
     "data": {
      "text/plain": [
       "0"
      ]
     },
     "execution_count": 82,
     "metadata": {},
     "output_type": "execute_result"
    }
   ],
   "source": [
    "cali['age'].isna().sum()"
   ]
  },
  {
   "cell_type": "code",
   "execution_count": 83,
   "metadata": {},
   "outputs": [
    {
     "data": {
      "text/plain": [
       "0"
      ]
     },
     "execution_count": 83,
     "metadata": {},
     "output_type": "execute_result"
    }
   ],
   "source": [
    "cali['educ'].isna().sum()"
   ]
  },
  {
   "cell_type": "code",
   "execution_count": 84,
   "metadata": {},
   "outputs": [
    {
     "data": {
      "text/plain": [
       "0"
      ]
     },
     "execution_count": 84,
     "metadata": {},
     "output_type": "execute_result"
    }
   ],
   "source": [
    "cali['race'].isna().sum()"
   ]
  },
  {
   "cell_type": "code",
   "execution_count": 85,
   "metadata": {},
   "outputs": [
    {
     "data": {
      "text/plain": [
       "3268"
      ]
     },
     "execution_count": 85,
     "metadata": {},
     "output_type": "execute_result"
    }
   ],
   "source": [
    "# Need to investigate further\n",
    "cali['hispanic'].isna().sum()"
   ]
  },
  {
   "cell_type": "code",
   "execution_count": 86,
   "metadata": {},
   "outputs": [
    {
     "data": {
      "text/plain": [
       "33"
      ]
     },
     "execution_count": 86,
     "metadata": {},
     "output_type": "execute_result"
    }
   ],
   "source": [
    "# This number is surprisingly low... I'm not going to drop them yet, \n",
    "# because I suspect that we'll find more when we start crunching.\n",
    "\n",
    "cali['faminc'].isna().sum()"
   ]
  },
  {
   "cell_type": "code",
   "execution_count": null,
   "metadata": {},
   "outputs": [],
   "source": []
  },
  {
   "cell_type": "code",
   "execution_count": null,
   "metadata": {},
   "outputs": [],
   "source": []
  },
  {
   "cell_type": "raw",
   "metadata": {},
   "source": [
    "Was there more missing data for Hispanics in some years than in others?\n",
    "N's by year:\n",
    "2016: 6,021\n",
    "2017: 1,816\n",
    "2018: 5,284\n",
    "2019: 1,650\n",
    "2020: 5,028"
   ]
  },
  {
   "cell_type": "code",
   "execution_count": 87,
   "metadata": {},
   "outputs": [],
   "source": [
    "n_2016 = 6021\n",
    "n_2017 = 1816\n",
    "n_2018 = 5284\n",
    "n_2019 = 1650\n",
    "n_2020 = 5028"
   ]
  },
  {
   "cell_type": "raw",
   "metadata": {},
   "source": [
    "Note on the Hispanic variable:\n",
    "Hispanic is covered under two different variables: race and hispanic.\n",
    "The questions for each are:\n",
    "\n",
    "race: \"What racial or ethnic group best describes you?\"\n",
    "hispanic: \"Are you of Spanish, Latino, or Hispanic origin or descent?\"\n",
    "\n",
    "The second question was only asked if the respondent did not answer \"Hispanic\" to the first question."
   ]
  },
  {
   "cell_type": "markdown",
   "metadata": {},
   "source": [
    "# 2016"
   ]
  },
  {
   "cell_type": "code",
   "execution_count": 88,
   "metadata": {},
   "outputs": [
    {
     "data": {
      "text/plain": [
       "White              3355\n",
       "Hispanic           1121\n",
       "Asian               632\n",
       "Black               504\n",
       "Mixed               222\n",
       "Other               102\n",
       "Native American      71\n",
       "Middle Eastern       14\n",
       "Name: race, dtype: int64"
      ]
     },
     "execution_count": 88,
     "metadata": {},
     "output_type": "execute_result"
    }
   ],
   "source": [
    "# n = 6,021 respondents\n",
    "cali16['race'].value_counts()"
   ]
  },
  {
   "cell_type": "code",
   "execution_count": 89,
   "metadata": {},
   "outputs": [
    {
     "data": {
      "text/plain": [
       "6021"
      ]
     },
     "execution_count": 89,
     "metadata": {},
     "output_type": "execute_result"
    }
   ],
   "source": [
    "cali16['race'].count()"
   ]
  },
  {
   "cell_type": "markdown",
   "metadata": {},
   "source": [
    "In 2016, everyone answered the race question."
   ]
  },
  {
   "cell_type": "code",
   "execution_count": 90,
   "metadata": {
    "scrolled": true
   },
   "outputs": [
    {
     "data": {
      "text/plain": [
       "1145"
      ]
     },
     "execution_count": 90,
     "metadata": {},
     "output_type": "execute_result"
    }
   ],
   "source": [
    "cali16['hispanic'].isna().sum()"
   ]
  },
  {
   "cell_type": "code",
   "execution_count": 91,
   "metadata": {},
   "outputs": [
    {
     "data": {
      "text/plain": [
       "4876"
      ]
     },
     "execution_count": 91,
     "metadata": {},
     "output_type": "execute_result"
    }
   ],
   "source": [
    "cali16['hispanic'].count()"
   ]
  },
  {
   "cell_type": "code",
   "execution_count": 92,
   "metadata": {},
   "outputs": [
    {
     "data": {
      "text/plain": [
       "0.2348236259228876"
      ]
     },
     "execution_count": 92,
     "metadata": {},
     "output_type": "execute_result"
    }
   ],
   "source": [
    "# Percent of 'hispanic' responses missing - 2016\n",
    "1145 / 4876"
   ]
  },
  {
   "cell_type": "code",
   "execution_count": 93,
   "metadata": {
    "scrolled": true
   },
   "outputs": [
    {
     "data": {
      "text/plain": [
       "No     4448\n",
       "Yes     428\n",
       "Name: hispanic, dtype: int64"
      ]
     },
     "execution_count": 93,
     "metadata": {},
     "output_type": "execute_result"
    }
   ],
   "source": [
    "# Total Hispanic respondents (from race and hispanic variables)\n",
    "cali16['hispanic'].value_counts()"
   ]
  },
  {
   "cell_type": "code",
   "execution_count": 94,
   "metadata": {},
   "outputs": [
    {
     "data": {
      "text/plain": [
       "0.2572662348447102"
      ]
     },
     "execution_count": 94,
     "metadata": {},
     "output_type": "execute_result"
    }
   ],
   "source": [
    "# 2016 percentage of respondents who identified as Hispanic\n",
    "(428 + 1121) / n_2016"
   ]
  },
  {
   "cell_type": "markdown",
   "metadata": {},
   "source": [
    "## 2017"
   ]
  },
  {
   "cell_type": "code",
   "execution_count": 95,
   "metadata": {},
   "outputs": [
    {
     "data": {
      "text/plain": [
       "White              859\n",
       "Hispanic           542\n",
       "Black              155\n",
       "Asian               97\n",
       "Mixed               93\n",
       "Other               47\n",
       "Native American     18\n",
       "Middle Eastern       5\n",
       "Name: race, dtype: int64"
      ]
     },
     "execution_count": 95,
     "metadata": {},
     "output_type": "execute_result"
    }
   ],
   "source": [
    "# n = 1,816 respondents\n",
    "cali17['race'].value_counts()"
   ]
  },
  {
   "cell_type": "code",
   "execution_count": 96,
   "metadata": {},
   "outputs": [
    {
     "data": {
      "text/plain": [
       "No     1129\n",
       "Yes     139\n",
       "Name: hispanic, dtype: int64"
      ]
     },
     "execution_count": 96,
     "metadata": {},
     "output_type": "execute_result"
    }
   ],
   "source": [
    "cali17['hispanic'].value_counts()"
   ]
  },
  {
   "cell_type": "code",
   "execution_count": 97,
   "metadata": {},
   "outputs": [
    {
     "data": {
      "text/plain": [
       "0.375"
      ]
     },
     "execution_count": 97,
     "metadata": {},
     "output_type": "execute_result"
    }
   ],
   "source": [
    "# 2017 percentage of respondents who identified as Hispanic\n",
    "(139 + 542) / n_2017"
   ]
  },
  {
   "cell_type": "code",
   "execution_count": 98,
   "metadata": {},
   "outputs": [
    {
     "data": {
      "text/plain": [
       "548"
      ]
     },
     "execution_count": 98,
     "metadata": {},
     "output_type": "execute_result"
    }
   ],
   "source": [
    "cali17['hispanic'].isna().sum()"
   ]
  },
  {
   "cell_type": "code",
   "execution_count": 99,
   "metadata": {},
   "outputs": [
    {
     "data": {
      "text/plain": [
       "1268"
      ]
     },
     "execution_count": 99,
     "metadata": {},
     "output_type": "execute_result"
    }
   ],
   "source": [
    "cali17['hispanic'].count()"
   ]
  },
  {
   "cell_type": "code",
   "execution_count": 100,
   "metadata": {},
   "outputs": [
    {
     "data": {
      "text/plain": [
       "0.43217665615141954"
      ]
     },
     "execution_count": 100,
     "metadata": {},
     "output_type": "execute_result"
    }
   ],
   "source": [
    "# Percent of 'hispanic' responses missing - 2017\n",
    "548 / 1268"
   ]
  },
  {
   "cell_type": "markdown",
   "metadata": {},
   "source": [
    "## 2018"
   ]
  },
  {
   "cell_type": "code",
   "execution_count": 101,
   "metadata": {},
   "outputs": [
    {
     "data": {
      "text/plain": [
       "White              3011\n",
       "Hispanic           1048\n",
       "Asian               487\n",
       "Black               364\n",
       "Mixed               240\n",
       "Other                67\n",
       "Native American      45\n",
       "Middle Eastern       22\n",
       "Name: race, dtype: int64"
      ]
     },
     "execution_count": 101,
     "metadata": {},
     "output_type": "execute_result"
    }
   ],
   "source": [
    "# n = 5284\n",
    "cali18['race'].value_counts()"
   ]
  },
  {
   "cell_type": "code",
   "execution_count": 102,
   "metadata": {},
   "outputs": [
    {
     "data": {
      "text/plain": [
       "No     4949\n",
       "Yes     335\n",
       "Name: hispanic, dtype: int64"
      ]
     },
     "execution_count": 102,
     "metadata": {},
     "output_type": "execute_result"
    }
   ],
   "source": [
    "cali18['hispanic'].value_counts()"
   ]
  },
  {
   "cell_type": "code",
   "execution_count": 103,
   "metadata": {},
   "outputs": [
    {
     "data": {
      "text/plain": [
       "0.2617335352006056"
      ]
     },
     "execution_count": 103,
     "metadata": {},
     "output_type": "execute_result"
    }
   ],
   "source": [
    "# 2018 percentage of respondents who identified as Hispanic\n",
    "(335 + 1048) / n_2018"
   ]
  },
  {
   "cell_type": "code",
   "execution_count": 104,
   "metadata": {},
   "outputs": [
    {
     "data": {
      "text/plain": [
       "0"
      ]
     },
     "execution_count": 104,
     "metadata": {},
     "output_type": "execute_result"
    }
   ],
   "source": [
    "# No missing 'hispanic' data for 2018?  Well, at least not yet....\n",
    "cali18['hispanic'].isna().sum()"
   ]
  },
  {
   "cell_type": "markdown",
   "metadata": {},
   "source": [
    "## 2019"
   ]
  },
  {
   "cell_type": "code",
   "execution_count": 105,
   "metadata": {},
   "outputs": [
    {
     "data": {
      "text/plain": [
       "White              842\n",
       "Hispanic           471\n",
       "Asian              120\n",
       "Black              113\n",
       "Mixed               51\n",
       "Native American     32\n",
       "Other               18\n",
       "Middle Eastern       3\n",
       "Name: race, dtype: int64"
      ]
     },
     "execution_count": 105,
     "metadata": {},
     "output_type": "execute_result"
    }
   ],
   "source": [
    "# n = 1650\n",
    "cali19['race'].value_counts()"
   ]
  },
  {
   "cell_type": "code",
   "execution_count": 106,
   "metadata": {},
   "outputs": [
    {
     "data": {
      "text/plain": [
       "No     1135\n",
       "Yes      41\n",
       "Name: hispanic, dtype: int64"
      ]
     },
     "execution_count": 106,
     "metadata": {},
     "output_type": "execute_result"
    }
   ],
   "source": [
    "cali19['hispanic'].value_counts()"
   ]
  },
  {
   "cell_type": "code",
   "execution_count": 107,
   "metadata": {},
   "outputs": [
    {
     "data": {
      "text/plain": [
       "0.3103030303030303"
      ]
     },
     "execution_count": 107,
     "metadata": {},
     "output_type": "execute_result"
    }
   ],
   "source": [
    "# 2019 percentage of respondents who identified as Hispanic\n",
    "(41 + 471) / n_2019"
   ]
  },
  {
   "cell_type": "code",
   "execution_count": 108,
   "metadata": {},
   "outputs": [
    {
     "data": {
      "text/plain": [
       "474"
      ]
     },
     "execution_count": 108,
     "metadata": {},
     "output_type": "execute_result"
    }
   ],
   "source": [
    "cali19['hispanic'].isna().sum()"
   ]
  },
  {
   "cell_type": "code",
   "execution_count": 109,
   "metadata": {},
   "outputs": [
    {
     "data": {
      "text/plain": [
       "1176"
      ]
     },
     "execution_count": 109,
     "metadata": {},
     "output_type": "execute_result"
    }
   ],
   "source": [
    "cali19['hispanic'].count()"
   ]
  },
  {
   "cell_type": "code",
   "execution_count": 110,
   "metadata": {},
   "outputs": [
    {
     "data": {
      "text/plain": [
       "0.4030612244897959"
      ]
     },
     "execution_count": 110,
     "metadata": {},
     "output_type": "execute_result"
    }
   ],
   "source": [
    "# Percent of 'hispanic' responses missing - 2019\n",
    "474 / 1176"
   ]
  },
  {
   "cell_type": "markdown",
   "metadata": {},
   "source": [
    "## 2020"
   ]
  },
  {
   "cell_type": "code",
   "execution_count": 111,
   "metadata": {},
   "outputs": [
    {
     "data": {
      "text/plain": [
       "White              2659\n",
       "Hispanic           1097\n",
       "Asian               505\n",
       "Black               406\n",
       "Mixed               158\n",
       "Other               143\n",
       "Native American      49\n",
       "Middle Eastern       11\n",
       "Name: race, dtype: int64"
      ]
     },
     "execution_count": 111,
     "metadata": {},
     "output_type": "execute_result"
    }
   ],
   "source": [
    "# n = 5028\n",
    "cali20['race'].value_counts()"
   ]
  },
  {
   "cell_type": "code",
   "execution_count": 112,
   "metadata": {},
   "outputs": [
    {
     "data": {
      "text/plain": [
       "No     3674\n",
       "Yes     253\n",
       "Name: hispanic, dtype: int64"
      ]
     },
     "execution_count": 112,
     "metadata": {},
     "output_type": "execute_result"
    }
   ],
   "source": [
    "cali20['hispanic'].value_counts()"
   ]
  },
  {
   "cell_type": "code",
   "execution_count": 113,
   "metadata": {},
   "outputs": [
    {
     "data": {
      "text/plain": [
       "0.2684964200477327"
      ]
     },
     "execution_count": 113,
     "metadata": {},
     "output_type": "execute_result"
    }
   ],
   "source": [
    "# 2020 percentage of respondents who identified as Hispanic\n",
    "(1097 + 253) / n_2020"
   ]
  },
  {
   "cell_type": "code",
   "execution_count": 114,
   "metadata": {
    "scrolled": true
   },
   "outputs": [
    {
     "data": {
      "text/plain": [
       "1101"
      ]
     },
     "execution_count": 114,
     "metadata": {},
     "output_type": "execute_result"
    }
   ],
   "source": [
    "cali20['hispanic'].isna().sum()"
   ]
  },
  {
   "cell_type": "code",
   "execution_count": 115,
   "metadata": {},
   "outputs": [
    {
     "data": {
      "text/plain": [
       "3927"
      ]
     },
     "execution_count": 115,
     "metadata": {},
     "output_type": "execute_result"
    }
   ],
   "source": [
    "cali20['hispanic'].count()"
   ]
  },
  {
   "cell_type": "code",
   "execution_count": 116,
   "metadata": {},
   "outputs": [
    {
     "data": {
      "text/plain": [
       "0.28036669213139803"
      ]
     },
     "execution_count": 116,
     "metadata": {},
     "output_type": "execute_result"
    }
   ],
   "source": [
    "# Percent of 'hispanic' responses missing - 2020\n",
    "1101 / 3927"
   ]
  },
  {
   "cell_type": "markdown",
   "metadata": {},
   "source": [
    "Missing Hispanic data peaked in 2016, the same year Trump was elected, and decreased in 2020, the same year Biden was elected.  2018 might be an exception, but I suspect that we'll discover otherwise once we start crunching the data."
   ]
  },
  {
   "cell_type": "code",
   "execution_count": null,
   "metadata": {},
   "outputs": [],
   "source": []
  },
  {
   "cell_type": "code",
   "execution_count": null,
   "metadata": {},
   "outputs": [],
   "source": []
  }
 ],
 "metadata": {
  "kernelspec": {
   "display_name": "Python 3 (ipykernel)",
   "language": "python",
   "name": "python3"
  },
  "language_info": {
   "codemirror_mode": {
    "name": "ipython",
    "version": 3
   },
   "file_extension": ".py",
   "mimetype": "text/x-python",
   "name": "python",
   "nbconvert_exporter": "python",
   "pygments_lexer": "ipython3",
   "version": "3.8.11"
  }
 },
 "nbformat": 4,
 "nbformat_minor": 2
}
