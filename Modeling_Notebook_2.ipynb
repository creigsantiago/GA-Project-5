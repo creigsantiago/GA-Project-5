{
 "cells": [
  {
   "cell_type": "markdown",
   "id": "77b5fac9",
   "metadata": {},
   "source": [
    "## Project 5: WAM News Prediction of  California's Gubernatorial 2021 Election"
   ]
  },
  {
   "cell_type": "markdown",
   "id": "e858afbc",
   "metadata": {},
   "source": [
    "### Import Libraries"
   ]
  },
  {
   "cell_type": "code",
   "execution_count": 64,
   "id": "a3ba0003",
   "metadata": {},
   "outputs": [],
   "source": [
    "import pandas as pd\n",
    "import numpy as np\n",
    "import seaborn as sns\n",
    "import matplotlib.pyplot as plt\n",
    "from sklearn.ensemble import RandomForestClassifier, ExtraTreesClassifier\n",
    "from sklearn.model_selection import cross_val_score, train_test_split, GridSearchCV\n",
    "from sklearn.metrics import confusion_matrix, plot_confusion_matrix"
   ]
  },
  {
   "cell_type": "markdown",
   "id": "9a1baf65",
   "metadata": {},
   "source": [
    "### Load Data"
   ]
  },
  {
   "cell_type": "code",
   "execution_count": 3,
   "id": "80b2bdf3",
   "metadata": {},
   "outputs": [
    {
     "data": {
      "text/html": [
       "<div>\n",
       "<style scoped>\n",
       "    .dataframe tbody tr th:only-of-type {\n",
       "        vertical-align: middle;\n",
       "    }\n",
       "\n",
       "    .dataframe tbody tr th {\n",
       "        vertical-align: top;\n",
       "    }\n",
       "\n",
       "    .dataframe thead th {\n",
       "        text-align: right;\n",
       "    }\n",
       "</style>\n",
       "<table border=\"1\" class=\"dataframe\">\n",
       "  <thead>\n",
       "    <tr style=\"text-align: right;\">\n",
       "      <th></th>\n",
       "      <th>dist</th>\n",
       "      <th>ownhome</th>\n",
       "      <th>pid3</th>\n",
       "      <th>gender</th>\n",
       "      <th>age</th>\n",
       "      <th>educ</th>\n",
       "      <th>race</th>\n",
       "      <th>faminc</th>\n",
       "      <th>marstat</th>\n",
       "      <th>newsint</th>\n",
       "      <th>approval_gov</th>\n",
       "      <th>ideo5</th>\n",
       "      <th>voted_gov</th>\n",
       "    </tr>\n",
       "  </thead>\n",
       "  <tbody>\n",
       "    <tr>\n",
       "      <th>392782</th>\n",
       "      <td>19</td>\n",
       "      <td>Other</td>\n",
       "      <td>Democrat</td>\n",
       "      <td>Female</td>\n",
       "      <td>54</td>\n",
       "      <td>4-Year</td>\n",
       "      <td>White</td>\n",
       "      <td>50k - 60k</td>\n",
       "      <td>Single / Never Married</td>\n",
       "      <td>Most of the time</td>\n",
       "      <td>Strongly Approve</td>\n",
       "      <td>Liberal</td>\n",
       "      <td>[Democrat / Candidate 1]</td>\n",
       "    </tr>\n",
       "    <tr>\n",
       "      <th>392786</th>\n",
       "      <td>52</td>\n",
       "      <td>Rent</td>\n",
       "      <td>Democrat</td>\n",
       "      <td>Female</td>\n",
       "      <td>28</td>\n",
       "      <td>Some College</td>\n",
       "      <td>White</td>\n",
       "      <td>20k - 30k</td>\n",
       "      <td>Single / Never Married</td>\n",
       "      <td>Most of the time</td>\n",
       "      <td>Strongly Approve</td>\n",
       "      <td>Liberal</td>\n",
       "      <td>[Democrat / Candidate 1]</td>\n",
       "    </tr>\n",
       "    <tr>\n",
       "      <th>392800</th>\n",
       "      <td>49</td>\n",
       "      <td>Own</td>\n",
       "      <td>Other</td>\n",
       "      <td>Male</td>\n",
       "      <td>86</td>\n",
       "      <td>Post-Grad</td>\n",
       "      <td>White</td>\n",
       "      <td>120k - 150k</td>\n",
       "      <td>Widowed</td>\n",
       "      <td>Most of the time</td>\n",
       "      <td>Strongly Disapprove</td>\n",
       "      <td>Very Conservative</td>\n",
       "      <td>[Republican / Candidate 2]</td>\n",
       "    </tr>\n",
       "    <tr>\n",
       "      <th>392832</th>\n",
       "      <td>36</td>\n",
       "      <td>Own</td>\n",
       "      <td>Republican</td>\n",
       "      <td>Male</td>\n",
       "      <td>80</td>\n",
       "      <td>Some College</td>\n",
       "      <td>White</td>\n",
       "      <td>20k - 30k</td>\n",
       "      <td>Widowed</td>\n",
       "      <td>Most of the time</td>\n",
       "      <td>Strongly Disapprove</td>\n",
       "      <td>Conservative</td>\n",
       "      <td>[Republican / Candidate 2]</td>\n",
       "    </tr>\n",
       "    <tr>\n",
       "      <th>392860</th>\n",
       "      <td>36</td>\n",
       "      <td>Own</td>\n",
       "      <td>Independent</td>\n",
       "      <td>Male</td>\n",
       "      <td>83</td>\n",
       "      <td>4-Year</td>\n",
       "      <td>White</td>\n",
       "      <td>Prefer not to say</td>\n",
       "      <td>Married</td>\n",
       "      <td>Most of the time</td>\n",
       "      <td>Strongly Disapprove</td>\n",
       "      <td>Conservative</td>\n",
       "      <td>[Republican / Candidate 2]</td>\n",
       "    </tr>\n",
       "  </tbody>\n",
       "</table>\n",
       "</div>"
      ],
      "text/plain": [
       "        dist ownhome         pid3  gender  age          educ   race  \\\n",
       "392782    19   Other     Democrat  Female   54        4-Year  White   \n",
       "392786    52    Rent     Democrat  Female   28  Some College  White   \n",
       "392800    49     Own        Other    Male   86     Post-Grad  White   \n",
       "392832    36     Own   Republican    Male   80  Some College  White   \n",
       "392860    36     Own  Independent    Male   83        4-Year  White   \n",
       "\n",
       "                   faminc                 marstat           newsint  \\\n",
       "392782          50k - 60k  Single / Never Married  Most of the time   \n",
       "392786          20k - 30k  Single / Never Married  Most of the time   \n",
       "392800        120k - 150k                 Widowed  Most of the time   \n",
       "392832          20k - 30k                 Widowed  Most of the time   \n",
       "392860  Prefer not to say                 Married  Most of the time   \n",
       "\n",
       "               approval_gov              ideo5                   voted_gov  \n",
       "392782     Strongly Approve            Liberal    [Democrat / Candidate 1]  \n",
       "392786     Strongly Approve            Liberal    [Democrat / Candidate 1]  \n",
       "392800  Strongly Disapprove  Very Conservative  [Republican / Candidate 2]  \n",
       "392832  Strongly Disapprove       Conservative  [Republican / Candidate 2]  \n",
       "392860  Strongly Disapprove       Conservative  [Republican / Candidate 2]  "
      ]
     },
     "execution_count": 3,
     "metadata": {},
     "output_type": "execute_result"
    }
   ],
   "source": [
    "# read data\n",
    "df=pd.read_csv('./data/2018_gov_features.csv', index_col=0)\n",
    "df.head()"
   ]
  },
  {
   "cell_type": "code",
   "execution_count": 4,
   "id": "9928672d",
   "metadata": {},
   "outputs": [
    {
     "data": {
      "text/plain": [
       "(3739, 13)"
      ]
     },
     "execution_count": 4,
     "metadata": {},
     "output_type": "execute_result"
    }
   ],
   "source": [
    "df.shape"
   ]
  },
  {
   "cell_type": "code",
   "execution_count": 5,
   "id": "dbe133c8",
   "metadata": {},
   "outputs": [
    {
     "name": "stdout",
     "output_type": "stream",
     "text": [
      "<class 'pandas.core.frame.DataFrame'>\n",
      "Int64Index: 3739 entries, 392782 to 452724\n",
      "Data columns (total 13 columns):\n",
      " #   Column        Non-Null Count  Dtype \n",
      "---  ------        --------------  ----- \n",
      " 0   dist          3739 non-null   int64 \n",
      " 1   ownhome       3739 non-null   object\n",
      " 2   pid3          3739 non-null   object\n",
      " 3   gender        3739 non-null   object\n",
      " 4   age           3739 non-null   int64 \n",
      " 5   educ          3739 non-null   object\n",
      " 6   race          3739 non-null   object\n",
      " 7   faminc        3739 non-null   object\n",
      " 8   marstat       3739 non-null   object\n",
      " 9   newsint       3739 non-null   object\n",
      " 10  approval_gov  3739 non-null   object\n",
      " 11  ideo5         3739 non-null   object\n",
      " 12  voted_gov     3739 non-null   object\n",
      "dtypes: int64(2), object(11)\n",
      "memory usage: 409.0+ KB\n"
     ]
    }
   ],
   "source": [
    "# check null values\n",
    "df.info()"
   ]
  },
  {
   "cell_type": "code",
   "execution_count": 6,
   "id": "e4fdfc20",
   "metadata": {},
   "outputs": [
    {
     "data": {
      "text/plain": [
       "[Democrat / Candidate 1]       0.611661\n",
       "[Republican / Candidate 2]     0.368013\n",
       "I Did Not Vote In This Race    0.009896\n",
       "Not Sure                       0.006686\n",
       "Other                          0.003744\n",
       "Name: voted_gov, dtype: float64"
      ]
     },
     "execution_count": 6,
     "metadata": {},
     "output_type": "execute_result"
    }
   ],
   "source": [
    "# baseline accuracy\n",
    "df['voted_gov'].value_counts(normalize=True)"
   ]
  },
  {
   "cell_type": "markdown",
   "id": "a2ec3282",
   "metadata": {},
   "source": [
    "Baseline accuracy is 61.2%. We have unimbalanced data."
   ]
  },
  {
   "cell_type": "code",
   "execution_count": 7,
   "id": "6cf4113d",
   "metadata": {},
   "outputs": [
    {
     "data": {
      "text/plain": [
       "[Democrat / Candidate 1]      0.624352\n",
       "[Republican / Candidate 2]    0.375648\n",
       "Name: voted_gov, dtype: float64"
      ]
     },
     "execution_count": 7,
     "metadata": {},
     "output_type": "execute_result"
    }
   ],
   "source": [
    "# drop other categories, make it a binary classification\n",
    "df = df[(df.voted_gov != 'I Did Not Vote In This Race') & (df.voted_gov != 'Not Sure') & (df.voted_gov != 'Other')]\n",
    "df['voted_gov'].value_counts(normalize=True)"
   ]
  },
  {
   "cell_type": "code",
   "execution_count": 8,
   "id": "b9dc6e17",
   "metadata": {},
   "outputs": [
    {
     "data": {
      "text/html": [
       "<div>\n",
       "<style scoped>\n",
       "    .dataframe tbody tr th:only-of-type {\n",
       "        vertical-align: middle;\n",
       "    }\n",
       "\n",
       "    .dataframe tbody tr th {\n",
       "        vertical-align: top;\n",
       "    }\n",
       "\n",
       "    .dataframe thead th {\n",
       "        text-align: right;\n",
       "    }\n",
       "</style>\n",
       "<table border=\"1\" class=\"dataframe\">\n",
       "  <thead>\n",
       "    <tr style=\"text-align: right;\">\n",
       "      <th></th>\n",
       "      <th>dist</th>\n",
       "      <th>ownhome</th>\n",
       "      <th>pid3</th>\n",
       "      <th>gender</th>\n",
       "      <th>age</th>\n",
       "      <th>educ</th>\n",
       "      <th>race</th>\n",
       "      <th>faminc</th>\n",
       "      <th>marstat</th>\n",
       "      <th>newsint</th>\n",
       "      <th>approval_gov</th>\n",
       "      <th>ideo5</th>\n",
       "      <th>voted_gov</th>\n",
       "    </tr>\n",
       "  </thead>\n",
       "  <tbody>\n",
       "    <tr>\n",
       "      <th>392782</th>\n",
       "      <td>19</td>\n",
       "      <td>Other</td>\n",
       "      <td>Democrat</td>\n",
       "      <td>Female</td>\n",
       "      <td>54</td>\n",
       "      <td>4-Year</td>\n",
       "      <td>White</td>\n",
       "      <td>50k - 60k</td>\n",
       "      <td>Single / Never Married</td>\n",
       "      <td>Most of the time</td>\n",
       "      <td>Strongly Approve</td>\n",
       "      <td>Liberal</td>\n",
       "      <td>1</td>\n",
       "    </tr>\n",
       "    <tr>\n",
       "      <th>392786</th>\n",
       "      <td>52</td>\n",
       "      <td>Rent</td>\n",
       "      <td>Democrat</td>\n",
       "      <td>Female</td>\n",
       "      <td>28</td>\n",
       "      <td>Some College</td>\n",
       "      <td>White</td>\n",
       "      <td>20k - 30k</td>\n",
       "      <td>Single / Never Married</td>\n",
       "      <td>Most of the time</td>\n",
       "      <td>Strongly Approve</td>\n",
       "      <td>Liberal</td>\n",
       "      <td>1</td>\n",
       "    </tr>\n",
       "    <tr>\n",
       "      <th>392800</th>\n",
       "      <td>49</td>\n",
       "      <td>Own</td>\n",
       "      <td>Other</td>\n",
       "      <td>Male</td>\n",
       "      <td>86</td>\n",
       "      <td>Post-Grad</td>\n",
       "      <td>White</td>\n",
       "      <td>120k - 150k</td>\n",
       "      <td>Widowed</td>\n",
       "      <td>Most of the time</td>\n",
       "      <td>Strongly Disapprove</td>\n",
       "      <td>Very Conservative</td>\n",
       "      <td>0</td>\n",
       "    </tr>\n",
       "    <tr>\n",
       "      <th>392832</th>\n",
       "      <td>36</td>\n",
       "      <td>Own</td>\n",
       "      <td>Republican</td>\n",
       "      <td>Male</td>\n",
       "      <td>80</td>\n",
       "      <td>Some College</td>\n",
       "      <td>White</td>\n",
       "      <td>20k - 30k</td>\n",
       "      <td>Widowed</td>\n",
       "      <td>Most of the time</td>\n",
       "      <td>Strongly Disapprove</td>\n",
       "      <td>Conservative</td>\n",
       "      <td>0</td>\n",
       "    </tr>\n",
       "    <tr>\n",
       "      <th>392860</th>\n",
       "      <td>36</td>\n",
       "      <td>Own</td>\n",
       "      <td>Independent</td>\n",
       "      <td>Male</td>\n",
       "      <td>83</td>\n",
       "      <td>4-Year</td>\n",
       "      <td>White</td>\n",
       "      <td>Prefer not to say</td>\n",
       "      <td>Married</td>\n",
       "      <td>Most of the time</td>\n",
       "      <td>Strongly Disapprove</td>\n",
       "      <td>Conservative</td>\n",
       "      <td>0</td>\n",
       "    </tr>\n",
       "  </tbody>\n",
       "</table>\n",
       "</div>"
      ],
      "text/plain": [
       "        dist ownhome         pid3  gender  age          educ   race  \\\n",
       "392782    19   Other     Democrat  Female   54        4-Year  White   \n",
       "392786    52    Rent     Democrat  Female   28  Some College  White   \n",
       "392800    49     Own        Other    Male   86     Post-Grad  White   \n",
       "392832    36     Own   Republican    Male   80  Some College  White   \n",
       "392860    36     Own  Independent    Male   83        4-Year  White   \n",
       "\n",
       "                   faminc                 marstat           newsint  \\\n",
       "392782          50k - 60k  Single / Never Married  Most of the time   \n",
       "392786          20k - 30k  Single / Never Married  Most of the time   \n",
       "392800        120k - 150k                 Widowed  Most of the time   \n",
       "392832          20k - 30k                 Widowed  Most of the time   \n",
       "392860  Prefer not to say                 Married  Most of the time   \n",
       "\n",
       "               approval_gov              ideo5  voted_gov  \n",
       "392782     Strongly Approve            Liberal          1  \n",
       "392786     Strongly Approve            Liberal          1  \n",
       "392800  Strongly Disapprove  Very Conservative          0  \n",
       "392832  Strongly Disapprove       Conservative          0  \n",
       "392860  Strongly Disapprove       Conservative          0  "
      ]
     },
     "execution_count": 8,
     "metadata": {},
     "output_type": "execute_result"
    }
   ],
   "source": [
    "# map voted_gov column to 0 and 1\n",
    "df['voted_gov'] = df['voted_gov'].map({'[Democrat / Candidate 1]': 1, '[Republican / Candidate 2]': 0})\n",
    "df.head()"
   ]
  },
  {
   "cell_type": "code",
   "execution_count": 9,
   "id": "f028585a",
   "metadata": {},
   "outputs": [],
   "source": [
    "# save cleaned data\n",
    "df.to_csv('./data/2018_gov_clean1.csv')"
   ]
  },
  {
   "cell_type": "markdown",
   "id": "da78a489",
   "metadata": {},
   "source": [
    "## Pre-processing"
   ]
  },
  {
   "cell_type": "code",
   "execution_count": 10,
   "id": "a436b585",
   "metadata": {},
   "outputs": [],
   "source": [
    "# set up X and y\n",
    "X = df.drop(columns =['voted_gov'])\n",
    "y = df['voted_gov']"
   ]
  },
  {
   "cell_type": "code",
   "execution_count": 11,
   "id": "c5800bff",
   "metadata": {},
   "outputs": [],
   "source": [
    "X= pd.get_dummies(X, drop_first=True)"
   ]
  },
  {
   "cell_type": "code",
   "execution_count": 12,
   "id": "26613620",
   "metadata": {},
   "outputs": [],
   "source": [
    "X_train, X_val, y_train, y_val = train_test_split(X, y, random_state=42, stratify=y)"
   ]
  },
  {
   "cell_type": "code",
   "execution_count": 13,
   "id": "5e9a1c9a",
   "metadata": {},
   "outputs": [],
   "source": [
    "# check if shape of X = y\n",
    "assert X.shape[0]==y.shape[0]"
   ]
  },
  {
   "cell_type": "markdown",
   "id": "ea147c92",
   "metadata": {},
   "source": [
    "## Modeling"
   ]
  },
  {
   "cell_type": "markdown",
   "id": "2673f2e9",
   "metadata": {},
   "source": [
    "### 1. RandomForest"
   ]
  },
  {
   "cell_type": "code",
   "execution_count": 14,
   "id": "c9e85fce",
   "metadata": {},
   "outputs": [],
   "source": [
    "rf = RandomForestClassifier()"
   ]
  },
  {
   "cell_type": "code",
   "execution_count": 15,
   "id": "4373ee6e",
   "metadata": {},
   "outputs": [],
   "source": [
    "et = ExtraTreesClassifier()"
   ]
  },
  {
   "cell_type": "code",
   "execution_count": 16,
   "id": "e7e2a08c",
   "metadata": {
    "scrolled": true
   },
   "outputs": [
    {
     "data": {
      "text/plain": [
       "0.9250094386487829"
      ]
     },
     "execution_count": 16,
     "metadata": {},
     "output_type": "execute_result"
    }
   ],
   "source": [
    "# cross val score on train data\n",
    "cross_val_score(rf, X_train, y_train, cv=5).mean()"
   ]
  },
  {
   "cell_type": "code",
   "execution_count": 17,
   "id": "e9fa2be1",
   "metadata": {},
   "outputs": [
    {
     "data": {
      "text/plain": [
       "0.9250074515648287"
      ]
     },
     "execution_count": 17,
     "metadata": {},
     "output_type": "execute_result"
    }
   ],
   "source": [
    "# cross val score on train data\n",
    "cross_val_score(et, X_train, y_train, cv=5).mean()"
   ]
  },
  {
   "cell_type": "code",
   "execution_count": 18,
   "id": "7fe0b480",
   "metadata": {
    "scrolled": true
   },
   "outputs": [
    {
     "data": {
      "text/plain": [
       "dict_keys(['bootstrap', 'ccp_alpha', 'class_weight', 'criterion', 'max_depth', 'max_features', 'max_leaf_nodes', 'max_samples', 'min_impurity_decrease', 'min_impurity_split', 'min_samples_leaf', 'min_samples_split', 'min_weight_fraction_leaf', 'n_estimators', 'n_jobs', 'oob_score', 'random_state', 'verbose', 'warm_start'])"
      ]
     },
     "execution_count": 18,
     "metadata": {},
     "output_type": "execute_result"
    }
   ],
   "source": [
    "rf.get_params().keys()"
   ]
  },
  {
   "cell_type": "code",
   "execution_count": 19,
   "id": "a2241571",
   "metadata": {},
   "outputs": [
    {
     "name": "stdout",
     "output_type": "stream",
     "text": [
      "Fitting 5 folds for each of 72 candidates, totalling 360 fits\n",
      "0.9264639841033284\n"
     ]
    },
    {
     "data": {
      "text/plain": [
       "{'bootstrap': True,\n",
       " 'max_depth': None,\n",
       " 'max_features': 'sqrt',\n",
       " 'n_estimators': 200,\n",
       " 'random_state': 42}"
      ]
     },
     "execution_count": 19,
     "metadata": {},
     "output_type": "execute_result"
    }
   ],
   "source": [
    "# gridsearch \n",
    "rf_params = {\n",
    "    'n_estimators': [100, 150, 200],\n",
    "    'max_depth': [None, 1, 2, 3, 4, 5],\n",
    "    'max_features': ['sqrt', .5],\n",
    "    'bootstrap': [True, False],\n",
    "    'random_state': [42]\n",
    "}\n",
    "\n",
    "gs_rf = GridSearchCV(rf, rf_params, cv=5, n_jobs=-1, verbose=1)\n",
    "gs_rf.fit(X_train, y_train)\n",
    "print(gs_rf.best_score_)\n",
    "gs_rf.best_params_"
   ]
  },
  {
   "cell_type": "code",
   "execution_count": 20,
   "id": "88bfb299",
   "metadata": {},
   "outputs": [
    {
     "name": "stdout",
     "output_type": "stream",
     "text": [
      "best score: 0.9264639841033284\n",
      "best parameters: {'bootstrap': True, 'max_depth': None, 'max_features': 'sqrt', 'n_estimators': 200, 'random_state': 42}\n",
      "accuracy on train data: 1.0\n",
      "accuracy on test data: 0.9344978165938864\n"
     ]
    }
   ],
   "source": [
    "# gridsearch optimization\n",
    "print('best score:', gs_rf.best_score_)\n",
    "print('best parameters:', gs_rf.best_params_)\n",
    "print('accuracy on train data:', gs_rf.score(X_train, y_train))\n",
    "print('accuracy on test data:', gs_rf.score(X_val, y_val))"
   ]
  },
  {
   "cell_type": "code",
   "execution_count": 21,
   "id": "98ce57a3",
   "metadata": {},
   "outputs": [],
   "source": [
    "# make predictions \n",
    "y_pred = gs_rf.predict(X_val)\n",
    "\n",
    "# save confusion matrix values\n",
    "tn, fp, fn, tp = confusion_matrix(y_val, y_pred).ravel()"
   ]
  },
  {
   "cell_type": "code",
   "execution_count": 22,
   "id": "9ac072d1",
   "metadata": {},
   "outputs": [
    {
     "data": {
      "image/png": "[encoded data removed]",
      "text/plain": [
       "<Figure size 432x288 with 2 Axes>"
      ]
     },
     "metadata": {
      "needs_background": "light"
     },
     "output_type": "display_data"
    }
   ],
   "source": [
    "# plot a confusion matrix\n",
    "plot_confusion_matrix(gs_rf, X_val, y_val, cmap='BuPu', values_format='d');"
   ]
  },
  {
   "cell_type": "code",
   "execution_count": 23,
   "id": "a11ee1f0",
   "metadata": {},
   "outputs": [
    {
     "name": "stdout",
     "output_type": "stream",
     "text": [
      "Accuracy: 0.9344978165938864\n",
      "Recall: 0.9702797202797203\n",
      "Precision: 0.9280936454849499\n",
      "Specificity: 0.875\n"
     ]
    }
   ],
   "source": [
    "# metrics\n",
    "accu = (tp+tn) / (tp+tn+fp+fn)\n",
    "recall = tp/(tp+fn)\n",
    "prec = tp/ (tp+fp)\n",
    "spec= tn/(tn+fp)\n",
    "\n",
    "print('Accuracy:', accu)\n",
    "print('Recall:', recall)\n",
    "print('Precision:', prec)\n",
    "print('Specificity:', spec)"
   ]
  },
  {
   "cell_type": "code",
   "execution_count": 24,
   "id": "8a9f792a",
   "metadata": {},
   "outputs": [
    {
     "ename": "NameError",
     "evalue": "name 'classification_report' is not defined",
     "output_type": "error",
     "traceback": [
      "\u001b[0;31m---------------------------------------------------------------------------\u001b[0m",
      "\u001b[0;31mNameError\u001b[0m                                 Traceback (most recent call last)",
      "\u001b[0;32m<ipython-input-24-2999d60c6186>\u001b[0m in \u001b[0;36m<module>\u001b[0;34m\u001b[0m\n\u001b[1;32m      1\u001b[0m \u001b[0;31m# classification report for the null model\u001b[0m\u001b[0;34m\u001b[0m\u001b[0;34m\u001b[0m\u001b[0;34m\u001b[0m\u001b[0m\n\u001b[0;32m----> 2\u001b[0;31m \u001b[0mprint\u001b[0m\u001b[0;34m(\u001b[0m\u001b[0mclassification_report\u001b[0m\u001b[0;34m(\u001b[0m\u001b[0my_val\u001b[0m\u001b[0;34m,\u001b[0m \u001b[0my_pred\u001b[0m\u001b[0;34m)\u001b[0m\u001b[0;34m)\u001b[0m\u001b[0;34m\u001b[0m\u001b[0;34m\u001b[0m\u001b[0m\n\u001b[0m",
      "\u001b[0;31mNameError\u001b[0m: name 'classification_report' is not defined"
     ]
    }
   ],
   "source": [
    "# classification report for the null model\n",
    "print(classification_report(y_val, y_pred))"
   ]
  },
  {
   "cell_type": "markdown",
   "id": "2fba8f93",
   "metadata": {},
   "source": [
    "- Random forest and extremely randomized trees performed pretty much the same on train data, random forest is slightly better. They performed better than null model accuracy of 62%. \n",
    "- Random forest model is overfit with 100% accuracy on train and 93.5% accuracy on test. It could be due to the grid search choosing maximum depth of 'None', which means the nodes are expanded until all leaves are pure or until all leaves contain less than min_samples_split samples. Let's try another grid search without setting max_depth of 'None'."
   ]
  },
  {
   "cell_type": "code",
   "execution_count": null,
   "id": "a0acd939",
   "metadata": {},
   "outputs": [],
   "source": [
    "# get feature importances\n",
    "pd.Series(gs_rf.best_estimator_.feature_importances_, X.columns).sort_values(ascending=False)"
   ]
  },
  {
   "cell_type": "markdown",
   "id": "4f9d37fb",
   "metadata": {},
   "source": [
    "-  For a classfication random forest model, feature_importances_ is based on the average decrease in Gini impurity over the decision trees. \n",
    "- Strongly disapprove category of approval_gov feature has a 27.6% importance in the random forest model. For this variable, individuals were asked \"Do you approve of the way each is doing their job\". \n",
    "- pid3_Republican has a 17.9% importance.\n",
    "- ideo5_Liberal has a 5.9% importance. "
   ]
  },
  {
   "cell_type": "code",
   "execution_count": null,
   "id": "a8cbaefd",
   "metadata": {
    "scrolled": true
   },
   "outputs": [],
   "source": [
    "gs_rf.predict(X_val)[:10]"
   ]
  },
  {
   "cell_type": "code",
   "execution_count": null,
   "id": "17978d6e",
   "metadata": {},
   "outputs": [],
   "source": [
    "pred = gs_rf.predict_proba(X_val)\n",
    "pred[:10]"
   ]
  },
  {
   "cell_type": "markdown",
   "id": "73cdcbb5",
   "metadata": {},
   "source": [
    "- The first array, [0, 1], corresponds to the first testing observation. - This first testing observation is predicted to have a 0% chance that  𝑌=0 and a 100% chance that  𝑌=1. The `.predict()` value for this observation is 1. This is because  𝑃(𝑌=1)>𝑃(𝑌=0).\n",
    "- The fourth array, [0.795, 0.205], corresponds to the fourth testing observation. - This fourth testing observation is predicted to have a 79.5% chance that  𝑌=0 and a 20.5% chance that  𝑌=1. The `.predict()` value for this observation is 0. This is because  𝑃(𝑌=0)>𝑃(𝑌=1)."
   ]
  },
  {
   "cell_type": "code",
   "execution_count": null,
   "id": "1579e46b",
   "metadata": {},
   "outputs": [],
   "source": [
    "class_weight"
   ]
  },
  {
   "cell_type": "markdown",
   "id": "084431c3",
   "metadata": {},
   "source": [
    "### 2. RandomForest "
   ]
  },
  {
   "cell_type": "code",
   "execution_count": null,
   "id": "9b1ed577",
   "metadata": {},
   "outputs": [],
   "source": [
    "X_train, X_val, y_train, y_val = train_test_split(X, y, random_state=42, stratify=y)"
   ]
  },
  {
   "cell_type": "code",
   "execution_count": null,
   "id": "b5c5d3b8",
   "metadata": {},
   "outputs": [],
   "source": [
    "rf_2 = RandomForestClassifier()"
   ]
  },
  {
   "cell_type": "code",
   "execution_count": null,
   "id": "0d427e6f",
   "metadata": {
    "scrolled": true
   },
   "outputs": [],
   "source": [
    "cross_val_score(rf_2, X_train, y_train, cv=5).mean()"
   ]
  },
  {
   "cell_type": "code",
   "execution_count": null,
   "id": "91e540d8",
   "metadata": {},
   "outputs": [],
   "source": [
    "# gridsearch \n",
    "rf_params = {\n",
    "    'n_estimators': [100, 150, 200],\n",
    "    'max_depth': [1, 2, 3, 4, 5, 6],\n",
    "    'max_features': ['sqrt', .5],\n",
    "    'bootstrap': [True, False],\n",
    "    'random_state': [42]\n",
    "}\n",
    "\n",
    "gs_rf = GridSearchCV(rf_2, rf_params, cv=5, n_jobs=-1, verbose=1)\n",
    "gs_rf.fit(X_train, y_train)\n",
    "print(gs_rf.best_score_)\n",
    "gs_rf.best_params_"
   ]
  },
  {
   "cell_type": "code",
   "execution_count": null,
   "id": "a3f22632",
   "metadata": {},
   "outputs": [],
   "source": [
    "# gridsearch optimization\n",
    "print('best score:', gs_rf.best_score_)\n",
    "print('best parameters:', gs_rf.best_params_)\n",
    "print('accuracy on train data:', gs_rf.score(X_train, y_train))\n",
    "print('accuracy on test data:', gs_rf.score(X_val, y_val))"
   ]
  },
  {
   "cell_type": "code",
   "execution_count": null,
   "id": "eedcbb84",
   "metadata": {},
   "outputs": [],
   "source": [
    "# make predictions \n",
    "y_pred = gs_rf.predict(X_val)\n",
    "\n",
    "# save confusion matrix values\n",
    "tn, fp, fn, tp = confusion_matrix(y_val, y_pred).ravel()"
   ]
  },
  {
   "cell_type": "code",
   "execution_count": null,
   "id": "93700e6c",
   "metadata": {},
   "outputs": [],
   "source": [
    "# plot a confusion matrix\n",
    "plot_confusion_matrix(gs_rf, X_val, y_val, cmap='BuPu', values_format='d');"
   ]
  },
  {
   "cell_type": "code",
   "execution_count": null,
   "id": "c79a3022",
   "metadata": {},
   "outputs": [],
   "source": [
    "# metrics\n",
    "accu = (tp+tn) / (tp+tn+fp+fn)\n",
    "recall = tp/(tp+fn)\n",
    "prec = tp/ (tp+fp)\n",
    "spec= tn/(tn+fp)\n",
    "\n",
    "print('Accuracy:', accu)\n",
    "print('Recall:', recall)\n",
    "print('Precision:', prec)\n",
    "print('Specificity:', spec)"
   ]
  },
  {
   "cell_type": "markdown",
   "id": "56783257",
   "metadata": {},
   "source": [
    "Model has an accuracy of 93% on test and 92.6% on train. This model is not underfit or overfit, its in the sweet spot."
   ]
  },
  {
   "cell_type": "code",
   "execution_count": 41,
   "id": "ac6c47eb",
   "metadata": {},
   "outputs": [
    {
     "data": {
      "text/plain": [
       "approval_gov_Strongly Disapprove                 0.276065\n",
       "pid3_Republican                                  0.179077\n",
       "ideo5_Liberal                                    0.062807\n",
       "approval_gov_Strongly Approve                    0.051030\n",
       "age                                              0.047006\n",
       "ideo5_Very Liberal                               0.044914\n",
       "dist                                             0.037558\n",
       "ideo5_Very Conservative                          0.036985\n",
       "pid3_Independent                                 0.023902\n",
       "approval_gov_Disapprove / Somewhat Disapprove    0.020884\n",
       "ideo5_Moderate                                   0.015640\n",
       "race_White                                       0.012629\n",
       "ownhome_Own                                      0.012001\n",
       "gender_Male                                      0.010228\n",
       "ownhome_Rent                                     0.009197\n",
       "marstat_Single / Never Married                   0.009001\n",
       "newsint_Most of the time                         0.008666\n",
       "educ_4-Year                                      0.007891\n",
       "marstat_Married                                  0.007798\n",
       "race_Black                                       0.007119\n",
       "pid3_Other                                       0.006919\n",
       "newsint_Only now and then                        0.006671\n",
       "educ_Some College                                0.006648\n",
       "newsint_Some of the time                         0.006627\n",
       "race_Hispanic                                    0.006022\n",
       "educ_Post-Grad                                   0.005908\n",
       "faminc_50k - 60k                                 0.005226\n",
       "educ_High School Graduate                        0.005146\n",
       "faminc_80k - 100k                                0.004990\n",
       "faminc_150k+                                     0.004886\n",
       "faminc_40k - 50k                                 0.004489\n",
       "faminc_30k - 40k                                 0.004373\n",
       "ideo5_Not Sure                                   0.004181\n",
       "faminc_70k - 80k                                 0.004100\n",
       "faminc_60k - 70k                                 0.004027\n",
       "faminc_10k - 20k                                 0.003853\n",
       "faminc_120k - 150k                               0.003779\n",
       "faminc_20k - 30k                                 0.003683\n",
       "marstat_Domestic Partnership                     0.003502\n",
       "approval_gov_Never Heard / Not Sure              0.003303\n",
       "faminc_Prefer not to say                         0.002962\n",
       "newsint_Hardly at all                            0.002907\n",
       "race_Mixed                                       0.002658\n",
       "marstat_Widowed                                  0.002498\n",
       "faminc_Less than 10k                             0.002437\n",
       "pid3_Not Sure                                    0.002366\n",
       "educ_No HS                                       0.001656\n",
       "race_Other                                       0.001127\n",
       "marstat_Separated                                0.001059\n",
       "race_Middle Eastern                              0.000826\n",
       "race_Native American                             0.000772\n",
       "dtype: float64"
      ]
     },
     "execution_count": 41,
     "metadata": {},
     "output_type": "execute_result"
    }
   ],
   "source": [
    "# get feature importances\n",
    "pd.Series(gs_rf.best_estimator_.feature_importances_, X.columns).sort_values(ascending=False)"
   ]
  },
  {
   "cell_type": "markdown",
   "id": "7321d7c1",
   "metadata": {},
   "source": [
    "- Strongly disapprove category of approval_gov feature has a 52.8% importance in the random forest model. \n",
    "- pid3_Republican has 22.2% and ideo5_Liberal has 4.4% importances."
   ]
  },
  {
   "cell_type": "code",
   "execution_count": 58,
   "id": "209f4787",
   "metadata": {},
   "outputs": [
    {
     "data": {
      "image/png": "[encoded data removed]",
      "text/plain": [
       "<Figure size 432x288 with 1 Axes>"
      ]
     },
     "metadata": {
      "needs_background": "light"
     },
     "output_type": "display_data"
    }
   ],
   "source": [
    "pd.Series(gs_rf.best_estimator_.feature_importances_, X_train.columns).sort_values(ascending=False)[:10].plot(kind='barh');"
   ]
  },
  {
   "cell_type": "code",
   "execution_count": 61,
   "id": "27317704",
   "metadata": {},
   "outputs": [],
   "source": [
    "# get feature importances\n",
    "importances= gs_rf.best_estimator_.feature_importances_"
   ]
  },
  {
   "cell_type": "code",
   "execution_count": 62,
   "id": "885a136e",
   "metadata": {},
   "outputs": [],
   "source": [
    "# get feature names\n",
    "names=X_train.columns"
   ]
  },
  {
   "cell_type": "code",
   "execution_count": 68,
   "id": "2e2334af",
   "metadata": {},
   "outputs": [
    {
     "data": {
      "text/html": [
       "<div>\n",
       "<style scoped>\n",
       "    .dataframe tbody tr th:only-of-type {\n",
       "        vertical-align: middle;\n",
       "    }\n",
       "\n",
       "    .dataframe tbody tr th {\n",
       "        vertical-align: top;\n",
       "    }\n",
       "\n",
       "    .dataframe thead th {\n",
       "        text-align: right;\n",
       "    }\n",
       "</style>\n",
       "<table border=\"1\" class=\"dataframe\">\n",
       "  <thead>\n",
       "    <tr style=\"text-align: right;\">\n",
       "      <th></th>\n",
       "      <th>feature_importances</th>\n",
       "      <th>features</th>\n",
       "    </tr>\n",
       "  </thead>\n",
       "  <tbody>\n",
       "    <tr>\n",
       "      <th>45</th>\n",
       "      <td>0.276065</td>\n",
       "      <td>approval_gov_Strongly Disapprove</td>\n",
       "    </tr>\n",
       "    <tr>\n",
       "      <th>7</th>\n",
       "      <td>0.179077</td>\n",
       "      <td>pid3_Republican</td>\n",
       "    </tr>\n",
       "    <tr>\n",
       "      <th>46</th>\n",
       "      <td>0.062807</td>\n",
       "      <td>ideo5_Liberal</td>\n",
       "    </tr>\n",
       "    <tr>\n",
       "      <th>44</th>\n",
       "      <td>0.051030</td>\n",
       "      <td>approval_gov_Strongly Approve</td>\n",
       "    </tr>\n",
       "    <tr>\n",
       "      <th>1</th>\n",
       "      <td>0.047006</td>\n",
       "      <td>age</td>\n",
       "    </tr>\n",
       "    <tr>\n",
       "      <th>50</th>\n",
       "      <td>0.044914</td>\n",
       "      <td>ideo5_Very Liberal</td>\n",
       "    </tr>\n",
       "    <tr>\n",
       "      <th>0</th>\n",
       "      <td>0.037558</td>\n",
       "      <td>dist</td>\n",
       "    </tr>\n",
       "    <tr>\n",
       "      <th>49</th>\n",
       "      <td>0.036985</td>\n",
       "      <td>ideo5_Very Conservative</td>\n",
       "    </tr>\n",
       "    <tr>\n",
       "      <th>4</th>\n",
       "      <td>0.023902</td>\n",
       "      <td>pid3_Independent</td>\n",
       "    </tr>\n",
       "    <tr>\n",
       "      <th>42</th>\n",
       "      <td>0.020884</td>\n",
       "      <td>approval_gov_Disapprove / Somewhat Disapprove</td>\n",
       "    </tr>\n",
       "  </tbody>\n",
       "</table>\n",
       "</div>"
      ],
      "text/plain": [
       "    feature_importances                                       features\n",
       "45             0.276065               approval_gov_Strongly Disapprove\n",
       "7              0.179077                                pid3_Republican\n",
       "46             0.062807                                  ideo5_Liberal\n",
       "44             0.051030                  approval_gov_Strongly Approve\n",
       "1              0.047006                                            age\n",
       "50             0.044914                             ideo5_Very Liberal\n",
       "0              0.037558                                           dist\n",
       "49             0.036985                        ideo5_Very Conservative\n",
       "4              0.023902                               pid3_Independent\n",
       "42             0.020884  approval_gov_Disapprove / Somewhat Disapprove"
      ]
     },
     "execution_count": 68,
     "metadata": {},
     "output_type": "execute_result"
    }
   ],
   "source": [
    "# creates the feature importance dataframe\n",
    "importance_dict = pd.DataFrame({'feature_importances': importances,\n",
    "                                'features': names})\n",
    "top10 = importance_dict.nlargest(10, columns=['feature_importances'])\n",
    "top10"
   ]
  },
  {
   "cell_type": "code",
   "execution_count": 80,
   "id": "1ce926e7",
   "metadata": {},
   "outputs": [
    {
     "data": {
      "image/png": "[encoded data removed]",
      "text/plain": [
       "<Figure size 432x288 with 1 Axes>"
      ]
     },
     "metadata": {
      "needs_background": "light"
     },
     "output_type": "display_data"
    }
   ],
   "source": [
    "ax = sns.barplot(x=\"feature_importances\", y=\"features\", data=top10)\n",
    "\n",
    "ax.set_xlabel('Feature Importances',fontsize=15);\n",
    "ax.set_ylabel('Features',fontsize=15);\n",
    "plt.show()"
   ]
  },
  {
   "cell_type": "code",
   "execution_count": 48,
   "id": "42f75962",
   "metadata": {},
   "outputs": [
    {
     "data": {
      "image/png": "[encoded data removed]",
      "text/plain": [
       "<Figure size 432x288 with 1 Axes>"
      ]
     },
     "metadata": {
      "needs_background": "light"
     },
     "output_type": "display_data"
    }
   ],
   "source": [
    "importances = gs_rf.best_estimator_.feature_importances_\n",
    "indices = np.argsort(importances)\n",
    "std = np.std([tree.feature_importances_ for tree in gs_rf.best_estimator_],\n",
    "             axis=0)\n",
    "# Plot the feature importances of the forest\n",
    "plt.figure()\n",
    "plt.title(\"Feature importances\")\n",
    "plt.barh(range(X.shape[1]), importances[indices],\n",
    "       color=\"r\", xerr=std[indices], align=\"center\")\n",
    "# If you want to define your own labels,\n",
    "# change indices to a list of labels on the following line.\n",
    "plt.yticks(range(X.shape[1]), indices)\n",
    "plt.ylim([-1, X.shape[1]])\n",
    "plt.show()"
   ]
  },
  {
   "cell_type": "code",
   "execution_count": 43,
   "id": "23be2313",
   "metadata": {},
   "outputs": [
    {
     "data": {
      "text/html": [
       "<div>\n",
       "<style scoped>\n",
       "    .dataframe tbody tr th:only-of-type {\n",
       "        vertical-align: middle;\n",
       "    }\n",
       "\n",
       "    .dataframe tbody tr th {\n",
       "        vertical-align: top;\n",
       "    }\n",
       "\n",
       "    .dataframe thead th {\n",
       "        text-align: right;\n",
       "    }\n",
       "</style>\n",
       "<table border=\"1\" class=\"dataframe\">\n",
       "  <thead>\n",
       "    <tr style=\"text-align: right;\">\n",
       "      <th></th>\n",
       "      <th>dist</th>\n",
       "      <th>age</th>\n",
       "      <th>ownhome_Own</th>\n",
       "      <th>ownhome_Rent</th>\n",
       "      <th>pid3_Independent</th>\n",
       "      <th>pid3_Not Sure</th>\n",
       "      <th>pid3_Other</th>\n",
       "      <th>pid3_Republican</th>\n",
       "      <th>gender_Male</th>\n",
       "      <th>educ_4-Year</th>\n",
       "      <th>...</th>\n",
       "      <th>newsint_Some of the time</th>\n",
       "      <th>approval_gov_Disapprove / Somewhat Disapprove</th>\n",
       "      <th>approval_gov_Never Heard / Not Sure</th>\n",
       "      <th>approval_gov_Strongly Approve</th>\n",
       "      <th>approval_gov_Strongly Disapprove</th>\n",
       "      <th>ideo5_Liberal</th>\n",
       "      <th>ideo5_Moderate</th>\n",
       "      <th>ideo5_Not Sure</th>\n",
       "      <th>ideo5_Very Conservative</th>\n",
       "      <th>ideo5_Very Liberal</th>\n",
       "    </tr>\n",
       "  </thead>\n",
       "  <tbody>\n",
       "    <tr>\n",
       "      <th>470768</th>\n",
       "      <td>25</td>\n",
       "      <td>61</td>\n",
       "      <td>1</td>\n",
       "      <td>0</td>\n",
       "      <td>0</td>\n",
       "      <td>0</td>\n",
       "      <td>0</td>\n",
       "      <td>0</td>\n",
       "      <td>0</td>\n",
       "      <td>0</td>\n",
       "      <td>...</td>\n",
       "      <td>1</td>\n",
       "      <td>0</td>\n",
       "      <td>0</td>\n",
       "      <td>1</td>\n",
       "      <td>0</td>\n",
       "      <td>1</td>\n",
       "      <td>0</td>\n",
       "      <td>0</td>\n",
       "      <td>0</td>\n",
       "      <td>0</td>\n",
       "    </tr>\n",
       "    <tr>\n",
       "      <th>470779</th>\n",
       "      <td>30</td>\n",
       "      <td>86</td>\n",
       "      <td>1</td>\n",
       "      <td>0</td>\n",
       "      <td>0</td>\n",
       "      <td>0</td>\n",
       "      <td>0</td>\n",
       "      <td>0</td>\n",
       "      <td>0</td>\n",
       "      <td>0</td>\n",
       "      <td>...</td>\n",
       "      <td>0</td>\n",
       "      <td>0</td>\n",
       "      <td>0</td>\n",
       "      <td>0</td>\n",
       "      <td>0</td>\n",
       "      <td>0</td>\n",
       "      <td>1</td>\n",
       "      <td>0</td>\n",
       "      <td>0</td>\n",
       "      <td>0</td>\n",
       "    </tr>\n",
       "    <tr>\n",
       "      <th>470780</th>\n",
       "      <td>14</td>\n",
       "      <td>49</td>\n",
       "      <td>1</td>\n",
       "      <td>0</td>\n",
       "      <td>0</td>\n",
       "      <td>0</td>\n",
       "      <td>0</td>\n",
       "      <td>0</td>\n",
       "      <td>0</td>\n",
       "      <td>0</td>\n",
       "      <td>...</td>\n",
       "      <td>0</td>\n",
       "      <td>0</td>\n",
       "      <td>1</td>\n",
       "      <td>0</td>\n",
       "      <td>0</td>\n",
       "      <td>0</td>\n",
       "      <td>1</td>\n",
       "      <td>0</td>\n",
       "      <td>0</td>\n",
       "      <td>0</td>\n",
       "    </tr>\n",
       "    <tr>\n",
       "      <th>470781</th>\n",
       "      <td>49</td>\n",
       "      <td>63</td>\n",
       "      <td>1</td>\n",
       "      <td>0</td>\n",
       "      <td>0</td>\n",
       "      <td>0</td>\n",
       "      <td>0</td>\n",
       "      <td>0</td>\n",
       "      <td>0</td>\n",
       "      <td>0</td>\n",
       "      <td>...</td>\n",
       "      <td>0</td>\n",
       "      <td>1</td>\n",
       "      <td>0</td>\n",
       "      <td>0</td>\n",
       "      <td>0</td>\n",
       "      <td>0</td>\n",
       "      <td>1</td>\n",
       "      <td>0</td>\n",
       "      <td>0</td>\n",
       "      <td>0</td>\n",
       "    </tr>\n",
       "    <tr>\n",
       "      <th>470815</th>\n",
       "      <td>43</td>\n",
       "      <td>49</td>\n",
       "      <td>1</td>\n",
       "      <td>0</td>\n",
       "      <td>0</td>\n",
       "      <td>0</td>\n",
       "      <td>0</td>\n",
       "      <td>1</td>\n",
       "      <td>1</td>\n",
       "      <td>1</td>\n",
       "      <td>...</td>\n",
       "      <td>1</td>\n",
       "      <td>0</td>\n",
       "      <td>0</td>\n",
       "      <td>0</td>\n",
       "      <td>1</td>\n",
       "      <td>0</td>\n",
       "      <td>0</td>\n",
       "      <td>0</td>\n",
       "      <td>0</td>\n",
       "      <td>0</td>\n",
       "    </tr>\n",
       "    <tr>\n",
       "      <th>...</th>\n",
       "      <td>...</td>\n",
       "      <td>...</td>\n",
       "      <td>...</td>\n",
       "      <td>...</td>\n",
       "      <td>...</td>\n",
       "      <td>...</td>\n",
       "      <td>...</td>\n",
       "      <td>...</td>\n",
       "      <td>...</td>\n",
       "      <td>...</td>\n",
       "      <td>...</td>\n",
       "      <td>...</td>\n",
       "      <td>...</td>\n",
       "      <td>...</td>\n",
       "      <td>...</td>\n",
       "      <td>...</td>\n",
       "      <td>...</td>\n",
       "      <td>...</td>\n",
       "      <td>...</td>\n",
       "      <td>...</td>\n",
       "      <td>...</td>\n",
       "    </tr>\n",
       "    <tr>\n",
       "      <th>531711</th>\n",
       "      <td>10</td>\n",
       "      <td>30</td>\n",
       "      <td>1</td>\n",
       "      <td>0</td>\n",
       "      <td>0</td>\n",
       "      <td>0</td>\n",
       "      <td>0</td>\n",
       "      <td>1</td>\n",
       "      <td>1</td>\n",
       "      <td>0</td>\n",
       "      <td>...</td>\n",
       "      <td>0</td>\n",
       "      <td>0</td>\n",
       "      <td>1</td>\n",
       "      <td>0</td>\n",
       "      <td>0</td>\n",
       "      <td>0</td>\n",
       "      <td>0</td>\n",
       "      <td>0</td>\n",
       "      <td>0</td>\n",
       "      <td>1</td>\n",
       "    </tr>\n",
       "    <tr>\n",
       "      <th>531715</th>\n",
       "      <td>4</td>\n",
       "      <td>31</td>\n",
       "      <td>0</td>\n",
       "      <td>0</td>\n",
       "      <td>0</td>\n",
       "      <td>1</td>\n",
       "      <td>0</td>\n",
       "      <td>0</td>\n",
       "      <td>0</td>\n",
       "      <td>0</td>\n",
       "      <td>...</td>\n",
       "      <td>0</td>\n",
       "      <td>1</td>\n",
       "      <td>0</td>\n",
       "      <td>0</td>\n",
       "      <td>0</td>\n",
       "      <td>0</td>\n",
       "      <td>0</td>\n",
       "      <td>1</td>\n",
       "      <td>0</td>\n",
       "      <td>0</td>\n",
       "    </tr>\n",
       "    <tr>\n",
       "      <th>531716</th>\n",
       "      <td>53</td>\n",
       "      <td>69</td>\n",
       "      <td>0</td>\n",
       "      <td>1</td>\n",
       "      <td>1</td>\n",
       "      <td>0</td>\n",
       "      <td>0</td>\n",
       "      <td>0</td>\n",
       "      <td>1</td>\n",
       "      <td>0</td>\n",
       "      <td>...</td>\n",
       "      <td>0</td>\n",
       "      <td>1</td>\n",
       "      <td>0</td>\n",
       "      <td>0</td>\n",
       "      <td>0</td>\n",
       "      <td>0</td>\n",
       "      <td>1</td>\n",
       "      <td>0</td>\n",
       "      <td>0</td>\n",
       "      <td>0</td>\n",
       "    </tr>\n",
       "    <tr>\n",
       "      <th>531725</th>\n",
       "      <td>52</td>\n",
       "      <td>44</td>\n",
       "      <td>0</td>\n",
       "      <td>1</td>\n",
       "      <td>1</td>\n",
       "      <td>0</td>\n",
       "      <td>0</td>\n",
       "      <td>0</td>\n",
       "      <td>0</td>\n",
       "      <td>0</td>\n",
       "      <td>...</td>\n",
       "      <td>0</td>\n",
       "      <td>0</td>\n",
       "      <td>0</td>\n",
       "      <td>0</td>\n",
       "      <td>0</td>\n",
       "      <td>0</td>\n",
       "      <td>1</td>\n",
       "      <td>0</td>\n",
       "      <td>0</td>\n",
       "      <td>0</td>\n",
       "    </tr>\n",
       "    <tr>\n",
       "      <th>531747</th>\n",
       "      <td>36</td>\n",
       "      <td>38</td>\n",
       "      <td>1</td>\n",
       "      <td>0</td>\n",
       "      <td>0</td>\n",
       "      <td>0</td>\n",
       "      <td>0</td>\n",
       "      <td>1</td>\n",
       "      <td>1</td>\n",
       "      <td>0</td>\n",
       "      <td>...</td>\n",
       "      <td>0</td>\n",
       "      <td>0</td>\n",
       "      <td>0</td>\n",
       "      <td>0</td>\n",
       "      <td>1</td>\n",
       "      <td>0</td>\n",
       "      <td>1</td>\n",
       "      <td>0</td>\n",
       "      <td>0</td>\n",
       "      <td>0</td>\n",
       "    </tr>\n",
       "  </tbody>\n",
       "</table>\n",
       "<p>5028 rows × 51 columns</p>\n",
       "</div>"
      ],
      "text/plain": [
       "        dist  age  ownhome_Own  ownhome_Rent  pid3_Independent  pid3_Not Sure  \\\n",
       "470768    25   61            1             0                 0              0   \n",
       "470779    30   86            1             0                 0              0   \n",
       "470780    14   49            1             0                 0              0   \n",
       "470781    49   63            1             0                 0              0   \n",
       "470815    43   49            1             0                 0              0   \n",
       "...      ...  ...          ...           ...               ...            ...   \n",
       "531711    10   30            1             0                 0              0   \n",
       "531715     4   31            0             0                 0              1   \n",
       "531716    53   69            0             1                 1              0   \n",
       "531725    52   44            0             1                 1              0   \n",
       "531747    36   38            1             0                 0              0   \n",
       "\n",
       "        pid3_Other  pid3_Republican  gender_Male  educ_4-Year  ...  \\\n",
       "470768           0                0            0            0  ...   \n",
       "470779           0                0            0            0  ...   \n",
       "470780           0                0            0            0  ...   \n",
       "470781           0                0            0            0  ...   \n",
       "470815           0                1            1            1  ...   \n",
       "...            ...              ...          ...          ...  ...   \n",
       "531711           0                1            1            0  ...   \n",
       "531715           0                0            0            0  ...   \n",
       "531716           0                0            1            0  ...   \n",
       "531725           0                0            0            0  ...   \n",
       "531747           0                1            1            0  ...   \n",
       "\n",
       "        newsint_Some of the time  \\\n",
       "470768                         1   \n",
       "470779                         0   \n",
       "470780                         0   \n",
       "470781                         0   \n",
       "470815                         1   \n",
       "...                          ...   \n",
       "531711                         0   \n",
       "531715                         0   \n",
       "531716                         0   \n",
       "531725                         0   \n",
       "531747                         0   \n",
       "\n",
       "        approval_gov_Disapprove / Somewhat Disapprove  \\\n",
       "470768                                              0   \n",
       "470779                                              0   \n",
       "470780                                              0   \n",
       "470781                                              1   \n",
       "470815                                              0   \n",
       "...                                               ...   \n",
       "531711                                              0   \n",
       "531715                                              1   \n",
       "531716                                              1   \n",
       "531725                                              0   \n",
       "531747                                              0   \n",
       "\n",
       "        approval_gov_Never Heard / Not Sure  approval_gov_Strongly Approve  \\\n",
       "470768                                    0                              1   \n",
       "470779                                    0                              0   \n",
       "470780                                    1                              0   \n",
       "470781                                    0                              0   \n",
       "470815                                    0                              0   \n",
       "...                                     ...                            ...   \n",
       "531711                                    1                              0   \n",
       "531715                                    0                              0   \n",
       "531716                                    0                              0   \n",
       "531725                                    0                              0   \n",
       "531747                                    0                              0   \n",
       "\n",
       "        approval_gov_Strongly Disapprove  ideo5_Liberal  ideo5_Moderate  \\\n",
       "470768                                 0              1               0   \n",
       "470779                                 0              0               1   \n",
       "470780                                 0              0               1   \n",
       "470781                                 0              0               1   \n",
       "470815                                 1              0               0   \n",
       "...                                  ...            ...             ...   \n",
       "531711                                 0              0               0   \n",
       "531715                                 0              0               0   \n",
       "531716                                 0              0               1   \n",
       "531725                                 0              0               1   \n",
       "531747                                 1              0               1   \n",
       "\n",
       "        ideo5_Not Sure  ideo5_Very Conservative  ideo5_Very Liberal  \n",
       "470768               0                        0                   0  \n",
       "470779               0                        0                   0  \n",
       "470780               0                        0                   0  \n",
       "470781               0                        0                   0  \n",
       "470815               0                        0                   0  \n",
       "...                ...                      ...                 ...  \n",
       "531711               0                        0                   1  \n",
       "531715               1                        0                   0  \n",
       "531716               0                        0                   0  \n",
       "531725               0                        0                   0  \n",
       "531747               0                        0                   0  \n",
       "\n",
       "[5028 rows x 51 columns]"
      ]
     },
     "execution_count": 43,
     "metadata": {},
     "output_type": "execute_result"
    }
   ],
   "source": [
    "df_test=pd.read_csv('./data/test_voters.csv', index_col=0)\n",
    "df_test"
   ]
  },
  {
   "cell_type": "code",
   "execution_count": 93,
   "id": "f0cb5149",
   "metadata": {},
   "outputs": [
    {
     "data": {
      "text/plain": [
       "0    0.312987\n",
       "1    0.687013\n",
       "dtype: float64"
      ]
     },
     "execution_count": 93,
     "metadata": {},
     "output_type": "execute_result"
    }
   ],
   "source": [
    "df_new = pd.DataFrame(gs_rf.predict_proba(df_test))\n",
    "df_new.mean()"
   ]
  },
  {
   "cell_type": "code",
   "execution_count": 86,
   "id": "e7588baa",
   "metadata": {},
   "outputs": [],
   "source": [
    "y_pred_test = gs_rf.predict(df_test)"
   ]
  },
  {
   "cell_type": "code",
   "execution_count": null,
   "id": "43c9a173",
   "metadata": {},
   "outputs": [],
   "source": [
    "# make predictions \n",
    "y_pred = gs_rf.predict(X_val)\n",
    "\n",
    "# save confusion matrix values\n",
    "tn, fp, fn, tp = confusion_matrix(y_val, y_pred).ravel()"
   ]
  },
  {
   "cell_type": "code",
   "execution_count": null,
   "id": "8c659e63",
   "metadata": {},
   "outputs": [],
   "source": []
  }
 ],
 "metadata": {
  "kernelspec": {
   "display_name": "Python 3",
   "language": "python",
   "name": "python3"
  },
  "language_info": {
   "codemirror_mode": {
    "name": "ipython",
    "version": 3
   },
   "file_extension": ".py",
   "mimetype": "text/x-python",
   "name": "python",
   "nbconvert_exporter": "python",
   "pygments_lexer": "ipython3",
   "version": "3.8.8"
  }
 },
 "nbformat": 4,
 "nbformat_minor": 5
}
