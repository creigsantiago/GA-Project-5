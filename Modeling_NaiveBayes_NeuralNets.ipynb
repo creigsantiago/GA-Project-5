{
 "cells": [
  {
   "cell_type": "markdown",
   "id": "0b3a5112",
   "metadata": {},
   "source": [
    "## Project 5: "
   ]
  },
  {
   "cell_type": "code",
   "execution_count": 37,
   "id": "b4812e90",
   "metadata": {},
   "outputs": [],
   "source": [
    "# !pip install tensorflow"
   ]
  },
  {
   "cell_type": "code",
   "execution_count": 58,
   "id": "c893ed0b",
   "metadata": {},
   "outputs": [],
   "source": [
    "import pandas as pd\n",
    "import numpy as np\n",
    "import matplotlib.pyplot as plt\n",
    "import tensorflow as tf\n",
    "%matplotlib inline\n",
    "\n",
    "from sklearn.model_selection import train_test_split, GridSearchCV, cross_val_score\n",
    "from sklearn.preprocessing import StandardScaler\n",
    "from sklearn.metrics import confusion_matrix, plot_confusion_matrix, classification_report\n",
    "from sklearn.naive_bayes import MultinomialNB\n",
    "from sklearn.pipeline import Pipeline\n",
    "from sklearn.ensemble import GradientBoostingClassifier, VotingClassifier\n",
    "from sklearn.neighbors import KNeighborsClassifier\n",
    "\n",
    "from tensorflow.keras.models import Sequential\n",
    "from tensorflow.keras.layers import Dense, Dropout\n",
    "from tensorflow.keras.utils import to_categorical\n",
    "from tensorflow.keras.metrics import Recall\n",
    "from tensorflow.keras.callbacks import EarlyStopping\n",
    "from tensorflow.keras.wrappers.scikit_learn import KerasRegressor\n",
    "from sklearn import metrics"
   ]
  },
  {
   "cell_type": "markdown",
   "id": "7f4c0c71",
   "metadata": {},
   "source": [
    "# Modeling"
   ]
  },
  {
   "cell_type": "markdown",
   "id": "a4c4a07e",
   "metadata": {},
   "source": [
    "### Multinomial Naive Bayes"
   ]
  },
  {
   "cell_type": "code",
   "execution_count": 39,
   "id": "877c1555",
   "metadata": {},
   "outputs": [
    {
     "data": {
      "text/html": [
       "<div>\n",
       "<style scoped>\n",
       "    .dataframe tbody tr th:only-of-type {\n",
       "        vertical-align: middle;\n",
       "    }\n",
       "\n",
       "    .dataframe tbody tr th {\n",
       "        vertical-align: top;\n",
       "    }\n",
       "\n",
       "    .dataframe thead th {\n",
       "        text-align: right;\n",
       "    }\n",
       "</style>\n",
       "<table border=\"1\" class=\"dataframe\">\n",
       "  <thead>\n",
       "    <tr style=\"text-align: right;\">\n",
       "      <th></th>\n",
       "      <th>Unnamed: 0</th>\n",
       "      <th>dist</th>\n",
       "      <th>gender</th>\n",
       "      <th>age</th>\n",
       "      <th>educ</th>\n",
       "      <th>race</th>\n",
       "      <th>faminc</th>\n",
       "      <th>marstat</th>\n",
       "      <th>newsint</th>\n",
       "      <th>approval_gov</th>\n",
       "      <th>ideo5</th>\n",
       "      <th>voted_gov</th>\n",
       "      <th>voted_gov_num</th>\n",
       "    </tr>\n",
       "  </thead>\n",
       "  <tbody>\n",
       "    <tr>\n",
       "      <th>0</th>\n",
       "      <td>0</td>\n",
       "      <td>19</td>\n",
       "      <td>Female</td>\n",
       "      <td>54</td>\n",
       "      <td>4-Year</td>\n",
       "      <td>White</td>\n",
       "      <td>50k - 60k</td>\n",
       "      <td>Single / Never Married</td>\n",
       "      <td>Most of the time</td>\n",
       "      <td>Strongly Approve</td>\n",
       "      <td>Liberal</td>\n",
       "      <td>[Democrat / Candidate 1]</td>\n",
       "      <td>0</td>\n",
       "    </tr>\n",
       "    <tr>\n",
       "      <th>1</th>\n",
       "      <td>1</td>\n",
       "      <td>52</td>\n",
       "      <td>Female</td>\n",
       "      <td>28</td>\n",
       "      <td>Some College</td>\n",
       "      <td>White</td>\n",
       "      <td>20k - 30k</td>\n",
       "      <td>Single / Never Married</td>\n",
       "      <td>Most of the time</td>\n",
       "      <td>Strongly Approve</td>\n",
       "      <td>Liberal</td>\n",
       "      <td>[Democrat / Candidate 1]</td>\n",
       "      <td>0</td>\n",
       "    </tr>\n",
       "    <tr>\n",
       "      <th>2</th>\n",
       "      <td>2</td>\n",
       "      <td>49</td>\n",
       "      <td>Male</td>\n",
       "      <td>86</td>\n",
       "      <td>Post-Grad</td>\n",
       "      <td>White</td>\n",
       "      <td>120k - 150k</td>\n",
       "      <td>Widowed</td>\n",
       "      <td>Most of the time</td>\n",
       "      <td>Strongly Disapprove</td>\n",
       "      <td>Very Conservative</td>\n",
       "      <td>[Republican / Candidate 2]</td>\n",
       "      <td>1</td>\n",
       "    </tr>\n",
       "    <tr>\n",
       "      <th>3</th>\n",
       "      <td>3</td>\n",
       "      <td>36</td>\n",
       "      <td>Male</td>\n",
       "      <td>80</td>\n",
       "      <td>Some College</td>\n",
       "      <td>White</td>\n",
       "      <td>20k - 30k</td>\n",
       "      <td>Widowed</td>\n",
       "      <td>Most of the time</td>\n",
       "      <td>Strongly Disapprove</td>\n",
       "      <td>Conservative</td>\n",
       "      <td>[Republican / Candidate 2]</td>\n",
       "      <td>1</td>\n",
       "    </tr>\n",
       "    <tr>\n",
       "      <th>4</th>\n",
       "      <td>4</td>\n",
       "      <td>36</td>\n",
       "      <td>Male</td>\n",
       "      <td>83</td>\n",
       "      <td>4-Year</td>\n",
       "      <td>White</td>\n",
       "      <td>Prefer not to say</td>\n",
       "      <td>Married</td>\n",
       "      <td>Most of the time</td>\n",
       "      <td>Strongly Disapprove</td>\n",
       "      <td>Conservative</td>\n",
       "      <td>[Republican / Candidate 2]</td>\n",
       "      <td>1</td>\n",
       "    </tr>\n",
       "  </tbody>\n",
       "</table>\n",
       "</div>"
      ],
      "text/plain": [
       "   Unnamed: 0  dist  gender  age          educ   race             faminc  \\\n",
       "0           0    19  Female   54        4-Year  White          50k - 60k   \n",
       "1           1    52  Female   28  Some College  White          20k - 30k   \n",
       "2           2    49    Male   86     Post-Grad  White        120k - 150k   \n",
       "3           3    36    Male   80  Some College  White          20k - 30k   \n",
       "4           4    36    Male   83        4-Year  White  Prefer not to say   \n",
       "\n",
       "                  marstat           newsint         approval_gov  \\\n",
       "0  Single / Never Married  Most of the time     Strongly Approve   \n",
       "1  Single / Never Married  Most of the time     Strongly Approve   \n",
       "2                 Widowed  Most of the time  Strongly Disapprove   \n",
       "3                 Widowed  Most of the time  Strongly Disapprove   \n",
       "4                 Married  Most of the time  Strongly Disapprove   \n",
       "\n",
       "               ideo5                   voted_gov  voted_gov_num  \n",
       "0            Liberal    [Democrat / Candidate 1]              0  \n",
       "1            Liberal    [Democrat / Candidate 1]              0  \n",
       "2  Very Conservative  [Republican / Candidate 2]              1  \n",
       "3       Conservative  [Republican / Candidate 2]              1  \n",
       "4       Conservative  [Republican / Candidate 2]              1  "
      ]
     },
     "execution_count": 39,
     "metadata": {},
     "output_type": "execute_result"
    }
   ],
   "source": [
    "df=pd.read_csv('./data/2018_gov_clean.csv')\n",
    "df.head()"
   ]
  },
  {
   "cell_type": "code",
   "execution_count": 40,
   "id": "d241e658",
   "metadata": {},
   "outputs": [
    {
     "data": {
      "text/plain": [
       "Unnamed: 0        int64\n",
       "dist              int64\n",
       "gender           object\n",
       "age               int64\n",
       "educ             object\n",
       "race             object\n",
       "faminc           object\n",
       "marstat          object\n",
       "newsint          object\n",
       "approval_gov     object\n",
       "ideo5            object\n",
       "voted_gov        object\n",
       "voted_gov_num     int64\n",
       "dtype: object"
      ]
     },
     "execution_count": 40,
     "metadata": {},
     "output_type": "execute_result"
    }
   ],
   "source": [
    "df.dtypes"
   ]
  },
  {
   "cell_type": "code",
   "execution_count": 41,
   "id": "60b46e72",
   "metadata": {},
   "outputs": [],
   "source": [
    "# df=df.drop(columns=['Unnamed: 0'], inplace=True)"
   ]
  },
  {
   "cell_type": "code",
   "execution_count": 42,
   "id": "e147bcf4",
   "metadata": {},
   "outputs": [],
   "source": [
    "# set up X and y\n",
    "X = df.drop(columns =['voted_gov', 'voted_gov_num'])\n",
    "y = df['voted_gov_num']"
   ]
  },
  {
   "cell_type": "code",
   "execution_count": 43,
   "id": "88588b0f",
   "metadata": {},
   "outputs": [
    {
     "data": {
      "text/plain": [
       "(3676, 11)"
      ]
     },
     "execution_count": 43,
     "metadata": {},
     "output_type": "execute_result"
    }
   ],
   "source": [
    "X.shape"
   ]
  },
  {
   "cell_type": "code",
   "execution_count": 44,
   "id": "afc6deaa",
   "metadata": {},
   "outputs": [],
   "source": [
    "X= pd.get_dummies(X, drop_first=True)"
   ]
  },
  {
   "cell_type": "code",
   "execution_count": 45,
   "id": "5d89e3c6",
   "metadata": {},
   "outputs": [],
   "source": [
    "X_train, X_test, y_train, y_test = train_test_split(X, y, random_state=42, stratify=y)"
   ]
  },
  {
   "cell_type": "code",
   "execution_count": 46,
   "id": "d9f6267e",
   "metadata": {},
   "outputs": [],
   "source": [
    "nb=MultinomialNB()"
   ]
  },
  {
   "cell_type": "code",
   "execution_count": 47,
   "id": "4be531c4",
   "metadata": {},
   "outputs": [
    {
     "data": {
      "text/plain": [
       "MultinomialNB()"
      ]
     },
     "execution_count": 47,
     "metadata": {},
     "output_type": "execute_result"
    }
   ],
   "source": [
    "nb.fit(X_train, y_train)"
   ]
  },
  {
   "cell_type": "code",
   "execution_count": 49,
   "id": "29c28b16",
   "metadata": {},
   "outputs": [],
   "source": [
    "# make predictions \n",
    "y_pred = nb.predict(X_test)\n",
    "\n",
    "# save confusion matrix values\n",
    "tn, fp, fn, tp = confusion_matrix(y_test, y_pred).ravel()"
   ]
  },
  {
   "cell_type": "code",
   "execution_count": 52,
   "id": "e98cb745",
   "metadata": {},
   "outputs": [
    {
     "data": {
      "image/png": "[encoded data removed]",
      "text/plain": [
       "<Figure size 432x288 with 2 Axes>"
      ]
     },
     "metadata": {
      "needs_background": "light"
     },
     "output_type": "display_data"
    }
   ],
   "source": [
    "# plot a confusion matrix\n",
    "plot_confusion_matrix(nb, X_test, y_test, cmap='BuPu', values_format='d');"
   ]
  },
  {
   "cell_type": "code",
   "execution_count": 54,
   "id": "3de80175",
   "metadata": {},
   "outputs": [
    {
     "name": "stdout",
     "output_type": "stream",
     "text": [
      "Accuracy: 0.7442872687704026\n",
      "Recall: 0.663768115942029\n",
      "Precision: 0.6580459770114943\n"
     ]
    }
   ],
   "source": [
    "# sensitivity and accuracy\n",
    "accu = (tp+tn) / (tp+tn+fp+fn)\n",
    "recall = tp/(tp+fn)\n",
    "prec = tp/ (tp+fp)\n",
    "\n",
    "print('Accuracy:', accu)\n",
    "print('Recall:', recall)\n",
    "print('Precision:', prec)"
   ]
  },
  {
   "cell_type": "code",
   "execution_count": 13,
   "id": "a6b40cd5",
   "metadata": {},
   "outputs": [
    {
     "name": "stdout",
     "output_type": "stream",
     "text": [
      "Accuracy on train data: 0.7323177366702938\n",
      "Accuracy on test data: 0.7442872687704026\n"
     ]
    }
   ],
   "source": [
    "print('Accuracy on train data:', nb.score(X_train, y_train))\n",
    "print('Accuracy on test data:', nb.score(X_test, y_test))"
   ]
  },
  {
   "cell_type": "code",
   "execution_count": null,
   "id": "361d3c61",
   "metadata": {},
   "outputs": [],
   "source": []
  },
  {
   "cell_type": "markdown",
   "id": "5002b628",
   "metadata": {},
   "source": [
    "### Neural net classification - 1 hidden layer & early stopping"
   ]
  },
  {
   "cell_type": "code",
   "execution_count": 14,
   "id": "4bfa3a98",
   "metadata": {},
   "outputs": [],
   "source": [
    "# random seed for tensorflow\n",
    "tf.random.set_seed(1234)"
   ]
  },
  {
   "cell_type": "code",
   "execution_count": 15,
   "id": "a65d07cc",
   "metadata": {},
   "outputs": [],
   "source": [
    "# split into train and set\n",
    "X_train, X_test, y_train, y_test = train_test_split(X, y, stratify=y, random_state=42)"
   ]
  },
  {
   "cell_type": "code",
   "execution_count": 16,
   "id": "88321e9e",
   "metadata": {},
   "outputs": [],
   "source": [
    "# scale data\n",
    "sc = StandardScaler()\n",
    "X_train_sc = sc.fit_transform(X_train)\n",
    "X_test_sc = sc.transform(X_test)"
   ]
  },
  {
   "cell_type": "code",
   "execution_count": 17,
   "id": "322798e4",
   "metadata": {},
   "outputs": [],
   "source": [
    "# create model with one hidden layer\n",
    "model = Sequential()\n",
    "model.add(Dense(32, input_shape=(X_train_sc.shape[1],), activation='relu'))\n",
    "model.add(Dense(1, activation='sigmoid'))"
   ]
  },
  {
   "cell_type": "code",
   "execution_count": 18,
   "id": "c5b9e1df",
   "metadata": {},
   "outputs": [],
   "source": [
    "# Compile it\n",
    "model.compile(loss='bce', optimizer='adam', metrics=['Accuracy', Recall(), 'Precision'])"
   ]
  },
  {
   "cell_type": "code",
   "execution_count": 19,
   "id": "fa8a2180",
   "metadata": {},
   "outputs": [],
   "source": [
    "early_stop = EarlyStopping(monitor='val_loss', patience=5, verbose=1)"
   ]
  },
  {
   "cell_type": "code",
   "execution_count": 20,
   "id": "56afff43",
   "metadata": {},
   "outputs": [
    {
     "name": "stdout",
     "output_type": "stream",
     "text": [
      "Epoch 00017: early stopping\n"
     ]
    }
   ],
   "source": [
    "# fit model\n",
    "history = model.fit(\n",
    "    X_train_sc, y_train, \n",
    "    validation_data=(X_test_sc, y_test), \n",
    "    epochs=100, \n",
    "    callbacks=[early_stop], \n",
    "    verbose=0,\n",
    "    batch_size=32\n",
    ")"
   ]
  },
  {
   "cell_type": "code",
   "execution_count": 21,
   "id": "a6ad831d",
   "metadata": {},
   "outputs": [],
   "source": [
    "# save history into a df\n",
    "history_df = pd.DataFrame(history.history)"
   ]
  },
  {
   "cell_type": "code",
   "execution_count": 22,
   "id": "ab8facfb",
   "metadata": {},
   "outputs": [
    {
     "data": {
      "text/html": [
       "<div>\n",
       "<style scoped>\n",
       "    .dataframe tbody tr th:only-of-type {\n",
       "        vertical-align: middle;\n",
       "    }\n",
       "\n",
       "    .dataframe tbody tr th {\n",
       "        vertical-align: top;\n",
       "    }\n",
       "\n",
       "    .dataframe thead th {\n",
       "        text-align: right;\n",
       "    }\n",
       "</style>\n",
       "<table border=\"1\" class=\"dataframe\">\n",
       "  <thead>\n",
       "    <tr style=\"text-align: right;\">\n",
       "      <th></th>\n",
       "      <th>loss</th>\n",
       "      <th>Accuracy</th>\n",
       "      <th>recall</th>\n",
       "      <th>precision</th>\n",
       "      <th>val_loss</th>\n",
       "      <th>val_Accuracy</th>\n",
       "      <th>val_recall</th>\n",
       "      <th>val_precision</th>\n",
       "    </tr>\n",
       "  </thead>\n",
       "  <tbody>\n",
       "    <tr>\n",
       "      <th>0</th>\n",
       "      <td>0.591283</td>\n",
       "      <td>0.705114</td>\n",
       "      <td>0.691489</td>\n",
       "      <td>0.591398</td>\n",
       "      <td>0.430915</td>\n",
       "      <td>0.836779</td>\n",
       "      <td>0.707246</td>\n",
       "      <td>0.832765</td>\n",
       "    </tr>\n",
       "    <tr>\n",
       "      <th>1</th>\n",
       "      <td>0.362687</td>\n",
       "      <td>0.883569</td>\n",
       "      <td>0.797872</td>\n",
       "      <td>0.880470</td>\n",
       "      <td>0.319198</td>\n",
       "      <td>0.885745</td>\n",
       "      <td>0.805797</td>\n",
       "      <td>0.879747</td>\n",
       "    </tr>\n",
       "    <tr>\n",
       "      <th>2</th>\n",
       "      <td>0.280935</td>\n",
       "      <td>0.906057</td>\n",
       "      <td>0.842360</td>\n",
       "      <td>0.900724</td>\n",
       "      <td>0.274756</td>\n",
       "      <td>0.898803</td>\n",
       "      <td>0.834783</td>\n",
       "      <td>0.888889</td>\n",
       "    </tr>\n",
       "    <tr>\n",
       "      <th>3</th>\n",
       "      <td>0.242646</td>\n",
       "      <td>0.914762</td>\n",
       "      <td>0.856867</td>\n",
       "      <td>0.910586</td>\n",
       "      <td>0.254992</td>\n",
       "      <td>0.910773</td>\n",
       "      <td>0.849275</td>\n",
       "      <td>0.907121</td>\n",
       "    </tr>\n",
       "    <tr>\n",
       "      <th>4</th>\n",
       "      <td>0.222010</td>\n",
       "      <td>0.916576</td>\n",
       "      <td>0.855899</td>\n",
       "      <td>0.916149</td>\n",
       "      <td>0.243796</td>\n",
       "      <td>0.910773</td>\n",
       "      <td>0.849275</td>\n",
       "      <td>0.907121</td>\n",
       "    </tr>\n",
       "  </tbody>\n",
       "</table>\n",
       "</div>"
      ],
      "text/plain": [
       "       loss  Accuracy    recall  precision  val_loss  val_Accuracy  \\\n",
       "0  0.591283  0.705114  0.691489   0.591398  0.430915      0.836779   \n",
       "1  0.362687  0.883569  0.797872   0.880470  0.319198      0.885745   \n",
       "2  0.280935  0.906057  0.842360   0.900724  0.274756      0.898803   \n",
       "3  0.242646  0.914762  0.856867   0.910586  0.254992      0.910773   \n",
       "4  0.222010  0.916576  0.855899   0.916149  0.243796      0.910773   \n",
       "\n",
       "   val_recall  val_precision  \n",
       "0    0.707246       0.832765  \n",
       "1    0.805797       0.879747  \n",
       "2    0.834783       0.888889  \n",
       "3    0.849275       0.907121  \n",
       "4    0.849275       0.907121  "
      ]
     },
     "execution_count": 22,
     "metadata": {},
     "output_type": "execute_result"
    }
   ],
   "source": [
    "history_df.head()"
   ]
  },
  {
   "cell_type": "code",
   "execution_count": 23,
   "id": "ad990ab0",
   "metadata": {},
   "outputs": [
    {
     "data": {
      "text/plain": [
       "5     0.910773\n",
       "6     0.906420\n",
       "7     0.907508\n",
       "8     0.909684\n",
       "9     0.909684\n",
       "10    0.908596\n",
       "11    0.906420\n",
       "12    0.907508\n",
       "13    0.907508\n",
       "14    0.907508\n",
       "15    0.912949\n",
       "16    0.910773\n",
       "Name: val_Accuracy, dtype: float64"
      ]
     },
     "execution_count": 23,
     "metadata": {},
     "output_type": "execute_result"
    }
   ],
   "source": [
    "history_df['val_Accuracy'][5:]"
   ]
  },
  {
   "cell_type": "code",
   "execution_count": 24,
   "id": "9fe10186",
   "metadata": {},
   "outputs": [
    {
     "data": {
      "image/png": "[encoded data removed]",
      "text/plain": [
       "<Figure size 792x504 with 1 Axes>"
      ]
     },
     "metadata": {
      "needs_background": "light"
     },
     "output_type": "display_data"
    }
   ],
   "source": [
    "# plot metrics for validation data\n",
    "plt.figure(figsize=(11, 7))\n",
    "plt.plot(history_df['val_Accuracy'], label='Validation Accuracy', color='orange')\n",
    "plt.plot(history_df['Accuracy'], label='Training Accuracy', color='blue')\n",
    "plt.legend();"
   ]
  },
  {
   "cell_type": "code",
   "execution_count": 55,
   "id": "8ae523a2",
   "metadata": {},
   "outputs": [
    {
     "name": "stderr",
     "output_type": "stream",
     "text": [
      "No handles with labels found to put in legend.\n"
     ]
    },
    {
     "data": {
      "image/png": "[encoded data removed]",
      "text/plain": [
       "<Figure size 1440x504 with 3 Axes>"
      ]
     },
     "metadata": {
      "needs_background": "light"
     },
     "output_type": "display_data"
    }
   ],
   "source": [
    "fig, (ax1, ax2, ax3) = plt.subplots(nrows = 1, ncols=3, figsize = (20, 7))\n",
    "fig.suptitle('Accuracy, Precision, Recall')\n",
    "ax1.plot(history_df['val_Accuracy'], label='Validation Accuracy', color='green')\n",
    "ax1.plot(history_df['Accuracy'], label='Training Accuracy', color='orange')\n",
    "ax2.plot(history_df['val_precision'])\n",
    "ax2.plot(history_df['precision'])\n",
    "ax3.plot(history_df['val_recall'])\n",
    "ax3.plot(history_df['recall'])\n",
    "plt.legend();"
   ]
  },
  {
   "cell_type": "code",
   "execution_count": 25,
   "id": "ab0afb64",
   "metadata": {},
   "outputs": [
    {
     "name": "stdout",
     "output_type": "stream",
     "text": [
      "29/29 - 0s - loss: 0.2379 - Accuracy: 0.9108 - recall: 0.8667 - precision: 0.8925\n"
     ]
    },
    {
     "data": {
      "text/plain": [
       "[0.23788246512413025,\n",
       " 0.9107725620269775,\n",
       " 0.8666666746139526,\n",
       " 0.8925372958183289]"
      ]
     },
     "execution_count": 25,
     "metadata": {},
     "output_type": "execute_result"
    }
   ],
   "source": [
    "# evaluate \n",
    "model.evaluate(X_test_sc, y_test, verbose=2)"
   ]
  },
  {
   "cell_type": "code",
   "execution_count": 26,
   "id": "051528a7",
   "metadata": {},
   "outputs": [
    {
     "data": {
      "text/plain": [
       "array([[0.9983752 ],\n",
       "       [0.11909774],\n",
       "       [0.5305984 ],\n",
       "       [0.08015236],\n",
       "       [0.04525724],\n",
       "       [0.0776079 ],\n",
       "       [0.01472563],\n",
       "       [0.999033  ],\n",
       "       [0.03794074],\n",
       "       [0.00453642]], dtype=float32)"
      ]
     },
     "execution_count": 26,
     "metadata": {},
     "output_type": "execute_result"
    }
   ],
   "source": [
    "# make predictions\n",
    "y_pred=model.predict(X_test_sc)\n",
    "y_pred[:10]"
   ]
  },
  {
   "cell_type": "code",
   "execution_count": 27,
   "id": "f3b00a26",
   "metadata": {},
   "outputs": [
    {
     "data": {
      "text/plain": [
       "array([[1.],\n",
       "       [0.],\n",
       "       [1.],\n",
       "       [0.],\n",
       "       [0.],\n",
       "       [0.],\n",
       "       [0.],\n",
       "       [1.],\n",
       "       [0.],\n",
       "       [0.]], dtype=float32)"
      ]
     },
     "execution_count": 27,
     "metadata": {},
     "output_type": "execute_result"
    }
   ],
   "source": [
    "# round predicted values\n",
    "y_pred =y_pred.round()\n",
    "y_pred[:10]"
   ]
  },
  {
   "cell_type": "code",
   "execution_count": 28,
   "id": "89dbc1f3",
   "metadata": {},
   "outputs": [
    {
     "data": {
      "text/plain": [
       "<tf.Tensor: shape=(2, 2), dtype=int32, numpy=\n",
       "array([[538,  36],\n",
       "       [ 46, 299]], dtype=int32)>"
      ]
     },
     "execution_count": 28,
     "metadata": {},
     "output_type": "execute_result"
    }
   ],
   "source": [
    "# confusion matrix using Tensorflow\n",
    "tf.math.confusion_matrix(\n",
    "    y_test, y_pred\n",
    ")"
   ]
  },
  {
   "cell_type": "code",
   "execution_count": 29,
   "id": "c2e2d9e7",
   "metadata": {},
   "outputs": [
    {
     "name": "stdout",
     "output_type": "stream",
     "text": [
      "              precision    recall  f1-score   support\n",
      "\n",
      "           0       0.92      0.94      0.93       574\n",
      "           1       0.89      0.87      0.88       345\n",
      "\n",
      "    accuracy                           0.91       919\n",
      "   macro avg       0.91      0.90      0.90       919\n",
      "weighted avg       0.91      0.91      0.91       919\n",
      "\n"
     ]
    }
   ],
   "source": [
    "# classification report\n",
    "print(classification_report(y_test, y_pred))"
   ]
  },
  {
   "cell_type": "markdown",
   "id": "15d36ac7",
   "metadata": {},
   "source": [
    "### Null model"
   ]
  },
  {
   "cell_type": "markdown",
   "id": "43c82942",
   "metadata": {},
   "source": [
    "- For classification problems, we build our null model based on the most frequent value in the train data, not the test data. We would use the shape of X_test for the null model array. "
   ]
  },
  {
   "cell_type": "code",
   "execution_count": 30,
   "id": "f62f3daf",
   "metadata": {},
   "outputs": [
    {
     "data": {
      "text/plain": [
       "(919, 46)"
      ]
     },
     "execution_count": 30,
     "metadata": {},
     "output_type": "execute_result"
    }
   ],
   "source": [
    "X_test.shape"
   ]
  },
  {
   "cell_type": "code",
   "execution_count": 31,
   "id": "ae7b6539",
   "metadata": {},
   "outputs": [
    {
     "data": {
      "text/plain": [
       "0    0.624955\n",
       "1    0.375045\n",
       "Name: voted_gov_num, dtype: float64"
      ]
     },
     "execution_count": 31,
     "metadata": {},
     "output_type": "execute_result"
    }
   ],
   "source": [
    "# which one is the most frequent value?\n",
    "y_train.value_counts(normalize=True)"
   ]
  },
  {
   "cell_type": "code",
   "execution_count": 32,
   "id": "11ae5b06",
   "metadata": {},
   "outputs": [
    {
     "data": {
      "text/plain": [
       "array([0., 0., 0., 0., 0.])"
      ]
     },
     "execution_count": 32,
     "metadata": {},
     "output_type": "execute_result"
    }
   ],
   "source": [
    "# create an array of the most frequent value with number of rows equal to test data(this will be our null model predictions)\n",
    "y_hat = np.zeros(919)\n",
    "y_hat[:5]"
   ]
  },
  {
   "cell_type": "code",
   "execution_count": 33,
   "id": "cbefc7ae",
   "metadata": {},
   "outputs": [
    {
     "name": "stdout",
     "output_type": "stream",
     "text": [
      "              precision    recall  f1-score   support\n",
      "\n",
      "           0       0.62      1.00      0.77       574\n",
      "           1       0.00      0.00      0.00       345\n",
      "\n",
      "    accuracy                           0.62       919\n",
      "   macro avg       0.31      0.50      0.38       919\n",
      "weighted avg       0.39      0.62      0.48       919\n",
      "\n"
     ]
    },
    {
     "name": "stderr",
     "output_type": "stream",
     "text": [
      "/Users/mekdeswassie/opt/anaconda3/envs/dsi/lib/python3.8/site-packages/sklearn/metrics/_classification.py:1248: UndefinedMetricWarning: Precision and F-score are ill-defined and being set to 0.0 in labels with no predicted samples. Use `zero_division` parameter to control this behavior.\n",
      "  _warn_prf(average, modifier, msg_start, len(result))\n",
      "/Users/mekdeswassie/opt/anaconda3/envs/dsi/lib/python3.8/site-packages/sklearn/metrics/_classification.py:1248: UndefinedMetricWarning: Precision and F-score are ill-defined and being set to 0.0 in labels with no predicted samples. Use `zero_division` parameter to control this behavior.\n",
      "  _warn_prf(average, modifier, msg_start, len(result))\n",
      "/Users/mekdeswassie/opt/anaconda3/envs/dsi/lib/python3.8/site-packages/sklearn/metrics/_classification.py:1248: UndefinedMetricWarning: Precision and F-score are ill-defined and being set to 0.0 in labels with no predicted samples. Use `zero_division` parameter to control this behavior.\n",
      "  _warn_prf(average, modifier, msg_start, len(result))\n"
     ]
    }
   ],
   "source": [
    "# classification report for the null model\n",
    "print(classification_report(y_test, y_hat))"
   ]
  },
  {
   "cell_type": "markdown",
   "id": "6acdacab",
   "metadata": {},
   "source": [
    "### Neural net classification - 2 hidden layers & dropout"
   ]
  },
  {
   "cell_type": "code",
   "execution_count": 35,
   "id": "c370b0af",
   "metadata": {},
   "outputs": [],
   "source": [
    "X_train, X_test, y_train, y_test = train_test_split(X, y, stratify=y, random_state=42)"
   ]
  },
  {
   "cell_type": "code",
   "execution_count": 36,
   "id": "84a603a3",
   "metadata": {},
   "outputs": [],
   "source": [
    "# scale data\n",
    "sc = StandardScaler()\n",
    "X_train_sc = sc.fit_transform(X_train)\n",
    "X_test_sc = sc.transform(X_test)"
   ]
  },
  {
   "cell_type": "code",
   "execution_count": 37,
   "id": "496637e6",
   "metadata": {},
   "outputs": [],
   "source": [
    "model_nn = Sequential()"
   ]
  },
  {
   "cell_type": "code",
   "execution_count": null,
   "id": "efa84a3b",
   "metadata": {},
   "outputs": [],
   "source": []
  },
  {
   "cell_type": "code",
   "execution_count": 38,
   "id": "c31f42b7",
   "metadata": {},
   "outputs": [],
   "source": [
    "# create model\n",
    "model_nn.add(Dense(32, input_shape=(X_train_sc.shape[1],), activation='relu'))\n",
    "model_nn.add(Dropout(0.2))\n",
    "model_nn.add(Dense(10, activation='relu'))\n",
    "model_nn.add(Dropout(0.2))\n",
    "model_nn.add(Dense(1, activation='sigmoid'))"
   ]
  },
  {
   "cell_type": "code",
   "execution_count": 39,
   "id": "28b2737c",
   "metadata": {},
   "outputs": [],
   "source": [
    "model_nn.compile(loss='bce', optimizer ='adam', metrics = ['Accuracy', Recall(), 'Precision'])"
   ]
  },
  {
   "cell_type": "code",
   "execution_count": 40,
   "id": "40907c9a",
   "metadata": {},
   "outputs": [],
   "source": [
    "# fit model\n",
    "history_2 = model_nn.fit(\n",
    "    X_train_sc,\n",
    "    y_train,\n",
    "    validation_data=(X_test_sc, y_test),\n",
    "    epochs=100,\n",
    "    verbose=0\n",
    ")"
   ]
  },
  {
   "cell_type": "code",
   "execution_count": 43,
   "id": "e9195847",
   "metadata": {
    "scrolled": true
   },
   "outputs": [
    {
     "data": {
      "text/html": [
       "<div>\n",
       "<style scoped>\n",
       "    .dataframe tbody tr th:only-of-type {\n",
       "        vertical-align: middle;\n",
       "    }\n",
       "\n",
       "    .dataframe tbody tr th {\n",
       "        vertical-align: top;\n",
       "    }\n",
       "\n",
       "    .dataframe thead th {\n",
       "        text-align: right;\n",
       "    }\n",
       "</style>\n",
       "<table border=\"1\" class=\"dataframe\">\n",
       "  <thead>\n",
       "    <tr style=\"text-align: right;\">\n",
       "      <th></th>\n",
       "      <th>loss</th>\n",
       "      <th>Accuracy</th>\n",
       "      <th>recall_1</th>\n",
       "      <th>precision</th>\n",
       "      <th>val_loss</th>\n",
       "      <th>val_Accuracy</th>\n",
       "      <th>val_recall_1</th>\n",
       "      <th>val_precision</th>\n",
       "    </tr>\n",
       "  </thead>\n",
       "  <tbody>\n",
       "    <tr>\n",
       "      <th>0</th>\n",
       "      <td>0.651846</td>\n",
       "      <td>0.619151</td>\n",
       "      <td>0.237911</td>\n",
       "      <td>0.484252</td>\n",
       "      <td>0.563886</td>\n",
       "      <td>0.682263</td>\n",
       "      <td>0.205797</td>\n",
       "      <td>0.797753</td>\n",
       "    </tr>\n",
       "    <tr>\n",
       "      <th>1</th>\n",
       "      <td>0.514611</td>\n",
       "      <td>0.735219</td>\n",
       "      <td>0.424565</td>\n",
       "      <td>0.764808</td>\n",
       "      <td>0.427125</td>\n",
       "      <td>0.850925</td>\n",
       "      <td>0.681159</td>\n",
       "      <td>0.896947</td>\n",
       "    </tr>\n",
       "    <tr>\n",
       "      <th>2</th>\n",
       "      <td>0.391615</td>\n",
       "      <td>0.851288</td>\n",
       "      <td>0.769826</td>\n",
       "      <td>0.822314</td>\n",
       "      <td>0.321456</td>\n",
       "      <td>0.880305</td>\n",
       "      <td>0.811594</td>\n",
       "      <td>0.861538</td>\n",
       "    </tr>\n",
       "    <tr>\n",
       "      <th>3</th>\n",
       "      <td>0.319281</td>\n",
       "      <td>0.867610</td>\n",
       "      <td>0.804642</td>\n",
       "      <td>0.836181</td>\n",
       "      <td>0.277034</td>\n",
       "      <td>0.890098</td>\n",
       "      <td>0.811594</td>\n",
       "      <td>0.886076</td>\n",
       "    </tr>\n",
       "    <tr>\n",
       "      <th>4</th>\n",
       "      <td>0.290413</td>\n",
       "      <td>0.881030</td>\n",
       "      <td>0.813346</td>\n",
       "      <td>0.861680</td>\n",
       "      <td>0.259469</td>\n",
       "      <td>0.892274</td>\n",
       "      <td>0.826087</td>\n",
       "      <td>0.879630</td>\n",
       "    </tr>\n",
       "  </tbody>\n",
       "</table>\n",
       "</div>"
      ],
      "text/plain": [
       "       loss  Accuracy  recall_1  precision  val_loss  val_Accuracy  \\\n",
       "0  0.651846  0.619151  0.237911   0.484252  0.563886      0.682263   \n",
       "1  0.514611  0.735219  0.424565   0.764808  0.427125      0.850925   \n",
       "2  0.391615  0.851288  0.769826   0.822314  0.321456      0.880305   \n",
       "3  0.319281  0.867610  0.804642   0.836181  0.277034      0.890098   \n",
       "4  0.290413  0.881030  0.813346   0.861680  0.259469      0.892274   \n",
       "\n",
       "   val_recall_1  val_precision  \n",
       "0      0.205797       0.797753  \n",
       "1      0.681159       0.896947  \n",
       "2      0.811594       0.861538  \n",
       "3      0.811594       0.886076  \n",
       "4      0.826087       0.879630  "
      ]
     },
     "execution_count": 43,
     "metadata": {},
     "output_type": "execute_result"
    }
   ],
   "source": [
    "# save history into a df\n",
    "history_2_df = pd.DataFrame(history_2.history)\n",
    "history_2_df.head()"
   ]
  },
  {
   "cell_type": "code",
   "execution_count": null,
   "id": "6a9effc6",
   "metadata": {},
   "outputs": [],
   "source": []
  },
  {
   "cell_type": "code",
   "execution_count": 45,
   "id": "a281e3f4",
   "metadata": {},
   "outputs": [
    {
     "data": {
      "text/plain": [
       "5     0.903156\n",
       "6     0.906420\n",
       "7     0.900979\n",
       "8     0.898803\n",
       "9     0.904244\n",
       "        ...   \n",
       "95    0.904244\n",
       "96    0.907508\n",
       "97    0.903156\n",
       "98    0.906420\n",
       "99    0.908596\n",
       "Name: val_Accuracy, Length: 95, dtype: float64"
      ]
     },
     "execution_count": 45,
     "metadata": {},
     "output_type": "execute_result"
    }
   ],
   "source": [
    "history_2_df['val_Accuracy'][5:]"
   ]
  },
  {
   "cell_type": "code",
   "execution_count": 46,
   "id": "ade625c9",
   "metadata": {},
   "outputs": [
    {
     "data": {
      "image/png": "[encoded data removed]",
      "text/plain": [
       "<Figure size 792x504 with 1 Axes>"
      ]
     },
     "metadata": {
      "needs_background": "light"
     },
     "output_type": "display_data"
    }
   ],
   "source": [
    "# plot metrics for validation data\n",
    "plt.figure(figsize=(11, 7))\n",
    "plt.plot(history_2_df['val_Accuracy'], label='Validation Accuracy', color='orange')\n",
    "plt.plot(history_2_df['Accuracy'], label='Training Accuracy', color='blue')\n",
    "plt.legend();"
   ]
  },
  {
   "cell_type": "code",
   "execution_count": 49,
   "id": "b9676a17",
   "metadata": {},
   "outputs": [
    {
     "name": "stderr",
     "output_type": "stream",
     "text": [
      "No handles with labels found to put in legend.\n"
     ]
    },
    {
     "data": {
      "image/png": "[encoded data removed]",
      "text/plain": [
       "<Figure size 1440x504 with 3 Axes>"
      ]
     },
     "metadata": {
      "needs_background": "light"
     },
     "output_type": "display_data"
    }
   ],
   "source": [
    "fig, (ax1, ax2, ax3) = plt.subplots(nrows = 1, ncols=3, figsize = (20, 7))\n",
    "fig.suptitle('Horizontally stacked subplots')\n",
    "ax1.plot(history_2_df['val_Accuracy'], label='Validation Accuracy', color='green')\n",
    "ax1.plot(history_2_df['Accuracy'], label='Training Accuracy', color='orange')\n",
    "ax2.plot(history_2_df['val_precision'])\n",
    "\n",
    "ax2.plot(history_2_df['precision'])\n",
    "ax3.plot(history_2_df.loc[6])\n",
    "ax3.plot(history_2_df.loc[2])\n",
    "plt.legend();"
   ]
  },
  {
   "cell_type": "code",
   "execution_count": 50,
   "id": "021d4b33",
   "metadata": {},
   "outputs": [
    {
     "name": "stdout",
     "output_type": "stream",
     "text": [
      "29/29 - 0s - loss: 0.3669 - Accuracy: 0.9086 - recall_1: 0.8667 - precision: 0.8872\n"
     ]
    },
    {
     "data": {
      "text/plain": [
       "[0.3668990731239319,\n",
       " 0.9085962772369385,\n",
       " 0.8666666746139526,\n",
       " 0.8872403502464294]"
      ]
     },
     "execution_count": 50,
     "metadata": {},
     "output_type": "execute_result"
    }
   ],
   "source": [
    "# evaluate \n",
    "model_nn.evaluate(X_test_sc, y_test, verbose=2)"
   ]
  },
  {
   "cell_type": "code",
   "execution_count": 52,
   "id": "021dab1b",
   "metadata": {},
   "outputs": [
    {
     "data": {
      "text/plain": [
       "array([[9.9999696e-01],\n",
       "       [4.9172853e-05],\n",
       "       [7.2009778e-01],\n",
       "       [1.8903431e-01],\n",
       "       [1.2260991e-01],\n",
       "       [2.4028391e-02],\n",
       "       [2.6009828e-02],\n",
       "       [9.9999857e-01],\n",
       "       [1.0962973e-05],\n",
       "       [2.3484896e-09]], dtype=float32)"
      ]
     },
     "execution_count": 52,
     "metadata": {},
     "output_type": "execute_result"
    }
   ],
   "source": [
    "# make predictions\n",
    "y_pred_2=model_nn.predict(X_test_sc)\n",
    "y_pred_2[:10]"
   ]
  },
  {
   "cell_type": "code",
   "execution_count": 53,
   "id": "b80abc64",
   "metadata": {},
   "outputs": [
    {
     "data": {
      "text/plain": [
       "array([[1.],\n",
       "       [0.],\n",
       "       [1.],\n",
       "       [0.],\n",
       "       [0.],\n",
       "       [0.],\n",
       "       [0.],\n",
       "       [1.],\n",
       "       [0.],\n",
       "       [0.]], dtype=float32)"
      ]
     },
     "execution_count": 53,
     "metadata": {},
     "output_type": "execute_result"
    }
   ],
   "source": [
    "# round predicted values\n",
    "y_pred_2 =y_pred_2.round()\n",
    "y_pred_2[:10]"
   ]
  },
  {
   "cell_type": "code",
   "execution_count": 55,
   "id": "7453d3e2",
   "metadata": {},
   "outputs": [
    {
     "data": {
      "text/plain": [
       "<tf.Tensor: shape=(2, 2), dtype=int32, numpy=\n",
       "array([[536,  38],\n",
       "       [ 46, 299]], dtype=int32)>"
      ]
     },
     "execution_count": 55,
     "metadata": {},
     "output_type": "execute_result"
    }
   ],
   "source": [
    "# confusion matrix using Tensorflow\n",
    "tf.math.confusion_matrix(\n",
    "    y_test, y_pred_2\n",
    ")"
   ]
  },
  {
   "cell_type": "code",
   "execution_count": 56,
   "id": "a8aa384c",
   "metadata": {},
   "outputs": [
    {
     "name": "stdout",
     "output_type": "stream",
     "text": [
      "              precision    recall  f1-score   support\n",
      "\n",
      "           0       0.92      0.93      0.93       574\n",
      "           1       0.89      0.87      0.88       345\n",
      "\n",
      "    accuracy                           0.91       919\n",
      "   macro avg       0.90      0.90      0.90       919\n",
      "weighted avg       0.91      0.91      0.91       919\n",
      "\n"
     ]
    }
   ],
   "source": [
    "# classification report\n",
    "print(classification_report(y_test, y_pred_2))"
   ]
  },
  {
   "cell_type": "markdown",
   "id": "f7f5dca4",
   "metadata": {},
   "source": [
    "### GridSearch with nn"
   ]
  },
  {
   "cell_type": "code",
   "execution_count": 60,
   "id": "85b7d136",
   "metadata": {},
   "outputs": [],
   "source": [
    "X_train, X_test, y_train, y_test = train_test_split(X, y, random_state=42)"
   ]
  },
  {
   "cell_type": "code",
   "execution_count": 61,
   "id": "16e076a6",
   "metadata": {},
   "outputs": [],
   "source": [
    "ss = StandardScaler()\n",
    "X_train_sc = ss.fit_transform(X_train)\n",
    "X_test_sc = ss.transform(X_test)"
   ]
  },
  {
   "cell_type": "code",
   "execution_count": 73,
   "id": "d6f13126",
   "metadata": {},
   "outputs": [],
   "source": [
    "# Add an arugment of number of layers to the function (and loop through it) \n",
    "def model_fn_deep(hidden_neurons=32, hidden_layers=5, dropout=0.5):\n",
    "  model = Sequential()\n",
    "  for layer in range(hidden_layers):\n",
    "    if layer == 0:\n",
    "      model.add(Dense(hidden_neurons, input_shape=(46,), activation='relu'))\n",
    "      model.add(Dropout(dropout))\n",
    "    else:\n",
    "      model.add(Dense(hidden_neurons, activation='relu'))\n",
    "      model.add(Dropout(dropout))\n",
    "\n",
    "  model.add(Dense(1, activation='sigmoid'))\n",
    "\n",
    "  model.compile(loss='bce', optimizer='adam')\n",
    "\n",
    "  return model\n",
    "\n",
    "nn_deep = KerasRegressor(build_fn=model_fn_deep, batch_size=512, verbose=0)"
   ]
  },
  {
   "cell_type": "code",
   "execution_count": null,
   "id": "2ca3caa1",
   "metadata": {},
   "outputs": [],
   "source": []
  },
  {
   "cell_type": "code",
   "execution_count": 74,
   "id": "1b064b1b",
   "metadata": {},
   "outputs": [
    {
     "name": "stdout",
     "output_type": "stream",
     "text": [
      "{'dropout': 0.2, 'epochs': 20, 'hidden_layers': 2, 'hidden_neurons': 128}\n"
     ]
    },
    {
     "data": {
      "text/plain": [
       "-0.23411420981089273"
      ]
     },
     "execution_count": 74,
     "metadata": {},
     "output_type": "execute_result"
    }
   ],
   "source": [
    "nn_params_deep = {\n",
    "    'hidden_neurons': [64, 128],\n",
    "    'hidden_layers': [2, 3],\n",
    "    'dropout': [0.1, 0.2, 0.5],\n",
    "    'epochs': [10, 20]\n",
    "}\n",
    "\n",
    "gs_deep = GridSearchCV(nn_deep, param_grid=nn_params_deep, cv=3, n_jobs=-1)\n",
    "gs_deep.fit(X_train_sc, y_train)\n",
    "print(gs_deep.best_params_)\n",
    "gs_deep.best_score_"
   ]
  },
  {
   "cell_type": "code",
   "execution_count": 75,
   "id": "17a7775e",
   "metadata": {},
   "outputs": [],
   "source": [
    "# Make predictions \n",
    "preds_deep = gs_deep.predict(X_test_sc)"
   ]
  },
  {
   "cell_type": "code",
   "execution_count": 76,
   "id": "d8b0215d",
   "metadata": {},
   "outputs": [
    {
     "data": {
      "text/plain": [
       "<tf.Tensor: shape=(2, 2), dtype=int32, numpy=\n",
       "array([[577,   0],\n",
       "       [342,   0]], dtype=int32)>"
      ]
     },
     "execution_count": 76,
     "metadata": {},
     "output_type": "execute_result"
    }
   ],
   "source": [
    "# confusion matrix using Tensorflow\n",
    "tf.math.confusion_matrix(\n",
    "    y_test, preds_deep\n",
    ")"
   ]
  },
  {
   "cell_type": "code",
   "execution_count": 72,
   "id": "572e8c52",
   "metadata": {},
   "outputs": [
    {
     "ename": "ValueError",
     "evalue": "Classification metrics can't handle a mix of binary and continuous targets",
     "output_type": "error",
     "traceback": [
      "\u001b[0;31m---------------------------------------------------------------------------\u001b[0m",
      "\u001b[0;31mValueError\u001b[0m                                Traceback (most recent call last)",
      "\u001b[0;32m<ipython-input-72-2a3fc2b1e50d>\u001b[0m in \u001b[0;36m<module>\u001b[0;34m\u001b[0m\n\u001b[1;32m      1\u001b[0m \u001b[0;31m# classification report\u001b[0m\u001b[0;34m\u001b[0m\u001b[0;34m\u001b[0m\u001b[0;34m\u001b[0m\u001b[0m\n\u001b[0;32m----> 2\u001b[0;31m \u001b[0mprint\u001b[0m\u001b[0;34m(\u001b[0m\u001b[0mclassification_report\u001b[0m\u001b[0;34m(\u001b[0m\u001b[0my_test\u001b[0m\u001b[0;34m,\u001b[0m \u001b[0mpreds_deep\u001b[0m\u001b[0;34m)\u001b[0m\u001b[0;34m)\u001b[0m\u001b[0;34m\u001b[0m\u001b[0;34m\u001b[0m\u001b[0m\n\u001b[0m",
      "\u001b[0;32m~/opt/anaconda3/envs/dsi/lib/python3.8/site-packages/sklearn/utils/validation.py\u001b[0m in \u001b[0;36minner_f\u001b[0;34m(*args, **kwargs)\u001b[0m\n\u001b[1;32m     61\u001b[0m             \u001b[0mextra_args\u001b[0m \u001b[0;34m=\u001b[0m \u001b[0mlen\u001b[0m\u001b[0;34m(\u001b[0m\u001b[0margs\u001b[0m\u001b[0;34m)\u001b[0m \u001b[0;34m-\u001b[0m \u001b[0mlen\u001b[0m\u001b[0;34m(\u001b[0m\u001b[0mall_args\u001b[0m\u001b[0;34m)\u001b[0m\u001b[0;34m\u001b[0m\u001b[0;34m\u001b[0m\u001b[0m\n\u001b[1;32m     62\u001b[0m             \u001b[0;32mif\u001b[0m \u001b[0mextra_args\u001b[0m \u001b[0;34m<=\u001b[0m \u001b[0;36m0\u001b[0m\u001b[0;34m:\u001b[0m\u001b[0;34m\u001b[0m\u001b[0;34m\u001b[0m\u001b[0m\n\u001b[0;32m---> 63\u001b[0;31m                 \u001b[0;32mreturn\u001b[0m \u001b[0mf\u001b[0m\u001b[0;34m(\u001b[0m\u001b[0;34m*\u001b[0m\u001b[0margs\u001b[0m\u001b[0;34m,\u001b[0m \u001b[0;34m**\u001b[0m\u001b[0mkwargs\u001b[0m\u001b[0;34m)\u001b[0m\u001b[0;34m\u001b[0m\u001b[0;34m\u001b[0m\u001b[0m\n\u001b[0m\u001b[1;32m     64\u001b[0m \u001b[0;34m\u001b[0m\u001b[0m\n\u001b[1;32m     65\u001b[0m             \u001b[0;31m# extra_args > 0\u001b[0m\u001b[0;34m\u001b[0m\u001b[0;34m\u001b[0m\u001b[0;34m\u001b[0m\u001b[0m\n",
      "\u001b[0;32m~/opt/anaconda3/envs/dsi/lib/python3.8/site-packages/sklearn/metrics/_classification.py\u001b[0m in \u001b[0;36mclassification_report\u001b[0;34m(y_true, y_pred, labels, target_names, sample_weight, digits, output_dict, zero_division)\u001b[0m\n\u001b[1;32m   1968\u001b[0m     \"\"\"\n\u001b[1;32m   1969\u001b[0m \u001b[0;34m\u001b[0m\u001b[0m\n\u001b[0;32m-> 1970\u001b[0;31m     \u001b[0my_type\u001b[0m\u001b[0;34m,\u001b[0m \u001b[0my_true\u001b[0m\u001b[0;34m,\u001b[0m \u001b[0my_pred\u001b[0m \u001b[0;34m=\u001b[0m \u001b[0m_check_targets\u001b[0m\u001b[0;34m(\u001b[0m\u001b[0my_true\u001b[0m\u001b[0;34m,\u001b[0m \u001b[0my_pred\u001b[0m\u001b[0;34m)\u001b[0m\u001b[0;34m\u001b[0m\u001b[0;34m\u001b[0m\u001b[0m\n\u001b[0m\u001b[1;32m   1971\u001b[0m \u001b[0;34m\u001b[0m\u001b[0m\n\u001b[1;32m   1972\u001b[0m     \u001b[0;32mif\u001b[0m \u001b[0mlabels\u001b[0m \u001b[0;32mis\u001b[0m \u001b[0;32mNone\u001b[0m\u001b[0;34m:\u001b[0m\u001b[0;34m\u001b[0m\u001b[0;34m\u001b[0m\u001b[0m\n",
      "\u001b[0;32m~/opt/anaconda3/envs/dsi/lib/python3.8/site-packages/sklearn/metrics/_classification.py\u001b[0m in \u001b[0;36m_check_targets\u001b[0;34m(y_true, y_pred)\u001b[0m\n\u001b[1;32m     90\u001b[0m \u001b[0;34m\u001b[0m\u001b[0m\n\u001b[1;32m     91\u001b[0m     \u001b[0;32mif\u001b[0m \u001b[0mlen\u001b[0m\u001b[0;34m(\u001b[0m\u001b[0my_type\u001b[0m\u001b[0;34m)\u001b[0m \u001b[0;34m>\u001b[0m \u001b[0;36m1\u001b[0m\u001b[0;34m:\u001b[0m\u001b[0;34m\u001b[0m\u001b[0;34m\u001b[0m\u001b[0m\n\u001b[0;32m---> 92\u001b[0;31m         raise ValueError(\"Classification metrics can't handle a mix of {0} \"\n\u001b[0m\u001b[1;32m     93\u001b[0m                          \"and {1} targets\".format(type_true, type_pred))\n\u001b[1;32m     94\u001b[0m \u001b[0;34m\u001b[0m\u001b[0m\n",
      "\u001b[0;31mValueError\u001b[0m: Classification metrics can't handle a mix of binary and continuous targets"
     ]
    }
   ],
   "source": [
    "# classification report\n",
    "print(classification_report(y_test, preds_deep))"
   ]
  },
  {
   "cell_type": "code",
   "execution_count": 71,
   "id": "da389ac2",
   "metadata": {},
   "outputs": [
    {
     "ename": "AttributeError",
     "evalue": "'GridSearchCV' object has no attribute 'evaluate'",
     "output_type": "error",
     "traceback": [
      "\u001b[0;31m---------------------------------------------------------------------------\u001b[0m",
      "\u001b[0;31mAttributeError\u001b[0m                            Traceback (most recent call last)",
      "\u001b[0;32m<ipython-input-71-47053897dd8a>\u001b[0m in \u001b[0;36m<module>\u001b[0;34m\u001b[0m\n\u001b[1;32m      1\u001b[0m \u001b[0;31m# evaluate\u001b[0m\u001b[0;34m\u001b[0m\u001b[0;34m\u001b[0m\u001b[0;34m\u001b[0m\u001b[0m\n\u001b[0;32m----> 2\u001b[0;31m \u001b[0mgs_deep\u001b[0m\u001b[0;34m.\u001b[0m\u001b[0mevaluate\u001b[0m\u001b[0;34m(\u001b[0m\u001b[0mX_test_sc\u001b[0m\u001b[0;34m,\u001b[0m \u001b[0my_test\u001b[0m\u001b[0;34m,\u001b[0m \u001b[0mverbose\u001b[0m\u001b[0;34m=\u001b[0m\u001b[0;36m2\u001b[0m\u001b[0;34m)\u001b[0m\u001b[0;34m\u001b[0m\u001b[0;34m\u001b[0m\u001b[0m\n\u001b[0m",
      "\u001b[0;31mAttributeError\u001b[0m: 'GridSearchCV' object has no attribute 'evaluate'"
     ]
    }
   ],
   "source": [
    "# evaluate \n",
    "gs_deep.evaluate(X_test_sc, y_test, verbose=2)"
   ]
  },
  {
   "cell_type": "code",
   "execution_count": null,
   "id": "c725d904",
   "metadata": {},
   "outputs": [],
   "source": []
  }
 ],
 "metadata": {
  "kernelspec": {
   "display_name": "Python [conda env:dsi]",
   "language": "python",
   "name": "conda-env-dsi-py"
  },
  "language_info": {
   "codemirror_mode": {
    "name": "ipython",
    "version": 3
   },
   "file_extension": ".py",
   "mimetype": "text/x-python",
   "name": "python",
   "nbconvert_exporter": "python",
   "pygments_lexer": "ipython3",
   "version": "3.8.8"
  }
 },
 "nbformat": 4,
 "nbformat_minor": 5
}
