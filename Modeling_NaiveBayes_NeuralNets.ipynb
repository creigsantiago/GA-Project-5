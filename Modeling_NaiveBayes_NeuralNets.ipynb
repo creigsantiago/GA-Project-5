{
 "cells": [
  {
   "cell_type": "markdown",
   "id": "0b3a5112",
   "metadata": {},
   "source": [
    "## Project 5: WAM News Prediction of  California's Gubernatorial 2021 Election"
   ]
  },
  {
   "cell_type": "markdown",
   "id": "31134d64",
   "metadata": {},
   "source": [
    "## Problem Statement:\n",
    "\n",
    "WAM News is trying to develop an accurate model that predicts the gubernatorial election in California. Using the CCEC Dataset from Harvard University, we would like to build a classification model to accurately classify and predict California’s gubernatorial election preferences. The model will be evaluated based on accuracy, specificity, and recall with the goal of trying to get accuracy above null model."
   ]
  },
  {
   "cell_type": "code",
   "execution_count": 2,
   "id": "b4812e90",
   "metadata": {},
   "outputs": [],
   "source": [
    "# !pip install tensorflow"
   ]
  },
  {
   "cell_type": "code",
   "execution_count": 3,
   "id": "c893ed0b",
   "metadata": {},
   "outputs": [],
   "source": [
    "# import libraries\n",
    "import pandas as pd\n",
    "import numpy as np\n",
    "import matplotlib.pyplot as plt\n",
    "import tensorflow as tf\n",
    "%matplotlib inline\n",
    "# sklearn\n",
    "from sklearn.model_selection import train_test_split, GridSearchCV, cross_val_score\n",
    "from sklearn.preprocessing import StandardScaler\n",
    "from sklearn.metrics import confusion_matrix, plot_confusion_matrix, classification_report\n",
    "from sklearn.naive_bayes import MultinomialNB\n",
    "from sklearn.pipeline import Pipeline\n",
    "from sklearn import metrics\n",
    "# keras\n",
    "from tensorflow.keras.models import Sequential\n",
    "from tensorflow.keras.layers import Dense, Dropout\n",
    "from tensorflow.keras.utils import to_categorical\n",
    "from tensorflow.keras.metrics import Recall\n",
    "from tensorflow.keras.callbacks import EarlyStopping\n",
    "from tensorflow.keras.wrappers.scikit_learn import KerasClassifier"
   ]
  },
  {
   "cell_type": "markdown",
   "id": "8bacc424",
   "metadata": {},
   "source": [
    "## Load Data"
   ]
  },
  {
   "cell_type": "code",
   "execution_count": 4,
   "id": "f29119ab",
   "metadata": {},
   "outputs": [
    {
     "data": {
      "text/html": [
       "<div>\n",
       "<style scoped>\n",
       "    .dataframe tbody tr th:only-of-type {\n",
       "        vertical-align: middle;\n",
       "    }\n",
       "\n",
       "    .dataframe tbody tr th {\n",
       "        vertical-align: top;\n",
       "    }\n",
       "\n",
       "    .dataframe thead th {\n",
       "        text-align: right;\n",
       "    }\n",
       "</style>\n",
       "<table border=\"1\" class=\"dataframe\">\n",
       "  <thead>\n",
       "    <tr style=\"text-align: right;\">\n",
       "      <th></th>\n",
       "      <th>dist</th>\n",
       "      <th>ownhome</th>\n",
       "      <th>pid3</th>\n",
       "      <th>gender</th>\n",
       "      <th>age</th>\n",
       "      <th>educ</th>\n",
       "      <th>race</th>\n",
       "      <th>faminc</th>\n",
       "      <th>marstat</th>\n",
       "      <th>newsint</th>\n",
       "      <th>approval_gov</th>\n",
       "      <th>ideo5</th>\n",
       "      <th>voted_gov</th>\n",
       "    </tr>\n",
       "  </thead>\n",
       "  <tbody>\n",
       "    <tr>\n",
       "      <th>392782</th>\n",
       "      <td>19</td>\n",
       "      <td>Other</td>\n",
       "      <td>Democrat</td>\n",
       "      <td>Female</td>\n",
       "      <td>54</td>\n",
       "      <td>4-Year</td>\n",
       "      <td>White</td>\n",
       "      <td>50k - 60k</td>\n",
       "      <td>Single / Never Married</td>\n",
       "      <td>Most of the time</td>\n",
       "      <td>Strongly Approve</td>\n",
       "      <td>Liberal</td>\n",
       "      <td>1</td>\n",
       "    </tr>\n",
       "    <tr>\n",
       "      <th>392786</th>\n",
       "      <td>52</td>\n",
       "      <td>Rent</td>\n",
       "      <td>Democrat</td>\n",
       "      <td>Female</td>\n",
       "      <td>28</td>\n",
       "      <td>Some College</td>\n",
       "      <td>White</td>\n",
       "      <td>20k - 30k</td>\n",
       "      <td>Single / Never Married</td>\n",
       "      <td>Most of the time</td>\n",
       "      <td>Strongly Approve</td>\n",
       "      <td>Liberal</td>\n",
       "      <td>1</td>\n",
       "    </tr>\n",
       "    <tr>\n",
       "      <th>392800</th>\n",
       "      <td>49</td>\n",
       "      <td>Own</td>\n",
       "      <td>Other</td>\n",
       "      <td>Male</td>\n",
       "      <td>86</td>\n",
       "      <td>Post-Grad</td>\n",
       "      <td>White</td>\n",
       "      <td>120k - 150k</td>\n",
       "      <td>Widowed</td>\n",
       "      <td>Most of the time</td>\n",
       "      <td>Strongly Disapprove</td>\n",
       "      <td>Very Conservative</td>\n",
       "      <td>0</td>\n",
       "    </tr>\n",
       "    <tr>\n",
       "      <th>392832</th>\n",
       "      <td>36</td>\n",
       "      <td>Own</td>\n",
       "      <td>Republican</td>\n",
       "      <td>Male</td>\n",
       "      <td>80</td>\n",
       "      <td>Some College</td>\n",
       "      <td>White</td>\n",
       "      <td>20k - 30k</td>\n",
       "      <td>Widowed</td>\n",
       "      <td>Most of the time</td>\n",
       "      <td>Strongly Disapprove</td>\n",
       "      <td>Conservative</td>\n",
       "      <td>0</td>\n",
       "    </tr>\n",
       "    <tr>\n",
       "      <th>392860</th>\n",
       "      <td>36</td>\n",
       "      <td>Own</td>\n",
       "      <td>Independent</td>\n",
       "      <td>Male</td>\n",
       "      <td>83</td>\n",
       "      <td>4-Year</td>\n",
       "      <td>White</td>\n",
       "      <td>Prefer not to say</td>\n",
       "      <td>Married</td>\n",
       "      <td>Most of the time</td>\n",
       "      <td>Strongly Disapprove</td>\n",
       "      <td>Conservative</td>\n",
       "      <td>0</td>\n",
       "    </tr>\n",
       "  </tbody>\n",
       "</table>\n",
       "</div>"
      ],
      "text/plain": [
       "        dist ownhome         pid3  gender  age          educ   race  \\\n",
       "392782    19   Other     Democrat  Female   54        4-Year  White   \n",
       "392786    52    Rent     Democrat  Female   28  Some College  White   \n",
       "392800    49     Own        Other    Male   86     Post-Grad  White   \n",
       "392832    36     Own   Republican    Male   80  Some College  White   \n",
       "392860    36     Own  Independent    Male   83        4-Year  White   \n",
       "\n",
       "                   faminc                 marstat           newsint  \\\n",
       "392782          50k - 60k  Single / Never Married  Most of the time   \n",
       "392786          20k - 30k  Single / Never Married  Most of the time   \n",
       "392800        120k - 150k                 Widowed  Most of the time   \n",
       "392832          20k - 30k                 Widowed  Most of the time   \n",
       "392860  Prefer not to say                 Married  Most of the time   \n",
       "\n",
       "               approval_gov              ideo5  voted_gov  \n",
       "392782     Strongly Approve            Liberal          1  \n",
       "392786     Strongly Approve            Liberal          1  \n",
       "392800  Strongly Disapprove  Very Conservative          0  \n",
       "392832  Strongly Disapprove       Conservative          0  \n",
       "392860  Strongly Disapprove       Conservative          0  "
      ]
     },
     "execution_count": 4,
     "metadata": {},
     "output_type": "execute_result"
    }
   ],
   "source": [
    "# read data\n",
    "df=pd.read_csv('./data/2018_gov_clean1.csv', index_col=0)\n",
    "df.head()"
   ]
  },
  {
   "cell_type": "code",
   "execution_count": 87,
   "id": "98a6821d",
   "metadata": {},
   "outputs": [
    {
     "name": "stdout",
     "output_type": "stream",
     "text": [
      "<class 'pandas.core.frame.DataFrame'>\n",
      "Int64Index: 3663 entries, 392782 to 452724\n",
      "Data columns (total 13 columns):\n",
      " #   Column        Non-Null Count  Dtype \n",
      "---  ------        --------------  ----- \n",
      " 0   dist          3663 non-null   int64 \n",
      " 1   ownhome       3663 non-null   object\n",
      " 2   pid3          3663 non-null   object\n",
      " 3   gender        3663 non-null   object\n",
      " 4   age           3663 non-null   int64 \n",
      " 5   educ          3663 non-null   object\n",
      " 6   race          3663 non-null   object\n",
      " 7   faminc        3663 non-null   object\n",
      " 8   marstat       3663 non-null   object\n",
      " 9   newsint       3663 non-null   object\n",
      " 10  approval_gov  3663 non-null   object\n",
      " 11  ideo5         3663 non-null   object\n",
      " 12  voted_gov     3663 non-null   int64 \n",
      "dtypes: int64(3), object(10)\n",
      "memory usage: 400.6+ KB\n"
     ]
    }
   ],
   "source": [
    "# check for null values\n",
    "df.info()"
   ]
  },
  {
   "cell_type": "code",
   "execution_count": 5,
   "id": "99c3df6f",
   "metadata": {},
   "outputs": [
    {
     "data": {
      "text/plain": [
       "1    0.624352\n",
       "0    0.375648\n",
       "Name: voted_gov, dtype: float64"
      ]
     },
     "execution_count": 5,
     "metadata": {},
     "output_type": "execute_result"
    }
   ],
   "source": [
    "# baseline accuracy\n",
    "df.voted_gov.value_counts(normalize=True)"
   ]
  },
  {
   "cell_type": "markdown",
   "id": "a4c4a07e",
   "metadata": {},
   "source": [
    "# Modeling"
   ]
  },
  {
   "cell_type": "code",
   "execution_count": 6,
   "id": "e147bcf4",
   "metadata": {},
   "outputs": [],
   "source": [
    "# set up X and y\n",
    "X = df.drop(columns =['voted_gov'])\n",
    "y = df['voted_gov']"
   ]
  },
  {
   "cell_type": "code",
   "execution_count": 7,
   "id": "afc6deaa",
   "metadata": {},
   "outputs": [],
   "source": [
    "# dummify X variable\n",
    "X = pd.get_dummies(X, drop_first=True)"
   ]
  },
  {
   "cell_type": "code",
   "execution_count": 130,
   "id": "741c48da",
   "metadata": {},
   "outputs": [
    {
     "data": {
      "text/plain": [
       "(3663, 51)"
      ]
     },
     "execution_count": 130,
     "metadata": {},
     "output_type": "execute_result"
    }
   ],
   "source": [
    "# checkout X shape\n",
    "X.shape"
   ]
  },
  {
   "cell_type": "code",
   "execution_count": 131,
   "id": "ab145807",
   "metadata": {},
   "outputs": [],
   "source": [
    "# check if shape of X = y\n",
    "assert X.shape[0]==y.shape[0]"
   ]
  },
  {
   "cell_type": "markdown",
   "id": "5920976e",
   "metadata": {},
   "source": [
    "### Null model"
   ]
  },
  {
   "cell_type": "markdown",
   "id": "70aa55e2",
   "metadata": {},
   "source": [
    "- For classification problems, we build our null model based on the most frequent value in the train data. We would use the shape of X_test to create array which will be predictions from the null model. "
   ]
  },
  {
   "cell_type": "code",
   "execution_count": 55,
   "id": "9eecf7e7",
   "metadata": {},
   "outputs": [
    {
     "data": {
      "text/plain": [
       "(916, 51)"
      ]
     },
     "execution_count": 55,
     "metadata": {},
     "output_type": "execute_result"
    }
   ],
   "source": [
    "# checkout X_test shape\n",
    "X_test.shape"
   ]
  },
  {
   "cell_type": "code",
   "execution_count": 56,
   "id": "4403486e",
   "metadata": {
    "scrolled": true
   },
   "outputs": [
    {
     "data": {
      "text/plain": [
       "1    0.624317\n",
       "0    0.375683\n",
       "Name: voted_gov, dtype: float64"
      ]
     },
     "execution_count": 56,
     "metadata": {},
     "output_type": "execute_result"
    }
   ],
   "source": [
    "# which one is the most frequent value?\n",
    "y_train.value_counts(normalize=True)"
   ]
  },
  {
   "cell_type": "code",
   "execution_count": 59,
   "id": "165b5b05",
   "metadata": {},
   "outputs": [
    {
     "data": {
      "text/plain": [
       "array([0., 0., 0., 0., 0.])"
      ]
     },
     "execution_count": 59,
     "metadata": {},
     "output_type": "execute_result"
    }
   ],
   "source": [
    "# create an array of the most frequent value with number of rows equal to test data\n",
    "# (this will be our null model predictions)\n",
    "y_hat = np.zeros(916)\n",
    "y_hat[:5]"
   ]
  },
  {
   "cell_type": "code",
   "execution_count": 60,
   "id": "6ee6c005",
   "metadata": {
    "scrolled": true
   },
   "outputs": [
    {
     "name": "stdout",
     "output_type": "stream",
     "text": [
      "              precision    recall  f1-score   support\n",
      "\n",
      "           0       0.38      1.00      0.55       344\n",
      "           1       0.00      0.00      0.00       572\n",
      "\n",
      "    accuracy                           0.38       916\n",
      "   macro avg       0.19      0.50      0.27       916\n",
      "weighted avg       0.14      0.38      0.21       916\n",
      "\n"
     ]
    },
    {
     "name": "stderr",
     "output_type": "stream",
     "text": [
      "/Users/mekdeswassie/opt/anaconda3/envs/dsi/lib/python3.8/site-packages/sklearn/metrics/_classification.py:1248: UndefinedMetricWarning: Precision and F-score are ill-defined and being set to 0.0 in labels with no predicted samples. Use `zero_division` parameter to control this behavior.\n",
      "  _warn_prf(average, modifier, msg_start, len(result))\n",
      "/Users/mekdeswassie/opt/anaconda3/envs/dsi/lib/python3.8/site-packages/sklearn/metrics/_classification.py:1248: UndefinedMetricWarning: Precision and F-score are ill-defined and being set to 0.0 in labels with no predicted samples. Use `zero_division` parameter to control this behavior.\n",
      "  _warn_prf(average, modifier, msg_start, len(result))\n",
      "/Users/mekdeswassie/opt/anaconda3/envs/dsi/lib/python3.8/site-packages/sklearn/metrics/_classification.py:1248: UndefinedMetricWarning: Precision and F-score are ill-defined and being set to 0.0 in labels with no predicted samples. Use `zero_division` parameter to control this behavior.\n",
      "  _warn_prf(average, modifier, msg_start, len(result))\n"
     ]
    }
   ],
   "source": [
    "# classification report for the null model\n",
    "print(classification_report(y_test, y_hat))"
   ]
  },
  {
   "cell_type": "markdown",
   "id": "89f97edd",
   "metadata": {},
   "source": [
    "Our null model accuracy is 38%."
   ]
  },
  {
   "cell_type": "markdown",
   "id": "097d1e9c",
   "metadata": {},
   "source": [
    "### 1. Multinomial Naive Bayes"
   ]
  },
  {
   "cell_type": "code",
   "execution_count": 97,
   "id": "5d89e3c6",
   "metadata": {},
   "outputs": [],
   "source": [
    "# split the data\n",
    "X_train, X_test, y_train, y_test = train_test_split(X, y, random_state=42, stratify=y)"
   ]
  },
  {
   "cell_type": "code",
   "execution_count": 98,
   "id": "d9f6267e",
   "metadata": {},
   "outputs": [
    {
     "data": {
      "text/plain": [
       "MultinomialNB()"
      ]
     },
     "execution_count": 98,
     "metadata": {},
     "output_type": "execute_result"
    }
   ],
   "source": [
    "# instantiate and fit NB\n",
    "nb = MultinomialNB()\n",
    "nb.fit(X_train, y_train)"
   ]
  },
  {
   "cell_type": "code",
   "execution_count": 99,
   "id": "5dd2cc27",
   "metadata": {},
   "outputs": [
    {
     "data": {
      "text/plain": [
       "0.8926047358834243"
      ]
     },
     "execution_count": 99,
     "metadata": {},
     "output_type": "execute_result"
    }
   ],
   "source": [
    "cross_val_score(nb, X_train, y_train, cv=5).mean()"
   ]
  },
  {
   "cell_type": "code",
   "execution_count": 91,
   "id": "e3b26a38",
   "metadata": {},
   "outputs": [],
   "source": [
    "# make predictions \n",
    "y_pred_nb = nb.predict(X_test)\n",
    "\n",
    "# save confusion matrix values\n",
    "tn, fp, fn, tp = confusion_matrix(y_test, y_pred_nb).ravel()"
   ]
  },
  {
   "cell_type": "code",
   "execution_count": 92,
   "id": "93aa10a6",
   "metadata": {
    "scrolled": true
   },
   "outputs": [
    {
     "data": {
      "image/png": "[encoded data removed]",
      "text/plain": [
       "<Figure size 432x288 with 2 Axes>"
      ]
     },
     "metadata": {
      "needs_background": "light"
     },
     "output_type": "display_data"
    }
   ],
   "source": [
    "# plot a confusion matrix\n",
    "plot_confusion_matrix(nb, X_test, y_test, cmap='BuPu', values_format='d');"
   ]
  },
  {
   "cell_type": "code",
   "execution_count": 93,
   "id": "5fc0912d",
   "metadata": {},
   "outputs": [
    {
     "name": "stdout",
     "output_type": "stream",
     "text": [
      "Accuracy: 0.8875545851528385\n",
      "Recall: 0.9108391608391608\n",
      "Precision: 0.9092495636998255\n"
     ]
    }
   ],
   "source": [
    "# sensitivity and accuracy\n",
    "accu = (tp+tn) / (tp+tn+fp+fn)\n",
    "recall = tp/(tp+fn)\n",
    "prec = tp/ (tp+fp)\n",
    "\n",
    "print('Accuracy:', accu)\n",
    "print('Recall:', recall)\n",
    "print('Precision:', prec)"
   ]
  },
  {
   "cell_type": "code",
   "execution_count": 94,
   "id": "a6b40cd5",
   "metadata": {},
   "outputs": [
    {
     "name": "stdout",
     "output_type": "stream",
     "text": [
      "Accuracy on train data: 0.896614488532945\n",
      "Accuracy on test data: 0.8875545851528385\n"
     ]
    }
   ],
   "source": [
    "# accuracy on test Vs train data\n",
    "print('Accuracy on train data:', nb.score(X_train, y_train))\n",
    "print('Accuracy on test data:', nb.score(X_test, y_test))"
   ]
  },
  {
   "cell_type": "code",
   "execution_count": 96,
   "id": "361d3c61",
   "metadata": {},
   "outputs": [
    {
     "name": "stdout",
     "output_type": "stream",
     "text": [
      "              precision    recall  f1-score   support\n",
      "\n",
      "           0       0.85      0.85      0.85       344\n",
      "           1       0.91      0.91      0.91       572\n",
      "\n",
      "    accuracy                           0.89       916\n",
      "   macro avg       0.88      0.88      0.88       916\n",
      "weighted avg       0.89      0.89      0.89       916\n",
      "\n"
     ]
    }
   ],
   "source": [
    "# classification report\n",
    "print(classification_report(y_test, y_pred_nb))"
   ]
  },
  {
   "cell_type": "markdown",
   "id": "ddd37f3e",
   "metadata": {},
   "source": [
    "#### Multinomial Naive Bayes:\n",
    "- 88.8% accuracy, \n",
    "- precision of 91% and \n",
    "- recall of 91%. \n",
    "\n",
    "It improved the null model accuracy of 38%.\n",
    "\n",
    "Its accuracy on train data is 89.7% with test data accuracy of 88.8%. Hence, model is not overfit or underfit, its in the sweet spot."
   ]
  },
  {
   "cell_type": "markdown",
   "id": "922e23d2",
   "metadata": {},
   "source": [
    "### GridSearch"
   ]
  },
  {
   "cell_type": "code",
   "execution_count": 121,
   "id": "a100d247",
   "metadata": {},
   "outputs": [],
   "source": [
    "X_train, X_test, y_train, y_test = train_test_split(X, y, stratify=y, random_state=42)"
   ]
  },
  {
   "cell_type": "code",
   "execution_count": 122,
   "id": "68ba079e",
   "metadata": {},
   "outputs": [],
   "source": [
    "# scale data\n",
    "sc = StandardScaler()\n",
    "X_train_sc = sc.fit_transform(X_train)\n",
    "X_test_sc = sc.transform(X_test)"
   ]
  },
  {
   "cell_type": "code",
   "execution_count": 136,
   "id": "931f11ec",
   "metadata": {},
   "outputs": [
    {
     "name": "stdout",
     "output_type": "stream",
     "text": [
      "Epoch 00014: early stopping\n",
      "{'batch_size': 80, 'epochs': 100}\n"
     ]
    },
    {
     "data": {
      "text/plain": [
       "0.9260990619659424"
      ]
     },
     "execution_count": 136,
     "metadata": {},
     "output_type": "execute_result"
    }
   ],
   "source": [
    "# Function to create model, required for KerasClassifier\n",
    "def create_model():\n",
    "    # create model\n",
    "    model = Sequential()\n",
    "    model.add(Dense(32, input_shape=(51,), activation='relu'))\n",
    "    model.add(Dense(32, activation='relu'))\n",
    "    model.add(Dense(1, activation='sigmoid')) \n",
    "    # Compile model\n",
    "    model.compile(loss='binary_crossentropy', optimizer='adam', metrics=['accuracy'])\n",
    "    return model\n",
    "\n",
    "# fix random seed for reproducibility\n",
    "seed = 7\n",
    "np.random.seed(seed)\n",
    "# early stopping\n",
    "early_stop = EarlyStopping(monitor='val_loss', patience=5, verbose=1)\n",
    "# create model\n",
    "model = KerasClassifier(build_fn=create_model, verbose=0)\n",
    "\n",
    "# define the grid search parameters\n",
    "params_grid = {\n",
    "    'batch_size': [10, 20, 40, 60, 80, 100],\n",
    "    'epochs': [10, 50, 100],\n",
    "}\n",
    "\n",
    "gs_deep = GridSearchCV(model, param_grid=params_grid, cv=3, n_jobs=-1)\n",
    "gs_deep.fit(\n",
    "    X_train_sc, \n",
    "    y_train, \n",
    "    callbacks=early_stop, \n",
    "    validation_data=(X_test_sc, y_test))\n",
    "print(gs_deep.best_params_)\n",
    "gs_deep.best_score_\n"
   ]
  },
  {
   "cell_type": "code",
   "execution_count": 142,
   "id": "6c679556",
   "metadata": {},
   "outputs": [],
   "source": [
    "# Make predictions \n",
    "preds_deep = gs_deep.predict(X_test_sc)"
   ]
  },
  {
   "cell_type": "code",
   "execution_count": 143,
   "id": "a09f398b",
   "metadata": {},
   "outputs": [
    {
     "name": "stdout",
     "output_type": "stream",
     "text": [
      "              precision    recall  f1-score   support\n",
      "\n",
      "           0       0.92      0.90      0.91       344\n",
      "           1       0.94      0.95      0.95       572\n",
      "\n",
      "    accuracy                           0.93       916\n",
      "   macro avg       0.93      0.92      0.93       916\n",
      "weighted avg       0.93      0.93      0.93       916\n",
      "\n"
     ]
    }
   ],
   "source": [
    "# classification report\n",
    "print(classification_report(y_test, preds_deep))"
   ]
  },
  {
   "cell_type": "markdown",
   "id": "5002b628",
   "metadata": {},
   "source": [
    "### 2. Neural Net Classification - Early stopping"
   ]
  },
  {
   "cell_type": "code",
   "execution_count": 45,
   "id": "4bfa3a98",
   "metadata": {},
   "outputs": [],
   "source": [
    "# set a random seed\n",
    "tf.random.set_seed(1234)"
   ]
  },
  {
   "cell_type": "code",
   "execution_count": 46,
   "id": "a65d07cc",
   "metadata": {},
   "outputs": [],
   "source": [
    "# split data\n",
    "X_train, X_test, y_train, y_test = train_test_split(X, y, stratify=y, random_state=42)"
   ]
  },
  {
   "cell_type": "code",
   "execution_count": 47,
   "id": "88321e9e",
   "metadata": {},
   "outputs": [],
   "source": [
    "# scale data\n",
    "sc = StandardScaler()\n",
    "X_train_sc = sc.fit_transform(X_train)\n",
    "X_test_sc = sc.transform(X_test)"
   ]
  },
  {
   "cell_type": "code",
   "execution_count": 48,
   "id": "322798e4",
   "metadata": {},
   "outputs": [],
   "source": [
    "# create model with one hidden layer\n",
    "model_nn1 = Sequential()\n",
    "model_nn1.add(Dense(32, input_shape=(X_train_sc.shape[1],), activation='relu'))\n",
    "model_nn1.add(Dense(1, activation='sigmoid'))"
   ]
  },
  {
   "cell_type": "code",
   "execution_count": 49,
   "id": "936d8e01",
   "metadata": {
    "scrolled": true
   },
   "outputs": [
    {
     "name": "stdout",
     "output_type": "stream",
     "text": [
      "Model: \"sequential_2\"\n",
      "_________________________________________________________________\n",
      "Layer (type)                 Output Shape              Param #   \n",
      "=================================================================\n",
      "dense_6 (Dense)              (None, 32)                1664      \n",
      "_________________________________________________________________\n",
      "dense_7 (Dense)              (None, 1)                 33        \n",
      "=================================================================\n",
      "Total params: 1,697\n",
      "Trainable params: 1,697\n",
      "Non-trainable params: 0\n",
      "_________________________________________________________________\n"
     ]
    }
   ],
   "source": [
    "model_nn1.summary()"
   ]
  },
  {
   "cell_type": "code",
   "execution_count": 50,
   "id": "c5b9e1df",
   "metadata": {},
   "outputs": [],
   "source": [
    "# Compile it\n",
    "model_nn1.compile(loss='bce', optimizer='adam', metrics=['Accuracy', 'Recall', 'Precision'])"
   ]
  },
  {
   "cell_type": "code",
   "execution_count": 51,
   "id": "fa8a2180",
   "metadata": {},
   "outputs": [],
   "source": [
    "# set early stopping\n",
    "early_stop = EarlyStopping(monitor='val_loss', patience=5, verbose=1)"
   ]
  },
  {
   "cell_type": "code",
   "execution_count": 52,
   "id": "56afff43",
   "metadata": {},
   "outputs": [
    {
     "name": "stdout",
     "output_type": "stream",
     "text": [
      "Epoch 1/100\n",
      "86/86 - 1s - loss: 0.5085 - Accuracy: 0.7856 - recall: 0.9096 - precision: 0.7823 - val_loss: 0.3775 - val_Accuracy: 0.8821 - val_recall: 0.9458 - val_precision: 0.8754\n",
      "Epoch 2/100\n",
      "86/86 - 0s - loss: 0.2941 - Accuracy: 0.9090 - recall: 0.9481 - precision: 0.9099 - val_loss: 0.2637 - val_Accuracy: 0.9214 - val_recall: 0.9580 - val_precision: 0.9195\n",
      "Epoch 3/100\n",
      "86/86 - 0s - loss: 0.2176 - Accuracy: 0.9276 - recall: 0.9592 - precision: 0.9273 - val_loss: 0.2219 - val_Accuracy: 0.9181 - val_recall: 0.9493 - val_precision: 0.9219\n",
      "Epoch 4/100\n",
      "86/86 - 0s - loss: 0.1852 - Accuracy: 0.9319 - recall: 0.9580 - precision: 0.9346 - val_loss: 0.2062 - val_Accuracy: 0.9236 - val_recall: 0.9493 - val_precision: 0.9298\n",
      "Epoch 5/100\n",
      "86/86 - 0s - loss: 0.1689 - Accuracy: 0.9367 - recall: 0.9633 - precision: 0.9370 - val_loss: 0.1987 - val_Accuracy: 0.9247 - val_recall: 0.9423 - val_precision: 0.9374\n",
      "Epoch 6/100\n",
      "86/86 - 0s - loss: 0.1592 - Accuracy: 0.9367 - recall: 0.9574 - precision: 0.9421 - val_loss: 0.1962 - val_Accuracy: 0.9269 - val_recall: 0.9493 - val_precision: 0.9346\n",
      "Epoch 7/100\n",
      "86/86 - 0s - loss: 0.1509 - Accuracy: 0.9407 - recall: 0.9638 - precision: 0.9424 - val_loss: 0.1933 - val_Accuracy: 0.9269 - val_recall: 0.9423 - val_precision: 0.9407\n",
      "Epoch 8/100\n",
      "86/86 - 0s - loss: 0.1453 - Accuracy: 0.9428 - recall: 0.9633 - precision: 0.9462 - val_loss: 0.1928 - val_Accuracy: 0.9312 - val_recall: 0.9493 - val_precision: 0.9411\n",
      "Epoch 9/100\n",
      "86/86 - 0s - loss: 0.1403 - Accuracy: 0.9421 - recall: 0.9644 - precision: 0.9441 - val_loss: 0.1917 - val_Accuracy: 0.9312 - val_recall: 0.9458 - val_precision: 0.9442\n",
      "Epoch 10/100\n",
      "86/86 - 0s - loss: 0.1358 - Accuracy: 0.9454 - recall: 0.9662 - precision: 0.9474 - val_loss: 0.1916 - val_Accuracy: 0.9345 - val_recall: 0.9528 - val_precision: 0.9429\n",
      "Epoch 11/100\n",
      "86/86 - 0s - loss: 0.1322 - Accuracy: 0.9479 - recall: 0.9685 - precision: 0.9491 - val_loss: 0.1916 - val_Accuracy: 0.9345 - val_recall: 0.9545 - val_precision: 0.9414\n",
      "Epoch 12/100\n",
      "86/86 - 0s - loss: 0.1290 - Accuracy: 0.9476 - recall: 0.9662 - precision: 0.9507 - val_loss: 0.1934 - val_Accuracy: 0.9345 - val_recall: 0.9563 - val_precision: 0.9399\n",
      "Epoch 13/100\n",
      "86/86 - 0s - loss: 0.1255 - Accuracy: 0.9512 - recall: 0.9708 - precision: 0.9520 - val_loss: 0.1931 - val_Accuracy: 0.9323 - val_recall: 0.9476 - val_precision: 0.9443\n",
      "Epoch 14/100\n",
      "86/86 - 0s - loss: 0.1222 - Accuracy: 0.9512 - recall: 0.9703 - precision: 0.9525 - val_loss: 0.1936 - val_Accuracy: 0.9301 - val_recall: 0.9493 - val_precision: 0.9394\n",
      "Epoch 15/100\n",
      "86/86 - 0s - loss: 0.1200 - Accuracy: 0.9530 - recall: 0.9703 - precision: 0.9552 - val_loss: 0.1932 - val_Accuracy: 0.9367 - val_recall: 0.9563 - val_precision: 0.9431\n",
      "Epoch 00015: early stopping\n"
     ]
    }
   ],
   "source": [
    "# fit model\n",
    "history = model_nn1.fit(\n",
    "    X_train_sc, y_train, \n",
    "    validation_data=(X_test_sc, y_test), \n",
    "    epochs=100, \n",
    "    callbacks=[early_stop], \n",
    "    verbose=2,\n",
    "    batch_size=32\n",
    ")"
   ]
  },
  {
   "cell_type": "code",
   "execution_count": 53,
   "id": "a6ad831d",
   "metadata": {},
   "outputs": [
    {
     "data": {
      "text/html": [
       "<div>\n",
       "<style scoped>\n",
       "    .dataframe tbody tr th:only-of-type {\n",
       "        vertical-align: middle;\n",
       "    }\n",
       "\n",
       "    .dataframe tbody tr th {\n",
       "        vertical-align: top;\n",
       "    }\n",
       "\n",
       "    .dataframe thead th {\n",
       "        text-align: right;\n",
       "    }\n",
       "</style>\n",
       "<table border=\"1\" class=\"dataframe\">\n",
       "  <thead>\n",
       "    <tr style=\"text-align: right;\">\n",
       "      <th></th>\n",
       "      <th>loss</th>\n",
       "      <th>Accuracy</th>\n",
       "      <th>recall</th>\n",
       "      <th>precision</th>\n",
       "      <th>val_loss</th>\n",
       "      <th>val_Accuracy</th>\n",
       "      <th>val_recall</th>\n",
       "      <th>val_precision</th>\n",
       "    </tr>\n",
       "  </thead>\n",
       "  <tbody>\n",
       "    <tr>\n",
       "      <th>0</th>\n",
       "      <td>0.508476</td>\n",
       "      <td>0.785584</td>\n",
       "      <td>0.909621</td>\n",
       "      <td>0.782347</td>\n",
       "      <td>0.377455</td>\n",
       "      <td>0.882096</td>\n",
       "      <td>0.945804</td>\n",
       "      <td>0.875405</td>\n",
       "    </tr>\n",
       "    <tr>\n",
       "      <th>1</th>\n",
       "      <td>0.294056</td>\n",
       "      <td>0.908992</td>\n",
       "      <td>0.948105</td>\n",
       "      <td>0.909905</td>\n",
       "      <td>0.263650</td>\n",
       "      <td>0.921397</td>\n",
       "      <td>0.958042</td>\n",
       "      <td>0.919463</td>\n",
       "    </tr>\n",
       "    <tr>\n",
       "      <th>2</th>\n",
       "      <td>0.217605</td>\n",
       "      <td>0.927557</td>\n",
       "      <td>0.959184</td>\n",
       "      <td>0.927283</td>\n",
       "      <td>0.221949</td>\n",
       "      <td>0.918122</td>\n",
       "      <td>0.949301</td>\n",
       "      <td>0.921902</td>\n",
       "    </tr>\n",
       "    <tr>\n",
       "      <th>3</th>\n",
       "      <td>0.185162</td>\n",
       "      <td>0.931926</td>\n",
       "      <td>0.958017</td>\n",
       "      <td>0.934585</td>\n",
       "      <td>0.206239</td>\n",
       "      <td>0.923581</td>\n",
       "      <td>0.949301</td>\n",
       "      <td>0.929795</td>\n",
       "    </tr>\n",
       "    <tr>\n",
       "      <th>4</th>\n",
       "      <td>0.168870</td>\n",
       "      <td>0.936658</td>\n",
       "      <td>0.963265</td>\n",
       "      <td>0.937039</td>\n",
       "      <td>0.198711</td>\n",
       "      <td>0.924672</td>\n",
       "      <td>0.942308</td>\n",
       "      <td>0.937391</td>\n",
       "    </tr>\n",
       "  </tbody>\n",
       "</table>\n",
       "</div>"
      ],
      "text/plain": [
       "       loss  Accuracy    recall  precision  val_loss  val_Accuracy  \\\n",
       "0  0.508476  0.785584  0.909621   0.782347  0.377455      0.882096   \n",
       "1  0.294056  0.908992  0.948105   0.909905  0.263650      0.921397   \n",
       "2  0.217605  0.927557  0.959184   0.927283  0.221949      0.918122   \n",
       "3  0.185162  0.931926  0.958017   0.934585  0.206239      0.923581   \n",
       "4  0.168870  0.936658  0.963265   0.937039  0.198711      0.924672   \n",
       "\n",
       "   val_recall  val_precision  \n",
       "0    0.945804       0.875405  \n",
       "1    0.958042       0.919463  \n",
       "2    0.949301       0.921902  \n",
       "3    0.949301       0.929795  \n",
       "4    0.942308       0.937391  "
      ]
     },
     "execution_count": 53,
     "metadata": {},
     "output_type": "execute_result"
    }
   ],
   "source": [
    "# save history into a df\n",
    "history_df = pd.DataFrame(history.history)\n",
    "history_df.head()"
   ]
  },
  {
   "cell_type": "code",
   "execution_count": 54,
   "id": "8ae523a2",
   "metadata": {},
   "outputs": [
    {
     "data": {
      "image/png": "[encoded data removed]",
      "text/plain": [
       "<Figure size 1440x504 with 3 Axes>"
      ]
     },
     "metadata": {
      "needs_background": "light"
     },
     "output_type": "display_data"
    }
   ],
   "source": [
    "# subplots of accuracy, precision and recall\n",
    "fig, (ax1, ax2, ax3) = plt.subplots(nrows = 1, ncols=3, figsize = (20, 7))\n",
    "fig.suptitle('Accuracy, Precision and Recall Plot of Neural Net Model')\n",
    "\n",
    "# axis 1\n",
    "ax1.plot(history_df['val_Accuracy'], label='Validation Accuracy', color='green')\n",
    "ax1.plot(history_df['Accuracy'], label='Training Accuracy', color='orange')\n",
    "ax1.legend(loc=\"upper left\")\n",
    "# axis 2\n",
    "ax2.plot(history_df['val_precision'], label='Validation Precision', color='green')\n",
    "ax2.plot(history_df['precision'], label='Training Precision', color='orange')\n",
    "ax2.legend(loc=\"upper left\")\n",
    "#axis3\n",
    "ax3.plot(history_df['val_recall'], label='Validation Recall', color='green')\n",
    "ax3.plot(history_df['recall'], label='Training Recall', color='orange')\n",
    "ax3.legend(loc=\"upper right\")\n",
    "\n",
    "plt.legend();"
   ]
  },
  {
   "cell_type": "markdown",
   "id": "7b152b19",
   "metadata": {},
   "source": [
    "The plots show that this model with one hidden layer and early stopping is slightly overfit. "
   ]
  },
  {
   "cell_type": "code",
   "execution_count": 150,
   "id": "ab0afb64",
   "metadata": {},
   "outputs": [
    {
     "name": "stdout",
     "output_type": "stream",
     "text": [
      "29/29 - 0s - loss: 0.1932 - Accuracy: 0.9367 - recall: 0.9563 - precision: 0.9431\n"
     ]
    },
    {
     "data": {
      "text/plain": [
       "[0.19315281510353088,\n",
       " 0.9366812109947205,\n",
       " 0.9562937021255493,\n",
       " 0.9431034326553345]"
      ]
     },
     "execution_count": 150,
     "metadata": {},
     "output_type": "execute_result"
    }
   ],
   "source": [
    "# evaluate model\n",
    "model_nn1.evaluate(X_test_sc, y_test, verbose=2)"
   ]
  },
  {
   "cell_type": "code",
   "execution_count": 151,
   "id": "051528a7",
   "metadata": {},
   "outputs": [
    {
     "data": {
      "text/plain": [
       "array([[0.7275185 ],\n",
       "       [0.7263742 ],\n",
       "       [0.00120929],\n",
       "       [0.9989493 ],\n",
       "       [0.47994626],\n",
       "       [0.98545134],\n",
       "       [0.9997022 ],\n",
       "       [0.9999677 ],\n",
       "       [0.01875579],\n",
       "       [0.99897414]], dtype=float32)"
      ]
     },
     "execution_count": 151,
     "metadata": {},
     "output_type": "execute_result"
    }
   ],
   "source": [
    "# make predictions\n",
    "y_pred_nn1=model_nn1.predict(X_test_sc)\n",
    "y_pred_nn1[:10]"
   ]
  },
  {
   "cell_type": "code",
   "execution_count": 152,
   "id": "f3b00a26",
   "metadata": {},
   "outputs": [
    {
     "data": {
      "text/plain": [
       "array([[1.],\n",
       "       [1.],\n",
       "       [0.],\n",
       "       [1.],\n",
       "       [0.],\n",
       "       [1.],\n",
       "       [1.],\n",
       "       [1.],\n",
       "       [0.],\n",
       "       [1.]], dtype=float32)"
      ]
     },
     "execution_count": 152,
     "metadata": {},
     "output_type": "execute_result"
    }
   ],
   "source": [
    "# round predicted values\n",
    "y_pred_nn1 =y_pred_nn1.round()\n",
    "y_pred_nn1[:10]"
   ]
  },
  {
   "cell_type": "code",
   "execution_count": 153,
   "id": "89dbc1f3",
   "metadata": {},
   "outputs": [
    {
     "data": {
      "text/plain": [
       "<tf.Tensor: shape=(2, 2), dtype=int32, numpy=\n",
       "array([[311,  33],\n",
       "       [ 25, 547]], dtype=int32)>"
      ]
     },
     "execution_count": 153,
     "metadata": {},
     "output_type": "execute_result"
    }
   ],
   "source": [
    "# confusion matrix using Tensorflow\n",
    "tf.math.confusion_matrix(\n",
    "    y_test, y_pred_nn1\n",
    ")"
   ]
  },
  {
   "cell_type": "code",
   "execution_count": 154,
   "id": "c2e2d9e7",
   "metadata": {
    "scrolled": true
   },
   "outputs": [
    {
     "name": "stdout",
     "output_type": "stream",
     "text": [
      "              precision    recall  f1-score   support\n",
      "\n",
      "           0       0.93      0.90      0.91       344\n",
      "           1       0.94      0.96      0.95       572\n",
      "\n",
      "    accuracy                           0.94       916\n",
      "   macro avg       0.93      0.93      0.93       916\n",
      "weighted avg       0.94      0.94      0.94       916\n",
      "\n"
     ]
    }
   ],
   "source": [
    "# classification report\n",
    "print(classification_report(y_test, y_pred_nn1))"
   ]
  },
  {
   "cell_type": "markdown",
   "id": "b0a11c7a",
   "metadata": {},
   "source": [
    "On test data: \n",
    "- accuracy: 0.9108 \n",
    "- recall: 0.8667 \n",
    "- precision: 0.8925\n",
    "\n",
    "On train data:\n",
    "- accuracy: 0.9373 \n",
    "- recall: 0.8888 \n",
    "- precision: 0.9406\n",
    "\n",
    "This model has an accuracy of 91% which improved the null model accuracy of 38%.  "
   ]
  },
  {
   "cell_type": "markdown",
   "id": "c022dfdb",
   "metadata": {},
   "source": [
    "### 3. Neural Net Classification - 2 hidden layers & dropout"
   ]
  },
  {
   "cell_type": "code",
   "execution_count": 61,
   "id": "c370b0af",
   "metadata": {},
   "outputs": [],
   "source": [
    "X_train, X_test, y_train, y_test = train_test_split(X, y, stratify=y, random_state=42)"
   ]
  },
  {
   "cell_type": "code",
   "execution_count": 62,
   "id": "84a603a3",
   "metadata": {},
   "outputs": [],
   "source": [
    "# scale data\n",
    "sc = StandardScaler()\n",
    "X_train_sc = sc.fit_transform(X_train)\n",
    "X_test_sc = sc.transform(X_test)"
   ]
  },
  {
   "cell_type": "code",
   "execution_count": 63,
   "id": "496637e6",
   "metadata": {},
   "outputs": [],
   "source": [
    "model_nn2 = Sequential()"
   ]
  },
  {
   "cell_type": "code",
   "execution_count": 64,
   "id": "c31f42b7",
   "metadata": {},
   "outputs": [],
   "source": [
    "# create model\n",
    "model_nn2.add(Dense(32, input_shape=(X_train_sc.shape[1],), activation='relu'))\n",
    "model_nn2.add(Dropout(0.2))\n",
    "model_nn2.add(Dense(10, activation='relu'))\n",
    "model_nn2.add(Dropout(0.2))\n",
    "model_nn2.add(Dense(1, activation='sigmoid'))"
   ]
  },
  {
   "cell_type": "code",
   "execution_count": 65,
   "id": "28b2737c",
   "metadata": {},
   "outputs": [],
   "source": [
    "# compile model\n",
    "model_nn2.compile(loss='bce', optimizer ='adam', metrics = ['Accuracy', 'Recall', 'Precision'])"
   ]
  },
  {
   "cell_type": "code",
   "execution_count": 66,
   "id": "40907c9a",
   "metadata": {},
   "outputs": [],
   "source": [
    "# fit model\n",
    "history_2 = model_nn2.fit(\n",
    "    X_train_sc,\n",
    "    y_train,\n",
    "    validation_data=(X_test_sc, y_test),\n",
    "    epochs=100,\n",
    "    verbose=0\n",
    ")"
   ]
  },
  {
   "cell_type": "code",
   "execution_count": 67,
   "id": "e9195847",
   "metadata": {
    "scrolled": false
   },
   "outputs": [
    {
     "data": {
      "text/html": [
       "<div>\n",
       "<style scoped>\n",
       "    .dataframe tbody tr th:only-of-type {\n",
       "        vertical-align: middle;\n",
       "    }\n",
       "\n",
       "    .dataframe tbody tr th {\n",
       "        vertical-align: top;\n",
       "    }\n",
       "\n",
       "    .dataframe thead th {\n",
       "        text-align: right;\n",
       "    }\n",
       "</style>\n",
       "<table border=\"1\" class=\"dataframe\">\n",
       "  <thead>\n",
       "    <tr style=\"text-align: right;\">\n",
       "      <th></th>\n",
       "      <th>loss</th>\n",
       "      <th>Accuracy</th>\n",
       "      <th>recall</th>\n",
       "      <th>precision</th>\n",
       "      <th>val_loss</th>\n",
       "      <th>val_Accuracy</th>\n",
       "      <th>val_recall</th>\n",
       "      <th>val_precision</th>\n",
       "    </tr>\n",
       "  </thead>\n",
       "  <tbody>\n",
       "    <tr>\n",
       "      <th>0</th>\n",
       "      <td>0.695043</td>\n",
       "      <td>0.586094</td>\n",
       "      <td>0.606997</td>\n",
       "      <td>0.692154</td>\n",
       "      <td>0.579397</td>\n",
       "      <td>0.751092</td>\n",
       "      <td>0.903846</td>\n",
       "      <td>0.749275</td>\n",
       "    </tr>\n",
       "    <tr>\n",
       "      <th>1</th>\n",
       "      <td>0.494738</td>\n",
       "      <td>0.783764</td>\n",
       "      <td>0.916035</td>\n",
       "      <td>0.777338</td>\n",
       "      <td>0.380851</td>\n",
       "      <td>0.852620</td>\n",
       "      <td>0.972028</td>\n",
       "      <td>0.823704</td>\n",
       "    </tr>\n",
       "    <tr>\n",
       "      <th>2</th>\n",
       "      <td>0.340514</td>\n",
       "      <td>0.856935</td>\n",
       "      <td>0.940525</td>\n",
       "      <td>0.847164</td>\n",
       "      <td>0.270758</td>\n",
       "      <td>0.901747</td>\n",
       "      <td>0.965035</td>\n",
       "      <td>0.887460</td>\n",
       "    </tr>\n",
       "    <tr>\n",
       "      <th>3</th>\n",
       "      <td>0.269882</td>\n",
       "      <td>0.898071</td>\n",
       "      <td>0.934111</td>\n",
       "      <td>0.905596</td>\n",
       "      <td>0.231794</td>\n",
       "      <td>0.919214</td>\n",
       "      <td>0.965035</td>\n",
       "      <td>0.910891</td>\n",
       "    </tr>\n",
       "    <tr>\n",
       "      <th>4</th>\n",
       "      <td>0.236185</td>\n",
       "      <td>0.912632</td>\n",
       "      <td>0.949854</td>\n",
       "      <td>0.913629</td>\n",
       "      <td>0.216868</td>\n",
       "      <td>0.930131</td>\n",
       "      <td>0.968531</td>\n",
       "      <td>0.923333</td>\n",
       "    </tr>\n",
       "  </tbody>\n",
       "</table>\n",
       "</div>"
      ],
      "text/plain": [
       "       loss  Accuracy    recall  precision  val_loss  val_Accuracy  \\\n",
       "0  0.695043  0.586094  0.606997   0.692154  0.579397      0.751092   \n",
       "1  0.494738  0.783764  0.916035   0.777338  0.380851      0.852620   \n",
       "2  0.340514  0.856935  0.940525   0.847164  0.270758      0.901747   \n",
       "3  0.269882  0.898071  0.934111   0.905596  0.231794      0.919214   \n",
       "4  0.236185  0.912632  0.949854   0.913629  0.216868      0.930131   \n",
       "\n",
       "   val_recall  val_precision  \n",
       "0    0.903846       0.749275  \n",
       "1    0.972028       0.823704  \n",
       "2    0.965035       0.887460  \n",
       "3    0.965035       0.910891  \n",
       "4    0.968531       0.923333  "
      ]
     },
     "execution_count": 67,
     "metadata": {},
     "output_type": "execute_result"
    }
   ],
   "source": [
    "# save history into a df\n",
    "history_2_df = pd.DataFrame(history_2.history)\n",
    "history_2_df.head()"
   ]
  },
  {
   "cell_type": "code",
   "execution_count": 68,
   "id": "a281e3f4",
   "metadata": {
    "scrolled": true
   },
   "outputs": [
    {
     "data": {
      "text/plain": [
       "5     0.927948\n",
       "6     0.930131\n",
       "7     0.927948\n",
       "8     0.929039\n",
       "9     0.926856\n",
       "        ...   \n",
       "95    0.920306\n",
       "96    0.925764\n",
       "97    0.923581\n",
       "98    0.924672\n",
       "99    0.921397\n",
       "Name: val_Accuracy, Length: 95, dtype: float64"
      ]
     },
     "execution_count": 68,
     "metadata": {},
     "output_type": "execute_result"
    }
   ],
   "source": [
    "history_2_df['val_Accuracy'][5:]"
   ]
  },
  {
   "cell_type": "code",
   "execution_count": 69,
   "id": "b9676a17",
   "metadata": {},
   "outputs": [
    {
     "data": {
      "image/png": "[encoded data removed]",
      "text/plain": [
       "<Figure size 1440x504 with 3 Axes>"
      ]
     },
     "metadata": {
      "needs_background": "light"
     },
     "output_type": "display_data"
    }
   ],
   "source": [
    "# subplots of accuracy, precision and recall\n",
    "fig, (ax1, ax2, ax3) = plt.subplots(nrows = 1, ncols=3, figsize = (20, 7))\n",
    "fig.suptitle('Accuracy, Precision and Recall Plot of Neural Net Model')\n",
    "\n",
    "# axis 1 - accuracy\n",
    "ax1.plot(history_2_df[\"val_Accuracy\"], label='Validation Accuracy', color='green')\n",
    "ax1.plot(history_2_df[\"Accuracy\"], label='Training Accuracy', color='orange')\n",
    "ax1.legend(loc=\"upper left\")\n",
    "# axis 2 - precision\n",
    "ax2.plot(history_2_df['val_precision'], label='Validation Precision', color='green')\n",
    "ax2.plot(history_2_df['precision'], label='Training Precision', color='orange')\n",
    "ax2.legend(loc=\"upper left\")\n",
    "# axis3 - recall\n",
    "ax3.plot(history_2_df['val_recall'], label='Validation Recall', color='green')\n",
    "ax3.plot(history_2_df['recall'], label='Training Recall', color='orange')\n",
    "ax3.legend(loc=\"upper right\")\n",
    "\n",
    "plt.legend();"
   ]
  },
  {
   "cell_type": "code",
   "execution_count": 70,
   "id": "021d4b33",
   "metadata": {
    "scrolled": true
   },
   "outputs": [
    {
     "name": "stdout",
     "output_type": "stream",
     "text": [
      "29/29 - 0s - loss: 0.4582 - Accuracy: 0.9214 - recall: 0.9458 - precision: 0.9296\n"
     ]
    },
    {
     "data": {
      "text/plain": [
       "[0.45820382237434387,\n",
       " 0.9213973879814148,\n",
       " 0.9458041787147522,\n",
       " 0.9295532703399658]"
      ]
     },
     "execution_count": 70,
     "metadata": {},
     "output_type": "execute_result"
    }
   ],
   "source": [
    "# evaluate model\n",
    "model_nn2.evaluate(X_test_sc, y_test, verbose=2)"
   ]
  },
  {
   "cell_type": "code",
   "execution_count": 46,
   "id": "021dab1b",
   "metadata": {},
   "outputs": [
    {
     "data": {
      "text/plain": [
       "array([[9.9999696e-01],\n",
       "       [4.9172853e-05],\n",
       "       [7.2009778e-01],\n",
       "       [1.8903431e-01],\n",
       "       [1.2260991e-01],\n",
       "       [2.4028391e-02],\n",
       "       [2.6009828e-02],\n",
       "       [9.9999857e-01],\n",
       "       [1.0962973e-05],\n",
       "       [2.3484896e-09]], dtype=float32)"
      ]
     },
     "execution_count": 46,
     "metadata": {},
     "output_type": "execute_result"
    }
   ],
   "source": [
    "# make predictions\n",
    "y_pred_nn2=model_nn2.predict(X_test_sc)\n",
    "y_pred_nn2[:10]"
   ]
  },
  {
   "cell_type": "code",
   "execution_count": 47,
   "id": "b80abc64",
   "metadata": {},
   "outputs": [
    {
     "data": {
      "text/plain": [
       "array([[1.],\n",
       "       [0.],\n",
       "       [1.],\n",
       "       [0.],\n",
       "       [0.],\n",
       "       [0.],\n",
       "       [0.],\n",
       "       [1.],\n",
       "       [0.],\n",
       "       [0.]], dtype=float32)"
      ]
     },
     "execution_count": 47,
     "metadata": {},
     "output_type": "execute_result"
    }
   ],
   "source": [
    "# round predicted values\n",
    "y_pred_nn2 =y_pred_nn2.round()\n",
    "y_pred_nn2[:10]"
   ]
  },
  {
   "cell_type": "code",
   "execution_count": 48,
   "id": "7453d3e2",
   "metadata": {},
   "outputs": [
    {
     "data": {
      "text/plain": [
       "<tf.Tensor: shape=(2, 2), dtype=int32, numpy=\n",
       "array([[536,  38],\n",
       "       [ 46, 299]], dtype=int32)>"
      ]
     },
     "execution_count": 48,
     "metadata": {},
     "output_type": "execute_result"
    }
   ],
   "source": [
    "# confusion matrix using Tensorflow\n",
    "tf.math.confusion_matrix(\n",
    "    y_test, y_pred_nn2\n",
    ")"
   ]
  },
  {
   "cell_type": "code",
   "execution_count": 49,
   "id": "a8aa384c",
   "metadata": {
    "scrolled": true
   },
   "outputs": [
    {
     "name": "stdout",
     "output_type": "stream",
     "text": [
      "              precision    recall  f1-score   support\n",
      "\n",
      "           0       0.92      0.93      0.93       574\n",
      "           1       0.89      0.87      0.88       345\n",
      "\n",
      "    accuracy                           0.91       919\n",
      "   macro avg       0.90      0.90      0.90       919\n",
      "weighted avg       0.91      0.91      0.91       919\n",
      "\n"
     ]
    }
   ],
   "source": [
    "# classification report\n",
    "print(classification_report(y_test, y_pred_nn2))"
   ]
  },
  {
   "cell_type": "markdown",
   "id": "8c6bb09c",
   "metadata": {},
   "source": [
    "### 4. Neural Net Classification - Early stopping & dropout"
   ]
  },
  {
   "cell_type": "code",
   "execution_count": 105,
   "id": "cdf727d7",
   "metadata": {},
   "outputs": [],
   "source": [
    "X_train, X_test, y_train, y_test = train_test_split(X, y, stratify=y, random_state=42)"
   ]
  },
  {
   "cell_type": "code",
   "execution_count": 106,
   "id": "7590e665",
   "metadata": {},
   "outputs": [],
   "source": [
    "# scale data\n",
    "sc = StandardScaler()\n",
    "X_train_sc = sc.fit_transform(X_train)\n",
    "X_test_sc = sc.transform(X_test)"
   ]
  },
  {
   "cell_type": "code",
   "execution_count": 107,
   "id": "8d38af4f",
   "metadata": {},
   "outputs": [],
   "source": [
    "model_nn3 = Sequential()"
   ]
  },
  {
   "cell_type": "code",
   "execution_count": 108,
   "id": "0818abc7",
   "metadata": {},
   "outputs": [],
   "source": [
    "# create model\n",
    "model_nn3.add(Dense(32, input_shape=(X_train_sc.shape[1],), activation='relu'))\n",
    "model_nn3.add(Dropout(0.1))\n",
    "model_nn3.add(Dense(32, activation='relu'))\n",
    "\n",
    "# model_nn3.add(Dropout(0.1))\n",
    "# model_nn3.add(Dense(32, activation='relu'))\n",
    "\n",
    "model_nn3.add(Dense(1, activation='sigmoid'))\n",
    "\n",
    "# 'dropout': 0.1, 'epochs': 10, 'hidden_layers': 2, 'hidden_neurons': 32"
   ]
  },
  {
   "cell_type": "code",
   "execution_count": 109,
   "id": "b44c5697",
   "metadata": {},
   "outputs": [],
   "source": [
    "early_stop = EarlyStopping(monitor='val_loss', patience=5, verbose=1)"
   ]
  },
  {
   "cell_type": "code",
   "execution_count": 110,
   "id": "cb258575",
   "metadata": {},
   "outputs": [],
   "source": [
    "# compile model\n",
    "model_nn3.compile(loss='bce', optimizer ='adam', metrics = ['Accuracy', 'Recall', 'Precision'])"
   ]
  },
  {
   "cell_type": "code",
   "execution_count": 111,
   "id": "59378eb0",
   "metadata": {},
   "outputs": [
    {
     "name": "stdout",
     "output_type": "stream",
     "text": [
      "Epoch 00015: early stopping\n"
     ]
    }
   ],
   "source": [
    "# fit model\n",
    "history_3 = model_nn3.fit(\n",
    "    X_train_sc,\n",
    "    y_train,\n",
    "    validation_data=(X_test_sc, y_test),\n",
    "    epochs=100,\n",
    "    callbacks=early_stop,\n",
    "    verbose=0\n",
    ")"
   ]
  },
  {
   "cell_type": "code",
   "execution_count": 113,
   "id": "3a6886e3",
   "metadata": {
    "scrolled": false
   },
   "outputs": [
    {
     "data": {
      "text/html": [
       "<div>\n",
       "<style scoped>\n",
       "    .dataframe tbody tr th:only-of-type {\n",
       "        vertical-align: middle;\n",
       "    }\n",
       "\n",
       "    .dataframe tbody tr th {\n",
       "        vertical-align: top;\n",
       "    }\n",
       "\n",
       "    .dataframe thead th {\n",
       "        text-align: right;\n",
       "    }\n",
       "</style>\n",
       "<table border=\"1\" class=\"dataframe\">\n",
       "  <thead>\n",
       "    <tr style=\"text-align: right;\">\n",
       "      <th></th>\n",
       "      <th>loss</th>\n",
       "      <th>Accuracy</th>\n",
       "      <th>recall</th>\n",
       "      <th>precision</th>\n",
       "      <th>val_loss</th>\n",
       "      <th>val_Accuracy</th>\n",
       "      <th>val_recall</th>\n",
       "      <th>val_precision</th>\n",
       "    </tr>\n",
       "  </thead>\n",
       "  <tbody>\n",
       "    <tr>\n",
       "      <th>0</th>\n",
       "      <td>0.488484</td>\n",
       "      <td>0.792501</td>\n",
       "      <td>0.918367</td>\n",
       "      <td>0.785536</td>\n",
       "      <td>0.340670</td>\n",
       "      <td>0.888646</td>\n",
       "      <td>0.945804</td>\n",
       "      <td>0.883987</td>\n",
       "    </tr>\n",
       "    <tr>\n",
       "      <th>1</th>\n",
       "      <td>0.266217</td>\n",
       "      <td>0.899891</td>\n",
       "      <td>0.944606</td>\n",
       "      <td>0.900000</td>\n",
       "      <td>0.247375</td>\n",
       "      <td>0.911572</td>\n",
       "      <td>0.961538</td>\n",
       "      <td>0.903120</td>\n",
       "    </tr>\n",
       "    <tr>\n",
       "      <th>2</th>\n",
       "      <td>0.210811</td>\n",
       "      <td>0.918821</td>\n",
       "      <td>0.949271</td>\n",
       "      <td>0.922902</td>\n",
       "      <td>0.224069</td>\n",
       "      <td>0.921397</td>\n",
       "      <td>0.963287</td>\n",
       "      <td>0.915282</td>\n",
       "    </tr>\n",
       "    <tr>\n",
       "      <th>3</th>\n",
       "      <td>0.180452</td>\n",
       "      <td>0.931198</td>\n",
       "      <td>0.954519</td>\n",
       "      <td>0.936499</td>\n",
       "      <td>0.217603</td>\n",
       "      <td>0.922489</td>\n",
       "      <td>0.959790</td>\n",
       "      <td>0.919598</td>\n",
       "    </tr>\n",
       "    <tr>\n",
       "      <th>4</th>\n",
       "      <td>0.170228</td>\n",
       "      <td>0.933746</td>\n",
       "      <td>0.961516</td>\n",
       "      <td>0.934278</td>\n",
       "      <td>0.218971</td>\n",
       "      <td>0.922489</td>\n",
       "      <td>0.940559</td>\n",
       "      <td>0.935652</td>\n",
       "    </tr>\n",
       "  </tbody>\n",
       "</table>\n",
       "</div>"
      ],
      "text/plain": [
       "       loss  Accuracy    recall  precision  val_loss  val_Accuracy  \\\n",
       "0  0.488484  0.792501  0.918367   0.785536  0.340670      0.888646   \n",
       "1  0.266217  0.899891  0.944606   0.900000  0.247375      0.911572   \n",
       "2  0.210811  0.918821  0.949271   0.922902  0.224069      0.921397   \n",
       "3  0.180452  0.931198  0.954519   0.936499  0.217603      0.922489   \n",
       "4  0.170228  0.933746  0.961516   0.934278  0.218971      0.922489   \n",
       "\n",
       "   val_recall  val_precision  \n",
       "0    0.945804       0.883987  \n",
       "1    0.961538       0.903120  \n",
       "2    0.963287       0.915282  \n",
       "3    0.959790       0.919598  \n",
       "4    0.940559       0.935652  "
      ]
     },
     "execution_count": 113,
     "metadata": {},
     "output_type": "execute_result"
    }
   ],
   "source": [
    "# save history into a df\n",
    "history_3_df = pd.DataFrame(history_3.history)\n",
    "history_3_df.head()"
   ]
  },
  {
   "cell_type": "code",
   "execution_count": 114,
   "id": "ea75c8b9",
   "metadata": {
    "scrolled": true
   },
   "outputs": [
    {
     "data": {
      "text/plain": [
       "5     0.923581\n",
       "6     0.923581\n",
       "7     0.922489\n",
       "8     0.930131\n",
       "9     0.926856\n",
       "10    0.929039\n",
       "11    0.925764\n",
       "12    0.927948\n",
       "13    0.929039\n",
       "14    0.926856\n",
       "Name: val_Accuracy, dtype: float64"
      ]
     },
     "execution_count": 114,
     "metadata": {},
     "output_type": "execute_result"
    }
   ],
   "source": [
    "history_3_df['val_Accuracy'][5:]"
   ]
  },
  {
   "cell_type": "code",
   "execution_count": 115,
   "id": "75730dab",
   "metadata": {},
   "outputs": [
    {
     "data": {
      "image/png": "[encoded data removed]",
      "text/plain": [
       "<Figure size 1440x504 with 3 Axes>"
      ]
     },
     "metadata": {
      "needs_background": "light"
     },
     "output_type": "display_data"
    }
   ],
   "source": [
    "# subplots of accuracy, precision and recall\n",
    "fig, (ax1, ax2, ax3) = plt.subplots(nrows = 1, ncols=3, figsize = (20, 7))\n",
    "fig.suptitle('Accuracy, Precision, Recall')\n",
    "\n",
    "# axis 1 - accuracy\n",
    "ax1.plot(history_3_df[\"val_Accuracy\"], label='Validation Accuracy', color='green')\n",
    "ax1.plot(history_3_df[\"Accuracy\"], label='Training Accuracy', color='orange')\n",
    "ax1.legend(loc=\"upper left\")\n",
    "# axis 2 - precision\n",
    "ax2.plot(history_3_df['val_precision'], label='Validation Precision', color='green')\n",
    "ax2.plot(history_3_df['precision'], label='Training Precision', color='orange')\n",
    "ax2.legend(loc=\"upper left\")\n",
    "# axis3 - recall\n",
    "ax3.plot(history_3_df['val_recall'], label='Validation Recall', color='green')\n",
    "ax3.plot(history_3_df['recall'], label='Training Recall', color='orange')\n",
    "ax3.legend(loc=\"upper left\")\n",
    "\n",
    "plt.legend();"
   ]
  },
  {
   "cell_type": "code",
   "execution_count": 116,
   "id": "eefd2bb6",
   "metadata": {
    "scrolled": true
   },
   "outputs": [
    {
     "name": "stdout",
     "output_type": "stream",
     "text": [
      "29/29 - 0s - loss: 0.2246 - Accuracy: 0.9269 - recall: 0.9476 - precision: 0.9361\n"
     ]
    },
    {
     "data": {
      "text/plain": [
       "[0.22459359467029572,\n",
       " 0.9268559217453003,\n",
       " 0.9475524425506592,\n",
       " 0.936096727848053]"
      ]
     },
     "execution_count": 116,
     "metadata": {},
     "output_type": "execute_result"
    }
   ],
   "source": [
    "# evaluate model\n",
    "model_nn3.evaluate(X_test_sc, y_test, verbose=2)"
   ]
  },
  {
   "cell_type": "code",
   "execution_count": 117,
   "id": "b702fcfa",
   "metadata": {},
   "outputs": [
    {
     "data": {
      "text/plain": [
       "array([[8.7984949e-01],\n",
       "       [8.4997940e-01],\n",
       "       [1.2658501e-05],\n",
       "       [9.9940312e-01],\n",
       "       [1.2734461e-01],\n",
       "       [9.9416900e-01],\n",
       "       [9.9977016e-01],\n",
       "       [9.9998128e-01],\n",
       "       [2.6096404e-03],\n",
       "       [9.9922597e-01]], dtype=float32)"
      ]
     },
     "execution_count": 117,
     "metadata": {},
     "output_type": "execute_result"
    }
   ],
   "source": [
    "# make predictions\n",
    "y_pred_nn3=model_nn3.predict(X_test_sc)\n",
    "y_pred_nn3[:10]"
   ]
  },
  {
   "cell_type": "code",
   "execution_count": 119,
   "id": "100acc32",
   "metadata": {},
   "outputs": [
    {
     "data": {
      "text/plain": [
       "array([[1.],\n",
       "       [1.],\n",
       "       [0.],\n",
       "       [1.],\n",
       "       [0.],\n",
       "       [1.],\n",
       "       [1.],\n",
       "       [1.],\n",
       "       [0.],\n",
       "       [1.]], dtype=float32)"
      ]
     },
     "execution_count": 119,
     "metadata": {},
     "output_type": "execute_result"
    }
   ],
   "source": [
    "# round predicted values\n",
    "y_pred_nn3 =y_pred_nn3.round()\n",
    "y_pred_nn3[:10]"
   ]
  },
  {
   "cell_type": "code",
   "execution_count": 109,
   "id": "91b67a49",
   "metadata": {},
   "outputs": [
    {
     "data": {
      "text/plain": [
       "<tf.Tensor: shape=(2, 2), dtype=int32, numpy=\n",
       "array([[539,  35],\n",
       "       [ 46, 299]], dtype=int32)>"
      ]
     },
     "execution_count": 109,
     "metadata": {},
     "output_type": "execute_result"
    }
   ],
   "source": [
    "# confusion matrix using Tensorflow\n",
    "tf.math.confusion_matrix(\n",
    "    y_test, y_pred_nn3\n",
    ")"
   ]
  },
  {
   "cell_type": "code",
   "execution_count": 120,
   "id": "db511c9a",
   "metadata": {
    "scrolled": true
   },
   "outputs": [
    {
     "name": "stdout",
     "output_type": "stream",
     "text": [
      "              precision    recall  f1-score   support\n",
      "\n",
      "           0       0.91      0.89      0.90       344\n",
      "           1       0.94      0.95      0.94       572\n",
      "\n",
      "    accuracy                           0.93       916\n",
      "   macro avg       0.92      0.92      0.92       916\n",
      "weighted avg       0.93      0.93      0.93       916\n",
      "\n"
     ]
    }
   ],
   "source": [
    "# classification report\n",
    "print(classification_report(y_test, y_pred_nn3))"
   ]
  },
  {
   "cell_type": "markdown",
   "id": "4fae5cbb",
   "metadata": {},
   "source": [
    "### GridSearch with nn"
   ]
  },
  {
   "cell_type": "code",
   "execution_count": 100,
   "id": "0fbdc13c",
   "metadata": {},
   "outputs": [],
   "source": [
    "# X_train, X_test, y_train, y_test = train_test_split(X, y, random_state=42)"
   ]
  },
  {
   "cell_type": "code",
   "execution_count": 141,
   "id": "771ed901",
   "metadata": {},
   "outputs": [],
   "source": [
    "# X_train.shape"
   ]
  },
  {
   "cell_type": "code",
   "execution_count": 140,
   "id": "56ca9078",
   "metadata": {},
   "outputs": [],
   "source": [
    "# ss = StandardScaler()\n",
    "# X_train_sc = ss.fit_transform(X_train)\n",
    "# X_test_sc = ss.transform(X_test)"
   ]
  },
  {
   "cell_type": "code",
   "execution_count": 103,
   "id": "ead9cbbb",
   "metadata": {},
   "outputs": [],
   "source": [
    "# # Add an arugment of number of layers to the function (and loop through it) \n",
    "# def model_fn_deep(hidden_neurons, hidden_layers, dropout):\n",
    "#   model = Sequential()\n",
    "#   for layer in range(hidden_layers):\n",
    "#     if layer == 0:\n",
    "#       model.add(Dense(hidden_neurons, input_shape=(51,), activation='relu'))\n",
    "#       model.add(Dropout(dropout))\n",
    "#     else:\n",
    "#       model.add(Dense(hidden_neurons, activation='relu'))\n",
    "#       model.add(Dropout(dropout))\n",
    "\n",
    "#   model.add(Dense(1, activation='sigmoid'))\n",
    "\n",
    "#   model.compile(loss='bce', optimizer='adam', metrics =['Accuracy','Recall', 'Precision'])\n",
    "\n",
    "#   return model\n",
    "\n",
    "# nn_deep = KerasClassifier(build_fn=model_fn_deep, verbose=2)"
   ]
  },
  {
   "cell_type": "code",
   "execution_count": 137,
   "id": "3e529fec",
   "metadata": {},
   "outputs": [],
   "source": [
    "# nn_params_deep = {\n",
    "#     'hidden_neurons': [32, 64, 128],\n",
    "#     'hidden_layers': [2, 3],\n",
    "#     'dropout': [0.1, 0.2, 0.5],\n",
    "#     'epochs': [10, 20, 30]\n",
    "# }\n",
    "\n",
    "# gs_deep = GridSearchCV(nn_deep, param_grid=nn_params_deep, cv=3, n_jobs=-1)\n",
    "# gs_deep.fit(X_train_sc, y_train)\n",
    "# print(gs_deep.best_params_)\n",
    "# gs_deep.best_score_"
   ]
  },
  {
   "cell_type": "code",
   "execution_count": 42,
   "id": "7e69a548",
   "metadata": {},
   "outputs": [],
   "source": [
    "# # Make predictions \n",
    "# preds_deep = gs_deep.predict(X_test_sc)"
   ]
  },
  {
   "cell_type": "code",
   "execution_count": 139,
   "id": "60b9fe56",
   "metadata": {},
   "outputs": [],
   "source": [
    "# # confusion matrix using Tensorflow\n",
    "# tf.math.confusion_matrix(\n",
    "#     y_test, preds_deep\n",
    "# )"
   ]
  },
  {
   "cell_type": "code",
   "execution_count": 138,
   "id": "6d57e330",
   "metadata": {},
   "outputs": [],
   "source": [
    "# # classification report\n",
    "# print(classification_report(y_test, preds_deep))"
   ]
  }
 ],
 "metadata": {
  "kernelspec": {
   "display_name": "Python [conda env:dsi]",
   "language": "python",
   "name": "conda-env-dsi-py"
  },
  "language_info": {
   "codemirror_mode": {
    "name": "ipython",
    "version": 3
   },
   "file_extension": ".py",
   "mimetype": "text/x-python",
   "name": "python",
   "nbconvert_exporter": "python",
   "pygments_lexer": "ipython3",
   "version": "3.8.8"
  }
 },
 "nbformat": 4,
 "nbformat_minor": 5
}
