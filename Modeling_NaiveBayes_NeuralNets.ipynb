{
 "cells": [
  {
   "cell_type": "markdown",
   "id": "0b3a5112",
   "metadata": {},
   "source": [
    "## Project 5: WAM News Prediction of  California's Gubernatorial Election"
   ]
  },
  {
   "cell_type": "markdown",
   "id": "31134d64",
   "metadata": {},
   "source": [
    "## Problem Statement:\n",
    "\n",
    "WAM News is trying to develop an accurate model that predicts the gubernatorial election in California. Using the CCEC Dataset from Harvard University, we would like to build a classification model to accurately classify and predict California’s gubernatorial election preferences. The model will be evaluated based on accuracy, specificity, and recall with the goal of trying to get accuracy above null model."
   ]
  },
  {
   "cell_type": "code",
   "execution_count": 1,
   "id": "b4812e90",
   "metadata": {},
   "outputs": [],
   "source": [
    "# !pip install tensorflow"
   ]
  },
  {
   "cell_type": "code",
   "execution_count": 82,
   "id": "c893ed0b",
   "metadata": {},
   "outputs": [],
   "source": [
    "# import libraries\n",
    "import pandas as pd\n",
    "import numpy as np\n",
    "import matplotlib.pyplot as plt\n",
    "import tensorflow as tf\n",
    "%matplotlib inline\n",
    "# sklearn\n",
    "from sklearn.model_selection import train_test_split, GridSearchCV, cross_val_score\n",
    "from sklearn.preprocessing import StandardScaler\n",
    "from sklearn.metrics import confusion_matrix, plot_confusion_matrix, classification_report\n",
    "from sklearn.naive_bayes import MultinomialNB\n",
    "from sklearn.pipeline import Pipeline\n",
    "from sklearn import metrics\n",
    "# keras\n",
    "from tensorflow.keras.models import Sequential\n",
    "from tensorflow.keras.layers import Dense, Dropout\n",
    "from tensorflow.keras.utils import to_categorical\n",
    "from tensorflow.keras.metrics import Recall\n",
    "from tensorflow.keras.callbacks import EarlyStopping\n",
    "from tensorflow.keras.wrappers.scikit_learn import KerasClassifier"
   ]
  },
  {
   "cell_type": "markdown",
   "id": "8bacc424",
   "metadata": {},
   "source": [
    "## Load Data"
   ]
  },
  {
   "cell_type": "code",
   "execution_count": 3,
   "id": "f29119ab",
   "metadata": {},
   "outputs": [
    {
     "data": {
      "text/html": [
       "<div>\n",
       "<style scoped>\n",
       "    .dataframe tbody tr th:only-of-type {\n",
       "        vertical-align: middle;\n",
       "    }\n",
       "\n",
       "    .dataframe tbody tr th {\n",
       "        vertical-align: top;\n",
       "    }\n",
       "\n",
       "    .dataframe thead th {\n",
       "        text-align: right;\n",
       "    }\n",
       "</style>\n",
       "<table border=\"1\" class=\"dataframe\">\n",
       "  <thead>\n",
       "    <tr style=\"text-align: right;\">\n",
       "      <th></th>\n",
       "      <th>Unnamed: 0</th>\n",
       "      <th>dist</th>\n",
       "      <th>gender</th>\n",
       "      <th>age</th>\n",
       "      <th>educ</th>\n",
       "      <th>race</th>\n",
       "      <th>faminc</th>\n",
       "      <th>marstat</th>\n",
       "      <th>newsint</th>\n",
       "      <th>approval_gov</th>\n",
       "      <th>ideo5</th>\n",
       "      <th>voted_gov</th>\n",
       "      <th>voted_gov_num</th>\n",
       "    </tr>\n",
       "  </thead>\n",
       "  <tbody>\n",
       "    <tr>\n",
       "      <th>0</th>\n",
       "      <td>0</td>\n",
       "      <td>19</td>\n",
       "      <td>Female</td>\n",
       "      <td>54</td>\n",
       "      <td>4-Year</td>\n",
       "      <td>White</td>\n",
       "      <td>50k - 60k</td>\n",
       "      <td>Single / Never Married</td>\n",
       "      <td>Most of the time</td>\n",
       "      <td>Strongly Approve</td>\n",
       "      <td>Liberal</td>\n",
       "      <td>[Democrat / Candidate 1]</td>\n",
       "      <td>0</td>\n",
       "    </tr>\n",
       "    <tr>\n",
       "      <th>1</th>\n",
       "      <td>1</td>\n",
       "      <td>52</td>\n",
       "      <td>Female</td>\n",
       "      <td>28</td>\n",
       "      <td>Some College</td>\n",
       "      <td>White</td>\n",
       "      <td>20k - 30k</td>\n",
       "      <td>Single / Never Married</td>\n",
       "      <td>Most of the time</td>\n",
       "      <td>Strongly Approve</td>\n",
       "      <td>Liberal</td>\n",
       "      <td>[Democrat / Candidate 1]</td>\n",
       "      <td>0</td>\n",
       "    </tr>\n",
       "    <tr>\n",
       "      <th>2</th>\n",
       "      <td>2</td>\n",
       "      <td>49</td>\n",
       "      <td>Male</td>\n",
       "      <td>86</td>\n",
       "      <td>Post-Grad</td>\n",
       "      <td>White</td>\n",
       "      <td>120k - 150k</td>\n",
       "      <td>Widowed</td>\n",
       "      <td>Most of the time</td>\n",
       "      <td>Strongly Disapprove</td>\n",
       "      <td>Very Conservative</td>\n",
       "      <td>[Republican / Candidate 2]</td>\n",
       "      <td>1</td>\n",
       "    </tr>\n",
       "    <tr>\n",
       "      <th>3</th>\n",
       "      <td>3</td>\n",
       "      <td>36</td>\n",
       "      <td>Male</td>\n",
       "      <td>80</td>\n",
       "      <td>Some College</td>\n",
       "      <td>White</td>\n",
       "      <td>20k - 30k</td>\n",
       "      <td>Widowed</td>\n",
       "      <td>Most of the time</td>\n",
       "      <td>Strongly Disapprove</td>\n",
       "      <td>Conservative</td>\n",
       "      <td>[Republican / Candidate 2]</td>\n",
       "      <td>1</td>\n",
       "    </tr>\n",
       "    <tr>\n",
       "      <th>4</th>\n",
       "      <td>4</td>\n",
       "      <td>36</td>\n",
       "      <td>Male</td>\n",
       "      <td>83</td>\n",
       "      <td>4-Year</td>\n",
       "      <td>White</td>\n",
       "      <td>Prefer not to say</td>\n",
       "      <td>Married</td>\n",
       "      <td>Most of the time</td>\n",
       "      <td>Strongly Disapprove</td>\n",
       "      <td>Conservative</td>\n",
       "      <td>[Republican / Candidate 2]</td>\n",
       "      <td>1</td>\n",
       "    </tr>\n",
       "  </tbody>\n",
       "</table>\n",
       "</div>"
      ],
      "text/plain": [
       "   Unnamed: 0  dist  gender  age          educ   race             faminc  \\\n",
       "0           0    19  Female   54        4-Year  White          50k - 60k   \n",
       "1           1    52  Female   28  Some College  White          20k - 30k   \n",
       "2           2    49    Male   86     Post-Grad  White        120k - 150k   \n",
       "3           3    36    Male   80  Some College  White          20k - 30k   \n",
       "4           4    36    Male   83        4-Year  White  Prefer not to say   \n",
       "\n",
       "                  marstat           newsint         approval_gov  \\\n",
       "0  Single / Never Married  Most of the time     Strongly Approve   \n",
       "1  Single / Never Married  Most of the time     Strongly Approve   \n",
       "2                 Widowed  Most of the time  Strongly Disapprove   \n",
       "3                 Widowed  Most of the time  Strongly Disapprove   \n",
       "4                 Married  Most of the time  Strongly Disapprove   \n",
       "\n",
       "               ideo5                   voted_gov  voted_gov_num  \n",
       "0            Liberal    [Democrat / Candidate 1]              0  \n",
       "1            Liberal    [Democrat / Candidate 1]              0  \n",
       "2  Very Conservative  [Republican / Candidate 2]              1  \n",
       "3       Conservative  [Republican / Candidate 2]              1  \n",
       "4       Conservative  [Republican / Candidate 2]              1  "
      ]
     },
     "execution_count": 3,
     "metadata": {},
     "output_type": "execute_result"
    }
   ],
   "source": [
    "# read data\n",
    "df=pd.read_csv('./data/2018_gov_clean.csv')\n",
    "df.head()"
   ]
  },
  {
   "cell_type": "code",
   "execution_count": 4,
   "id": "a79ad5ac",
   "metadata": {},
   "outputs": [],
   "source": [
    "# df=df.drop(columns=['Unnamed: 0'], inplace=True)"
   ]
  },
  {
   "cell_type": "markdown",
   "id": "a4c4a07e",
   "metadata": {},
   "source": [
    "# Modeling"
   ]
  },
  {
   "cell_type": "code",
   "execution_count": 5,
   "id": "e147bcf4",
   "metadata": {},
   "outputs": [],
   "source": [
    "# set up X and y\n",
    "X = df.drop(columns =['voted_gov', 'voted_gov_num'])\n",
    "y = df['voted_gov_num']"
   ]
  },
  {
   "cell_type": "code",
   "execution_count": 6,
   "id": "afc6deaa",
   "metadata": {},
   "outputs": [],
   "source": [
    "# dummify X variable\n",
    "X = pd.get_dummies(X, drop_first=True)"
   ]
  },
  {
   "cell_type": "code",
   "execution_count": 7,
   "id": "741c48da",
   "metadata": {},
   "outputs": [
    {
     "data": {
      "text/plain": [
       "(3676, 46)"
      ]
     },
     "execution_count": 7,
     "metadata": {},
     "output_type": "execute_result"
    }
   ],
   "source": [
    "# checkout X shape\n",
    "X.shape"
   ]
  },
  {
   "cell_type": "code",
   "execution_count": 8,
   "id": "ab145807",
   "metadata": {},
   "outputs": [],
   "source": [
    "# check if shape of X = y\n",
    "assert X.shape[0]==y.shape[0]"
   ]
  },
  {
   "cell_type": "markdown",
   "id": "097d1e9c",
   "metadata": {},
   "source": [
    "### 1. Multinomial Naive Bayes"
   ]
  },
  {
   "cell_type": "code",
   "execution_count": 9,
   "id": "5d89e3c6",
   "metadata": {},
   "outputs": [],
   "source": [
    "# split the data\n",
    "X_train, X_test, y_train, y_test = train_test_split(X, y, random_state=42, stratify=y)"
   ]
  },
  {
   "cell_type": "code",
   "execution_count": 10,
   "id": "d9f6267e",
   "metadata": {},
   "outputs": [
    {
     "data": {
      "text/plain": [
       "MultinomialNB()"
      ]
     },
     "execution_count": 10,
     "metadata": {},
     "output_type": "execute_result"
    }
   ],
   "source": [
    "# instantiate and fit NB\n",
    "nb = MultinomialNB()\n",
    "nb.fit(X_train, y_train)"
   ]
  },
  {
   "cell_type": "code",
   "execution_count": 11,
   "id": "e3b26a38",
   "metadata": {},
   "outputs": [],
   "source": [
    "# make predictions \n",
    "y_pred = nb.predict(X_test)\n",
    "\n",
    "# save confusion matrix values\n",
    "tn, fp, fn, tp = confusion_matrix(y_test, y_pred).ravel()"
   ]
  },
  {
   "cell_type": "code",
   "execution_count": 12,
   "id": "93aa10a6",
   "metadata": {},
   "outputs": [
    {
     "data": {
      "image/png": "[encoded data removed]",
      "text/plain": [
       "<Figure size 432x288 with 2 Axes>"
      ]
     },
     "metadata": {
      "needs_background": "light"
     },
     "output_type": "display_data"
    }
   ],
   "source": [
    "# plot a confusion matrix\n",
    "plot_confusion_matrix(nb, X_test, y_test, cmap='BuPu', values_format='d');"
   ]
  },
  {
   "cell_type": "code",
   "execution_count": 13,
   "id": "5fc0912d",
   "metadata": {},
   "outputs": [
    {
     "name": "stdout",
     "output_type": "stream",
     "text": [
      "Accuracy: 0.7442872687704026\n",
      "Recall: 0.663768115942029\n",
      "Precision: 0.6580459770114943\n"
     ]
    }
   ],
   "source": [
    "# sensitivity and accuracy\n",
    "accu = (tp+tn) / (tp+tn+fp+fn)\n",
    "recall = tp/(tp+fn)\n",
    "prec = tp/ (tp+fp)\n",
    "\n",
    "print('Accuracy:', accu)\n",
    "print('Recall:', recall)\n",
    "print('Precision:', prec)"
   ]
  },
  {
   "cell_type": "code",
   "execution_count": 14,
   "id": "a6b40cd5",
   "metadata": {},
   "outputs": [
    {
     "name": "stdout",
     "output_type": "stream",
     "text": [
      "Accuracy on train data: 0.7323177366702938\n",
      "Accuracy on test data: 0.7442872687704026\n"
     ]
    }
   ],
   "source": [
    "# accuracy on test vs train data\n",
    "print('Accuracy on train data:', nb.score(X_train, y_train))\n",
    "print('Accuracy on test data:', nb.score(X_test, y_test))"
   ]
  },
  {
   "cell_type": "code",
   "execution_count": 15,
   "id": "361d3c61",
   "metadata": {},
   "outputs": [
    {
     "name": "stdout",
     "output_type": "stream",
     "text": [
      "              precision    recall  f1-score   support\n",
      "\n",
      "           0       0.80      0.79      0.79       574\n",
      "           1       0.66      0.66      0.66       345\n",
      "\n",
      "    accuracy                           0.74       919\n",
      "   macro avg       0.73      0.73      0.73       919\n",
      "weighted avg       0.74      0.74      0.74       919\n",
      "\n"
     ]
    }
   ],
   "source": [
    "# classification report\n",
    "print(classification_report(y_test, y_pred))"
   ]
  },
  {
   "cell_type": "markdown",
   "id": "d8d269b1",
   "metadata": {},
   "source": [
    "Multinomial Naive Bayes has an 74% accuracy, a precision of 66% and a recall of 66%. It improved the null model accuracy of 62%."
   ]
  },
  {
   "cell_type": "markdown",
   "id": "5002b628",
   "metadata": {},
   "source": [
    "### 2. Neural Net Classification - 1 hidden layer & early stopping"
   ]
  },
  {
   "cell_type": "code",
   "execution_count": 67,
   "id": "4bfa3a98",
   "metadata": {},
   "outputs": [],
   "source": [
    "# set a random seed\n",
    "tf.random.set_seed(1234)"
   ]
  },
  {
   "cell_type": "code",
   "execution_count": 68,
   "id": "a65d07cc",
   "metadata": {},
   "outputs": [],
   "source": [
    "# split data\n",
    "X_train, X_test, y_train, y_test = train_test_split(X, y, stratify=y, random_state=42)"
   ]
  },
  {
   "cell_type": "code",
   "execution_count": 69,
   "id": "88321e9e",
   "metadata": {},
   "outputs": [],
   "source": [
    "# scale data\n",
    "sc = StandardScaler()\n",
    "X_train_sc = sc.fit_transform(X_train)\n",
    "X_test_sc = sc.transform(X_test)"
   ]
  },
  {
   "cell_type": "code",
   "execution_count": 70,
   "id": "322798e4",
   "metadata": {},
   "outputs": [],
   "source": [
    "# create model with one hidden layer\n",
    "model_nn1 = Sequential()\n",
    "model_nn1.add(Dense(32, input_shape=(X_train_sc.shape[1],), activation='relu'))\n",
    "model_nn1.add(Dense(1, activation='sigmoid'))"
   ]
  },
  {
   "cell_type": "code",
   "execution_count": 71,
   "id": "f09639e1",
   "metadata": {},
   "outputs": [
    {
     "name": "stdout",
     "output_type": "stream",
     "text": [
      "Model: \"sequential_4\"\n",
      "_________________________________________________________________\n",
      "Layer (type)                 Output Shape              Param #   \n",
      "=================================================================\n",
      "dense_11 (Dense)             (None, 32)                1504      \n",
      "_________________________________________________________________\n",
      "dense_12 (Dense)             (None, 1)                 33        \n",
      "=================================================================\n",
      "Total params: 1,537\n",
      "Trainable params: 1,537\n",
      "Non-trainable params: 0\n",
      "_________________________________________________________________\n"
     ]
    }
   ],
   "source": [
    "model_nn1.summary()"
   ]
  },
  {
   "cell_type": "code",
   "execution_count": 72,
   "id": "c5b9e1df",
   "metadata": {},
   "outputs": [],
   "source": [
    "# Compile it\n",
    "model_nn1.compile(loss='bce', optimizer='adam', metrics=['Accuracy', 'Recall', 'Precision'])"
   ]
  },
  {
   "cell_type": "code",
   "execution_count": 73,
   "id": "fa8a2180",
   "metadata": {},
   "outputs": [],
   "source": [
    "# set early stopping\n",
    "early_stop = EarlyStopping(monitor='val_loss', patience=5, verbose=1)"
   ]
  },
  {
   "cell_type": "code",
   "execution_count": 74,
   "id": "56afff43",
   "metadata": {},
   "outputs": [
    {
     "name": "stdout",
     "output_type": "stream",
     "text": [
      "Epoch 1/100\n",
      "87/87 - 1s - loss: 0.5913 - Accuracy: 0.7051 - recall: 0.6915 - precision: 0.5914 - val_loss: 0.4309 - val_Accuracy: 0.8368 - val_recall: 0.7072 - val_precision: 0.8328\n",
      "Epoch 2/100\n",
      "87/87 - 0s - loss: 0.3627 - Accuracy: 0.8836 - recall: 0.7979 - precision: 0.8805 - val_loss: 0.3192 - val_Accuracy: 0.8857 - val_recall: 0.8058 - val_precision: 0.8797\n",
      "Epoch 3/100\n",
      "87/87 - 0s - loss: 0.2809 - Accuracy: 0.9061 - recall: 0.8424 - precision: 0.9007 - val_loss: 0.2748 - val_Accuracy: 0.8988 - val_recall: 0.8348 - val_precision: 0.8889\n",
      "Epoch 4/100\n",
      "87/87 - 0s - loss: 0.2426 - Accuracy: 0.9148 - recall: 0.8569 - precision: 0.9106 - val_loss: 0.2550 - val_Accuracy: 0.9108 - val_recall: 0.8493 - val_precision: 0.9071\n",
      "Epoch 5/100\n",
      "87/87 - 0s - loss: 0.2220 - Accuracy: 0.9166 - recall: 0.8559 - precision: 0.9161 - val_loss: 0.2438 - val_Accuracy: 0.9108 - val_recall: 0.8493 - val_precision: 0.9071\n",
      "Epoch 6/100\n",
      "87/87 - 0s - loss: 0.2096 - Accuracy: 0.9217 - recall: 0.8714 - precision: 0.9157 - val_loss: 0.2396 - val_Accuracy: 0.9108 - val_recall: 0.8493 - val_precision: 0.9071\n",
      "Epoch 7/100\n",
      "87/87 - 0s - loss: 0.2008 - Accuracy: 0.9238 - recall: 0.8694 - precision: 0.9230 - val_loss: 0.2377 - val_Accuracy: 0.9064 - val_recall: 0.8551 - val_precision: 0.8912\n",
      "Epoch 8/100\n",
      "87/87 - 0s - loss: 0.1945 - Accuracy: 0.9256 - recall: 0.8743 - precision: 0.9234 - val_loss: 0.2365 - val_Accuracy: 0.9075 - val_recall: 0.8580 - val_precision: 0.8916\n",
      "Epoch 9/100\n",
      "87/87 - 0s - loss: 0.1888 - Accuracy: 0.9260 - recall: 0.8733 - precision: 0.9252 - val_loss: 0.2348 - val_Accuracy: 0.9097 - val_recall: 0.8667 - val_precision: 0.8899\n",
      "Epoch 10/100\n",
      "87/87 - 0s - loss: 0.1851 - Accuracy: 0.9275 - recall: 0.8781 - precision: 0.9246 - val_loss: 0.2344 - val_Accuracy: 0.9097 - val_recall: 0.8580 - val_precision: 0.8970\n",
      "Epoch 11/100\n",
      "87/87 - 0s - loss: 0.1809 - Accuracy: 0.9289 - recall: 0.8791 - precision: 0.9276 - val_loss: 0.2350 - val_Accuracy: 0.9086 - val_recall: 0.8609 - val_precision: 0.8919\n",
      "Epoch 12/100\n",
      "87/87 - 0s - loss: 0.1769 - Accuracy: 0.9307 - recall: 0.8810 - precision: 0.9305 - val_loss: 0.2336 - val_Accuracy: 0.9064 - val_recall: 0.8580 - val_precision: 0.8889\n",
      "Epoch 13/100\n",
      "87/87 - 0s - loss: 0.1736 - Accuracy: 0.9322 - recall: 0.8830 - precision: 0.9326 - val_loss: 0.2351 - val_Accuracy: 0.9075 - val_recall: 0.8638 - val_precision: 0.8869\n",
      "Epoch 14/100\n",
      "87/87 - 0s - loss: 0.1705 - Accuracy: 0.9340 - recall: 0.8936 - precision: 0.9277 - val_loss: 0.2344 - val_Accuracy: 0.9075 - val_recall: 0.8464 - val_precision: 0.9012\n",
      "Epoch 15/100\n",
      "87/87 - 0s - loss: 0.1675 - Accuracy: 0.9354 - recall: 0.8810 - precision: 0.9431 - val_loss: 0.2371 - val_Accuracy: 0.9075 - val_recall: 0.8696 - val_precision: 0.8824\n",
      "Epoch 16/100\n",
      "87/87 - 0s - loss: 0.1648 - Accuracy: 0.9369 - recall: 0.8907 - precision: 0.9379 - val_loss: 0.2354 - val_Accuracy: 0.9129 - val_recall: 0.8638 - val_precision: 0.9003\n",
      "Epoch 17/100\n",
      "87/87 - 0s - loss: 0.1626 - Accuracy: 0.9373 - recall: 0.8888 - precision: 0.9406 - val_loss: 0.2379 - val_Accuracy: 0.9108 - val_recall: 0.8667 - val_precision: 0.8925\n",
      "Epoch 00017: early stopping\n"
     ]
    }
   ],
   "source": [
    "# fit model\n",
    "history = model_nn1.fit(\n",
    "    X_train_sc, y_train, \n",
    "    validation_data=(X_test_sc, y_test), \n",
    "    epochs=100, \n",
    "    callbacks=[early_stop], \n",
    "    verbose=2,\n",
    "    batch_size=32\n",
    ")"
   ]
  },
  {
   "cell_type": "code",
   "execution_count": 24,
   "id": "a6ad831d",
   "metadata": {},
   "outputs": [
    {
     "data": {
      "text/html": [
       "<div>\n",
       "<style scoped>\n",
       "    .dataframe tbody tr th:only-of-type {\n",
       "        vertical-align: middle;\n",
       "    }\n",
       "\n",
       "    .dataframe tbody tr th {\n",
       "        vertical-align: top;\n",
       "    }\n",
       "\n",
       "    .dataframe thead th {\n",
       "        text-align: right;\n",
       "    }\n",
       "</style>\n",
       "<table border=\"1\" class=\"dataframe\">\n",
       "  <thead>\n",
       "    <tr style=\"text-align: right;\">\n",
       "      <th></th>\n",
       "      <th>loss</th>\n",
       "      <th>Accuracy</th>\n",
       "      <th>recall</th>\n",
       "      <th>precision</th>\n",
       "      <th>val_loss</th>\n",
       "      <th>val_Accuracy</th>\n",
       "      <th>val_recall</th>\n",
       "      <th>val_precision</th>\n",
       "    </tr>\n",
       "  </thead>\n",
       "  <tbody>\n",
       "    <tr>\n",
       "      <th>0</th>\n",
       "      <td>0.591283</td>\n",
       "      <td>0.705114</td>\n",
       "      <td>0.691489</td>\n",
       "      <td>0.591398</td>\n",
       "      <td>0.430915</td>\n",
       "      <td>0.836779</td>\n",
       "      <td>0.707246</td>\n",
       "      <td>0.832765</td>\n",
       "    </tr>\n",
       "    <tr>\n",
       "      <th>1</th>\n",
       "      <td>0.362687</td>\n",
       "      <td>0.883569</td>\n",
       "      <td>0.797872</td>\n",
       "      <td>0.880470</td>\n",
       "      <td>0.319198</td>\n",
       "      <td>0.885745</td>\n",
       "      <td>0.805797</td>\n",
       "      <td>0.879747</td>\n",
       "    </tr>\n",
       "    <tr>\n",
       "      <th>2</th>\n",
       "      <td>0.280935</td>\n",
       "      <td>0.906057</td>\n",
       "      <td>0.842360</td>\n",
       "      <td>0.900724</td>\n",
       "      <td>0.274756</td>\n",
       "      <td>0.898803</td>\n",
       "      <td>0.834783</td>\n",
       "      <td>0.888889</td>\n",
       "    </tr>\n",
       "    <tr>\n",
       "      <th>3</th>\n",
       "      <td>0.242646</td>\n",
       "      <td>0.914762</td>\n",
       "      <td>0.856867</td>\n",
       "      <td>0.910586</td>\n",
       "      <td>0.254992</td>\n",
       "      <td>0.910773</td>\n",
       "      <td>0.849275</td>\n",
       "      <td>0.907121</td>\n",
       "    </tr>\n",
       "    <tr>\n",
       "      <th>4</th>\n",
       "      <td>0.222010</td>\n",
       "      <td>0.916576</td>\n",
       "      <td>0.855899</td>\n",
       "      <td>0.916149</td>\n",
       "      <td>0.243796</td>\n",
       "      <td>0.910773</td>\n",
       "      <td>0.849275</td>\n",
       "      <td>0.907121</td>\n",
       "    </tr>\n",
       "  </tbody>\n",
       "</table>\n",
       "</div>"
      ],
      "text/plain": [
       "       loss  Accuracy    recall  precision  val_loss  val_Accuracy  \\\n",
       "0  0.591283  0.705114  0.691489   0.591398  0.430915      0.836779   \n",
       "1  0.362687  0.883569  0.797872   0.880470  0.319198      0.885745   \n",
       "2  0.280935  0.906057  0.842360   0.900724  0.274756      0.898803   \n",
       "3  0.242646  0.914762  0.856867   0.910586  0.254992      0.910773   \n",
       "4  0.222010  0.916576  0.855899   0.916149  0.243796      0.910773   \n",
       "\n",
       "   val_recall  val_precision  \n",
       "0    0.707246       0.832765  \n",
       "1    0.805797       0.879747  \n",
       "2    0.834783       0.888889  \n",
       "3    0.849275       0.907121  \n",
       "4    0.849275       0.907121  "
      ]
     },
     "execution_count": 24,
     "metadata": {},
     "output_type": "execute_result"
    }
   ],
   "source": [
    "# save history into a df\n",
    "history_df = pd.DataFrame(history.history)\n",
    "history_df.head()"
   ]
  },
  {
   "cell_type": "code",
   "execution_count": 76,
   "id": "8ae523a2",
   "metadata": {},
   "outputs": [
    {
     "data": {
      "image/png": "[encoded data removed]",
      "text/plain": [
       "<Figure size 1440x504 with 3 Axes>"
      ]
     },
     "metadata": {
      "needs_background": "light"
     },
     "output_type": "display_data"
    }
   ],
   "source": [
    "# subplots of accuracy, precision and recall\n",
    "fig, (ax1, ax2, ax3) = plt.subplots(nrows = 1, ncols=3, figsize = (20, 7))\n",
    "fig.suptitle('Accuracy, Precision and Recall Plot of Neural Net Model')\n",
    "\n",
    "# axis 1\n",
    "ax1.plot(history_df['val_Accuracy'], label='Validation Accuracy', color='green')\n",
    "ax1.plot(history_df['Accuracy'], label='Training Accuracy', color='orange')\n",
    "ax1.legend(loc=\"upper left\")\n",
    "# axis 2\n",
    "ax2.plot(history_df['val_precision'], label='Validation Precision', color='green')\n",
    "ax2.plot(history_df['precision'], label='Training Precision', color='orange')\n",
    "ax2.legend(loc=\"upper left\")\n",
    "#axis3\n",
    "ax3.plot(history_df['val_recall'], label='Validation Recall', color='green')\n",
    "ax3.plot(history_df['recall'], label='Training Recall', color='orange')\n",
    "ax3.legend(loc=\"upper right\")\n",
    "\n",
    "plt.legend();"
   ]
  },
  {
   "cell_type": "markdown",
   "id": "67d1bd81",
   "metadata": {},
   "source": [
    "The plots show that this model with one hidden layer and early stopping is slightly overfit. "
   ]
  },
  {
   "cell_type": "code",
   "execution_count": 27,
   "id": "ab0afb64",
   "metadata": {},
   "outputs": [
    {
     "name": "stdout",
     "output_type": "stream",
     "text": [
      "29/29 - 0s - loss: 0.2379 - Accuracy: 0.9108 - recall: 0.8667 - precision: 0.8925\n"
     ]
    },
    {
     "data": {
      "text/plain": [
       "[0.23788246512413025,\n",
       " 0.9107725620269775,\n",
       " 0.8666666746139526,\n",
       " 0.8925372958183289]"
      ]
     },
     "execution_count": 27,
     "metadata": {},
     "output_type": "execute_result"
    }
   ],
   "source": [
    "# evaluate model\n",
    "model_nn1.evaluate(X_test_sc, y_test, verbose=2)"
   ]
  },
  {
   "cell_type": "code",
   "execution_count": 28,
   "id": "051528a7",
   "metadata": {},
   "outputs": [
    {
     "data": {
      "text/plain": [
       "array([[0.9983752 ],\n",
       "       [0.11909774],\n",
       "       [0.5305984 ],\n",
       "       [0.08015236],\n",
       "       [0.04525724],\n",
       "       [0.0776079 ],\n",
       "       [0.01472563],\n",
       "       [0.999033  ],\n",
       "       [0.03794074],\n",
       "       [0.00453642]], dtype=float32)"
      ]
     },
     "execution_count": 28,
     "metadata": {},
     "output_type": "execute_result"
    }
   ],
   "source": [
    "# make predictions\n",
    "y_pred_nn1=model_nn1.predict(X_test_sc)\n",
    "y_pred_nn1[:10]"
   ]
  },
  {
   "cell_type": "code",
   "execution_count": 29,
   "id": "f3b00a26",
   "metadata": {},
   "outputs": [
    {
     "data": {
      "text/plain": [
       "array([[1.],\n",
       "       [0.],\n",
       "       [1.],\n",
       "       [0.],\n",
       "       [0.],\n",
       "       [0.],\n",
       "       [0.],\n",
       "       [1.],\n",
       "       [0.],\n",
       "       [0.]], dtype=float32)"
      ]
     },
     "execution_count": 29,
     "metadata": {},
     "output_type": "execute_result"
    }
   ],
   "source": [
    "# round predicted values\n",
    "y_pred_nn1 =y_pred_nn1.round()\n",
    "y_pred_nn1[:10]"
   ]
  },
  {
   "cell_type": "code",
   "execution_count": 30,
   "id": "89dbc1f3",
   "metadata": {},
   "outputs": [
    {
     "data": {
      "text/plain": [
       "<tf.Tensor: shape=(2, 2), dtype=int32, numpy=\n",
       "array([[538,  36],\n",
       "       [ 46, 299]], dtype=int32)>"
      ]
     },
     "execution_count": 30,
     "metadata": {},
     "output_type": "execute_result"
    }
   ],
   "source": [
    "# confusion matrix using Tensorflow\n",
    "tf.math.confusion_matrix(\n",
    "    y_test, y_pred_nn1\n",
    ")"
   ]
  },
  {
   "cell_type": "code",
   "execution_count": 31,
   "id": "c2e2d9e7",
   "metadata": {},
   "outputs": [
    {
     "name": "stdout",
     "output_type": "stream",
     "text": [
      "              precision    recall  f1-score   support\n",
      "\n",
      "           0       0.92      0.94      0.93       574\n",
      "           1       0.89      0.87      0.88       345\n",
      "\n",
      "    accuracy                           0.91       919\n",
      "   macro avg       0.91      0.90      0.90       919\n",
      "weighted avg       0.91      0.91      0.91       919\n",
      "\n"
     ]
    }
   ],
   "source": [
    "# classification report\n",
    "print(classification_report(y_test, y_pred_nn1))"
   ]
  },
  {
   "cell_type": "markdown",
   "id": "9e192bb9",
   "metadata": {},
   "source": [
    "On test data: \n",
    "- accuracy: 0.9108 \n",
    "- recall: 0.8667 \n",
    "- precision: 0.8925\n",
    "\n",
    "On train data:\n",
    "- accuracy: 0.9373 \n",
    "- recall: 0.8888 \n",
    "- precision: 0.9406\n",
    "\n",
    "This model has an accuracy of 91% which improved the null model accuracy of 62%.  "
   ]
  },
  {
   "cell_type": "markdown",
   "id": "15d36ac7",
   "metadata": {},
   "source": [
    "### Null model"
   ]
  },
  {
   "cell_type": "markdown",
   "id": "43c82942",
   "metadata": {},
   "source": [
    "- For classification problems, we build our null model based on the most frequent value in the train data. We would use the shape of X_test to create array which will be predictions from the null model. "
   ]
  },
  {
   "cell_type": "code",
   "execution_count": 32,
   "id": "f62f3daf",
   "metadata": {},
   "outputs": [
    {
     "data": {
      "text/plain": [
       "(919, 46)"
      ]
     },
     "execution_count": 32,
     "metadata": {},
     "output_type": "execute_result"
    }
   ],
   "source": [
    "# checkout X_test shape\n",
    "X_test.shape"
   ]
  },
  {
   "cell_type": "code",
   "execution_count": 33,
   "id": "ae7b6539",
   "metadata": {},
   "outputs": [
    {
     "data": {
      "text/plain": [
       "0    0.624955\n",
       "1    0.375045\n",
       "Name: voted_gov_num, dtype: float64"
      ]
     },
     "execution_count": 33,
     "metadata": {},
     "output_type": "execute_result"
    }
   ],
   "source": [
    "# which one is the most frequent value?\n",
    "y_train.value_counts(normalize=True)"
   ]
  },
  {
   "cell_type": "code",
   "execution_count": 34,
   "id": "11ae5b06",
   "metadata": {},
   "outputs": [
    {
     "data": {
      "text/plain": [
       "array([0., 0., 0., 0., 0.])"
      ]
     },
     "execution_count": 34,
     "metadata": {},
     "output_type": "execute_result"
    }
   ],
   "source": [
    "# create an array of the most frequent value with number of rows equal to test data\n",
    "# (this will be our null model predictions)\n",
    "y_hat = np.zeros(919)\n",
    "y_hat[:5]"
   ]
  },
  {
   "cell_type": "code",
   "execution_count": 35,
   "id": "cbefc7ae",
   "metadata": {},
   "outputs": [
    {
     "name": "stdout",
     "output_type": "stream",
     "text": [
      "              precision    recall  f1-score   support\n",
      "\n",
      "           0       0.62      1.00      0.77       574\n",
      "           1       0.00      0.00      0.00       345\n",
      "\n",
      "    accuracy                           0.62       919\n",
      "   macro avg       0.31      0.50      0.38       919\n",
      "weighted avg       0.39      0.62      0.48       919\n",
      "\n"
     ]
    },
    {
     "name": "stderr",
     "output_type": "stream",
     "text": [
      "/Users/mekdeswassie/opt/anaconda3/envs/dsi/lib/python3.8/site-packages/sklearn/metrics/_classification.py:1248: UndefinedMetricWarning: Precision and F-score are ill-defined and being set to 0.0 in labels with no predicted samples. Use `zero_division` parameter to control this behavior.\n",
      "  _warn_prf(average, modifier, msg_start, len(result))\n",
      "/Users/mekdeswassie/opt/anaconda3/envs/dsi/lib/python3.8/site-packages/sklearn/metrics/_classification.py:1248: UndefinedMetricWarning: Precision and F-score are ill-defined and being set to 0.0 in labels with no predicted samples. Use `zero_division` parameter to control this behavior.\n",
      "  _warn_prf(average, modifier, msg_start, len(result))\n",
      "/Users/mekdeswassie/opt/anaconda3/envs/dsi/lib/python3.8/site-packages/sklearn/metrics/_classification.py:1248: UndefinedMetricWarning: Precision and F-score are ill-defined and being set to 0.0 in labels with no predicted samples. Use `zero_division` parameter to control this behavior.\n",
      "  _warn_prf(average, modifier, msg_start, len(result))\n"
     ]
    }
   ],
   "source": [
    "# classification report for the null model\n",
    "print(classification_report(y_test, y_hat))"
   ]
  },
  {
   "cell_type": "markdown",
   "id": "83e8758f",
   "metadata": {},
   "source": [
    "Our null model accuracy is 62%."
   ]
  },
  {
   "cell_type": "markdown",
   "id": "c022dfdb",
   "metadata": {},
   "source": [
    "### 3. Neural Net Classification - 2 hidden layers & dropout"
   ]
  },
  {
   "cell_type": "code",
   "execution_count": 77,
   "id": "c370b0af",
   "metadata": {},
   "outputs": [],
   "source": [
    "X_train, X_test, y_train, y_test = train_test_split(X, y, stratify=y, random_state=42)"
   ]
  },
  {
   "cell_type": "code",
   "execution_count": 78,
   "id": "84a603a3",
   "metadata": {},
   "outputs": [],
   "source": [
    "# scale data\n",
    "sc = StandardScaler()\n",
    "X_train_sc = sc.fit_transform(X_train)\n",
    "X_test_sc = sc.transform(X_test)"
   ]
  },
  {
   "cell_type": "code",
   "execution_count": 79,
   "id": "496637e6",
   "metadata": {},
   "outputs": [],
   "source": [
    "model_nn2 = Sequential()"
   ]
  },
  {
   "cell_type": "code",
   "execution_count": 83,
   "id": "c31f42b7",
   "metadata": {},
   "outputs": [],
   "source": [
    "# create model\n",
    "model_nn2.add(Dense(32, input_shape=(X_train_sc.shape[1],), activation='relu'))\n",
    "model_nn2.add(Dropout(0.2))\n",
    "model_nn2.add(Dense(10, activation='relu'))\n",
    "model_nn2.add(Dropout(0.2))\n",
    "model_nn2.add(Dense(1, activation='sigmoid'))"
   ]
  },
  {
   "cell_type": "code",
   "execution_count": 62,
   "id": "28b2737c",
   "metadata": {},
   "outputs": [],
   "source": [
    "# compile model\n",
    "model_nn2.compile(loss='bce', optimizer ='adam', metrics = ['Accuracy', 'Recall', 'Precision'])"
   ]
  },
  {
   "cell_type": "code",
   "execution_count": 66,
   "id": "40907c9a",
   "metadata": {},
   "outputs": [],
   "source": [
    "# fit model\n",
    "history_2 = model_nn2.fit(\n",
    "    X_train_sc,\n",
    "    y_train,\n",
    "    validation_data=(X_test_sc, y_test),\n",
    "    epochs=100,\n",
    "    verbose=0\n",
    ")"
   ]
  },
  {
   "cell_type": "code",
   "execution_count": 64,
   "id": "e9195847",
   "metadata": {
    "scrolled": false
   },
   "outputs": [
    {
     "data": {
      "text/html": [
       "<div>\n",
       "<style scoped>\n",
       "    .dataframe tbody tr th:only-of-type {\n",
       "        vertical-align: middle;\n",
       "    }\n",
       "\n",
       "    .dataframe tbody tr th {\n",
       "        vertical-align: top;\n",
       "    }\n",
       "\n",
       "    .dataframe thead th {\n",
       "        text-align: right;\n",
       "    }\n",
       "</style>\n",
       "<table border=\"1\" class=\"dataframe\">\n",
       "  <thead>\n",
       "    <tr style=\"text-align: right;\">\n",
       "      <th></th>\n",
       "      <th>loss</th>\n",
       "      <th>Accuracy</th>\n",
       "      <th>recall</th>\n",
       "      <th>precision</th>\n",
       "      <th>val_loss</th>\n",
       "      <th>val_Accuracy</th>\n",
       "      <th>val_recall</th>\n",
       "      <th>val_precision</th>\n",
       "    </tr>\n",
       "  </thead>\n",
       "  <tbody>\n",
       "    <tr>\n",
       "      <th>0</th>\n",
       "      <td>0.626487</td>\n",
       "      <td>0.648894</td>\n",
       "      <td>0.625725</td>\n",
       "      <td>0.526873</td>\n",
       "      <td>0.505197</td>\n",
       "      <td>0.831338</td>\n",
       "      <td>0.684058</td>\n",
       "      <td>0.836879</td>\n",
       "    </tr>\n",
       "    <tr>\n",
       "      <th>1</th>\n",
       "      <td>0.439801</td>\n",
       "      <td>0.822996</td>\n",
       "      <td>0.726306</td>\n",
       "      <td>0.785565</td>\n",
       "      <td>0.335098</td>\n",
       "      <td>0.872688</td>\n",
       "      <td>0.762319</td>\n",
       "      <td>0.882550</td>\n",
       "    </tr>\n",
       "    <tr>\n",
       "      <th>2</th>\n",
       "      <td>0.326026</td>\n",
       "      <td>0.879217</td>\n",
       "      <td>0.806576</td>\n",
       "      <td>0.862461</td>\n",
       "      <td>0.279230</td>\n",
       "      <td>0.887922</td>\n",
       "      <td>0.794203</td>\n",
       "      <td>0.895425</td>\n",
       "    </tr>\n",
       "    <tr>\n",
       "      <th>3</th>\n",
       "      <td>0.281677</td>\n",
       "      <td>0.889735</td>\n",
       "      <td>0.823017</td>\n",
       "      <td>0.875514</td>\n",
       "      <td>0.257743</td>\n",
       "      <td>0.898803</td>\n",
       "      <td>0.811594</td>\n",
       "      <td>0.909091</td>\n",
       "    </tr>\n",
       "    <tr>\n",
       "      <th>4</th>\n",
       "      <td>0.261898</td>\n",
       "      <td>0.903156</td>\n",
       "      <td>0.844294</td>\n",
       "      <td>0.891726</td>\n",
       "      <td>0.247071</td>\n",
       "      <td>0.902067</td>\n",
       "      <td>0.826087</td>\n",
       "      <td>0.904762</td>\n",
       "    </tr>\n",
       "  </tbody>\n",
       "</table>\n",
       "</div>"
      ],
      "text/plain": [
       "       loss  Accuracy    recall  precision  val_loss  val_Accuracy  \\\n",
       "0  0.626487  0.648894  0.625725   0.526873  0.505197      0.831338   \n",
       "1  0.439801  0.822996  0.726306   0.785565  0.335098      0.872688   \n",
       "2  0.326026  0.879217  0.806576   0.862461  0.279230      0.887922   \n",
       "3  0.281677  0.889735  0.823017   0.875514  0.257743      0.898803   \n",
       "4  0.261898  0.903156  0.844294   0.891726  0.247071      0.902067   \n",
       "\n",
       "   val_recall  val_precision  \n",
       "0    0.684058       0.836879  \n",
       "1    0.762319       0.882550  \n",
       "2    0.794203       0.895425  \n",
       "3    0.811594       0.909091  \n",
       "4    0.826087       0.904762  "
      ]
     },
     "execution_count": 64,
     "metadata": {},
     "output_type": "execute_result"
    }
   ],
   "source": [
    "# save history into a df\n",
    "history_2_df = pd.DataFrame(history_2.history)\n",
    "history_2_df.head()"
   ]
  },
  {
   "cell_type": "code",
   "execution_count": 43,
   "id": "a281e3f4",
   "metadata": {
    "scrolled": true
   },
   "outputs": [
    {
     "data": {
      "text/plain": [
       "5     0.903156\n",
       "6     0.906420\n",
       "7     0.900979\n",
       "8     0.898803\n",
       "9     0.904244\n",
       "        ...   \n",
       "95    0.904244\n",
       "96    0.907508\n",
       "97    0.903156\n",
       "98    0.906420\n",
       "99    0.908596\n",
       "Name: val_Accuracy, Length: 95, dtype: float64"
      ]
     },
     "execution_count": 43,
     "metadata": {},
     "output_type": "execute_result"
    }
   ],
   "source": [
    "history_2_df['val_Accuracy'][5:]"
   ]
  },
  {
   "cell_type": "code",
   "execution_count": 112,
   "id": "b9676a17",
   "metadata": {},
   "outputs": [
    {
     "data": {
      "image/png": "[encoded data removed]",
      "text/plain": [
       "<Figure size 1440x504 with 3 Axes>"
      ]
     },
     "metadata": {
      "needs_background": "light"
     },
     "output_type": "display_data"
    }
   ],
   "source": [
    "# subplots of accuracy, precision and recall\n",
    "fig, (ax1, ax2, ax3) = plt.subplots(nrows = 1, ncols=3, figsize = (20, 7))\n",
    "fig.suptitle('Accuracy, Precision and Recall Plot of Neural Net Model')\n",
    "\n",
    "# axis 1 - accuracy\n",
    "ax1.plot(history_2_df[\"val_Accuracy\"], label='Validation Accuracy', color='green')\n",
    "ax1.plot(history_2_df[\"Accuracy\"], label='Training Accuracy', color='orange')\n",
    "ax1.legend(loc=\"upper left\")\n",
    "# axis 2 - precision\n",
    "ax2.plot(history_2_df['val_precision'], label='Validation Precision', color='green')\n",
    "ax2.plot(history_2_df['precision'], label='Training Precision', color='orange')\n",
    "ax2.legend(loc=\"upper left\")\n",
    "# axis3 - recall\n",
    "ax3.plot(history_2_df['val_recall'], label='Validation Recall', color='green')\n",
    "ax3.plot(history_2_df['recall'], label='Training Recall', color='orange')\n",
    "ax3.legend(loc=\"upper right\")\n",
    "\n",
    "plt.legend();"
   ]
  },
  {
   "cell_type": "code",
   "execution_count": 45,
   "id": "021d4b33",
   "metadata": {
    "scrolled": true
   },
   "outputs": [
    {
     "name": "stdout",
     "output_type": "stream",
     "text": [
      "29/29 - 0s - loss: 0.3669 - Accuracy: 0.9086 - recall: 0.8667 - precision: 0.8872\n"
     ]
    },
    {
     "data": {
      "text/plain": [
       "[0.3668990731239319,\n",
       " 0.9085962772369385,\n",
       " 0.8666666746139526,\n",
       " 0.8872403502464294]"
      ]
     },
     "execution_count": 45,
     "metadata": {},
     "output_type": "execute_result"
    }
   ],
   "source": [
    "# evaluate model\n",
    "model_nn2.evaluate(X_test_sc, y_test, verbose=2)"
   ]
  },
  {
   "cell_type": "code",
   "execution_count": 46,
   "id": "021dab1b",
   "metadata": {},
   "outputs": [
    {
     "data": {
      "text/plain": [
       "array([[9.9999696e-01],\n",
       "       [4.9172853e-05],\n",
       "       [7.2009778e-01],\n",
       "       [1.8903431e-01],\n",
       "       [1.2260991e-01],\n",
       "       [2.4028391e-02],\n",
       "       [2.6009828e-02],\n",
       "       [9.9999857e-01],\n",
       "       [1.0962973e-05],\n",
       "       [2.3484896e-09]], dtype=float32)"
      ]
     },
     "execution_count": 46,
     "metadata": {},
     "output_type": "execute_result"
    }
   ],
   "source": [
    "# make predictions\n",
    "y_pred_nn2=model_nn2.predict(X_test_sc)\n",
    "y_pred_nn2[:10]"
   ]
  },
  {
   "cell_type": "code",
   "execution_count": 47,
   "id": "b80abc64",
   "metadata": {},
   "outputs": [
    {
     "data": {
      "text/plain": [
       "array([[1.],\n",
       "       [0.],\n",
       "       [1.],\n",
       "       [0.],\n",
       "       [0.],\n",
       "       [0.],\n",
       "       [0.],\n",
       "       [1.],\n",
       "       [0.],\n",
       "       [0.]], dtype=float32)"
      ]
     },
     "execution_count": 47,
     "metadata": {},
     "output_type": "execute_result"
    }
   ],
   "source": [
    "# round predicted values\n",
    "y_pred_nn2 =y_pred_nn2.round()\n",
    "y_pred_nn2[:10]"
   ]
  },
  {
   "cell_type": "code",
   "execution_count": 48,
   "id": "7453d3e2",
   "metadata": {},
   "outputs": [
    {
     "data": {
      "text/plain": [
       "<tf.Tensor: shape=(2, 2), dtype=int32, numpy=\n",
       "array([[536,  38],\n",
       "       [ 46, 299]], dtype=int32)>"
      ]
     },
     "execution_count": 48,
     "metadata": {},
     "output_type": "execute_result"
    }
   ],
   "source": [
    "# confusion matrix using Tensorflow\n",
    "tf.math.confusion_matrix(\n",
    "    y_test, y_pred_nn2\n",
    ")"
   ]
  },
  {
   "cell_type": "code",
   "execution_count": 49,
   "id": "a8aa384c",
   "metadata": {
    "scrolled": true
   },
   "outputs": [
    {
     "name": "stdout",
     "output_type": "stream",
     "text": [
      "              precision    recall  f1-score   support\n",
      "\n",
      "           0       0.92      0.93      0.93       574\n",
      "           1       0.89      0.87      0.88       345\n",
      "\n",
      "    accuracy                           0.91       919\n",
      "   macro avg       0.90      0.90      0.90       919\n",
      "weighted avg       0.91      0.91      0.91       919\n",
      "\n"
     ]
    }
   ],
   "source": [
    "# classification report\n",
    "print(classification_report(y_test, y_pred_nn2))"
   ]
  },
  {
   "cell_type": "markdown",
   "id": "d6358763",
   "metadata": {},
   "source": [
    "### 4. Neural Net Classification - Early stopping & dropout"
   ]
  },
  {
   "cell_type": "code",
   "execution_count": 96,
   "id": "cc67e04c",
   "metadata": {},
   "outputs": [],
   "source": [
    "X_train, X_test, y_train, y_test = train_test_split(X, y, stratify=y, random_state=42)"
   ]
  },
  {
   "cell_type": "code",
   "execution_count": 97,
   "id": "68d81a1b",
   "metadata": {},
   "outputs": [],
   "source": [
    "# scale data\n",
    "sc = StandardScaler()\n",
    "X_train_sc = sc.fit_transform(X_train)\n",
    "X_test_sc = sc.transform(X_test)"
   ]
  },
  {
   "cell_type": "code",
   "execution_count": 98,
   "id": "40779c9d",
   "metadata": {},
   "outputs": [],
   "source": [
    "model_nn3 = Sequential()"
   ]
  },
  {
   "cell_type": "code",
   "execution_count": 99,
   "id": "a099e656",
   "metadata": {},
   "outputs": [],
   "source": [
    "# create model\n",
    "model_nn3.add(Dense(64, input_shape=(X_train_sc.shape[1],), activation='relu'))\n",
    "model_nn3.add(Dropout(0.2))\n",
    "model_nn3.add(Dense(128, activation='relu'))\n",
    "\n",
    "model_nn3.add(Dropout(0.2))\n",
    "model_nn3.add(Dense(32, activation='relu'))\n",
    "\n",
    "model_nn3.add(Dense(1, activation='sigmoid'))"
   ]
  },
  {
   "cell_type": "code",
   "execution_count": 100,
   "id": "dac2bdec",
   "metadata": {},
   "outputs": [],
   "source": [
    "early_stop = EarlyStopping(monitor='val_loss', patience=5, verbose=1)"
   ]
  },
  {
   "cell_type": "code",
   "execution_count": 101,
   "id": "e3f89fa6",
   "metadata": {},
   "outputs": [],
   "source": [
    "# compile model\n",
    "model_nn3.compile(loss='bce', optimizer ='adam', metrics = ['Accuracy', 'Recall', 'Precision'])"
   ]
  },
  {
   "cell_type": "code",
   "execution_count": 102,
   "id": "1726236e",
   "metadata": {},
   "outputs": [
    {
     "name": "stdout",
     "output_type": "stream",
     "text": [
      "Epoch 00010: early stopping\n"
     ]
    }
   ],
   "source": [
    "# fit model\n",
    "history_3 = model_nn3.fit(\n",
    "    X_train_sc,\n",
    "    y_train,\n",
    "    validation_data=(X_test_sc, y_test),\n",
    "    epochs=100,\n",
    "    callbacks=early_stop,\n",
    "    verbose=0\n",
    ")"
   ]
  },
  {
   "cell_type": "code",
   "execution_count": 103,
   "id": "a7b86a62",
   "metadata": {
    "scrolled": false
   },
   "outputs": [
    {
     "data": {
      "text/html": [
       "<div>\n",
       "<style scoped>\n",
       "    .dataframe tbody tr th:only-of-type {\n",
       "        vertical-align: middle;\n",
       "    }\n",
       "\n",
       "    .dataframe tbody tr th {\n",
       "        vertical-align: top;\n",
       "    }\n",
       "\n",
       "    .dataframe thead th {\n",
       "        text-align: right;\n",
       "    }\n",
       "</style>\n",
       "<table border=\"1\" class=\"dataframe\">\n",
       "  <thead>\n",
       "    <tr style=\"text-align: right;\">\n",
       "      <th></th>\n",
       "      <th>loss</th>\n",
       "      <th>Accuracy</th>\n",
       "      <th>recall</th>\n",
       "      <th>precision</th>\n",
       "      <th>val_loss</th>\n",
       "      <th>val_Accuracy</th>\n",
       "      <th>val_recall</th>\n",
       "      <th>val_precision</th>\n",
       "    </tr>\n",
       "  </thead>\n",
       "  <tbody>\n",
       "    <tr>\n",
       "      <th>0</th>\n",
       "      <td>0.481302</td>\n",
       "      <td>0.778382</td>\n",
       "      <td>0.524178</td>\n",
       "      <td>0.819970</td>\n",
       "      <td>0.310182</td>\n",
       "      <td>0.879217</td>\n",
       "      <td>0.805797</td>\n",
       "      <td>0.863354</td>\n",
       "    </tr>\n",
       "    <tr>\n",
       "      <th>1</th>\n",
       "      <td>0.277066</td>\n",
       "      <td>0.894088</td>\n",
       "      <td>0.839458</td>\n",
       "      <td>0.873239</td>\n",
       "      <td>0.259717</td>\n",
       "      <td>0.905332</td>\n",
       "      <td>0.843478</td>\n",
       "      <td>0.898148</td>\n",
       "    </tr>\n",
       "    <tr>\n",
       "      <th>2</th>\n",
       "      <td>0.234930</td>\n",
       "      <td>0.910047</td>\n",
       "      <td>0.855899</td>\n",
       "      <td>0.899390</td>\n",
       "      <td>0.250881</td>\n",
       "      <td>0.909684</td>\n",
       "      <td>0.837681</td>\n",
       "      <td>0.914557</td>\n",
       "    </tr>\n",
       "    <tr>\n",
       "      <th>3</th>\n",
       "      <td>0.219759</td>\n",
       "      <td>0.913674</td>\n",
       "      <td>0.862669</td>\n",
       "      <td>0.902834</td>\n",
       "      <td>0.239388</td>\n",
       "      <td>0.910773</td>\n",
       "      <td>0.843478</td>\n",
       "      <td>0.912226</td>\n",
       "    </tr>\n",
       "    <tr>\n",
       "      <th>4</th>\n",
       "      <td>0.205011</td>\n",
       "      <td>0.920566</td>\n",
       "      <td>0.864603</td>\n",
       "      <td>0.918808</td>\n",
       "      <td>0.233520</td>\n",
       "      <td>0.911861</td>\n",
       "      <td>0.846377</td>\n",
       "      <td>0.912500</td>\n",
       "    </tr>\n",
       "  </tbody>\n",
       "</table>\n",
       "</div>"
      ],
      "text/plain": [
       "       loss  Accuracy    recall  precision  val_loss  val_Accuracy  \\\n",
       "0  0.481302  0.778382  0.524178   0.819970  0.310182      0.879217   \n",
       "1  0.277066  0.894088  0.839458   0.873239  0.259717      0.905332   \n",
       "2  0.234930  0.910047  0.855899   0.899390  0.250881      0.909684   \n",
       "3  0.219759  0.913674  0.862669   0.902834  0.239388      0.910773   \n",
       "4  0.205011  0.920566  0.864603   0.918808  0.233520      0.911861   \n",
       "\n",
       "   val_recall  val_precision  \n",
       "0    0.805797       0.863354  \n",
       "1    0.843478       0.898148  \n",
       "2    0.837681       0.914557  \n",
       "3    0.843478       0.912226  \n",
       "4    0.846377       0.912500  "
      ]
     },
     "execution_count": 103,
     "metadata": {},
     "output_type": "execute_result"
    }
   ],
   "source": [
    "# save history into a df\n",
    "history_3_df = pd.DataFrame(history_3.history)\n",
    "history_3_df.head()"
   ]
  },
  {
   "cell_type": "code",
   "execution_count": 104,
   "id": "2c06319c",
   "metadata": {
    "scrolled": true
   },
   "outputs": [
    {
     "data": {
      "text/plain": [
       "5    0.908596\n",
       "6    0.908596\n",
       "7    0.907508\n",
       "8    0.909684\n",
       "9    0.911861\n",
       "Name: val_Accuracy, dtype: float64"
      ]
     },
     "execution_count": 104,
     "metadata": {},
     "output_type": "execute_result"
    }
   ],
   "source": [
    "history_3_df['val_Accuracy'][5:]"
   ]
  },
  {
   "cell_type": "code",
   "execution_count": 111,
   "id": "2ff76cc4",
   "metadata": {},
   "outputs": [
    {
     "data": {
      "image/png": "[encoded data removed]",
      "text/plain": [
       "<Figure size 1440x504 with 3 Axes>"
      ]
     },
     "metadata": {
      "needs_background": "light"
     },
     "output_type": "display_data"
    }
   ],
   "source": [
    "# subplots of accuracy, precision and recall\n",
    "fig, (ax1, ax2, ax3) = plt.subplots(nrows = 1, ncols=3, figsize = (20, 7))\n",
    "fig.suptitle('Accuracy, Precision, Recall')\n",
    "\n",
    "# axis 1 - accuracy\n",
    "ax1.plot(history_3_df[\"val_Accuracy\"], label='Validation Accuracy', color='green')\n",
    "ax1.plot(history_3_df[\"Accuracy\"], label='Training Accuracy', color='orange')\n",
    "ax1.legend(loc=\"upper left\")\n",
    "# axis 2 - precision\n",
    "ax2.plot(history_3_df['val_precision'], label='Validation Precision', color='green')\n",
    "ax2.plot(history_3_df['precision'], label='Training Precision', color='orange')\n",
    "ax2.legend(loc=\"upper left\")\n",
    "# axis3 - recall\n",
    "ax3.plot(history_3_df['val_recall'], label='Validation Recall', color='green')\n",
    "ax3.plot(history_3_df['recall'], label='Training Recall', color='orange')\n",
    "ax3.legend(loc=\"upper left\")\n",
    "\n",
    "plt.legend();"
   ]
  },
  {
   "cell_type": "code",
   "execution_count": 106,
   "id": "201f0a1c",
   "metadata": {
    "scrolled": true
   },
   "outputs": [
    {
     "name": "stdout",
     "output_type": "stream",
     "text": [
      "29/29 - 0s - loss: 0.2478 - Accuracy: 0.9119 - recall: 0.8667 - precision: 0.8952\n"
     ]
    },
    {
     "data": {
      "text/plain": [
       "[0.2477688193321228,\n",
       " 0.9118607044219971,\n",
       " 0.8666666746139526,\n",
       " 0.8952096104621887]"
      ]
     },
     "execution_count": 106,
     "metadata": {},
     "output_type": "execute_result"
    }
   ],
   "source": [
    "# evaluate model\n",
    "model_nn3.evaluate(X_test_sc, y_test, verbose=2)"
   ]
  },
  {
   "cell_type": "code",
   "execution_count": 107,
   "id": "4b0dcd8d",
   "metadata": {},
   "outputs": [
    {
     "data": {
      "text/plain": [
       "array([[9.9910712e-01],\n",
       "       [4.6985239e-02],\n",
       "       [7.8418142e-01],\n",
       "       [4.5934230e-02],\n",
       "       [6.5255821e-02],\n",
       "       [4.9120307e-02],\n",
       "       [2.4783432e-02],\n",
       "       [9.9934804e-01],\n",
       "       [1.7729998e-03],\n",
       "       [5.0511956e-04]], dtype=float32)"
      ]
     },
     "execution_count": 107,
     "metadata": {},
     "output_type": "execute_result"
    }
   ],
   "source": [
    "# make predictions\n",
    "y_pred_nn3=model_nn3.predict(X_test_sc)\n",
    "y_pred_nn3[:10]"
   ]
  },
  {
   "cell_type": "code",
   "execution_count": 108,
   "id": "587d393a",
   "metadata": {},
   "outputs": [
    {
     "data": {
      "text/plain": [
       "array([[1.],\n",
       "       [0.],\n",
       "       [1.],\n",
       "       [0.],\n",
       "       [0.],\n",
       "       [0.],\n",
       "       [0.],\n",
       "       [1.],\n",
       "       [0.],\n",
       "       [0.]], dtype=float32)"
      ]
     },
     "execution_count": 108,
     "metadata": {},
     "output_type": "execute_result"
    }
   ],
   "source": [
    "# round predicted values\n",
    "y_pred_nn3 =y_pred_nn3.round()\n",
    "y_pred_nn3[:10]"
   ]
  },
  {
   "cell_type": "code",
   "execution_count": 109,
   "id": "97675df0",
   "metadata": {},
   "outputs": [
    {
     "data": {
      "text/plain": [
       "<tf.Tensor: shape=(2, 2), dtype=int32, numpy=\n",
       "array([[539,  35],\n",
       "       [ 46, 299]], dtype=int32)>"
      ]
     },
     "execution_count": 109,
     "metadata": {},
     "output_type": "execute_result"
    }
   ],
   "source": [
    "# confusion matrix using Tensorflow\n",
    "tf.math.confusion_matrix(\n",
    "    y_test, y_pred_nn3\n",
    ")"
   ]
  },
  {
   "cell_type": "code",
   "execution_count": 110,
   "id": "981c4a50",
   "metadata": {
    "scrolled": true
   },
   "outputs": [
    {
     "name": "stdout",
     "output_type": "stream",
     "text": [
      "              precision    recall  f1-score   support\n",
      "\n",
      "           0       0.92      0.94      0.93       574\n",
      "           1       0.90      0.87      0.88       345\n",
      "\n",
      "    accuracy                           0.91       919\n",
      "   macro avg       0.91      0.90      0.91       919\n",
      "weighted avg       0.91      0.91      0.91       919\n",
      "\n"
     ]
    }
   ],
   "source": [
    "# classification report\n",
    "print(classification_report(y_test, y_pred_nn3))"
   ]
  },
  {
   "cell_type": "markdown",
   "id": "4fae5cbb",
   "metadata": {},
   "source": [
    "### GridSearch with nn"
   ]
  },
  {
   "cell_type": "code",
   "execution_count": 50,
   "id": "0fbdc13c",
   "metadata": {},
   "outputs": [],
   "source": [
    "X_train, X_test, y_train, y_test = train_test_split(X, y, random_state=42)"
   ]
  },
  {
   "cell_type": "code",
   "execution_count": 51,
   "id": "56ca9078",
   "metadata": {},
   "outputs": [],
   "source": [
    "ss = StandardScaler()\n",
    "X_train_sc = ss.fit_transform(X_train)\n",
    "X_test_sc = ss.transform(X_test)"
   ]
  },
  {
   "cell_type": "code",
   "execution_count": 52,
   "id": "ead9cbbb",
   "metadata": {},
   "outputs": [],
   "source": [
    "# Add an arugment of number of layers to the function (and loop through it) \n",
    "def model_fn_deep(hidden_neurons=32, hidden_layers=5, dropout=0.5):\n",
    "  model = Sequential()\n",
    "  for layer in range(hidden_layers):\n",
    "    if layer == 0:\n",
    "      model.add(Dense(hidden_neurons, input_shape=(46,), activation='relu'))\n",
    "      model.add(Dropout(dropout))\n",
    "    else:\n",
    "      model.add(Dense(hidden_neurons, activation='relu'))\n",
    "      model.add(Dropout(dropout))\n",
    "\n",
    "  model.add(Dense(1, activation='sigmoid'))\n",
    "\n",
    "  model.compile(loss='bce', optimizer='adam', metrics =['Recall', 'Precision'])\n",
    "\n",
    "  return model\n",
    "\n",
    "nn_deep = KerasClassifier(build_fn=model_fn_deep, batch_size=32, verbose=2)"
   ]
  },
  {
   "cell_type": "code",
   "execution_count": 53,
   "id": "3e529fec",
   "metadata": {},
   "outputs": [
    {
     "name": "stderr",
     "output_type": "stream",
     "text": [
      "/Users/mekdeswassie/opt/anaconda3/envs/dsi/lib/python3.8/site-packages/sklearn/model_selection/_search.py:922: UserWarning: One or more of the test scores are non-finite: [nan nan nan nan nan nan nan nan nan nan nan nan]\n",
      "  warnings.warn(\n"
     ]
    },
    {
     "name": "stdout",
     "output_type": "stream",
     "text": [
      "Epoch 1/10\n",
      "87/87 - 1s - loss: 0.5258 - recall: 0.5641 - precision: 0.7040\n",
      "Epoch 2/10\n",
      "87/87 - 0s - loss: 0.3370 - recall: 0.7859 - precision: 0.8428\n",
      "Epoch 3/10\n",
      "87/87 - 0s - loss: 0.2678 - recall: 0.8467 - precision: 0.8676\n",
      "Epoch 4/10\n",
      "87/87 - 0s - loss: 0.2415 - recall: 0.8602 - precision: 0.8858\n",
      "Epoch 5/10\n",
      "87/87 - 0s - loss: 0.2262 - recall: 0.8544 - precision: 0.8977\n",
      "Epoch 6/10\n",
      "87/87 - 0s - loss: 0.2088 - recall: 0.8640 - precision: 0.9051\n",
      "Epoch 7/10\n",
      "87/87 - 0s - loss: 0.2062 - recall: 0.8717 - precision: 0.9150\n",
      "Epoch 8/10\n",
      "87/87 - 0s - loss: 0.2002 - recall: 0.8795 - precision: 0.9102\n",
      "Epoch 9/10\n",
      "87/87 - 0s - loss: 0.1988 - recall: 0.8737 - precision: 0.9142\n",
      "Epoch 10/10\n",
      "87/87 - 0s - loss: 0.1858 - recall: 0.8910 - precision: 0.9176\n",
      "{'dropout': 0.1, 'epochs': 10, 'hidden_layers': 2, 'hidden_neurons': 32}\n"
     ]
    },
    {
     "data": {
      "text/plain": [
       "nan"
      ]
     },
     "execution_count": 53,
     "metadata": {},
     "output_type": "execute_result"
    }
   ],
   "source": [
    "nn_params_deep = {\n",
    "    'hidden_neurons': [32, 64],\n",
    "    'hidden_layers': [2, 3],\n",
    "    'dropout': [0.1, 0.2, 0.5],\n",
    "    'epochs': [10, 20]\n",
    "}\n",
    "\n",
    "gs_deep = GridSearchCV(nn_deep, param_grid=nn_params_deep, cv=3, n_jobs=-1)\n",
    "gs_deep.fit(X_train_sc, y_train)\n",
    "print(gs_deep.best_params_)\n",
    "gs_deep.best_score_"
   ]
  },
  {
   "cell_type": "code",
   "execution_count": 54,
   "id": "7e69a548",
   "metadata": {},
   "outputs": [],
   "source": [
    "# Make predictions \n",
    "preds_deep = gs_deep.predict(X_test_sc)"
   ]
  },
  {
   "cell_type": "code",
   "execution_count": 55,
   "id": "60b9fe56",
   "metadata": {},
   "outputs": [
    {
     "data": {
      "text/plain": [
       "<tf.Tensor: shape=(2, 2), dtype=int32, numpy=\n",
       "array([[544,  33],\n",
       "       [ 46, 296]], dtype=int32)>"
      ]
     },
     "execution_count": 55,
     "metadata": {},
     "output_type": "execute_result"
    }
   ],
   "source": [
    "# confusion matrix using Tensorflow\n",
    "tf.math.confusion_matrix(\n",
    "    y_test, preds_deep\n",
    ")"
   ]
  },
  {
   "cell_type": "code",
   "execution_count": 56,
   "id": "6d57e330",
   "metadata": {},
   "outputs": [
    {
     "name": "stdout",
     "output_type": "stream",
     "text": [
      "              precision    recall  f1-score   support\n",
      "\n",
      "           0       0.92      0.94      0.93       577\n",
      "           1       0.90      0.87      0.88       342\n",
      "\n",
      "    accuracy                           0.91       919\n",
      "   macro avg       0.91      0.90      0.91       919\n",
      "weighted avg       0.91      0.91      0.91       919\n",
      "\n"
     ]
    }
   ],
   "source": [
    "# classification report\n",
    "print(classification_report(y_test, preds_deep))"
   ]
  }
 ],
 "metadata": {
  "kernelspec": {
   "display_name": "Python [conda env:dsi]",
   "language": "python",
   "name": "conda-env-dsi-py"
  },
  "language_info": {
   "codemirror_mode": {
    "name": "ipython",
    "version": 3
   },
   "file_extension": ".py",
   "mimetype": "text/x-python",
   "name": "python",
   "nbconvert_exporter": "python",
   "pygments_lexer": "ipython3",
   "version": "3.8.8"
  }
 },
 "nbformat": 4,
 "nbformat_minor": 5
}
