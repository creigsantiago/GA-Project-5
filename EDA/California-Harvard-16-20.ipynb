{
 "cells": [
  {
   "cell_type": "code",
   "execution_count": 1,
   "metadata": {},
   "outputs": [],
   "source": [
    "import pandas as pd\n",
    "import numpy as np\n",
    "import seaborn as sns"
   ]
  },
  {
   "cell_type": "code",
   "execution_count": 2,
   "metadata": {},
   "outputs": [],
   "source": [
    "df = pd.read_stata('/Users/zaidaziz/Desktop/Havard Dataset/cumulative_2006-2020.dta')"
   ]
  },
  {
   "cell_type": "code",
   "execution_count": 3,
   "metadata": {},
   "outputs": [
    {
     "data": {
      "text/html": [
       "<div>\n",
       "<style scoped>\n",
       "    .dataframe tbody tr th:only-of-type {\n",
       "        vertical-align: middle;\n",
       "    }\n",
       "\n",
       "    .dataframe tbody tr th {\n",
       "        vertical-align: top;\n",
       "    }\n",
       "\n",
       "    .dataframe thead th {\n",
       "        text-align: right;\n",
       "    }\n",
       "</style>\n",
       "<table border=\"1\" class=\"dataframe\">\n",
       "  <thead>\n",
       "    <tr style=\"text-align: right;\">\n",
       "      <th></th>\n",
       "      <th>year</th>\n",
       "      <th>case_id</th>\n",
       "      <th>weight</th>\n",
       "      <th>weight_cumulative</th>\n",
       "      <th>state</th>\n",
       "      <th>st</th>\n",
       "      <th>cong</th>\n",
       "      <th>cong_up</th>\n",
       "      <th>state_post</th>\n",
       "      <th>st_post</th>\n",
       "      <th>...</th>\n",
       "      <th>voted_rep_chosen</th>\n",
       "      <th>voted_sen_chosen</th>\n",
       "      <th>voted_gov_chosen</th>\n",
       "      <th>rep_current</th>\n",
       "      <th>rep_icpsr</th>\n",
       "      <th>sen1_current</th>\n",
       "      <th>sen1_icpsr</th>\n",
       "      <th>sen2_current</th>\n",
       "      <th>sen2_icpsr</th>\n",
       "      <th>gov_current</th>\n",
       "    </tr>\n",
       "  </thead>\n",
       "  <tbody>\n",
       "    <tr>\n",
       "      <th>0</th>\n",
       "      <td>2006</td>\n",
       "      <td>439219</td>\n",
       "      <td>1.851676</td>\n",
       "      <td>1.667581</td>\n",
       "      <td>North Carolina</td>\n",
       "      <td>NC</td>\n",
       "      <td>109</td>\n",
       "      <td>110</td>\n",
       "      <td>North Carolina</td>\n",
       "      <td>NC</td>\n",
       "      <td>...</td>\n",
       "      <td>Richard C. Carsner (D)</td>\n",
       "      <td></td>\n",
       "      <td></td>\n",
       "      <td>Patrick T. McHenry (R)</td>\n",
       "      <td>20522</td>\n",
       "      <td>Elizabeth Dole (R)</td>\n",
       "      <td>40303</td>\n",
       "      <td>Richard Burr (R)</td>\n",
       "      <td>29548</td>\n",
       "      <td>Michael Easley (D)</td>\n",
       "    </tr>\n",
       "    <tr>\n",
       "      <th>1</th>\n",
       "      <td>2006</td>\n",
       "      <td>439224</td>\n",
       "      <td>0.968308</td>\n",
       "      <td>0.872039</td>\n",
       "      <td>Ohio</td>\n",
       "      <td>OH</td>\n",
       "      <td>109</td>\n",
       "      <td>110</td>\n",
       "      <td>Ohio</td>\n",
       "      <td>OH</td>\n",
       "      <td>...</td>\n",
       "      <td>Stephanie Studebaker (D)</td>\n",
       "      <td>Sherrod C. Brown (D)</td>\n",
       "      <td>Ted Strickland (D)</td>\n",
       "      <td>Michael R. Turner (R)</td>\n",
       "      <td>20342</td>\n",
       "      <td>Mike DeWine (R)</td>\n",
       "      <td>15020</td>\n",
       "      <td>George V. Voinovich (R)</td>\n",
       "      <td>49903</td>\n",
       "      <td>Bob Taft (R)</td>\n",
       "    </tr>\n",
       "    <tr>\n",
       "      <th>2</th>\n",
       "      <td>2006</td>\n",
       "      <td>439228</td>\n",
       "      <td>1.593441</td>\n",
       "      <td>1.435020</td>\n",
       "      <td>New Jersey</td>\n",
       "      <td>NJ</td>\n",
       "      <td>109</td>\n",
       "      <td>110</td>\n",
       "      <td>New Jersey</td>\n",
       "      <td>NJ</td>\n",
       "      <td>...</td>\n",
       "      <td>Robert E. Andrews (D)</td>\n",
       "      <td>Robert Menendez (D)</td>\n",
       "      <td></td>\n",
       "      <td>Robert E. Andrews (D)</td>\n",
       "      <td>29132</td>\n",
       "      <td>Robert Menendez (D)</td>\n",
       "      <td>29373</td>\n",
       "      <td>Frank R. Lautenberg (D)</td>\n",
       "      <td>14914</td>\n",
       "      <td>Jon Corzine (D)</td>\n",
       "    </tr>\n",
       "    <tr>\n",
       "      <th>3</th>\n",
       "      <td>2006</td>\n",
       "      <td>439237</td>\n",
       "      <td>1.398529</td>\n",
       "      <td>1.259486</td>\n",
       "      <td>Illinois</td>\n",
       "      <td>IL</td>\n",
       "      <td>109</td>\n",
       "      <td>110</td>\n",
       "      <td>Illinois</td>\n",
       "      <td>IL</td>\n",
       "      <td>...</td>\n",
       "      <td>Janice D. Schakowsky (D)</td>\n",
       "      <td></td>\n",
       "      <td>Rod Blagojevich (D)</td>\n",
       "      <td>Janice D. Schakowsky (D)</td>\n",
       "      <td>29911</td>\n",
       "      <td>Richard Durbin (D)</td>\n",
       "      <td>15021</td>\n",
       "      <td>Barack Obama (D)</td>\n",
       "      <td>40502</td>\n",
       "      <td>Rod Blagojevich (D)</td>\n",
       "    </tr>\n",
       "    <tr>\n",
       "      <th>4</th>\n",
       "      <td>2006</td>\n",
       "      <td>439238</td>\n",
       "      <td>0.902890</td>\n",
       "      <td>0.813124</td>\n",
       "      <td>New York</td>\n",
       "      <td>NY</td>\n",
       "      <td>109</td>\n",
       "      <td>110</td>\n",
       "      <td>New York</td>\n",
       "      <td>NY</td>\n",
       "      <td>...</td>\n",
       "      <td>Maurice D. Hinchey (D)</td>\n",
       "      <td>Hillary Rodham Clinton (D)</td>\n",
       "      <td>Eliot Spitzer (D)</td>\n",
       "      <td>Maurice D. Hinchey (D)</td>\n",
       "      <td>29380</td>\n",
       "      <td>Charles E. Schumer (D)</td>\n",
       "      <td>14858</td>\n",
       "      <td>Hillary Rodham Clinton (D)</td>\n",
       "      <td>40105</td>\n",
       "      <td>George Pataki (R)</td>\n",
       "    </tr>\n",
       "  </tbody>\n",
       "</table>\n",
       "<p>5 rows × 93 columns</p>\n",
       "</div>"
      ],
      "text/plain": [
       "   year case_id    weight  weight_cumulative           state  st cong cong_up  \\\n",
       "0  2006  439219  1.851676           1.667581  North Carolina  NC  109     110   \n",
       "1  2006  439224  0.968308           0.872039            Ohio  OH  109     110   \n",
       "2  2006  439228  1.593441           1.435020      New Jersey  NJ  109     110   \n",
       "3  2006  439237  1.398529           1.259486        Illinois  IL  109     110   \n",
       "4  2006  439238  0.902890           0.813124        New York  NY  109     110   \n",
       "\n",
       "       state_post st_post  ...          voted_rep_chosen  \\\n",
       "0  North Carolina      NC  ...    Richard C. Carsner (D)   \n",
       "1            Ohio      OH  ...  Stephanie Studebaker (D)   \n",
       "2      New Jersey      NJ  ...     Robert E. Andrews (D)   \n",
       "3        Illinois      IL  ...  Janice D. Schakowsky (D)   \n",
       "4        New York      NY  ...    Maurice D. Hinchey (D)   \n",
       "\n",
       "             voted_sen_chosen     voted_gov_chosen               rep_current  \\\n",
       "0                                                     Patrick T. McHenry (R)   \n",
       "1        Sherrod C. Brown (D)   Ted Strickland (D)     Michael R. Turner (R)   \n",
       "2         Robert Menendez (D)                          Robert E. Andrews (D)   \n",
       "3                              Rod Blagojevich (D)  Janice D. Schakowsky (D)   \n",
       "4  Hillary Rodham Clinton (D)    Eliot Spitzer (D)    Maurice D. Hinchey (D)   \n",
       "\n",
       "   rep_icpsr            sen1_current sen1_icpsr                sen2_current  \\\n",
       "0      20522      Elizabeth Dole (R)      40303            Richard Burr (R)   \n",
       "1      20342         Mike DeWine (R)      15020     George V. Voinovich (R)   \n",
       "2      29132     Robert Menendez (D)      29373     Frank R. Lautenberg (D)   \n",
       "3      29911      Richard Durbin (D)      15021            Barack Obama (D)   \n",
       "4      29380  Charles E. Schumer (D)      14858  Hillary Rodham Clinton (D)   \n",
       "\n",
       "  sen2_icpsr          gov_current  \n",
       "0      29548   Michael Easley (D)  \n",
       "1      49903         Bob Taft (R)  \n",
       "2      14914      Jon Corzine (D)  \n",
       "3      40502  Rod Blagojevich (D)  \n",
       "4      40105    George Pataki (R)  \n",
       "\n",
       "[5 rows x 93 columns]"
      ]
     },
     "execution_count": 3,
     "metadata": {},
     "output_type": "execute_result"
    }
   ],
   "source": [
    "df.head()"
   ]
  },
  {
   "cell_type": "code",
   "execution_count": 4,
   "metadata": {},
   "outputs": [
    {
     "data": {
      "text/html": [
       "<div>\n",
       "<style scoped>\n",
       "    .dataframe tbody tr th:only-of-type {\n",
       "        vertical-align: middle;\n",
       "    }\n",
       "\n",
       "    .dataframe tbody tr th {\n",
       "        vertical-align: top;\n",
       "    }\n",
       "\n",
       "    .dataframe thead th {\n",
       "        text-align: right;\n",
       "    }\n",
       "</style>\n",
       "<table border=\"1\" class=\"dataframe\">\n",
       "  <thead>\n",
       "    <tr style=\"text-align: right;\">\n",
       "      <th></th>\n",
       "      <th>year</th>\n",
       "      <th>case_id</th>\n",
       "      <th>weight</th>\n",
       "      <th>weight_cumulative</th>\n",
       "      <th>state</th>\n",
       "      <th>st</th>\n",
       "      <th>cong</th>\n",
       "      <th>cong_up</th>\n",
       "      <th>state_post</th>\n",
       "      <th>st_post</th>\n",
       "      <th>...</th>\n",
       "      <th>voted_rep_chosen</th>\n",
       "      <th>voted_sen_chosen</th>\n",
       "      <th>voted_gov_chosen</th>\n",
       "      <th>rep_current</th>\n",
       "      <th>rep_icpsr</th>\n",
       "      <th>sen1_current</th>\n",
       "      <th>sen1_icpsr</th>\n",
       "      <th>sen2_current</th>\n",
       "      <th>sen2_icpsr</th>\n",
       "      <th>gov_current</th>\n",
       "    </tr>\n",
       "  </thead>\n",
       "  <tbody>\n",
       "    <tr>\n",
       "      <th>309976</th>\n",
       "      <td>2016</td>\n",
       "      <td>299793268</td>\n",
       "      <td>2.464577</td>\n",
       "      <td>1.251364</td>\n",
       "      <td>California</td>\n",
       "      <td>CA</td>\n",
       "      <td>114</td>\n",
       "      <td>115</td>\n",
       "      <td>California</td>\n",
       "      <td>CA</td>\n",
       "      <td>...</td>\n",
       "      <td></td>\n",
       "      <td></td>\n",
       "      <td></td>\n",
       "      <td>Jerry McNerney (D)</td>\n",
       "      <td>20702</td>\n",
       "      <td>Dianne Feinstein (D)</td>\n",
       "      <td>49300</td>\n",
       "      <td>Barbara Boxer (D)</td>\n",
       "      <td>15011</td>\n",
       "      <td>Jerry Brown (D)</td>\n",
       "    </tr>\n",
       "    <tr>\n",
       "      <th>309979</th>\n",
       "      <td>2016</td>\n",
       "      <td>299929287</td>\n",
       "      <td>2.049700</td>\n",
       "      <td>1.040715</td>\n",
       "      <td>California</td>\n",
       "      <td>CA</td>\n",
       "      <td>114</td>\n",
       "      <td>115</td>\n",
       "      <td>NaN</td>\n",
       "      <td>NaN</td>\n",
       "      <td>...</td>\n",
       "      <td></td>\n",
       "      <td></td>\n",
       "      <td></td>\n",
       "      <td>Brad Sherman (D)</td>\n",
       "      <td>29707</td>\n",
       "      <td>Dianne Feinstein (D)</td>\n",
       "      <td>49300</td>\n",
       "      <td>Barbara Boxer (D)</td>\n",
       "      <td>15011</td>\n",
       "      <td>Jerry Brown (D)</td>\n",
       "    </tr>\n",
       "    <tr>\n",
       "      <th>309994</th>\n",
       "      <td>2016</td>\n",
       "      <td>300678759</td>\n",
       "      <td>0.278606</td>\n",
       "      <td>0.141459</td>\n",
       "      <td>California</td>\n",
       "      <td>CA</td>\n",
       "      <td>114</td>\n",
       "      <td>115</td>\n",
       "      <td>California</td>\n",
       "      <td>CA</td>\n",
       "      <td>...</td>\n",
       "      <td>Ted Lieu (D)</td>\n",
       "      <td>Kamala D. Harris (D)</td>\n",
       "      <td></td>\n",
       "      <td>Ted Lieu (D)</td>\n",
       "      <td>21507</td>\n",
       "      <td>Dianne Feinstein (D)</td>\n",
       "      <td>49300</td>\n",
       "      <td>Barbara Boxer (D)</td>\n",
       "      <td>15011</td>\n",
       "      <td>Jerry Brown (D)</td>\n",
       "    </tr>\n",
       "    <tr>\n",
       "      <th>309995</th>\n",
       "      <td>2016</td>\n",
       "      <td>300756130</td>\n",
       "      <td>0.064245</td>\n",
       "      <td>0.032620</td>\n",
       "      <td>California</td>\n",
       "      <td>CA</td>\n",
       "      <td>114</td>\n",
       "      <td>115</td>\n",
       "      <td>California</td>\n",
       "      <td>CA</td>\n",
       "      <td>...</td>\n",
       "      <td></td>\n",
       "      <td></td>\n",
       "      <td></td>\n",
       "      <td>Kevin McCarthy (R)</td>\n",
       "      <td>20703</td>\n",
       "      <td>Dianne Feinstein (D)</td>\n",
       "      <td>49300</td>\n",
       "      <td>Barbara Boxer (D)</td>\n",
       "      <td>15011</td>\n",
       "      <td>Jerry Brown (D)</td>\n",
       "    </tr>\n",
       "    <tr>\n",
       "      <th>310003</th>\n",
       "      <td>2016</td>\n",
       "      <td>300894516</td>\n",
       "      <td>0.209963</td>\n",
       "      <td>0.106606</td>\n",
       "      <td>California</td>\n",
       "      <td>CA</td>\n",
       "      <td>114</td>\n",
       "      <td>115</td>\n",
       "      <td>California</td>\n",
       "      <td>CA</td>\n",
       "      <td>...</td>\n",
       "      <td>Brett Murdock (D)</td>\n",
       "      <td>Kamala D. Harris (D)</td>\n",
       "      <td></td>\n",
       "      <td>Ed Royce (R)</td>\n",
       "      <td>29321</td>\n",
       "      <td>Dianne Feinstein (D)</td>\n",
       "      <td>49300</td>\n",
       "      <td>Barbara Boxer (D)</td>\n",
       "      <td>15011</td>\n",
       "      <td>Jerry Brown (D)</td>\n",
       "    </tr>\n",
       "  </tbody>\n",
       "</table>\n",
       "<p>5 rows × 93 columns</p>\n",
       "</div>"
      ],
      "text/plain": [
       "        year    case_id    weight  weight_cumulative       state  st cong  \\\n",
       "309976  2016  299793268  2.464577           1.251364  California  CA  114   \n",
       "309979  2016  299929287  2.049700           1.040715  California  CA  114   \n",
       "309994  2016  300678759  0.278606           0.141459  California  CA  114   \n",
       "309995  2016  300756130  0.064245           0.032620  California  CA  114   \n",
       "310003  2016  300894516  0.209963           0.106606  California  CA  114   \n",
       "\n",
       "       cong_up  state_post st_post  ...   voted_rep_chosen  \\\n",
       "309976     115  California      CA  ...                      \n",
       "309979     115         NaN     NaN  ...                      \n",
       "309994     115  California      CA  ...       Ted Lieu (D)   \n",
       "309995     115  California      CA  ...                      \n",
       "310003     115  California      CA  ...  Brett Murdock (D)   \n",
       "\n",
       "            voted_sen_chosen voted_gov_chosen         rep_current  rep_icpsr  \\\n",
       "309976                                         Jerry McNerney (D)      20702   \n",
       "309979                                           Brad Sherman (D)      29707   \n",
       "309994  Kamala D. Harris (D)                         Ted Lieu (D)      21507   \n",
       "309995                                         Kevin McCarthy (R)      20703   \n",
       "310003  Kamala D. Harris (D)                         Ed Royce (R)      29321   \n",
       "\n",
       "                sen1_current sen1_icpsr       sen2_current sen2_icpsr  \\\n",
       "309976  Dianne Feinstein (D)      49300  Barbara Boxer (D)      15011   \n",
       "309979  Dianne Feinstein (D)      49300  Barbara Boxer (D)      15011   \n",
       "309994  Dianne Feinstein (D)      49300  Barbara Boxer (D)      15011   \n",
       "309995  Dianne Feinstein (D)      49300  Barbara Boxer (D)      15011   \n",
       "310003  Dianne Feinstein (D)      49300  Barbara Boxer (D)      15011   \n",
       "\n",
       "            gov_current  \n",
       "309976  Jerry Brown (D)  \n",
       "309979  Jerry Brown (D)  \n",
       "309994  Jerry Brown (D)  \n",
       "309995  Jerry Brown (D)  \n",
       "310003  Jerry Brown (D)  \n",
       "\n",
       "[5 rows x 93 columns]"
      ]
     },
     "execution_count": 4,
     "metadata": {},
     "output_type": "execute_result"
    }
   ],
   "source": [
    "df = df[(df['year'] >= 2016) & (df['state'] == 'California')]\n",
    "df.head()"
   ]
  },
  {
   "cell_type": "code",
   "execution_count": 5,
   "metadata": {},
   "outputs": [
    {
     "data": {
      "text/plain": [
       "(19799, 93)"
      ]
     },
     "execution_count": 5,
     "metadata": {},
     "output_type": "execute_result"
    }
   ],
   "source": [
    "df.shape"
   ]
  },
  {
   "cell_type": "code",
   "execution_count": 6,
   "metadata": {},
   "outputs": [],
   "source": [
    "# drop state column, since it's the same as st column\n",
    "df.drop(['state_post', 'st'], axis =1, inplace= True)"
   ]
  },
  {
   "cell_type": "code",
   "execution_count": 7,
   "metadata": {
    "tags": []
   },
   "outputs": [],
   "source": [
    "cali = df"
   ]
  },
  {
   "cell_type": "markdown",
   "metadata": {},
   "source": [
    "# Create DataFrames By Year, 2016 - 2020"
   ]
  },
  {
   "cell_type": "code",
   "execution_count": 8,
   "metadata": {},
   "outputs": [
    {
     "data": {
      "text/plain": [
       "(6021, 91)"
      ]
     },
     "execution_count": 8,
     "metadata": {},
     "output_type": "execute_result"
    }
   ],
   "source": [
    "cali16 = cali[(cali['year'] == 2016)]\n",
    "cali16.shape"
   ]
  },
  {
   "cell_type": "code",
   "execution_count": 9,
   "metadata": {
    "tags": []
   },
   "outputs": [
    {
     "data": {
      "text/plain": [
       "(1816, 91)"
      ]
     },
     "execution_count": 9,
     "metadata": {},
     "output_type": "execute_result"
    }
   ],
   "source": [
    "cali17 = cali[(cali['year'] == 2017)]\n",
    "cali17.shape"
   ]
  },
  {
   "cell_type": "code",
   "execution_count": 10,
   "metadata": {},
   "outputs": [
    {
     "data": {
      "text/plain": [
       "(5284, 91)"
      ]
     },
     "execution_count": 10,
     "metadata": {},
     "output_type": "execute_result"
    }
   ],
   "source": [
    "cali18 = cali[(cali['year'] == 2018)]\n",
    "cali18.shape"
   ]
  },
  {
   "cell_type": "code",
   "execution_count": 11,
   "metadata": {},
   "outputs": [
    {
     "data": {
      "text/plain": [
       "(1650, 91)"
      ]
     },
     "execution_count": 11,
     "metadata": {},
     "output_type": "execute_result"
    }
   ],
   "source": [
    "cali19 = cali[(cali['year'] == 2019)]\n",
    "cali19.shape"
   ]
  },
  {
   "cell_type": "code",
   "execution_count": 12,
   "metadata": {},
   "outputs": [
    {
     "data": {
      "text/plain": [
       "(5028, 91)"
      ]
     },
     "execution_count": 12,
     "metadata": {},
     "output_type": "execute_result"
    }
   ],
   "source": [
    "cali20 = cali[(cali['year'] == 2020)]\n",
    "cali20.shape"
   ]
  },
  {
   "cell_type": "markdown",
   "metadata": {},
   "source": [
    "# Count Missing Values (all years)"
   ]
  },
  {
   "cell_type": "code",
   "execution_count": 13,
   "metadata": {},
   "outputs": [
    {
     "data": {
      "text/plain": [
       "0"
      ]
     },
     "execution_count": 13,
     "metadata": {},
     "output_type": "execute_result"
    }
   ],
   "source": [
    "cali['gender'].isnull().sum()"
   ]
  },
  {
   "cell_type": "code",
   "execution_count": 14,
   "metadata": {},
   "outputs": [
    {
     "data": {
      "text/plain": [
       "0"
      ]
     },
     "execution_count": 14,
     "metadata": {},
     "output_type": "execute_result"
    }
   ],
   "source": [
    "cali['age'].isna().sum()"
   ]
  },
  {
   "cell_type": "code",
   "execution_count": 15,
   "metadata": {},
   "outputs": [
    {
     "data": {
      "text/plain": [
       "0"
      ]
     },
     "execution_count": 15,
     "metadata": {},
     "output_type": "execute_result"
    }
   ],
   "source": [
    "cali['educ'].isna().sum()"
   ]
  },
  {
   "cell_type": "code",
   "execution_count": 16,
   "metadata": {},
   "outputs": [
    {
     "data": {
      "text/plain": [
       "0"
      ]
     },
     "execution_count": 16,
     "metadata": {},
     "output_type": "execute_result"
    }
   ],
   "source": [
    "cali['race'].isna().sum()"
   ]
  },
  {
   "cell_type": "code",
   "execution_count": 17,
   "metadata": {},
   "outputs": [
    {
     "data": {
      "text/plain": [
       "3268"
      ]
     },
     "execution_count": 17,
     "metadata": {},
     "output_type": "execute_result"
    }
   ],
   "source": [
    "# Need to investigate further\n",
    "cali['hispanic'].isna().sum()"
   ]
  },
  {
   "cell_type": "code",
   "execution_count": 18,
   "metadata": {},
   "outputs": [
    {
     "data": {
      "text/plain": [
       "33"
      ]
     },
     "execution_count": 18,
     "metadata": {},
     "output_type": "execute_result"
    }
   ],
   "source": [
    "# This number is surprisingly low... I'm not going to drop them yet, \n",
    "# because I suspect that we'll find more when we start crunching.\n",
    "\n",
    "cali['faminc'].isna().sum()"
   ]
  },
  {
   "cell_type": "raw",
   "metadata": {},
   "source": [
    "Was there more missing data for Hispanics in some years than in others?\n",
    "N's by year:\n",
    "2016: 6,021\n",
    "2017: 1,816\n",
    "2018: 5,284\n",
    "2019: 1,650\n",
    "2020: 5,028"
   ]
  },
  {
   "cell_type": "code",
   "execution_count": 19,
   "metadata": {},
   "outputs": [],
   "source": [
    "n_2016 = 6021\n",
    "n_2017 = 1816\n",
    "n_2018 = 5284\n",
    "n_2019 = 1650\n",
    "n_2020 = 5028"
   ]
  },
  {
   "cell_type": "raw",
   "metadata": {},
   "source": [
    "Note on the Hispanic variable:\n",
    "Hispanic is covered under two different variables: race and hispanic.\n",
    "The questions for each are:\n",
    "\n",
    "race: \"What racial or ethnic group best describes you?\"\n",
    "hispanic: \"Are you of Spanish, Latino, or Hispanic origin or descent?\"\n",
    "\n",
    "The second question was only asked if the respondent did not answer \"Hispanic\" to the first question."
   ]
  },
  {
   "cell_type": "markdown",
   "metadata": {},
   "source": [
    "# 2016"
   ]
  },
  {
   "cell_type": "code",
   "execution_count": 20,
   "metadata": {},
   "outputs": [
    {
     "data": {
      "text/plain": [
       "White              3355\n",
       "Hispanic           1121\n",
       "Asian               632\n",
       "Black               504\n",
       "Mixed               222\n",
       "Other               102\n",
       "Native American      71\n",
       "Middle Eastern       14\n",
       "Name: race, dtype: int64"
      ]
     },
     "execution_count": 20,
     "metadata": {},
     "output_type": "execute_result"
    }
   ],
   "source": [
    "# n = 6,021 respondents\n",
    "cali16['race'].value_counts()"
   ]
  },
  {
   "cell_type": "code",
   "execution_count": 21,
   "metadata": {},
   "outputs": [
    {
     "data": {
      "text/plain": [
       "6021"
      ]
     },
     "execution_count": 21,
     "metadata": {},
     "output_type": "execute_result"
    }
   ],
   "source": [
    "cali16['race'].count()"
   ]
  },
  {
   "cell_type": "markdown",
   "metadata": {},
   "source": [
    "In 2016, everyone answered the race question."
   ]
  },
  {
   "cell_type": "code",
   "execution_count": 22,
   "metadata": {
    "scrolled": true
   },
   "outputs": [
    {
     "data": {
      "text/plain": [
       "1145"
      ]
     },
     "execution_count": 22,
     "metadata": {},
     "output_type": "execute_result"
    }
   ],
   "source": [
    "cali16['hispanic'].isna().sum()"
   ]
  },
  {
   "cell_type": "code",
   "execution_count": 23,
   "metadata": {},
   "outputs": [
    {
     "data": {
      "text/plain": [
       "4876"
      ]
     },
     "execution_count": 23,
     "metadata": {},
     "output_type": "execute_result"
    }
   ],
   "source": [
    "cali16['hispanic'].count()"
   ]
  },
  {
   "cell_type": "code",
   "execution_count": 24,
   "metadata": {},
   "outputs": [
    {
     "data": {
      "text/plain": [
       "0.2348236259228876"
      ]
     },
     "execution_count": 24,
     "metadata": {},
     "output_type": "execute_result"
    }
   ],
   "source": [
    "# Percent of 'hispanic' responses missing - 2016\n",
    "1145 / 4876"
   ]
  },
  {
   "cell_type": "code",
   "execution_count": 25,
   "metadata": {
    "scrolled": true
   },
   "outputs": [
    {
     "data": {
      "text/plain": [
       "No     4448\n",
       "Yes     428\n",
       "Name: hispanic, dtype: int64"
      ]
     },
     "execution_count": 25,
     "metadata": {},
     "output_type": "execute_result"
    }
   ],
   "source": [
    "# Total Hispanic respondents (from race and hispanic variables)\n",
    "cali16['hispanic'].value_counts()"
   ]
  },
  {
   "cell_type": "code",
   "execution_count": 26,
   "metadata": {},
   "outputs": [
    {
     "data": {
      "text/plain": [
       "0.2572662348447102"
      ]
     },
     "execution_count": 26,
     "metadata": {},
     "output_type": "execute_result"
    }
   ],
   "source": [
    "# 2016 percentage of respondents who identified as Hispanic\n",
    "(428 + 1121) / n_2016"
   ]
  },
  {
   "cell_type": "markdown",
   "metadata": {},
   "source": [
    "## 2017"
   ]
  },
  {
   "cell_type": "code",
   "execution_count": 27,
   "metadata": {},
   "outputs": [
    {
     "data": {
      "text/plain": [
       "White              859\n",
       "Hispanic           542\n",
       "Black              155\n",
       "Asian               97\n",
       "Mixed               93\n",
       "Other               47\n",
       "Native American     18\n",
       "Middle Eastern       5\n",
       "Name: race, dtype: int64"
      ]
     },
     "execution_count": 27,
     "metadata": {},
     "output_type": "execute_result"
    }
   ],
   "source": [
    "# n = 1,816 respondents\n",
    "cali17['race'].value_counts()"
   ]
  },
  {
   "cell_type": "code",
   "execution_count": 28,
   "metadata": {},
   "outputs": [
    {
     "data": {
      "text/plain": [
       "No     1129\n",
       "Yes     139\n",
       "Name: hispanic, dtype: int64"
      ]
     },
     "execution_count": 28,
     "metadata": {},
     "output_type": "execute_result"
    }
   ],
   "source": [
    "cali17['hispanic'].value_counts()"
   ]
  },
  {
   "cell_type": "code",
   "execution_count": 29,
   "metadata": {},
   "outputs": [
    {
     "data": {
      "text/plain": [
       "0.375"
      ]
     },
     "execution_count": 29,
     "metadata": {},
     "output_type": "execute_result"
    }
   ],
   "source": [
    "# 2017 percentage of respondents who identified as Hispanic\n",
    "(139 + 542) / n_2017"
   ]
  },
  {
   "cell_type": "code",
   "execution_count": 30,
   "metadata": {},
   "outputs": [
    {
     "data": {
      "text/plain": [
       "548"
      ]
     },
     "execution_count": 30,
     "metadata": {},
     "output_type": "execute_result"
    }
   ],
   "source": [
    "cali17['hispanic'].isna().sum()"
   ]
  },
  {
   "cell_type": "code",
   "execution_count": 31,
   "metadata": {},
   "outputs": [
    {
     "data": {
      "text/plain": [
       "1268"
      ]
     },
     "execution_count": 31,
     "metadata": {},
     "output_type": "execute_result"
    }
   ],
   "source": [
    "cali17['hispanic'].count()"
   ]
  },
  {
   "cell_type": "code",
   "execution_count": 32,
   "metadata": {},
   "outputs": [
    {
     "data": {
      "text/plain": [
       "0.43217665615141954"
      ]
     },
     "execution_count": 32,
     "metadata": {},
     "output_type": "execute_result"
    }
   ],
   "source": [
    "# Percent of 'hispanic' responses missing - 2017\n",
    "548 / 1268"
   ]
  },
  {
   "cell_type": "markdown",
   "metadata": {},
   "source": [
    "## 2018"
   ]
  },
  {
   "cell_type": "code",
   "execution_count": 33,
   "metadata": {},
   "outputs": [
    {
     "data": {
      "text/plain": [
       "White              3011\n",
       "Hispanic           1048\n",
       "Asian               487\n",
       "Black               364\n",
       "Mixed               240\n",
       "Other                67\n",
       "Native American      45\n",
       "Middle Eastern       22\n",
       "Name: race, dtype: int64"
      ]
     },
     "execution_count": 33,
     "metadata": {},
     "output_type": "execute_result"
    }
   ],
   "source": [
    "# n = 5284\n",
    "cali18['race'].value_counts()"
   ]
  },
  {
   "cell_type": "code",
   "execution_count": 34,
   "metadata": {},
   "outputs": [
    {
     "data": {
      "text/plain": [
       "No     4949\n",
       "Yes     335\n",
       "Name: hispanic, dtype: int64"
      ]
     },
     "execution_count": 34,
     "metadata": {},
     "output_type": "execute_result"
    }
   ],
   "source": [
    "cali18['hispanic'].value_counts()"
   ]
  },
  {
   "cell_type": "code",
   "execution_count": 35,
   "metadata": {},
   "outputs": [
    {
     "data": {
      "text/plain": [
       "0.2617335352006056"
      ]
     },
     "execution_count": 35,
     "metadata": {},
     "output_type": "execute_result"
    }
   ],
   "source": [
    "# 2018 percentage of respondents who identified as Hispanic\n",
    "(335 + 1048) / n_2018"
   ]
  },
  {
   "cell_type": "code",
   "execution_count": 36,
   "metadata": {},
   "outputs": [
    {
     "data": {
      "text/plain": [
       "0"
      ]
     },
     "execution_count": 36,
     "metadata": {},
     "output_type": "execute_result"
    }
   ],
   "source": [
    "# No missing 'hispanic' data for 2018?  Well, at least not yet....\n",
    "cali18['hispanic'].isna().sum()"
   ]
  },
  {
   "cell_type": "markdown",
   "metadata": {},
   "source": [
    "## 2019"
   ]
  },
  {
   "cell_type": "code",
   "execution_count": 37,
   "metadata": {},
   "outputs": [
    {
     "data": {
      "text/plain": [
       "White              842\n",
       "Hispanic           471\n",
       "Asian              120\n",
       "Black              113\n",
       "Mixed               51\n",
       "Native American     32\n",
       "Other               18\n",
       "Middle Eastern       3\n",
       "Name: race, dtype: int64"
      ]
     },
     "execution_count": 37,
     "metadata": {},
     "output_type": "execute_result"
    }
   ],
   "source": [
    "# n = 1650\n",
    "cali19['race'].value_counts()"
   ]
  },
  {
   "cell_type": "code",
   "execution_count": 38,
   "metadata": {},
   "outputs": [
    {
     "data": {
      "text/plain": [
       "No     0.965136\n",
       "Yes    0.034864\n",
       "Name: hispanic, dtype: float64"
      ]
     },
     "execution_count": 38,
     "metadata": {},
     "output_type": "execute_result"
    }
   ],
   "source": [
    "cali19['hispanic'].value_counts(normalize=True)"
   ]
  },
  {
   "cell_type": "code",
   "execution_count": 39,
   "metadata": {},
   "outputs": [
    {
     "data": {
      "text/plain": [
       "0.3103030303030303"
      ]
     },
     "execution_count": 39,
     "metadata": {},
     "output_type": "execute_result"
    }
   ],
   "source": [
    "# 2019 percentage of respondents who identified as Hispanic\n",
    "(41 + 471) / n_2019"
   ]
  },
  {
   "cell_type": "code",
   "execution_count": 40,
   "metadata": {},
   "outputs": [
    {
     "data": {
      "text/plain": [
       "474"
      ]
     },
     "execution_count": 40,
     "metadata": {},
     "output_type": "execute_result"
    }
   ],
   "source": [
    "cali19['hispanic'].isna().sum()"
   ]
  },
  {
   "cell_type": "code",
   "execution_count": 41,
   "metadata": {},
   "outputs": [
    {
     "data": {
      "text/plain": [
       "1176"
      ]
     },
     "execution_count": 41,
     "metadata": {},
     "output_type": "execute_result"
    }
   ],
   "source": [
    "cali19['hispanic'].count()"
   ]
  },
  {
   "cell_type": "code",
   "execution_count": 42,
   "metadata": {},
   "outputs": [
    {
     "data": {
      "text/plain": [
       "0.4030612244897959"
      ]
     },
     "execution_count": 42,
     "metadata": {},
     "output_type": "execute_result"
    }
   ],
   "source": [
    "# Percent of 'hispanic' responses missing - 2019\n",
    "474 / 1176"
   ]
  },
  {
   "cell_type": "markdown",
   "metadata": {},
   "source": [
    "## 2020"
   ]
  },
  {
   "cell_type": "code",
   "execution_count": 43,
   "metadata": {},
   "outputs": [
    {
     "data": {
      "text/plain": [
       "White              2659\n",
       "Hispanic           1097\n",
       "Asian               505\n",
       "Black               406\n",
       "Mixed               158\n",
       "Other               143\n",
       "Native American      49\n",
       "Middle Eastern       11\n",
       "Name: race, dtype: int64"
      ]
     },
     "execution_count": 43,
     "metadata": {},
     "output_type": "execute_result"
    }
   ],
   "source": [
    "# n = 5028\n",
    "cali20['race'].value_counts()"
   ]
  },
  {
   "cell_type": "code",
   "execution_count": 44,
   "metadata": {},
   "outputs": [
    {
     "data": {
      "text/plain": [
       "No     3674\n",
       "Yes     253\n",
       "Name: hispanic, dtype: int64"
      ]
     },
     "execution_count": 44,
     "metadata": {},
     "output_type": "execute_result"
    }
   ],
   "source": [
    "cali20['hispanic'].value_counts()"
   ]
  },
  {
   "cell_type": "code",
   "execution_count": 45,
   "metadata": {},
   "outputs": [
    {
     "data": {
      "text/plain": [
       "0.2684964200477327"
      ]
     },
     "execution_count": 45,
     "metadata": {},
     "output_type": "execute_result"
    }
   ],
   "source": [
    "# 2020 percentage of respondents who identified as Hispanic\n",
    "(1097 + 253) / n_2020"
   ]
  },
  {
   "cell_type": "code",
   "execution_count": 46,
   "metadata": {
    "scrolled": true
   },
   "outputs": [
    {
     "data": {
      "text/plain": [
       "1101"
      ]
     },
     "execution_count": 46,
     "metadata": {},
     "output_type": "execute_result"
    }
   ],
   "source": [
    "cali20['hispanic'].isna().sum()"
   ]
  },
  {
   "cell_type": "code",
   "execution_count": 47,
   "metadata": {},
   "outputs": [
    {
     "data": {
      "text/plain": [
       "3927"
      ]
     },
     "execution_count": 47,
     "metadata": {},
     "output_type": "execute_result"
    }
   ],
   "source": [
    "cali20['hispanic'].count()"
   ]
  },
  {
   "cell_type": "code",
   "execution_count": 48,
   "metadata": {},
   "outputs": [
    {
     "data": {
      "text/plain": [
       "0.28036669213139803"
      ]
     },
     "execution_count": 48,
     "metadata": {},
     "output_type": "execute_result"
    }
   ],
   "source": [
    "# Percent of 'hispanic' responses missing - 2020\n",
    "1101 / 3927"
   ]
  },
  {
   "cell_type": "markdown",
   "metadata": {},
   "source": [
    "Missing Hispanic data peaked in 2016, the same year Trump was elected, and decreased in 2020, the same year Biden was elected.  2018 might be an exception, but I suspect that we'll discover otherwise once we start crunching the data."
   ]
  },
  {
   "cell_type": "code",
   "execution_count": 49,
   "metadata": {
    "scrolled": true,
    "tags": []
   },
   "outputs": [
    {
     "name": "stdout",
     "output_type": "stream",
     "text": [
      "<class 'pandas.core.frame.DataFrame'>\n",
      "Int64Index: 5028 entries, 470768 to 531747\n",
      "Data columns (total 91 columns):\n",
      " #   Column             Non-Null Count  Dtype         \n",
      "---  ------             --------------  -----         \n",
      " 0   year               5028 non-null   int32         \n",
      " 1   case_id            5028 non-null   object        \n",
      " 2   weight             5028 non-null   float64       \n",
      " 3   weight_cumulative  5028 non-null   float64       \n",
      " 4   state              5028 non-null   category      \n",
      " 5   cong               5028 non-null   category      \n",
      " 6   cong_up            5028 non-null   category      \n",
      " 7   st_post            4234 non-null   category      \n",
      " 8   dist               5028 non-null   int32         \n",
      " 9   dist_up            5028 non-null   int32         \n",
      " 10  cd                 5028 non-null   object        \n",
      " 11  cd_up              5028 non-null   object        \n",
      " 12  dist_post          4234 non-null   float64       \n",
      " 13  dist_up_post       4234 non-null   float64       \n",
      " 14  cd_post            5028 non-null   object        \n",
      " 15  cd_up_post         5028 non-null   object        \n",
      " 16  zipcode            5028 non-null   object        \n",
      " 17  county_fips        5028 non-null   object        \n",
      " 18  tookpost           5028 non-null   category      \n",
      " 19  weight_post        4234 non-null   float64       \n",
      " 20  rvweight           0 non-null      float64       \n",
      " 21  rvweight_post      0 non-null      float64       \n",
      " 22  starttime          5028 non-null   datetime64[ns]\n",
      " 23  pid3               5028 non-null   category      \n",
      " 24  pid3_leaner        5028 non-null   category      \n",
      " 25  pid7               5028 non-null   category      \n",
      " 26  ideo5              5025 non-null   category      \n",
      " 27  gender             5028 non-null   category      \n",
      " 28  birthyr            5028 non-null   int32         \n",
      " 29  age                5028 non-null   int32         \n",
      " 30  race               5028 non-null   category      \n",
      " 31  hispanic           3927 non-null   category      \n",
      " 32  citizen            5022 non-null   category      \n",
      " 33  educ               5028 non-null   category      \n",
      " 34  marstat            5025 non-null   category      \n",
      " 35  faminc             5026 non-null   category      \n",
      " 36  union              5016 non-null   category      \n",
      " 37  union_hh           4999 non-null   category      \n",
      " 38  employ             5027 non-null   category      \n",
      " 39  no_healthins       5028 non-null   category      \n",
      " 40  has_child          5019 non-null   category      \n",
      " 41  ownhome            5019 non-null   category      \n",
      " 42  no_milstat         5028 non-null   category      \n",
      " 43  religion           5025 non-null   category      \n",
      " 44  economy_retro      5019 non-null   category      \n",
      " 45  newsint            5025 non-null   category      \n",
      " 46  approval_pres      5027 non-null   category      \n",
      " 47  approval_rep       4913 non-null   category      \n",
      " 48  approval_sen1      5024 non-null   category      \n",
      " 49  approval_sen2      5024 non-null   category      \n",
      " 50  approval_gov       5025 non-null   category      \n",
      " 51  intent_pres_08     0 non-null      category      \n",
      " 52  intent_pres_12     0 non-null      category      \n",
      " 53  intent_pres_16     0 non-null      category      \n",
      " 54  intent_pres_20     3971 non-null   category      \n",
      " 55  voted_pres_08      0 non-null      category      \n",
      " 56  voted_pres_12      0 non-null      category      \n",
      " 57  voted_pres_16      5026 non-null   category      \n",
      " 58  voted_pres_20      3818 non-null   category      \n",
      " 59  intent_pres_party  3466 non-null   category      \n",
      " 60  voted_pres_party   3800 non-null   category      \n",
      " 61  vv_regstatus       0 non-null      category      \n",
      " 62  vv_party_gen       0 non-null      category      \n",
      " 63  vv_party_prm       0 non-null      category      \n",
      " 64  vv_turnout_gvm     0 non-null      category      \n",
      " 65  vv_turnout_pvm     0 non-null      category      \n",
      " 66  intent_rep         3986 non-null   category      \n",
      " 67  intent_rep_party   2900 non-null   category      \n",
      " 68  voted_rep          3806 non-null   category      \n",
      " 69  voted_rep_party    3531 non-null   category      \n",
      " 70  intent_gov         0 non-null      category      \n",
      " 71  intent_gov_party   0 non-null      category      \n",
      " 72  voted_gov          2 non-null      category      \n",
      " 73  voted_gov_party    0 non-null      category      \n",
      " 74  intent_sen         0 non-null      category      \n",
      " 75  intent_sen_party   0 non-null      category      \n",
      " 76  voted_sen          2 non-null      category      \n",
      " 77  voted_sen_party    0 non-null      category      \n",
      " 78  intent_rep_chosen  5028 non-null   object        \n",
      " 79  intent_sen_chosen  5028 non-null   object        \n",
      " 80  intent_gov_chosen  5028 non-null   object        \n",
      " 81  voted_rep_chosen   5028 non-null   object        \n",
      " 82  voted_sen_chosen   5028 non-null   object        \n",
      " 83  voted_gov_chosen   5028 non-null   object        \n",
      " 84  rep_current        5028 non-null   object        \n",
      " 85  rep_icpsr          5028 non-null   object        \n",
      " 86  sen1_current       5028 non-null   object        \n",
      " 87  sen1_icpsr         5028 non-null   object        \n",
      " 88  sen2_current       5028 non-null   object        \n",
      " 89  sen2_icpsr         5028 non-null   object        \n",
      " 90  gov_current        5028 non-null   object        \n",
      "dtypes: category(58), datetime64[ns](1), float64(7), int32(5), object(20)\n",
      "memory usage: 1.5+ MB\n"
     ]
    }
   ],
   "source": [
    "cali20.info()"
   ]
  },
  {
   "cell_type": "code",
   "execution_count": 50,
   "metadata": {},
   "outputs": [
    {
     "data": {
      "text/html": [
       "<div>\n",
       "<style scoped>\n",
       "    .dataframe tbody tr th:only-of-type {\n",
       "        vertical-align: middle;\n",
       "    }\n",
       "\n",
       "    .dataframe tbody tr th {\n",
       "        vertical-align: top;\n",
       "    }\n",
       "\n",
       "    .dataframe thead th {\n",
       "        text-align: right;\n",
       "    }\n",
       "</style>\n",
       "<table border=\"1\" class=\"dataframe\">\n",
       "  <thead>\n",
       "    <tr style=\"text-align: right;\">\n",
       "      <th></th>\n",
       "      <th>dist</th>\n",
       "      <th>cong</th>\n",
       "      <th>gender</th>\n",
       "      <th>birthyr</th>\n",
       "      <th>age</th>\n",
       "      <th>educ</th>\n",
       "      <th>race</th>\n",
       "      <th>faminc</th>\n",
       "      <th>marstat</th>\n",
       "      <th>newsint</th>\n",
       "      <th>approval_gov</th>\n",
       "      <th>ideo5</th>\n",
       "      <th>voted_gov</th>\n",
       "    </tr>\n",
       "  </thead>\n",
       "  <tbody>\n",
       "    <tr>\n",
       "      <th>470768</th>\n",
       "      <td>25</td>\n",
       "      <td>116</td>\n",
       "      <td>Female</td>\n",
       "      <td>1959</td>\n",
       "      <td>61</td>\n",
       "      <td>2-Year</td>\n",
       "      <td>White</td>\n",
       "      <td>Prefer not to say</td>\n",
       "      <td>Single / Never Married</td>\n",
       "      <td>Some of the time</td>\n",
       "      <td>Strongly Approve</td>\n",
       "      <td>Liberal</td>\n",
       "      <td>NaN</td>\n",
       "    </tr>\n",
       "    <tr>\n",
       "      <th>470779</th>\n",
       "      <td>30</td>\n",
       "      <td>116</td>\n",
       "      <td>Female</td>\n",
       "      <td>1934</td>\n",
       "      <td>86</td>\n",
       "      <td>Post-Grad</td>\n",
       "      <td>White</td>\n",
       "      <td>Prefer not to say</td>\n",
       "      <td>Widowed</td>\n",
       "      <td>Most of the time</td>\n",
       "      <td>Approve / Somewhat Approve</td>\n",
       "      <td>Moderate</td>\n",
       "      <td>NaN</td>\n",
       "    </tr>\n",
       "    <tr>\n",
       "      <th>470780</th>\n",
       "      <td>14</td>\n",
       "      <td>116</td>\n",
       "      <td>Female</td>\n",
       "      <td>1971</td>\n",
       "      <td>49</td>\n",
       "      <td>Some College</td>\n",
       "      <td>White</td>\n",
       "      <td>Prefer not to say</td>\n",
       "      <td>Married</td>\n",
       "      <td>Most of the time</td>\n",
       "      <td>Never Heard / Not Sure</td>\n",
       "      <td>Moderate</td>\n",
       "      <td>NaN</td>\n",
       "    </tr>\n",
       "    <tr>\n",
       "      <th>470781</th>\n",
       "      <td>49</td>\n",
       "      <td>116</td>\n",
       "      <td>Female</td>\n",
       "      <td>1957</td>\n",
       "      <td>63</td>\n",
       "      <td>Some College</td>\n",
       "      <td>White</td>\n",
       "      <td>80k - 100k</td>\n",
       "      <td>Married</td>\n",
       "      <td>Only now and then</td>\n",
       "      <td>Disapprove / Somewhat Disapprove</td>\n",
       "      <td>Moderate</td>\n",
       "      <td>NaN</td>\n",
       "    </tr>\n",
       "    <tr>\n",
       "      <th>470815</th>\n",
       "      <td>43</td>\n",
       "      <td>116</td>\n",
       "      <td>Male</td>\n",
       "      <td>1971</td>\n",
       "      <td>49</td>\n",
       "      <td>4-Year</td>\n",
       "      <td>Hispanic</td>\n",
       "      <td>150k+</td>\n",
       "      <td>Married</td>\n",
       "      <td>Some of the time</td>\n",
       "      <td>Strongly Disapprove</td>\n",
       "      <td>Conservative</td>\n",
       "      <td>NaN</td>\n",
       "    </tr>\n",
       "    <tr>\n",
       "      <th>...</th>\n",
       "      <td>...</td>\n",
       "      <td>...</td>\n",
       "      <td>...</td>\n",
       "      <td>...</td>\n",
       "      <td>...</td>\n",
       "      <td>...</td>\n",
       "      <td>...</td>\n",
       "      <td>...</td>\n",
       "      <td>...</td>\n",
       "      <td>...</td>\n",
       "      <td>...</td>\n",
       "      <td>...</td>\n",
       "      <td>...</td>\n",
       "    </tr>\n",
       "    <tr>\n",
       "      <th>531711</th>\n",
       "      <td>10</td>\n",
       "      <td>116</td>\n",
       "      <td>Male</td>\n",
       "      <td>1990</td>\n",
       "      <td>30</td>\n",
       "      <td>No HS</td>\n",
       "      <td>White</td>\n",
       "      <td>20k - 30k</td>\n",
       "      <td>Single / Never Married</td>\n",
       "      <td>Don't Know</td>\n",
       "      <td>Never Heard / Not Sure</td>\n",
       "      <td>Very Liberal</td>\n",
       "      <td>NaN</td>\n",
       "    </tr>\n",
       "    <tr>\n",
       "      <th>531715</th>\n",
       "      <td>4</td>\n",
       "      <td>116</td>\n",
       "      <td>Female</td>\n",
       "      <td>1989</td>\n",
       "      <td>31</td>\n",
       "      <td>High School Graduate</td>\n",
       "      <td>White</td>\n",
       "      <td>Less than 10k</td>\n",
       "      <td>NaN</td>\n",
       "      <td>Hardly at all</td>\n",
       "      <td>Disapprove / Somewhat Disapprove</td>\n",
       "      <td>Not Sure</td>\n",
       "      <td>NaN</td>\n",
       "    </tr>\n",
       "    <tr>\n",
       "      <th>531716</th>\n",
       "      <td>53</td>\n",
       "      <td>116</td>\n",
       "      <td>Male</td>\n",
       "      <td>1951</td>\n",
       "      <td>69</td>\n",
       "      <td>Some College</td>\n",
       "      <td>Hispanic</td>\n",
       "      <td>120k - 150k</td>\n",
       "      <td>Married</td>\n",
       "      <td>Most of the time</td>\n",
       "      <td>Disapprove / Somewhat Disapprove</td>\n",
       "      <td>Moderate</td>\n",
       "      <td>NaN</td>\n",
       "    </tr>\n",
       "    <tr>\n",
       "      <th>531725</th>\n",
       "      <td>52</td>\n",
       "      <td>116</td>\n",
       "      <td>Female</td>\n",
       "      <td>1976</td>\n",
       "      <td>44</td>\n",
       "      <td>No HS</td>\n",
       "      <td>White</td>\n",
       "      <td>Less than 10k</td>\n",
       "      <td>Widowed</td>\n",
       "      <td>Only now and then</td>\n",
       "      <td>Approve / Somewhat Approve</td>\n",
       "      <td>Moderate</td>\n",
       "      <td>NaN</td>\n",
       "    </tr>\n",
       "    <tr>\n",
       "      <th>531747</th>\n",
       "      <td>36</td>\n",
       "      <td>116</td>\n",
       "      <td>Male</td>\n",
       "      <td>1982</td>\n",
       "      <td>38</td>\n",
       "      <td>Some College</td>\n",
       "      <td>White</td>\n",
       "      <td>50k - 60k</td>\n",
       "      <td>Domestic Partnership</td>\n",
       "      <td>Hardly at all</td>\n",
       "      <td>Strongly Disapprove</td>\n",
       "      <td>Moderate</td>\n",
       "      <td>NaN</td>\n",
       "    </tr>\n",
       "  </tbody>\n",
       "</table>\n",
       "<p>5028 rows × 13 columns</p>\n",
       "</div>"
      ],
      "text/plain": [
       "        dist cong  gender  birthyr  age                  educ      race  \\\n",
       "470768    25  116  Female     1959   61                2-Year     White   \n",
       "470779    30  116  Female     1934   86             Post-Grad     White   \n",
       "470780    14  116  Female     1971   49          Some College     White   \n",
       "470781    49  116  Female     1957   63          Some College     White   \n",
       "470815    43  116    Male     1971   49                4-Year  Hispanic   \n",
       "...      ...  ...     ...      ...  ...                   ...       ...   \n",
       "531711    10  116    Male     1990   30                 No HS     White   \n",
       "531715     4  116  Female     1989   31  High School Graduate     White   \n",
       "531716    53  116    Male     1951   69          Some College  Hispanic   \n",
       "531725    52  116  Female     1976   44                 No HS     White   \n",
       "531747    36  116    Male     1982   38          Some College     White   \n",
       "\n",
       "                   faminc                 marstat            newsint  \\\n",
       "470768  Prefer not to say  Single / Never Married   Some of the time   \n",
       "470779  Prefer not to say                 Widowed   Most of the time   \n",
       "470780  Prefer not to say                 Married   Most of the time   \n",
       "470781         80k - 100k                 Married  Only now and then   \n",
       "470815              150k+                 Married   Some of the time   \n",
       "...                   ...                     ...                ...   \n",
       "531711          20k - 30k  Single / Never Married         Don't Know   \n",
       "531715      Less than 10k                     NaN      Hardly at all   \n",
       "531716        120k - 150k                 Married   Most of the time   \n",
       "531725      Less than 10k                 Widowed  Only now and then   \n",
       "531747          50k - 60k    Domestic Partnership      Hardly at all   \n",
       "\n",
       "                            approval_gov         ideo5 voted_gov  \n",
       "470768                  Strongly Approve       Liberal       NaN  \n",
       "470779        Approve / Somewhat Approve      Moderate       NaN  \n",
       "470780            Never Heard / Not Sure      Moderate       NaN  \n",
       "470781  Disapprove / Somewhat Disapprove      Moderate       NaN  \n",
       "470815               Strongly Disapprove  Conservative       NaN  \n",
       "...                                  ...           ...       ...  \n",
       "531711            Never Heard / Not Sure  Very Liberal       NaN  \n",
       "531715  Disapprove / Somewhat Disapprove      Not Sure       NaN  \n",
       "531716  Disapprove / Somewhat Disapprove      Moderate       NaN  \n",
       "531725        Approve / Somewhat Approve      Moderate       NaN  \n",
       "531747               Strongly Disapprove      Moderate       NaN  \n",
       "\n",
       "[5028 rows x 13 columns]"
      ]
     },
     "execution_count": 50,
     "metadata": {},
     "output_type": "execute_result"
    }
   ],
   "source": [
    "cali20[['dist', 'cong', 'gender', 'birthyr', 'age', 'educ', 'race', 'faminc', 'marstat','newsint', 'approval_gov','ideo5', 'voted_gov']]"
   ]
  },
  {
   "cell_type": "code",
   "execution_count": 51,
   "metadata": {},
   "outputs": [
    {
     "data": {
      "text/plain": [
       "    5028\n",
       "Name: voted_gov_chosen, dtype: int64"
      ]
     },
     "execution_count": 51,
     "metadata": {},
     "output_type": "execute_result"
    }
   ],
   "source": [
    "cali20['voted_gov_chosen'].value_counts()"
   ]
  },
  {
   "cell_type": "code",
   "execution_count": 52,
   "metadata": {},
   "outputs": [
    {
     "data": {
      "text/plain": [
       "                    16114\n",
       "Gavin Newsom (D)     2301\n",
       "John H. Cox (R)      1384\n",
       "Name: voted_gov_chosen, dtype: int64"
      ]
     },
     "execution_count": 52,
     "metadata": {},
     "output_type": "execute_result"
    }
   ],
   "source": [
    "df['voted_gov_chosen'].value_counts()"
   ]
  },
  {
   "cell_type": "code",
   "execution_count": 53,
   "metadata": {},
   "outputs": [
    {
     "data": {
      "text/plain": [
       "                    15773\n",
       "Gavin Newsom (D)     2527\n",
       "John H. Cox (R)      1499\n",
       "Name: intent_gov_chosen, dtype: int64"
      ]
     },
     "execution_count": 53,
     "metadata": {},
     "output_type": "execute_result"
    }
   ],
   "source": [
    "df['intent_gov_chosen'].value_counts()"
   ]
  },
  {
   "cell_type": "code",
   "execution_count": 54,
   "metadata": {},
   "outputs": [
    {
     "data": {
      "text/plain": [
       "[Democrat / Candidate 1]       2304\n",
       "[Republican / Candidate 2]     1385\n",
       "I Did Not Vote In This Race      37\n",
       "Not Sure                         25\n",
       "Other                            14\n",
       "[Other / Candidate 3]             0\n",
       "I Did Not Vote in this Race       0\n",
       "I Did Not Vote                    0\n",
       "Name: voted_gov, dtype: int64"
      ]
     },
     "execution_count": 54,
     "metadata": {},
     "output_type": "execute_result"
    }
   ],
   "source": [
    "df['voted_gov'].value_counts()"
   ]
  },
  {
   "cell_type": "code",
   "execution_count": 55,
   "metadata": {},
   "outputs": [
    {
     "data": {
      "text/html": [
       "<div>\n",
       "<style scoped>\n",
       "    .dataframe tbody tr th:only-of-type {\n",
       "        vertical-align: middle;\n",
       "    }\n",
       "\n",
       "    .dataframe tbody tr th {\n",
       "        vertical-align: top;\n",
       "    }\n",
       "\n",
       "    .dataframe thead th {\n",
       "        text-align: right;\n",
       "    }\n",
       "</style>\n",
       "<table border=\"1\" class=\"dataframe\">\n",
       "  <thead>\n",
       "    <tr style=\"text-align: right;\">\n",
       "      <th></th>\n",
       "      <th>voted_gov</th>\n",
       "    </tr>\n",
       "  </thead>\n",
       "  <tbody>\n",
       "    <tr>\n",
       "      <th>392775</th>\n",
       "      <td>[Democrat / Candidate 1]</td>\n",
       "    </tr>\n",
       "    <tr>\n",
       "      <th>392782</th>\n",
       "      <td>[Democrat / Candidate 1]</td>\n",
       "    </tr>\n",
       "    <tr>\n",
       "      <th>392786</th>\n",
       "      <td>[Democrat / Candidate 1]</td>\n",
       "    </tr>\n",
       "    <tr>\n",
       "      <th>392790</th>\n",
       "      <td>NaN</td>\n",
       "    </tr>\n",
       "    <tr>\n",
       "      <th>392800</th>\n",
       "      <td>[Republican / Candidate 2]</td>\n",
       "    </tr>\n",
       "  </tbody>\n",
       "</table>\n",
       "</div>"
      ],
      "text/plain": [
       "                         voted_gov\n",
       "392775    [Democrat / Candidate 1]\n",
       "392782    [Democrat / Candidate 1]\n",
       "392786    [Democrat / Candidate 1]\n",
       "392790                         NaN\n",
       "392800  [Republican / Candidate 2]"
      ]
     },
     "execution_count": 55,
     "metadata": {},
     "output_type": "execute_result"
    }
   ],
   "source": [
    "#looking like our dataframe looks like we need to focus on the 2018 data.\n",
    "df.loc[df['year'] == 2018, ['voted_gov']].head()"
   ]
  },
  {
   "cell_type": "code",
   "execution_count": 56,
   "metadata": {},
   "outputs": [],
   "source": [
    "# breaking down the dataframe to just 2018 and the state of california.\n",
    "df = df[(df['year'] == 2018) & (df['state']== 'California')]\n",
    "\n",
    "#looking into relivant data.\n",
    "df = df[['dist', 'cong', 'gender', 'birthyr', 'age', 'educ', 'race', 'faminc', 'marstat','newsint', 'approval_gov','ideo5', 'voted_gov']]"
   ]
  },
  {
   "cell_type": "code",
   "execution_count": 57,
   "metadata": {},
   "outputs": [
    {
     "data": {
      "text/plain": [
       "(5284, 13)"
      ]
     },
     "execution_count": 57,
     "metadata": {},
     "output_type": "execute_result"
    }
   ],
   "source": [
    "#exporting csv of 2018 gov results with nulls.\n",
    "df.to_csv('2018_gov_nulls.csv')"
   ]
  },
  {
   "cell_type": "code",
   "execution_count": 58,
   "metadata": {},
   "outputs": [
    {
     "data": {
      "text/plain": [
       "(3752, 13)"
      ]
     },
     "execution_count": 58,
     "metadata": {},
     "output_type": "execute_result"
    }
   ],
   "source": [
    "df.dropna(inplace=True)\n",
    "df.shape"
   ]
  },
  {
   "cell_type": "code",
   "execution_count": null,
   "metadata": {},
   "outputs": [],
   "source": [
    "df['voted_gov'].value_counts()"
   ]
  },
  {
   "cell_type": "code",
   "execution_count": 60,
   "metadata": {},
   "outputs": [],
   "source": [
    "df.to_csv('2018_gov.csv')"
   ]
  }
 ],
 "metadata": {
  "kernelspec": {
   "display_name": "Python 3",
   "language": "python",
   "name": "python3"
  },
  "language_info": {
   "codemirror_mode": {
    "name": "ipython",
    "version": 3
   },
   "file_extension": ".py",
   "mimetype": "text/x-python",
   "name": "python",
   "nbconvert_exporter": "python",
   "pygments_lexer": "ipython3",
   "version": "3.8.8"
  }
 },
 "nbformat": 4,
 "nbformat_minor": 4
}
