{
 "cells": [
  {
   "cell_type": "markdown",
   "metadata": {},
   "source": [
    "Project 5: Election Prognostications\n",
    "Wassie, Mekdes\n",
    "Aziz, Zaid\n",
    "Morgen, Nadia"
   ]
  },
  {
   "cell_type": "markdown",
   "metadata": {},
   "source": [
    "Problem Statement:\n",
    "Can we create a model that more accurately predicts the outcome of the 2021 California gubernatorial recall election?\n",
    "\n",
    "For decades, election polls predicted the winner accurately.  That has shifted in more recent years.  In 2016, very few pollsters predicted that Trump would win.  The few pollsters who predicted a narrower victory for Hillary faced harsh criticism.  At WAM! News, we are trying to develop a more accurate model than our competitors. Using the CCES Dataset from Harvard University, we will build a classification model that accurately classifies and predicts CA’s gubernatorial preferences. The model will be evaluated based on accuracy, specificity, and recall, with the goal of trying to get achieving higher accuracy than the null model and our competitors."
   ]
  },
  {
   "cell_type": "markdown",
   "metadata": {},
   "source": [
    "## Imports\n",
    "---"
   ]
  },
  {
   "cell_type": "code",
   "execution_count": 1,
   "metadata": {},
   "outputs": [],
   "source": [
    "import pandas as pd\n",
    "import numpy as np\n",
    "import seaborn as sns\n",
    "import matplotlib.pyplot as plt\n",
    "\n",
    "import warnings\n",
    "warnings.filterwarnings(\"ignore\")"
   ]
  },
  {
   "cell_type": "markdown",
   "metadata": {},
   "source": [
    "## EDA\n",
    "---"
   ]
  },
  {
   "cell_type": "code",
   "execution_count": 2,
   "metadata": {},
   "outputs": [],
   "source": [
    "df = pd.read_csv('../Data/CCES_data_EDA.csv')"
   ]
  },
  {
   "cell_type": "code",
   "execution_count": 3,
   "metadata": {},
   "outputs": [
    {
     "data": {
      "text/html": [
       "<div>\n",
       "<style scoped>\n",
       "    .dataframe tbody tr th:only-of-type {\n",
       "        vertical-align: middle;\n",
       "    }\n",
       "\n",
       "    .dataframe tbody tr th {\n",
       "        vertical-align: top;\n",
       "    }\n",
       "\n",
       "    .dataframe thead th {\n",
       "        text-align: right;\n",
       "    }\n",
       "</style>\n",
       "<table border=\"1\" class=\"dataframe\">\n",
       "  <thead>\n",
       "    <tr style=\"text-align: right;\">\n",
       "      <th></th>\n",
       "      <th>Unnamed: 0</th>\n",
       "      <th>year</th>\n",
       "      <th>case_id</th>\n",
       "      <th>weight</th>\n",
       "      <th>weight_cumulative</th>\n",
       "      <th>state</th>\n",
       "      <th>st</th>\n",
       "      <th>cong</th>\n",
       "      <th>cong_up</th>\n",
       "      <th>state_post</th>\n",
       "      <th>...</th>\n",
       "      <th>voted_rep_chosen</th>\n",
       "      <th>voted_sen_chosen</th>\n",
       "      <th>voted_gov_chosen</th>\n",
       "      <th>rep_current</th>\n",
       "      <th>rep_icpsr</th>\n",
       "      <th>sen1_current</th>\n",
       "      <th>sen1_icpsr</th>\n",
       "      <th>sen2_current</th>\n",
       "      <th>sen2_icpsr</th>\n",
       "      <th>gov_current</th>\n",
       "    </tr>\n",
       "  </thead>\n",
       "  <tbody>\n",
       "    <tr>\n",
       "      <th>0</th>\n",
       "      <td>11</td>\n",
       "      <td>2006</td>\n",
       "      <td>439269</td>\n",
       "      <td>0.902890</td>\n",
       "      <td>0.813124</td>\n",
       "      <td>California</td>\n",
       "      <td>CA</td>\n",
       "      <td>109</td>\n",
       "      <td>110</td>\n",
       "      <td>California</td>\n",
       "      <td>...</td>\n",
       "      <td>John W. Jones (R)</td>\n",
       "      <td>Richard \"Dick\" Mountjoy (R)</td>\n",
       "      <td>NaN</td>\n",
       "      <td>Mike Thompson (D)</td>\n",
       "      <td>29901.0</td>\n",
       "      <td>Dianne Feinstein (D)</td>\n",
       "      <td>49300</td>\n",
       "      <td>Barbara Boxer (D)</td>\n",
       "      <td>15011</td>\n",
       "      <td>Arnold Schwarzenegger (R)</td>\n",
       "    </tr>\n",
       "    <tr>\n",
       "      <th>1</th>\n",
       "      <td>12</td>\n",
       "      <td>2006</td>\n",
       "      <td>439270</td>\n",
       "      <td>0.612356</td>\n",
       "      <td>0.551475</td>\n",
       "      <td>California</td>\n",
       "      <td>CA</td>\n",
       "      <td>109</td>\n",
       "      <td>110</td>\n",
       "      <td>California</td>\n",
       "      <td>...</td>\n",
       "      <td>NaN</td>\n",
       "      <td>Richard \"Dick\" Mountjoy (R)</td>\n",
       "      <td>Arnold Schwarzenegger (R)</td>\n",
       "      <td>Mike Thompson (D)</td>\n",
       "      <td>29901.0</td>\n",
       "      <td>Dianne Feinstein (D)</td>\n",
       "      <td>49300</td>\n",
       "      <td>Barbara Boxer (D)</td>\n",
       "      <td>15011</td>\n",
       "      <td>Arnold Schwarzenegger (R)</td>\n",
       "    </tr>\n",
       "    <tr>\n",
       "      <th>2</th>\n",
       "      <td>31</td>\n",
       "      <td>2006</td>\n",
       "      <td>439370</td>\n",
       "      <td>0.721931</td>\n",
       "      <td>0.650156</td>\n",
       "      <td>California</td>\n",
       "      <td>CA</td>\n",
       "      <td>109</td>\n",
       "      <td>110</td>\n",
       "      <td>California</td>\n",
       "      <td>...</td>\n",
       "      <td>Sharon M. Beery (D)</td>\n",
       "      <td>NaN</td>\n",
       "      <td>Philip \"Phil\" Angelides (D)</td>\n",
       "      <td>William M. Thomas (R)</td>\n",
       "      <td>14669.0</td>\n",
       "      <td>Dianne Feinstein (D)</td>\n",
       "      <td>49300</td>\n",
       "      <td>Barbara Boxer (D)</td>\n",
       "      <td>15011</td>\n",
       "      <td>Arnold Schwarzenegger (R)</td>\n",
       "    </tr>\n",
       "    <tr>\n",
       "      <th>3</th>\n",
       "      <td>33</td>\n",
       "      <td>2006</td>\n",
       "      <td>439382</td>\n",
       "      <td>1.992852</td>\n",
       "      <td>1.794722</td>\n",
       "      <td>California</td>\n",
       "      <td>CA</td>\n",
       "      <td>109</td>\n",
       "      <td>110</td>\n",
       "      <td>California</td>\n",
       "      <td>...</td>\n",
       "      <td>NaN</td>\n",
       "      <td>NaN</td>\n",
       "      <td>NaN</td>\n",
       "      <td>Nancy Pelosi (D)</td>\n",
       "      <td>15448.0</td>\n",
       "      <td>Dianne Feinstein (D)</td>\n",
       "      <td>49300</td>\n",
       "      <td>Barbara Boxer (D)</td>\n",
       "      <td>15011</td>\n",
       "      <td>Arnold Schwarzenegger (R)</td>\n",
       "    </tr>\n",
       "    <tr>\n",
       "      <th>4</th>\n",
       "      <td>38</td>\n",
       "      <td>2006</td>\n",
       "      <td>439409</td>\n",
       "      <td>1.851676</td>\n",
       "      <td>1.667581</td>\n",
       "      <td>California</td>\n",
       "      <td>CA</td>\n",
       "      <td>109</td>\n",
       "      <td>110</td>\n",
       "      <td>California</td>\n",
       "      <td>...</td>\n",
       "      <td>Dana Rohrabacher (R)</td>\n",
       "      <td>Richard \"Dick\" Mountjoy (R)</td>\n",
       "      <td>Arnold Schwarzenegger (R)</td>\n",
       "      <td>Dana Rohrabacher (R)</td>\n",
       "      <td>15621.0</td>\n",
       "      <td>Dianne Feinstein (D)</td>\n",
       "      <td>49300</td>\n",
       "      <td>Barbara Boxer (D)</td>\n",
       "      <td>15011</td>\n",
       "      <td>Arnold Schwarzenegger (R)</td>\n",
       "    </tr>\n",
       "  </tbody>\n",
       "</table>\n",
       "<p>5 rows × 94 columns</p>\n",
       "</div>"
      ],
      "text/plain": [
       "   Unnamed: 0  year  case_id    weight  weight_cumulative       state  st  \\\n",
       "0          11  2006   439269  0.902890           0.813124  California  CA   \n",
       "1          12  2006   439270  0.612356           0.551475  California  CA   \n",
       "2          31  2006   439370  0.721931           0.650156  California  CA   \n",
       "3          33  2006   439382  1.992852           1.794722  California  CA   \n",
       "4          38  2006   439409  1.851676           1.667581  California  CA   \n",
       "\n",
       "   cong  cong_up  state_post  ...      voted_rep_chosen  \\\n",
       "0   109      110  California  ...     John W. Jones (R)   \n",
       "1   109      110  California  ...                   NaN   \n",
       "2   109      110  California  ...   Sharon M. Beery (D)   \n",
       "3   109      110  California  ...                   NaN   \n",
       "4   109      110  California  ...  Dana Rohrabacher (R)   \n",
       "\n",
       "              voted_sen_chosen             voted_gov_chosen  \\\n",
       "0  Richard \"Dick\" Mountjoy (R)                          NaN   \n",
       "1  Richard \"Dick\" Mountjoy (R)    Arnold Schwarzenegger (R)   \n",
       "2                          NaN  Philip \"Phil\" Angelides (D)   \n",
       "3                          NaN                          NaN   \n",
       "4  Richard \"Dick\" Mountjoy (R)    Arnold Schwarzenegger (R)   \n",
       "\n",
       "             rep_current rep_icpsr          sen1_current  sen1_icpsr  \\\n",
       "0      Mike Thompson (D)   29901.0  Dianne Feinstein (D)       49300   \n",
       "1      Mike Thompson (D)   29901.0  Dianne Feinstein (D)       49300   \n",
       "2  William M. Thomas (R)   14669.0  Dianne Feinstein (D)       49300   \n",
       "3       Nancy Pelosi (D)   15448.0  Dianne Feinstein (D)       49300   \n",
       "4   Dana Rohrabacher (R)   15621.0  Dianne Feinstein (D)       49300   \n",
       "\n",
       "        sen2_current sen2_icpsr                gov_current  \n",
       "0  Barbara Boxer (D)      15011  Arnold Schwarzenegger (R)  \n",
       "1  Barbara Boxer (D)      15011  Arnold Schwarzenegger (R)  \n",
       "2  Barbara Boxer (D)      15011  Arnold Schwarzenegger (R)  \n",
       "3  Barbara Boxer (D)      15011  Arnold Schwarzenegger (R)  \n",
       "4  Barbara Boxer (D)      15011  Arnold Schwarzenegger (R)  \n",
       "\n",
       "[5 rows x 94 columns]"
      ]
     },
     "execution_count": 3,
     "metadata": {},
     "output_type": "execute_result"
    }
   ],
   "source": [
    "df.head()"
   ]
  },
  {
   "cell_type": "code",
   "execution_count": 4,
   "metadata": {},
   "outputs": [],
   "source": [
    "#Dropping all data prior to 2016\n",
    "df.drop(df[df.year < 2016].index, inplace=True)"
   ]
  },
  {
   "cell_type": "code",
   "execution_count": 5,
   "metadata": {},
   "outputs": [
    {
     "data": {
      "text/plain": [
       "(19799, 94)"
      ]
     },
     "execution_count": 5,
     "metadata": {},
     "output_type": "execute_result"
    }
   ],
   "source": [
    "df.shape"
   ]
  },
  {
   "cell_type": "code",
   "execution_count": 6,
   "metadata": {},
   "outputs": [],
   "source": [
    "cali = df.copy()"
   ]
  },
  {
   "cell_type": "code",
   "execution_count": 7,
   "metadata": {},
   "outputs": [
    {
     "data": {
      "text/html": [
       "<div>\n",
       "<style scoped>\n",
       "    .dataframe tbody tr th:only-of-type {\n",
       "        vertical-align: middle;\n",
       "    }\n",
       "\n",
       "    .dataframe tbody tr th {\n",
       "        vertical-align: top;\n",
       "    }\n",
       "\n",
       "    .dataframe thead th {\n",
       "        text-align: right;\n",
       "    }\n",
       "</style>\n",
       "<table border=\"1\" class=\"dataframe\">\n",
       "  <thead>\n",
       "    <tr style=\"text-align: right;\">\n",
       "      <th></th>\n",
       "      <th>Unnamed: 0</th>\n",
       "      <th>year</th>\n",
       "      <th>case_id</th>\n",
       "      <th>weight</th>\n",
       "      <th>weight_cumulative</th>\n",
       "      <th>state</th>\n",
       "      <th>st</th>\n",
       "      <th>cong</th>\n",
       "      <th>cong_up</th>\n",
       "      <th>state_post</th>\n",
       "      <th>...</th>\n",
       "      <th>voted_rep_chosen</th>\n",
       "      <th>voted_sen_chosen</th>\n",
       "      <th>voted_gov_chosen</th>\n",
       "      <th>rep_current</th>\n",
       "      <th>rep_icpsr</th>\n",
       "      <th>sen1_current</th>\n",
       "      <th>sen1_icpsr</th>\n",
       "      <th>sen2_current</th>\n",
       "      <th>sen2_icpsr</th>\n",
       "      <th>gov_current</th>\n",
       "    </tr>\n",
       "  </thead>\n",
       "  <tbody>\n",
       "    <tr>\n",
       "      <th>29984</th>\n",
       "      <td>309976</td>\n",
       "      <td>2016</td>\n",
       "      <td>299793268</td>\n",
       "      <td>2.464577</td>\n",
       "      <td>1.251364</td>\n",
       "      <td>California</td>\n",
       "      <td>CA</td>\n",
       "      <td>114</td>\n",
       "      <td>115</td>\n",
       "      <td>California</td>\n",
       "      <td>...</td>\n",
       "      <td>NaN</td>\n",
       "      <td>NaN</td>\n",
       "      <td>NaN</td>\n",
       "      <td>Jerry McNerney (D)</td>\n",
       "      <td>20702.0</td>\n",
       "      <td>Dianne Feinstein (D)</td>\n",
       "      <td>49300</td>\n",
       "      <td>Barbara Boxer (D)</td>\n",
       "      <td>15011</td>\n",
       "      <td>Jerry Brown (D)</td>\n",
       "    </tr>\n",
       "    <tr>\n",
       "      <th>29985</th>\n",
       "      <td>309979</td>\n",
       "      <td>2016</td>\n",
       "      <td>299929287</td>\n",
       "      <td>2.049700</td>\n",
       "      <td>1.040715</td>\n",
       "      <td>California</td>\n",
       "      <td>CA</td>\n",
       "      <td>114</td>\n",
       "      <td>115</td>\n",
       "      <td>NaN</td>\n",
       "      <td>...</td>\n",
       "      <td>NaN</td>\n",
       "      <td>NaN</td>\n",
       "      <td>NaN</td>\n",
       "      <td>Brad Sherman (D)</td>\n",
       "      <td>29707.0</td>\n",
       "      <td>Dianne Feinstein (D)</td>\n",
       "      <td>49300</td>\n",
       "      <td>Barbara Boxer (D)</td>\n",
       "      <td>15011</td>\n",
       "      <td>Jerry Brown (D)</td>\n",
       "    </tr>\n",
       "    <tr>\n",
       "      <th>29986</th>\n",
       "      <td>309994</td>\n",
       "      <td>2016</td>\n",
       "      <td>300678759</td>\n",
       "      <td>0.278606</td>\n",
       "      <td>0.141459</td>\n",
       "      <td>California</td>\n",
       "      <td>CA</td>\n",
       "      <td>114</td>\n",
       "      <td>115</td>\n",
       "      <td>California</td>\n",
       "      <td>...</td>\n",
       "      <td>Ted Lieu (D)</td>\n",
       "      <td>Kamala D. Harris (D)</td>\n",
       "      <td>NaN</td>\n",
       "      <td>Ted Lieu (D)</td>\n",
       "      <td>21507.0</td>\n",
       "      <td>Dianne Feinstein (D)</td>\n",
       "      <td>49300</td>\n",
       "      <td>Barbara Boxer (D)</td>\n",
       "      <td>15011</td>\n",
       "      <td>Jerry Brown (D)</td>\n",
       "    </tr>\n",
       "    <tr>\n",
       "      <th>29987</th>\n",
       "      <td>309995</td>\n",
       "      <td>2016</td>\n",
       "      <td>300756130</td>\n",
       "      <td>0.064245</td>\n",
       "      <td>0.032620</td>\n",
       "      <td>California</td>\n",
       "      <td>CA</td>\n",
       "      <td>114</td>\n",
       "      <td>115</td>\n",
       "      <td>California</td>\n",
       "      <td>...</td>\n",
       "      <td>NaN</td>\n",
       "      <td>NaN</td>\n",
       "      <td>NaN</td>\n",
       "      <td>Kevin McCarthy (R)</td>\n",
       "      <td>20703.0</td>\n",
       "      <td>Dianne Feinstein (D)</td>\n",
       "      <td>49300</td>\n",
       "      <td>Barbara Boxer (D)</td>\n",
       "      <td>15011</td>\n",
       "      <td>Jerry Brown (D)</td>\n",
       "    </tr>\n",
       "    <tr>\n",
       "      <th>29988</th>\n",
       "      <td>310003</td>\n",
       "      <td>2016</td>\n",
       "      <td>300894516</td>\n",
       "      <td>0.209963</td>\n",
       "      <td>0.106606</td>\n",
       "      <td>California</td>\n",
       "      <td>CA</td>\n",
       "      <td>114</td>\n",
       "      <td>115</td>\n",
       "      <td>California</td>\n",
       "      <td>...</td>\n",
       "      <td>Brett Murdock (D)</td>\n",
       "      <td>Kamala D. Harris (D)</td>\n",
       "      <td>NaN</td>\n",
       "      <td>Ed Royce (R)</td>\n",
       "      <td>29321.0</td>\n",
       "      <td>Dianne Feinstein (D)</td>\n",
       "      <td>49300</td>\n",
       "      <td>Barbara Boxer (D)</td>\n",
       "      <td>15011</td>\n",
       "      <td>Jerry Brown (D)</td>\n",
       "    </tr>\n",
       "  </tbody>\n",
       "</table>\n",
       "<p>5 rows × 94 columns</p>\n",
       "</div>"
      ],
      "text/plain": [
       "       Unnamed: 0  year    case_id    weight  weight_cumulative       state  \\\n",
       "29984      309976  2016  299793268  2.464577           1.251364  California   \n",
       "29985      309979  2016  299929287  2.049700           1.040715  California   \n",
       "29986      309994  2016  300678759  0.278606           0.141459  California   \n",
       "29987      309995  2016  300756130  0.064245           0.032620  California   \n",
       "29988      310003  2016  300894516  0.209963           0.106606  California   \n",
       "\n",
       "       st  cong  cong_up  state_post  ...   voted_rep_chosen  \\\n",
       "29984  CA   114      115  California  ...                NaN   \n",
       "29985  CA   114      115         NaN  ...                NaN   \n",
       "29986  CA   114      115  California  ...       Ted Lieu (D)   \n",
       "29987  CA   114      115  California  ...                NaN   \n",
       "29988  CA   114      115  California  ...  Brett Murdock (D)   \n",
       "\n",
       "           voted_sen_chosen  voted_gov_chosen         rep_current rep_icpsr  \\\n",
       "29984                   NaN               NaN  Jerry McNerney (D)   20702.0   \n",
       "29985                   NaN               NaN    Brad Sherman (D)   29707.0   \n",
       "29986  Kamala D. Harris (D)               NaN        Ted Lieu (D)   21507.0   \n",
       "29987                   NaN               NaN  Kevin McCarthy (R)   20703.0   \n",
       "29988  Kamala D. Harris (D)               NaN        Ed Royce (R)   29321.0   \n",
       "\n",
       "               sen1_current  sen1_icpsr       sen2_current sen2_icpsr  \\\n",
       "29984  Dianne Feinstein (D)       49300  Barbara Boxer (D)      15011   \n",
       "29985  Dianne Feinstein (D)       49300  Barbara Boxer (D)      15011   \n",
       "29986  Dianne Feinstein (D)       49300  Barbara Boxer (D)      15011   \n",
       "29987  Dianne Feinstein (D)       49300  Barbara Boxer (D)      15011   \n",
       "29988  Dianne Feinstein (D)       49300  Barbara Boxer (D)      15011   \n",
       "\n",
       "           gov_current  \n",
       "29984  Jerry Brown (D)  \n",
       "29985  Jerry Brown (D)  \n",
       "29986  Jerry Brown (D)  \n",
       "29987  Jerry Brown (D)  \n",
       "29988  Jerry Brown (D)  \n",
       "\n",
       "[5 rows x 94 columns]"
      ]
     },
     "execution_count": 7,
     "metadata": {},
     "output_type": "execute_result"
    }
   ],
   "source": [
    "cali.head()"
   ]
  },
  {
   "cell_type": "code",
   "execution_count": 8,
   "metadata": {
    "tags": []
   },
   "outputs": [],
   "source": [
    "# Limit dataframe to California\n",
    "# code is a little weird, but at this point, cali = df2, so it works\n",
    "\n",
    "cali.drop(df[df.state != 'California'].index, inplace=True)"
   ]
  },
  {
   "cell_type": "code",
   "execution_count": 9,
   "metadata": {},
   "outputs": [
    {
     "data": {
      "text/plain": [
       "(19799, 94)"
      ]
     },
     "execution_count": 9,
     "metadata": {},
     "output_type": "execute_result"
    }
   ],
   "source": [
    "cali.shape"
   ]
  },
  {
   "cell_type": "code",
   "execution_count": 10,
   "metadata": {
    "tags": []
   },
   "outputs": [
    {
     "data": {
      "text/html": [
       "<div>\n",
       "<style scoped>\n",
       "    .dataframe tbody tr th:only-of-type {\n",
       "        vertical-align: middle;\n",
       "    }\n",
       "\n",
       "    .dataframe tbody tr th {\n",
       "        vertical-align: top;\n",
       "    }\n",
       "\n",
       "    .dataframe thead th {\n",
       "        text-align: right;\n",
       "    }\n",
       "</style>\n",
       "<table border=\"1\" class=\"dataframe\">\n",
       "  <thead>\n",
       "    <tr style=\"text-align: right;\">\n",
       "      <th></th>\n",
       "      <th>Unnamed: 0</th>\n",
       "      <th>year</th>\n",
       "      <th>case_id</th>\n",
       "      <th>weight</th>\n",
       "      <th>weight_cumulative</th>\n",
       "      <th>state</th>\n",
       "      <th>st</th>\n",
       "      <th>cong</th>\n",
       "      <th>cong_up</th>\n",
       "      <th>state_post</th>\n",
       "      <th>...</th>\n",
       "      <th>voted_rep_chosen</th>\n",
       "      <th>voted_sen_chosen</th>\n",
       "      <th>voted_gov_chosen</th>\n",
       "      <th>rep_current</th>\n",
       "      <th>rep_icpsr</th>\n",
       "      <th>sen1_current</th>\n",
       "      <th>sen1_icpsr</th>\n",
       "      <th>sen2_current</th>\n",
       "      <th>sen2_icpsr</th>\n",
       "      <th>gov_current</th>\n",
       "    </tr>\n",
       "  </thead>\n",
       "  <tbody>\n",
       "    <tr>\n",
       "      <th>29984</th>\n",
       "      <td>309976</td>\n",
       "      <td>2016</td>\n",
       "      <td>299793268</td>\n",
       "      <td>2.464577</td>\n",
       "      <td>1.251364</td>\n",
       "      <td>California</td>\n",
       "      <td>CA</td>\n",
       "      <td>114</td>\n",
       "      <td>115</td>\n",
       "      <td>California</td>\n",
       "      <td>...</td>\n",
       "      <td>NaN</td>\n",
       "      <td>NaN</td>\n",
       "      <td>NaN</td>\n",
       "      <td>Jerry McNerney (D)</td>\n",
       "      <td>20702.0</td>\n",
       "      <td>Dianne Feinstein (D)</td>\n",
       "      <td>49300</td>\n",
       "      <td>Barbara Boxer (D)</td>\n",
       "      <td>15011</td>\n",
       "      <td>Jerry Brown (D)</td>\n",
       "    </tr>\n",
       "    <tr>\n",
       "      <th>29985</th>\n",
       "      <td>309979</td>\n",
       "      <td>2016</td>\n",
       "      <td>299929287</td>\n",
       "      <td>2.049700</td>\n",
       "      <td>1.040715</td>\n",
       "      <td>California</td>\n",
       "      <td>CA</td>\n",
       "      <td>114</td>\n",
       "      <td>115</td>\n",
       "      <td>NaN</td>\n",
       "      <td>...</td>\n",
       "      <td>NaN</td>\n",
       "      <td>NaN</td>\n",
       "      <td>NaN</td>\n",
       "      <td>Brad Sherman (D)</td>\n",
       "      <td>29707.0</td>\n",
       "      <td>Dianne Feinstein (D)</td>\n",
       "      <td>49300</td>\n",
       "      <td>Barbara Boxer (D)</td>\n",
       "      <td>15011</td>\n",
       "      <td>Jerry Brown (D)</td>\n",
       "    </tr>\n",
       "    <tr>\n",
       "      <th>29986</th>\n",
       "      <td>309994</td>\n",
       "      <td>2016</td>\n",
       "      <td>300678759</td>\n",
       "      <td>0.278606</td>\n",
       "      <td>0.141459</td>\n",
       "      <td>California</td>\n",
       "      <td>CA</td>\n",
       "      <td>114</td>\n",
       "      <td>115</td>\n",
       "      <td>California</td>\n",
       "      <td>...</td>\n",
       "      <td>Ted Lieu (D)</td>\n",
       "      <td>Kamala D. Harris (D)</td>\n",
       "      <td>NaN</td>\n",
       "      <td>Ted Lieu (D)</td>\n",
       "      <td>21507.0</td>\n",
       "      <td>Dianne Feinstein (D)</td>\n",
       "      <td>49300</td>\n",
       "      <td>Barbara Boxer (D)</td>\n",
       "      <td>15011</td>\n",
       "      <td>Jerry Brown (D)</td>\n",
       "    </tr>\n",
       "    <tr>\n",
       "      <th>29987</th>\n",
       "      <td>309995</td>\n",
       "      <td>2016</td>\n",
       "      <td>300756130</td>\n",
       "      <td>0.064245</td>\n",
       "      <td>0.032620</td>\n",
       "      <td>California</td>\n",
       "      <td>CA</td>\n",
       "      <td>114</td>\n",
       "      <td>115</td>\n",
       "      <td>California</td>\n",
       "      <td>...</td>\n",
       "      <td>NaN</td>\n",
       "      <td>NaN</td>\n",
       "      <td>NaN</td>\n",
       "      <td>Kevin McCarthy (R)</td>\n",
       "      <td>20703.0</td>\n",
       "      <td>Dianne Feinstein (D)</td>\n",
       "      <td>49300</td>\n",
       "      <td>Barbara Boxer (D)</td>\n",
       "      <td>15011</td>\n",
       "      <td>Jerry Brown (D)</td>\n",
       "    </tr>\n",
       "    <tr>\n",
       "      <th>29988</th>\n",
       "      <td>310003</td>\n",
       "      <td>2016</td>\n",
       "      <td>300894516</td>\n",
       "      <td>0.209963</td>\n",
       "      <td>0.106606</td>\n",
       "      <td>California</td>\n",
       "      <td>CA</td>\n",
       "      <td>114</td>\n",
       "      <td>115</td>\n",
       "      <td>California</td>\n",
       "      <td>...</td>\n",
       "      <td>Brett Murdock (D)</td>\n",
       "      <td>Kamala D. Harris (D)</td>\n",
       "      <td>NaN</td>\n",
       "      <td>Ed Royce (R)</td>\n",
       "      <td>29321.0</td>\n",
       "      <td>Dianne Feinstein (D)</td>\n",
       "      <td>49300</td>\n",
       "      <td>Barbara Boxer (D)</td>\n",
       "      <td>15011</td>\n",
       "      <td>Jerry Brown (D)</td>\n",
       "    </tr>\n",
       "    <tr>\n",
       "      <th>29989</th>\n",
       "      <td>310008</td>\n",
       "      <td>2016</td>\n",
       "      <td>300931090</td>\n",
       "      <td>1.537359</td>\n",
       "      <td>0.780579</td>\n",
       "      <td>California</td>\n",
       "      <td>CA</td>\n",
       "      <td>114</td>\n",
       "      <td>115</td>\n",
       "      <td>California</td>\n",
       "      <td>...</td>\n",
       "      <td>Brad Sherman (D)</td>\n",
       "      <td>Kamala D. Harris (D)</td>\n",
       "      <td>NaN</td>\n",
       "      <td>Brad Sherman (D)</td>\n",
       "      <td>29707.0</td>\n",
       "      <td>Dianne Feinstein (D)</td>\n",
       "      <td>49300</td>\n",
       "      <td>Barbara Boxer (D)</td>\n",
       "      <td>15011</td>\n",
       "      <td>Jerry Brown (D)</td>\n",
       "    </tr>\n",
       "    <tr>\n",
       "      <th>29990</th>\n",
       "      <td>310011</td>\n",
       "      <td>2016</td>\n",
       "      <td>300996404</td>\n",
       "      <td>1.172477</td>\n",
       "      <td>0.595313</td>\n",
       "      <td>California</td>\n",
       "      <td>CA</td>\n",
       "      <td>114</td>\n",
       "      <td>115</td>\n",
       "      <td>California</td>\n",
       "      <td>...</td>\n",
       "      <td>Juan M. Hidalgo, Jr. (R)</td>\n",
       "      <td>Loretta L. Sanchez (D)</td>\n",
       "      <td>NaN</td>\n",
       "      <td>Juan Vargas (D)</td>\n",
       "      <td>21314.0</td>\n",
       "      <td>Dianne Feinstein (D)</td>\n",
       "      <td>49300</td>\n",
       "      <td>Barbara Boxer (D)</td>\n",
       "      <td>15011</td>\n",
       "      <td>Jerry Brown (D)</td>\n",
       "    </tr>\n",
       "    <tr>\n",
       "      <th>29991</th>\n",
       "      <td>310018</td>\n",
       "      <td>2016</td>\n",
       "      <td>301045806</td>\n",
       "      <td>2.929296</td>\n",
       "      <td>1.487321</td>\n",
       "      <td>California</td>\n",
       "      <td>CA</td>\n",
       "      <td>114</td>\n",
       "      <td>115</td>\n",
       "      <td>California</td>\n",
       "      <td>...</td>\n",
       "      <td>Anna Eshoo (D)</td>\n",
       "      <td>Loretta L. Sanchez (D)</td>\n",
       "      <td>NaN</td>\n",
       "      <td>Anna Eshoo (D)</td>\n",
       "      <td>29312.0</td>\n",
       "      <td>Dianne Feinstein (D)</td>\n",
       "      <td>49300</td>\n",
       "      <td>Barbara Boxer (D)</td>\n",
       "      <td>15011</td>\n",
       "      <td>Jerry Brown (D)</td>\n",
       "    </tr>\n",
       "    <tr>\n",
       "      <th>29992</th>\n",
       "      <td>310024</td>\n",
       "      <td>2016</td>\n",
       "      <td>301092237</td>\n",
       "      <td>0.825176</td>\n",
       "      <td>0.418975</td>\n",
       "      <td>California</td>\n",
       "      <td>CA</td>\n",
       "      <td>114</td>\n",
       "      <td>115</td>\n",
       "      <td>California</td>\n",
       "      <td>...</td>\n",
       "      <td>Grace Napolitano (D)</td>\n",
       "      <td>Loretta L. Sanchez (D)</td>\n",
       "      <td>NaN</td>\n",
       "      <td>Grace Napolitano (D)</td>\n",
       "      <td>29903.0</td>\n",
       "      <td>Dianne Feinstein (D)</td>\n",
       "      <td>49300</td>\n",
       "      <td>Barbara Boxer (D)</td>\n",
       "      <td>15011</td>\n",
       "      <td>Jerry Brown (D)</td>\n",
       "    </tr>\n",
       "    <tr>\n",
       "      <th>29993</th>\n",
       "      <td>310041</td>\n",
       "      <td>2016</td>\n",
       "      <td>301124709</td>\n",
       "      <td>0.958000</td>\n",
       "      <td>0.486415</td>\n",
       "      <td>California</td>\n",
       "      <td>CA</td>\n",
       "      <td>114</td>\n",
       "      <td>115</td>\n",
       "      <td>California</td>\n",
       "      <td>...</td>\n",
       "      <td>Jared Huffman (D)</td>\n",
       "      <td>Kamala D. Harris (D)</td>\n",
       "      <td>NaN</td>\n",
       "      <td>Jared Huffman (D)</td>\n",
       "      <td>21303.0</td>\n",
       "      <td>Dianne Feinstein (D)</td>\n",
       "      <td>49300</td>\n",
       "      <td>Barbara Boxer (D)</td>\n",
       "      <td>15011</td>\n",
       "      <td>Jerry Brown (D)</td>\n",
       "    </tr>\n",
       "  </tbody>\n",
       "</table>\n",
       "<p>10 rows × 94 columns</p>\n",
       "</div>"
      ],
      "text/plain": [
       "       Unnamed: 0  year    case_id    weight  weight_cumulative       state  \\\n",
       "29984      309976  2016  299793268  2.464577           1.251364  California   \n",
       "29985      309979  2016  299929287  2.049700           1.040715  California   \n",
       "29986      309994  2016  300678759  0.278606           0.141459  California   \n",
       "29987      309995  2016  300756130  0.064245           0.032620  California   \n",
       "29988      310003  2016  300894516  0.209963           0.106606  California   \n",
       "29989      310008  2016  300931090  1.537359           0.780579  California   \n",
       "29990      310011  2016  300996404  1.172477           0.595313  California   \n",
       "29991      310018  2016  301045806  2.929296           1.487321  California   \n",
       "29992      310024  2016  301092237  0.825176           0.418975  California   \n",
       "29993      310041  2016  301124709  0.958000           0.486415  California   \n",
       "\n",
       "       st  cong  cong_up  state_post  ...          voted_rep_chosen  \\\n",
       "29984  CA   114      115  California  ...                       NaN   \n",
       "29985  CA   114      115         NaN  ...                       NaN   \n",
       "29986  CA   114      115  California  ...              Ted Lieu (D)   \n",
       "29987  CA   114      115  California  ...                       NaN   \n",
       "29988  CA   114      115  California  ...         Brett Murdock (D)   \n",
       "29989  CA   114      115  California  ...          Brad Sherman (D)   \n",
       "29990  CA   114      115  California  ...  Juan M. Hidalgo, Jr. (R)   \n",
       "29991  CA   114      115  California  ...            Anna Eshoo (D)   \n",
       "29992  CA   114      115  California  ...      Grace Napolitano (D)   \n",
       "29993  CA   114      115  California  ...         Jared Huffman (D)   \n",
       "\n",
       "             voted_sen_chosen  voted_gov_chosen           rep_current  \\\n",
       "29984                     NaN               NaN    Jerry McNerney (D)   \n",
       "29985                     NaN               NaN      Brad Sherman (D)   \n",
       "29986    Kamala D. Harris (D)               NaN          Ted Lieu (D)   \n",
       "29987                     NaN               NaN    Kevin McCarthy (R)   \n",
       "29988    Kamala D. Harris (D)               NaN          Ed Royce (R)   \n",
       "29989    Kamala D. Harris (D)               NaN      Brad Sherman (D)   \n",
       "29990  Loretta L. Sanchez (D)               NaN       Juan Vargas (D)   \n",
       "29991  Loretta L. Sanchez (D)               NaN        Anna Eshoo (D)   \n",
       "29992  Loretta L. Sanchez (D)               NaN  Grace Napolitano (D)   \n",
       "29993    Kamala D. Harris (D)               NaN     Jared Huffman (D)   \n",
       "\n",
       "      rep_icpsr          sen1_current  sen1_icpsr       sen2_current  \\\n",
       "29984   20702.0  Dianne Feinstein (D)       49300  Barbara Boxer (D)   \n",
       "29985   29707.0  Dianne Feinstein (D)       49300  Barbara Boxer (D)   \n",
       "29986   21507.0  Dianne Feinstein (D)       49300  Barbara Boxer (D)   \n",
       "29987   20703.0  Dianne Feinstein (D)       49300  Barbara Boxer (D)   \n",
       "29988   29321.0  Dianne Feinstein (D)       49300  Barbara Boxer (D)   \n",
       "29989   29707.0  Dianne Feinstein (D)       49300  Barbara Boxer (D)   \n",
       "29990   21314.0  Dianne Feinstein (D)       49300  Barbara Boxer (D)   \n",
       "29991   29312.0  Dianne Feinstein (D)       49300  Barbara Boxer (D)   \n",
       "29992   29903.0  Dianne Feinstein (D)       49300  Barbara Boxer (D)   \n",
       "29993   21303.0  Dianne Feinstein (D)       49300  Barbara Boxer (D)   \n",
       "\n",
       "      sen2_icpsr      gov_current  \n",
       "29984      15011  Jerry Brown (D)  \n",
       "29985      15011  Jerry Brown (D)  \n",
       "29986      15011  Jerry Brown (D)  \n",
       "29987      15011  Jerry Brown (D)  \n",
       "29988      15011  Jerry Brown (D)  \n",
       "29989      15011  Jerry Brown (D)  \n",
       "29990      15011  Jerry Brown (D)  \n",
       "29991      15011  Jerry Brown (D)  \n",
       "29992      15011  Jerry Brown (D)  \n",
       "29993      15011  Jerry Brown (D)  \n",
       "\n",
       "[10 rows x 94 columns]"
      ]
     },
     "execution_count": 10,
     "metadata": {},
     "output_type": "execute_result"
    }
   ],
   "source": [
    "cali.head(10)"
   ]
  },
  {
   "cell_type": "code",
   "execution_count": 11,
   "metadata": {
    "scrolled": true
   },
   "outputs": [],
   "source": [
    "# drop state column, since it's the same as st column\n",
    "cali.drop('state_post', axis =1, inplace= True)"
   ]
  },
  {
   "cell_type": "code",
   "execution_count": 12,
   "metadata": {},
   "outputs": [],
   "source": [
    "cali.drop('state', axis =1, inplace= True)\n",
    "cali.drop('st_post', axis =1, inplace= True)"
   ]
  },
  {
   "cell_type": "code",
   "execution_count": 13,
   "metadata": {},
   "outputs": [
    {
     "data": {
      "text/plain": [
       "(19799, 91)"
      ]
     },
     "execution_count": 13,
     "metadata": {},
     "output_type": "execute_result"
    }
   ],
   "source": [
    "cali.shape"
   ]
  },
  {
   "cell_type": "code",
   "execution_count": 14,
   "metadata": {
    "tags": []
   },
   "outputs": [
    {
     "data": {
      "text/html": [
       "<div>\n",
       "<style scoped>\n",
       "    .dataframe tbody tr th:only-of-type {\n",
       "        vertical-align: middle;\n",
       "    }\n",
       "\n",
       "    .dataframe tbody tr th {\n",
       "        vertical-align: top;\n",
       "    }\n",
       "\n",
       "    .dataframe thead th {\n",
       "        text-align: right;\n",
       "    }\n",
       "</style>\n",
       "<table border=\"1\" class=\"dataframe\">\n",
       "  <thead>\n",
       "    <tr style=\"text-align: right;\">\n",
       "      <th></th>\n",
       "      <th>Unnamed: 0</th>\n",
       "      <th>year</th>\n",
       "      <th>case_id</th>\n",
       "      <th>weight</th>\n",
       "      <th>weight_cumulative</th>\n",
       "      <th>st</th>\n",
       "      <th>cong</th>\n",
       "      <th>cong_up</th>\n",
       "      <th>dist</th>\n",
       "      <th>dist_up</th>\n",
       "      <th>...</th>\n",
       "      <th>voted_rep_chosen</th>\n",
       "      <th>voted_sen_chosen</th>\n",
       "      <th>voted_gov_chosen</th>\n",
       "      <th>rep_current</th>\n",
       "      <th>rep_icpsr</th>\n",
       "      <th>sen1_current</th>\n",
       "      <th>sen1_icpsr</th>\n",
       "      <th>sen2_current</th>\n",
       "      <th>sen2_icpsr</th>\n",
       "      <th>gov_current</th>\n",
       "    </tr>\n",
       "  </thead>\n",
       "  <tbody>\n",
       "    <tr>\n",
       "      <th>29984</th>\n",
       "      <td>309976</td>\n",
       "      <td>2016</td>\n",
       "      <td>299793268</td>\n",
       "      <td>2.464577</td>\n",
       "      <td>1.251364</td>\n",
       "      <td>CA</td>\n",
       "      <td>114</td>\n",
       "      <td>115</td>\n",
       "      <td>9</td>\n",
       "      <td>9</td>\n",
       "      <td>...</td>\n",
       "      <td>NaN</td>\n",
       "      <td>NaN</td>\n",
       "      <td>NaN</td>\n",
       "      <td>Jerry McNerney (D)</td>\n",
       "      <td>20702.0</td>\n",
       "      <td>Dianne Feinstein (D)</td>\n",
       "      <td>49300</td>\n",
       "      <td>Barbara Boxer (D)</td>\n",
       "      <td>15011</td>\n",
       "      <td>Jerry Brown (D)</td>\n",
       "    </tr>\n",
       "    <tr>\n",
       "      <th>29985</th>\n",
       "      <td>309979</td>\n",
       "      <td>2016</td>\n",
       "      <td>299929287</td>\n",
       "      <td>2.049700</td>\n",
       "      <td>1.040715</td>\n",
       "      <td>CA</td>\n",
       "      <td>114</td>\n",
       "      <td>115</td>\n",
       "      <td>30</td>\n",
       "      <td>30</td>\n",
       "      <td>...</td>\n",
       "      <td>NaN</td>\n",
       "      <td>NaN</td>\n",
       "      <td>NaN</td>\n",
       "      <td>Brad Sherman (D)</td>\n",
       "      <td>29707.0</td>\n",
       "      <td>Dianne Feinstein (D)</td>\n",
       "      <td>49300</td>\n",
       "      <td>Barbara Boxer (D)</td>\n",
       "      <td>15011</td>\n",
       "      <td>Jerry Brown (D)</td>\n",
       "    </tr>\n",
       "    <tr>\n",
       "      <th>29986</th>\n",
       "      <td>309994</td>\n",
       "      <td>2016</td>\n",
       "      <td>300678759</td>\n",
       "      <td>0.278606</td>\n",
       "      <td>0.141459</td>\n",
       "      <td>CA</td>\n",
       "      <td>114</td>\n",
       "      <td>115</td>\n",
       "      <td>33</td>\n",
       "      <td>33</td>\n",
       "      <td>...</td>\n",
       "      <td>Ted Lieu (D)</td>\n",
       "      <td>Kamala D. Harris (D)</td>\n",
       "      <td>NaN</td>\n",
       "      <td>Ted Lieu (D)</td>\n",
       "      <td>21507.0</td>\n",
       "      <td>Dianne Feinstein (D)</td>\n",
       "      <td>49300</td>\n",
       "      <td>Barbara Boxer (D)</td>\n",
       "      <td>15011</td>\n",
       "      <td>Jerry Brown (D)</td>\n",
       "    </tr>\n",
       "  </tbody>\n",
       "</table>\n",
       "<p>3 rows × 91 columns</p>\n",
       "</div>"
      ],
      "text/plain": [
       "       Unnamed: 0  year    case_id    weight  weight_cumulative  st  cong  \\\n",
       "29984      309976  2016  299793268  2.464577           1.251364  CA   114   \n",
       "29985      309979  2016  299929287  2.049700           1.040715  CA   114   \n",
       "29986      309994  2016  300678759  0.278606           0.141459  CA   114   \n",
       "\n",
       "       cong_up  dist  dist_up  ... voted_rep_chosen      voted_sen_chosen  \\\n",
       "29984      115     9        9  ...              NaN                   NaN   \n",
       "29985      115    30       30  ...              NaN                   NaN   \n",
       "29986      115    33       33  ...     Ted Lieu (D)  Kamala D. Harris (D)   \n",
       "\n",
       "       voted_gov_chosen         rep_current rep_icpsr          sen1_current  \\\n",
       "29984               NaN  Jerry McNerney (D)   20702.0  Dianne Feinstein (D)   \n",
       "29985               NaN    Brad Sherman (D)   29707.0  Dianne Feinstein (D)   \n",
       "29986               NaN        Ted Lieu (D)   21507.0  Dianne Feinstein (D)   \n",
       "\n",
       "       sen1_icpsr       sen2_current sen2_icpsr      gov_current  \n",
       "29984       49300  Barbara Boxer (D)      15011  Jerry Brown (D)  \n",
       "29985       49300  Barbara Boxer (D)      15011  Jerry Brown (D)  \n",
       "29986       49300  Barbara Boxer (D)      15011  Jerry Brown (D)  \n",
       "\n",
       "[3 rows x 91 columns]"
      ]
     },
     "execution_count": 14,
     "metadata": {},
     "output_type": "execute_result"
    }
   ],
   "source": [
    "cali.head(3)"
   ]
  },
  {
   "cell_type": "markdown",
   "metadata": {},
   "source": [
    "# Create DataFrames By Year, 2016 - 2020"
   ]
  },
  {
   "cell_type": "code",
   "execution_count": 15,
   "metadata": {},
   "outputs": [],
   "source": [
    "cali16 = cali[(cali['year'] == 2016)]"
   ]
  },
  {
   "cell_type": "code",
   "execution_count": 16,
   "metadata": {},
   "outputs": [
    {
     "data": {
      "text/plain": [
       "(6021, 91)"
      ]
     },
     "execution_count": 16,
     "metadata": {},
     "output_type": "execute_result"
    }
   ],
   "source": [
    "cali16.shape"
   ]
  },
  {
   "cell_type": "code",
   "execution_count": 17,
   "metadata": {},
   "outputs": [],
   "source": [
    "cali17 = cali[(cali['year'] == 2017)]"
   ]
  },
  {
   "cell_type": "code",
   "execution_count": 18,
   "metadata": {},
   "outputs": [
    {
     "data": {
      "text/plain": [
       "(1816, 91)"
      ]
     },
     "execution_count": 18,
     "metadata": {},
     "output_type": "execute_result"
    }
   ],
   "source": [
    "cali17.shape"
   ]
  },
  {
   "cell_type": "code",
   "execution_count": 19,
   "metadata": {},
   "outputs": [],
   "source": [
    "cali18 = cali[(cali['year'] == 2018)]"
   ]
  },
  {
   "cell_type": "code",
   "execution_count": 20,
   "metadata": {},
   "outputs": [
    {
     "data": {
      "text/plain": [
       "(5284, 91)"
      ]
     },
     "execution_count": 20,
     "metadata": {},
     "output_type": "execute_result"
    }
   ],
   "source": [
    "cali18.shape"
   ]
  },
  {
   "cell_type": "code",
   "execution_count": 21,
   "metadata": {},
   "outputs": [],
   "source": [
    "cali19 = cali[(cali['year'] == 2019)]"
   ]
  },
  {
   "cell_type": "code",
   "execution_count": 22,
   "metadata": {},
   "outputs": [
    {
     "data": {
      "text/plain": [
       "(1650, 91)"
      ]
     },
     "execution_count": 22,
     "metadata": {},
     "output_type": "execute_result"
    }
   ],
   "source": [
    "cali19.shape"
   ]
  },
  {
   "cell_type": "code",
   "execution_count": 23,
   "metadata": {},
   "outputs": [],
   "source": [
    "cali20 = cali[(cali['year'] == 2020)]"
   ]
  },
  {
   "cell_type": "code",
   "execution_count": 24,
   "metadata": {},
   "outputs": [
    {
     "data": {
      "text/plain": [
       "(5028, 91)"
      ]
     },
     "execution_count": 24,
     "metadata": {},
     "output_type": "execute_result"
    }
   ],
   "source": [
    "cali20.shape"
   ]
  },
  {
   "cell_type": "markdown",
   "metadata": {},
   "source": [
    "# Count Missing Values (all years)"
   ]
  },
  {
   "cell_type": "code",
   "execution_count": 25,
   "metadata": {},
   "outputs": [
    {
     "data": {
      "text/plain": [
       "0"
      ]
     },
     "execution_count": 25,
     "metadata": {},
     "output_type": "execute_result"
    }
   ],
   "source": [
    "cali['gender'].isna().sum()"
   ]
  },
  {
   "cell_type": "code",
   "execution_count": 26,
   "metadata": {},
   "outputs": [
    {
     "data": {
      "text/plain": [
       "0"
      ]
     },
     "execution_count": 26,
     "metadata": {},
     "output_type": "execute_result"
    }
   ],
   "source": [
    "cali['age'].isna().sum()"
   ]
  },
  {
   "cell_type": "code",
   "execution_count": 27,
   "metadata": {},
   "outputs": [
    {
     "data": {
      "text/plain": [
       "0"
      ]
     },
     "execution_count": 27,
     "metadata": {},
     "output_type": "execute_result"
    }
   ],
   "source": [
    "cali['educ'].isna().sum()"
   ]
  },
  {
   "cell_type": "code",
   "execution_count": 28,
   "metadata": {},
   "outputs": [
    {
     "data": {
      "text/plain": [
       "0"
      ]
     },
     "execution_count": 28,
     "metadata": {},
     "output_type": "execute_result"
    }
   ],
   "source": [
    "cali['race'].isna().sum()"
   ]
  },
  {
   "cell_type": "code",
   "execution_count": 29,
   "metadata": {},
   "outputs": [
    {
     "data": {
      "text/plain": [
       "3268"
      ]
     },
     "execution_count": 29,
     "metadata": {},
     "output_type": "execute_result"
    }
   ],
   "source": [
    "# Need to investigate further\n",
    "cali['hispanic'].isna().sum()"
   ]
  },
  {
   "cell_type": "code",
   "execution_count": 30,
   "metadata": {},
   "outputs": [
    {
     "data": {
      "text/plain": [
       "33"
      ]
     },
     "execution_count": 30,
     "metadata": {},
     "output_type": "execute_result"
    }
   ],
   "source": [
    "# This number is surprisingly low... I'm not going to drop them yet, \n",
    "# because I suspect that we'll find more when we start crunching.\n",
    "\n",
    "cali['faminc'].isna().sum()"
   ]
  },
  {
   "cell_type": "raw",
   "metadata": {},
   "source": [
    "Was there more missing data for Hispanics in some years than in others?\n",
    "N's by year:\n",
    "2016: 6,021\n",
    "2017: 1,816\n",
    "2018: 5,284\n",
    "2019: 1,650\n",
    "2020: 5,028"
   ]
  },
  {
   "cell_type": "code",
   "execution_count": 31,
   "metadata": {},
   "outputs": [],
   "source": [
    "n_2016 = 6021\n",
    "n_2017 = 1816\n",
    "n_2018 = 5284\n",
    "n_2019 = 1650\n",
    "n_2020 = 5028"
   ]
  },
  {
   "cell_type": "raw",
   "metadata": {},
   "source": [
    "Note on the Hispanic variable:\n",
    "Hispanic is covered under two different variables: race and hispanic.\n",
    "The questions for each are:\n",
    "\n",
    "race: \"What racial or ethnic group best describes you?\"\n",
    "hispanic: \"Are you of Spanish, Latino, or Hispanic origin or descent?\"\n",
    "\n",
    "The second question was only asked if the respondent did not answer \"Hispanic\" to the first question."
   ]
  },
  {
   "cell_type": "markdown",
   "metadata": {},
   "source": [
    "# 2016"
   ]
  },
  {
   "cell_type": "code",
   "execution_count": 32,
   "metadata": {},
   "outputs": [
    {
     "data": {
      "text/plain": [
       "White              3355\n",
       "Hispanic           1121\n",
       "Asian               632\n",
       "Black               504\n",
       "Mixed               222\n",
       "Other               102\n",
       "Native American      71\n",
       "Middle Eastern       14\n",
       "Name: race, dtype: int64"
      ]
     },
     "execution_count": 32,
     "metadata": {},
     "output_type": "execute_result"
    }
   ],
   "source": [
    "# n = 6,021 respondents\n",
    "cali16['race'].value_counts()"
   ]
  },
  {
   "cell_type": "code",
   "execution_count": 33,
   "metadata": {},
   "outputs": [
    {
     "data": {
      "text/plain": [
       "6021"
      ]
     },
     "execution_count": 33,
     "metadata": {},
     "output_type": "execute_result"
    }
   ],
   "source": [
    "cali16['race'].count()"
   ]
  },
  {
   "cell_type": "markdown",
   "metadata": {},
   "source": [
    "In 2016, everyone answered the race question."
   ]
  },
  {
   "cell_type": "code",
   "execution_count": 34,
   "metadata": {
    "tags": []
   },
   "outputs": [
    {
     "data": {
      "text/plain": [
       "1145"
      ]
     },
     "execution_count": 34,
     "metadata": {},
     "output_type": "execute_result"
    }
   ],
   "source": [
    "cali16['hispanic'].isna().sum()"
   ]
  },
  {
   "cell_type": "code",
   "execution_count": 35,
   "metadata": {},
   "outputs": [
    {
     "data": {
      "text/plain": [
       "4876"
      ]
     },
     "execution_count": 35,
     "metadata": {},
     "output_type": "execute_result"
    }
   ],
   "source": [
    "cali16['hispanic'].count()"
   ]
  },
  {
   "cell_type": "code",
   "execution_count": 36,
   "metadata": {},
   "outputs": [
    {
     "data": {
      "text/plain": [
       "0.2348236259228876"
      ]
     },
     "execution_count": 36,
     "metadata": {},
     "output_type": "execute_result"
    }
   ],
   "source": [
    "# Percent of 'hispanic' responses missing - 2016\n",
    "1145 / 4876"
   ]
  },
  {
   "cell_type": "code",
   "execution_count": 37,
   "metadata": {
    "tags": []
   },
   "outputs": [
    {
     "data": {
      "text/plain": [
       "No     4448\n",
       "Yes     428\n",
       "Name: hispanic, dtype: int64"
      ]
     },
     "execution_count": 37,
     "metadata": {},
     "output_type": "execute_result"
    }
   ],
   "source": [
    "# Total Hispanic respondents (from race and hispanic variables)\n",
    "cali16['hispanic'].value_counts()"
   ]
  },
  {
   "cell_type": "code",
   "execution_count": 38,
   "metadata": {},
   "outputs": [
    {
     "data": {
      "text/plain": [
       "0.2572662348447102"
      ]
     },
     "execution_count": 38,
     "metadata": {},
     "output_type": "execute_result"
    }
   ],
   "source": [
    "# 2016 percentage of respondents who identified as Hispanic\n",
    "(428 + 1121) / n_2016"
   ]
  },
  {
   "cell_type": "markdown",
   "metadata": {},
   "source": [
    "## 2017"
   ]
  },
  {
   "cell_type": "code",
   "execution_count": 39,
   "metadata": {},
   "outputs": [
    {
     "data": {
      "text/plain": [
       "White              859\n",
       "Hispanic           542\n",
       "Black              155\n",
       "Asian               97\n",
       "Mixed               93\n",
       "Other               47\n",
       "Native American     18\n",
       "Middle Eastern       5\n",
       "Name: race, dtype: int64"
      ]
     },
     "execution_count": 39,
     "metadata": {},
     "output_type": "execute_result"
    }
   ],
   "source": [
    "# n = 1,816 respondents\n",
    "cali17['race'].value_counts()"
   ]
  },
  {
   "cell_type": "code",
   "execution_count": 40,
   "metadata": {},
   "outputs": [
    {
     "data": {
      "text/plain": [
       "No     1129\n",
       "Yes     139\n",
       "Name: hispanic, dtype: int64"
      ]
     },
     "execution_count": 40,
     "metadata": {},
     "output_type": "execute_result"
    }
   ],
   "source": [
    "cali17['hispanic'].value_counts()"
   ]
  },
  {
   "cell_type": "code",
   "execution_count": 41,
   "metadata": {},
   "outputs": [
    {
     "data": {
      "text/plain": [
       "0.375"
      ]
     },
     "execution_count": 41,
     "metadata": {},
     "output_type": "execute_result"
    }
   ],
   "source": [
    "# 2017 percentage of respondents who identified as Hispanic\n",
    "(139 + 542) / n_2017"
   ]
  },
  {
   "cell_type": "code",
   "execution_count": 42,
   "metadata": {},
   "outputs": [
    {
     "data": {
      "text/plain": [
       "548"
      ]
     },
     "execution_count": 42,
     "metadata": {},
     "output_type": "execute_result"
    }
   ],
   "source": [
    "cali17['hispanic'].isna().sum()"
   ]
  },
  {
   "cell_type": "code",
   "execution_count": 43,
   "metadata": {},
   "outputs": [
    {
     "data": {
      "text/plain": [
       "1268"
      ]
     },
     "execution_count": 43,
     "metadata": {},
     "output_type": "execute_result"
    }
   ],
   "source": [
    "cali17['hispanic'].count()"
   ]
  },
  {
   "cell_type": "code",
   "execution_count": 44,
   "metadata": {},
   "outputs": [
    {
     "data": {
      "text/plain": [
       "0.43217665615141954"
      ]
     },
     "execution_count": 44,
     "metadata": {},
     "output_type": "execute_result"
    }
   ],
   "source": [
    "# Percent of 'hispanic' responses missing - 2017\n",
    "548 / 1268"
   ]
  },
  {
   "cell_type": "markdown",
   "metadata": {},
   "source": [
    "## 2018"
   ]
  },
  {
   "cell_type": "code",
   "execution_count": 45,
   "metadata": {},
   "outputs": [
    {
     "data": {
      "text/plain": [
       "White              3011\n",
       "Hispanic           1048\n",
       "Asian               487\n",
       "Black               364\n",
       "Mixed               240\n",
       "Other                67\n",
       "Native American      45\n",
       "Middle Eastern       22\n",
       "Name: race, dtype: int64"
      ]
     },
     "execution_count": 45,
     "metadata": {},
     "output_type": "execute_result"
    }
   ],
   "source": [
    "# n = 5284\n",
    "cali18['race'].value_counts()"
   ]
  },
  {
   "cell_type": "code",
   "execution_count": 46,
   "metadata": {},
   "outputs": [
    {
     "data": {
      "text/plain": [
       "No     4949\n",
       "Yes     335\n",
       "Name: hispanic, dtype: int64"
      ]
     },
     "execution_count": 46,
     "metadata": {},
     "output_type": "execute_result"
    }
   ],
   "source": [
    "cali18['hispanic'].value_counts()"
   ]
  },
  {
   "cell_type": "code",
   "execution_count": 47,
   "metadata": {},
   "outputs": [
    {
     "data": {
      "text/plain": [
       "0.2617335352006056"
      ]
     },
     "execution_count": 47,
     "metadata": {},
     "output_type": "execute_result"
    }
   ],
   "source": [
    "# 2018 percentage of respondents who identified as Hispanic\n",
    "(335 + 1048) / n_2018"
   ]
  },
  {
   "cell_type": "code",
   "execution_count": 48,
   "metadata": {},
   "outputs": [
    {
     "data": {
      "text/plain": [
       "0"
      ]
     },
     "execution_count": 48,
     "metadata": {},
     "output_type": "execute_result"
    }
   ],
   "source": [
    "# No missing 'hispanic' data for 2018?  Well, at least not yet....\n",
    "cali18['hispanic'].isna().sum()"
   ]
  },
  {
   "cell_type": "markdown",
   "metadata": {},
   "source": [
    "## 2019"
   ]
  },
  {
   "cell_type": "code",
   "execution_count": 49,
   "metadata": {},
   "outputs": [
    {
     "data": {
      "text/plain": [
       "White              842\n",
       "Hispanic           471\n",
       "Asian              120\n",
       "Black              113\n",
       "Mixed               51\n",
       "Native American     32\n",
       "Other               18\n",
       "Middle Eastern       3\n",
       "Name: race, dtype: int64"
      ]
     },
     "execution_count": 49,
     "metadata": {},
     "output_type": "execute_result"
    }
   ],
   "source": [
    "# n = 1650\n",
    "cali19['race'].value_counts()"
   ]
  },
  {
   "cell_type": "code",
   "execution_count": 50,
   "metadata": {},
   "outputs": [
    {
     "data": {
      "text/plain": [
       "No     1135\n",
       "Yes      41\n",
       "Name: hispanic, dtype: int64"
      ]
     },
     "execution_count": 50,
     "metadata": {},
     "output_type": "execute_result"
    }
   ],
   "source": [
    "cali19['hispanic'].value_counts()"
   ]
  },
  {
   "cell_type": "code",
   "execution_count": 51,
   "metadata": {},
   "outputs": [
    {
     "data": {
      "text/plain": [
       "0.3103030303030303"
      ]
     },
     "execution_count": 51,
     "metadata": {},
     "output_type": "execute_result"
    }
   ],
   "source": [
    "# 2019 percentage of respondents who identified as Hispanic\n",
    "(41 + 471) / n_2019"
   ]
  },
  {
   "cell_type": "code",
   "execution_count": 52,
   "metadata": {},
   "outputs": [
    {
     "data": {
      "text/plain": [
       "474"
      ]
     },
     "execution_count": 52,
     "metadata": {},
     "output_type": "execute_result"
    }
   ],
   "source": [
    "cali19['hispanic'].isna().sum()"
   ]
  },
  {
   "cell_type": "code",
   "execution_count": 53,
   "metadata": {},
   "outputs": [
    {
     "data": {
      "text/plain": [
       "1176"
      ]
     },
     "execution_count": 53,
     "metadata": {},
     "output_type": "execute_result"
    }
   ],
   "source": [
    "cali19['hispanic'].count()"
   ]
  },
  {
   "cell_type": "code",
   "execution_count": 54,
   "metadata": {},
   "outputs": [
    {
     "data": {
      "text/plain": [
       "0.4030612244897959"
      ]
     },
     "execution_count": 54,
     "metadata": {},
     "output_type": "execute_result"
    }
   ],
   "source": [
    "# Percent of 'hispanic' responses missing - 2019\n",
    "474 / 1176"
   ]
  },
  {
   "cell_type": "markdown",
   "metadata": {},
   "source": [
    "## 2020"
   ]
  },
  {
   "cell_type": "code",
   "execution_count": 55,
   "metadata": {},
   "outputs": [
    {
     "data": {
      "text/plain": [
       "White              2659\n",
       "Hispanic           1097\n",
       "Asian               505\n",
       "Black               406\n",
       "Mixed               158\n",
       "Other               143\n",
       "Native American      49\n",
       "Middle Eastern       11\n",
       "Name: race, dtype: int64"
      ]
     },
     "execution_count": 55,
     "metadata": {},
     "output_type": "execute_result"
    }
   ],
   "source": [
    "# n = 5028\n",
    "cali20['race'].value_counts()"
   ]
  },
  {
   "cell_type": "code",
   "execution_count": 56,
   "metadata": {},
   "outputs": [
    {
     "data": {
      "text/plain": [
       "No     3674\n",
       "Yes     253\n",
       "Name: hispanic, dtype: int64"
      ]
     },
     "execution_count": 56,
     "metadata": {},
     "output_type": "execute_result"
    }
   ],
   "source": [
    "cali20['hispanic'].value_counts()"
   ]
  },
  {
   "cell_type": "code",
   "execution_count": 57,
   "metadata": {},
   "outputs": [
    {
     "data": {
      "text/plain": [
       "0.2684964200477327"
      ]
     },
     "execution_count": 57,
     "metadata": {},
     "output_type": "execute_result"
    }
   ],
   "source": [
    "# 2020 percentage of respondents who identified as Hispanic\n",
    "(1097 + 253) / n_2020"
   ]
  },
  {
   "cell_type": "code",
   "execution_count": 58,
   "metadata": {
    "tags": []
   },
   "outputs": [
    {
     "data": {
      "text/plain": [
       "1101"
      ]
     },
     "execution_count": 58,
     "metadata": {},
     "output_type": "execute_result"
    }
   ],
   "source": [
    "cali20['hispanic'].isna().sum()"
   ]
  },
  {
   "cell_type": "code",
   "execution_count": 59,
   "metadata": {},
   "outputs": [
    {
     "data": {
      "text/plain": [
       "3927"
      ]
     },
     "execution_count": 59,
     "metadata": {},
     "output_type": "execute_result"
    }
   ],
   "source": [
    "cali20['hispanic'].count()"
   ]
  },
  {
   "cell_type": "code",
   "execution_count": 60,
   "metadata": {},
   "outputs": [
    {
     "data": {
      "text/plain": [
       "0.28036669213139803"
      ]
     },
     "execution_count": 60,
     "metadata": {},
     "output_type": "execute_result"
    }
   ],
   "source": [
    "# Percent of 'hispanic' responses missing - 2020\n",
    "1101 / 3927"
   ]
  },
  {
   "cell_type": "markdown",
   "metadata": {},
   "source": [
    "Missing Hispanic data peaked in 2016, the same year Trump was elected, and decreased in 2020, the same year Biden was elected.  2018 might be an exception, but I suspect that we'll discover otherwise once we start crunching the data."
   ]
  },
  {
   "cell_type": "code",
   "execution_count": 61,
   "metadata": {},
   "outputs": [
    {
     "name": "stdout",
     "output_type": "stream",
     "text": [
      "<class 'pandas.core.frame.DataFrame'>\n",
      "Int64Index: 5028 entries, 44755 to 49782\n",
      "Data columns (total 91 columns):\n",
      " #   Column             Non-Null Count  Dtype  \n",
      "---  ------             --------------  -----  \n",
      " 0   Unnamed: 0         5028 non-null   int64  \n",
      " 1   year               5028 non-null   int64  \n",
      " 2   case_id            5028 non-null   int64  \n",
      " 3   weight             5028 non-null   float64\n",
      " 4   weight_cumulative  5028 non-null   float64\n",
      " 5   st                 5028 non-null   object \n",
      " 6   cong               5028 non-null   int64  \n",
      " 7   cong_up            5028 non-null   int64  \n",
      " 8   dist               5028 non-null   int64  \n",
      " 9   dist_up            5028 non-null   int64  \n",
      " 10  cd                 5028 non-null   object \n",
      " 11  cd_up              5028 non-null   object \n",
      " 12  dist_post          4234 non-null   float64\n",
      " 13  dist_up_post       4234 non-null   float64\n",
      " 14  cd_post            4234 non-null   object \n",
      " 15  cd_up_post         4234 non-null   object \n",
      " 16  zipcode            5028 non-null   int64  \n",
      " 17  county_fips        5028 non-null   float64\n",
      " 18  tookpost           5028 non-null   object \n",
      " 19  weight_post        4234 non-null   float64\n",
      " 20  rvweight           0 non-null      float64\n",
      " 21  rvweight_post      0 non-null      float64\n",
      " 22  starttime          5028 non-null   object \n",
      " 23  pid3               5028 non-null   object \n",
      " 24  pid3_leaner        5028 non-null   object \n",
      " 25  pid7               5028 non-null   object \n",
      " 26  ideo5              5025 non-null   object \n",
      " 27  gender             5028 non-null   object \n",
      " 28  birthyr            5028 non-null   int64  \n",
      " 29  age                5028 non-null   int64  \n",
      " 30  race               5028 non-null   object \n",
      " 31  hispanic           3927 non-null   object \n",
      " 32  citizen            5022 non-null   object \n",
      " 33  educ               5028 non-null   object \n",
      " 34  marstat            5025 non-null   object \n",
      " 35  faminc             5026 non-null   object \n",
      " 36  union              5016 non-null   object \n",
      " 37  union_hh           4999 non-null   object \n",
      " 38  employ             5027 non-null   object \n",
      " 39  no_healthins       5028 non-null   object \n",
      " 40  has_child          5019 non-null   object \n",
      " 41  ownhome            5019 non-null   object \n",
      " 42  no_milstat         5028 non-null   object \n",
      " 43  religion           5025 non-null   object \n",
      " 44  economy_retro      5019 non-null   object \n",
      " 45  newsint            5025 non-null   object \n",
      " 46  approval_pres      5027 non-null   object \n",
      " 47  approval_rep       4913 non-null   object \n",
      " 48  approval_sen1      5024 non-null   object \n",
      " 49  approval_sen2      5024 non-null   object \n",
      " 50  approval_gov       5025 non-null   object \n",
      " 51  intent_pres_08     0 non-null      object \n",
      " 52  intent_pres_12     0 non-null      object \n",
      " 53  intent_pres_16     0 non-null      object \n",
      " 54  intent_pres_20     3971 non-null   object \n",
      " 55  voted_pres_08      0 non-null      object \n",
      " 56  voted_pres_12      0 non-null      object \n",
      " 57  voted_pres_16      5026 non-null   object \n",
      " 58  voted_pres_20      3818 non-null   object \n",
      " 59  intent_pres_party  3466 non-null   object \n",
      " 60  voted_pres_party   3800 non-null   object \n",
      " 61  vv_regstatus       0 non-null      object \n",
      " 62  vv_party_gen       0 non-null      object \n",
      " 63  vv_party_prm       0 non-null      object \n",
      " 64  vv_turnout_gvm     0 non-null      object \n",
      " 65  vv_turnout_pvm     0 non-null      object \n",
      " 66  intent_rep         3986 non-null   object \n",
      " 67  intent_rep_party   2900 non-null   object \n",
      " 68  voted_rep          3806 non-null   object \n",
      " 69  voted_rep_party    3531 non-null   object \n",
      " 70  intent_gov         0 non-null      object \n",
      " 71  intent_gov_party   0 non-null      object \n",
      " 72  voted_gov          2 non-null      object \n",
      " 73  voted_gov_party    0 non-null      object \n",
      " 74  intent_sen         0 non-null      object \n",
      " 75  intent_sen_party   0 non-null      object \n",
      " 76  voted_sen          2 non-null      object \n",
      " 77  voted_sen_party    0 non-null      object \n",
      " 78  intent_rep_chosen  2900 non-null   object \n",
      " 79  intent_sen_chosen  0 non-null      object \n",
      " 80  intent_gov_chosen  0 non-null      object \n",
      " 81  voted_rep_chosen   3531 non-null   object \n",
      " 82  voted_sen_chosen   0 non-null      object \n",
      " 83  voted_gov_chosen   0 non-null      object \n",
      " 84  rep_current        4917 non-null   object \n",
      " 85  rep_icpsr          5028 non-null   float64\n",
      " 86  sen1_current       5028 non-null   object \n",
      " 87  sen1_icpsr         5028 non-null   int64  \n",
      " 88  sen2_current       5028 non-null   object \n",
      " 89  sen2_icpsr         5028 non-null   int64  \n",
      " 90  gov_current        5028 non-null   object \n",
      "dtypes: float64(9), int64(12), object(70)\n",
      "memory usage: 3.5+ MB\n"
     ]
    }
   ],
   "source": [
    "cali20.info()"
   ]
  },
  {
   "cell_type": "markdown",
   "metadata": {},
   "source": [
    "# Demographics Over Time:  Age"
   ]
  },
  {
   "cell_type": "code",
   "execution_count": 62,
   "metadata": {},
   "outputs": [
    {
     "data": {
      "text/plain": [
       "age\n",
       "29    493\n",
       "28    430\n",
       "59    430\n",
       "34    426\n",
       "35    420\n",
       "     ... \n",
       "89     14\n",
       "90      8\n",
       "91      4\n",
       "92      4\n",
       "93      4\n",
       "Length: 76, dtype: int64"
      ]
     },
     "execution_count": 62,
     "metadata": {},
     "output_type": "execute_result"
    }
   ],
   "source": [
    "df.value_counts('age')"
   ]
  },
  {
   "cell_type": "code",
   "execution_count": 63,
   "metadata": {},
   "outputs": [
    {
     "data": {
      "image/png": "[encoded data removed]",
      "text/plain": [
       "<Figure size 648x504 with 1 Axes>"
      ]
     },
     "metadata": {
      "needs_background": "light"
     },
     "output_type": "display_data"
    }
   ],
   "source": [
    "fig, ax = plt.subplots(figsize=(9, 7))\n",
    "sns.histplot(cali16, x=\"age\", bins=20)\n",
    "ax.set_xlabel('Age', size=24)\n",
    "ax.set_ylabel('Count', size=24)\n",
    "ax.set_title('Number of Adult Californians by Age: 2016', size =24)\n",
    "plt.xticks(fontsize = 20)\n",
    "plt.yticks(fontsize = 20)\n",
    "plt.show();"
   ]
  },
  {
   "cell_type": "code",
   "execution_count": 64,
   "metadata": {},
   "outputs": [
    {
     "data": {
      "image/png": "[encoded data removed]",
      "text/plain": [
       "<Figure size 648x504 with 1 Axes>"
      ]
     },
     "metadata": {
      "needs_background": "light"
     },
     "output_type": "display_data"
    }
   ],
   "source": [
    "fig, ax = plt.subplots(figsize=(9, 7))\n",
    "sns.histplot(cali20, x=\"age\", bins=20)\n",
    "ax.set_xlabel('Age', size=24)\n",
    "ax.set_ylabel('Count', size=24)\n",
    "ax.set_title('Number of Adult Californians by Age: 2020', size =24)\n",
    "plt.xticks(fontsize = 20)\n",
    "plt.yticks(fontsize = 20)\n",
    "plt.show();"
   ]
  },
  {
   "cell_type": "code",
   "execution_count": 65,
   "metadata": {},
   "outputs": [
    {
     "data": {
      "text/plain": [
       "47.0"
      ]
     },
     "execution_count": 65,
     "metadata": {},
     "output_type": "execute_result"
    }
   ],
   "source": [
    "# Based on the plots, I suspect that CA might have gotten younger\n",
    "cali16['age'].median()"
   ]
  },
  {
   "cell_type": "code",
   "execution_count": 66,
   "metadata": {},
   "outputs": [
    {
     "data": {
      "text/plain": [
       "45.0"
      ]
     },
     "execution_count": 66,
     "metadata": {},
     "output_type": "execute_result"
    }
   ],
   "source": [
    "cali20['age'].median()"
   ]
  },
  {
   "cell_type": "markdown",
   "metadata": {},
   "source": [
    "California's median age dropped 2 years between 2016 and 2020."
   ]
  },
  {
   "cell_type": "markdown",
   "metadata": {},
   "source": [
    "# Demographics Over Time: Race"
   ]
  },
  {
   "cell_type": "code",
   "execution_count": 67,
   "metadata": {},
   "outputs": [
    {
     "data": {
      "text/plain": [
       "race\n",
       "White              3355\n",
       "Hispanic           1121\n",
       "Asian               632\n",
       "Black               504\n",
       "Mixed               222\n",
       "Other               102\n",
       "Native American      71\n",
       "Middle Eastern       14\n",
       "dtype: int64"
      ]
     },
     "execution_count": 67,
     "metadata": {},
     "output_type": "execute_result"
    }
   ],
   "source": [
    "cali16.value_counts('race')"
   ]
  },
  {
   "cell_type": "code",
   "execution_count": 68,
   "metadata": {},
   "outputs": [],
   "source": [
    "pct_White16 = 3355 / n_2016\n",
    "pct_Hisp16 = (1121 + 428) / n_2016\n",
    "pct_Asian16 = 632 / n_2016\n",
    "pct_Black16 = 504 / n_2016\n",
    "pct_Mixed16 = 222 / n_2016\n",
    "pct_Other16 = 102 / n_2016\n",
    "pct_Native16 = 71 / n_2016\n",
    "pct_ME16 = 14 / n_2016"
   ]
  },
  {
   "cell_type": "code",
   "execution_count": 69,
   "metadata": {},
   "outputs": [
    {
     "data": {
      "text/plain": [
       "race\n",
       "White              2659\n",
       "Hispanic           1097\n",
       "Asian               505\n",
       "Black               406\n",
       "Mixed               158\n",
       "Other               143\n",
       "Native American      49\n",
       "Middle Eastern       11\n",
       "dtype: int64"
      ]
     },
     "execution_count": 69,
     "metadata": {},
     "output_type": "execute_result"
    }
   ],
   "source": [
    "cali20.value_counts('race')"
   ]
  },
  {
   "cell_type": "code",
   "execution_count": 70,
   "metadata": {},
   "outputs": [],
   "source": [
    "pct_White20 = 2659 / n_2020\n",
    "pct_Hisp20 = (1097+253)/ n_2020\n",
    "pct_Asian20 = 505 / n_2020\n",
    "pct_Black20 = 406 / n_2020\n",
    "pct_Mixed20 = 158 / n_2020\n",
    "pct_Other20 = 143 / n_2020\n",
    "pct_Native20 = 49 / n_2020\n",
    "pct_ME20 = 11 / n_2020"
   ]
  },
  {
   "cell_type": "code",
   "execution_count": 71,
   "metadata": {},
   "outputs": [
    {
     "name": "stdout",
     "output_type": "stream",
     "text": [
      "2016\n",
      "Pct White: 0.5572164092343465\n",
      "Pct Hisp: 0.2572662348447102\n",
      "Pct Asian: 0.10496595249958479\n",
      "Pct Black: 0.08370702541106129\n",
      "Pct Mixed: 0.03687095166915795\n",
      "Pct Other: 0.016940707523667164\n",
      "Pct Native: 0.01179206111941538\n",
      "Pct ME: 0.002325195150307258\n"
     ]
    }
   ],
   "source": [
    "print('2016')\n",
    "print(f'Pct White: {pct_White16}')\n",
    "print(f'Pct Hisp: {pct_Hisp16}')\n",
    "print(f'Pct Asian: {pct_Asian16}')\n",
    "print(f'Pct Black: {pct_Black16}')\n",
    "print(f'Pct Mixed: {pct_Mixed16}')\n",
    "print(f'Pct Other: {pct_Other16}')\n",
    "print(f'Pct Native: {pct_Native16}')\n",
    "print(f'Pct ME: {pct_ME16}')\n"
   ]
  },
  {
   "cell_type": "code",
   "execution_count": 72,
   "metadata": {},
   "outputs": [
    {
     "name": "stdout",
     "output_type": "stream",
     "text": [
      "2020\n",
      "Pct White: 0.5288385043754972\n",
      "Pct Hisp: 0.2684964200477327\n",
      "Pct Asian: 0.10043754972155927\n",
      "Pct Black: 0.0807478122513922\n",
      "Pct Mixed: 0.031424025457438345\n",
      "Pct Other: 0.028440731901352427\n",
      "Pct Native: 0.009745425616547334\n",
      "Pct ME: 0.0021877486077963404\n"
     ]
    }
   ],
   "source": [
    "print('2020')\n",
    "print(f'Pct White: {pct_White20}')\n",
    "print(f'Pct Hisp: {pct_Hisp20}')\n",
    "print(f'Pct Asian: {pct_Asian20}')\n",
    "print(f'Pct Black: {pct_Black20}')\n",
    "print(f'Pct Mixed: {pct_Mixed20}')\n",
    "print(f'Pct Other: {pct_Other20}')\n",
    "print(f'Pct Native: {pct_Native20}')\n",
    "print(f'Pct ME: {pct_ME20}')"
   ]
  },
  {
   "cell_type": "markdown",
   "metadata": {},
   "source": [
    "Small racial differences, but if they reflect shifts in California as a whole, then they could be significant, especially given that the survey authors note that Hispanics are likely undercounted.  The numbers above show a 3% decline in the proportion of whites and a 1.1% increase in the number of Hispanics.  Other groups either remained constant or comprise too little of the sample to gauge any trends."
   ]
  },
  {
   "cell_type": "markdown",
   "metadata": {},
   "source": [
    "# Demographics Over Time: Marital Status"
   ]
  },
  {
   "cell_type": "code",
   "execution_count": 73,
   "metadata": {},
   "outputs": [
    {
     "data": {
      "text/plain": [
       "marstat\n",
       "Married                   2986\n",
       "Single / Never Married    1834\n",
       "Divorced                   610\n",
       "Widowed                    258\n",
       "Domestic Partnership       229\n",
       "Separated                   96\n",
       "dtype: int64"
      ]
     },
     "execution_count": 73,
     "metadata": {},
     "output_type": "execute_result"
    }
   ],
   "source": [
    "cali16.value_counts('marstat')"
   ]
  },
  {
   "cell_type": "code",
   "execution_count": 74,
   "metadata": {},
   "outputs": [],
   "source": [
    "# 2016 marstat_n = 6,013\n",
    "married_16 = 2986 / 6013\n",
    "single_nm_16 = 1834 / 6013\n",
    "divorced_16 = 610 / 6013\n",
    "widowed_16 = 258 / 6013\n",
    "dom_pt_16 = 229 / 6013\n",
    "sep_16 = 96 / 6013"
   ]
  },
  {
   "cell_type": "code",
   "execution_count": 75,
   "metadata": {},
   "outputs": [
    {
     "name": "stdout",
     "output_type": "stream",
     "text": [
      "2016\n",
      "Married: 0.49659072010643607\n",
      "Single: 0.3050058207217695\n",
      "Divorced: 0.10144686512556128\n",
      "Widowed: 0.04290703475802428\n",
      "Dom. Parter: 0.03808415100615333\n",
      "Separated: 0.015965408282055546\n"
     ]
    }
   ],
   "source": [
    "print('2016')\n",
    "print(f'Married: {married_16}')\n",
    "print(f'Single: {single_nm_16}')\n",
    "print(f'Divorced: {divorced_16}')\n",
    "print(f'Widowed: {widowed_16}')\n",
    "print(f'Dom. Parter: {dom_pt_16}')\n",
    "print(f'Separated: {sep_16}')"
   ]
  },
  {
   "cell_type": "code",
   "execution_count": 76,
   "metadata": {},
   "outputs": [
    {
     "data": {
      "text/plain": [
       "marstat\n",
       "Married                   2108\n",
       "Single / Never Married    1793\n",
       "Divorced                   495\n",
       "Domestic Partnership       308\n",
       "Widowed                    232\n",
       "Separated                   89\n",
       "dtype: int64"
      ]
     },
     "execution_count": 76,
     "metadata": {},
     "output_type": "execute_result"
    }
   ],
   "source": [
    "cali20.value_counts('marstat')"
   ]
  },
  {
   "cell_type": "markdown",
   "metadata": {},
   "source": [
    "There's a possible increase in domestic partnerships and a possible decrease in divorced respondents.  If marital status proves significant, I'll look into this further."
   ]
  },
  {
   "cell_type": "code",
   "execution_count": 77,
   "metadata": {},
   "outputs": [],
   "source": [
    "# 2020 marstat_n = 5025\n",
    "married_20 = 2108 / 5025\n",
    "single_nm_20 = 1793 / 5025\n",
    "divorced_20 = 495 / 5025\n",
    "widowed_20 = 308 / 5025\n",
    "dom_pt_20 = 232 / 5025\n",
    "sep_20 = 89 / 5025"
   ]
  },
  {
   "cell_type": "code",
   "execution_count": 78,
   "metadata": {},
   "outputs": [
    {
     "name": "stdout",
     "output_type": "stream",
     "text": [
      "2020\n",
      "Married: 0.41950248756218905\n",
      "Single: 0.35681592039800997\n",
      "Divorced: 0.09850746268656717\n",
      "Widowed: 0.061293532338308455\n",
      "Dom. Parter: 0.04616915422885572\n",
      "Separated: 0.01771144278606965\n"
     ]
    }
   ],
   "source": [
    "print('2020')\n",
    "print(f'Married: {married_20}')\n",
    "print(f'Single: {single_nm_20}')\n",
    "print(f'Divorced: {divorced_20}')\n",
    "print(f'Widowed: {widowed_20}')\n",
    "print(f'Dom. Parter: {dom_pt_20}')\n",
    "print(f'Separated: {sep_20}')"
   ]
  },
  {
   "cell_type": "markdown",
   "metadata": {},
   "source": [
    "The percentage of married respondents is 8% lower in 2020 than in 2016.  The percentage of never married respondents is 5% higher in 2020 than in 2016.  Widowers increased 1.5%, perhaps because of COVID.  Domestic partnerships increased by about .8%.  Small demographic shifts can make a large impact in polling if they are not factored into models accurately."
   ]
  },
  {
   "cell_type": "markdown",
   "metadata": {},
   "source": [
    "# Demographics Over Time:  Political Ideology"
   ]
  },
  {
   "cell_type": "code",
   "execution_count": 79,
   "metadata": {
    "tags": []
   },
   "outputs": [
    {
     "data": {
      "text/plain": [
       "ideo5\n",
       "Moderate             2076\n",
       "Liberal              1458\n",
       "Conservative         1190\n",
       "Very Liberal          605\n",
       "Very Conservative     355\n",
       "Not Sure              330\n",
       "dtype: int64"
      ]
     },
     "execution_count": 79,
     "metadata": {},
     "output_type": "execute_result"
    }
   ],
   "source": [
    "cali16.value_counts('ideo5')"
   ]
  },
  {
   "cell_type": "code",
   "execution_count": 80,
   "metadata": {},
   "outputs": [
    {
     "data": {
      "text/plain": [
       "ideo5\n",
       "Moderate             1603\n",
       "Liberal              1165\n",
       "Very Liberal          809\n",
       "Conservative          685\n",
       "Very Conservative     408\n",
       "Not Sure              355\n",
       "dtype: int64"
      ]
     },
     "execution_count": 80,
     "metadata": {},
     "output_type": "execute_result"
    }
   ],
   "source": [
    "cali20.value_counts('ideo5')"
   ]
  },
  {
   "cell_type": "code",
   "execution_count": 81,
   "metadata": {},
   "outputs": [
    {
     "data": {
      "text/plain": [
       "ideo5\n",
       "Moderate             2076\n",
       "Liberal              1458\n",
       "Conservative         1190\n",
       "Very Liberal          605\n",
       "Very Conservative     355\n",
       "Not Sure              330\n",
       "dtype: int64"
      ]
     },
     "execution_count": 81,
     "metadata": {},
     "output_type": "execute_result"
    }
   ],
   "source": [
    "cali16.value_counts('ideo5')"
   ]
  },
  {
   "cell_type": "code",
   "execution_count": 82,
   "metadata": {},
   "outputs": [],
   "source": [
    "# Total number of respondents answering ideo5 in 2016 = 6,014\n",
    "Moderate_16 = 2076/6014\n",
    "Liberal_16 = 1458/6014\n",
    "V_lib_16 = 605/6014\n",
    "Con_16 = 1190 / 6014\n",
    "V_Con_16 = 355 / 6014\n",
    "Unsure_16 = 330/6014\n",
    "unsure_mods_16 = (330 + 2076) / 6014"
   ]
  },
  {
   "cell_type": "code",
   "execution_count": 83,
   "metadata": {},
   "outputs": [
    {
     "name": "stdout",
     "output_type": "stream",
     "text": [
      "2016\n",
      "Moderate: 0.3451945460591952\n",
      "Liberal: 0.24243431992018624\n",
      "Very Liberal: 0.10059860325906218\n",
      "Conservative: 0.19787163285666778\n",
      "Very Conservative: 0.059028932490854676\n",
      "Not Sure: 0.05487196541403392\n",
      "Unsure + Mods: 0.40006651147322914\n"
     ]
    }
   ],
   "source": [
    "print('2016')\n",
    "print(f'Moderate: {Moderate_16}')\n",
    "print(f'Liberal: {Liberal_16}')\n",
    "print(f'Very Liberal: {V_lib_16}')\n",
    "print(f'Conservative: {Con_16}')\n",
    "print(f'Very Conservative: {V_Con_16}')\n",
    "print(f'Not Sure: {Unsure_16}')\n",
    "print(f'Unsure + Mods: {unsure_mods_16}')"
   ]
  },
  {
   "cell_type": "code",
   "execution_count": 84,
   "metadata": {},
   "outputs": [],
   "source": [
    "# Total number of respondents answering ideo5 in 2020 = 5,025\n",
    "Moderate_20 = 1603/5025\n",
    "Liberal_20 = 1165/5025\n",
    "V_lib_20 = 809/5025\n",
    "Con_20 = 685 / 5025\n",
    "V_Con_20 = 408 / 5025\n",
    "Unsure_20 = 355/5025\n",
    "unsure_mods_20 = (355 + 1603) / 5025"
   ]
  },
  {
   "cell_type": "code",
   "execution_count": 85,
   "metadata": {},
   "outputs": [
    {
     "name": "stdout",
     "output_type": "stream",
     "text": [
      "2020\n",
      "Moderate: 0.3190049751243781\n",
      "Liberal: 0.23184079601990049\n",
      "Very Liberal: 0.1609950248756219\n",
      "Conservative: 0.136318407960199\n",
      "Very Conservative: 0.08119402985074627\n",
      "Not Sure: 0.07064676616915423\n",
      "Unsure + Mods: 0.38965174129353236\n"
     ]
    }
   ],
   "source": [
    "print('2020')\n",
    "print(f'Moderate: {Moderate_20}')\n",
    "print(f'Liberal: {Liberal_20}')\n",
    "print(f'Very Liberal: {V_lib_20}')\n",
    "print(f'Conservative: {Con_20}')\n",
    "print(f'Very Conservative: {V_Con_20}')\n",
    "print(f'Not Sure: {Unsure_20}')\n",
    "print(f'Unsure + Mods: {unsure_mods_20}')"
   ]
  },
  {
   "cell_type": "code",
   "execution_count": 86,
   "metadata": {},
   "outputs": [],
   "source": [
    "# Created small dataframe in Excel using the calculated percentages above and\n",
    "# imported it\n",
    "df_ideology = pd.read_csv('../Data/ideology.csv')"
   ]
  },
  {
   "cell_type": "code",
   "execution_count": 87,
   "metadata": {},
   "outputs": [
    {
     "data": {
      "image/png": "[encoded data removed]",
      "text/plain": [
       "<Figure size 750.625x432 with 1 Axes>"
      ]
     },
     "metadata": {
      "needs_background": "light"
     },
     "output_type": "display_data"
    }
   ],
   "source": [
    "g = sns.catplot(x=\"year\", y=\"percent\", hue=\"ideology\", data=df_ideology,\n",
    "                height=6, aspect=1.5, palette=\"colorblind\", kind=\"bar\")\n",
    "\n",
    "plt.xticks(fontsize = 20)\n",
    "plt.yticks(fontsize = 20)\n",
    "ax.set_xlabel('Year', fontsize=20)\n",
    "ax.set_ylabel('Percent', fontsize=20)\n",
    "fontsize = 20"
   ]
  },
  {
   "cell_type": "code",
   "execution_count": 88,
   "metadata": {},
   "outputs": [
    {
     "data": {
      "text/plain": [
       "marstat\n",
       "Married                   2986\n",
       "Single / Never Married    1834\n",
       "Divorced                   610\n",
       "Widowed                    258\n",
       "Domestic Partnership       229\n",
       "Separated                   96\n",
       "dtype: int64"
      ]
     },
     "execution_count": 88,
     "metadata": {},
     "output_type": "execute_result"
    }
   ],
   "source": [
    "cali16.value_counts('marstat')"
   ]
  },
  {
   "cell_type": "markdown",
   "metadata": {},
   "source": [
    "Remember, small shifts matter, especially in smaller samples.  Our n is decent, but it's still relatively small, given the population of California.  The plots and tables above illustrate that the percentage of moderates has decreased, the percentage of liberals is effectively the same, the percentage of very liberals increased, the percentage of conservatives dropped, and there was a slight uptick in very conservatives and unsures.\n",
    "\n",
    "Aside from the slight uptick in \"very conservative\" respondents, all of these factors could be correlated with the drop in age.  Young people tend to be more liberal and more uncertain."
   ]
  },
  {
   "cell_type": "code",
   "execution_count": 89,
   "metadata": {},
   "outputs": [
    {
     "data": {
      "text/html": [
       "<div>\n",
       "<style scoped>\n",
       "    .dataframe tbody tr th:only-of-type {\n",
       "        vertical-align: middle;\n",
       "    }\n",
       "\n",
       "    .dataframe tbody tr th {\n",
       "        vertical-align: top;\n",
       "    }\n",
       "\n",
       "    .dataframe thead th {\n",
       "        text-align: right;\n",
       "    }\n",
       "</style>\n",
       "<table border=\"1\" class=\"dataframe\">\n",
       "  <thead>\n",
       "    <tr style=\"text-align: right;\">\n",
       "      <th></th>\n",
       "      <th>dist</th>\n",
       "      <th>cong</th>\n",
       "      <th>gender</th>\n",
       "      <th>birthyr</th>\n",
       "      <th>age</th>\n",
       "      <th>educ</th>\n",
       "      <th>race</th>\n",
       "      <th>faminc</th>\n",
       "      <th>marstat</th>\n",
       "      <th>newsint</th>\n",
       "      <th>approval_gov</th>\n",
       "      <th>ideo5</th>\n",
       "      <th>voted_gov</th>\n",
       "    </tr>\n",
       "  </thead>\n",
       "  <tbody>\n",
       "    <tr>\n",
       "      <th>44755</th>\n",
       "      <td>25</td>\n",
       "      <td>116</td>\n",
       "      <td>Female</td>\n",
       "      <td>1959</td>\n",
       "      <td>61</td>\n",
       "      <td>2-Year</td>\n",
       "      <td>White</td>\n",
       "      <td>Prefer not to say</td>\n",
       "      <td>Single / Never Married</td>\n",
       "      <td>Some of the time</td>\n",
       "      <td>Strongly Approve</td>\n",
       "      <td>Liberal</td>\n",
       "      <td>NaN</td>\n",
       "    </tr>\n",
       "    <tr>\n",
       "      <th>44756</th>\n",
       "      <td>30</td>\n",
       "      <td>116</td>\n",
       "      <td>Female</td>\n",
       "      <td>1934</td>\n",
       "      <td>86</td>\n",
       "      <td>Post-Grad</td>\n",
       "      <td>White</td>\n",
       "      <td>Prefer not to say</td>\n",
       "      <td>Widowed</td>\n",
       "      <td>Most of the time</td>\n",
       "      <td>Approve / Somewhat Approve</td>\n",
       "      <td>Moderate</td>\n",
       "      <td>NaN</td>\n",
       "    </tr>\n",
       "    <tr>\n",
       "      <th>44757</th>\n",
       "      <td>14</td>\n",
       "      <td>116</td>\n",
       "      <td>Female</td>\n",
       "      <td>1971</td>\n",
       "      <td>49</td>\n",
       "      <td>Some College</td>\n",
       "      <td>White</td>\n",
       "      <td>Prefer not to say</td>\n",
       "      <td>Married</td>\n",
       "      <td>Most of the time</td>\n",
       "      <td>Never Heard / Not Sure</td>\n",
       "      <td>Moderate</td>\n",
       "      <td>NaN</td>\n",
       "    </tr>\n",
       "    <tr>\n",
       "      <th>44758</th>\n",
       "      <td>49</td>\n",
       "      <td>116</td>\n",
       "      <td>Female</td>\n",
       "      <td>1957</td>\n",
       "      <td>63</td>\n",
       "      <td>Some College</td>\n",
       "      <td>White</td>\n",
       "      <td>80k - 100k</td>\n",
       "      <td>Married</td>\n",
       "      <td>Only now and then</td>\n",
       "      <td>Disapprove / Somewhat Disapprove</td>\n",
       "      <td>Moderate</td>\n",
       "      <td>NaN</td>\n",
       "    </tr>\n",
       "    <tr>\n",
       "      <th>44759</th>\n",
       "      <td>43</td>\n",
       "      <td>116</td>\n",
       "      <td>Male</td>\n",
       "      <td>1971</td>\n",
       "      <td>49</td>\n",
       "      <td>4-Year</td>\n",
       "      <td>Hispanic</td>\n",
       "      <td>150k+</td>\n",
       "      <td>Married</td>\n",
       "      <td>Some of the time</td>\n",
       "      <td>Strongly Disapprove</td>\n",
       "      <td>Conservative</td>\n",
       "      <td>NaN</td>\n",
       "    </tr>\n",
       "    <tr>\n",
       "      <th>...</th>\n",
       "      <td>...</td>\n",
       "      <td>...</td>\n",
       "      <td>...</td>\n",
       "      <td>...</td>\n",
       "      <td>...</td>\n",
       "      <td>...</td>\n",
       "      <td>...</td>\n",
       "      <td>...</td>\n",
       "      <td>...</td>\n",
       "      <td>...</td>\n",
       "      <td>...</td>\n",
       "      <td>...</td>\n",
       "      <td>...</td>\n",
       "    </tr>\n",
       "    <tr>\n",
       "      <th>49778</th>\n",
       "      <td>10</td>\n",
       "      <td>116</td>\n",
       "      <td>Male</td>\n",
       "      <td>1990</td>\n",
       "      <td>30</td>\n",
       "      <td>No HS</td>\n",
       "      <td>White</td>\n",
       "      <td>20k - 30k</td>\n",
       "      <td>Single / Never Married</td>\n",
       "      <td>Don't Know</td>\n",
       "      <td>Never Heard / Not Sure</td>\n",
       "      <td>Very Liberal</td>\n",
       "      <td>NaN</td>\n",
       "    </tr>\n",
       "    <tr>\n",
       "      <th>49779</th>\n",
       "      <td>4</td>\n",
       "      <td>116</td>\n",
       "      <td>Female</td>\n",
       "      <td>1989</td>\n",
       "      <td>31</td>\n",
       "      <td>High School Graduate</td>\n",
       "      <td>White</td>\n",
       "      <td>Less than 10k</td>\n",
       "      <td>NaN</td>\n",
       "      <td>Hardly at all</td>\n",
       "      <td>Disapprove / Somewhat Disapprove</td>\n",
       "      <td>Not Sure</td>\n",
       "      <td>NaN</td>\n",
       "    </tr>\n",
       "    <tr>\n",
       "      <th>49780</th>\n",
       "      <td>53</td>\n",
       "      <td>116</td>\n",
       "      <td>Male</td>\n",
       "      <td>1951</td>\n",
       "      <td>69</td>\n",
       "      <td>Some College</td>\n",
       "      <td>Hispanic</td>\n",
       "      <td>120k - 150k</td>\n",
       "      <td>Married</td>\n",
       "      <td>Most of the time</td>\n",
       "      <td>Disapprove / Somewhat Disapprove</td>\n",
       "      <td>Moderate</td>\n",
       "      <td>NaN</td>\n",
       "    </tr>\n",
       "    <tr>\n",
       "      <th>49781</th>\n",
       "      <td>52</td>\n",
       "      <td>116</td>\n",
       "      <td>Female</td>\n",
       "      <td>1976</td>\n",
       "      <td>44</td>\n",
       "      <td>No HS</td>\n",
       "      <td>White</td>\n",
       "      <td>Less than 10k</td>\n",
       "      <td>Widowed</td>\n",
       "      <td>Only now and then</td>\n",
       "      <td>Approve / Somewhat Approve</td>\n",
       "      <td>Moderate</td>\n",
       "      <td>NaN</td>\n",
       "    </tr>\n",
       "    <tr>\n",
       "      <th>49782</th>\n",
       "      <td>36</td>\n",
       "      <td>116</td>\n",
       "      <td>Male</td>\n",
       "      <td>1982</td>\n",
       "      <td>38</td>\n",
       "      <td>Some College</td>\n",
       "      <td>White</td>\n",
       "      <td>50k - 60k</td>\n",
       "      <td>Domestic Partnership</td>\n",
       "      <td>Hardly at all</td>\n",
       "      <td>Strongly Disapprove</td>\n",
       "      <td>Moderate</td>\n",
       "      <td>NaN</td>\n",
       "    </tr>\n",
       "  </tbody>\n",
       "</table>\n",
       "<p>5028 rows × 13 columns</p>\n",
       "</div>"
      ],
      "text/plain": [
       "       dist  cong  gender  birthyr  age                  educ      race  \\\n",
       "44755    25   116  Female     1959   61                2-Year     White   \n",
       "44756    30   116  Female     1934   86             Post-Grad     White   \n",
       "44757    14   116  Female     1971   49          Some College     White   \n",
       "44758    49   116  Female     1957   63          Some College     White   \n",
       "44759    43   116    Male     1971   49                4-Year  Hispanic   \n",
       "...     ...   ...     ...      ...  ...                   ...       ...   \n",
       "49778    10   116    Male     1990   30                 No HS     White   \n",
       "49779     4   116  Female     1989   31  High School Graduate     White   \n",
       "49780    53   116    Male     1951   69          Some College  Hispanic   \n",
       "49781    52   116  Female     1976   44                 No HS     White   \n",
       "49782    36   116    Male     1982   38          Some College     White   \n",
       "\n",
       "                  faminc                 marstat            newsint  \\\n",
       "44755  Prefer not to say  Single / Never Married   Some of the time   \n",
       "44756  Prefer not to say                 Widowed   Most of the time   \n",
       "44757  Prefer not to say                 Married   Most of the time   \n",
       "44758         80k - 100k                 Married  Only now and then   \n",
       "44759              150k+                 Married   Some of the time   \n",
       "...                  ...                     ...                ...   \n",
       "49778          20k - 30k  Single / Never Married         Don't Know   \n",
       "49779      Less than 10k                     NaN      Hardly at all   \n",
       "49780        120k - 150k                 Married   Most of the time   \n",
       "49781      Less than 10k                 Widowed  Only now and then   \n",
       "49782          50k - 60k    Domestic Partnership      Hardly at all   \n",
       "\n",
       "                           approval_gov         ideo5 voted_gov  \n",
       "44755                  Strongly Approve       Liberal       NaN  \n",
       "44756        Approve / Somewhat Approve      Moderate       NaN  \n",
       "44757            Never Heard / Not Sure      Moderate       NaN  \n",
       "44758  Disapprove / Somewhat Disapprove      Moderate       NaN  \n",
       "44759               Strongly Disapprove  Conservative       NaN  \n",
       "...                                 ...           ...       ...  \n",
       "49778            Never Heard / Not Sure  Very Liberal       NaN  \n",
       "49779  Disapprove / Somewhat Disapprove      Not Sure       NaN  \n",
       "49780  Disapprove / Somewhat Disapprove      Moderate       NaN  \n",
       "49781        Approve / Somewhat Approve      Moderate       NaN  \n",
       "49782               Strongly Disapprove      Moderate       NaN  \n",
       "\n",
       "[5028 rows x 13 columns]"
      ]
     },
     "execution_count": 89,
     "metadata": {},
     "output_type": "execute_result"
    }
   ],
   "source": [
    "cali20[['dist', 'cong', 'gender', 'birthyr', 'age', 'educ', 'race', 'faminc', 'marstat','newsint', 'approval_gov','ideo5', 'voted_gov']]"
   ]
  },
  {
   "cell_type": "code",
   "execution_count": 90,
   "metadata": {},
   "outputs": [
    {
     "data": {
      "text/plain": [
       "Series([], Name: voted_gov_chosen, dtype: int64)"
      ]
     },
     "execution_count": 90,
     "metadata": {},
     "output_type": "execute_result"
    }
   ],
   "source": [
    "cali20['voted_gov_chosen'].value_counts()"
   ]
  },
  {
   "cell_type": "code",
   "execution_count": 91,
   "metadata": {},
   "outputs": [
    {
     "data": {
      "text/plain": [
       "Gavin Newsom (D)    2301\n",
       "John H. Cox (R)     1384\n",
       "Name: voted_gov_chosen, dtype: int64"
      ]
     },
     "execution_count": 91,
     "metadata": {},
     "output_type": "execute_result"
    }
   ],
   "source": [
    "df['voted_gov_chosen'].value_counts()"
   ]
  },
  {
   "cell_type": "code",
   "execution_count": 92,
   "metadata": {},
   "outputs": [
    {
     "data": {
      "text/plain": [
       "Gavin Newsom (D)    2527\n",
       "John H. Cox (R)     1499\n",
       "Name: intent_gov_chosen, dtype: int64"
      ]
     },
     "execution_count": 92,
     "metadata": {},
     "output_type": "execute_result"
    }
   ],
   "source": [
    "df['intent_gov_chosen'].value_counts()"
   ]
  },
  {
   "cell_type": "code",
   "execution_count": 93,
   "metadata": {},
   "outputs": [
    {
     "data": {
      "text/plain": [
       "[Democrat / Candidate 1]       2304\n",
       "[Republican / Candidate 2]     1385\n",
       "I Did Not Vote In This Race      37\n",
       "Not Sure                         25\n",
       "Other                            14\n",
       "Name: voted_gov, dtype: int64"
      ]
     },
     "execution_count": 93,
     "metadata": {},
     "output_type": "execute_result"
    }
   ],
   "source": [
    "df['voted_gov'].value_counts()"
   ]
  },
  {
   "cell_type": "code",
   "execution_count": 94,
   "metadata": {},
   "outputs": [
    {
     "data": {
      "text/html": [
       "<div>\n",
       "<style scoped>\n",
       "    .dataframe tbody tr th:only-of-type {\n",
       "        vertical-align: middle;\n",
       "    }\n",
       "\n",
       "    .dataframe tbody tr th {\n",
       "        vertical-align: top;\n",
       "    }\n",
       "\n",
       "    .dataframe thead th {\n",
       "        text-align: right;\n",
       "    }\n",
       "</style>\n",
       "<table border=\"1\" class=\"dataframe\">\n",
       "  <thead>\n",
       "    <tr style=\"text-align: right;\">\n",
       "      <th></th>\n",
       "      <th>voted_gov</th>\n",
       "    </tr>\n",
       "  </thead>\n",
       "  <tbody>\n",
       "    <tr>\n",
       "      <th>37821</th>\n",
       "      <td>[Democrat / Candidate 1]</td>\n",
       "    </tr>\n",
       "    <tr>\n",
       "      <th>37822</th>\n",
       "      <td>[Democrat / Candidate 1]</td>\n",
       "    </tr>\n",
       "    <tr>\n",
       "      <th>37823</th>\n",
       "      <td>[Democrat / Candidate 1]</td>\n",
       "    </tr>\n",
       "    <tr>\n",
       "      <th>37824</th>\n",
       "      <td>NaN</td>\n",
       "    </tr>\n",
       "    <tr>\n",
       "      <th>37825</th>\n",
       "      <td>[Republican / Candidate 2]</td>\n",
       "    </tr>\n",
       "  </tbody>\n",
       "</table>\n",
       "</div>"
      ],
      "text/plain": [
       "                        voted_gov\n",
       "37821    [Democrat / Candidate 1]\n",
       "37822    [Democrat / Candidate 1]\n",
       "37823    [Democrat / Candidate 1]\n",
       "37824                         NaN\n",
       "37825  [Republican / Candidate 2]"
      ]
     },
     "execution_count": 94,
     "metadata": {},
     "output_type": "execute_result"
    }
   ],
   "source": [
    "#looking like our dataframe looks like we need to focus on the 2018 data.\n",
    "df.loc[df['year'] == 2018, ['voted_gov']].head()"
   ]
  },
  {
   "cell_type": "code",
   "execution_count": 95,
   "metadata": {},
   "outputs": [],
   "source": [
    "# breaking down the dataframe to just 2018 and the state of california.\n",
    "df = df[(df['year'] == 2018) & (df['state']== 'California')]\n",
    "\n",
    "#looking into relivant data.\n",
    "df = df[['dist', 'gender', 'age', 'educ', 'race', 'faminc', 'marstat','newsint', 'approval_gov','ideo5','ownhome', 'pid3', 'voted_gov']]"
   ]
  },
  {
   "cell_type": "code",
   "execution_count": 96,
   "metadata": {},
   "outputs": [
    {
     "data": {
      "text/html": [
       "<div>\n",
       "<style scoped>\n",
       "    .dataframe tbody tr th:only-of-type {\n",
       "        vertical-align: middle;\n",
       "    }\n",
       "\n",
       "    .dataframe tbody tr th {\n",
       "        vertical-align: top;\n",
       "    }\n",
       "\n",
       "    .dataframe thead th {\n",
       "        text-align: right;\n",
       "    }\n",
       "</style>\n",
       "<table border=\"1\" class=\"dataframe\">\n",
       "  <thead>\n",
       "    <tr style=\"text-align: right;\">\n",
       "      <th></th>\n",
       "      <th>dist</th>\n",
       "      <th>gender</th>\n",
       "      <th>age</th>\n",
       "      <th>educ</th>\n",
       "      <th>race</th>\n",
       "      <th>faminc</th>\n",
       "      <th>marstat</th>\n",
       "      <th>newsint</th>\n",
       "      <th>approval_gov</th>\n",
       "      <th>ideo5</th>\n",
       "      <th>ownhome</th>\n",
       "      <th>pid3</th>\n",
       "      <th>voted_gov</th>\n",
       "    </tr>\n",
       "  </thead>\n",
       "  <tbody>\n",
       "    <tr>\n",
       "      <th>37821</th>\n",
       "      <td>13</td>\n",
       "      <td>Female</td>\n",
       "      <td>84</td>\n",
       "      <td>Some College</td>\n",
       "      <td>White</td>\n",
       "      <td>NaN</td>\n",
       "      <td>Divorced</td>\n",
       "      <td>Most of the time</td>\n",
       "      <td>Strongly Disapprove</td>\n",
       "      <td>Liberal</td>\n",
       "      <td>Own</td>\n",
       "      <td>Democrat</td>\n",
       "      <td>[Democrat / Candidate 1]</td>\n",
       "    </tr>\n",
       "    <tr>\n",
       "      <th>37822</th>\n",
       "      <td>19</td>\n",
       "      <td>Female</td>\n",
       "      <td>54</td>\n",
       "      <td>4-Year</td>\n",
       "      <td>White</td>\n",
       "      <td>50k - 60k</td>\n",
       "      <td>Single / Never Married</td>\n",
       "      <td>Most of the time</td>\n",
       "      <td>Strongly Approve</td>\n",
       "      <td>Liberal</td>\n",
       "      <td>Other</td>\n",
       "      <td>Democrat</td>\n",
       "      <td>[Democrat / Candidate 1]</td>\n",
       "    </tr>\n",
       "    <tr>\n",
       "      <th>37823</th>\n",
       "      <td>52</td>\n",
       "      <td>Female</td>\n",
       "      <td>28</td>\n",
       "      <td>Some College</td>\n",
       "      <td>White</td>\n",
       "      <td>20k - 30k</td>\n",
       "      <td>Single / Never Married</td>\n",
       "      <td>Most of the time</td>\n",
       "      <td>Strongly Approve</td>\n",
       "      <td>Liberal</td>\n",
       "      <td>Rent</td>\n",
       "      <td>Democrat</td>\n",
       "      <td>[Democrat / Candidate 1]</td>\n",
       "    </tr>\n",
       "    <tr>\n",
       "      <th>37824</th>\n",
       "      <td>23</td>\n",
       "      <td>Female</td>\n",
       "      <td>35</td>\n",
       "      <td>High School Graduate</td>\n",
       "      <td>White</td>\n",
       "      <td>50k - 60k</td>\n",
       "      <td>Single / Never Married</td>\n",
       "      <td>Only now and then</td>\n",
       "      <td>Never Heard / Not Sure</td>\n",
       "      <td>Not Sure</td>\n",
       "      <td>Rent</td>\n",
       "      <td>Independent</td>\n",
       "      <td>NaN</td>\n",
       "    </tr>\n",
       "    <tr>\n",
       "      <th>37825</th>\n",
       "      <td>49</td>\n",
       "      <td>Male</td>\n",
       "      <td>86</td>\n",
       "      <td>Post-Grad</td>\n",
       "      <td>White</td>\n",
       "      <td>120k - 150k</td>\n",
       "      <td>Widowed</td>\n",
       "      <td>Most of the time</td>\n",
       "      <td>Strongly Disapprove</td>\n",
       "      <td>Very Conservative</td>\n",
       "      <td>Own</td>\n",
       "      <td>Other</td>\n",
       "      <td>[Republican / Candidate 2]</td>\n",
       "    </tr>\n",
       "  </tbody>\n",
       "</table>\n",
       "</div>"
      ],
      "text/plain": [
       "       dist  gender  age                  educ   race       faminc  \\\n",
       "37821    13  Female   84          Some College  White          NaN   \n",
       "37822    19  Female   54                4-Year  White    50k - 60k   \n",
       "37823    52  Female   28          Some College  White    20k - 30k   \n",
       "37824    23  Female   35  High School Graduate  White    50k - 60k   \n",
       "37825    49    Male   86             Post-Grad  White  120k - 150k   \n",
       "\n",
       "                      marstat            newsint            approval_gov  \\\n",
       "37821                Divorced   Most of the time     Strongly Disapprove   \n",
       "37822  Single / Never Married   Most of the time        Strongly Approve   \n",
       "37823  Single / Never Married   Most of the time        Strongly Approve   \n",
       "37824  Single / Never Married  Only now and then  Never Heard / Not Sure   \n",
       "37825                 Widowed   Most of the time     Strongly Disapprove   \n",
       "\n",
       "                   ideo5 ownhome         pid3                   voted_gov  \n",
       "37821            Liberal     Own     Democrat    [Democrat / Candidate 1]  \n",
       "37822            Liberal   Other     Democrat    [Democrat / Candidate 1]  \n",
       "37823            Liberal    Rent     Democrat    [Democrat / Candidate 1]  \n",
       "37824           Not Sure    Rent  Independent                         NaN  \n",
       "37825  Very Conservative     Own        Other  [Republican / Candidate 2]  "
      ]
     },
     "execution_count": 96,
     "metadata": {},
     "output_type": "execute_result"
    }
   ],
   "source": [
    "df.head()"
   ]
  },
  {
   "cell_type": "code",
   "execution_count": 97,
   "metadata": {},
   "outputs": [],
   "source": [
    "#dropping Nulls\n",
    "df.dropna(inplace=True)\n",
    "\n",
    "#exporting csv of 2018 gov results with out.\n",
    "df.to_csv('../Data/2018_gov_features.csv')"
   ]
  },
  {
   "cell_type": "markdown",
   "metadata": {},
   "source": [
    "Please refer to our Modeling folder to see how we modeled this dataset to predict California voters."
   ]
  }
 ],
 "metadata": {
  "kernelspec": {
   "display_name": "Python 3",
   "language": "python",
   "name": "python3"
  },
  "language_info": {
   "codemirror_mode": {
    "name": "ipython",
    "version": 3
   },
   "file_extension": ".py",
   "mimetype": "text/x-python",
   "name": "python",
   "nbconvert_exporter": "python",
   "pygments_lexer": "ipython3",
   "version": "3.8.8"
  }
 },
 "nbformat": 4,
 "nbformat_minor": 4
}
