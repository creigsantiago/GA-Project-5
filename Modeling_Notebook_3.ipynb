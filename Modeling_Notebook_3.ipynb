{
 "cells": [
  {
   "cell_type": "markdown",
   "id": "0b3a5112",
   "metadata": {},
   "source": [
    "## Project 5: WAM News Prediction of  California's Gubernatorial 2021 Election"
   ]
  },
  {
   "cell_type": "markdown",
   "id": "ac1c7295",
   "metadata": {},
   "source": [
    "## Import Libraries"
   ]
  },
  {
   "cell_type": "code",
   "execution_count": 1,
   "id": "c893ed0b",
   "metadata": {},
   "outputs": [],
   "source": [
    "# import libraries\n",
    "import pandas as pd\n",
    "import numpy as np\n",
    "import matplotlib.pyplot as plt\n",
    "import tensorflow as tf\n",
    "%matplotlib inline\n",
    "# sklearn\n",
    "from sklearn.model_selection import train_test_split, GridSearchCV, cross_val_score\n",
    "from sklearn.preprocessing import StandardScaler\n",
    "from sklearn.ensemble import RandomForestClassifier, ExtraTreesClassifier\n",
    "from sklearn.model_selection import cross_val_score, train_test_split, GridSearchCV\n",
    "from sklearn.metrics import confusion_matrix, plot_confusion_matrix, classification_report\n",
    "from sklearn.naive_bayes import MultinomialNB\n",
    "from sklearn.pipeline import Pipeline\n",
    "from sklearn import metrics\n",
    "# keras\n",
    "from tensorflow.keras.models import Sequential\n",
    "from tensorflow.keras.layers import Dense, Dropout\n",
    "from tensorflow.keras.utils import to_categorical\n",
    "from tensorflow.keras.metrics import Recall\n",
    "from tensorflow.keras.callbacks import EarlyStopping\n",
    "from tensorflow.keras.wrappers.scikit_learn import KerasClassifier\n",
    "# set random seed\n",
    "import random\n",
    "random.seed=42"
   ]
  },
  {
   "cell_type": "markdown",
   "id": "8bacc424",
   "metadata": {},
   "source": [
    "## Load Data"
   ]
  },
  {
   "cell_type": "code",
   "execution_count": 2,
   "id": "f29119ab",
   "metadata": {},
   "outputs": [
    {
     "data": {
      "text/html": [
       "<div>\n",
       "<style scoped>\n",
       "    .dataframe tbody tr th:only-of-type {\n",
       "        vertical-align: middle;\n",
       "    }\n",
       "\n",
       "    .dataframe tbody tr th {\n",
       "        vertical-align: top;\n",
       "    }\n",
       "\n",
       "    .dataframe thead th {\n",
       "        text-align: right;\n",
       "    }\n",
       "</style>\n",
       "<table border=\"1\" class=\"dataframe\">\n",
       "  <thead>\n",
       "    <tr style=\"text-align: right;\">\n",
       "      <th></th>\n",
       "      <th>dist</th>\n",
       "      <th>ownhome</th>\n",
       "      <th>pid3</th>\n",
       "      <th>gender</th>\n",
       "      <th>age</th>\n",
       "      <th>educ</th>\n",
       "      <th>race</th>\n",
       "      <th>faminc</th>\n",
       "      <th>marstat</th>\n",
       "      <th>newsint</th>\n",
       "      <th>approval_gov</th>\n",
       "      <th>ideo5</th>\n",
       "      <th>voted_gov</th>\n",
       "    </tr>\n",
       "  </thead>\n",
       "  <tbody>\n",
       "    <tr>\n",
       "      <th>392782</th>\n",
       "      <td>19</td>\n",
       "      <td>Other</td>\n",
       "      <td>Democrat</td>\n",
       "      <td>Female</td>\n",
       "      <td>54</td>\n",
       "      <td>4-Year</td>\n",
       "      <td>White</td>\n",
       "      <td>50k - 60k</td>\n",
       "      <td>Single / Never Married</td>\n",
       "      <td>Most of the time</td>\n",
       "      <td>Strongly Approve</td>\n",
       "      <td>Liberal</td>\n",
       "      <td>1</td>\n",
       "    </tr>\n",
       "    <tr>\n",
       "      <th>392786</th>\n",
       "      <td>52</td>\n",
       "      <td>Rent</td>\n",
       "      <td>Democrat</td>\n",
       "      <td>Female</td>\n",
       "      <td>28</td>\n",
       "      <td>Some College</td>\n",
       "      <td>White</td>\n",
       "      <td>20k - 30k</td>\n",
       "      <td>Single / Never Married</td>\n",
       "      <td>Most of the time</td>\n",
       "      <td>Strongly Approve</td>\n",
       "      <td>Liberal</td>\n",
       "      <td>1</td>\n",
       "    </tr>\n",
       "    <tr>\n",
       "      <th>392800</th>\n",
       "      <td>49</td>\n",
       "      <td>Own</td>\n",
       "      <td>Other</td>\n",
       "      <td>Male</td>\n",
       "      <td>86</td>\n",
       "      <td>Post-Grad</td>\n",
       "      <td>White</td>\n",
       "      <td>120k - 150k</td>\n",
       "      <td>Widowed</td>\n",
       "      <td>Most of the time</td>\n",
       "      <td>Strongly Disapprove</td>\n",
       "      <td>Very Conservative</td>\n",
       "      <td>0</td>\n",
       "    </tr>\n",
       "    <tr>\n",
       "      <th>392832</th>\n",
       "      <td>36</td>\n",
       "      <td>Own</td>\n",
       "      <td>Republican</td>\n",
       "      <td>Male</td>\n",
       "      <td>80</td>\n",
       "      <td>Some College</td>\n",
       "      <td>White</td>\n",
       "      <td>20k - 30k</td>\n",
       "      <td>Widowed</td>\n",
       "      <td>Most of the time</td>\n",
       "      <td>Strongly Disapprove</td>\n",
       "      <td>Conservative</td>\n",
       "      <td>0</td>\n",
       "    </tr>\n",
       "    <tr>\n",
       "      <th>392860</th>\n",
       "      <td>36</td>\n",
       "      <td>Own</td>\n",
       "      <td>Independent</td>\n",
       "      <td>Male</td>\n",
       "      <td>83</td>\n",
       "      <td>4-Year</td>\n",
       "      <td>White</td>\n",
       "      <td>Prefer not to say</td>\n",
       "      <td>Married</td>\n",
       "      <td>Most of the time</td>\n",
       "      <td>Strongly Disapprove</td>\n",
       "      <td>Conservative</td>\n",
       "      <td>0</td>\n",
       "    </tr>\n",
       "  </tbody>\n",
       "</table>\n",
       "</div>"
      ],
      "text/plain": [
       "        dist ownhome         pid3  gender  age          educ   race  \\\n",
       "392782    19   Other     Democrat  Female   54        4-Year  White   \n",
       "392786    52    Rent     Democrat  Female   28  Some College  White   \n",
       "392800    49     Own        Other    Male   86     Post-Grad  White   \n",
       "392832    36     Own   Republican    Male   80  Some College  White   \n",
       "392860    36     Own  Independent    Male   83        4-Year  White   \n",
       "\n",
       "                   faminc                 marstat           newsint  \\\n",
       "392782          50k - 60k  Single / Never Married  Most of the time   \n",
       "392786          20k - 30k  Single / Never Married  Most of the time   \n",
       "392800        120k - 150k                 Widowed  Most of the time   \n",
       "392832          20k - 30k                 Widowed  Most of the time   \n",
       "392860  Prefer not to say                 Married  Most of the time   \n",
       "\n",
       "               approval_gov              ideo5  voted_gov  \n",
       "392782     Strongly Approve            Liberal          1  \n",
       "392786     Strongly Approve            Liberal          1  \n",
       "392800  Strongly Disapprove  Very Conservative          0  \n",
       "392832  Strongly Disapprove       Conservative          0  \n",
       "392860  Strongly Disapprove       Conservative          0  "
      ]
     },
     "execution_count": 2,
     "metadata": {},
     "output_type": "execute_result"
    }
   ],
   "source": [
    "# read data\n",
    "df=pd.read_csv('./data/2018_gov_clean1.csv', index_col=0)\n",
    "df.head()"
   ]
  },
  {
   "cell_type": "code",
   "execution_count": 3,
   "id": "f216a597",
   "metadata": {},
   "outputs": [
    {
     "name": "stdout",
     "output_type": "stream",
     "text": [
      "<class 'pandas.core.frame.DataFrame'>\n",
      "Int64Index: 3663 entries, 392782 to 452724\n",
      "Data columns (total 13 columns):\n",
      " #   Column        Non-Null Count  Dtype \n",
      "---  ------        --------------  ----- \n",
      " 0   dist          3663 non-null   int64 \n",
      " 1   ownhome       3663 non-null   object\n",
      " 2   pid3          3663 non-null   object\n",
      " 3   gender        3663 non-null   object\n",
      " 4   age           3663 non-null   int64 \n",
      " 5   educ          3663 non-null   object\n",
      " 6   race          3663 non-null   object\n",
      " 7   faminc        3663 non-null   object\n",
      " 8   marstat       3663 non-null   object\n",
      " 9   newsint       3663 non-null   object\n",
      " 10  approval_gov  3663 non-null   object\n",
      " 11  ideo5         3663 non-null   object\n",
      " 12  voted_gov     3663 non-null   int64 \n",
      "dtypes: int64(3), object(10)\n",
      "memory usage: 400.6+ KB\n"
     ]
    }
   ],
   "source": [
    "# check for null values\n",
    "df.info()"
   ]
  },
  {
   "cell_type": "code",
   "execution_count": 4,
   "id": "99c3df6f",
   "metadata": {},
   "outputs": [
    {
     "data": {
      "text/plain": [
       "1    0.624352\n",
       "0    0.375648\n",
       "Name: voted_gov, dtype: float64"
      ]
     },
     "execution_count": 4,
     "metadata": {},
     "output_type": "execute_result"
    }
   ],
   "source": [
    "# baseline accuracy\n",
    "df.voted_gov.value_counts(normalize=True)"
   ]
  },
  {
   "cell_type": "markdown",
   "id": "a4c4a07e",
   "metadata": {},
   "source": [
    "# Modeling"
   ]
  },
  {
   "cell_type": "code",
   "execution_count": 5,
   "id": "e147bcf4",
   "metadata": {},
   "outputs": [],
   "source": [
    "# set up X and y\n",
    "X = df.drop(columns =['voted_gov'])\n",
    "y = df['voted_gov']"
   ]
  },
  {
   "cell_type": "code",
   "execution_count": 6,
   "id": "afc6deaa",
   "metadata": {},
   "outputs": [],
   "source": [
    "# dummify X variable\n",
    "X = pd.get_dummies(X, drop_first=True)"
   ]
  },
  {
   "cell_type": "code",
   "execution_count": 7,
   "id": "741c48da",
   "metadata": {},
   "outputs": [
    {
     "data": {
      "text/plain": [
       "(3663, 51)"
      ]
     },
     "execution_count": 7,
     "metadata": {},
     "output_type": "execute_result"
    }
   ],
   "source": [
    "# checkout X shape\n",
    "X.shape"
   ]
  },
  {
   "cell_type": "code",
   "execution_count": 8,
   "id": "ab145807",
   "metadata": {},
   "outputs": [],
   "source": [
    "# check if shape of X = y\n",
    "assert X.shape[0]==y.shape[0]"
   ]
  },
  {
   "cell_type": "code",
   "execution_count": 9,
   "id": "ad5b0c17",
   "metadata": {},
   "outputs": [],
   "source": [
    "# # split the data\n",
    "# X_train, X_test, y_train, y_test = train_test_split(X, y, random_state=42, stratify=y)"
   ]
  },
  {
   "cell_type": "markdown",
   "id": "7149c4cb",
   "metadata": {},
   "source": [
    "### 2. Neural Nets GridSearch"
   ]
  },
  {
   "cell_type": "code",
   "execution_count": 10,
   "id": "8f8d54ea",
   "metadata": {},
   "outputs": [],
   "source": [
    "# # scale data\n",
    "# sc = StandardScaler()\n",
    "# X_train_sc = sc.fit_transform(X_train)\n",
    "# X_test_sc = sc.transform(X_test)"
   ]
  },
  {
   "cell_type": "code",
   "execution_count": 11,
   "id": "8f74b592",
   "metadata": {},
   "outputs": [],
   "source": [
    "# # Function to create model, required for KerasClassifier\n",
    "# def create_model():\n",
    "#     # create model\n",
    "#     model = Sequential()\n",
    "#     model.add(Dense(32, input_shape=(51,), activation='relu'))\n",
    "#     model.add(Dense(32, activation='relu'))\n",
    "#     model.add(Dense(1, activation='sigmoid')) \n",
    "#     # Compile model\n",
    "#     model.compile(loss='binary_crossentropy', optimizer='adam', metrics=['Accuracy', 'Recall'])\n",
    "#     return model\n",
    "\n",
    "# # fix random seed for reproducibility\n",
    "# seed = 7\n",
    "# np.random.seed(seed)\n",
    "# # early stopping\n",
    "# early_stop = EarlyStopping(monitor='val_loss', patience=5, verbose=1)\n",
    "# # create model\n",
    "# model = KerasClassifier(build_fn=create_model, verbose=0)\n",
    "\n",
    "# # define the grid search parameters\n",
    "# params_grid = {\n",
    "#     'batch_size': [10, 20, 40, 60, 80, 100],\n",
    "#     'epochs': [10, 50, 100],\n",
    "# }\n",
    "\n",
    "# gs_deep = GridSearchCV(model, param_grid=params_grid, cv=3, n_jobs=-1)\n",
    "# gs_deep.fit(\n",
    "#     X_train_sc, \n",
    "#     y_train, \n",
    "#     callbacks=early_stop, \n",
    "#     validation_data=(X_test_sc, y_test))\n",
    "# print(gs_deep.best_params_)\n",
    "# gs_deep.best_score_"
   ]
  },
  {
   "cell_type": "code",
   "execution_count": 12,
   "id": "5dbe95ce",
   "metadata": {},
   "outputs": [],
   "source": [
    "# # Make predictions \n",
    "# preds_deep = gs_deep.predict(X_test_sc)"
   ]
  },
  {
   "cell_type": "code",
   "execution_count": 13,
   "id": "8e25e706",
   "metadata": {},
   "outputs": [],
   "source": [
    "# ## classification report\n",
    "# print(classification_report(y_test, preds_deep))"
   ]
  },
  {
   "cell_type": "code",
   "execution_count": 14,
   "id": "adff3182",
   "metadata": {},
   "outputs": [],
   "source": [
    "\n",
    "\n",
    "# # save confusion matrix values\n",
    "# tn, fp, fn, tp = confusion_matrix(y_test, preds_deep).ravel()"
   ]
  },
  {
   "cell_type": "code",
   "execution_count": 15,
   "id": "0d70ccbf",
   "metadata": {},
   "outputs": [],
   "source": [
    "# # save confusion matrix values\n",
    "# tn, fp, fn, tp = confusion_matrix(y_test, preds_deep).ravel()\n",
    "# # metrics\n",
    "# accu = (tp+tn) / (tp+tn+fp+fn)\n",
    "# recall = tp/(tp+fn)\n",
    "# prec = tp/ (tp+fp)\n",
    "# spec= tn/(tn+fp)\n",
    "\n",
    "# print('Accuracy:', accu)\n",
    "# print('Recall:', recall)\n",
    "# print('Precision:', prec)\n",
    "# print('Specificity:', spec)"
   ]
  },
  {
   "cell_type": "markdown",
   "id": "5002b628",
   "metadata": {},
   "source": [
    "### 2. Neural Net Classification - Early stopping"
   ]
  },
  {
   "cell_type": "code",
   "execution_count": 16,
   "id": "4bfa3a98",
   "metadata": {},
   "outputs": [],
   "source": [
    "# set a random seed\n",
    "tf.random.set_seed(1234)"
   ]
  },
  {
   "cell_type": "code",
   "execution_count": 17,
   "id": "a65d07cc",
   "metadata": {},
   "outputs": [],
   "source": [
    "# split data\n",
    "X_train, X_test, y_train, y_test = train_test_split(X, y, stratify=y, random_state=42)"
   ]
  },
  {
   "cell_type": "code",
   "execution_count": 18,
   "id": "88321e9e",
   "metadata": {},
   "outputs": [],
   "source": [
    "# scale data\n",
    "sc = StandardScaler()\n",
    "X_train_sc = sc.fit_transform(X_train)\n",
    "X_test_sc = sc.transform(X_test)"
   ]
  },
  {
   "cell_type": "code",
   "execution_count": 19,
   "id": "322798e4",
   "metadata": {},
   "outputs": [],
   "source": [
    "# create model with one hidden layer\n",
    "model_nn1 = Sequential()\n",
    "model_nn1.add(Dense(32, input_shape=(X_train_sc.shape[1],), activation='relu'))\n",
    "model_nn1.add(Dense(1, activation='sigmoid'))"
   ]
  },
  {
   "cell_type": "code",
   "execution_count": 20,
   "id": "936d8e01",
   "metadata": {
    "scrolled": true
   },
   "outputs": [
    {
     "name": "stdout",
     "output_type": "stream",
     "text": [
      "Model: \"sequential\"\n",
      "_________________________________________________________________\n",
      "Layer (type)                 Output Shape              Param #   \n",
      "=================================================================\n",
      "dense (Dense)                (None, 32)                1664      \n",
      "_________________________________________________________________\n",
      "dense_1 (Dense)              (None, 1)                 33        \n",
      "=================================================================\n",
      "Total params: 1,697\n",
      "Trainable params: 1,697\n",
      "Non-trainable params: 0\n",
      "_________________________________________________________________\n"
     ]
    }
   ],
   "source": [
    "model_nn1.summary()"
   ]
  },
  {
   "cell_type": "code",
   "execution_count": 21,
   "id": "c5b9e1df",
   "metadata": {},
   "outputs": [],
   "source": [
    "# Compile it\n",
    "model_nn1.compile(loss='bce', optimizer='adam', metrics=['Accuracy', 'Recall', 'Precision'])"
   ]
  },
  {
   "cell_type": "code",
   "execution_count": 22,
   "id": "fa8a2180",
   "metadata": {},
   "outputs": [],
   "source": [
    "# set early stopping\n",
    "early_stop = EarlyStopping(monitor='val_loss', patience=5, verbose=1)"
   ]
  },
  {
   "cell_type": "code",
   "execution_count": 23,
   "id": "56afff43",
   "metadata": {},
   "outputs": [
    {
     "name": "stdout",
     "output_type": "stream",
     "text": [
      "Epoch 1/100\n",
      "86/86 [==============================] - 1s 4ms/step - loss: 0.5085 - Accuracy: 0.7856 - recall: 0.9096 - precision: 0.7823 - val_loss: 0.3775 - val_Accuracy: 0.8821 - val_recall: 0.9458 - val_precision: 0.8754\n",
      "Epoch 2/100\n",
      "86/86 [==============================] - 0s 1ms/step - loss: 0.2941 - Accuracy: 0.9090 - recall: 0.9481 - precision: 0.9099 - val_loss: 0.2637 - val_Accuracy: 0.9214 - val_recall: 0.9580 - val_precision: 0.9195\n",
      "Epoch 3/100\n",
      "86/86 [==============================] - 0s 1ms/step - loss: 0.2176 - Accuracy: 0.9276 - recall: 0.9592 - precision: 0.9273 - val_loss: 0.2219 - val_Accuracy: 0.9181 - val_recall: 0.9493 - val_precision: 0.9219\n",
      "Epoch 4/100\n",
      "86/86 [==============================] - 0s 1ms/step - loss: 0.1852 - Accuracy: 0.9319 - recall: 0.9580 - precision: 0.9346 - val_loss: 0.2062 - val_Accuracy: 0.9236 - val_recall: 0.9493 - val_precision: 0.9298\n",
      "Epoch 5/100\n",
      "86/86 [==============================] - 0s 1ms/step - loss: 0.1689 - Accuracy: 0.9367 - recall: 0.9633 - precision: 0.9370 - val_loss: 0.1987 - val_Accuracy: 0.9247 - val_recall: 0.9423 - val_precision: 0.9374\n",
      "Epoch 6/100\n",
      "86/86 [==============================] - 0s 1ms/step - loss: 0.1592 - Accuracy: 0.9367 - recall: 0.9574 - precision: 0.9421 - val_loss: 0.1962 - val_Accuracy: 0.9269 - val_recall: 0.9493 - val_precision: 0.9346\n",
      "Epoch 7/100\n",
      "86/86 [==============================] - 0s 1ms/step - loss: 0.1509 - Accuracy: 0.9407 - recall: 0.9638 - precision: 0.9424 - val_loss: 0.1933 - val_Accuracy: 0.9269 - val_recall: 0.9423 - val_precision: 0.9407\n",
      "Epoch 8/100\n",
      "86/86 [==============================] - 0s 1ms/step - loss: 0.1453 - Accuracy: 0.9428 - recall: 0.9633 - precision: 0.9462 - val_loss: 0.1928 - val_Accuracy: 0.9312 - val_recall: 0.9493 - val_precision: 0.9411\n",
      "Epoch 9/100\n",
      "86/86 [==============================] - 0s 1ms/step - loss: 0.1403 - Accuracy: 0.9421 - recall: 0.9644 - precision: 0.9441 - val_loss: 0.1917 - val_Accuracy: 0.9312 - val_recall: 0.9458 - val_precision: 0.9442\n",
      "Epoch 10/100\n",
      "86/86 [==============================] - 0s 1ms/step - loss: 0.1358 - Accuracy: 0.9454 - recall: 0.9662 - precision: 0.9474 - val_loss: 0.1916 - val_Accuracy: 0.9345 - val_recall: 0.9528 - val_precision: 0.9429\n",
      "Epoch 11/100\n",
      "86/86 [==============================] - 0s 1ms/step - loss: 0.1322 - Accuracy: 0.9479 - recall: 0.9685 - precision: 0.9491 - val_loss: 0.1916 - val_Accuracy: 0.9345 - val_recall: 0.9545 - val_precision: 0.9414\n",
      "Epoch 12/100\n",
      "86/86 [==============================] - 0s 1ms/step - loss: 0.1290 - Accuracy: 0.9476 - recall: 0.9662 - precision: 0.9507 - val_loss: 0.1934 - val_Accuracy: 0.9345 - val_recall: 0.9563 - val_precision: 0.9399\n",
      "Epoch 13/100\n",
      "86/86 [==============================] - 0s 1ms/step - loss: 0.1255 - Accuracy: 0.9512 - recall: 0.9708 - precision: 0.9520 - val_loss: 0.1931 - val_Accuracy: 0.9323 - val_recall: 0.9476 - val_precision: 0.9443\n",
      "Epoch 14/100\n",
      "86/86 [==============================] - 0s 1ms/step - loss: 0.1222 - Accuracy: 0.9512 - recall: 0.9703 - precision: 0.9525 - val_loss: 0.1936 - val_Accuracy: 0.9301 - val_recall: 0.9493 - val_precision: 0.9394\n",
      "Epoch 15/100\n",
      "86/86 [==============================] - 0s 1ms/step - loss: 0.1200 - Accuracy: 0.9530 - recall: 0.9703 - precision: 0.9552 - val_loss: 0.1932 - val_Accuracy: 0.9367 - val_recall: 0.9563 - val_precision: 0.9431\n",
      "Epoch 00015: early stopping\n"
     ]
    }
   ],
   "source": [
    "# fit model\n",
    "history = model_nn1.fit(\n",
    "    X_train_sc, y_train, \n",
    "    validation_data=(X_test_sc, y_test), \n",
    "    epochs=100, \n",
    "    callbacks=[early_stop], \n",
    "    verbose=1,\n",
    "    batch_size=32\n",
    ")"
   ]
  },
  {
   "cell_type": "code",
   "execution_count": 24,
   "id": "a6ad831d",
   "metadata": {},
   "outputs": [
    {
     "data": {
      "text/html": [
       "<div>\n",
       "<style scoped>\n",
       "    .dataframe tbody tr th:only-of-type {\n",
       "        vertical-align: middle;\n",
       "    }\n",
       "\n",
       "    .dataframe tbody tr th {\n",
       "        vertical-align: top;\n",
       "    }\n",
       "\n",
       "    .dataframe thead th {\n",
       "        text-align: right;\n",
       "    }\n",
       "</style>\n",
       "<table border=\"1\" class=\"dataframe\">\n",
       "  <thead>\n",
       "    <tr style=\"text-align: right;\">\n",
       "      <th></th>\n",
       "      <th>loss</th>\n",
       "      <th>Accuracy</th>\n",
       "      <th>recall</th>\n",
       "      <th>precision</th>\n",
       "      <th>val_loss</th>\n",
       "      <th>val_Accuracy</th>\n",
       "      <th>val_recall</th>\n",
       "      <th>val_precision</th>\n",
       "    </tr>\n",
       "  </thead>\n",
       "  <tbody>\n",
       "    <tr>\n",
       "      <th>0</th>\n",
       "      <td>0.508476</td>\n",
       "      <td>0.785584</td>\n",
       "      <td>0.909621</td>\n",
       "      <td>0.782347</td>\n",
       "      <td>0.377455</td>\n",
       "      <td>0.882096</td>\n",
       "      <td>0.945804</td>\n",
       "      <td>0.875405</td>\n",
       "    </tr>\n",
       "    <tr>\n",
       "      <th>1</th>\n",
       "      <td>0.294056</td>\n",
       "      <td>0.908992</td>\n",
       "      <td>0.948105</td>\n",
       "      <td>0.909905</td>\n",
       "      <td>0.263650</td>\n",
       "      <td>0.921397</td>\n",
       "      <td>0.958042</td>\n",
       "      <td>0.919463</td>\n",
       "    </tr>\n",
       "    <tr>\n",
       "      <th>2</th>\n",
       "      <td>0.217605</td>\n",
       "      <td>0.927557</td>\n",
       "      <td>0.959184</td>\n",
       "      <td>0.927283</td>\n",
       "      <td>0.221949</td>\n",
       "      <td>0.918122</td>\n",
       "      <td>0.949301</td>\n",
       "      <td>0.921902</td>\n",
       "    </tr>\n",
       "    <tr>\n",
       "      <th>3</th>\n",
       "      <td>0.185162</td>\n",
       "      <td>0.931926</td>\n",
       "      <td>0.958017</td>\n",
       "      <td>0.934585</td>\n",
       "      <td>0.206239</td>\n",
       "      <td>0.923581</td>\n",
       "      <td>0.949301</td>\n",
       "      <td>0.929795</td>\n",
       "    </tr>\n",
       "    <tr>\n",
       "      <th>4</th>\n",
       "      <td>0.168870</td>\n",
       "      <td>0.936658</td>\n",
       "      <td>0.963265</td>\n",
       "      <td>0.937039</td>\n",
       "      <td>0.198711</td>\n",
       "      <td>0.924672</td>\n",
       "      <td>0.942308</td>\n",
       "      <td>0.937391</td>\n",
       "    </tr>\n",
       "  </tbody>\n",
       "</table>\n",
       "</div>"
      ],
      "text/plain": [
       "       loss  Accuracy    recall  precision  val_loss  val_Accuracy  \\\n",
       "0  0.508476  0.785584  0.909621   0.782347  0.377455      0.882096   \n",
       "1  0.294056  0.908992  0.948105   0.909905  0.263650      0.921397   \n",
       "2  0.217605  0.927557  0.959184   0.927283  0.221949      0.918122   \n",
       "3  0.185162  0.931926  0.958017   0.934585  0.206239      0.923581   \n",
       "4  0.168870  0.936658  0.963265   0.937039  0.198711      0.924672   \n",
       "\n",
       "   val_recall  val_precision  \n",
       "0    0.945804       0.875405  \n",
       "1    0.958042       0.919463  \n",
       "2    0.949301       0.921902  \n",
       "3    0.949301       0.929795  \n",
       "4    0.942308       0.937391  "
      ]
     },
     "execution_count": 24,
     "metadata": {},
     "output_type": "execute_result"
    }
   ],
   "source": [
    "# save history into a df\n",
    "history_df = pd.DataFrame(history.history)\n",
    "history_df.head()"
   ]
  },
  {
   "cell_type": "code",
   "execution_count": 87,
   "id": "3d56b905",
   "metadata": {},
   "outputs": [
    {
     "data": {
      "text/html": [
       "<div>\n",
       "<style scoped>\n",
       "    .dataframe tbody tr th:only-of-type {\n",
       "        vertical-align: middle;\n",
       "    }\n",
       "\n",
       "    .dataframe tbody tr th {\n",
       "        vertical-align: top;\n",
       "    }\n",
       "\n",
       "    .dataframe thead th {\n",
       "        text-align: right;\n",
       "    }\n",
       "</style>\n",
       "<table border=\"1\" class=\"dataframe\">\n",
       "  <thead>\n",
       "    <tr style=\"text-align: right;\">\n",
       "      <th></th>\n",
       "      <th>loss</th>\n",
       "      <th>Accuracy</th>\n",
       "      <th>recall</th>\n",
       "      <th>precision</th>\n",
       "      <th>val_loss</th>\n",
       "      <th>val_Accuracy</th>\n",
       "      <th>val_recall</th>\n",
       "      <th>val_precision</th>\n",
       "    </tr>\n",
       "  </thead>\n",
       "  <tbody>\n",
       "    <tr>\n",
       "      <th>10</th>\n",
       "      <td>0.132158</td>\n",
       "      <td>0.947943</td>\n",
       "      <td>0.968513</td>\n",
       "      <td>0.949143</td>\n",
       "      <td>0.191629</td>\n",
       "      <td>0.934498</td>\n",
       "      <td>0.954545</td>\n",
       "      <td>0.941379</td>\n",
       "    </tr>\n",
       "    <tr>\n",
       "      <th>11</th>\n",
       "      <td>0.128971</td>\n",
       "      <td>0.947579</td>\n",
       "      <td>0.966181</td>\n",
       "      <td>0.950660</td>\n",
       "      <td>0.193440</td>\n",
       "      <td>0.934498</td>\n",
       "      <td>0.956294</td>\n",
       "      <td>0.939863</td>\n",
       "    </tr>\n",
       "    <tr>\n",
       "      <th>12</th>\n",
       "      <td>0.125504</td>\n",
       "      <td>0.951219</td>\n",
       "      <td>0.970845</td>\n",
       "      <td>0.951973</td>\n",
       "      <td>0.193061</td>\n",
       "      <td>0.932314</td>\n",
       "      <td>0.947552</td>\n",
       "      <td>0.944251</td>\n",
       "    </tr>\n",
       "    <tr>\n",
       "      <th>13</th>\n",
       "      <td>0.122216</td>\n",
       "      <td>0.951219</td>\n",
       "      <td>0.970262</td>\n",
       "      <td>0.952490</td>\n",
       "      <td>0.193612</td>\n",
       "      <td>0.930131</td>\n",
       "      <td>0.949301</td>\n",
       "      <td>0.939446</td>\n",
       "    </tr>\n",
       "    <tr>\n",
       "      <th>14</th>\n",
       "      <td>0.120048</td>\n",
       "      <td>0.953040</td>\n",
       "      <td>0.970262</td>\n",
       "      <td>0.955224</td>\n",
       "      <td>0.193153</td>\n",
       "      <td>0.936681</td>\n",
       "      <td>0.956294</td>\n",
       "      <td>0.943103</td>\n",
       "    </tr>\n",
       "  </tbody>\n",
       "</table>\n",
       "</div>"
      ],
      "text/plain": [
       "        loss  Accuracy    recall  precision  val_loss  val_Accuracy  \\\n",
       "10  0.132158  0.947943  0.968513   0.949143  0.191629      0.934498   \n",
       "11  0.128971  0.947579  0.966181   0.950660  0.193440      0.934498   \n",
       "12  0.125504  0.951219  0.970845   0.951973  0.193061      0.932314   \n",
       "13  0.122216  0.951219  0.970262   0.952490  0.193612      0.930131   \n",
       "14  0.120048  0.953040  0.970262   0.955224  0.193153      0.936681   \n",
       "\n",
       "    val_recall  val_precision  \n",
       "10    0.954545       0.941379  \n",
       "11    0.956294       0.939863  \n",
       "12    0.947552       0.944251  \n",
       "13    0.949301       0.939446  \n",
       "14    0.956294       0.943103  "
      ]
     },
     "execution_count": 87,
     "metadata": {},
     "output_type": "execute_result"
    }
   ],
   "source": [
    "history_df[10:]"
   ]
  },
  {
   "cell_type": "code",
   "execution_count": 25,
   "id": "8ae523a2",
   "metadata": {
    "scrolled": true
   },
   "outputs": [
    {
     "data": {
      "image/png": "[encoded data removed]",
      "text/plain": [
       "<Figure size 1440x504 with 3 Axes>"
      ]
     },
     "metadata": {
      "needs_background": "light"
     },
     "output_type": "display_data"
    }
   ],
   "source": [
    "# subplots of accuracy, precision and recall\n",
    "fig, (ax1, ax2, ax3) = plt.subplots(nrows = 1, ncols=3, figsize = (20, 7))\n",
    "fig.suptitle('Accuracy, Precision and Recall Plot of Neural Net Model')\n",
    "\n",
    "# axis 1\n",
    "ax1.plot(history_df['val_Accuracy'], label='Validation Accuracy', color='green')\n",
    "ax1.plot(history_df['Accuracy'], label='Training Accuracy', color='orange')\n",
    "ax1.legend(loc=\"upper left\")\n",
    "# axis 2\n",
    "ax2.plot(history_df['val_precision'], label='Validation Precision', color='green')\n",
    "ax2.plot(history_df['precision'], label='Training Precision', color='orange')\n",
    "ax2.legend(loc=\"upper left\")\n",
    "#axis3\n",
    "ax3.plot(history_df['val_recall'], label='Validation Recall', color='green')\n",
    "ax3.plot(history_df['recall'], label='Training Recall', color='orange')\n",
    "ax3.legend(loc=\"upper right\")\n",
    "\n",
    "plt.legend();"
   ]
  },
  {
   "cell_type": "markdown",
   "id": "7b152b19",
   "metadata": {},
   "source": [
    "The plots show that this model with one hidden layer and early stopping is slightly overfit. "
   ]
  },
  {
   "cell_type": "code",
   "execution_count": 26,
   "id": "ab0afb64",
   "metadata": {},
   "outputs": [
    {
     "name": "stdout",
     "output_type": "stream",
     "text": [
      "29/29 - 0s - loss: 0.1932 - Accuracy: 0.9367 - recall: 0.9563 - precision: 0.9431\n"
     ]
    },
    {
     "data": {
      "text/plain": [
       "[0.19315281510353088,\n",
       " 0.9366812109947205,\n",
       " 0.9562937021255493,\n",
       " 0.9431034326553345]"
      ]
     },
     "execution_count": 26,
     "metadata": {},
     "output_type": "execute_result"
    }
   ],
   "source": [
    "# evaluate model\n",
    "model_nn1.evaluate(X_test_sc, y_test, verbose=2)"
   ]
  },
  {
   "cell_type": "code",
   "execution_count": 27,
   "id": "051528a7",
   "metadata": {},
   "outputs": [
    {
     "data": {
      "text/plain": [
       "array([[0.7275185 ],\n",
       "       [0.7263742 ],\n",
       "       [0.00120929],\n",
       "       [0.9989493 ],\n",
       "       [0.47994626],\n",
       "       [0.98545134],\n",
       "       [0.9997022 ],\n",
       "       [0.9999677 ],\n",
       "       [0.01875579],\n",
       "       [0.99897414]], dtype=float32)"
      ]
     },
     "execution_count": 27,
     "metadata": {},
     "output_type": "execute_result"
    }
   ],
   "source": [
    "# make predictions\n",
    "y_pred_nn1=model_nn1.predict(X_test_sc)\n",
    "y_pred_nn1[:10]"
   ]
  },
  {
   "cell_type": "code",
   "execution_count": 28,
   "id": "f3b00a26",
   "metadata": {},
   "outputs": [
    {
     "data": {
      "text/plain": [
       "array([[1.],\n",
       "       [1.],\n",
       "       [0.],\n",
       "       [1.],\n",
       "       [0.],\n",
       "       [1.],\n",
       "       [1.],\n",
       "       [1.],\n",
       "       [0.],\n",
       "       [1.]], dtype=float32)"
      ]
     },
     "execution_count": 28,
     "metadata": {},
     "output_type": "execute_result"
    }
   ],
   "source": [
    "# round predicted values\n",
    "y_pred_nn1 =y_pred_nn1.round()\n",
    "y_pred_nn1[:10]"
   ]
  },
  {
   "cell_type": "code",
   "execution_count": 29,
   "id": "89dbc1f3",
   "metadata": {},
   "outputs": [
    {
     "data": {
      "text/plain": [
       "<tf.Tensor: shape=(2, 2), dtype=int32, numpy=\n",
       "array([[311,  33],\n",
       "       [ 25, 547]], dtype=int32)>"
      ]
     },
     "execution_count": 29,
     "metadata": {},
     "output_type": "execute_result"
    }
   ],
   "source": [
    "# confusion matrix using Tensorflow\n",
    "tf.math.confusion_matrix(\n",
    "    y_test, y_pred_nn1\n",
    ")"
   ]
  },
  {
   "cell_type": "code",
   "execution_count": 30,
   "id": "c2e2d9e7",
   "metadata": {
    "scrolled": true
   },
   "outputs": [
    {
     "name": "stdout",
     "output_type": "stream",
     "text": [
      "              precision    recall  f1-score   support\n",
      "\n",
      "           0       0.93      0.90      0.91       344\n",
      "           1       0.94      0.96      0.95       572\n",
      "\n",
      "    accuracy                           0.94       916\n",
      "   macro avg       0.93      0.93      0.93       916\n",
      "weighted avg       0.94      0.94      0.94       916\n",
      "\n"
     ]
    }
   ],
   "source": [
    "# classification report\n",
    "print(classification_report(y_test, y_pred_nn1))"
   ]
  },
  {
   "cell_type": "markdown",
   "id": "b0a11c7a",
   "metadata": {},
   "source": [
    "On test data: \n",
    "- accuracy: 0.9108 \n",
    "- recall: 0.8667 \n",
    "- precision: 0.8925\n",
    "\n",
    "On train data:\n",
    "- accuracy: 0.9373 \n",
    "- recall: 0.8888 \n",
    "- precision: 0.9406\n",
    "\n",
    "This model has an accuracy of 91% which improved the null model accuracy of 62%.  "
   ]
  },
  {
   "cell_type": "code",
   "execution_count": 31,
   "id": "6c404ef0",
   "metadata": {},
   "outputs": [
    {
     "name": "stdout",
     "output_type": "stream",
     "text": [
      "Accuracy: 0.9366812227074236\n",
      "Recall: 0.9562937062937062\n",
      "Precision: 0.9431034482758621\n",
      "Specificity: 0.9040697674418605\n"
     ]
    }
   ],
   "source": [
    "# save confusion matrix values\n",
    "tn, fp, fn, tp = confusion_matrix(y_test, y_pred_nn1).ravel()\n",
    "# metrics\n",
    "accu = (tp+tn) / (tp+tn+fp+fn)\n",
    "recall = tp/(tp+fn)\n",
    "prec = tp/ (tp+fp)\n",
    "spec= tn/(tn+fp)\n",
    "\n",
    "print('Accuracy:', accu)\n",
    "print('Recall:', recall)\n",
    "print('Precision:', prec)\n",
    "print('Specificity:', spec)"
   ]
  },
  {
   "cell_type": "markdown",
   "id": "c022dfdb",
   "metadata": {},
   "source": [
    "### 3. Neural Net Classification - 2 hidden layers & dropout"
   ]
  },
  {
   "cell_type": "code",
   "execution_count": 32,
   "id": "c370b0af",
   "metadata": {},
   "outputs": [],
   "source": [
    "X_train, X_test, y_train, y_test = train_test_split(X, y, stratify=y, random_state=42)"
   ]
  },
  {
   "cell_type": "code",
   "execution_count": 33,
   "id": "84a603a3",
   "metadata": {},
   "outputs": [],
   "source": [
    "# scale data\n",
    "sc = StandardScaler()\n",
    "X_train_sc = sc.fit_transform(X_train)\n",
    "X_test_sc = sc.transform(X_test)"
   ]
  },
  {
   "cell_type": "code",
   "execution_count": 34,
   "id": "496637e6",
   "metadata": {},
   "outputs": [],
   "source": [
    "model_nn2 = Sequential()"
   ]
  },
  {
   "cell_type": "code",
   "execution_count": 35,
   "id": "c31f42b7",
   "metadata": {},
   "outputs": [],
   "source": [
    "# create model\n",
    "model_nn2.add(Dense(32, input_shape=(X_train_sc.shape[1],), activation='relu'))\n",
    "model_nn2.add(Dropout(0.2))\n",
    "model_nn2.add(Dense(10, activation='relu'))\n",
    "model_nn2.add(Dropout(0.2))\n",
    "model_nn2.add(Dense(1, activation='sigmoid'))"
   ]
  },
  {
   "cell_type": "code",
   "execution_count": 36,
   "id": "28b2737c",
   "metadata": {},
   "outputs": [],
   "source": [
    "# compile model\n",
    "model_nn2.compile(loss='bce', optimizer ='adam', metrics = ['Accuracy', 'Recall', 'Precision'])"
   ]
  },
  {
   "cell_type": "code",
   "execution_count": 37,
   "id": "40907c9a",
   "metadata": {},
   "outputs": [],
   "source": [
    "# fit model\n",
    "history_2 = model_nn2.fit(\n",
    "    X_train_sc,\n",
    "    y_train,\n",
    "    validation_data=(X_test_sc, y_test),\n",
    "    epochs=100,\n",
    "    verbose=0\n",
    ")"
   ]
  },
  {
   "cell_type": "code",
   "execution_count": 38,
   "id": "e9195847",
   "metadata": {
    "scrolled": false
   },
   "outputs": [
    {
     "data": {
      "text/html": [
       "<div>\n",
       "<style scoped>\n",
       "    .dataframe tbody tr th:only-of-type {\n",
       "        vertical-align: middle;\n",
       "    }\n",
       "\n",
       "    .dataframe tbody tr th {\n",
       "        vertical-align: top;\n",
       "    }\n",
       "\n",
       "    .dataframe thead th {\n",
       "        text-align: right;\n",
       "    }\n",
       "</style>\n",
       "<table border=\"1\" class=\"dataframe\">\n",
       "  <thead>\n",
       "    <tr style=\"text-align: right;\">\n",
       "      <th></th>\n",
       "      <th>loss</th>\n",
       "      <th>Accuracy</th>\n",
       "      <th>recall</th>\n",
       "      <th>precision</th>\n",
       "      <th>val_loss</th>\n",
       "      <th>val_Accuracy</th>\n",
       "      <th>val_recall</th>\n",
       "      <th>val_precision</th>\n",
       "    </tr>\n",
       "  </thead>\n",
       "  <tbody>\n",
       "    <tr>\n",
       "      <th>0</th>\n",
       "      <td>0.695043</td>\n",
       "      <td>0.586094</td>\n",
       "      <td>0.606997</td>\n",
       "      <td>0.692154</td>\n",
       "      <td>0.579397</td>\n",
       "      <td>0.751092</td>\n",
       "      <td>0.903846</td>\n",
       "      <td>0.749275</td>\n",
       "    </tr>\n",
       "    <tr>\n",
       "      <th>1</th>\n",
       "      <td>0.494738</td>\n",
       "      <td>0.783764</td>\n",
       "      <td>0.916035</td>\n",
       "      <td>0.777338</td>\n",
       "      <td>0.380851</td>\n",
       "      <td>0.852620</td>\n",
       "      <td>0.972028</td>\n",
       "      <td>0.823704</td>\n",
       "    </tr>\n",
       "    <tr>\n",
       "      <th>2</th>\n",
       "      <td>0.340514</td>\n",
       "      <td>0.856935</td>\n",
       "      <td>0.940525</td>\n",
       "      <td>0.847164</td>\n",
       "      <td>0.270758</td>\n",
       "      <td>0.901747</td>\n",
       "      <td>0.965035</td>\n",
       "      <td>0.887460</td>\n",
       "    </tr>\n",
       "    <tr>\n",
       "      <th>3</th>\n",
       "      <td>0.269882</td>\n",
       "      <td>0.898071</td>\n",
       "      <td>0.934111</td>\n",
       "      <td>0.905596</td>\n",
       "      <td>0.231794</td>\n",
       "      <td>0.919214</td>\n",
       "      <td>0.965035</td>\n",
       "      <td>0.910891</td>\n",
       "    </tr>\n",
       "    <tr>\n",
       "      <th>4</th>\n",
       "      <td>0.236185</td>\n",
       "      <td>0.912632</td>\n",
       "      <td>0.949854</td>\n",
       "      <td>0.913629</td>\n",
       "      <td>0.216868</td>\n",
       "      <td>0.930131</td>\n",
       "      <td>0.968531</td>\n",
       "      <td>0.923333</td>\n",
       "    </tr>\n",
       "  </tbody>\n",
       "</table>\n",
       "</div>"
      ],
      "text/plain": [
       "       loss  Accuracy    recall  precision  val_loss  val_Accuracy  \\\n",
       "0  0.695043  0.586094  0.606997   0.692154  0.579397      0.751092   \n",
       "1  0.494738  0.783764  0.916035   0.777338  0.380851      0.852620   \n",
       "2  0.340514  0.856935  0.940525   0.847164  0.270758      0.901747   \n",
       "3  0.269882  0.898071  0.934111   0.905596  0.231794      0.919214   \n",
       "4  0.236185  0.912632  0.949854   0.913629  0.216868      0.930131   \n",
       "\n",
       "   val_recall  val_precision  \n",
       "0    0.903846       0.749275  \n",
       "1    0.972028       0.823704  \n",
       "2    0.965035       0.887460  \n",
       "3    0.965035       0.910891  \n",
       "4    0.968531       0.923333  "
      ]
     },
     "execution_count": 38,
     "metadata": {},
     "output_type": "execute_result"
    }
   ],
   "source": [
    "# save history into a df\n",
    "history_2_df = pd.DataFrame(history_2.history)\n",
    "history_2_df.head()"
   ]
  },
  {
   "cell_type": "code",
   "execution_count": 89,
   "id": "a281e3f4",
   "metadata": {
    "scrolled": true
   },
   "outputs": [
    {
     "data": {
      "text/html": [
       "<div>\n",
       "<style scoped>\n",
       "    .dataframe tbody tr th:only-of-type {\n",
       "        vertical-align: middle;\n",
       "    }\n",
       "\n",
       "    .dataframe tbody tr th {\n",
       "        vertical-align: top;\n",
       "    }\n",
       "\n",
       "    .dataframe thead th {\n",
       "        text-align: right;\n",
       "    }\n",
       "</style>\n",
       "<table border=\"1\" class=\"dataframe\">\n",
       "  <thead>\n",
       "    <tr style=\"text-align: right;\">\n",
       "      <th></th>\n",
       "      <th>loss</th>\n",
       "      <th>Accuracy</th>\n",
       "      <th>recall</th>\n",
       "      <th>precision</th>\n",
       "      <th>val_loss</th>\n",
       "      <th>val_Accuracy</th>\n",
       "      <th>val_recall</th>\n",
       "      <th>val_precision</th>\n",
       "    </tr>\n",
       "  </thead>\n",
       "  <tbody>\n",
       "    <tr>\n",
       "      <th>95</th>\n",
       "      <td>0.059734</td>\n",
       "      <td>0.976338</td>\n",
       "      <td>0.988338</td>\n",
       "      <td>0.974138</td>\n",
       "      <td>0.448882</td>\n",
       "      <td>0.920306</td>\n",
       "      <td>0.944056</td>\n",
       "      <td>0.929432</td>\n",
       "    </tr>\n",
       "    <tr>\n",
       "      <th>96</th>\n",
       "      <td>0.061088</td>\n",
       "      <td>0.976338</td>\n",
       "      <td>0.988338</td>\n",
       "      <td>0.974138</td>\n",
       "      <td>0.441763</td>\n",
       "      <td>0.925764</td>\n",
       "      <td>0.951049</td>\n",
       "      <td>0.931507</td>\n",
       "    </tr>\n",
       "    <tr>\n",
       "      <th>97</th>\n",
       "      <td>0.051512</td>\n",
       "      <td>0.979978</td>\n",
       "      <td>0.990671</td>\n",
       "      <td>0.977560</td>\n",
       "      <td>0.458130</td>\n",
       "      <td>0.923581</td>\n",
       "      <td>0.949301</td>\n",
       "      <td>0.929795</td>\n",
       "    </tr>\n",
       "    <tr>\n",
       "      <th>98</th>\n",
       "      <td>0.063418</td>\n",
       "      <td>0.977794</td>\n",
       "      <td>0.990087</td>\n",
       "      <td>0.974742</td>\n",
       "      <td>0.448169</td>\n",
       "      <td>0.924672</td>\n",
       "      <td>0.951049</td>\n",
       "      <td>0.929915</td>\n",
       "    </tr>\n",
       "    <tr>\n",
       "      <th>99</th>\n",
       "      <td>0.056012</td>\n",
       "      <td>0.977066</td>\n",
       "      <td>0.991837</td>\n",
       "      <td>0.972000</td>\n",
       "      <td>0.458204</td>\n",
       "      <td>0.921397</td>\n",
       "      <td>0.945804</td>\n",
       "      <td>0.929553</td>\n",
       "    </tr>\n",
       "  </tbody>\n",
       "</table>\n",
       "</div>"
      ],
      "text/plain": [
       "        loss  Accuracy    recall  precision  val_loss  val_Accuracy  \\\n",
       "95  0.059734  0.976338  0.988338   0.974138  0.448882      0.920306   \n",
       "96  0.061088  0.976338  0.988338   0.974138  0.441763      0.925764   \n",
       "97  0.051512  0.979978  0.990671   0.977560  0.458130      0.923581   \n",
       "98  0.063418  0.977794  0.990087   0.974742  0.448169      0.924672   \n",
       "99  0.056012  0.977066  0.991837   0.972000  0.458204      0.921397   \n",
       "\n",
       "    val_recall  val_precision  \n",
       "95    0.944056       0.929432  \n",
       "96    0.951049       0.931507  \n",
       "97    0.949301       0.929795  \n",
       "98    0.951049       0.929915  \n",
       "99    0.945804       0.929553  "
      ]
     },
     "execution_count": 89,
     "metadata": {},
     "output_type": "execute_result"
    }
   ],
   "source": [
    "history_2_df.tail()"
   ]
  },
  {
   "cell_type": "code",
   "execution_count": 40,
   "id": "b9676a17",
   "metadata": {},
   "outputs": [
    {
     "data": {
      "image/png": "[encoded data removed]",
      "text/plain": [
       "<Figure size 1440x504 with 3 Axes>"
      ]
     },
     "metadata": {
      "needs_background": "light"
     },
     "output_type": "display_data"
    }
   ],
   "source": [
    "# subplots of accuracy, precision and recall\n",
    "fig, (ax1, ax2, ax3) = plt.subplots(nrows = 1, ncols=3, figsize = (20, 7))\n",
    "fig.suptitle('Accuracy, Precision and Recall Plot of Neural Net Model')\n",
    "\n",
    "# axis 1 - accuracy\n",
    "ax1.plot(history_2_df[\"val_Accuracy\"], label='Validation Accuracy', color='green')\n",
    "ax1.plot(history_2_df[\"Accuracy\"], label='Training Accuracy', color='orange')\n",
    "ax1.legend(loc=\"upper left\")\n",
    "# axis 2 - precision\n",
    "ax2.plot(history_2_df['val_precision'], label='Validation Precision', color='green')\n",
    "ax2.plot(history_2_df['precision'], label='Training Precision', color='orange')\n",
    "ax2.legend(loc=\"upper left\")\n",
    "# axis3 - recall\n",
    "ax3.plot(history_2_df['val_recall'], label='Validation Recall', color='green')\n",
    "ax3.plot(history_2_df['recall'], label='Training Recall', color='orange')\n",
    "ax3.legend(loc=\"upper right\")\n",
    "\n",
    "plt.legend();"
   ]
  },
  {
   "cell_type": "code",
   "execution_count": 41,
   "id": "021d4b33",
   "metadata": {
    "scrolled": true
   },
   "outputs": [
    {
     "name": "stdout",
     "output_type": "stream",
     "text": [
      "29/29 - 0s - loss: 0.4582 - Accuracy: 0.9214 - recall: 0.9458 - precision: 0.9296\n"
     ]
    },
    {
     "data": {
      "text/plain": [
       "[0.45820382237434387,\n",
       " 0.9213973879814148,\n",
       " 0.9458041787147522,\n",
       " 0.9295532703399658]"
      ]
     },
     "execution_count": 41,
     "metadata": {},
     "output_type": "execute_result"
    }
   ],
   "source": [
    "# evaluate model\n",
    "model_nn2.evaluate(X_test_sc, y_test, verbose=2)"
   ]
  },
  {
   "cell_type": "code",
   "execution_count": 42,
   "id": "021dab1b",
   "metadata": {},
   "outputs": [
    {
     "data": {
      "text/plain": [
       "array([[9.1722512e-01],\n",
       "       [6.1837494e-01],\n",
       "       [1.0368365e-16],\n",
       "       [9.9987257e-01],\n",
       "       [5.8383244e-01],\n",
       "       [9.9651933e-01],\n",
       "       [1.0000000e+00],\n",
       "       [1.0000000e+00],\n",
       "       [6.9377537e-10],\n",
       "       [1.0000000e+00]], dtype=float32)"
      ]
     },
     "execution_count": 42,
     "metadata": {},
     "output_type": "execute_result"
    }
   ],
   "source": [
    "# make predictions\n",
    "y_pred_nn2=model_nn2.predict(X_test_sc)\n",
    "y_pred_nn2[:10]"
   ]
  },
  {
   "cell_type": "code",
   "execution_count": 43,
   "id": "b80abc64",
   "metadata": {},
   "outputs": [
    {
     "data": {
      "text/plain": [
       "array([[1.],\n",
       "       [1.],\n",
       "       [0.],\n",
       "       [1.],\n",
       "       [1.],\n",
       "       [1.],\n",
       "       [1.],\n",
       "       [1.],\n",
       "       [0.],\n",
       "       [1.]], dtype=float32)"
      ]
     },
     "execution_count": 43,
     "metadata": {},
     "output_type": "execute_result"
    }
   ],
   "source": [
    "# round predicted values\n",
    "y_pred_nn2 =y_pred_nn2.round()\n",
    "y_pred_nn2[:10]"
   ]
  },
  {
   "cell_type": "code",
   "execution_count": 44,
   "id": "7453d3e2",
   "metadata": {},
   "outputs": [
    {
     "data": {
      "text/plain": [
       "<tf.Tensor: shape=(2, 2), dtype=int32, numpy=\n",
       "array([[303,  41],\n",
       "       [ 31, 541]], dtype=int32)>"
      ]
     },
     "execution_count": 44,
     "metadata": {},
     "output_type": "execute_result"
    }
   ],
   "source": [
    "# confusion matrix using Tensorflow\n",
    "tf.math.confusion_matrix(\n",
    "    y_test, y_pred_nn2\n",
    ")"
   ]
  },
  {
   "cell_type": "code",
   "execution_count": 45,
   "id": "a8aa384c",
   "metadata": {
    "scrolled": true
   },
   "outputs": [
    {
     "name": "stdout",
     "output_type": "stream",
     "text": [
      "              precision    recall  f1-score   support\n",
      "\n",
      "           0       0.91      0.88      0.89       344\n",
      "           1       0.93      0.95      0.94       572\n",
      "\n",
      "    accuracy                           0.92       916\n",
      "   macro avg       0.92      0.91      0.92       916\n",
      "weighted avg       0.92      0.92      0.92       916\n",
      "\n"
     ]
    }
   ],
   "source": [
    "# classification report\n",
    "print(classification_report(y_test, y_pred_nn2))"
   ]
  },
  {
   "cell_type": "code",
   "execution_count": 83,
   "id": "f172cb6d",
   "metadata": {},
   "outputs": [
    {
     "name": "stdout",
     "output_type": "stream",
     "text": [
      "Accuracy: 0.9213973799126638\n",
      "Recall: 0.9458041958041958\n",
      "Precision: 0.929553264604811\n",
      "Specificity: 0.8808139534883721\n"
     ]
    }
   ],
   "source": [
    "# save confusion matrix values\n",
    "tn, fp, fn, tp = confusion_matrix(y_test, y_pred_nn2).ravel()\n",
    "# metrics\n",
    "accu = (tp+tn) / (tp+tn+fp+fn)\n",
    "recall = tp/(tp+fn)\n",
    "prec = tp/ (tp+fp)\n",
    "spec= tn/(tn+fp)\n",
    "\n",
    "print('Accuracy:', accu)\n",
    "print('Recall:', recall)\n",
    "print('Precision:', prec)\n",
    "print('Specificity:', spec)"
   ]
  },
  {
   "cell_type": "markdown",
   "id": "8c6bb09c",
   "metadata": {},
   "source": [
    "### 4. Neural Net Classification - Early stopping & dropout"
   ]
  },
  {
   "cell_type": "code",
   "execution_count": 46,
   "id": "cdf727d7",
   "metadata": {},
   "outputs": [],
   "source": [
    "X_train, X_test, y_train, y_test = train_test_split(X, y, stratify=y, random_state=42)"
   ]
  },
  {
   "cell_type": "code",
   "execution_count": 47,
   "id": "7590e665",
   "metadata": {},
   "outputs": [],
   "source": [
    "# scale data\n",
    "sc = StandardScaler()\n",
    "X_train_sc = sc.fit_transform(X_train)\n",
    "X_test_sc = sc.transform(X_test)"
   ]
  },
  {
   "cell_type": "code",
   "execution_count": 48,
   "id": "8d38af4f",
   "metadata": {},
   "outputs": [],
   "source": [
    "model_nn3 = Sequential()"
   ]
  },
  {
   "cell_type": "code",
   "execution_count": 49,
   "id": "0818abc7",
   "metadata": {},
   "outputs": [],
   "source": [
    "# create model\n",
    "model_nn3.add(Dense(32, input_shape=(X_train_sc.shape[1],), activation='relu'))\n",
    "model_nn3.add(Dropout(0.1))\n",
    "model_nn3.add(Dense(32, activation='relu'))\n",
    "\n",
    "# model_nn3.add(Dropout(0.1))\n",
    "# model_nn3.add(Dense(32, activation='relu'))\n",
    "\n",
    "model_nn3.add(Dense(1, activation='sigmoid'))\n",
    "\n",
    "# 'dropout': 0.1, 'epochs': 10, 'hidden_layers': 2, 'hidden_neurons': 32"
   ]
  },
  {
   "cell_type": "code",
   "execution_count": 50,
   "id": "b44c5697",
   "metadata": {},
   "outputs": [],
   "source": [
    "early_stop = EarlyStopping(monitor='val_loss', patience=5, verbose=1)"
   ]
  },
  {
   "cell_type": "code",
   "execution_count": 51,
   "id": "cb258575",
   "metadata": {},
   "outputs": [],
   "source": [
    "# compile model\n",
    "model_nn3.compile(loss='bce', optimizer ='adam', metrics = ['Accuracy', 'Recall', 'Precision'])"
   ]
  },
  {
   "cell_type": "code",
   "execution_count": 52,
   "id": "59378eb0",
   "metadata": {},
   "outputs": [
    {
     "name": "stdout",
     "output_type": "stream",
     "text": [
      "Epoch 00014: early stopping\n"
     ]
    }
   ],
   "source": [
    "# fit model\n",
    "history_3 = model_nn3.fit(\n",
    "    X_train_sc,\n",
    "    y_train,\n",
    "    validation_data=(X_test_sc, y_test),\n",
    "    epochs=100,\n",
    "    callbacks=early_stop,\n",
    "    verbose=0\n",
    ")"
   ]
  },
  {
   "cell_type": "code",
   "execution_count": 53,
   "id": "3a6886e3",
   "metadata": {
    "scrolled": false
   },
   "outputs": [
    {
     "data": {
      "text/html": [
       "<div>\n",
       "<style scoped>\n",
       "    .dataframe tbody tr th:only-of-type {\n",
       "        vertical-align: middle;\n",
       "    }\n",
       "\n",
       "    .dataframe tbody tr th {\n",
       "        vertical-align: top;\n",
       "    }\n",
       "\n",
       "    .dataframe thead th {\n",
       "        text-align: right;\n",
       "    }\n",
       "</style>\n",
       "<table border=\"1\" class=\"dataframe\">\n",
       "  <thead>\n",
       "    <tr style=\"text-align: right;\">\n",
       "      <th></th>\n",
       "      <th>loss</th>\n",
       "      <th>Accuracy</th>\n",
       "      <th>recall</th>\n",
       "      <th>precision</th>\n",
       "      <th>val_loss</th>\n",
       "      <th>val_Accuracy</th>\n",
       "      <th>val_recall</th>\n",
       "      <th>val_precision</th>\n",
       "    </tr>\n",
       "  </thead>\n",
       "  <tbody>\n",
       "    <tr>\n",
       "      <th>0</th>\n",
       "      <td>0.491144</td>\n",
       "      <td>0.783764</td>\n",
       "      <td>0.929446</td>\n",
       "      <td>0.771166</td>\n",
       "      <td>0.369105</td>\n",
       "      <td>0.866812</td>\n",
       "      <td>0.951049</td>\n",
       "      <td>0.852665</td>\n",
       "    </tr>\n",
       "    <tr>\n",
       "      <th>1</th>\n",
       "      <td>0.277741</td>\n",
       "      <td>0.894066</td>\n",
       "      <td>0.941691</td>\n",
       "      <td>0.894241</td>\n",
       "      <td>0.260267</td>\n",
       "      <td>0.909389</td>\n",
       "      <td>0.959790</td>\n",
       "      <td>0.901478</td>\n",
       "    </tr>\n",
       "    <tr>\n",
       "      <th>2</th>\n",
       "      <td>0.200549</td>\n",
       "      <td>0.924645</td>\n",
       "      <td>0.956851</td>\n",
       "      <td>0.925028</td>\n",
       "      <td>0.230293</td>\n",
       "      <td>0.920306</td>\n",
       "      <td>0.956294</td>\n",
       "      <td>0.919328</td>\n",
       "    </tr>\n",
       "    <tr>\n",
       "      <th>3</th>\n",
       "      <td>0.178145</td>\n",
       "      <td>0.929377</td>\n",
       "      <td>0.954519</td>\n",
       "      <td>0.933828</td>\n",
       "      <td>0.220651</td>\n",
       "      <td>0.926856</td>\n",
       "      <td>0.961538</td>\n",
       "      <td>0.924370</td>\n",
       "    </tr>\n",
       "    <tr>\n",
       "      <th>4</th>\n",
       "      <td>0.170153</td>\n",
       "      <td>0.932654</td>\n",
       "      <td>0.961516</td>\n",
       "      <td>0.932692</td>\n",
       "      <td>0.216088</td>\n",
       "      <td>0.927948</td>\n",
       "      <td>0.945804</td>\n",
       "      <td>0.939236</td>\n",
       "    </tr>\n",
       "  </tbody>\n",
       "</table>\n",
       "</div>"
      ],
      "text/plain": [
       "       loss  Accuracy    recall  precision  val_loss  val_Accuracy  \\\n",
       "0  0.491144  0.783764  0.929446   0.771166  0.369105      0.866812   \n",
       "1  0.277741  0.894066  0.941691   0.894241  0.260267      0.909389   \n",
       "2  0.200549  0.924645  0.956851   0.925028  0.230293      0.920306   \n",
       "3  0.178145  0.929377  0.954519   0.933828  0.220651      0.926856   \n",
       "4  0.170153  0.932654  0.961516   0.932692  0.216088      0.927948   \n",
       "\n",
       "   val_recall  val_precision  \n",
       "0    0.951049       0.852665  \n",
       "1    0.959790       0.901478  \n",
       "2    0.956294       0.919328  \n",
       "3    0.961538       0.924370  \n",
       "4    0.945804       0.939236  "
      ]
     },
     "execution_count": 53,
     "metadata": {},
     "output_type": "execute_result"
    }
   ],
   "source": [
    "# save history into a df\n",
    "history_3_df = pd.DataFrame(history_3.history)\n",
    "history_3_df.head()"
   ]
  },
  {
   "cell_type": "code",
   "execution_count": 90,
   "id": "ea75c8b9",
   "metadata": {
    "scrolled": false
   },
   "outputs": [
    {
     "data": {
      "text/html": [
       "<div>\n",
       "<style scoped>\n",
       "    .dataframe tbody tr th:only-of-type {\n",
       "        vertical-align: middle;\n",
       "    }\n",
       "\n",
       "    .dataframe tbody tr th {\n",
       "        vertical-align: top;\n",
       "    }\n",
       "\n",
       "    .dataframe thead th {\n",
       "        text-align: right;\n",
       "    }\n",
       "</style>\n",
       "<table border=\"1\" class=\"dataframe\">\n",
       "  <thead>\n",
       "    <tr style=\"text-align: right;\">\n",
       "      <th></th>\n",
       "      <th>loss</th>\n",
       "      <th>Accuracy</th>\n",
       "      <th>recall</th>\n",
       "      <th>precision</th>\n",
       "      <th>val_loss</th>\n",
       "      <th>val_Accuracy</th>\n",
       "      <th>val_recall</th>\n",
       "      <th>val_precision</th>\n",
       "    </tr>\n",
       "  </thead>\n",
       "  <tbody>\n",
       "    <tr>\n",
       "      <th>9</th>\n",
       "      <td>0.131372</td>\n",
       "      <td>0.945759</td>\n",
       "      <td>0.964431</td>\n",
       "      <td>0.949483</td>\n",
       "      <td>0.216165</td>\n",
       "      <td>0.933406</td>\n",
       "      <td>0.954545</td>\n",
       "      <td>0.939759</td>\n",
       "    </tr>\n",
       "    <tr>\n",
       "      <th>10</th>\n",
       "      <td>0.127646</td>\n",
       "      <td>0.948671</td>\n",
       "      <td>0.965598</td>\n",
       "      <td>0.952819</td>\n",
       "      <td>0.219980</td>\n",
       "      <td>0.933406</td>\n",
       "      <td>0.963287</td>\n",
       "      <td>0.932318</td>\n",
       "    </tr>\n",
       "    <tr>\n",
       "      <th>11</th>\n",
       "      <td>0.123806</td>\n",
       "      <td>0.952312</td>\n",
       "      <td>0.967930</td>\n",
       "      <td>0.956221</td>\n",
       "      <td>0.224082</td>\n",
       "      <td>0.932314</td>\n",
       "      <td>0.961538</td>\n",
       "      <td>0.932203</td>\n",
       "    </tr>\n",
       "    <tr>\n",
       "      <th>12</th>\n",
       "      <td>0.126045</td>\n",
       "      <td>0.951584</td>\n",
       "      <td>0.965598</td>\n",
       "      <td>0.957225</td>\n",
       "      <td>0.224389</td>\n",
       "      <td>0.932314</td>\n",
       "      <td>0.958042</td>\n",
       "      <td>0.935154</td>\n",
       "    </tr>\n",
       "    <tr>\n",
       "      <th>13</th>\n",
       "      <td>0.111631</td>\n",
       "      <td>0.957408</td>\n",
       "      <td>0.974927</td>\n",
       "      <td>0.957617</td>\n",
       "      <td>0.227275</td>\n",
       "      <td>0.927948</td>\n",
       "      <td>0.949301</td>\n",
       "      <td>0.936207</td>\n",
       "    </tr>\n",
       "  </tbody>\n",
       "</table>\n",
       "</div>"
      ],
      "text/plain": [
       "        loss  Accuracy    recall  precision  val_loss  val_Accuracy  \\\n",
       "9   0.131372  0.945759  0.964431   0.949483  0.216165      0.933406   \n",
       "10  0.127646  0.948671  0.965598   0.952819  0.219980      0.933406   \n",
       "11  0.123806  0.952312  0.967930   0.956221  0.224082      0.932314   \n",
       "12  0.126045  0.951584  0.965598   0.957225  0.224389      0.932314   \n",
       "13  0.111631  0.957408  0.974927   0.957617  0.227275      0.927948   \n",
       "\n",
       "    val_recall  val_precision  \n",
       "9     0.954545       0.939759  \n",
       "10    0.963287       0.932318  \n",
       "11    0.961538       0.932203  \n",
       "12    0.958042       0.935154  \n",
       "13    0.949301       0.936207  "
      ]
     },
     "execution_count": 90,
     "metadata": {},
     "output_type": "execute_result"
    }
   ],
   "source": [
    "history_3_df.tail()"
   ]
  },
  {
   "cell_type": "code",
   "execution_count": 55,
   "id": "75730dab",
   "metadata": {},
   "outputs": [
    {
     "data": {
      "image/png": "[encoded data removed]",
      "text/plain": [
       "<Figure size 1440x504 with 3 Axes>"
      ]
     },
     "metadata": {
      "needs_background": "light"
     },
     "output_type": "display_data"
    }
   ],
   "source": [
    "# subplots of accuracy, precision and recall\n",
    "fig, (ax1, ax2, ax3) = plt.subplots(nrows = 1, ncols=3, figsize = (20, 7))\n",
    "fig.suptitle('Accuracy, Precision, Recall')\n",
    "\n",
    "# axis 1 - accuracy\n",
    "ax1.plot(history_3_df[\"val_Accuracy\"], label='Validation Accuracy', color='green')\n",
    "ax1.plot(history_3_df[\"Accuracy\"], label='Training Accuracy', color='orange')\n",
    "ax1.legend(loc=\"upper left\")\n",
    "# axis 2 - precision\n",
    "ax2.plot(history_3_df['val_precision'], label='Validation Precision', color='green')\n",
    "ax2.plot(history_3_df['precision'], label='Training Precision', color='orange')\n",
    "ax2.legend(loc=\"upper left\")\n",
    "# axis3 - recall\n",
    "ax3.plot(history_3_df['val_recall'], label='Validation Recall', color='green')\n",
    "ax3.plot(history_3_df['recall'], label='Training Recall', color='orange')\n",
    "ax3.legend(loc=\"upper left\")\n",
    "\n",
    "plt.legend();"
   ]
  },
  {
   "cell_type": "code",
   "execution_count": 56,
   "id": "eefd2bb6",
   "metadata": {
    "scrolled": true
   },
   "outputs": [
    {
     "name": "stdout",
     "output_type": "stream",
     "text": [
      "29/29 - 0s - loss: 0.2273 - Accuracy: 0.9279 - recall: 0.9493 - precision: 0.9362\n"
     ]
    },
    {
     "data": {
      "text/plain": [
       "[0.2272750437259674,\n",
       " 0.9279475808143616,\n",
       " 0.9493007063865662,\n",
       " 0.9362068772315979]"
      ]
     },
     "execution_count": 56,
     "metadata": {},
     "output_type": "execute_result"
    }
   ],
   "source": [
    "# evaluate model\n",
    "model_nn3.evaluate(X_test_sc, y_test, verbose=2)"
   ]
  },
  {
   "cell_type": "code",
   "execution_count": 57,
   "id": "b702fcfa",
   "metadata": {},
   "outputs": [
    {
     "data": {
      "text/plain": [
       "array([[8.8372457e-01],\n",
       "       [6.5454471e-01],\n",
       "       [7.4390475e-05],\n",
       "       [9.9874723e-01],\n",
       "       [8.8221824e-01],\n",
       "       [9.7136867e-01],\n",
       "       [9.9980366e-01],\n",
       "       [9.9999851e-01],\n",
       "       [3.6582351e-04],\n",
       "       [9.9988329e-01]], dtype=float32)"
      ]
     },
     "execution_count": 57,
     "metadata": {},
     "output_type": "execute_result"
    }
   ],
   "source": [
    "# make predictions\n",
    "y_pred_nn3=model_nn3.predict(X_test_sc)\n",
    "y_pred_nn3[:10]"
   ]
  },
  {
   "cell_type": "code",
   "execution_count": 58,
   "id": "100acc32",
   "metadata": {},
   "outputs": [
    {
     "data": {
      "text/plain": [
       "array([[1.],\n",
       "       [1.],\n",
       "       [0.],\n",
       "       [1.],\n",
       "       [1.],\n",
       "       [1.],\n",
       "       [1.],\n",
       "       [1.],\n",
       "       [0.],\n",
       "       [1.]], dtype=float32)"
      ]
     },
     "execution_count": 58,
     "metadata": {},
     "output_type": "execute_result"
    }
   ],
   "source": [
    "# round predicted values\n",
    "y_pred_nn3 =y_pred_nn3.round()\n",
    "y_pred_nn3[:10]"
   ]
  },
  {
   "cell_type": "code",
   "execution_count": 59,
   "id": "91b67a49",
   "metadata": {},
   "outputs": [
    {
     "data": {
      "text/plain": [
       "<tf.Tensor: shape=(2, 2), dtype=int32, numpy=\n",
       "array([[307,  37],\n",
       "       [ 29, 543]], dtype=int32)>"
      ]
     },
     "execution_count": 59,
     "metadata": {},
     "output_type": "execute_result"
    }
   ],
   "source": [
    "# confusion matrix using Tensorflow\n",
    "tf.math.confusion_matrix(\n",
    "    y_test, y_pred_nn3\n",
    ")"
   ]
  },
  {
   "cell_type": "code",
   "execution_count": 60,
   "id": "db511c9a",
   "metadata": {
    "scrolled": false
   },
   "outputs": [
    {
     "name": "stdout",
     "output_type": "stream",
     "text": [
      "              precision    recall  f1-score   support\n",
      "\n",
      "           0       0.91      0.89      0.90       344\n",
      "           1       0.94      0.95      0.94       572\n",
      "\n",
      "    accuracy                           0.93       916\n",
      "   macro avg       0.92      0.92      0.92       916\n",
      "weighted avg       0.93      0.93      0.93       916\n",
      "\n"
     ]
    }
   ],
   "source": [
    "# classification report\n",
    "print(classification_report(y_test, y_pred_nn3))"
   ]
  },
  {
   "cell_type": "code",
   "execution_count": 84,
   "id": "5bb44a1d",
   "metadata": {},
   "outputs": [
    {
     "name": "stdout",
     "output_type": "stream",
     "text": [
      "Accuracy: 0.9279475982532751\n",
      "Recall: 0.9493006993006993\n",
      "Precision: 0.9362068965517242\n",
      "Specificity: 0.8924418604651163\n"
     ]
    }
   ],
   "source": [
    "# save confusion matrix values\n",
    "tn, fp, fn, tp = confusion_matrix(y_test, y_pred_nn3).ravel()\n",
    "# metrics\n",
    "accu = (tp+tn) / (tp+tn+fp+fn)\n",
    "recall = tp/(tp+fn)\n",
    "prec = tp/ (tp+fp)\n",
    "spec= tn/(tn+fp)\n",
    "\n",
    "print('Accuracy:', accu)\n",
    "print('Recall:', recall)\n",
    "print('Precision:', prec)\n",
    "print('Specificity:', spec)"
   ]
  },
  {
   "cell_type": "markdown",
   "id": "a6270685",
   "metadata": {},
   "source": [
    "5. Neural net"
   ]
  },
  {
   "cell_type": "code",
   "execution_count": 61,
   "id": "cb48b017",
   "metadata": {},
   "outputs": [],
   "source": [
    "X_train, X_test, y_train, y_test = train_test_split(X, y, stratify=y, random_state=42)"
   ]
  },
  {
   "cell_type": "code",
   "execution_count": 62,
   "id": "4294a5d1",
   "metadata": {},
   "outputs": [],
   "source": [
    "# scale data\n",
    "sc = StandardScaler()\n",
    "X_train_sc = sc.fit_transform(X_train)\n",
    "X_test_sc = sc.transform(X_test)"
   ]
  },
  {
   "cell_type": "code",
   "execution_count": 63,
   "id": "14f3f18b",
   "metadata": {},
   "outputs": [],
   "source": [
    "model_nn5 = Sequential()"
   ]
  },
  {
   "cell_type": "code",
   "execution_count": 64,
   "id": "3e040be9",
   "metadata": {},
   "outputs": [],
   "source": [
    "# create model\n",
    "model_nn5.add(Dense(32, input_shape=(51,), activation='relu'))\n",
    "model_nn5.add(Dense(32, activation='relu'))\n",
    "\n",
    "# model_nn3.add(Dropout(0.1))\n",
    "# model_nn3.add(Dense(32, activation='relu'))\n",
    "\n",
    "model_nn5.add(Dense(1, activation='sigmoid'))\n",
    "\n",
    "# 'dropout': 0.1, 'epochs': 10, 'hidden_layers': 2, 'hidden_neurons': 32"
   ]
  },
  {
   "cell_type": "code",
   "execution_count": 65,
   "id": "22be6e8d",
   "metadata": {},
   "outputs": [],
   "source": [
    "# compile model\n",
    "model_nn5.compile(loss='bce', optimizer ='adam', metrics = ['Accuracy', 'Recall', 'Precision'])"
   ]
  },
  {
   "cell_type": "code",
   "execution_count": 66,
   "id": "1ee5fdea",
   "metadata": {},
   "outputs": [],
   "source": [
    "# fit model\n",
    "history_5 = model_nn5.fit(\n",
    "    X_train_sc,\n",
    "    y_train,\n",
    "    validation_data=(X_test_sc, y_test),\n",
    "    epochs=200,\n",
    "    verbose=0\n",
    ")"
   ]
  },
  {
   "cell_type": "code",
   "execution_count": 67,
   "id": "6cb3ebea",
   "metadata": {
    "scrolled": false
   },
   "outputs": [
    {
     "data": {
      "text/html": [
       "<div>\n",
       "<style scoped>\n",
       "    .dataframe tbody tr th:only-of-type {\n",
       "        vertical-align: middle;\n",
       "    }\n",
       "\n",
       "    .dataframe tbody tr th {\n",
       "        vertical-align: top;\n",
       "    }\n",
       "\n",
       "    .dataframe thead th {\n",
       "        text-align: right;\n",
       "    }\n",
       "</style>\n",
       "<table border=\"1\" class=\"dataframe\">\n",
       "  <thead>\n",
       "    <tr style=\"text-align: right;\">\n",
       "      <th></th>\n",
       "      <th>loss</th>\n",
       "      <th>Accuracy</th>\n",
       "      <th>recall</th>\n",
       "      <th>precision</th>\n",
       "      <th>val_loss</th>\n",
       "      <th>val_Accuracy</th>\n",
       "      <th>val_recall</th>\n",
       "      <th>val_precision</th>\n",
       "    </tr>\n",
       "  </thead>\n",
       "  <tbody>\n",
       "    <tr>\n",
       "      <th>0</th>\n",
       "      <td>0.497713</td>\n",
       "      <td>0.780852</td>\n",
       "      <td>0.907289</td>\n",
       "      <td>0.778389</td>\n",
       "      <td>0.342579</td>\n",
       "      <td>0.882096</td>\n",
       "      <td>0.940559</td>\n",
       "      <td>0.879085</td>\n",
       "    </tr>\n",
       "    <tr>\n",
       "      <th>1</th>\n",
       "      <td>0.254047</td>\n",
       "      <td>0.908628</td>\n",
       "      <td>0.943440</td>\n",
       "      <td>0.913093</td>\n",
       "      <td>0.250926</td>\n",
       "      <td>0.908297</td>\n",
       "      <td>0.959790</td>\n",
       "      <td>0.900000</td>\n",
       "    </tr>\n",
       "    <tr>\n",
       "      <th>2</th>\n",
       "      <td>0.192156</td>\n",
       "      <td>0.929742</td>\n",
       "      <td>0.957434</td>\n",
       "      <td>0.931896</td>\n",
       "      <td>0.226172</td>\n",
       "      <td>0.922489</td>\n",
       "      <td>0.952797</td>\n",
       "      <td>0.925297</td>\n",
       "    </tr>\n",
       "    <tr>\n",
       "      <th>3</th>\n",
       "      <td>0.169609</td>\n",
       "      <td>0.933746</td>\n",
       "      <td>0.952187</td>\n",
       "      <td>0.942297</td>\n",
       "      <td>0.220880</td>\n",
       "      <td>0.917031</td>\n",
       "      <td>0.945804</td>\n",
       "      <td>0.923208</td>\n",
       "    </tr>\n",
       "    <tr>\n",
       "      <th>4</th>\n",
       "      <td>0.155872</td>\n",
       "      <td>0.939206</td>\n",
       "      <td>0.963265</td>\n",
       "      <td>0.940775</td>\n",
       "      <td>0.218491</td>\n",
       "      <td>0.921397</td>\n",
       "      <td>0.933566</td>\n",
       "      <td>0.940141</td>\n",
       "    </tr>\n",
       "  </tbody>\n",
       "</table>\n",
       "</div>"
      ],
      "text/plain": [
       "       loss  Accuracy    recall  precision  val_loss  val_Accuracy  \\\n",
       "0  0.497713  0.780852  0.907289   0.778389  0.342579      0.882096   \n",
       "1  0.254047  0.908628  0.943440   0.913093  0.250926      0.908297   \n",
       "2  0.192156  0.929742  0.957434   0.931896  0.226172      0.922489   \n",
       "3  0.169609  0.933746  0.952187   0.942297  0.220880      0.917031   \n",
       "4  0.155872  0.939206  0.963265   0.940775  0.218491      0.921397   \n",
       "\n",
       "   val_recall  val_precision  \n",
       "0    0.940559       0.879085  \n",
       "1    0.959790       0.900000  \n",
       "2    0.952797       0.925297  \n",
       "3    0.945804       0.923208  \n",
       "4    0.933566       0.940141  "
      ]
     },
     "execution_count": 67,
     "metadata": {},
     "output_type": "execute_result"
    }
   ],
   "source": [
    "# save history into a df\n",
    "history_5_df = pd.DataFrame(history_5.history)\n",
    "history_5_df.head()"
   ]
  },
  {
   "cell_type": "code",
   "execution_count": 68,
   "id": "51eae0a7",
   "metadata": {
    "scrolled": false
   },
   "outputs": [
    {
     "data": {
      "text/plain": [
       "5      0.919214\n",
       "6      0.918122\n",
       "7      0.917031\n",
       "8      0.920306\n",
       "9      0.919214\n",
       "         ...   \n",
       "195    0.899563\n",
       "196    0.897380\n",
       "197    0.901747\n",
       "198    0.897380\n",
       "199    0.897380\n",
       "Name: val_Accuracy, Length: 195, dtype: float64"
      ]
     },
     "execution_count": 68,
     "metadata": {},
     "output_type": "execute_result"
    }
   ],
   "source": [
    "history_5_df['val_Accuracy'][5:]"
   ]
  },
  {
   "cell_type": "code",
   "execution_count": 69,
   "id": "a835b3a1",
   "metadata": {},
   "outputs": [
    {
     "data": {
      "image/png": "[encoded data removed]",
      "text/plain": [
       "<Figure size 1440x504 with 3 Axes>"
      ]
     },
     "metadata": {
      "needs_background": "light"
     },
     "output_type": "display_data"
    }
   ],
   "source": [
    "# subplots of accuracy, precision and recall\n",
    "fig, (ax1, ax2, ax3) = plt.subplots(nrows = 1, ncols=3, figsize = (20, 7))\n",
    "fig.suptitle('Accuracy, Precision, Recall')\n",
    "\n",
    "# axis 1 - accuracy\n",
    "ax1.plot(history_3_df[\"val_Accuracy\"], label='Validation Accuracy', color='green')\n",
    "ax1.plot(history_3_df[\"Accuracy\"], label='Training Accuracy', color='orange')\n",
    "ax1.legend(loc=\"upper left\")\n",
    "# axis 2 - precision\n",
    "ax2.plot(history_3_df['val_precision'], label='Validation Precision', color='green')\n",
    "ax2.plot(history_3_df['precision'], label='Training Precision', color='orange')\n",
    "ax2.legend(loc=\"upper left\")\n",
    "# axis3 - recall\n",
    "ax3.plot(history_3_df['val_recall'], label='Validation Recall', color='green')\n",
    "ax3.plot(history_3_df['recall'], label='Training Recall', color='orange')\n",
    "ax3.legend(loc=\"upper left\")\n",
    "\n",
    "plt.legend();"
   ]
  },
  {
   "cell_type": "code",
   "execution_count": 70,
   "id": "23630dd8",
   "metadata": {
    "scrolled": true
   },
   "outputs": [
    {
     "name": "stdout",
     "output_type": "stream",
     "text": [
      "29/29 - 0s - loss: 1.3800 - Accuracy: 0.8974 - recall: 0.9283 - precision: 0.9092\n"
     ]
    },
    {
     "data": {
      "text/plain": [
       "[1.3799924850463867, 0.8973799347877502, 0.9283216595649719, 0.909246563911438]"
      ]
     },
     "execution_count": 70,
     "metadata": {},
     "output_type": "execute_result"
    }
   ],
   "source": [
    "# evaluate model\n",
    "model_nn5.evaluate(X_test_sc, y_test, verbose=2)"
   ]
  },
  {
   "cell_type": "code",
   "execution_count": 71,
   "id": "fb3049f2",
   "metadata": {},
   "outputs": [
    {
     "data": {
      "text/plain": [
       "array([[9.9920452e-01],\n",
       "       [9.9992603e-01],\n",
       "       [1.6882291e-18],\n",
       "       [1.0000000e+00],\n",
       "       [8.0451369e-04],\n",
       "       [1.0000000e+00],\n",
       "       [1.0000000e+00],\n",
       "       [1.0000000e+00],\n",
       "       [7.9037433e-16],\n",
       "       [1.0000000e+00]], dtype=float32)"
      ]
     },
     "execution_count": 71,
     "metadata": {},
     "output_type": "execute_result"
    }
   ],
   "source": [
    "# make predictions\n",
    "y_pred_nn5=model_nn5.predict(X_test_sc)\n",
    "y_pred_nn5[:10]"
   ]
  },
  {
   "cell_type": "code",
   "execution_count": 72,
   "id": "8c6acd78",
   "metadata": {},
   "outputs": [
    {
     "data": {
      "text/plain": [
       "array([[1.],\n",
       "       [1.],\n",
       "       [0.],\n",
       "       [1.],\n",
       "       [0.],\n",
       "       [1.],\n",
       "       [1.],\n",
       "       [1.],\n",
       "       [0.],\n",
       "       [1.]], dtype=float32)"
      ]
     },
     "execution_count": 72,
     "metadata": {},
     "output_type": "execute_result"
    }
   ],
   "source": [
    "# round predicted values\n",
    "y_pred_nn5 =y_pred_nn5.round()\n",
    "y_pred_nn5[:10]"
   ]
  },
  {
   "cell_type": "code",
   "execution_count": 73,
   "id": "10ee6d51",
   "metadata": {},
   "outputs": [
    {
     "data": {
      "text/plain": [
       "<tf.Tensor: shape=(2, 2), dtype=int32, numpy=\n",
       "array([[307,  37],\n",
       "       [ 29, 543]], dtype=int32)>"
      ]
     },
     "execution_count": 73,
     "metadata": {},
     "output_type": "execute_result"
    }
   ],
   "source": [
    "# confusion matrix using Tensorflow\n",
    "tf.math.confusion_matrix(\n",
    "    y_test, y_pred_nn3\n",
    ")"
   ]
  },
  {
   "cell_type": "code",
   "execution_count": 74,
   "id": "06dda82e",
   "metadata": {
    "scrolled": false
   },
   "outputs": [
    {
     "name": "stdout",
     "output_type": "stream",
     "text": [
      "              precision    recall  f1-score   support\n",
      "\n",
      "           0       0.88      0.85      0.86       344\n",
      "           1       0.91      0.93      0.92       572\n",
      "\n",
      "    accuracy                           0.90       916\n",
      "   macro avg       0.89      0.89      0.89       916\n",
      "weighted avg       0.90      0.90      0.90       916\n",
      "\n"
     ]
    }
   ],
   "source": [
    "# classification report\n",
    "print(classification_report(y_test, y_pred_nn5))"
   ]
  },
  {
   "cell_type": "code",
   "execution_count": 85,
   "id": "685ca6c8",
   "metadata": {},
   "outputs": [
    {
     "name": "stdout",
     "output_type": "stream",
     "text": [
      "Accuracy: 0.8973799126637555\n",
      "Recall: 0.9283216783216783\n",
      "Precision: 0.9092465753424658\n",
      "Specificity: 0.8459302325581395\n"
     ]
    }
   ],
   "source": [
    "# save confusion matrix values\n",
    "tn, fp, fn, tp = confusion_matrix(y_test, y_pred_nn5).ravel()\n",
    "# metrics\n",
    "accu = (tp+tn) / (tp+tn+fp+fn)\n",
    "recall = tp/(tp+fn)\n",
    "prec = tp/ (tp+fp)\n",
    "spec= tn/(tn+fp)\n",
    "\n",
    "print('Accuracy:', accu)\n",
    "print('Recall:', recall)\n",
    "print('Precision:', prec)\n",
    "print('Specificity:', spec)"
   ]
  },
  {
   "cell_type": "markdown",
   "id": "4fae5cbb",
   "metadata": {},
   "source": [
    "### GridSearch with nn"
   ]
  },
  {
   "cell_type": "code",
   "execution_count": 75,
   "id": "0fbdc13c",
   "metadata": {},
   "outputs": [],
   "source": [
    "# X_train, X_test, y_train, y_test = train_test_split(X, y, random_state=42)"
   ]
  },
  {
   "cell_type": "code",
   "execution_count": 76,
   "id": "cfa5d0e7",
   "metadata": {},
   "outputs": [],
   "source": [
    "# X_train.shape"
   ]
  },
  {
   "cell_type": "code",
   "execution_count": 77,
   "id": "56ca9078",
   "metadata": {},
   "outputs": [],
   "source": [
    "# ss = StandardScaler()\n",
    "# X_train_sc = ss.fit_transform(X_train)\n",
    "# X_test_sc = ss.transform(X_test)"
   ]
  },
  {
   "cell_type": "code",
   "execution_count": 78,
   "id": "ead9cbbb",
   "metadata": {},
   "outputs": [],
   "source": [
    "# # Add an arugment of number of layers to the function (and loop through it) \n",
    "# def model_fn_deep(hidden_neurons, hidden_layers, dropout):\n",
    "#   model = Sequential()\n",
    "#   for layer in range(hidden_layers):\n",
    "#     if layer == 0:\n",
    "#       model.add(Dense(hidden_neurons, input_shape=(51,), activation='relu'))\n",
    "#       model.add(Dropout(dropout))\n",
    "#     else:\n",
    "#       model.add(Dense(hidden_neurons, activation='relu'))\n",
    "#       model.add(Dropout(dropout))\n",
    "\n",
    "#   model.add(Dense(1, activation='sigmoid'))\n",
    "\n",
    "#   model.compile(loss='bce', optimizer='adam', metrics =['Accuracy','Recall', 'Precision'])\n",
    "\n",
    "#   return model\n",
    "\n",
    "# nn_deep = KerasClassifier(build_fn=model_fn_deep, verbose=2)"
   ]
  },
  {
   "cell_type": "code",
   "execution_count": 79,
   "id": "3e529fec",
   "metadata": {},
   "outputs": [],
   "source": [
    "# nn_params_deep = {\n",
    "#     'hidden_neurons': [32, 64, 128],\n",
    "#     'hidden_layers': [2, 3],\n",
    "#     'dropout': [0.1, 0.2, 0.5],\n",
    "#     'epochs': [10, 20, 30]\n",
    "# }\n",
    "\n",
    "# gs_deep = GridSearchCV(nn_deep, param_grid=nn_params_deep, cv=3, n_jobs=-1)\n",
    "# gs_deep.fit(X_train_sc, y_train)\n",
    "# print(gs_deep.best_params_)\n",
    "# gs_deep.best_score_"
   ]
  },
  {
   "cell_type": "code",
   "execution_count": 80,
   "id": "7e69a548",
   "metadata": {},
   "outputs": [],
   "source": [
    "# # Make predictions \n",
    "# preds_deep = gs_deep.predict(X_test_sc)"
   ]
  },
  {
   "cell_type": "code",
   "execution_count": 81,
   "id": "60b9fe56",
   "metadata": {},
   "outputs": [],
   "source": [
    "# # confusion matrix using Tensorflow\n",
    "# tf.math.confusion_matrix(\n",
    "#     y_test, preds_deep\n",
    "# )"
   ]
  },
  {
   "cell_type": "code",
   "execution_count": 82,
   "id": "6d57e330",
   "metadata": {},
   "outputs": [],
   "source": [
    "# # classification report\n",
    "# print(classification_report(y_test, preds_deep))"
   ]
  }
 ],
 "metadata": {
  "kernelspec": {
   "display_name": "Python [conda env:dsi]",
   "language": "python",
   "name": "conda-env-dsi-py"
  },
  "language_info": {
   "codemirror_mode": {
    "name": "ipython",
    "version": 3
   },
   "file_extension": ".py",
   "mimetype": "text/x-python",
   "name": "python",
   "nbconvert_exporter": "python",
   "pygments_lexer": "ipython3",
   "version": "3.8.8"
  }
 },
 "nbformat": 4,
 "nbformat_minor": 5
}
